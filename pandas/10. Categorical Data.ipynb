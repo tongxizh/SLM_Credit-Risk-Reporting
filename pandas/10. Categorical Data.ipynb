{
 "cells": [
  {
   "cell_type": "code",
   "execution_count": 1,
   "id": "0d099a79",
   "metadata": {},
   "outputs": [
    {
     "name": "stdout",
     "output_type": "stream",
     "text": [
      "2.0.2\n"
     ]
    }
   ],
   "source": [
    "import pandas as pd\n",
    "import numpy as np\n",
    "print(pd.__version__)"
   ]
  },
  {
   "cell_type": "markdown",
   "id": "f17e7c76",
   "metadata": {},
   "source": [
    "Categorical data represents the classification or grouping of data based on certain attributes or phenomena. It is also known as qualitative or nominal data. In categorical data, the categories or groups have no inherent numerical relationship or difference.\n",
    "\n",
    "To facilitate computer processing, categorical data is often represented using numeric codes. For example, using 1 to represent \"male\" and 0 to represent \"female\". However, these numeric codes are just symbolic representations of the categories and do not imply any numerical relationships or differences between them.\n",
    "\n",
    "Categorical data is commonly used in various fields such as demographics, market research, and data analysis. It allows for the analysis and comparison of different groups or categories based on their qualitative attributes rather than numerical values."
   ]
  },
  {
   "cell_type": "markdown",
   "id": "a245f631",
   "metadata": {},
   "source": [
    "# Create Categorical Data\n",
    "Categorical data in pandas provides a more efficient and effective way to represent and manipulate data with discrete categories. It can be created in a Series or DataFrame column using various methods in pandas."
   ]
  },
  {
   "cell_type": "markdown",
   "id": "00a2eda1",
   "metadata": {},
   "source": [
    "## Series\n",
    "To create a categorical object for blood types, we can use the `dtype = \"category\"` parameter when creating a Series or assigning values to a column in a DataFrame."
   ]
  },
  {
   "cell_type": "code",
   "execution_count": 2,
   "id": "b8246dcb",
   "metadata": {},
   "outputs": [
    {
     "data": {
      "text/plain": [
       "0      A\n",
       "1     AB\n",
       "2    NaN\n",
       "3     AB\n",
       "4      O\n",
       "5      B\n",
       "Name: blood_type, dtype: category\n",
       "Categories (4, object): ['A', 'AB', 'B', 'O']"
      ]
     },
     "execution_count": 2,
     "metadata": {},
     "output_type": "execute_result"
    }
   ],
   "source": [
    "blood = pd.Series(data = [\"A\", \"AB\", np.nan, \"AB\", \"O\", \"B\"], name = \"blood_type\", dtype = \"category\")\n",
    "blood"
   ]
  },
  {
   "cell_type": "markdown",
   "id": "25125c8c",
   "metadata": {},
   "source": [
    "Use the `.astype('category')` method to convert a column or a Series to categorical data."
   ]
  },
  {
   "cell_type": "code",
   "execution_count": 3,
   "id": "ec4a8879",
   "metadata": {},
   "outputs": [
    {
     "data": {
      "text/plain": [
       "0      A\n",
       "1     AB\n",
       "2    NaN\n",
       "3     AB\n",
       "4      O\n",
       "5      B\n",
       "Name: blood_type, dtype: category\n",
       "Categories (4, object): ['A', 'AB', 'B', 'O']"
      ]
     },
     "execution_count": 3,
     "metadata": {},
     "output_type": "execute_result"
    }
   ],
   "source": [
    "blood = pd.Series(data = [\"A\", \"AB\", np.nan, \"AB\", \"O\", \"B\"], name = \"blood_type\")\n",
    "blood.astype('category')"
   ]
  },
  {
   "cell_type": "markdown",
   "id": "42c94088",
   "metadata": {},
   "source": [
    "In certain cases, pandas will automatically create categorical data types for columns when specific methods are applied\n",
    "* The `groupby()` method: When performing grouping operations using `groupby()`, pandas will automatically create categorical data types for the grouping columns.\n",
    "\n",
    "* The `cut()` function: When using the cut() function to bin numerical data into discrete intervals, pandas will create a categorical data type for the resulting bins.\n",
    "\n",
    "* The `value_counts()` method: When calling `value_counts()` on a column, pandas will return the frequency counts as well as create a categorical data type for the unique values."
   ]
  },
  {
   "cell_type": "code",
   "execution_count": 4,
   "id": "74e65a9b",
   "metadata": {},
   "outputs": [
    {
     "data": {
      "text/plain": [
       "0     Age below 21\n",
       "1    From 21 to 30\n",
       "2    From 31 to 40\n",
       "3     Age below 21\n",
       "4              NaN\n",
       "5    From 21 to 30\n",
       "6    From 31 to 40\n",
       "7    From 21 to 30\n",
       "Name: age, dtype: category\n",
       "Categories (4, object): ['Age below 21' < 'From 21 to 30' < 'From 31 to 40' < 'Above 41']"
      ]
     },
     "execution_count": 4,
     "metadata": {},
     "output_type": "execute_result"
    }
   ],
   "source": [
    "bins = [0,20,30,40,100]\n",
    "labels = ['Age below 21','From 21 to 30','From 31 to 40','Above 41']\n",
    "age = pd.Series([18, 30, 35, 18, np.nan, 30, 37, 25], name = 'age')\n",
    "pd.cut(age, bins = bins, labels = labels) "
   ]
  },
  {
   "cell_type": "markdown",
   "id": "447cfe8f",
   "metadata": {},
   "source": [
    "## `pd.Categorical`\n",
    " The `pandas.Categorical` class can be used to create a categorical data series in a DataFrame."
   ]
  },
  {
   "cell_type": "code",
   "execution_count": 5,
   "id": "3ad3d6e2",
   "metadata": {},
   "outputs": [
    {
     "data": {
      "text/plain": [
       "['A', 'AB', NaN, 'AB', 'O', 'B']\n",
       "Categories (4, object): ['A', 'AB', 'B', 'O']"
      ]
     },
     "execution_count": 5,
     "metadata": {},
     "output_type": "execute_result"
    }
   ],
   "source": [
    "pd.Categorical([\"A\", \"AB\", np.nan, \"AB\", \"O\", \"B\"])"
   ]
  },
  {
   "cell_type": "markdown",
   "id": "8576ba19",
   "metadata": {},
   "source": [
    "The `pd.Categorical` function can also handle missing values (`np.nan`) \n",
    "\n",
    "The resulting categorical series will include the missing value (`np.nan`) and display the categories accordingly."
   ]
  },
  {
   "cell_type": "code",
   "execution_count": 6,
   "id": "9032a229",
   "metadata": {},
   "outputs": [
    {
     "name": "stdout",
     "output_type": "stream",
     "text": [
      "['A', 'AB', NaN, 'AB', NaN, 'B']\n",
      "Categories (3, object): ['A', 'B', 'AB']\n"
     ]
    }
   ],
   "source": [
    "categories = pd.Categorical([\"A\", \"AB\", np.nan, \"AB\", \"O\", \"B\"], \n",
    "                            categories = [\"A\", \"B\", \"AB\"])\n",
    "\n",
    "print(categories)"
   ]
  },
  {
   "cell_type": "markdown",
   "id": "e3e433d4",
   "metadata": {},
   "source": [
    "## Dataframe"
   ]
  },
  {
   "cell_type": "code",
   "execution_count": 7,
   "id": "8fb8bbfc",
   "metadata": {},
   "outputs": [
    {
     "data": {
      "text/plain": [
       "blood    category\n",
       "sex      category\n",
       "dtype: object"
      ]
     },
     "execution_count": 7,
     "metadata": {},
     "output_type": "execute_result"
    }
   ],
   "source": [
    "data = {\n",
    "    \"blood\": [\"A\", \"AB\",\"AB\", \"O\", \"B\"],\n",
    "    'sex': ['Male', 'Male', 'Female', 'Male', 'Male']\n",
    "}\n",
    "user_info = pd.DataFrame(data, dtype = \"category\")\n",
    "user_info.dtypes"
   ]
  },
  {
   "cell_type": "code",
   "execution_count": 8,
   "id": "91e8b8d0",
   "metadata": {},
   "outputs": [
    {
     "name": "stdout",
     "output_type": "stream",
     "text": [
      "Name    category\n",
      "Age        int64\n",
      "City    category\n",
      "dtype: object\n"
     ]
    }
   ],
   "source": [
    "data = {\n",
    "    'Name': ['John', 'Alice', 'Bob'],\n",
    "    'Age': [25, 30, 35],\n",
    "    'City': ['New York', 'Paris', 'London']\n",
    "}\n",
    "\n",
    "df = pd.DataFrame(data)\n",
    "\n",
    "# Convert specific columns to categorical data type\n",
    "df[['Name', 'City']] = df[['Name', 'City']].astype('category')\n",
    "\n",
    "print(df.dtypes)"
   ]
  },
  {
   "cell_type": "markdown",
   "id": "f4160441",
   "metadata": {},
   "source": [
    "## `CategoricalDtype`\n",
    "`CategoricalDtype` is a pandas data type object that can be created with the following parameters:\n",
    "\n",
    "* `categories`: A sequence of unique values without missing values.\n",
    "\n",
    "* `ordered`: A boolean value indicating whether the categories have a meaningful order. By default, it is set to False, meaning the categories are unordered.\n",
    "\n",
    "`CategoricalDtype` is useful when you want to define the categories and order explicitly for a categorical data type column. It allows for better control and handling of categorical data in pandas."
   ]
  },
  {
   "cell_type": "code",
   "execution_count": 9,
   "id": "7a4d4732",
   "metadata": {},
   "outputs": [
    {
     "data": {
      "text/plain": [
       "CategoricalDtype(categories=['a', 'b', 'c'], ordered=False)"
      ]
     },
     "execution_count": 9,
     "metadata": {},
     "output_type": "execute_result"
    }
   ],
   "source": [
    "pd.CategoricalDtype(['a', 'b', 'c'])"
   ]
  },
  {
   "cell_type": "code",
   "execution_count": 10,
   "id": "a20d347d",
   "metadata": {},
   "outputs": [
    {
     "data": {
      "text/plain": [
       "CategoricalDtype(categories=['a', 'b', 'c'], ordered=True)"
      ]
     },
     "execution_count": 10,
     "metadata": {},
     "output_type": "execute_result"
    }
   ],
   "source": [
    "pd.CategoricalDtype(['a', 'b', 'c'], ordered = True)"
   ]
  },
  {
   "cell_type": "markdown",
   "id": "4e2685a6",
   "metadata": {},
   "source": [
    "`CategoricalDtype` can be specified in various places in pandas where you need to specify a data type, such as in `pandas.read_csv()`, `pandas.DataFrame.astype()`, or the Series constructor.\n",
    "\n",
    "For convenience, when you want the default behavior of categories to be unordered and equal to the values set in the array, you can use the string 'category' as a shorthand for `CategoricalDtype()`. In other words, `dtype = 'category'` is equivalent to `dtype = CategoricalDtype()`.\n",
    "\n",
    "When comparing two instances of `CategoricalDtype`, they are considered equal as long as they have the same categories and order. When comparing two unordered categories, the order of the categories is not considered."
   ]
  },
  {
   "cell_type": "markdown",
   "id": "b0750551",
   "metadata": {},
   "source": [
    "### Controlling Behavior \n",
    "\n",
    "We used `dtype ='category'` to specify the categorical data type. In that case:\n",
    "\n",
    "* The specific categories were inferred from the data.\n",
    "\n",
    "* The specific categorical data had no order.\n",
    "\n",
    "we can also use the `CategoricalDtype` instance to define categorical data and specify the order:"
   ]
  },
  {
   "cell_type": "code",
   "execution_count": 11,
   "id": "79673061",
   "metadata": {},
   "outputs": [
    {
     "data": {
      "text/plain": [
       "0    NaN\n",
       "1      b\n",
       "2      c\n",
       "3    NaN\n",
       "dtype: category\n",
       "Categories (3, object): ['b' < 'c' < 'd']"
      ]
     },
     "execution_count": 11,
     "metadata": {},
     "output_type": "execute_result"
    }
   ],
   "source": [
    "s = pd.Series([\"a\", \"b\", \"c\", \"a\"])\n",
    "cat_type = pd.CategoricalDtype(categories = [\"b\", \"c\", \"d\"], ordered = True)\n",
    "s_cat = s.astype(cat_type)\n",
    "s_cat"
   ]
  },
  {
   "cell_type": "markdown",
   "id": "3288ff1a",
   "metadata": {},
   "source": [
    "Similarly, `CategoricalDtype` can be used together with a DataFrame to ensure consistency of categories across all columns."
   ]
  },
  {
   "cell_type": "code",
   "execution_count": 12,
   "id": "a7374f11",
   "metadata": {},
   "outputs": [
    {
     "data": {
      "text/plain": [
       "0    a\n",
       "1    b\n",
       "2    c\n",
       "3    a\n",
       "Name: A, dtype: category\n",
       "Categories (4, object): ['a' < 'b' < 'c' < 'd']"
      ]
     },
     "execution_count": 12,
     "metadata": {},
     "output_type": "execute_result"
    }
   ],
   "source": [
    "df = pd.DataFrame({'A': list('abca'), 'B': list('bccd')})\n",
    "cat_type = pd.CategoricalDtype(categories = list('abcd'),\n",
    "                            ordered = True)\n",
    "df_cat = df.astype(cat_type)\n",
    "df_cat['A']"
   ]
  },
  {
   "cell_type": "markdown",
   "id": "9f4ddbfc",
   "metadata": {},
   "source": [
    "###  Retrieve the original Series\n",
    "If you want to retrieve the original Series or NumPy array, you can use `Series.astype`(original_dtype) or `np.asarray`(original_data):"
   ]
  },
  {
   "cell_type": "code",
   "execution_count": 13,
   "id": "92eef56c",
   "metadata": {},
   "outputs": [
    {
     "data": {
      "text/plain": [
       "0      A\n",
       "1     AB\n",
       "2    NaN\n",
       "3     AB\n",
       "4      O\n",
       "5      B\n",
       "dtype: category\n",
       "Categories (4, object): ['A', 'AB', 'B', 'O']"
      ]
     },
     "execution_count": 13,
     "metadata": {},
     "output_type": "execute_result"
    }
   ],
   "source": [
    "blood = pd.Series(data = [\"A\", \"AB\", np.nan, \"AB\", \"O\", \"B\"], dtype = \"category\")\n",
    "blood"
   ]
  },
  {
   "cell_type": "code",
   "execution_count": 14,
   "id": "21d8a26b",
   "metadata": {},
   "outputs": [
    {
     "data": {
      "text/plain": [
       "0      A\n",
       "1     AB\n",
       "2    nan\n",
       "3     AB\n",
       "4      O\n",
       "5      B\n",
       "dtype: object"
      ]
     },
     "execution_count": 14,
     "metadata": {},
     "output_type": "execute_result"
    }
   ],
   "source": [
    "blood.astype(str)"
   ]
  },
  {
   "cell_type": "code",
   "execution_count": 15,
   "id": "4c240622",
   "metadata": {},
   "outputs": [
    {
     "data": {
      "text/plain": [
       "array(['A', 'AB', nan, 'AB', 'O', 'B'], dtype=object)"
      ]
     },
     "execution_count": 15,
     "metadata": {},
     "output_type": "execute_result"
    }
   ],
   "source": [
    "np.asarray(blood)"
   ]
  },
  {
   "cell_type": "markdown",
   "id": "dba12cc9",
   "metadata": {},
   "source": [
    "# The Use of Categorical Data \n",
    "##  Categorical Data Structure\n",
    "A categorical variable consists of three components: the element values, the categories, and whether it is ordered or not. From the above, we can see that categorical variables created using the cat function are by default ordered categorical variables. Now let's explore the other attributes and methods available in cat for viewing and manipulating the Categorical data type.\n",
    "Here are some of the attributes and methods available in cat for working with Categorical data:"
   ]
  },
  {
   "cell_type": "code",
   "execution_count": 16,
   "id": "9f395ce4",
   "metadata": {},
   "outputs": [
    {
     "data": {
      "text/plain": [
       "['add_categories',\n",
       " 'as_ordered',\n",
       " 'as_unordered',\n",
       " 'categories',\n",
       " 'codes',\n",
       " 'ordered',\n",
       " 'remove_categories',\n",
       " 'remove_unused_categories',\n",
       " 'rename_categories',\n",
       " 'reorder_categories',\n",
       " 'set_categories']"
      ]
     },
     "execution_count": 16,
     "metadata": {},
     "output_type": "execute_result"
    }
   ],
   "source": [
    "[i for i in dir(blood.cat) if not i.startswith('_')]"
   ]
  },
  {
   "cell_type": "markdown",
   "id": "8477151b",
   "metadata": {},
   "source": [
    "### `describe()` method\n",
    "The `describe()` method provides a summary of a categorical series, including the count of non-missing values, the number of unique element values (not the number of categories), the most frequently occurring element and its frequency."
   ]
  },
  {
   "cell_type": "code",
   "execution_count": 17,
   "id": "7dd433ea",
   "metadata": {},
   "outputs": [
    {
     "data": {
      "text/plain": [
       "0      A\n",
       "1     AB\n",
       "2    NaN\n",
       "3     AB\n",
       "4      O\n",
       "5      B\n",
       "dtype: category\n",
       "Categories (4, object): ['A', 'AB', 'B', 'O']"
      ]
     },
     "execution_count": 17,
     "metadata": {},
     "output_type": "execute_result"
    }
   ],
   "source": [
    "blood"
   ]
  },
  {
   "cell_type": "code",
   "execution_count": 18,
   "id": "d93554e1",
   "metadata": {},
   "outputs": [
    {
     "data": {
      "text/plain": [
       "count      5\n",
       "unique     4\n",
       "top       AB\n",
       "freq       2\n",
       "dtype: object"
      ]
     },
     "execution_count": 18,
     "metadata": {},
     "output_type": "execute_result"
    }
   ],
   "source": [
    "blood.describe()"
   ]
  },
  {
   "cell_type": "markdown",
   "id": "3a6e0dde",
   "metadata": {},
   "source": [
    "### categories property\n",
    "To view the categories of a categorical series"
   ]
  },
  {
   "cell_type": "code",
   "execution_count": 19,
   "id": "775e9a8b",
   "metadata": {},
   "outputs": [
    {
     "data": {
      "text/plain": [
       "Index(['A', 'AB', 'B', 'O'], dtype='object')"
      ]
     },
     "execution_count": 19,
     "metadata": {},
     "output_type": "execute_result"
    }
   ],
   "source": [
    "blood.cat.categories"
   ]
  },
  {
   "cell_type": "markdown",
   "id": "794b887c",
   "metadata": {},
   "source": [
    "### ordered property \n",
    "To check if a categorical series is ordered"
   ]
  },
  {
   "cell_type": "code",
   "execution_count": 20,
   "id": "3ce27dbd",
   "metadata": {},
   "outputs": [
    {
     "data": {
      "text/plain": [
       "False"
      ]
     },
     "execution_count": 20,
     "metadata": {},
     "output_type": "execute_result"
    }
   ],
   "source": [
    "blood.cat.ordered"
   ]
  },
  {
   "cell_type": "markdown",
   "id": "dfe330f6",
   "metadata": {},
   "source": [
    "## Modify the categories\n",
    "### `set_categories`\n",
    "To modify the categories of a categorical series without changing its values, we can use the `set_categories` method. This method allows you to assign new categories to the categorical series while keeping the original values intact."
   ]
  },
  {
   "cell_type": "code",
   "execution_count": 21,
   "id": "2e88c74d",
   "metadata": {},
   "outputs": [
    {
     "data": {
      "text/plain": [
       "0      A\n",
       "1    NaN\n",
       "2    NaN\n",
       "3    NaN\n",
       "4      O\n",
       "5    NaN\n",
       "dtype: category\n",
       "Categories (3, object): ['RH', 'A', 'O']"
      ]
     },
     "execution_count": 21,
     "metadata": {},
     "output_type": "execute_result"
    }
   ],
   "source": [
    "blood.cat.set_categories(['RH', 'A', 'O'])"
   ]
  },
  {
   "cell_type": "markdown",
   "id": "272f937e",
   "metadata": {},
   "source": [
    "### `rename_categories`"
   ]
  },
  {
   "cell_type": "code",
   "execution_count": 22,
   "id": "dafe9e52",
   "metadata": {},
   "outputs": [
    {
     "data": {
      "text/plain": [
       "0     new_A\n",
       "1    new_AB\n",
       "2       NaN\n",
       "3    new_AB\n",
       "4     new_O\n",
       "5     new_B\n",
       "dtype: category\n",
       "Categories (4, object): ['new_A', 'new_AB', 'new_B', 'new_O']"
      ]
     },
     "execution_count": 22,
     "metadata": {},
     "output_type": "execute_result"
    }
   ],
   "source": [
    "blood.cat.rename_categories(['new_%s'%i for i in blood.cat.categories])"
   ]
  },
  {
   "cell_type": "code",
   "execution_count": 23,
   "id": "4cbd8319",
   "metadata": {},
   "outputs": [
    {
     "data": {
      "text/plain": [
       "0      a\n",
       "1     AB\n",
       "2    NaN\n",
       "3     AB\n",
       "4      O\n",
       "5      b\n",
       "dtype: category\n",
       "Categories (4, object): ['a', 'AB', 'b', 'O']"
      ]
     },
     "execution_count": 23,
     "metadata": {},
     "output_type": "execute_result"
    }
   ],
   "source": [
    "# using a dictionary\n",
    "blood.cat.rename_categories({\"A\": 'a', \"B\": 'b'})"
   ]
  },
  {
   "cell_type": "markdown",
   "id": "0c665309",
   "metadata": {},
   "source": [
    "## Add new categories\n",
    "### `add_categories()`"
   ]
  },
  {
   "cell_type": "code",
   "execution_count": 24,
   "id": "12c02633",
   "metadata": {},
   "outputs": [
    {
     "data": {
      "text/plain": [
       "0      A\n",
       "1     AB\n",
       "2    NaN\n",
       "3     AB\n",
       "4      O\n",
       "5      B\n",
       "dtype: category\n",
       "Categories (4, object): ['A', 'B', 'AB', 'O']"
      ]
     },
     "execution_count": 24,
     "metadata": {},
     "output_type": "execute_result"
    }
   ],
   "source": [
    "blood = pd.Series(data=pd.Categorical([\"A\", \"AB\", \"RH\", \"AB\", \"O\", \"B\"], categories=['A', 'B', 'AB', 'O']))\n",
    "blood"
   ]
  },
  {
   "cell_type": "code",
   "execution_count": 25,
   "id": "b1502dd7",
   "metadata": {},
   "outputs": [
    {
     "data": {
      "text/plain": [
       "0      A\n",
       "1     AB\n",
       "2    NaN\n",
       "3     AB\n",
       "4      O\n",
       "5      B\n",
       "dtype: category\n",
       "Categories (5, object): ['A', 'B', 'AB', 'O', 'RH']"
      ]
     },
     "execution_count": 25,
     "metadata": {},
     "output_type": "execute_result"
    }
   ],
   "source": [
    "blood.cat.add_categories(['RH'])"
   ]
  },
  {
   "cell_type": "markdown",
   "id": "e12502e6",
   "metadata": {},
   "source": [
    "## Delete the categories\n",
    "### `remove_categories`"
   ]
  },
  {
   "cell_type": "code",
   "execution_count": 26,
   "id": "5e64b804",
   "metadata": {},
   "outputs": [
    {
     "data": {
      "text/plain": [
       "0    NaN\n",
       "1     AB\n",
       "2    NaN\n",
       "3     AB\n",
       "4      O\n",
       "5      B\n",
       "dtype: category\n",
       "Categories (3, object): ['AB', 'B', 'O']"
      ]
     },
     "execution_count": 26,
     "metadata": {},
     "output_type": "execute_result"
    }
   ],
   "source": [
    "blood.cat.remove_categories(['A'])"
   ]
  },
  {
   "cell_type": "markdown",
   "id": "2107e5b6",
   "metadata": {},
   "source": [
    "### `remove_unused_categories()`\n",
    "To remove the categories that do not have any corresponding values in a categorical variable, we can use the `remove_unused_categories()` method"
   ]
  },
  {
   "cell_type": "code",
   "execution_count": 27,
   "id": "1854ce10",
   "metadata": {},
   "outputs": [
    {
     "data": {
      "text/plain": [
       "0    AB\n",
       "1    AB\n",
       "2     O\n",
       "3     B\n",
       "dtype: category\n",
       "Categories (4, object): ['A', 'B', 'AB', 'O']"
      ]
     },
     "execution_count": 27,
     "metadata": {},
     "output_type": "execute_result"
    }
   ],
   "source": [
    "blood = pd.Series(data = pd.Categorical([\"AB\", \"AB\", \"O\", \"B\"], categories = ['A', 'B', 'AB', 'O']))\n",
    "blood"
   ]
  },
  {
   "cell_type": "code",
   "execution_count": 28,
   "id": "eba47c69",
   "metadata": {},
   "outputs": [
    {
     "data": {
      "text/plain": [
       "0    AB\n",
       "1    AB\n",
       "2     O\n",
       "3     B\n",
       "dtype: category\n",
       "Categories (3, object): ['B', 'AB', 'O']"
      ]
     },
     "execution_count": 28,
     "metadata": {},
     "output_type": "execute_result"
    }
   ],
   "source": [
    "blood.cat.remove_unused_categories()"
   ]
  },
  {
   "cell_type": "markdown",
   "id": "72bf2627",
   "metadata": {},
   "source": [
    "## Order\n",
    "\n",
    "New categorical data is not automatically sorted. We must explicitly pass `ordered=True` to indicate ordered categories.\n",
    "\n"
   ]
  },
  {
   "cell_type": "code",
   "execution_count": 29,
   "id": "1da2c3d9",
   "metadata": {},
   "outputs": [
    {
     "data": {
      "text/plain": [
       "Index(['A', 'B', 'AB', 'O'], dtype='object')"
      ]
     },
     "execution_count": 29,
     "metadata": {},
     "output_type": "execute_result"
    }
   ],
   "source": [
    "# view the order of categories in categorical data\n",
    "blood = pd.Series(data = pd.Categorical([\"A\", \"AB\", \"RH\", \"AB\", \"O\", \"B\"], categories = ['A', 'B', 'AB', 'O']))\n",
    "blood.cat.categories"
   ]
  },
  {
   "cell_type": "code",
   "execution_count": 30,
   "id": "34b64ca2",
   "metadata": {},
   "outputs": [
    {
     "data": {
      "text/plain": [
       "False"
      ]
     },
     "execution_count": 30,
     "metadata": {},
     "output_type": "execute_result"
    }
   ],
   "source": [
    "blood.cat.ordered"
   ]
  },
  {
   "cell_type": "markdown",
   "id": "f280f998",
   "metadata": {},
   "source": [
    "### `as_ordered`\n",
    "When converting a sequence to an ordered variable, we can use the as_ordered method.\n"
   ]
  },
  {
   "cell_type": "code",
   "execution_count": 31,
   "id": "9e15291c",
   "metadata": {},
   "outputs": [
    {
     "data": {
      "text/plain": [
       "0      A\n",
       "1     AB\n",
       "2    NaN\n",
       "3     AB\n",
       "4      O\n",
       "5      B\n",
       "dtype: category\n",
       "Categories (4, object): ['A' < 'B' < 'AB' < 'O']"
      ]
     },
     "execution_count": 31,
     "metadata": {},
     "output_type": "execute_result"
    }
   ],
   "source": [
    " blood.cat.as_ordered()"
   ]
  },
  {
   "cell_type": "code",
   "execution_count": 32,
   "id": "f3140d01",
   "metadata": {},
   "outputs": [
    {
     "data": {
      "text/plain": [
       "True"
      ]
     },
     "execution_count": 32,
     "metadata": {},
     "output_type": "execute_result"
    }
   ],
   "source": [
    "blood.cat.as_ordered().cat.ordered"
   ]
  },
  {
   "cell_type": "code",
   "execution_count": 33,
   "id": "cfb74555",
   "metadata": {},
   "outputs": [
    {
     "data": {
      "text/plain": [
       "0      A\n",
       "1     AB\n",
       "2    NaN\n",
       "3     AB\n",
       "4      O\n",
       "5      B\n",
       "dtype: category\n",
       "Categories (4, object): ['A', 'B', 'AB', 'O']"
      ]
     },
     "execution_count": 33,
     "metadata": {},
     "output_type": "execute_result"
    }
   ],
   "source": [
    "blood.cat.as_ordered().cat.as_unordered()"
   ]
  },
  {
   "cell_type": "markdown",
   "id": "0be86981",
   "metadata": {},
   "source": [
    "### `set_categories`\n",
    "The `set_categories` method is used to set the categories of a categorical variable. It allows you to define the categories explicitly and specify their order if needed. This method modifies the categories of the categorical variable in-place."
   ]
  },
  {
   "cell_type": "code",
   "execution_count": 34,
   "id": "0b1d895f",
   "metadata": {},
   "outputs": [
    {
     "data": {
      "text/plain": [
       "0      A\n",
       "1    NaN\n",
       "2    NaN\n",
       "3    NaN\n",
       "4      O\n",
       "5    NaN\n",
       "dtype: category\n",
       "Categories (3, object): ['RH' < 'A' < 'O']"
      ]
     },
     "execution_count": 34,
     "metadata": {},
     "output_type": "execute_result"
    }
   ],
   "source": [
    "blood.cat.set_categories(['RH', 'A', 'O'], ordered = True) # remove category 'B'"
   ]
  },
  {
   "cell_type": "markdown",
   "id": "cc66fb92",
   "metadata": {},
   "source": [
    "### reorder_categories"
   ]
  },
  {
   "cell_type": "code",
   "execution_count": 35,
   "id": "60d976d7",
   "metadata": {},
   "outputs": [
    {
     "data": {
      "text/plain": [
       "0      A\n",
       "1     AB\n",
       "2    NaN\n",
       "3     AB\n",
       "4      O\n",
       "5      B\n",
       "dtype: category\n",
       "Categories (4, object): ['A', 'B', 'AB', 'O']"
      ]
     },
     "execution_count": 35,
     "metadata": {},
     "output_type": "execute_result"
    }
   ],
   "source": [
    "blood"
   ]
  },
  {
   "cell_type": "code",
   "execution_count": 36,
   "id": "de941d9c",
   "metadata": {},
   "outputs": [
    {
     "data": {
      "text/plain": [
       "0      A\n",
       "1     AB\n",
       "2    NaN\n",
       "3     AB\n",
       "4      O\n",
       "5      B\n",
       "dtype: category\n",
       "Categories (4, object): ['AB' < 'A' < 'B' < 'O']"
      ]
     },
     "execution_count": 36,
     "metadata": {},
     "output_type": "execute_result"
    }
   ],
   "source": [
    "blood.cat.reorder_categories(['AB', 'A', 'B', 'O'], ordered = True)"
   ]
  },
  {
   "cell_type": "markdown",
   "id": "181141be",
   "metadata": {},
   "source": [
    "## Sorting\n"
   ]
  },
  {
   "cell_type": "code",
   "execution_count": 37,
   "id": "30851ba9",
   "metadata": {},
   "outputs": [
    {
     "data": {
      "text/plain": [
       "0         bad\n",
       "1       awful\n",
       "2       awful\n",
       "3     perfect\n",
       "4        good\n",
       "5        good\n",
       "6        good\n",
       "7        fair\n",
       "8         bad\n",
       "9       awful\n",
       "10      awful\n",
       "11       fair\n",
       "12       fair\n",
       "13    perfect\n",
       "14    perfect\n",
       "dtype: category\n",
       "Categories (5, object): ['awful', 'bad', 'fair', 'good', 'perfect']"
      ]
     },
     "execution_count": 37,
     "metadata": {},
     "output_type": "execute_result"
    }
   ],
   "source": [
    "np.random.seed(1234)\n",
    "s = pd.Series(np.random.choice(['perfect','good','fair','bad','awful'],50)).astype('category')\n",
    "s.head(15)"
   ]
  },
  {
   "cell_type": "code",
   "execution_count": 38,
   "id": "e6531c82",
   "metadata": {},
   "outputs": [
    {
     "data": {
      "text/plain": [
       "0         bad\n",
       "1       awful\n",
       "2       awful\n",
       "3     perfect\n",
       "4        good\n",
       "5        good\n",
       "6        good\n",
       "7        fair\n",
       "8         bad\n",
       "9       awful\n",
       "10      awful\n",
       "11       fair\n",
       "12       fair\n",
       "13    perfect\n",
       "14    perfect\n",
       "dtype: category\n",
       "Categories (5, object): ['awful' < 'bad' < 'fair' < 'good' < 'perfect']"
      ]
     },
     "execution_count": 38,
     "metadata": {},
     "output_type": "execute_result"
    }
   ],
   "source": [
    "s1 = s.cat.set_categories(['perfect','good','fair','bad','awful'][::-1],ordered=True)\n",
    "s1.head(15)"
   ]
  },
  {
   "cell_type": "code",
   "execution_count": 39,
   "id": "8192caac",
   "metadata": {},
   "outputs": [
    {
     "data": {
      "text/plain": [
       "16    perfect\n",
       "13    perfect\n",
       "47    perfect\n",
       "3     perfect\n",
       "29    perfect\n",
       "dtype: category\n",
       "Categories (5, object): ['awful', 'bad', 'fair', 'good', 'perfect']"
      ]
     },
     "execution_count": 39,
     "metadata": {},
     "output_type": "execute_result"
    }
   ],
   "source": [
    "s.sort_values(ascending = False).head()"
   ]
  },
  {
   "cell_type": "code",
   "execution_count": 40,
   "id": "5fbce3fc",
   "metadata": {},
   "outputs": [
    {
     "data": {
      "text/html": [
       "<div>\n",
       "<style scoped>\n",
       "    .dataframe tbody tr th:only-of-type {\n",
       "        vertical-align: middle;\n",
       "    }\n",
       "\n",
       "    .dataframe tbody tr th {\n",
       "        vertical-align: top;\n",
       "    }\n",
       "\n",
       "    .dataframe thead th {\n",
       "        text-align: right;\n",
       "    }\n",
       "</style>\n",
       "<table border=\"1\" class=\"dataframe\">\n",
       "  <thead>\n",
       "    <tr style=\"text-align: right;\">\n",
       "      <th></th>\n",
       "      <th>value</th>\n",
       "    </tr>\n",
       "    <tr>\n",
       "      <th>cat</th>\n",
       "      <th></th>\n",
       "    </tr>\n",
       "  </thead>\n",
       "  <tbody>\n",
       "    <tr>\n",
       "      <th>bad</th>\n",
       "      <td>1.014849</td>\n",
       "    </tr>\n",
       "    <tr>\n",
       "      <th>awful</th>\n",
       "      <td>-0.557025</td>\n",
       "    </tr>\n",
       "    <tr>\n",
       "      <th>awful</th>\n",
       "      <td>-0.424606</td>\n",
       "    </tr>\n",
       "    <tr>\n",
       "      <th>perfect</th>\n",
       "      <td>0.137496</td>\n",
       "    </tr>\n",
       "    <tr>\n",
       "      <th>good</th>\n",
       "      <td>-0.070513</td>\n",
       "    </tr>\n",
       "  </tbody>\n",
       "</table>\n",
       "</div>"
      ],
      "text/plain": [
       "            value\n",
       "cat              \n",
       "bad      1.014849\n",
       "awful   -0.557025\n",
       "awful   -0.424606\n",
       "perfect  0.137496\n",
       "good    -0.070513"
      ]
     },
     "execution_count": 40,
     "metadata": {},
     "output_type": "execute_result"
    }
   ],
   "source": [
    "df_sort = pd.DataFrame({'cat':s.values,'value':np.random.randn(50)}).set_index('cat')\n",
    "df_sort.head()"
   ]
  },
  {
   "cell_type": "code",
   "execution_count": 41,
   "id": "81149429",
   "metadata": {},
   "outputs": [
    {
     "data": {
      "text/html": [
       "<div>\n",
       "<style scoped>\n",
       "    .dataframe tbody tr th:only-of-type {\n",
       "        vertical-align: middle;\n",
       "    }\n",
       "\n",
       "    .dataframe tbody tr th {\n",
       "        vertical-align: top;\n",
       "    }\n",
       "\n",
       "    .dataframe thead th {\n",
       "        text-align: right;\n",
       "    }\n",
       "</style>\n",
       "<table border=\"1\" class=\"dataframe\">\n",
       "  <thead>\n",
       "    <tr style=\"text-align: right;\">\n",
       "      <th></th>\n",
       "      <th>value</th>\n",
       "    </tr>\n",
       "    <tr>\n",
       "      <th>cat</th>\n",
       "      <th></th>\n",
       "    </tr>\n",
       "  </thead>\n",
       "  <tbody>\n",
       "    <tr>\n",
       "      <th>awful</th>\n",
       "      <td>0.231711</td>\n",
       "    </tr>\n",
       "    <tr>\n",
       "      <th>awful</th>\n",
       "      <td>-0.642475</td>\n",
       "    </tr>\n",
       "    <tr>\n",
       "      <th>awful</th>\n",
       "      <td>1.804172</td>\n",
       "    </tr>\n",
       "    <tr>\n",
       "      <th>awful</th>\n",
       "      <td>0.571988</td>\n",
       "    </tr>\n",
       "    <tr>\n",
       "      <th>awful</th>\n",
       "      <td>1.413138</td>\n",
       "    </tr>\n",
       "  </tbody>\n",
       "</table>\n",
       "</div>"
      ],
      "text/plain": [
       "          value\n",
       "cat            \n",
       "awful  0.231711\n",
       "awful -0.642475\n",
       "awful  1.804172\n",
       "awful  0.571988\n",
       "awful  1.413138"
      ]
     },
     "execution_count": 41,
     "metadata": {},
     "output_type": "execute_result"
    }
   ],
   "source": [
    "df_sort.sort_index().head()"
   ]
  },
  {
   "cell_type": "markdown",
   "id": "2b13528f",
   "metadata": {},
   "source": [
    "## Comparisons\n",
    "In the following three cases, categorical data can be compared with other objects:\n",
    "\n",
    "* Equality (== and !=) with objects that have the same length as the categorical data (e.g., lists, sequences, arrays).\n",
    "* All comparisons (==, !=, >, >=, <, <=) between categorical data and another categorical series when ordered == True and the categories are the same.\n",
    "* All comparisons between categorical data and a scalar value.\n",
    "All other comparisons, especially \"non-equality\" comparisons between categorical data with different categories or with any list-like object, such as Series, `np.array`, or `lists`, will raise a `TypeError`. This is because the interpretation of the custom category order can be different depending on whether sorting is considered or not.\n",
    "\n",
    "Attempting to compare categorical data with objects that have different categories or sorting, including Series, `np.array`, lists, or categorical data, will result in a `TypeError`."
   ]
  },
  {
   "cell_type": "markdown",
   "id": "edd119d3",
   "metadata": {},
   "source": [
    "### Compared with scalar values or objects \n",
    "compared with scalar values or objects that have the same length as the categorical data (e.g., lists, sequences, arrays)."
   ]
  },
  {
   "cell_type": "code",
   "execution_count": 42,
   "id": "3f31d0d4",
   "metadata": {},
   "outputs": [
    {
     "data": {
      "text/plain": [
       "0     True\n",
       "1    False\n",
       "2    False\n",
       "3     True\n",
       "dtype: bool"
      ]
     },
     "execution_count": 42,
     "metadata": {},
     "output_type": "execute_result"
    }
   ],
   "source": [
    "s = pd.Series([\"a\", \"d\", \"c\", \"a\"]).astype('category')\n",
    "s == 'a'"
   ]
  },
  {
   "cell_type": "code",
   "execution_count": 43,
   "id": "4b1ec3f5",
   "metadata": {},
   "outputs": [
    {
     "data": {
      "text/plain": [
       "0     True\n",
       "1    False\n",
       "2     True\n",
       "3    False\n",
       "dtype: bool"
      ]
     },
     "execution_count": 43,
     "metadata": {},
     "output_type": "execute_result"
    }
   ],
   "source": [
    "s == list('abcd')"
   ]
  },
  {
   "cell_type": "markdown",
   "id": "d411d5a0",
   "metadata": {},
   "source": [
    "### Comparing two categorical variables\n",
    "\n",
    "several conditions need to be met:\n",
    "\n",
    "* Both categorical variables must have the same categories.\n",
    "* The categories must be in the same order (if the variables are ordered).\n",
    "* If the variables are ordered, the ordered parameter must be set to True.\n",
    "\n",
    "The comparison operations that can be used between two categorical variables include equality (==) and inequality (!=), as well as greater than (>), greater than or equal to (>=), less than (<), and less than or equal to (<=)."
   ]
  },
  {
   "cell_type": "code",
   "execution_count": 44,
   "id": "11be3d3c",
   "metadata": {},
   "outputs": [
    {
     "name": "stdout",
     "output_type": "stream",
     "text": [
      "[False  True  True]\n",
      "[ True False False]\n",
      "[False False False]\n",
      "[False  True  True]\n",
      "[ True False False]\n",
      "[ True  True  True]\n"
     ]
    }
   ],
   "source": [
    "categories1 = pd.Categorical(['A', 'B', 'C'], categories = ['A', 'B', 'C'], ordered = True)\n",
    "categories2 = pd.Categorical(['B', 'B', 'C'], categories = ['A', 'B', 'C'], ordered = True)\n",
    "\n",
    "\n",
    "print(categories1 == categories2)  \n",
    "print(categories1 != categories2)  \n",
    "print(categories1 > categories2)  \n",
    "print(categories1 >= categories2) \n",
    "print(categories1 < categories2)   \n",
    "print(categories1 <= categories2) "
   ]
  },
  {
   "cell_type": "markdown",
   "id": "c1630ad5",
   "metadata": {},
   "source": [
    "# Why categorical variable?\n",
    "\n",
    "\n",
    "The use of categorical data offers several advantages over other data types, especially when dealing with large datasets. Here are some reasons why categorical data is beneficial:\n",
    "\n",
    "* **Reduced memory usage**: Categorical data is represented as integers internally, where each unique category is mapped to a unique integer. This mapping significantly reduces the memory footprint compared to using object data types, where each category is stored as a string. The memory usage of categorical data is proportional to the number of unique categories, rather than the length of the data.\n",
    "\n",
    "* **Faster performance**: The reduced memory usage of categorical data leads to improved performance in terms of computation and memory operations. With smaller memory requirements, it allows for faster data access, manipulation, and analysis. This is particularly advantageous when working with large datasets or performing repetitive operations.\n",
    "\n",
    "* **Improved functionality**: Categorical data has built-in functionality specifically designed for categorical variables. This includes methods for sorting, ordering, and comparing categories, as well as handling missing values in a consistent manner. Categorical data also supports efficient groupby operations and facilitates data analysis and exploration.\n",
    "\n",
    "* **Encoding and storage efficiency**: Categorical data can be efficiently encoded and stored in various formats, such as in database systems or when exporting data to different file formats. Categorical data can be easily serialized and deserialized without losing the categorical information.\n",
    "\n",
    "Overall, the use of categorical data helps optimize memory usage, enhances computational efficiency, and provides specialized functionality for handling categorical variables. It is particularly useful when working with large datasets or when memory constraints are a concern.\n"
   ]
  },
  {
   "cell_type": "code",
   "execution_count": null,
   "id": "09a4781d",
   "metadata": {},
   "outputs": [],
   "source": []
  }
 ],
 "metadata": {
  "kernelspec": {
   "display_name": "Python 3 (ipykernel)",
   "language": "python",
   "name": "python3"
  },
  "language_info": {
   "codemirror_mode": {
    "name": "ipython",
    "version": 3
   },
   "file_extension": ".py",
   "mimetype": "text/x-python",
   "name": "python",
   "nbconvert_exporter": "python",
   "pygments_lexer": "ipython3",
   "version": "3.10.7"
  },
  "toc": {
   "base_numbering": 1,
   "nav_menu": {},
   "number_sections": true,
   "sideBar": true,
   "skip_h1_title": false,
   "title_cell": "Table of Contents",
   "title_sidebar": "Contents",
   "toc_cell": false,
   "toc_position": {},
   "toc_section_display": true,
   "toc_window_display": true
  }
 },
 "nbformat": 4,
 "nbformat_minor": 5
}
