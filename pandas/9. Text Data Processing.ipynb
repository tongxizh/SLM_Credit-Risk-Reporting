{
 "cells": [
  {
   "cell_type": "code",
   "execution_count": 1,
   "id": "a9773e39",
   "metadata": {},
   "outputs": [
    {
     "name": "stdout",
     "output_type": "stream",
     "text": [
      "2.0.2\n"
     ]
    }
   ],
   "source": [
    "import pandas as pd \n",
    "import numpy as np\n",
    "print(pd.__version__)"
   ]
  },
  {
   "cell_type": "markdown",
   "id": "6968673d",
   "metadata": {},
   "source": [
    "As a powerful data processing and analysis tool, one of the reasons why pandas is widely used is its convenient interfaces for various common data types. By modifying the specific method names for different data types, pandas maintains a consistent and easy-to-use calling style, ensuring its ease of learning, usability, flexibility, and extensibility"
   ]
  },
  {
   "cell_type": "markdown",
   "id": "3c24d83e",
   "metadata": {},
   "source": [
    "# Text data type\n",
    "\n",
    "In pandas, there are two data types commonly used for representing text data: `object` and `StringDtype`. The object data type is the default type for columns containing strings in pandas and is compatible with a wide range of data. On the other hand, the `StringDtype` is a specific data type introduced in pandas 1.0 for representing strings."
   ]
  },
  {
   "cell_type": "markdown",
   "id": "33b91d01",
   "metadata": {},
   "source": [
    "## `object`\n",
    "By default, when we load or create a DataFrame in pandas, columns containing text data are inferred as the object data type."
   ]
  },
  {
   "cell_type": "code",
   "execution_count": 2,
   "id": "dc141351",
   "metadata": {},
   "outputs": [
    {
     "data": {
      "text/plain": [
       "0         Kevin Durant\n",
       "1          Luka Doncic\n",
       "2         Jayson Tatum\n",
       "3         James Harden\n",
       "4        Stephen Curry\n",
       "5    Russell Westbrook\n",
       "Name: NBA players, dtype: object"
      ]
     },
     "execution_count": 2,
     "metadata": {},
     "output_type": "execute_result"
    }
   ],
   "source": [
    "pd.Series(data = [\"Kevin Durant\", \"Luka Doncic\", \"Jayson Tatum\", \n",
    "                  \"James Harden\", \"Stephen Curry\", \"Russell Westbrook\"], name = \"NBA players\")"
   ]
  },
  {
   "cell_type": "markdown",
   "id": "c27b5abe",
   "metadata": {},
   "source": [
    "## `string`"
   ]
  },
  {
   "cell_type": "code",
   "execution_count": 3,
   "id": "dd981ec4",
   "metadata": {},
   "outputs": [
    {
     "data": {
      "text/plain": [
       "0         Kevin Durant\n",
       "1          Luka Doncic\n",
       "2         Jayson Tatum\n",
       "3         James Harden\n",
       "4        Stephen Curry\n",
       "5    Russell Westbrook\n",
       "Name: NBA players, dtype: string"
      ]
     },
     "execution_count": 3,
     "metadata": {},
     "output_type": "execute_result"
    }
   ],
   "source": [
    "pd.Series(data = [\"Kevin Durant\", \"Luka Doncic\", \"Jayson Tatum\", \n",
    "                  \"James Harden\", \"Stephen Curry\", \"Russell Westbrook\"], name = \"NBA players\",\n",
    "         dtype = pd.StringDtype())"
   ]
  },
  {
   "cell_type": "markdown",
   "id": "3bbe727c",
   "metadata": {},
   "source": [
    "## Type Conversion"
   ]
  },
  {
   "cell_type": "code",
   "execution_count": 4,
   "id": "077f0c71",
   "metadata": {},
   "outputs": [
    {
     "data": {
      "text/plain": [
       "0         Kevin Durant\n",
       "1          Luka Doncic\n",
       "2         Jayson Tatum\n",
       "3         James Harden\n",
       "4        Stephen Curry\n",
       "5    Russell Westbrook\n",
       "dtype: string"
      ]
     },
     "execution_count": 4,
     "metadata": {},
     "output_type": "execute_result"
    }
   ],
   "source": [
    "pd.Series(data = [\"Kevin Durant\", \"Luka Doncic\", \"Jayson Tatum\", \n",
    "                  \"James Harden\", \"Stephen Curry\", \"Russell Westbrook\"]).astype('string')"
   ]
  },
  {
   "cell_type": "code",
   "execution_count": 5,
   "id": "ac0b5ad5",
   "metadata": {},
   "outputs": [
    {
     "data": {
      "text/plain": [
       "0         Kevin Durant\n",
       "1          Luka Doncic\n",
       "2         Jayson Tatum\n",
       "3         James Harden\n",
       "4        Stephen Curry\n",
       "5    Russell Westbrook\n",
       "dtype: object"
      ]
     },
     "execution_count": 5,
     "metadata": {},
     "output_type": "execute_result"
    }
   ],
   "source": [
    "pd.Series(data = [\"Kevin Durant\", \"Luka Doncic\", \"Jayson Tatum\", \n",
    "                  \"James Harden\", \"Stephen Curry\", \"Russell Westbrook\"], dtype = 'string').astype('object')"
   ]
  },
  {
   "cell_type": "markdown",
   "id": "e97e11ed",
   "metadata": {},
   "source": [
    "## String operations\n",
    "In pandas, both Series and Index objects provide a set of string processing methods that allow for convenient operations on text data. These methods are accessible through the `.str accessor.`\n",
    "\n",
    "By using the `.str accessor`, we can apply string operations to each element in a Series or Index objec"
   ]
  },
  {
   "cell_type": "code",
   "execution_count": 6,
   "id": "2fd27b0c",
   "metadata": {},
   "outputs": [
    {
     "data": {
      "text/plain": [
       "0         kevin durant\n",
       "1          luka doncic\n",
       "2         jayson tatum\n",
       "3         james harden\n",
       "4        stephen curry\n",
       "5    russell westbrook\n",
       "dtype: object"
      ]
     },
     "execution_count": 6,
     "metadata": {},
     "output_type": "execute_result"
    }
   ],
   "source": [
    "pd.Series(data = [\"Kevin Durant\", \"Luka Doncic\", \"Jayson Tatum\", \n",
    "                  \"James Harden\", \"Stephen Curry\", \"Russell Westbrook\"]).map(lambda x: x.lower())"
   ]
  },
  {
   "cell_type": "code",
   "execution_count": 7,
   "id": "9ea2461b",
   "metadata": {},
   "outputs": [
    {
     "data": {
      "text/plain": [
       "0         kevin durant\n",
       "1          luka doncic\n",
       "2         jayson tatum\n",
       "3         james harden\n",
       "4        stephen curry\n",
       "5    russell westbrook\n",
       "dtype: object"
      ]
     },
     "execution_count": 7,
     "metadata": {},
     "output_type": "execute_result"
    }
   ],
   "source": [
    "# str.accessor method\n",
    "pd.Series(data = [\"Kevin Durant\", \"Luka Doncic\", \"Jayson Tatum\", \n",
    "                  \"James Harden\", \"Stephen Curry\", \"Russell Westbrook\"]).str.lower()"
   ]
  },
  {
   "cell_type": "code",
   "execution_count": 8,
   "id": "67c92f0c",
   "metadata": {},
   "outputs": [
    {
     "data": {
      "text/plain": [
       "0    12\n",
       "1    11\n",
       "2    12\n",
       "3    12\n",
       "4    13\n",
       "5    17\n",
       "dtype: int64"
      ]
     },
     "execution_count": 8,
     "metadata": {},
     "output_type": "execute_result"
    }
   ],
   "source": [
    "pd.Series(data = [\"Kevin Durant\", \"Luka Doncic\", \"Jayson Tatum\", \n",
    "                  \"James Harden\", \"Stephen Curry\", \"Russell Westbrook\"]).str.len()"
   ]
  },
  {
   "cell_type": "code",
   "execution_count": 9,
   "id": "5bea3431",
   "metadata": {},
   "outputs": [
    {
     "data": {
      "text/plain": [
       "0         Kevin_Durant\n",
       "1          Luka_Doncic\n",
       "2         Jayson_Tatum\n",
       "3         James_Harden\n",
       "4        Stephen_Curry\n",
       "5    Russell_Westbrook\n",
       "dtype: object"
      ]
     },
     "execution_count": 9,
     "metadata": {},
     "output_type": "execute_result"
    }
   ],
   "source": [
    "pd.Series(data = [\"Kevin Durant\", \"Luka Doncic\", \"Jayson Tatum\", \n",
    "                  \"James Harden\", \"Stephen Curry\", \"Russell Westbrook\"]).str.replace(' ', '_')"
   ]
  },
  {
   "cell_type": "code",
   "execution_count": 10,
   "id": "c254aab6",
   "metadata": {},
   "outputs": [
    {
     "data": {
      "text/plain": [
       "0     True\n",
       "1    False\n",
       "2    False\n",
       "3    False\n",
       "4    False\n",
       "5    False\n",
       "dtype: bool"
      ]
     },
     "execution_count": 10,
     "metadata": {},
     "output_type": "execute_result"
    }
   ],
   "source": [
    "NBA_players = pd.Series(data = [\"Kevin Durant\", \"Luka Doncic\", \"Jayson Tatum\", \n",
    "                  \"James Harden\", \"Stephen Curry\", \"Russell Westbrook\"])\n",
    "NBA_players.str.contains('Kevin') # return boolean values "
   ]
  },
  {
   "cell_type": "code",
   "execution_count": 11,
   "id": "80ac55db",
   "metadata": {},
   "outputs": [
    {
     "data": {
      "text/plain": [
       "0    Kevin Durant\n",
       "dtype: object"
      ]
     },
     "execution_count": 11,
     "metadata": {},
     "output_type": "execute_result"
    }
   ],
   "source": [
    "NBA_players[NBA_players.str.contains('Kevin')] "
   ]
  },
  {
   "cell_type": "markdown",
   "id": "9078256c",
   "metadata": {},
   "source": [
    "## Differences between `object` and `string`"
   ]
  },
  {
   "cell_type": "markdown",
   "id": "7577e95d",
   "metadata": {},
   "source": [
    "There are three main differences between the string type (`StringDtype`) and the `object` type in Pandas:\n",
    "\n",
    "* **`Nullable Type`**: String `accessor` methods (e.g., `str.count`) return a nullable type when applied to string type data, while object type data may change the return type depending on the presence of missing values. The nullable type (pd.NA) allows for more accurate representation of missing or null values in string data.\n",
    "\n",
    "* **Compatibility with String Methods**: Some Series methods that are specific to strings cannot be directly applied to object type data. For example, the `Series.str.decode()` method is only applicable to string type data, as it operates on the actual string values rather than bytes.\n",
    "\n",
    "* **Missing Values Handling**: When dealing with missing values, the string type handles them differently from the object type. In the string type, missing values are represented as `pd.NA`, while in the object type, missing values are typically represented as `np.nan`, which is a floating-point value.\n",
    "\n",
    "In general, it is recommended to use the string type (`StringDtype`) for working with string data in Pandas, as it provides better handling of missing values and supports a wider range of string-specific operations. "
   ]
  },
  {
   "cell_type": "code",
   "execution_count": 12,
   "id": "f666e78d",
   "metadata": {},
   "outputs": [
    {
     "data": {
      "text/plain": [
       "0    0.0\n",
       "1    0.0\n",
       "2    NaN\n",
       "3    0.0\n",
       "4    0.0\n",
       "5    0.0\n",
       "6    0.0\n",
       "dtype: float64"
      ]
     },
     "execution_count": 12,
     "metadata": {},
     "output_type": "execute_result"
    }
   ],
   "source": [
    "# float 64\n",
    "pd.Series(data = [\"Kevin Durant\", \"Luka Doncic\", None, \"Jayson Tatum\", \n",
    "                  \"James Harden\", \"Stephen Curry\", \"Russell Westbrook\"]).str.count('A')"
   ]
  },
  {
   "cell_type": "code",
   "execution_count": 13,
   "id": "805b9f4e",
   "metadata": {},
   "outputs": [
    {
     "data": {
      "text/plain": [
       "0       0\n",
       "1       0\n",
       "2    <NA>\n",
       "3       0\n",
       "4       0\n",
       "5       0\n",
       "6       0\n",
       "dtype: Int64"
      ]
     },
     "execution_count": 13,
     "metadata": {},
     "output_type": "execute_result"
    }
   ],
   "source": [
    "# Int64 \n",
    "pd.Series(data = [\"Kevin Durant\", \"Luka Doncic\", None, \"Jayson Tatum\", \n",
    "                  \"James Harden\", \"Stephen Curry\", \"Russell Westbrook\"],\n",
    "         dtype = pd.StringDtype()).str.count('A')"
   ]
  },
  {
   "cell_type": "code",
   "execution_count": 14,
   "id": "a5eacdd4",
   "metadata": {},
   "outputs": [
    {
     "data": {
      "text/plain": [
       "0    False\n",
       "1    False\n",
       "2     None\n",
       "3    False\n",
       "4    False\n",
       "5    False\n",
       "6    False\n",
       "dtype: object"
      ]
     },
     "execution_count": 14,
     "metadata": {},
     "output_type": "execute_result"
    }
   ],
   "source": [
    "pd.Series(data = [\"Kevin Durant\", \"Luka Doncic\", None, \"Jayson Tatum\", \n",
    "                  \"James Harden\", \"Stephen Curry\", \"Russell Westbrook\"]).str.isdigit()"
   ]
  },
  {
   "cell_type": "code",
   "execution_count": 15,
   "id": "2fd29115",
   "metadata": {},
   "outputs": [
    {
     "data": {
      "text/plain": [
       "0    False\n",
       "1    False\n",
       "2     <NA>\n",
       "3    False\n",
       "4    False\n",
       "5    False\n",
       "6    False\n",
       "dtype: boolean"
      ]
     },
     "execution_count": 15,
     "metadata": {},
     "output_type": "execute_result"
    }
   ],
   "source": [
    "pd.Series(data = [\"Kevin Durant\", \"Luka Doncic\", None, \"Jayson Tatum\", \n",
    "                  \"James Harden\", \"Stephen Curry\", \"Russell Westbrook\"],\n",
    "         dtype = pd.StringDtype()).str.isdigit()"
   ]
  },
  {
   "cell_type": "markdown",
   "id": "2e4ba3e9",
   "metadata": {},
   "source": [
    "# Text processing methods\n",
    "\n",
    "\n",
    "* `cat()`: Concatenate strings together.\n",
    "* `split()`: Split strings based on a delimiter.\n",
    "* `rsplit()`: Split strings from the end.\n",
    "* `get()`: Index into each element to retrieve the `ith` element.\n",
    "* `join()`: Join elements of a series with a separator.\n",
    "* `get_dummies()`: Split strings on a delimiter and return a DataFrame of dummy variables.\n",
    "* `contains()`: Return a boolean array indicating if each string contains a pattern or regex.\n",
    "* `replace()`: Replace occurrences of a pattern or regex with another value.\n",
    "* `repeat()`: Repeat values (equivalent to x * 3).\n",
    "* `pad()`: Pad strings with whitespace on the left, right, or both sides.\n",
    "* `center()`, `ljust()`, `rjust()`, `zfill()`: Similar to their string counterparts.\n",
    "* `wrap()`: Split long strings into lines of a given width.\n",
    "* `slice()`: Split each string in a Series into substrings.\n",
    "* `slice_replace()`: Replace a slice of each string with a specified value.\n",
    "* `count()`: Count occurrences of a pattern.\n",
    "* `startswith()`, `endswith()`: Check if each element starts or ends with a specified substring.\n",
    "* `findall()`: Find all occurrences of patterns/regex in each string.\n",
    "* `match()`: Call re.match on each element and return the matched groups as a list.\n",
    "* `extract()`: Call re.search on each element and return a DataFrame with one row per element and one column per captured group of each regex.\n",
    "* `extractall()`: Call `re.findall` on each element and return a DataFrame with one row per match and one column per captured group of each regex.\n",
    "* `len()`: Compute the length of each string.\n",
    "* `strip()`, `rstrip()`, `lstrip()`: Remove leading and trailing whitespace.\n",
    "* `partition()`, `rpartition()`: Equivalent to their string counterparts.\n",
    "* `lower()`, `upper()`, `find()`, `rfind()`, `index()`, `rindex()`: Equivalent to their string counterparts.\n",
    "* `capitalize()`, `swapcase()`, `normalize()`, `translate()`: Similar to their string counterparts.\n",
    "* `isalnum()`, `isalpha()`, `isdigit()`, `isspace()`, `islower()`, `isupper()`, `istitle()`, `isnumeric()`, `isdecimal()`: Check specific characteristics of each string.\n"
   ]
  },
  {
   "cell_type": "code",
   "execution_count": 16,
   "id": "c525a1c0",
   "metadata": {},
   "outputs": [
    {
     "data": {
      "text/html": [
       "<div>\n",
       "<style scoped>\n",
       "    .dataframe tbody tr th:only-of-type {\n",
       "        vertical-align: middle;\n",
       "    }\n",
       "\n",
       "    .dataframe tbody tr th {\n",
       "        vertical-align: top;\n",
       "    }\n",
       "\n",
       "    .dataframe thead th {\n",
       "        text-align: right;\n",
       "    }\n",
       "</style>\n",
       "<table border=\"1\" class=\"dataframe\">\n",
       "  <thead>\n",
       "    <tr style=\"text-align: right;\">\n",
       "      <th></th>\n",
       "      <th>name</th>\n",
       "      <th>city</th>\n",
       "      <th>hobby</th>\n",
       "      <th>birth</th>\n",
       "    </tr>\n",
       "  </thead>\n",
       "  <tbody>\n",
       "    <tr>\n",
       "      <th>0</th>\n",
       "      <td>Tom</td>\n",
       "      <td>New York</td>\n",
       "      <td>Badminton;Table tennis</td>\n",
       "      <td>2000-02-10</td>\n",
       "    </tr>\n",
       "    <tr>\n",
       "      <th>1</th>\n",
       "      <td>Bob</td>\n",
       "      <td>Los Angeles</td>\n",
       "      <td>Baseball;American football</td>\n",
       "      <td>1988-10-17</td>\n",
       "    </tr>\n",
       "    <tr>\n",
       "      <th>2</th>\n",
       "      <td>Mary</td>\n",
       "      <td>Chicago</td>\n",
       "      <td>Dancing</td>\n",
       "      <td>2000-01-01</td>\n",
       "    </tr>\n",
       "    <tr>\n",
       "      <th>3</th>\n",
       "      <td>James</td>\n",
       "      <td>Houston</td>\n",
       "      <td>Drawing;Singing</td>\n",
       "      <td>1978-08-08</td>\n",
       "    </tr>\n",
       "    <tr>\n",
       "      <th>4</th>\n",
       "      <td>Eric</td>\n",
       "      <td>Phoenix</td>\n",
       "      <td>Swimming;Skiing</td>\n",
       "      <td>2008-08-08</td>\n",
       "    </tr>\n",
       "    <tr>\n",
       "      <th>5</th>\n",
       "      <td>Alice</td>\n",
       "      <td>Philadelphia</td>\n",
       "      <td>Running;Basketball</td>\n",
       "      <td>1988-10-17</td>\n",
       "    </tr>\n",
       "  </tbody>\n",
       "</table>\n",
       "</div>"
      ],
      "text/plain": [
       "    name          city                       hobby       birth\n",
       "0    Tom      New York      Badminton;Table tennis  2000-02-10\n",
       "1    Bob   Los Angeles  Baseball;American football  1988-10-17\n",
       "2   Mary       Chicago                     Dancing  2000-01-01\n",
       "3  James       Houston             Drawing;Singing  1978-08-08\n",
       "4   Eric       Phoenix             Swimming;Skiing  2008-08-08\n",
       "5  Alice  Philadelphia          Running;Basketball  1988-10-17"
      ]
     },
     "execution_count": 16,
     "metadata": {},
     "output_type": "execute_result"
    }
   ],
   "source": [
    "data = {\n",
    "    \"name\": [\"Tom\", \"Bob\", \"Mary\", \"James\", \"Eric\", \"Alice\"],\n",
    "    \"city\": [\"New York\", \"Los Angeles\", \"Chicago\", \"Houston\", \"Phoenix\", \"Philadelphia\"],\n",
    "    \"hobby\": ['Badminton;Table tennis', 'Baseball;American football', 'Dancing', 'Drawing;Singing', 'Swimming;Skiing', 'Running;Basketball'],\n",
    "    \"birth\": [\"2000-02-10\", \"1988-10-17\", \"2000-01-01\", \"1978-08-08\", \"2008-08-08\", \"1988-10-17\"]\n",
    "}\n",
    "user_info = pd.DataFrame(data)\n",
    "user_info"
   ]
  },
  {
   "cell_type": "markdown",
   "id": "68075bbe",
   "metadata": {},
   "source": [
    "## Split the text\n",
    "Splitting and replacing text are commonly used text processing techniques. When we split text, it generates a list, and we can use slicing operations on the list to extract the desired content. After splitting, we can also expand the split content to form separate rows.\n",
    "### `str.split`"
   ]
  },
  {
   "cell_type": "code",
   "execution_count": 17,
   "id": "fddd57b5",
   "metadata": {},
   "outputs": [
    {
     "data": {
      "text/plain": [
       "0    [2000, 02, 10]\n",
       "1    [1988, 10, 17]\n",
       "2    [2000, 01, 01]\n",
       "3    [1978, 08, 08]\n",
       "4    [2008, 08, 08]\n",
       "5    [1988, 10, 17]\n",
       "Name: birth, dtype: object"
      ]
     },
     "execution_count": 17,
     "metadata": {},
     "output_type": "execute_result"
    }
   ],
   "source": [
    "user_info.birth.str.split('-')"
   ]
  },
  {
   "cell_type": "markdown",
   "id": "e570402f",
   "metadata": {},
   "source": [
    "After splitting, the data type of the column becomes object because it contains lists instead of strings. The `str accessor` methods can still be used on elements within the column. If a cell contains a list, `str[i]` can be used to access the `i-th` element. If a cell contains a single element, it needs to be converted to a list before accessing the element."
   ]
  },
  {
   "cell_type": "code",
   "execution_count": 18,
   "id": "c3bea60d",
   "metadata": {},
   "outputs": [
    {
     "data": {
      "text/plain": [
       "0    2000\n",
       "1    1988\n",
       "2    2000\n",
       "3    1978\n",
       "4    2008\n",
       "5    1988\n",
       "Name: birth, dtype: object"
      ]
     },
     "execution_count": 18,
     "metadata": {},
     "output_type": "execute_result"
    }
   ],
   "source": [
    "user_info['birth'].str.split('-').str[0]"
   ]
  },
  {
   "cell_type": "code",
   "execution_count": 19,
   "id": "2c70e2ff",
   "metadata": {},
   "outputs": [
    {
     "data": {
      "text/plain": [
       "0    02\n",
       "1    10\n",
       "2    01\n",
       "3    08\n",
       "4    08\n",
       "5    10\n",
       "Name: birth, dtype: object"
      ]
     },
     "execution_count": 19,
     "metadata": {},
     "output_type": "execute_result"
    }
   ],
   "source": [
    "user_info['birth'].str.split('-').str.get(1)"
   ]
  },
  {
   "cell_type": "code",
   "execution_count": 20,
   "id": "f75a515e",
   "metadata": {},
   "outputs": [
    {
     "data": {
      "text/plain": [
       "0    [02, 10]\n",
       "1    [10, 17]\n",
       "2    [01, 01]\n",
       "3    [08, 08]\n",
       "4    [08, 08]\n",
       "5    [10, 17]\n",
       "Name: birth, dtype: object"
      ]
     },
     "execution_count": 20,
     "metadata": {},
     "output_type": "execute_result"
    }
   ],
   "source": [
    "user_info['birth'].str.split('-').str[1:3]"
   ]
  },
  {
   "cell_type": "markdown",
   "id": "82819a36",
   "metadata": {},
   "source": [
    "The `expand` parameter controls whether to split the column into separate columns or keep it as a single column. The `n` parameter specifies the maximum number of splits to perform."
   ]
  },
  {
   "cell_type": "code",
   "execution_count": 21,
   "id": "9253e234",
   "metadata": {},
   "outputs": [
    {
     "data": {
      "text/html": [
       "<div>\n",
       "<style scoped>\n",
       "    .dataframe tbody tr th:only-of-type {\n",
       "        vertical-align: middle;\n",
       "    }\n",
       "\n",
       "    .dataframe tbody tr th {\n",
       "        vertical-align: top;\n",
       "    }\n",
       "\n",
       "    .dataframe thead th {\n",
       "        text-align: right;\n",
       "    }\n",
       "</style>\n",
       "<table border=\"1\" class=\"dataframe\">\n",
       "  <thead>\n",
       "    <tr style=\"text-align: right;\">\n",
       "      <th></th>\n",
       "      <th>0</th>\n",
       "      <th>1</th>\n",
       "      <th>2</th>\n",
       "    </tr>\n",
       "  </thead>\n",
       "  <tbody>\n",
       "    <tr>\n",
       "      <th>0</th>\n",
       "      <td>2000</td>\n",
       "      <td>02</td>\n",
       "      <td>10</td>\n",
       "    </tr>\n",
       "    <tr>\n",
       "      <th>1</th>\n",
       "      <td>1988</td>\n",
       "      <td>10</td>\n",
       "      <td>17</td>\n",
       "    </tr>\n",
       "    <tr>\n",
       "      <th>2</th>\n",
       "      <td>2000</td>\n",
       "      <td>01</td>\n",
       "      <td>01</td>\n",
       "    </tr>\n",
       "    <tr>\n",
       "      <th>3</th>\n",
       "      <td>1978</td>\n",
       "      <td>08</td>\n",
       "      <td>08</td>\n",
       "    </tr>\n",
       "    <tr>\n",
       "      <th>4</th>\n",
       "      <td>2008</td>\n",
       "      <td>08</td>\n",
       "      <td>08</td>\n",
       "    </tr>\n",
       "    <tr>\n",
       "      <th>5</th>\n",
       "      <td>1988</td>\n",
       "      <td>10</td>\n",
       "      <td>17</td>\n",
       "    </tr>\n",
       "  </tbody>\n",
       "</table>\n",
       "</div>"
      ],
      "text/plain": [
       "      0   1   2\n",
       "0  2000  02  10\n",
       "1  1988  10  17\n",
       "2  2000  01  01\n",
       "3  1978  08  08\n",
       "4  2008  08  08\n",
       "5  1988  10  17"
      ]
     },
     "execution_count": 21,
     "metadata": {},
     "output_type": "execute_result"
    }
   ],
   "source": [
    "user_info['birth'].str.split('-', expand = True)"
   ]
  },
  {
   "cell_type": "code",
   "execution_count": 22,
   "id": "a8a4f10f",
   "metadata": {},
   "outputs": [],
   "source": [
    "date_columns = user_info['birth'].str.split('-', expand = True)"
   ]
  },
  {
   "cell_type": "code",
   "execution_count": 23,
   "id": "fe3bcb28",
   "metadata": {},
   "outputs": [
    {
     "data": {
      "text/html": [
       "<div>\n",
       "<style scoped>\n",
       "    .dataframe tbody tr th:only-of-type {\n",
       "        vertical-align: middle;\n",
       "    }\n",
       "\n",
       "    .dataframe tbody tr th {\n",
       "        vertical-align: top;\n",
       "    }\n",
       "\n",
       "    .dataframe thead th {\n",
       "        text-align: right;\n",
       "    }\n",
       "</style>\n",
       "<table border=\"1\" class=\"dataframe\">\n",
       "  <thead>\n",
       "    <tr style=\"text-align: right;\">\n",
       "      <th></th>\n",
       "      <th>name</th>\n",
       "      <th>city</th>\n",
       "      <th>hobby</th>\n",
       "      <th>birth</th>\n",
       "      <th>0</th>\n",
       "      <th>1</th>\n",
       "      <th>2</th>\n",
       "    </tr>\n",
       "  </thead>\n",
       "  <tbody>\n",
       "    <tr>\n",
       "      <th>0</th>\n",
       "      <td>Tom</td>\n",
       "      <td>New York</td>\n",
       "      <td>Badminton;Table tennis</td>\n",
       "      <td>2000-02-10</td>\n",
       "      <td>2000</td>\n",
       "      <td>02</td>\n",
       "      <td>10</td>\n",
       "    </tr>\n",
       "    <tr>\n",
       "      <th>1</th>\n",
       "      <td>Bob</td>\n",
       "      <td>Los Angeles</td>\n",
       "      <td>Baseball;American football</td>\n",
       "      <td>1988-10-17</td>\n",
       "      <td>1988</td>\n",
       "      <td>10</td>\n",
       "      <td>17</td>\n",
       "    </tr>\n",
       "    <tr>\n",
       "      <th>2</th>\n",
       "      <td>Mary</td>\n",
       "      <td>Chicago</td>\n",
       "      <td>Dancing</td>\n",
       "      <td>2000-01-01</td>\n",
       "      <td>2000</td>\n",
       "      <td>01</td>\n",
       "      <td>01</td>\n",
       "    </tr>\n",
       "    <tr>\n",
       "      <th>3</th>\n",
       "      <td>James</td>\n",
       "      <td>Houston</td>\n",
       "      <td>Drawing;Singing</td>\n",
       "      <td>1978-08-08</td>\n",
       "      <td>1978</td>\n",
       "      <td>08</td>\n",
       "      <td>08</td>\n",
       "    </tr>\n",
       "    <tr>\n",
       "      <th>4</th>\n",
       "      <td>Eric</td>\n",
       "      <td>Phoenix</td>\n",
       "      <td>Swimming;Skiing</td>\n",
       "      <td>2008-08-08</td>\n",
       "      <td>2008</td>\n",
       "      <td>08</td>\n",
       "      <td>08</td>\n",
       "    </tr>\n",
       "    <tr>\n",
       "      <th>5</th>\n",
       "      <td>Alice</td>\n",
       "      <td>Philadelphia</td>\n",
       "      <td>Running;Basketball</td>\n",
       "      <td>1988-10-17</td>\n",
       "      <td>1988</td>\n",
       "      <td>10</td>\n",
       "      <td>17</td>\n",
       "    </tr>\n",
       "  </tbody>\n",
       "</table>\n",
       "</div>"
      ],
      "text/plain": [
       "    name          city                       hobby       birth     0   1   2\n",
       "0    Tom      New York      Badminton;Table tennis  2000-02-10  2000  02  10\n",
       "1    Bob   Los Angeles  Baseball;American football  1988-10-17  1988  10  17\n",
       "2   Mary       Chicago                     Dancing  2000-01-01  2000  01  01\n",
       "3  James       Houston             Drawing;Singing  1978-08-08  1978  08  08\n",
       "4   Eric       Phoenix             Swimming;Skiing  2008-08-08  2008  08  08\n",
       "5  Alice  Philadelphia          Running;Basketball  1988-10-17  1988  10  17"
      ]
     },
     "execution_count": 23,
     "metadata": {},
     "output_type": "execute_result"
    }
   ],
   "source": [
    "user_info_new = pd.concat([user_info, date_columns], axis = 1)\n",
    "user_info_new"
   ]
  },
  {
   "cell_type": "code",
   "execution_count": 24,
   "id": "0f9405ef",
   "metadata": {},
   "outputs": [
    {
     "data": {
      "text/plain": [
       "0    [2000, 02-10]\n",
       "1    [1988, 10-17]\n",
       "2    [2000, 01-01]\n",
       "3    [1978, 08-08]\n",
       "4    [2008, 08-08]\n",
       "5    [1988, 10-17]\n",
       "Name: birth, dtype: object"
      ]
     },
     "execution_count": 24,
     "metadata": {},
     "output_type": "execute_result"
    }
   ],
   "source": [
    "# The n parameter specifies the maximum number of splits to perform\n",
    "user_info['birth'].str.split('-',  n = 1)"
   ]
  },
  {
   "cell_type": "code",
   "execution_count": 25,
   "id": "30844d00",
   "metadata": {},
   "outputs": [
    {
     "data": {
      "text/html": [
       "<div>\n",
       "<style scoped>\n",
       "    .dataframe tbody tr th:only-of-type {\n",
       "        vertical-align: middle;\n",
       "    }\n",
       "\n",
       "    .dataframe tbody tr th {\n",
       "        vertical-align: top;\n",
       "    }\n",
       "\n",
       "    .dataframe thead th {\n",
       "        text-align: right;\n",
       "    }\n",
       "</style>\n",
       "<table border=\"1\" class=\"dataframe\">\n",
       "  <thead>\n",
       "    <tr style=\"text-align: right;\">\n",
       "      <th></th>\n",
       "      <th>0</th>\n",
       "      <th>1</th>\n",
       "    </tr>\n",
       "  </thead>\n",
       "  <tbody>\n",
       "    <tr>\n",
       "      <th>0</th>\n",
       "      <td>2000</td>\n",
       "      <td>02-10</td>\n",
       "    </tr>\n",
       "    <tr>\n",
       "      <th>1</th>\n",
       "      <td>1988</td>\n",
       "      <td>10-17</td>\n",
       "    </tr>\n",
       "    <tr>\n",
       "      <th>2</th>\n",
       "      <td>2000</td>\n",
       "      <td>01-01</td>\n",
       "    </tr>\n",
       "    <tr>\n",
       "      <th>3</th>\n",
       "      <td>1978</td>\n",
       "      <td>08-08</td>\n",
       "    </tr>\n",
       "    <tr>\n",
       "      <th>4</th>\n",
       "      <td>2008</td>\n",
       "      <td>08-08</td>\n",
       "    </tr>\n",
       "    <tr>\n",
       "      <th>5</th>\n",
       "      <td>1988</td>\n",
       "      <td>10-17</td>\n",
       "    </tr>\n",
       "  </tbody>\n",
       "</table>\n",
       "</div>"
      ],
      "text/plain": [
       "      0      1\n",
       "0  2000  02-10\n",
       "1  1988  10-17\n",
       "2  2000  01-01\n",
       "3  1978  08-08\n",
       "4  2008  08-08\n",
       "5  1988  10-17"
      ]
     },
     "execution_count": 25,
     "metadata": {},
     "output_type": "execute_result"
    }
   ],
   "source": [
    "user_info['birth'].str.split('-', n = 1, expand = True)"
   ]
  },
  {
   "cell_type": "markdown",
   "id": "ebedf351",
   "metadata": {},
   "source": [
    "If we have complex rules for splitting text, we can use regular expressions (regex) as the delimiter when using the `str.split()` function in pandas."
   ]
  },
  {
   "cell_type": "code",
   "execution_count": 26,
   "id": "c579e14f",
   "metadata": {},
   "outputs": [
    {
     "data": {
      "text/plain": [
       "0         [Ne, ork]\n",
       "1      [Lo, ngeles]\n",
       "2         [Chicago]\n",
       "3         [Houston]\n",
       "4         [Phoenix]\n",
       "5    [Philadelphia]\n",
       "Name: city, dtype: object"
      ]
     },
     "execution_count": 26,
     "metadata": {},
     "output_type": "execute_result"
    }
   ],
   "source": [
    "user_info.city.str.split(f'[A-z]\\s[A-z]')"
   ]
  },
  {
   "cell_type": "markdown",
   "id": "6fa19c56",
   "metadata": {},
   "source": [
    "### `str.rsplit`\n",
    "The `rsplit()` function in pandas is similar to the `split()` function, but it starts splitting the text from the right side instead of the left side. If we don't specify the `n` parameter, the output of `rsplit()` and `split()` will be the same."
   ]
  },
  {
   "cell_type": "code",
   "execution_count": 27,
   "id": "bc65cabc",
   "metadata": {},
   "outputs": [
    {
     "data": {
      "text/html": [
       "<div>\n",
       "<style scoped>\n",
       "    .dataframe tbody tr th:only-of-type {\n",
       "        vertical-align: middle;\n",
       "    }\n",
       "\n",
       "    .dataframe tbody tr th {\n",
       "        vertical-align: top;\n",
       "    }\n",
       "\n",
       "    .dataframe thead th {\n",
       "        text-align: right;\n",
       "    }\n",
       "</style>\n",
       "<table border=\"1\" class=\"dataframe\">\n",
       "  <thead>\n",
       "    <tr style=\"text-align: right;\">\n",
       "      <th></th>\n",
       "      <th>0</th>\n",
       "      <th>1</th>\n",
       "    </tr>\n",
       "  </thead>\n",
       "  <tbody>\n",
       "    <tr>\n",
       "      <th>0</th>\n",
       "      <td>2000-02</td>\n",
       "      <td>10</td>\n",
       "    </tr>\n",
       "    <tr>\n",
       "      <th>1</th>\n",
       "      <td>1988-10</td>\n",
       "      <td>17</td>\n",
       "    </tr>\n",
       "    <tr>\n",
       "      <th>2</th>\n",
       "      <td>2000-01</td>\n",
       "      <td>01</td>\n",
       "    </tr>\n",
       "    <tr>\n",
       "      <th>3</th>\n",
       "      <td>1978-08</td>\n",
       "      <td>08</td>\n",
       "    </tr>\n",
       "    <tr>\n",
       "      <th>4</th>\n",
       "      <td>2008-08</td>\n",
       "      <td>08</td>\n",
       "    </tr>\n",
       "    <tr>\n",
       "      <th>5</th>\n",
       "      <td>1988-10</td>\n",
       "      <td>17</td>\n",
       "    </tr>\n",
       "  </tbody>\n",
       "</table>\n",
       "</div>"
      ],
      "text/plain": [
       "         0   1\n",
       "0  2000-02  10\n",
       "1  1988-10  17\n",
       "2  2000-01  01\n",
       "3  1978-08  08\n",
       "4  2008-08  08\n",
       "5  1988-10  17"
      ]
     },
     "execution_count": 27,
     "metadata": {},
     "output_type": "execute_result"
    }
   ],
   "source": [
    "user_info['birth'].str.rsplit('-', n = 1, expand = True)"
   ]
  },
  {
   "cell_type": "markdown",
   "id": "02a4e880",
   "metadata": {},
   "source": [
    "## Text replacement\n",
    "### `str.replace`"
   ]
  },
  {
   "cell_type": "code",
   "execution_count": 28,
   "id": "7aed2e3d",
   "metadata": {},
   "outputs": [
    {
     "data": {
      "text/plain": [
       "0    2000/02/10\n",
       "1    1988/10/17\n",
       "2    2000/01/01\n",
       "3    1978/08/08\n",
       "4    2008/08/08\n",
       "5    1988/10/17\n",
       "Name: birth, dtype: object"
      ]
     },
     "execution_count": 28,
     "metadata": {},
     "output_type": "execute_result"
    }
   ],
   "source": [
    "user_info.birth.str.replace('-', '/')"
   ]
  },
  {
   "cell_type": "code",
   "execution_count": 29,
   "id": "09482098",
   "metadata": {},
   "outputs": [
    {
     "data": {
      "text/plain": [
       "0        New York\n",
       "1     Los Angeles\n",
       "2         Chicago\n",
       "3         Houston\n",
       "4         Phoenix\n",
       "5    Philadelphia\n",
       "Name: city, dtype: object"
      ]
     },
     "execution_count": 29,
     "metadata": {},
     "output_type": "execute_result"
    }
   ],
   "source": [
    "user_info['city'].str.replace('\\s$|^\\s', '', regex=True)"
   ]
  },
  {
   "cell_type": "code",
   "execution_count": 30,
   "id": "24dbacb0",
   "metadata": {},
   "outputs": [
    {
     "data": {
      "text/plain": [
       "0        weN kroY\n",
       "1     soL selegnA\n",
       "2         ogacihC\n",
       "3         notsuoH\n",
       "4         xineohP\n",
       "5    aihpledalihP\n",
       "Name: city, dtype: object"
      ]
     },
     "execution_count": 30,
     "metadata": {},
     "output_type": "execute_result"
    }
   ],
   "source": [
    "def func(text):\n",
    "    return text.group(0)[::-1] \n",
    "\n",
    "#group(0) method is used to retrieve the entire matched string or \n",
    "#the entire content of a capturing group.\n",
    "    \n",
    "user_info['city'].str.replace('[A-z]+', func, regex = True)"
   ]
  },
  {
   "cell_type": "markdown",
   "id": "767504de",
   "metadata": {},
   "source": [
    "## Text concatenation\n",
    "### `str.cat`\n",
    "\n",
    "The `cat` method in pandas has different behaviors depending on the object it is applied to."
   ]
  },
  {
   "cell_type": "code",
   "execution_count": 31,
   "id": "d457ac53",
   "metadata": {},
   "outputs": [
    {
     "data": {
      "text/plain": [
       "0        Badminton;Table tennis\n",
       "1    Baseball;American football\n",
       "2                       Dancing\n",
       "3               Drawing;Singing\n",
       "4               Swimming;Skiing\n",
       "5            Running;Basketball\n",
       "Name: hobby, dtype: object"
      ]
     },
     "execution_count": 31,
     "metadata": {},
     "output_type": "execute_result"
    }
   ],
   "source": [
    "user_info.hobby"
   ]
  },
  {
   "cell_type": "markdown",
   "id": "fa817519",
   "metadata": {},
   "source": [
    "#### For a single series:\n",
    "The `cat` method concatenates all elements of the Series into a single string."
   ]
  },
  {
   "cell_type": "code",
   "execution_count": 32,
   "id": "ae54f9cf",
   "metadata": {},
   "outputs": [
    {
     "data": {
      "text/plain": [
       "'Badminton;Table tennisBaseball;American footballDancingDrawing;SingingSwimming;SkiingRunning;Basketball'"
      ]
     },
     "execution_count": 32,
     "metadata": {},
     "output_type": "execute_result"
    }
   ],
   "source": [
    "user_info.hobby.str.cat()  # Concatenate all elements of a series into one single string"
   ]
  },
  {
   "cell_type": "code",
   "execution_count": 33,
   "id": "3ed249ed",
   "metadata": {},
   "outputs": [
    {
     "data": {
      "text/plain": [
       "'Badminton;Table tennis;Baseball;American football;Dancing;Drawing;Singing;Swimming;Skiing;Running;Basketball'"
      ]
     },
     "execution_count": 33,
     "metadata": {},
     "output_type": "execute_result"
    }
   ],
   "source": [
    "user_info.hobby.str.cat(sep = ';')"
   ]
  },
  {
   "cell_type": "markdown",
   "id": "67f1f317",
   "metadata": {},
   "source": [
    "#### For a pair of Series or DataFrames: \n",
    "The `cat` method concatenates the corresponding elements of the two objects into a single string based on index"
   ]
  },
  {
   "cell_type": "code",
   "execution_count": 34,
   "id": "6afba787",
   "metadata": {},
   "outputs": [
    {
     "data": {
      "text/plain": [
       "0        Badminton;Table tennis***Tom\n",
       "1    Baseball;American football***Bob\n",
       "2                      Dancing***Mary\n",
       "3             Drawing;Singing***James\n",
       "4              Swimming;Skiing***Eric\n",
       "5          Running;Basketball***Alice\n",
       "Name: hobby, dtype: object"
      ]
     },
     "execution_count": 34,
     "metadata": {},
     "output_type": "execute_result"
    }
   ],
   "source": [
    "user_info.hobby.str.cat(user_info.name, sep = '***')"
   ]
  },
  {
   "cell_type": "code",
   "execution_count": 35,
   "id": "34d10640",
   "metadata": {},
   "outputs": [
    {
     "data": {
      "text/plain": [
       "0    ax\n",
       "1    by\n",
       "2    cz\n",
       "dtype: object"
      ]
     },
     "execution_count": 35,
     "metadata": {},
     "output_type": "execute_result"
    }
   ],
   "source": [
    "series1 = pd.Series(['a', 'b', 'c'])\n",
    "series2 = pd.Series(['x', 'y', 'z'])\n",
    "series1.str.cat(series2)"
   ]
  },
  {
   "cell_type": "markdown",
   "id": "04c19422",
   "metadata": {},
   "source": [
    "#### For multiple Series or DataFrames:"
   ]
  },
  {
   "cell_type": "code",
   "execution_count": 36,
   "id": "82695813",
   "metadata": {},
   "outputs": [
    {
     "data": {
      "text/plain": [
       "0           Badminton;Table tennis***Tom***New York\n",
       "1    Baseball;American football***Bob***Los Angeles\n",
       "2                          Dancing***Mary***Chicago\n",
       "3                 Drawing;Singing***James***Houston\n",
       "4                  Swimming;Skiing***Eric***Phoenix\n",
       "5         Running;Basketball***Alice***Philadelphia\n",
       "Name: hobby, dtype: object"
      ]
     },
     "execution_count": 36,
     "metadata": {},
     "output_type": "execute_result"
    }
   ],
   "source": [
    "user_info.hobby.str.cat(user_info[['name', 'city']], sep = \"***\")"
   ]
  },
  {
   "cell_type": "markdown",
   "id": "3e254263",
   "metadata": {},
   "source": [
    "#### alignment "
   ]
  },
  {
   "cell_type": "code",
   "execution_count": 37,
   "id": "1b0cb3b5",
   "metadata": {},
   "outputs": [
    {
     "data": {
      "text/plain": [
       "0    a\n",
       "1    b\n",
       "2    c\n",
       "3    d\n",
       "dtype: string"
      ]
     },
     "execution_count": 37,
     "metadata": {},
     "output_type": "execute_result"
    }
   ],
   "source": [
    "s = pd.Series(['a', 'b', 'c', 'd'], dtype = \"string\")\n",
    "s"
   ]
  },
  {
   "cell_type": "code",
   "execution_count": 38,
   "id": "12e25d12",
   "metadata": {},
   "outputs": [
    {
     "data": {
      "text/plain": [
       "1    b\n",
       "3    d\n",
       "0    a\n",
       "2    c\n",
       "dtype: string"
      ]
     },
     "execution_count": 38,
     "metadata": {},
     "output_type": "execute_result"
    }
   ],
   "source": [
    "u = pd.Series(['b', 'd', 'a', 'c'],\n",
    "              index = [1, 3, 0, 2],\n",
    "              dtype =\"string\")\n",
    "u "
   ]
  },
  {
   "cell_type": "code",
   "execution_count": 39,
   "id": "f6fdef51",
   "metadata": {},
   "outputs": [
    {
     "data": {
      "text/plain": [
       "0    aa\n",
       "1    bb\n",
       "2    cc\n",
       "3    dd\n",
       "dtype: string"
      ]
     },
     "execution_count": 39,
     "metadata": {},
     "output_type": "execute_result"
    }
   ],
   "source": [
    "s.str.cat(u) #  prioritize the left side of the strings"
   ]
  },
  {
   "cell_type": "code",
   "execution_count": 40,
   "id": "77aaf442",
   "metadata": {},
   "outputs": [
    {
     "data": {
      "text/plain": [
       "0    aa\n",
       "1    bb\n",
       "2    cc\n",
       "3    dd\n",
       "dtype: string"
      ]
     },
     "execution_count": 40,
     "metadata": {},
     "output_type": "execute_result"
    }
   ],
   "source": [
    "s.str.cat(u, join = 'left')"
   ]
  },
  {
   "cell_type": "code",
   "execution_count": 41,
   "id": "57dabbc1",
   "metadata": {},
   "outputs": [
    {
     "data": {
      "text/plain": [
       "1    bb\n",
       "3    dd\n",
       "0    aa\n",
       "2    cc\n",
       "dtype: string"
      ]
     },
     "execution_count": 41,
     "metadata": {},
     "output_type": "execute_result"
    }
   ],
   "source": [
    "s.str.cat(u, join = 'right')"
   ]
  },
  {
   "cell_type": "markdown",
   "id": "4bc91c53",
   "metadata": {},
   "source": [
    "## Text matching and extraction"
   ]
  },
  {
   "cell_type": "markdown",
   "id": "03902145",
   "metadata": {},
   "source": [
    "### `st.extract`\n",
    "Extracts substrings from each element based on a specified pattern and returns a new Series.\n"
   ]
  },
  {
   "cell_type": "code",
   "execution_count": 42,
   "id": "e6af8f83",
   "metadata": {},
   "outputs": [
    {
     "data": {
      "text/html": [
       "<div>\n",
       "<style scoped>\n",
       "    .dataframe tbody tr th:only-of-type {\n",
       "        vertical-align: middle;\n",
       "    }\n",
       "\n",
       "    .dataframe tbody tr th {\n",
       "        vertical-align: top;\n",
       "    }\n",
       "\n",
       "    .dataframe thead th {\n",
       "        text-align: right;\n",
       "    }\n",
       "</style>\n",
       "<table border=\"1\" class=\"dataframe\">\n",
       "  <thead>\n",
       "    <tr style=\"text-align: right;\">\n",
       "      <th></th>\n",
       "      <th>0</th>\n",
       "    </tr>\n",
       "  </thead>\n",
       "  <tbody>\n",
       "    <tr>\n",
       "      <th>0</th>\n",
       "      <td>New</td>\n",
       "    </tr>\n",
       "    <tr>\n",
       "      <th>1</th>\n",
       "      <td>Los</td>\n",
       "    </tr>\n",
       "    <tr>\n",
       "      <th>2</th>\n",
       "      <td>NaN</td>\n",
       "    </tr>\n",
       "    <tr>\n",
       "      <th>3</th>\n",
       "      <td>NaN</td>\n",
       "    </tr>\n",
       "    <tr>\n",
       "      <th>4</th>\n",
       "      <td>NaN</td>\n",
       "    </tr>\n",
       "    <tr>\n",
       "      <th>5</th>\n",
       "      <td>NaN</td>\n",
       "    </tr>\n",
       "  </tbody>\n",
       "</table>\n",
       "</div>"
      ],
      "text/plain": [
       "     0\n",
       "0  New\n",
       "1  Los\n",
       "2  NaN\n",
       "3  NaN\n",
       "4  NaN\n",
       "5  NaN"
      ]
     },
     "execution_count": 42,
     "metadata": {},
     "output_type": "execute_result"
    }
   ],
   "source": [
    "# \\w+: Matches any alphanumeric character \n",
    "# \\s: Matches any whitespace character (space, tab, newline, etc.).\n",
    "user_info.city.str.extract(\"(\\w+)\\s+\", expand = True)"
   ]
  },
  {
   "cell_type": "code",
   "execution_count": 43,
   "id": "0c28b160",
   "metadata": {},
   "outputs": [
    {
     "data": {
      "text/html": [
       "<div>\n",
       "<style scoped>\n",
       "    .dataframe tbody tr th:only-of-type {\n",
       "        vertical-align: middle;\n",
       "    }\n",
       "\n",
       "    .dataframe tbody tr th {\n",
       "        vertical-align: top;\n",
       "    }\n",
       "\n",
       "    .dataframe thead th {\n",
       "        text-align: right;\n",
       "    }\n",
       "</style>\n",
       "<table border=\"1\" class=\"dataframe\">\n",
       "  <thead>\n",
       "    <tr style=\"text-align: right;\">\n",
       "      <th></th>\n",
       "      <th>0</th>\n",
       "      <th>1</th>\n",
       "    </tr>\n",
       "  </thead>\n",
       "  <tbody>\n",
       "    <tr>\n",
       "      <th>0</th>\n",
       "      <td>New</td>\n",
       "      <td>York</td>\n",
       "    </tr>\n",
       "    <tr>\n",
       "      <th>1</th>\n",
       "      <td>Los</td>\n",
       "      <td>Angeles</td>\n",
       "    </tr>\n",
       "    <tr>\n",
       "      <th>2</th>\n",
       "      <td>NaN</td>\n",
       "      <td>NaN</td>\n",
       "    </tr>\n",
       "    <tr>\n",
       "      <th>3</th>\n",
       "      <td>NaN</td>\n",
       "      <td>NaN</td>\n",
       "    </tr>\n",
       "    <tr>\n",
       "      <th>4</th>\n",
       "      <td>NaN</td>\n",
       "      <td>NaN</td>\n",
       "    </tr>\n",
       "    <tr>\n",
       "      <th>5</th>\n",
       "      <td>NaN</td>\n",
       "      <td>NaN</td>\n",
       "    </tr>\n",
       "  </tbody>\n",
       "</table>\n",
       "</div>"
      ],
      "text/plain": [
       "     0        1\n",
       "0  New     York\n",
       "1  Los  Angeles\n",
       "2  NaN      NaN\n",
       "3  NaN      NaN\n",
       "4  NaN      NaN\n",
       "5  NaN      NaN"
      ]
     },
     "execution_count": 43,
     "metadata": {},
     "output_type": "execute_result"
    }
   ],
   "source": [
    "user_info.city.str.extract(\"(\\w+)\\s+(\\w+)\", expand = True)"
   ]
  },
  {
   "cell_type": "markdown",
   "id": "6f42a42e",
   "metadata": {},
   "source": [
    "### `st.extractall`\n",
    "`str.extract()`, which only matches the first occurrence of the pattern, `str.extractall()` matches all occurrences of the pattern and returns a new DataFrame with a hierarchical index."
   ]
  },
  {
   "cell_type": "code",
   "execution_count": 44,
   "id": "c84f538d",
   "metadata": {},
   "outputs": [
    {
     "data": {
      "text/html": [
       "<div>\n",
       "<style scoped>\n",
       "    .dataframe tbody tr th:only-of-type {\n",
       "        vertical-align: middle;\n",
       "    }\n",
       "\n",
       "    .dataframe tbody tr th {\n",
       "        vertical-align: top;\n",
       "    }\n",
       "\n",
       "    .dataframe thead th {\n",
       "        text-align: right;\n",
       "    }\n",
       "</style>\n",
       "<table border=\"1\" class=\"dataframe\">\n",
       "  <thead>\n",
       "    <tr style=\"text-align: right;\">\n",
       "      <th></th>\n",
       "      <th></th>\n",
       "      <th>0</th>\n",
       "    </tr>\n",
       "    <tr>\n",
       "      <th></th>\n",
       "      <th>match</th>\n",
       "      <th></th>\n",
       "    </tr>\n",
       "  </thead>\n",
       "  <tbody>\n",
       "    <tr>\n",
       "      <th>0</th>\n",
       "      <th>0</th>\n",
       "      <td>New</td>\n",
       "    </tr>\n",
       "    <tr>\n",
       "      <th>1</th>\n",
       "      <th>0</th>\n",
       "      <td>Los</td>\n",
       "    </tr>\n",
       "  </tbody>\n",
       "</table>\n",
       "</div>"
      ],
      "text/plain": [
       "           0\n",
       "  match     \n",
       "0 0      New\n",
       "1 0      Los"
      ]
     },
     "execution_count": 44,
     "metadata": {},
     "output_type": "execute_result"
    }
   ],
   "source": [
    "# match all occurrences of a letter before a whitespace character\n",
    "user_info.city.str.extractall(\"(\\w+)\\s+\")"
   ]
  },
  {
   "cell_type": "markdown",
   "id": "29bf79ec",
   "metadata": {},
   "source": [
    "### `st.contains`\n",
    "Checks if each element contains a specified pattern and returns a boolean Series indicating the match."
   ]
  },
  {
   "cell_type": "code",
   "execution_count": 45,
   "id": "fa37fa96",
   "metadata": {},
   "outputs": [
    {
     "data": {
      "text/plain": [
       "0    False\n",
       "1     True\n",
       "2    False\n",
       "3    False\n",
       "4    False\n",
       "5    False\n",
       "Name: city, dtype: bool"
      ]
     },
     "execution_count": 45,
     "metadata": {},
     "output_type": "execute_result"
    }
   ],
   "source": [
    "user_info.city.str.contains(\"Los\")"
   ]
  },
  {
   "cell_type": "code",
   "execution_count": 46,
   "id": "7e63f8db",
   "metadata": {},
   "outputs": [
    {
     "data": {
      "text/plain": [
       "0     True\n",
       "1    False\n",
       "2     True\n",
       "3    False\n",
       "4    False\n",
       "5    False\n",
       "Name: birth, dtype: bool"
      ]
     },
     "execution_count": 46,
     "metadata": {},
     "output_type": "execute_result"
    }
   ],
   "source": [
    "user_info.birth.str.contains(r\"^2000\")"
   ]
  },
  {
   "cell_type": "markdown",
   "id": "24cb4a6b",
   "metadata": {},
   "source": [
    "###  `str.get_dummies`"
   ]
  },
  {
   "cell_type": "code",
   "execution_count": 47,
   "id": "0cccb220",
   "metadata": {},
   "outputs": [
    {
     "data": {
      "text/html": [
       "<div>\n",
       "<style scoped>\n",
       "    .dataframe tbody tr th:only-of-type {\n",
       "        vertical-align: middle;\n",
       "    }\n",
       "\n",
       "    .dataframe tbody tr th {\n",
       "        vertical-align: top;\n",
       "    }\n",
       "\n",
       "    .dataframe thead th {\n",
       "        text-align: right;\n",
       "    }\n",
       "</style>\n",
       "<table border=\"1\" class=\"dataframe\">\n",
       "  <thead>\n",
       "    <tr style=\"text-align: right;\">\n",
       "      <th></th>\n",
       "      <th>Angeles</th>\n",
       "      <th>Chicago</th>\n",
       "      <th>Houston</th>\n",
       "      <th>Los</th>\n",
       "      <th>New</th>\n",
       "      <th>Philadelphia</th>\n",
       "      <th>Phoenix</th>\n",
       "      <th>York</th>\n",
       "    </tr>\n",
       "  </thead>\n",
       "  <tbody>\n",
       "    <tr>\n",
       "      <th>0</th>\n",
       "      <td>0</td>\n",
       "      <td>0</td>\n",
       "      <td>0</td>\n",
       "      <td>0</td>\n",
       "      <td>1</td>\n",
       "      <td>0</td>\n",
       "      <td>0</td>\n",
       "      <td>1</td>\n",
       "    </tr>\n",
       "    <tr>\n",
       "      <th>1</th>\n",
       "      <td>1</td>\n",
       "      <td>0</td>\n",
       "      <td>0</td>\n",
       "      <td>1</td>\n",
       "      <td>0</td>\n",
       "      <td>0</td>\n",
       "      <td>0</td>\n",
       "      <td>0</td>\n",
       "    </tr>\n",
       "    <tr>\n",
       "      <th>2</th>\n",
       "      <td>0</td>\n",
       "      <td>1</td>\n",
       "      <td>0</td>\n",
       "      <td>0</td>\n",
       "      <td>0</td>\n",
       "      <td>0</td>\n",
       "      <td>0</td>\n",
       "      <td>0</td>\n",
       "    </tr>\n",
       "    <tr>\n",
       "      <th>3</th>\n",
       "      <td>0</td>\n",
       "      <td>0</td>\n",
       "      <td>1</td>\n",
       "      <td>0</td>\n",
       "      <td>0</td>\n",
       "      <td>0</td>\n",
       "      <td>0</td>\n",
       "      <td>0</td>\n",
       "    </tr>\n",
       "    <tr>\n",
       "      <th>4</th>\n",
       "      <td>0</td>\n",
       "      <td>0</td>\n",
       "      <td>0</td>\n",
       "      <td>0</td>\n",
       "      <td>0</td>\n",
       "      <td>0</td>\n",
       "      <td>1</td>\n",
       "      <td>0</td>\n",
       "    </tr>\n",
       "    <tr>\n",
       "      <th>5</th>\n",
       "      <td>0</td>\n",
       "      <td>0</td>\n",
       "      <td>0</td>\n",
       "      <td>0</td>\n",
       "      <td>0</td>\n",
       "      <td>1</td>\n",
       "      <td>0</td>\n",
       "      <td>0</td>\n",
       "    </tr>\n",
       "  </tbody>\n",
       "</table>\n",
       "</div>"
      ],
      "text/plain": [
       "   Angeles  Chicago  Houston  Los  New  Philadelphia  Phoenix  York\n",
       "0        0        0        0    0    1             0        0     1\n",
       "1        1        0        0    1    0             0        0     0\n",
       "2        0        1        0    0    0             0        0     0\n",
       "3        0        0        1    0    0             0        0     0\n",
       "4        0        0        0    0    0             0        1     0\n",
       "5        0        0        0    0    0             1        0     0"
      ]
     },
     "execution_count": 47,
     "metadata": {},
     "output_type": "execute_result"
    }
   ],
   "source": [
    "user_info.city.str.get_dummies(sep=\" \")"
   ]
  },
  {
   "cell_type": "markdown",
   "id": "3bccd74e",
   "metadata": {},
   "source": [
    "### Others\n",
    "* `str.lower()`: Converts the strings to lowercase.\n",
    "* `str.upper()`: Converts the strings to uppercase.\n",
    "* `str.title()`: Converts the strings to title case, where the first letter of each word is capitalized.\n",
    "* `str.capitalize()`: Capitalizes the first letter of each string.\n",
    "* `str.swapcase()`: Swaps the case of each character in the strings, converting lowercase to uppercase and vice versa.\n",
    "* `str.casefold()`: Converts the strings to lowercase using the casefolding algorithm, which provides better support for non-English languages such as German."
   ]
  },
  {
   "cell_type": "code",
   "execution_count": 48,
   "id": "550a053a",
   "metadata": {},
   "outputs": [],
   "source": [
    "s = pd.Series(['lower', 'CAPITALS', 'this is a sentence', 'SwApCaSe'])"
   ]
  },
  {
   "cell_type": "code",
   "execution_count": 49,
   "id": "a2601b68",
   "metadata": {},
   "outputs": [
    {
     "data": {
      "text/plain": [
       "0                 lower\n",
       "1              capitals\n",
       "2    this is a sentence\n",
       "3              swapcase\n",
       "dtype: object"
      ]
     },
     "execution_count": 49,
     "metadata": {},
     "output_type": "execute_result"
    }
   ],
   "source": [
    "s.str.lower()  # Converts the strings to lowercase"
   ]
  },
  {
   "cell_type": "code",
   "execution_count": 50,
   "id": "d4e660a2",
   "metadata": {},
   "outputs": [
    {
     "data": {
      "text/plain": [
       "0                 LOWER\n",
       "1              CAPITALS\n",
       "2    THIS IS A SENTENCE\n",
       "3              SWAPCASE\n",
       "dtype: object"
      ]
     },
     "execution_count": 50,
     "metadata": {},
     "output_type": "execute_result"
    }
   ],
   "source": [
    "s.str.upper()  # Converts the strings to uppercase."
   ]
  },
  {
   "cell_type": "code",
   "execution_count": 51,
   "id": "d09f3fd2",
   "metadata": {},
   "outputs": [
    {
     "data": {
      "text/plain": [
       "0                 Lower\n",
       "1              Capitals\n",
       "2    This Is A Sentence\n",
       "3              Swapcase\n",
       "dtype: object"
      ]
     },
     "execution_count": 51,
     "metadata": {},
     "output_type": "execute_result"
    }
   ],
   "source": [
    "s.str.title() # Converts the strings to title case, where the first letter of each word is capitalized."
   ]
  },
  {
   "cell_type": "code",
   "execution_count": 52,
   "id": "b207be5f",
   "metadata": {},
   "outputs": [
    {
     "data": {
      "text/plain": [
       "0                 LOWER\n",
       "1              capitals\n",
       "2    THIS IS A SENTENCE\n",
       "3              sWaPcAsE\n",
       "dtype: object"
      ]
     },
     "execution_count": 52,
     "metadata": {},
     "output_type": "execute_result"
    }
   ],
   "source": [
    "s.str.swapcase()"
   ]
  },
  {
   "cell_type": "code",
   "execution_count": 53,
   "id": "1c273b8d",
   "metadata": {},
   "outputs": [
    {
     "data": {
      "text/plain": [
       "0                 lower\n",
       "1              capitals\n",
       "2    this is a sentence\n",
       "3              swapcase\n",
       "dtype: object"
      ]
     },
     "execution_count": 53,
     "metadata": {},
     "output_type": "execute_result"
    }
   ],
   "source": [
    "s.str.casefold()"
   ]
  },
  {
   "cell_type": "markdown",
   "id": "8eebf19d",
   "metadata": {},
   "source": [
    "`str.center(10, fillchar='-')`: Centers the strings within a width of 10 characters and fills any remaining space with the specified fill character ('-').\n",
    "\n",
    "`str.ljust(10, fillchar='-')`: Left aligns the strings within a width of 10 characters and fills any remaining space with the specified fill character ('-').\n",
    "\n",
    "`str.rjust(10, fillchar='-')`: Right aligns the strings within a width of 10 characters and fills any remaining space with the specified fill character ('-').\n",
    "\n",
    "`str.pad(width=10, side='left', fillchar='-')`: Specifies the width, alignment side ('left', 'right', 'both'), and fill character ('-') for padding the strings."
   ]
  },
  {
   "cell_type": "code",
   "execution_count": 54,
   "id": "af47c1de",
   "metadata": {},
   "outputs": [
    {
     "data": {
      "text/plain": [
       "0            --lower---\n",
       "1            -CAPITALS-\n",
       "2    this is a sentence\n",
       "3            -SwApCaSe-\n",
       "dtype: object"
      ]
     },
     "execution_count": 54,
     "metadata": {},
     "output_type": "execute_result"
    }
   ],
   "source": [
    "s.str.center(10, fillchar = '-')"
   ]
  },
  {
   "cell_type": "code",
   "execution_count": 55,
   "id": "c65d4d96",
   "metadata": {},
   "outputs": [
    {
     "data": {
      "text/plain": [
       "0            lower-----\n",
       "1            CAPITALS--\n",
       "2    this is a sentence\n",
       "3            SwApCaSe--\n",
       "dtype: object"
      ]
     },
     "execution_count": 55,
     "metadata": {},
     "output_type": "execute_result"
    }
   ],
   "source": [
    "s.str.ljust(10, fillchar = '-')"
   ]
  },
  {
   "cell_type": "code",
   "execution_count": 56,
   "id": "32e91c64",
   "metadata": {},
   "outputs": [
    {
     "data": {
      "text/plain": [
       "0            -----lower\n",
       "1            --CAPITALS\n",
       "2    this is a sentence\n",
       "3            --SwApCaSe\n",
       "dtype: object"
      ]
     },
     "execution_count": 56,
     "metadata": {},
     "output_type": "execute_result"
    }
   ],
   "source": [
    "s.str.rjust(10, fillchar = '-')"
   ]
  },
  {
   "cell_type": "code",
   "execution_count": 57,
   "id": "8a50396d",
   "metadata": {},
   "outputs": [
    {
     "data": {
      "text/plain": [
       "0            -----lower\n",
       "1            --CAPITALS\n",
       "2    this is a sentence\n",
       "3            --SwApCaSe\n",
       "dtype: object"
      ]
     },
     "execution_count": 57,
     "metadata": {},
     "output_type": "execute_result"
    }
   ],
   "source": [
    "s.str.pad(width = 10, side = 'left', fillchar = '-')"
   ]
  },
  {
   "cell_type": "code",
   "execution_count": 58,
   "id": "02969679",
   "metadata": {},
   "outputs": [
    {
     "data": {
      "text/plain": [
       "0    000000000000000lower\n",
       "1    000000000000CAPITALS\n",
       "2    00this is a sentence\n",
       "3    000000000000SwApCaSe\n",
       "dtype: object"
      ]
     },
     "execution_count": 58,
     "metadata": {},
     "output_type": "execute_result"
    }
   ],
   "source": [
    "# method is used to pad the strings in a Series with leading zeros (0) \n",
    "# to achieve a specified width of n characters\n",
    "s.str.zfill(20)"
   ]
  }
 ],
 "metadata": {
  "kernelspec": {
   "display_name": "Python 3 (ipykernel)",
   "language": "python",
   "name": "python3"
  },
  "language_info": {
   "codemirror_mode": {
    "name": "ipython",
    "version": 3
   },
   "file_extension": ".py",
   "mimetype": "text/x-python",
   "name": "python",
   "nbconvert_exporter": "python",
   "pygments_lexer": "ipython3",
   "version": "3.10.7"
  },
  "toc": {
   "base_numbering": 1,
   "nav_menu": {},
   "number_sections": true,
   "sideBar": true,
   "skip_h1_title": false,
   "title_cell": "Table of Contents",
   "title_sidebar": "Contents",
   "toc_cell": false,
   "toc_position": {},
   "toc_section_display": true,
   "toc_window_display": true
  }
 },
 "nbformat": 4,
 "nbformat_minor": 5
}
