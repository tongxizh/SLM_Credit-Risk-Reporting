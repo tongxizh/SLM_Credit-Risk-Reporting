{
 "cells": [
  {
   "cell_type": "code",
   "execution_count": 1,
   "id": "3e0fd53a",
   "metadata": {},
   "outputs": [],
   "source": [
    "import numpy as np\n",
    "import pandas as pd"
   ]
  },
  {
   "cell_type": "code",
   "execution_count": 2,
   "id": "45be4942",
   "metadata": {},
   "outputs": [
    {
     "name": "stdout",
     "output_type": "stream",
     "text": [
      "2.0.2\n"
     ]
    }
   ],
   "source": [
    "print(pd.__version__)"
   ]
  },
  {
   "cell_type": "markdown",
   "id": "8e0add7d",
   "metadata": {},
   "source": [
    "# Creating a DataFrame\n",
    "\n",
    "A DataFrame is the most commonly used Pandas object. Similar to Series, a DataFrame supports various types of input data:\n",
    "\n",
    "* Method 1: Dictionary of Series\n",
    "* Method 2: Dictionary of Lists*\n",
    "* Method 3: List of Dictionaries*\n",
    "* Method 4: List of Lists (2D array)\n",
    "* Method 5: DataFrame.from_dict\n",
    "* Method 6: DataFrame.from_record\n",
    "* Method 7: Reading from files\n",
    "\n",
    "These methods provide flexibility in creating a DataFrame from different types of data sources."
   ]
  },
  {
   "cell_type": "markdown",
   "id": "ef651d12",
   "metadata": {},
   "source": [
    "## Method 1: Dictionary of series\n",
    "\n",
    "```python\n",
    "data = {  \n",
    "    \"col1\": pd.Series([],index),  \n",
    "    \"col2\": pd.Series([],index),  \n",
    "    \"col3\": pd.Series([],index)  \n",
    " } \n",
    " ```\n",
    " \n",
    "* The keys of the dictionary represent column names.\n",
    "* The values of the dictionary can be Series objects.\n",
    "* If the DataFrame does not specify index or columns, the keys of the dictionary will be used as columns, and the indexes of the Series will be used as the index of the DataFrame.\n",
    "* If the DataFrame specifies index or columns, it will filter the corresponding keys from the dictionary based on the specified columns and the corresponding indexes from the Series based on the specified index. The filtered results will then be placed into the generated DataFrame."
   ]
  },
  {
   "cell_type": "code",
   "execution_count": 3,
   "id": "dcaff87b",
   "metadata": {},
   "outputs": [
    {
     "data": {
      "text/html": [
       "<div>\n",
       "<style scoped>\n",
       "    .dataframe tbody tr th:only-of-type {\n",
       "        vertical-align: middle;\n",
       "    }\n",
       "\n",
       "    .dataframe tbody tr th {\n",
       "        vertical-align: top;\n",
       "    }\n",
       "\n",
       "    .dataframe thead th {\n",
       "        text-align: right;\n",
       "    }\n",
       "</style>\n",
       "<table border=\"1\" class=\"dataframe\">\n",
       "  <thead>\n",
       "    <tr style=\"text-align: right;\">\n",
       "      <th></th>\n",
       "      <th>name</th>\n",
       "      <th>age</th>\n",
       "      <th>city</th>\n",
       "    </tr>\n",
       "  </thead>\n",
       "  <tbody>\n",
       "    <tr>\n",
       "      <th>0</th>\n",
       "      <td>Tom</td>\n",
       "      <td>18</td>\n",
       "      <td>Los Angeles</td>\n",
       "    </tr>\n",
       "    <tr>\n",
       "      <th>1</th>\n",
       "      <td>Bob</td>\n",
       "      <td>30</td>\n",
       "      <td>New York</td>\n",
       "    </tr>\n",
       "    <tr>\n",
       "      <th>2</th>\n",
       "      <td>Mary</td>\n",
       "      <td>25</td>\n",
       "      <td>Chicago</td>\n",
       "    </tr>\n",
       "    <tr>\n",
       "      <th>3</th>\n",
       "      <td>James</td>\n",
       "      <td>40</td>\n",
       "      <td>Miami</td>\n",
       "    </tr>\n",
       "    <tr>\n",
       "      <th>4</th>\n",
       "      <td>Aria</td>\n",
       "      <td>22</td>\n",
       "      <td>Brambleton</td>\n",
       "    </tr>\n",
       "  </tbody>\n",
       "</table>\n",
       "</div>"
      ],
      "text/plain": [
       "    name  age         city\n",
       "0    Tom   18  Los Angeles\n",
       "1    Bob   30     New York\n",
       "2   Mary   25      Chicago\n",
       "3  James   40        Miami\n",
       "4   Aria   22   Brambleton"
      ]
     },
     "execution_count": 3,
     "metadata": {},
     "output_type": "execute_result"
    }
   ],
   "source": [
    "data = {\n",
    "    \"name\": pd.Series([\"Tom\", \"Bob\", \"Mary\", \"James\", \"Aria\"]),\n",
    "    \"age\": pd.Series([18, 30, 25, 40, 22]),\n",
    "    \"city\": pd.Series([\"Los Angeles\", \"New York\", \"Chicago\", \"Miami\", \"Brambleton\"])\n",
    "}\n",
    "user_info = pd.DataFrame(data)\n",
    "user_info"
   ]
  },
  {
   "cell_type": "markdown",
   "id": "81f84cfa",
   "metadata": {},
   "source": [
    "**Set the name as index**"
   ]
  },
  {
   "cell_type": "code",
   "execution_count": 4,
   "id": "87fb582e",
   "metadata": {},
   "outputs": [
    {
     "data": {
      "text/html": [
       "<div>\n",
       "<style scoped>\n",
       "    .dataframe tbody tr th:only-of-type {\n",
       "        vertical-align: middle;\n",
       "    }\n",
       "\n",
       "    .dataframe tbody tr th {\n",
       "        vertical-align: top;\n",
       "    }\n",
       "\n",
       "    .dataframe thead th {\n",
       "        text-align: right;\n",
       "    }\n",
       "</style>\n",
       "<table border=\"1\" class=\"dataframe\">\n",
       "  <thead>\n",
       "    <tr style=\"text-align: right;\">\n",
       "      <th></th>\n",
       "      <th>age</th>\n",
       "      <th>city</th>\n",
       "    </tr>\n",
       "  </thead>\n",
       "  <tbody>\n",
       "    <tr>\n",
       "      <th>Tom</th>\n",
       "      <td>18</td>\n",
       "      <td>Los Angeles</td>\n",
       "    </tr>\n",
       "    <tr>\n",
       "      <th>Bob</th>\n",
       "      <td>30</td>\n",
       "      <td>New York</td>\n",
       "    </tr>\n",
       "    <tr>\n",
       "      <th>Mary</th>\n",
       "      <td>25</td>\n",
       "      <td>Chicago</td>\n",
       "    </tr>\n",
       "    <tr>\n",
       "      <th>James</th>\n",
       "      <td>40</td>\n",
       "      <td>Miami</td>\n",
       "    </tr>\n",
       "    <tr>\n",
       "      <th>Aria</th>\n",
       "      <td>22</td>\n",
       "      <td>Brambleton</td>\n",
       "    </tr>\n",
       "  </tbody>\n",
       "</table>\n",
       "</div>"
      ],
      "text/plain": [
       "       age         city\n",
       "Tom     18  Los Angeles\n",
       "Bob     30     New York\n",
       "Mary    25      Chicago\n",
       "James   40        Miami\n",
       "Aria    22   Brambleton"
      ]
     },
     "execution_count": 4,
     "metadata": {},
     "output_type": "execute_result"
    }
   ],
   "source": [
    "index = [\"Tom\", \"Bob\", \"Mary\", \"James\", \"Aria\"]\n",
    "data = {\n",
    "    \"age\": pd.Series([18, 30, 25, 40, 22], index = index),\n",
    "    \"city\": pd.Series([\"Los Angeles\", \"New York\", \"Chicago\", \"Miami\", \"Brambleton\"], index = index)\n",
    "}\n",
    "user_info = pd.DataFrame(data)             \n",
    "user_info                      "
   ]
  },
  {
   "cell_type": "markdown",
   "id": "52f7fd7e",
   "metadata": {},
   "source": [
    "**When both the Series and the DataFrame specify indexes, the following will occur:**\n",
    "\n",
    "The DataFrame will first check if the DataFrame specified index exists in the Series.\n",
    "\n",
    "If the index exists in the Series, the corresponding values will be selected and assigned to the DataFrame at the corresponding index.\n",
    "\n",
    "If the index does not exist in the Series, the corresponding entry in the DataFrame will be filled with NaN (missing value) for that index.\n",
    "\n",
    "In summary, when both the Series and the DataFrame have specified indexes, the DataFrame will align the values from the Series based on the matching indexes and populate the DataFrame accordingly. Any indexes that do not have a corresponding value in the Series will result in NaN values in the DataFrame."
   ]
  },
  {
   "cell_type": "code",
   "execution_count": 5,
   "id": "c15b388c",
   "metadata": {},
   "outputs": [
    {
     "data": {
      "text/html": [
       "<div>\n",
       "<style scoped>\n",
       "    .dataframe tbody tr th:only-of-type {\n",
       "        vertical-align: middle;\n",
       "    }\n",
       "\n",
       "    .dataframe tbody tr th {\n",
       "        vertical-align: top;\n",
       "    }\n",
       "\n",
       "    .dataframe thead th {\n",
       "        text-align: right;\n",
       "    }\n",
       "</style>\n",
       "<table border=\"1\" class=\"dataframe\">\n",
       "  <thead>\n",
       "    <tr style=\"text-align: right;\">\n",
       "      <th></th>\n",
       "      <th>age</th>\n",
       "      <th>city</th>\n",
       "    </tr>\n",
       "  </thead>\n",
       "  <tbody>\n",
       "    <tr>\n",
       "      <th>Tom</th>\n",
       "      <td>18</td>\n",
       "      <td>Los Angeles</td>\n",
       "    </tr>\n",
       "    <tr>\n",
       "      <th>James</th>\n",
       "      <td>40</td>\n",
       "      <td>Miami</td>\n",
       "    </tr>\n",
       "    <tr>\n",
       "      <th>Aria</th>\n",
       "      <td>22</td>\n",
       "      <td>Brambleton</td>\n",
       "    </tr>\n",
       "  </tbody>\n",
       "</table>\n",
       "</div>"
      ],
      "text/plain": [
       "       age         city\n",
       "Tom     18  Los Angeles\n",
       "James   40        Miami\n",
       "Aria    22   Brambleton"
      ]
     },
     "execution_count": 5,
     "metadata": {},
     "output_type": "execute_result"
    }
   ],
   "source": [
    "index = [\"Tom\", \"Bob\", \"Mary\", \"James\", \"Aria\"]\n",
    "data = {\n",
    "    \"age\": pd.Series([18, 30, 25, 40, 22], index = index),\n",
    "    \"city\": pd.Series([\"Los Angeles\", \"New York\", \"Chicago\", \"Miami\", \"Brambleton\"], index = index)\n",
    "}\n",
    "user_info = pd.DataFrame(data, index = [\"Tom\", \"James\", \"Aria\"])\n",
    "user_info"
   ]
  },
  {
   "cell_type": "code",
   "execution_count": 6,
   "id": "3ae112e2",
   "metadata": {},
   "outputs": [
    {
     "data": {
      "text/html": [
       "<div>\n",
       "<style scoped>\n",
       "    .dataframe tbody tr th:only-of-type {\n",
       "        vertical-align: middle;\n",
       "    }\n",
       "\n",
       "    .dataframe tbody tr th {\n",
       "        vertical-align: top;\n",
       "    }\n",
       "\n",
       "    .dataframe thead th {\n",
       "        text-align: right;\n",
       "    }\n",
       "</style>\n",
       "<table border=\"1\" class=\"dataframe\">\n",
       "  <thead>\n",
       "    <tr style=\"text-align: right;\">\n",
       "      <th></th>\n",
       "      <th>age</th>\n",
       "      <th>city</th>\n",
       "    </tr>\n",
       "  </thead>\n",
       "  <tbody>\n",
       "    <tr>\n",
       "      <th>Tom</th>\n",
       "      <td>NaN</td>\n",
       "      <td>NaN</td>\n",
       "    </tr>\n",
       "    <tr>\n",
       "      <th>Bob</th>\n",
       "      <td>NaN</td>\n",
       "      <td>NaN</td>\n",
       "    </tr>\n",
       "    <tr>\n",
       "      <th>Mary</th>\n",
       "      <td>NaN</td>\n",
       "      <td>NaN</td>\n",
       "    </tr>\n",
       "    <tr>\n",
       "      <th>James</th>\n",
       "      <td>NaN</td>\n",
       "      <td>NaN</td>\n",
       "    </tr>\n",
       "    <tr>\n",
       "      <th>Aria</th>\n",
       "      <td>NaN</td>\n",
       "      <td>NaN</td>\n",
       "    </tr>\n",
       "  </tbody>\n",
       "</table>\n",
       "</div>"
      ],
      "text/plain": [
       "       age city\n",
       "Tom    NaN  NaN\n",
       "Bob    NaN  NaN\n",
       "Mary   NaN  NaN\n",
       "James  NaN  NaN\n",
       "Aria   NaN  NaN"
      ]
     },
     "execution_count": 6,
     "metadata": {},
     "output_type": "execute_result"
    }
   ],
   "source": [
    "data = {\n",
    "    \"age\": pd.Series([18, 30, 25, 40, 22]),\n",
    "    \"city\": pd.Series([\"Los Angeles\", \"New York\", \"Chicago\", \"Miami\", \"Seatle\"])\n",
    "}\n",
    "user_info = pd.DataFrame(data, index = [\"Tom\", \"Bob\", \"Mary\", \"James\", \"Aria\"])\n",
    "user_info"
   ]
  },
  {
   "cell_type": "code",
   "execution_count": 7,
   "id": "2723b4c2",
   "metadata": {},
   "outputs": [
    {
     "data": {
      "text/plain": [
       "RangeIndex(start=0, stop=5, step=1)"
      ]
     },
     "execution_count": 7,
     "metadata": {},
     "output_type": "execute_result"
    }
   ],
   "source": [
    "data['age'].index  # The column age will be following the index from 0 to 5 with step equals to 1"
   ]
  },
  {
   "cell_type": "code",
   "execution_count": 8,
   "id": "e9c98b9f",
   "metadata": {},
   "outputs": [
    {
     "data": {
      "text/plain": [
       "Index(['Tom', 'Bob', 'Mary', 'James', 'Aria'], dtype='object')"
      ]
     },
     "execution_count": 8,
     "metadata": {},
     "output_type": "execute_result"
    }
   ],
   "source": [
    "user_info.index  # User_info index in the index list assigned, but values are null."
   ]
  },
  {
   "cell_type": "markdown",
   "id": "1f4227c4",
   "metadata": {},
   "source": [
    "**Set the one column as index:**"
   ]
  },
  {
   "cell_type": "code",
   "execution_count": 9,
   "id": "a8854bc4",
   "metadata": {},
   "outputs": [
    {
     "data": {
      "text/html": [
       "<div>\n",
       "<style scoped>\n",
       "    .dataframe tbody tr th:only-of-type {\n",
       "        vertical-align: middle;\n",
       "    }\n",
       "\n",
       "    .dataframe tbody tr th {\n",
       "        vertical-align: top;\n",
       "    }\n",
       "\n",
       "    .dataframe thead th {\n",
       "        text-align: right;\n",
       "    }\n",
       "</style>\n",
       "<table border=\"1\" class=\"dataframe\">\n",
       "  <thead>\n",
       "    <tr style=\"text-align: right;\">\n",
       "      <th></th>\n",
       "      <th>age</th>\n",
       "      <th>city</th>\n",
       "    </tr>\n",
       "  </thead>\n",
       "  <tbody>\n",
       "    <tr>\n",
       "      <th>Tom</th>\n",
       "      <td>18</td>\n",
       "      <td>Los Angeles</td>\n",
       "    </tr>\n",
       "    <tr>\n",
       "      <th>Bob</th>\n",
       "      <td>30</td>\n",
       "      <td>New York</td>\n",
       "    </tr>\n",
       "    <tr>\n",
       "      <th>Mary</th>\n",
       "      <td>25</td>\n",
       "      <td>Chicago</td>\n",
       "    </tr>\n",
       "    <tr>\n",
       "      <th>James</th>\n",
       "      <td>40</td>\n",
       "      <td>Miami</td>\n",
       "    </tr>\n",
       "    <tr>\n",
       "      <th>Aria</th>\n",
       "      <td>22</td>\n",
       "      <td>Seatle</td>\n",
       "    </tr>\n",
       "  </tbody>\n",
       "</table>\n",
       "</div>"
      ],
      "text/plain": [
       "       age         city\n",
       "Tom     18  Los Angeles\n",
       "Bob     30     New York\n",
       "Mary    25      Chicago\n",
       "James   40        Miami\n",
       "Aria    22       Seatle"
      ]
     },
     "execution_count": 9,
     "metadata": {},
     "output_type": "execute_result"
    }
   ],
   "source": [
    "data = {\n",
    "    \"age\": pd.Series([18, 30, 25, 40, 22]),\n",
    "    \"city\": pd.Series([\"Los Angeles\", \"New York\", \"Chicago\", \"Miami\", \"Seatle\"])\n",
    "}\n",
    "user_info = pd.DataFrame(data)\n",
    "# Set the name column as index, use index method\n",
    "user_info.index = ['Tom', 'Bob', 'Mary', 'James', 'Aria'] \n",
    "user_info"
   ]
  },
  {
   "cell_type": "markdown",
   "id": "aad8acd4",
   "metadata": {},
   "source": [
    "Similar to how indexes are handled, when specifying columns for the DataFrame, there are a few considerations:\n",
    "\n",
    "* The DataFrame will use the specified columns as the definitive set of columns.\n",
    "* It will search for columns in the data that have the same names as the specified columns.\n",
    "* Only the columns with matching names will be included in the DataFrame.\n",
    "* Columns in the data that do not have matching names with the specified columns will be ignored.\n",
    "\n",
    "In essence, specifying columns in the DataFrame acts as a filter to select and include only the columns from the data that match the specified columns, resulting in a DataFrame with the desired columns."
   ]
  },
  {
   "cell_type": "code",
   "execution_count": 10,
   "id": "20d6fb17",
   "metadata": {},
   "outputs": [
    {
     "data": {
      "text/html": [
       "<div>\n",
       "<style scoped>\n",
       "    .dataframe tbody tr th:only-of-type {\n",
       "        vertical-align: middle;\n",
       "    }\n",
       "\n",
       "    .dataframe tbody tr th {\n",
       "        vertical-align: top;\n",
       "    }\n",
       "\n",
       "    .dataframe thead th {\n",
       "        text-align: right;\n",
       "    }\n",
       "</style>\n",
       "<table border=\"1\" class=\"dataframe\">\n",
       "  <thead>\n",
       "    <tr style=\"text-align: right;\">\n",
       "      <th></th>\n",
       "      <th>city</th>\n",
       "      <th>hobby</th>\n",
       "    </tr>\n",
       "  </thead>\n",
       "  <tbody>\n",
       "    <tr>\n",
       "      <th>0</th>\n",
       "      <td>Los Angeles</td>\n",
       "      <td>NaN</td>\n",
       "    </tr>\n",
       "    <tr>\n",
       "      <th>1</th>\n",
       "      <td>New York</td>\n",
       "      <td>NaN</td>\n",
       "    </tr>\n",
       "    <tr>\n",
       "      <th>2</th>\n",
       "      <td>Chicago</td>\n",
       "      <td>NaN</td>\n",
       "    </tr>\n",
       "    <tr>\n",
       "      <th>3</th>\n",
       "      <td>Miami</td>\n",
       "      <td>NaN</td>\n",
       "    </tr>\n",
       "    <tr>\n",
       "      <th>4</th>\n",
       "      <td>Brambleton</td>\n",
       "      <td>NaN</td>\n",
       "    </tr>\n",
       "  </tbody>\n",
       "</table>\n",
       "</div>"
      ],
      "text/plain": [
       "          city hobby\n",
       "0  Los Angeles   NaN\n",
       "1     New York   NaN\n",
       "2      Chicago   NaN\n",
       "3        Miami   NaN\n",
       "4   Brambleton   NaN"
      ]
     },
     "execution_count": 10,
     "metadata": {},
     "output_type": "execute_result"
    }
   ],
   "source": [
    "data = {\n",
    "    \"age\": pd.Series([18, 30, 25, 40, 22]),\n",
    "    \"city\": pd.Series([\"Los Angeles\", \"New York\", \"Chicago\", \"Miami\", \"Brambleton\"])\n",
    "}\n",
    "user_info = pd.DataFrame(data, columns = ['city', 'hobby'])\n",
    "user_info"
   ]
  },
  {
   "cell_type": "markdown",
   "id": "f718e795",
   "metadata": {},
   "source": [
    "## Method 2: Dictionary of Lists*"
   ]
  },
  {
   "cell_type": "code",
   "execution_count": 11,
   "id": "e69b1a52",
   "metadata": {},
   "outputs": [
    {
     "data": {
      "text/html": [
       "<div>\n",
       "<style scoped>\n",
       "    .dataframe tbody tr th:only-of-type {\n",
       "        vertical-align: middle;\n",
       "    }\n",
       "\n",
       "    .dataframe tbody tr th {\n",
       "        vertical-align: top;\n",
       "    }\n",
       "\n",
       "    .dataframe thead th {\n",
       "        text-align: right;\n",
       "    }\n",
       "</style>\n",
       "<table border=\"1\" class=\"dataframe\">\n",
       "  <thead>\n",
       "    <tr style=\"text-align: right;\">\n",
       "      <th></th>\n",
       "      <th>name</th>\n",
       "      <th>age</th>\n",
       "      <th>city</th>\n",
       "    </tr>\n",
       "  </thead>\n",
       "  <tbody>\n",
       "    <tr>\n",
       "      <th>0</th>\n",
       "      <td>Tom</td>\n",
       "      <td>18</td>\n",
       "      <td>Los Angeles</td>\n",
       "    </tr>\n",
       "    <tr>\n",
       "      <th>1</th>\n",
       "      <td>Bob</td>\n",
       "      <td>30</td>\n",
       "      <td>New York</td>\n",
       "    </tr>\n",
       "    <tr>\n",
       "      <th>2</th>\n",
       "      <td>Mary</td>\n",
       "      <td>25</td>\n",
       "      <td>Chicago</td>\n",
       "    </tr>\n",
       "    <tr>\n",
       "      <th>3</th>\n",
       "      <td>James</td>\n",
       "      <td>40</td>\n",
       "      <td>Miami</td>\n",
       "    </tr>\n",
       "    <tr>\n",
       "      <th>4</th>\n",
       "      <td>Aria</td>\n",
       "      <td>22</td>\n",
       "      <td>Brambleton</td>\n",
       "    </tr>\n",
       "  </tbody>\n",
       "</table>\n",
       "</div>"
      ],
      "text/plain": [
       "    name  age         city\n",
       "0    Tom   18  Los Angeles\n",
       "1    Bob   30     New York\n",
       "2   Mary   25      Chicago\n",
       "3  James   40        Miami\n",
       "4   Aria   22   Brambleton"
      ]
     },
     "execution_count": 11,
     "metadata": {},
     "output_type": "execute_result"
    }
   ],
   "source": [
    "data  = {\n",
    "    \"name\": [\"Tom\", \"Bob\", \"Mary\", \"James\", \"Aria\"],\n",
    "    \"age\" : [18, 30, 25, 40, 22],\n",
    "    \"city\" : [\"Los Angeles\", \"New York\", \"Chicago\", \"Miami\", \"Brambleton\"]\n",
    "}\n",
    "user_info = pd.DataFrame(data = data)\n",
    "user_info"
   ]
  },
  {
   "cell_type": "markdown",
   "id": "cfd34516",
   "metadata": {},
   "source": [
    "## Method 3:  List of Dictionaries*"
   ]
  },
  {
   "cell_type": "code",
   "execution_count": 12,
   "id": "e6944424",
   "metadata": {},
   "outputs": [
    {
     "data": {
      "text/html": [
       "<div>\n",
       "<style scoped>\n",
       "    .dataframe tbody tr th:only-of-type {\n",
       "        vertical-align: middle;\n",
       "    }\n",
       "\n",
       "    .dataframe tbody tr th {\n",
       "        vertical-align: top;\n",
       "    }\n",
       "\n",
       "    .dataframe thead th {\n",
       "        text-align: right;\n",
       "    }\n",
       "</style>\n",
       "<table border=\"1\" class=\"dataframe\">\n",
       "  <thead>\n",
       "    <tr style=\"text-align: right;\">\n",
       "      <th></th>\n",
       "      <th>name</th>\n",
       "      <th>age</th>\n",
       "      <th>city</th>\n",
       "    </tr>\n",
       "  </thead>\n",
       "  <tbody>\n",
       "    <tr>\n",
       "      <th>0</th>\n",
       "      <td>Tom</td>\n",
       "      <td>18</td>\n",
       "      <td>Los Angeles</td>\n",
       "    </tr>\n",
       "    <tr>\n",
       "      <th>1</th>\n",
       "      <td>Bob</td>\n",
       "      <td>30</td>\n",
       "      <td>New York</td>\n",
       "    </tr>\n",
       "    <tr>\n",
       "      <th>2</th>\n",
       "      <td>Mary</td>\n",
       "      <td>25</td>\n",
       "      <td>Chicago</td>\n",
       "    </tr>\n",
       "    <tr>\n",
       "      <th>3</th>\n",
       "      <td>James</td>\n",
       "      <td>40</td>\n",
       "      <td>Miami</td>\n",
       "    </tr>\n",
       "  </tbody>\n",
       "</table>\n",
       "</div>"
      ],
      "text/plain": [
       "    name  age         city\n",
       "0    Tom   18  Los Angeles\n",
       "1    Bob   30     New York\n",
       "2   Mary   25      Chicago\n",
       "3  James   40        Miami"
      ]
     },
     "execution_count": 12,
     "metadata": {},
     "output_type": "execute_result"
    }
   ],
   "source": [
    "data = [\n",
    "    {'name':'Tom','age':18,'city': \"Los Angeles\"},\n",
    "    {'name':'Bob','age': 30, 'city': 'New York'},\n",
    "    {'name':'Mary','age': 25, 'city': 'Chicago'},\n",
    "    {'name':'James','age': 40, 'city': 'Miami'}\n",
    "]\n",
    "user_info = pd.DataFrame(data)\n",
    "user_info"
   ]
  },
  {
   "cell_type": "code",
   "execution_count": 13,
   "id": "dd3c3061",
   "metadata": {},
   "outputs": [
    {
     "data": {
      "text/html": [
       "<div>\n",
       "<style scoped>\n",
       "    .dataframe tbody tr th:only-of-type {\n",
       "        vertical-align: middle;\n",
       "    }\n",
       "\n",
       "    .dataframe tbody tr th {\n",
       "        vertical-align: top;\n",
       "    }\n",
       "\n",
       "    .dataframe thead th {\n",
       "        text-align: right;\n",
       "    }\n",
       "</style>\n",
       "<table border=\"1\" class=\"dataframe\">\n",
       "  <thead>\n",
       "    <tr style=\"text-align: right;\">\n",
       "      <th></th>\n",
       "      <th>age</th>\n",
       "      <th>city</th>\n",
       "    </tr>\n",
       "    <tr>\n",
       "      <th>name</th>\n",
       "      <th></th>\n",
       "      <th></th>\n",
       "    </tr>\n",
       "  </thead>\n",
       "  <tbody>\n",
       "    <tr>\n",
       "      <th>Tom</th>\n",
       "      <td>18</td>\n",
       "      <td>Los Angeles</td>\n",
       "    </tr>\n",
       "    <tr>\n",
       "      <th>Bob</th>\n",
       "      <td>30</td>\n",
       "      <td>New York</td>\n",
       "    </tr>\n",
       "    <tr>\n",
       "      <th>Mary</th>\n",
       "      <td>25</td>\n",
       "      <td>Chicago</td>\n",
       "    </tr>\n",
       "    <tr>\n",
       "      <th>James</th>\n",
       "      <td>40</td>\n",
       "      <td>Miami</td>\n",
       "    </tr>\n",
       "  </tbody>\n",
       "</table>\n",
       "</div>"
      ],
      "text/plain": [
       "       age         city\n",
       "name                   \n",
       "Tom     18  Los Angeles\n",
       "Bob     30     New York\n",
       "Mary    25      Chicago\n",
       "James   40        Miami"
      ]
     },
     "execution_count": 13,
     "metadata": {},
     "output_type": "execute_result"
    }
   ],
   "source": [
    "user_info.set_index('name')"
   ]
  },
  {
   "cell_type": "markdown",
   "id": "fee49939",
   "metadata": {},
   "source": [
    "## Method 4:  List of Lists (2D array)"
   ]
  },
  {
   "cell_type": "code",
   "execution_count": 14,
   "id": "891d556b",
   "metadata": {},
   "outputs": [
    {
     "data": {
      "text/html": [
       "<div>\n",
       "<style scoped>\n",
       "    .dataframe tbody tr th:only-of-type {\n",
       "        vertical-align: middle;\n",
       "    }\n",
       "\n",
       "    .dataframe tbody tr th {\n",
       "        vertical-align: top;\n",
       "    }\n",
       "\n",
       "    .dataframe thead th {\n",
       "        text-align: right;\n",
       "    }\n",
       "</style>\n",
       "<table border=\"1\" class=\"dataframe\">\n",
       "  <thead>\n",
       "    <tr style=\"text-align: right;\">\n",
       "      <th></th>\n",
       "      <th>name</th>\n",
       "      <th>age</th>\n",
       "      <th>city</th>\n",
       "    </tr>\n",
       "  </thead>\n",
       "  <tbody>\n",
       "    <tr>\n",
       "      <th>0</th>\n",
       "      <td>Tom</td>\n",
       "      <td>18</td>\n",
       "      <td>Los Angeles</td>\n",
       "    </tr>\n",
       "    <tr>\n",
       "      <th>1</th>\n",
       "      <td>Bob</td>\n",
       "      <td>30</td>\n",
       "      <td>New York</td>\n",
       "    </tr>\n",
       "    <tr>\n",
       "      <th>2</th>\n",
       "      <td>Mary</td>\n",
       "      <td>25</td>\n",
       "      <td>Chicago</td>\n",
       "    </tr>\n",
       "    <tr>\n",
       "      <th>3</th>\n",
       "      <td>James</td>\n",
       "      <td>40</td>\n",
       "      <td>Miami</td>\n",
       "    </tr>\n",
       "  </tbody>\n",
       "</table>\n",
       "</div>"
      ],
      "text/plain": [
       "    name  age         city\n",
       "0    Tom   18  Los Angeles\n",
       "1    Bob   30     New York\n",
       "2   Mary   25      Chicago\n",
       "3  James   40        Miami"
      ]
     },
     "execution_count": 14,
     "metadata": {},
     "output_type": "execute_result"
    }
   ],
   "source": [
    "data = [['Tom',18, \"Los Angeles\"],\n",
    "        ['Bob', 30, \"New York\"],\n",
    "        ['Mary', 25, \"Chicago\"],\n",
    "        ['James', 40, \"Miami\"]]\n",
    "columns = ['name', 'age', 'city']\n",
    "user_info = pd.DataFrame(data, columns=columns)\n",
    "user_info"
   ]
  },
  {
   "cell_type": "markdown",
   "id": "46dc2368",
   "metadata": {},
   "source": [
    "## Method 5: DataFrame.from_dict\n",
    "\n",
    "The ``from_dict()`` method in DataFrame is used to convert a dictionary into a DataFrame object. This method accepts the following parameters:\n",
    "\n",
    "* data: A dictionary or an array-like object to create the DataFrame.\n",
    "* orient: The orientation of the data. It allows values of \"columns\" or \"index\", with the default value being \"columns\".\n",
    "* columns: When the orientation is set to \"index\", it represents a list of values to be used as labels for the DataFrame. If used together with the column orientation, a ValueError will be raised.\n",
    "\n",
    "In summary, `from_dict()` allows you to create a DataFrame from a dictionary, specifying the orientation of the data and the labels for columns (if applicable)."
   ]
  },
  {
   "cell_type": "code",
   "execution_count": 15,
   "id": "c171ec62",
   "metadata": {},
   "outputs": [
    {
     "data": {
      "text/html": [
       "<div>\n",
       "<style scoped>\n",
       "    .dataframe tbody tr th:only-of-type {\n",
       "        vertical-align: middle;\n",
       "    }\n",
       "\n",
       "    .dataframe tbody tr th {\n",
       "        vertical-align: top;\n",
       "    }\n",
       "\n",
       "    .dataframe thead th {\n",
       "        text-align: right;\n",
       "    }\n",
       "</style>\n",
       "<table border=\"1\" class=\"dataframe\">\n",
       "  <thead>\n",
       "    <tr style=\"text-align: right;\">\n",
       "      <th></th>\n",
       "      <th>name</th>\n",
       "      <th>age</th>\n",
       "      <th>city</th>\n",
       "    </tr>\n",
       "  </thead>\n",
       "  <tbody>\n",
       "    <tr>\n",
       "      <th>0</th>\n",
       "      <td>Tom</td>\n",
       "      <td>18</td>\n",
       "      <td>Los Angeles</td>\n",
       "    </tr>\n",
       "    <tr>\n",
       "      <th>1</th>\n",
       "      <td>Bob</td>\n",
       "      <td>30</td>\n",
       "      <td>New York</td>\n",
       "    </tr>\n",
       "    <tr>\n",
       "      <th>2</th>\n",
       "      <td>Mary</td>\n",
       "      <td>25</td>\n",
       "      <td>Chicago</td>\n",
       "    </tr>\n",
       "    <tr>\n",
       "      <th>3</th>\n",
       "      <td>James</td>\n",
       "      <td>40</td>\n",
       "      <td>Miami</td>\n",
       "    </tr>\n",
       "    <tr>\n",
       "      <th>4</th>\n",
       "      <td>Aria</td>\n",
       "      <td>22</td>\n",
       "      <td>Brambleton</td>\n",
       "    </tr>\n",
       "  </tbody>\n",
       "</table>\n",
       "</div>"
      ],
      "text/plain": [
       "    name  age         city\n",
       "0    Tom   18  Los Angeles\n",
       "1    Bob   30     New York\n",
       "2   Mary   25      Chicago\n",
       "3  James   40        Miami\n",
       "4   Aria   22   Brambleton"
      ]
     },
     "execution_count": 15,
     "metadata": {},
     "output_type": "execute_result"
    }
   ],
   "source": [
    "data  = {\n",
    "    \"name\": [\"Tom\", \"Bob\", \"Mary\", \"James\", \"Aria\"],\n",
    "    \"age\" : [18, 30, 25, 40, 22],\n",
    "    \"city\" : [\"Los Angeles\", \"New York\", \"Chicago\", \"Miami\", \"Brambleton\"]\n",
    "}\n",
    "user_info = pd.DataFrame.from_dict(data)\n",
    "user_info"
   ]
  },
  {
   "cell_type": "code",
   "execution_count": 16,
   "id": "f51702f1",
   "metadata": {},
   "outputs": [
    {
     "data": {
      "text/html": [
       "<div>\n",
       "<style scoped>\n",
       "    .dataframe tbody tr th:only-of-type {\n",
       "        vertical-align: middle;\n",
       "    }\n",
       "\n",
       "    .dataframe tbody tr th {\n",
       "        vertical-align: top;\n",
       "    }\n",
       "\n",
       "    .dataframe thead th {\n",
       "        text-align: right;\n",
       "    }\n",
       "</style>\n",
       "<table border=\"1\" class=\"dataframe\">\n",
       "  <thead>\n",
       "    <tr style=\"text-align: right;\">\n",
       "      <th></th>\n",
       "      <th>0</th>\n",
       "      <th>1</th>\n",
       "      <th>2</th>\n",
       "      <th>3</th>\n",
       "      <th>4</th>\n",
       "    </tr>\n",
       "  </thead>\n",
       "  <tbody>\n",
       "    <tr>\n",
       "      <th>name</th>\n",
       "      <td>Tom</td>\n",
       "      <td>Bob</td>\n",
       "      <td>Mary</td>\n",
       "      <td>James</td>\n",
       "      <td>Aria</td>\n",
       "    </tr>\n",
       "    <tr>\n",
       "      <th>age</th>\n",
       "      <td>18</td>\n",
       "      <td>30</td>\n",
       "      <td>25</td>\n",
       "      <td>40</td>\n",
       "      <td>22</td>\n",
       "    </tr>\n",
       "    <tr>\n",
       "      <th>city</th>\n",
       "      <td>Los Angeles</td>\n",
       "      <td>New York</td>\n",
       "      <td>Chicago</td>\n",
       "      <td>Miami</td>\n",
       "      <td>Brambleton</td>\n",
       "    </tr>\n",
       "  </tbody>\n",
       "</table>\n",
       "</div>"
      ],
      "text/plain": [
       "                0         1        2      3           4\n",
       "name          Tom       Bob     Mary  James        Aria\n",
       "age            18        30       25     40          22\n",
       "city  Los Angeles  New York  Chicago  Miami  Brambleton"
      ]
     },
     "execution_count": 16,
     "metadata": {},
     "output_type": "execute_result"
    }
   ],
   "source": [
    "user_info = pd.DataFrame.from_dict(data, orient = 'index')\n",
    "user_info"
   ]
  },
  {
   "cell_type": "code",
   "execution_count": 17,
   "id": "a6880836",
   "metadata": {},
   "outputs": [
    {
     "data": {
      "text/html": [
       "<div>\n",
       "<style scoped>\n",
       "    .dataframe tbody tr th:only-of-type {\n",
       "        vertical-align: middle;\n",
       "    }\n",
       "\n",
       "    .dataframe tbody tr th {\n",
       "        vertical-align: top;\n",
       "    }\n",
       "\n",
       "    .dataframe thead th {\n",
       "        text-align: right;\n",
       "    }\n",
       "</style>\n",
       "<table border=\"1\" class=\"dataframe\">\n",
       "  <thead>\n",
       "    <tr style=\"text-align: right;\">\n",
       "      <th></th>\n",
       "      <th>Student 1</th>\n",
       "      <th>Student 2</th>\n",
       "      <th>Student 3</th>\n",
       "      <th>Student 4</th>\n",
       "      <th>Student 5</th>\n",
       "    </tr>\n",
       "  </thead>\n",
       "  <tbody>\n",
       "    <tr>\n",
       "      <th>name</th>\n",
       "      <td>Tom</td>\n",
       "      <td>Bob</td>\n",
       "      <td>Mary</td>\n",
       "      <td>James</td>\n",
       "      <td>Aria</td>\n",
       "    </tr>\n",
       "    <tr>\n",
       "      <th>age</th>\n",
       "      <td>18</td>\n",
       "      <td>30</td>\n",
       "      <td>25</td>\n",
       "      <td>40</td>\n",
       "      <td>22</td>\n",
       "    </tr>\n",
       "    <tr>\n",
       "      <th>city</th>\n",
       "      <td>Los Angeles</td>\n",
       "      <td>New York</td>\n",
       "      <td>Chicago</td>\n",
       "      <td>Miami</td>\n",
       "      <td>Brambleton</td>\n",
       "    </tr>\n",
       "  </tbody>\n",
       "</table>\n",
       "</div>"
      ],
      "text/plain": [
       "        Student 1 Student 2 Student 3 Student 4   Student 5\n",
       "name          Tom       Bob      Mary     James        Aria\n",
       "age            18        30        25        40          22\n",
       "city  Los Angeles  New York   Chicago     Miami  Brambleton"
      ]
     },
     "execution_count": 17,
     "metadata": {},
     "output_type": "execute_result"
    }
   ],
   "source": [
    "user_info = pd.DataFrame.from_dict(data, orient='index', \n",
    "            columns = ['Student 1', 'Student 2', 'Student 3', 'Student 4', 'Student 5'])\n",
    "user_info"
   ]
  },
  {
   "cell_type": "markdown",
   "id": "502ba6db",
   "metadata": {},
   "source": [
    "## Method 6: DataFrame.from_record\n",
    "\n",
    "The ```from_records()``` method in DataFrame is used to convert structured data or arrays into a DataFrame object. This method accepts the following parameters:\n",
    "\n",
    "* data: A structured data array, tuple, or a sequence of dictionaries or DataFrame structured input data.\n",
    "* index: Index labels.\n",
    "* exclude: A sequence of columns or indexes to exclude.\n",
    "* columns: A sequence of column names.\n",
    "* coerce_float: A boolean value (default False) to force conversion to float data type.\n",
    "* nrows: An integer value (default None) representing the number of rows to read if the data is an iterator.\n",
    "\n",
    "In summary, ```from_records()``` allows you to create a DataFrame from structured data or arrays, providing options for specifying index, columns, excluding columns, and controlling data types."
   ]
  },
  {
   "cell_type": "code",
   "execution_count": 18,
   "id": "f9da3f35",
   "metadata": {},
   "outputs": [
    {
     "data": {
      "text/html": [
       "<div>\n",
       "<style scoped>\n",
       "    .dataframe tbody tr th:only-of-type {\n",
       "        vertical-align: middle;\n",
       "    }\n",
       "\n",
       "    .dataframe tbody tr th {\n",
       "        vertical-align: top;\n",
       "    }\n",
       "\n",
       "    .dataframe thead th {\n",
       "        text-align: right;\n",
       "    }\n",
       "</style>\n",
       "<table border=\"1\" class=\"dataframe\">\n",
       "  <thead>\n",
       "    <tr style=\"text-align: right;\">\n",
       "      <th></th>\n",
       "      <th>city</th>\n",
       "      <th>name</th>\n",
       "    </tr>\n",
       "  </thead>\n",
       "  <tbody>\n",
       "    <tr>\n",
       "      <th>0</th>\n",
       "      <td>Los Angeles</td>\n",
       "      <td>Tom</td>\n",
       "    </tr>\n",
       "    <tr>\n",
       "      <th>1</th>\n",
       "      <td>New York</td>\n",
       "      <td>Bob</td>\n",
       "    </tr>\n",
       "    <tr>\n",
       "      <th>2</th>\n",
       "      <td>Chicago</td>\n",
       "      <td>Mary</td>\n",
       "    </tr>\n",
       "    <tr>\n",
       "      <th>3</th>\n",
       "      <td>Miami</td>\n",
       "      <td>James</td>\n",
       "    </tr>\n",
       "    <tr>\n",
       "      <th>4</th>\n",
       "      <td>Brambleton</td>\n",
       "      <td>Aria</td>\n",
       "    </tr>\n",
       "  </tbody>\n",
       "</table>\n",
       "</div>"
      ],
      "text/plain": [
       "          city   name\n",
       "0  Los Angeles    Tom\n",
       "1     New York    Bob\n",
       "2      Chicago   Mary\n",
       "3        Miami  James\n",
       "4   Brambleton   Aria"
      ]
     },
     "execution_count": 18,
     "metadata": {},
     "output_type": "execute_result"
    }
   ],
   "source": [
    "data  = {\n",
    "    \"name\": [\"Tom\", \"Bob\", \"Mary\", \"James\", \"Aria\"],\n",
    "    \"age\" : [18, 30, 25, 40, 22],\n",
    "    \"city\" : [\"Los Angeles\", \"New York\", \"Chicago\", \"Miami\", \"Brambleton\"]\n",
    "}\n",
    "user_info = pd.DataFrame.from_records(data, exclude = ['age'])\n",
    "user_info"
   ]
  },
  {
   "cell_type": "markdown",
   "id": "b6122ecc",
   "metadata": {},
   "source": [
    "## Method 7: Reading from files\n",
    "\n",
    "In data analysis, reading and writing operations are common tasks. Pandas provides several API methods for I/O operations. Below are a few commonly used methods for reading data, all of which return a DataFrame:\n",
    "\n",
    "* read_csv: Reads data from a CSV file.\n",
    "* read_excel: Reads data from an Excel file.\n",
    "* read_html: Reads data from an HTML file.\n",
    "* read_sql: Reads data from a SQL database.\n",
    "* read_json: Reads data from a JSON file.\n",
    "\n",
    "These methods allow you to read data from different file formats and databases into a DataFrame, enabling further analysis and manipulation using Pandas' powerful functionalities."
   ]
  },
  {
   "cell_type": "markdown",
   "id": "0622f90d",
   "metadata": {},
   "source": [
    "# DataFrame Properties\n",
    "\n",
    "The basic properties of a DataFrame are as follows:\n",
    "\n",
    "* ```df.shape```: View the shape (number of rows and columns) of the DataFrame.\n",
    "\n",
    "* ```df.columns```: View the column names of the DataFrame.\n",
    "\n",
    "* ```df.index```: View the index labels of the DataFrame.\n",
    "\n",
    "* ```df.dtypes```: View the data types of each column in the DataFrame.\n",
    "\n",
    "* ```df.ndim```: View the number of dimensions (2 for DataFrame) of the DataFrame.\n",
    "\n",
    "* ```df.T```: Transpose the DataFrame (swap rows and columns).\n",
    "\n",
    "* ```df.values```: Convert the DataFrame into an array.\n",
    "\n",
    "These properties allow you to examine and retrieve important information about the structure, dimensions, and content of a DataFrame, facilitating data exploration and analysis tasks."
   ]
  },
  {
   "cell_type": "markdown",
   "id": "dca84dbe",
   "metadata": {},
   "source": [
    "# Data Frame Methods\n",
    "\n",
    "## Basic Methods\n",
    "\n",
    "* ```df.head(n)```: View the first n rows of data. By default, n is 5.\n",
    "\n",
    "* ```df.tail(n)```: View the last n rows of data. By default, n is 5.\n",
    "\n",
    "* ```df.info()```: View the overall information about the DataFrame.\n",
    "\n",
    "* ```df.select_dtypes(include=['float64'])```: Select columns of specific data types."
   ]
  },
  {
   "cell_type": "code",
   "execution_count": 19,
   "id": "18beb099",
   "metadata": {},
   "outputs": [
    {
     "data": {
      "text/html": [
       "<div>\n",
       "<style scoped>\n",
       "    .dataframe tbody tr th:only-of-type {\n",
       "        vertical-align: middle;\n",
       "    }\n",
       "\n",
       "    .dataframe tbody tr th {\n",
       "        vertical-align: top;\n",
       "    }\n",
       "\n",
       "    .dataframe thead th {\n",
       "        text-align: right;\n",
       "    }\n",
       "</style>\n",
       "<table border=\"1\" class=\"dataframe\">\n",
       "  <thead>\n",
       "    <tr style=\"text-align: right;\">\n",
       "      <th></th>\n",
       "      <th>city</th>\n",
       "      <th>name</th>\n",
       "    </tr>\n",
       "  </thead>\n",
       "  <tbody>\n",
       "    <tr>\n",
       "      <th>0</th>\n",
       "      <td>Los Angeles</td>\n",
       "      <td>Tom</td>\n",
       "    </tr>\n",
       "    <tr>\n",
       "      <th>1</th>\n",
       "      <td>New York</td>\n",
       "      <td>Bob</td>\n",
       "    </tr>\n",
       "    <tr>\n",
       "      <th>2</th>\n",
       "      <td>Chicago</td>\n",
       "      <td>Mary</td>\n",
       "    </tr>\n",
       "  </tbody>\n",
       "</table>\n",
       "</div>"
      ],
      "text/plain": [
       "          city  name\n",
       "0  Los Angeles   Tom\n",
       "1     New York   Bob\n",
       "2      Chicago  Mary"
      ]
     },
     "execution_count": 19,
     "metadata": {},
     "output_type": "execute_result"
    }
   ],
   "source": [
    "user_info.head(3)"
   ]
  },
  {
   "cell_type": "code",
   "execution_count": 20,
   "id": "6e9a5570",
   "metadata": {},
   "outputs": [
    {
     "data": {
      "text/html": [
       "<div>\n",
       "<style scoped>\n",
       "    .dataframe tbody tr th:only-of-type {\n",
       "        vertical-align: middle;\n",
       "    }\n",
       "\n",
       "    .dataframe tbody tr th {\n",
       "        vertical-align: top;\n",
       "    }\n",
       "\n",
       "    .dataframe thead th {\n",
       "        text-align: right;\n",
       "    }\n",
       "</style>\n",
       "<table border=\"1\" class=\"dataframe\">\n",
       "  <thead>\n",
       "    <tr style=\"text-align: right;\">\n",
       "      <th></th>\n",
       "      <th>city</th>\n",
       "      <th>name</th>\n",
       "    </tr>\n",
       "  </thead>\n",
       "  <tbody>\n",
       "    <tr>\n",
       "      <th>3</th>\n",
       "      <td>Miami</td>\n",
       "      <td>James</td>\n",
       "    </tr>\n",
       "    <tr>\n",
       "      <th>4</th>\n",
       "      <td>Brambleton</td>\n",
       "      <td>Aria</td>\n",
       "    </tr>\n",
       "  </tbody>\n",
       "</table>\n",
       "</div>"
      ],
      "text/plain": [
       "         city   name\n",
       "3       Miami  James\n",
       "4  Brambleton   Aria"
      ]
     },
     "execution_count": 20,
     "metadata": {},
     "output_type": "execute_result"
    }
   ],
   "source": [
    "user_info.tail(2)"
   ]
  },
  {
   "cell_type": "code",
   "execution_count": 21,
   "id": "6c61d306",
   "metadata": {},
   "outputs": [
    {
     "name": "stdout",
     "output_type": "stream",
     "text": [
      "<class 'pandas.core.frame.DataFrame'>\n",
      "RangeIndex: 5 entries, 0 to 4\n",
      "Data columns (total 2 columns):\n",
      " #   Column  Non-Null Count  Dtype \n",
      "---  ------  --------------  ----- \n",
      " 0   city    5 non-null      object\n",
      " 1   name    5 non-null      object\n",
      "dtypes: object(2)\n",
      "memory usage: 208.0+ bytes\n"
     ]
    }
   ],
   "source": [
    "user_info.info()"
   ]
  },
  {
   "cell_type": "code",
   "execution_count": 22,
   "id": "43d25b04",
   "metadata": {},
   "outputs": [
    {
     "data": {
      "text/html": [
       "<div>\n",
       "<style scoped>\n",
       "    .dataframe tbody tr th:only-of-type {\n",
       "        vertical-align: middle;\n",
       "    }\n",
       "\n",
       "    .dataframe tbody tr th {\n",
       "        vertical-align: top;\n",
       "    }\n",
       "\n",
       "    .dataframe thead th {\n",
       "        text-align: right;\n",
       "    }\n",
       "</style>\n",
       "<table border=\"1\" class=\"dataframe\">\n",
       "  <thead>\n",
       "    <tr style=\"text-align: right;\">\n",
       "      <th></th>\n",
       "      <th>city</th>\n",
       "      <th>name</th>\n",
       "    </tr>\n",
       "  </thead>\n",
       "  <tbody>\n",
       "    <tr>\n",
       "      <th>0</th>\n",
       "      <td>Los Angeles</td>\n",
       "      <td>Tom</td>\n",
       "    </tr>\n",
       "    <tr>\n",
       "      <th>1</th>\n",
       "      <td>New York</td>\n",
       "      <td>Bob</td>\n",
       "    </tr>\n",
       "    <tr>\n",
       "      <th>2</th>\n",
       "      <td>Chicago</td>\n",
       "      <td>Mary</td>\n",
       "    </tr>\n",
       "    <tr>\n",
       "      <th>3</th>\n",
       "      <td>Miami</td>\n",
       "      <td>James</td>\n",
       "    </tr>\n",
       "    <tr>\n",
       "      <th>4</th>\n",
       "      <td>Brambleton</td>\n",
       "      <td>Aria</td>\n",
       "    </tr>\n",
       "  </tbody>\n",
       "</table>\n",
       "</div>"
      ],
      "text/plain": [
       "          city   name\n",
       "0  Los Angeles    Tom\n",
       "1     New York    Bob\n",
       "2      Chicago   Mary\n",
       "3        Miami  James\n",
       "4   Brambleton   Aria"
      ]
     },
     "execution_count": 22,
     "metadata": {},
     "output_type": "execute_result"
    }
   ],
   "source": [
    "user_info.select_dtypes(include = 'object')"
   ]
  },
  {
   "cell_type": "markdown",
   "id": "d647b3cb",
   "metadata": {},
   "source": [
    "## Description and Statistics\n",
    "\n",
    "**Description and statistics of the population**\n",
    "\n",
    "* ```df.describe()```: View an overall summary of the numeric columns in the DataFrame.\n",
    "\n",
    "* ```df.describe(include=['object'])```: View an overall summary of the non-numeric columns in the DataFrame.\n",
    "\n",
    "* ```df.groupby(col1)[col2].count()```: Perform a grouping operation on col1 and count the occurrences of col2 within each group.\n",
    "\n",
    "**Single Column Description and Statistics**: To analyze a single column, we can use ```df[col]``` to select the column data, which will be of type Series. You can then apply the methods introduced in the previous section for Series.\n",
    "\n",
    "* ```df[col].value_counts()```: Count the occurrences of each value in a specific column, similar to grouping.\n",
    "* ```df[col].sum()```: Compute the sum of the values in a specific column."
   ]
  },
  {
   "cell_type": "code",
   "execution_count": 23,
   "id": "6b848103",
   "metadata": {},
   "outputs": [
    {
     "data": {
      "text/html": [
       "<div>\n",
       "<style scoped>\n",
       "    .dataframe tbody tr th:only-of-type {\n",
       "        vertical-align: middle;\n",
       "    }\n",
       "\n",
       "    .dataframe tbody tr th {\n",
       "        vertical-align: top;\n",
       "    }\n",
       "\n",
       "    .dataframe thead th {\n",
       "        text-align: right;\n",
       "    }\n",
       "</style>\n",
       "<table border=\"1\" class=\"dataframe\">\n",
       "  <thead>\n",
       "    <tr style=\"text-align: right;\">\n",
       "      <th></th>\n",
       "      <th>age</th>\n",
       "      <th>city</th>\n",
       "      <th>sex</th>\n",
       "    </tr>\n",
       "    <tr>\n",
       "      <th>name</th>\n",
       "      <th></th>\n",
       "      <th></th>\n",
       "      <th></th>\n",
       "    </tr>\n",
       "  </thead>\n",
       "  <tbody>\n",
       "    <tr>\n",
       "      <th>Tom</th>\n",
       "      <td>18</td>\n",
       "      <td>Los Angeles</td>\n",
       "      <td>Male</td>\n",
       "    </tr>\n",
       "    <tr>\n",
       "      <th>Bob</th>\n",
       "      <td>30</td>\n",
       "      <td>New York</td>\n",
       "      <td>Male</td>\n",
       "    </tr>\n",
       "    <tr>\n",
       "      <th>Mary</th>\n",
       "      <td>25</td>\n",
       "      <td>Chicago</td>\n",
       "      <td>Female</td>\n",
       "    </tr>\n",
       "    <tr>\n",
       "      <th>James</th>\n",
       "      <td>40</td>\n",
       "      <td>Miami</td>\n",
       "      <td>Male</td>\n",
       "    </tr>\n",
       "    <tr>\n",
       "      <th>Aria</th>\n",
       "      <td>22</td>\n",
       "      <td>Brambleton</td>\n",
       "      <td>Female</td>\n",
       "    </tr>\n",
       "  </tbody>\n",
       "</table>\n",
       "</div>"
      ],
      "text/plain": [
       "       age         city     sex\n",
       "name                           \n",
       "Tom     18  Los Angeles    Male\n",
       "Bob     30     New York    Male\n",
       "Mary    25      Chicago  Female\n",
       "James   40        Miami    Male\n",
       "Aria    22   Brambleton  Female"
      ]
     },
     "execution_count": 23,
     "metadata": {},
     "output_type": "execute_result"
    }
   ],
   "source": [
    "data  = {\n",
    "    \"age\" : [18, 30, 25, 40, 22],\n",
    "    \"city\" : [\"Los Angeles\", \"New York\", \"Chicago\", \"Miami\", \"Brambleton\"],\n",
    "    'sex': ['Male', 'Male', 'Female', 'Male', 'Female']\n",
    "}\n",
    "index = pd.Index( [\"Tom\", \"Bob\", \"Mary\", \"James\", \"Aria\"], name = 'name')\n",
    "user_info = pd.DataFrame(data = data, index = index)\n",
    "user_info"
   ]
  },
  {
   "cell_type": "code",
   "execution_count": 24,
   "id": "d3c91152",
   "metadata": {},
   "outputs": [
    {
     "data": {
      "text/html": [
       "<div>\n",
       "<style scoped>\n",
       "    .dataframe tbody tr th:only-of-type {\n",
       "        vertical-align: middle;\n",
       "    }\n",
       "\n",
       "    .dataframe tbody tr th {\n",
       "        vertical-align: top;\n",
       "    }\n",
       "\n",
       "    .dataframe thead th {\n",
       "        text-align: right;\n",
       "    }\n",
       "</style>\n",
       "<table border=\"1\" class=\"dataframe\">\n",
       "  <thead>\n",
       "    <tr style=\"text-align: right;\">\n",
       "      <th></th>\n",
       "      <th>age</th>\n",
       "    </tr>\n",
       "  </thead>\n",
       "  <tbody>\n",
       "    <tr>\n",
       "      <th>count</th>\n",
       "      <td>5.000000</td>\n",
       "    </tr>\n",
       "    <tr>\n",
       "      <th>mean</th>\n",
       "      <td>27.000000</td>\n",
       "    </tr>\n",
       "    <tr>\n",
       "      <th>std</th>\n",
       "      <td>8.485281</td>\n",
       "    </tr>\n",
       "    <tr>\n",
       "      <th>min</th>\n",
       "      <td>18.000000</td>\n",
       "    </tr>\n",
       "    <tr>\n",
       "      <th>25%</th>\n",
       "      <td>22.000000</td>\n",
       "    </tr>\n",
       "    <tr>\n",
       "      <th>50%</th>\n",
       "      <td>25.000000</td>\n",
       "    </tr>\n",
       "    <tr>\n",
       "      <th>75%</th>\n",
       "      <td>30.000000</td>\n",
       "    </tr>\n",
       "    <tr>\n",
       "      <th>max</th>\n",
       "      <td>40.000000</td>\n",
       "    </tr>\n",
       "  </tbody>\n",
       "</table>\n",
       "</div>"
      ],
      "text/plain": [
       "             age\n",
       "count   5.000000\n",
       "mean   27.000000\n",
       "std     8.485281\n",
       "min    18.000000\n",
       "25%    22.000000\n",
       "50%    25.000000\n",
       "75%    30.000000\n",
       "max    40.000000"
      ]
     },
     "execution_count": 24,
     "metadata": {},
     "output_type": "execute_result"
    }
   ],
   "source": [
    "user_info.describe()"
   ]
  },
  {
   "cell_type": "code",
   "execution_count": 25,
   "id": "d7b9bb5b",
   "metadata": {},
   "outputs": [
    {
     "data": {
      "text/html": [
       "<div>\n",
       "<style scoped>\n",
       "    .dataframe tbody tr th:only-of-type {\n",
       "        vertical-align: middle;\n",
       "    }\n",
       "\n",
       "    .dataframe tbody tr th {\n",
       "        vertical-align: top;\n",
       "    }\n",
       "\n",
       "    .dataframe thead th {\n",
       "        text-align: right;\n",
       "    }\n",
       "</style>\n",
       "<table border=\"1\" class=\"dataframe\">\n",
       "  <thead>\n",
       "    <tr style=\"text-align: right;\">\n",
       "      <th></th>\n",
       "      <th>city</th>\n",
       "      <th>sex</th>\n",
       "    </tr>\n",
       "  </thead>\n",
       "  <tbody>\n",
       "    <tr>\n",
       "      <th>count</th>\n",
       "      <td>5</td>\n",
       "      <td>5</td>\n",
       "    </tr>\n",
       "    <tr>\n",
       "      <th>unique</th>\n",
       "      <td>5</td>\n",
       "      <td>2</td>\n",
       "    </tr>\n",
       "    <tr>\n",
       "      <th>top</th>\n",
       "      <td>Los Angeles</td>\n",
       "      <td>Male</td>\n",
       "    </tr>\n",
       "    <tr>\n",
       "      <th>freq</th>\n",
       "      <td>1</td>\n",
       "      <td>3</td>\n",
       "    </tr>\n",
       "  </tbody>\n",
       "</table>\n",
       "</div>"
      ],
      "text/plain": [
       "               city   sex\n",
       "count             5     5\n",
       "unique            5     2\n",
       "top     Los Angeles  Male\n",
       "freq              1     3"
      ]
     },
     "execution_count": 25,
     "metadata": {},
     "output_type": "execute_result"
    }
   ],
   "source": [
    "user_info.describe(include = ['object'])"
   ]
  },
  {
   "cell_type": "code",
   "execution_count": 26,
   "id": "d411e835",
   "metadata": {},
   "outputs": [
    {
     "data": {
      "text/plain": [
       "sex\n",
       "Female    2\n",
       "Male      3\n",
       "Name: age, dtype: int64"
      ]
     },
     "execution_count": 26,
     "metadata": {},
     "output_type": "execute_result"
    }
   ],
   "source": [
    "user_info.groupby('sex')['age'].count()"
   ]
  },
  {
   "cell_type": "code",
   "execution_count": 27,
   "id": "4abfdb3a",
   "metadata": {},
   "outputs": [
    {
     "data": {
      "text/plain": [
       "sex\n",
       "Male      3\n",
       "Female    2\n",
       "Name: count, dtype: int64"
      ]
     },
     "execution_count": 27,
     "metadata": {},
     "output_type": "execute_result"
    }
   ],
   "source": [
    "user_info['sex'].value_counts()"
   ]
  },
  {
   "cell_type": "code",
   "execution_count": 28,
   "id": "879f061d",
   "metadata": {},
   "outputs": [
    {
     "data": {
      "text/plain": [
       "135"
      ]
     },
     "execution_count": 28,
     "metadata": {},
     "output_type": "execute_result"
    }
   ],
   "source": [
    "user_info['age'].sum()"
   ]
  },
  {
   "cell_type": "markdown",
   "id": "7a1f838b",
   "metadata": {},
   "source": [
    "## Sorting\n",
    "Sorting data is a common operation in data analysis. Pandas supports two types of sorting: sorting by axis (index or columns) and sorting by actual values.\n",
    "\n",
    "* ```sort_index()``` method is used to sort by labels (row labels or column labels).\n",
    "* ```sort_values()``` method is used to sort by the values in one or more columns.\n",
    "\n",
    "These two methods are also available for Series, and their functionality is very similar. The difference is that sort_index() operates on a Series object, while sort_index() and sort_values() can be used on DataFrame objects."
   ]
  },
  {
   "cell_type": "code",
   "execution_count": 29,
   "id": "0950e8b1",
   "metadata": {},
   "outputs": [
    {
     "data": {
      "text/html": [
       "<div>\n",
       "<style scoped>\n",
       "    .dataframe tbody tr th:only-of-type {\n",
       "        vertical-align: middle;\n",
       "    }\n",
       "\n",
       "    .dataframe tbody tr th {\n",
       "        vertical-align: top;\n",
       "    }\n",
       "\n",
       "    .dataframe thead th {\n",
       "        text-align: right;\n",
       "    }\n",
       "</style>\n",
       "<table border=\"1\" class=\"dataframe\">\n",
       "  <thead>\n",
       "    <tr style=\"text-align: right;\">\n",
       "      <th></th>\n",
       "      <th>age</th>\n",
       "      <th>city</th>\n",
       "      <th>sex</th>\n",
       "    </tr>\n",
       "    <tr>\n",
       "      <th>name</th>\n",
       "      <th></th>\n",
       "      <th></th>\n",
       "      <th></th>\n",
       "    </tr>\n",
       "  </thead>\n",
       "  <tbody>\n",
       "    <tr>\n",
       "      <th>Aria</th>\n",
       "      <td>22</td>\n",
       "      <td>Brambleton</td>\n",
       "      <td>Female</td>\n",
       "    </tr>\n",
       "    <tr>\n",
       "      <th>Bob</th>\n",
       "      <td>30</td>\n",
       "      <td>New York</td>\n",
       "      <td>Male</td>\n",
       "    </tr>\n",
       "    <tr>\n",
       "      <th>James</th>\n",
       "      <td>40</td>\n",
       "      <td>Miami</td>\n",
       "      <td>Male</td>\n",
       "    </tr>\n",
       "    <tr>\n",
       "      <th>Mary</th>\n",
       "      <td>25</td>\n",
       "      <td>Chicago</td>\n",
       "      <td>Female</td>\n",
       "    </tr>\n",
       "    <tr>\n",
       "      <th>Tom</th>\n",
       "      <td>18</td>\n",
       "      <td>Los Angeles</td>\n",
       "      <td>Male</td>\n",
       "    </tr>\n",
       "  </tbody>\n",
       "</table>\n",
       "</div>"
      ],
      "text/plain": [
       "       age         city     sex\n",
       "name                           \n",
       "Aria    22   Brambleton  Female\n",
       "Bob     30     New York    Male\n",
       "James   40        Miami    Male\n",
       "Mary    25      Chicago  Female\n",
       "Tom     18  Los Angeles    Male"
      ]
     },
     "execution_count": 29,
     "metadata": {},
     "output_type": "execute_result"
    }
   ],
   "source": [
    "user_info.sort_index()"
   ]
  },
  {
   "cell_type": "code",
   "execution_count": 30,
   "id": "64bf9cbe",
   "metadata": {},
   "outputs": [
    {
     "data": {
      "text/html": [
       "<div>\n",
       "<style scoped>\n",
       "    .dataframe tbody tr th:only-of-type {\n",
       "        vertical-align: middle;\n",
       "    }\n",
       "\n",
       "    .dataframe tbody tr th {\n",
       "        vertical-align: top;\n",
       "    }\n",
       "\n",
       "    .dataframe thead th {\n",
       "        text-align: right;\n",
       "    }\n",
       "</style>\n",
       "<table border=\"1\" class=\"dataframe\">\n",
       "  <thead>\n",
       "    <tr style=\"text-align: right;\">\n",
       "      <th></th>\n",
       "      <th>age</th>\n",
       "      <th>city</th>\n",
       "      <th>sex</th>\n",
       "    </tr>\n",
       "    <tr>\n",
       "      <th>name</th>\n",
       "      <th></th>\n",
       "      <th></th>\n",
       "      <th></th>\n",
       "    </tr>\n",
       "  </thead>\n",
       "  <tbody>\n",
       "    <tr>\n",
       "      <th>Tom</th>\n",
       "      <td>18</td>\n",
       "      <td>Los Angeles</td>\n",
       "      <td>Male</td>\n",
       "    </tr>\n",
       "    <tr>\n",
       "      <th>Bob</th>\n",
       "      <td>30</td>\n",
       "      <td>New York</td>\n",
       "      <td>Male</td>\n",
       "    </tr>\n",
       "    <tr>\n",
       "      <th>Mary</th>\n",
       "      <td>25</td>\n",
       "      <td>Chicago</td>\n",
       "      <td>Female</td>\n",
       "    </tr>\n",
       "    <tr>\n",
       "      <th>James</th>\n",
       "      <td>40</td>\n",
       "      <td>Miami</td>\n",
       "      <td>Male</td>\n",
       "    </tr>\n",
       "    <tr>\n",
       "      <th>Aria</th>\n",
       "      <td>22</td>\n",
       "      <td>Brambleton</td>\n",
       "      <td>Female</td>\n",
       "    </tr>\n",
       "  </tbody>\n",
       "</table>\n",
       "</div>"
      ],
      "text/plain": [
       "       age         city     sex\n",
       "name                           \n",
       "Tom     18  Los Angeles    Male\n",
       "Bob     30     New York    Male\n",
       "Mary    25      Chicago  Female\n",
       "James   40        Miami    Male\n",
       "Aria    22   Brambleton  Female"
      ]
     },
     "execution_count": 30,
     "metadata": {},
     "output_type": "execute_result"
    }
   ],
   "source": [
    "user_info.sort_index(axis = 1, ascending = True)"
   ]
  },
  {
   "cell_type": "code",
   "execution_count": 31,
   "id": "86a2e6c7",
   "metadata": {},
   "outputs": [
    {
     "data": {
      "text/html": [
       "<div>\n",
       "<style scoped>\n",
       "    .dataframe tbody tr th:only-of-type {\n",
       "        vertical-align: middle;\n",
       "    }\n",
       "\n",
       "    .dataframe tbody tr th {\n",
       "        vertical-align: top;\n",
       "    }\n",
       "\n",
       "    .dataframe thead th {\n",
       "        text-align: right;\n",
       "    }\n",
       "</style>\n",
       "<table border=\"1\" class=\"dataframe\">\n",
       "  <thead>\n",
       "    <tr style=\"text-align: right;\">\n",
       "      <th></th>\n",
       "      <th>age</th>\n",
       "      <th>city</th>\n",
       "      <th>sex</th>\n",
       "    </tr>\n",
       "    <tr>\n",
       "      <th>name</th>\n",
       "      <th></th>\n",
       "      <th></th>\n",
       "      <th></th>\n",
       "    </tr>\n",
       "  </thead>\n",
       "  <tbody>\n",
       "    <tr>\n",
       "      <th>Tom</th>\n",
       "      <td>18</td>\n",
       "      <td>Los Angeles</td>\n",
       "      <td>Male</td>\n",
       "    </tr>\n",
       "    <tr>\n",
       "      <th>Aria</th>\n",
       "      <td>22</td>\n",
       "      <td>Brambleton</td>\n",
       "      <td>Female</td>\n",
       "    </tr>\n",
       "    <tr>\n",
       "      <th>Mary</th>\n",
       "      <td>25</td>\n",
       "      <td>Chicago</td>\n",
       "      <td>Female</td>\n",
       "    </tr>\n",
       "    <tr>\n",
       "      <th>Bob</th>\n",
       "      <td>30</td>\n",
       "      <td>New York</td>\n",
       "      <td>Male</td>\n",
       "    </tr>\n",
       "    <tr>\n",
       "      <th>James</th>\n",
       "      <td>40</td>\n",
       "      <td>Miami</td>\n",
       "      <td>Male</td>\n",
       "    </tr>\n",
       "  </tbody>\n",
       "</table>\n",
       "</div>"
      ],
      "text/plain": [
       "       age         city     sex\n",
       "name                           \n",
       "Tom     18  Los Angeles    Male\n",
       "Aria    22   Brambleton  Female\n",
       "Mary    25      Chicago  Female\n",
       "Bob     30     New York    Male\n",
       "James   40        Miami    Male"
      ]
     },
     "execution_count": 31,
     "metadata": {},
     "output_type": "execute_result"
    }
   ],
   "source": [
    "user_info.sort_values(by = 'age')"
   ]
  },
  {
   "cell_type": "markdown",
   "id": "dd9d4b30",
   "metadata": {},
   "source": [
    "## Conditional element-wise function\n",
    "\n",
    "### where\n",
    "```python\n",
    "where(cond,other = np.nan, inplace = False,axis = None,level = None, errors = \"raise\", try_cast = False)\n",
    "```"
   ]
  },
  {
   "cell_type": "code",
   "execution_count": 32,
   "id": "7f9b07bd",
   "metadata": {},
   "outputs": [
    {
     "data": {
      "text/html": [
       "<div>\n",
       "<style scoped>\n",
       "    .dataframe tbody tr th:only-of-type {\n",
       "        vertical-align: middle;\n",
       "    }\n",
       "\n",
       "    .dataframe tbody tr th {\n",
       "        vertical-align: top;\n",
       "    }\n",
       "\n",
       "    .dataframe thead th {\n",
       "        text-align: right;\n",
       "    }\n",
       "</style>\n",
       "<table border=\"1\" class=\"dataframe\">\n",
       "  <thead>\n",
       "    <tr style=\"text-align: right;\">\n",
       "      <th></th>\n",
       "      <th>age</th>\n",
       "      <th>city</th>\n",
       "      <th>sex</th>\n",
       "      <th>score</th>\n",
       "    </tr>\n",
       "    <tr>\n",
       "      <th>name</th>\n",
       "      <th></th>\n",
       "      <th></th>\n",
       "      <th></th>\n",
       "      <th></th>\n",
       "    </tr>\n",
       "  </thead>\n",
       "  <tbody>\n",
       "    <tr>\n",
       "      <th>Tom</th>\n",
       "      <td>18</td>\n",
       "      <td>Los Angeles</td>\n",
       "      <td>Male</td>\n",
       "      <td>98</td>\n",
       "    </tr>\n",
       "    <tr>\n",
       "      <th>Bob</th>\n",
       "      <td>30</td>\n",
       "      <td>New York</td>\n",
       "      <td>Male</td>\n",
       "      <td>95</td>\n",
       "    </tr>\n",
       "    <tr>\n",
       "      <th>Mary</th>\n",
       "      <td>25</td>\n",
       "      <td>Chicago</td>\n",
       "      <td>Female</td>\n",
       "      <td>87</td>\n",
       "    </tr>\n",
       "    <tr>\n",
       "      <th>James</th>\n",
       "      <td>40</td>\n",
       "      <td>Miami</td>\n",
       "      <td>Male</td>\n",
       "      <td>83</td>\n",
       "    </tr>\n",
       "    <tr>\n",
       "      <th>Aria</th>\n",
       "      <td>22</td>\n",
       "      <td>Brambleton</td>\n",
       "      <td>Female</td>\n",
       "      <td>100</td>\n",
       "    </tr>\n",
       "  </tbody>\n",
       "</table>\n",
       "</div>"
      ],
      "text/plain": [
       "       age         city     sex  score\n",
       "name                                  \n",
       "Tom     18  Los Angeles    Male     98\n",
       "Bob     30     New York    Male     95\n",
       "Mary    25      Chicago  Female     87\n",
       "James   40        Miami    Male     83\n",
       "Aria    22   Brambleton  Female    100"
      ]
     },
     "execution_count": 32,
     "metadata": {},
     "output_type": "execute_result"
    }
   ],
   "source": [
    "user_info['score'] = [98, 95, 87, 83, 100]\n",
    "user_info"
   ]
  },
  {
   "cell_type": "markdown",
   "id": "9ffd81b0",
   "metadata": {},
   "source": [
    "By default, when using the `where()` function in pandas, if the condition is not met, the corresponding values are replaced with `NaN` (Not a Number)."
   ]
  },
  {
   "cell_type": "code",
   "execution_count": 33,
   "id": "1035be25",
   "metadata": {},
   "outputs": [
    {
     "data": {
      "text/html": [
       "<div>\n",
       "<style scoped>\n",
       "    .dataframe tbody tr th:only-of-type {\n",
       "        vertical-align: middle;\n",
       "    }\n",
       "\n",
       "    .dataframe tbody tr th {\n",
       "        vertical-align: top;\n",
       "    }\n",
       "\n",
       "    .dataframe thead th {\n",
       "        text-align: right;\n",
       "    }\n",
       "</style>\n",
       "<table border=\"1\" class=\"dataframe\">\n",
       "  <thead>\n",
       "    <tr style=\"text-align: right;\">\n",
       "      <th></th>\n",
       "      <th>age</th>\n",
       "      <th>city</th>\n",
       "      <th>sex</th>\n",
       "      <th>score</th>\n",
       "    </tr>\n",
       "    <tr>\n",
       "      <th>name</th>\n",
       "      <th></th>\n",
       "      <th></th>\n",
       "      <th></th>\n",
       "      <th></th>\n",
       "    </tr>\n",
       "  </thead>\n",
       "  <tbody>\n",
       "    <tr>\n",
       "      <th>Tom</th>\n",
       "      <td>NaN</td>\n",
       "      <td>NaN</td>\n",
       "      <td>NaN</td>\n",
       "      <td>NaN</td>\n",
       "    </tr>\n",
       "    <tr>\n",
       "      <th>Bob</th>\n",
       "      <td>30.0</td>\n",
       "      <td>New York</td>\n",
       "      <td>Male</td>\n",
       "      <td>95.0</td>\n",
       "    </tr>\n",
       "    <tr>\n",
       "      <th>Mary</th>\n",
       "      <td>NaN</td>\n",
       "      <td>NaN</td>\n",
       "      <td>NaN</td>\n",
       "      <td>NaN</td>\n",
       "    </tr>\n",
       "    <tr>\n",
       "      <th>James</th>\n",
       "      <td>40.0</td>\n",
       "      <td>Miami</td>\n",
       "      <td>Male</td>\n",
       "      <td>83.0</td>\n",
       "    </tr>\n",
       "    <tr>\n",
       "      <th>Aria</th>\n",
       "      <td>NaN</td>\n",
       "      <td>NaN</td>\n",
       "      <td>NaN</td>\n",
       "      <td>NaN</td>\n",
       "    </tr>\n",
       "  </tbody>\n",
       "</table>\n",
       "</div>"
      ],
      "text/plain": [
       "        age      city   sex  score\n",
       "name                              \n",
       "Tom     NaN       NaN   NaN    NaN\n",
       "Bob    30.0  New York  Male   95.0\n",
       "Mary    NaN       NaN   NaN    NaN\n",
       "James  40.0     Miami  Male   83.0\n",
       "Aria    NaN       NaN   NaN    NaN"
      ]
     },
     "execution_count": 33,
     "metadata": {},
     "output_type": "execute_result"
    }
   ],
   "source": [
    "user_info.where(user_info['age'] > 25)"
   ]
  },
  {
   "cell_type": "code",
   "execution_count": 34,
   "id": "93304b9e",
   "metadata": {},
   "outputs": [
    {
     "data": {
      "text/html": [
       "<div>\n",
       "<style scoped>\n",
       "    .dataframe tbody tr th:only-of-type {\n",
       "        vertical-align: middle;\n",
       "    }\n",
       "\n",
       "    .dataframe tbody tr th {\n",
       "        vertical-align: top;\n",
       "    }\n",
       "\n",
       "    .dataframe thead th {\n",
       "        text-align: right;\n",
       "    }\n",
       "</style>\n",
       "<table border=\"1\" class=\"dataframe\">\n",
       "  <thead>\n",
       "    <tr style=\"text-align: right;\">\n",
       "      <th></th>\n",
       "      <th>age</th>\n",
       "      <th>city</th>\n",
       "      <th>sex</th>\n",
       "      <th>score</th>\n",
       "    </tr>\n",
       "    <tr>\n",
       "      <th>name</th>\n",
       "      <th></th>\n",
       "      <th></th>\n",
       "      <th></th>\n",
       "      <th></th>\n",
       "    </tr>\n",
       "  </thead>\n",
       "  <tbody>\n",
       "    <tr>\n",
       "      <th>Bob</th>\n",
       "      <td>30.0</td>\n",
       "      <td>New York</td>\n",
       "      <td>Male</td>\n",
       "      <td>95.0</td>\n",
       "    </tr>\n",
       "    <tr>\n",
       "      <th>James</th>\n",
       "      <td>40.0</td>\n",
       "      <td>Miami</td>\n",
       "      <td>Male</td>\n",
       "      <td>83.0</td>\n",
       "    </tr>\n",
       "  </tbody>\n",
       "</table>\n",
       "</div>"
      ],
      "text/plain": [
       "        age      city   sex  score\n",
       "name                              \n",
       "Bob    30.0  New York  Male   95.0\n",
       "James  40.0     Miami  Male   83.0"
      ]
     },
     "execution_count": 34,
     "metadata": {},
     "output_type": "execute_result"
    }
   ],
   "source": [
    "user_info.where(user_info['age'] > 25).dropna()"
   ]
  },
  {
   "cell_type": "code",
   "execution_count": 35,
   "id": "29d9404b",
   "metadata": {},
   "outputs": [
    {
     "data": {
      "text/html": [
       "<div>\n",
       "<style scoped>\n",
       "    .dataframe tbody tr th:only-of-type {\n",
       "        vertical-align: middle;\n",
       "    }\n",
       "\n",
       "    .dataframe tbody tr th {\n",
       "        vertical-align: top;\n",
       "    }\n",
       "\n",
       "    .dataframe thead th {\n",
       "        text-align: right;\n",
       "    }\n",
       "</style>\n",
       "<table border=\"1\" class=\"dataframe\">\n",
       "  <thead>\n",
       "    <tr style=\"text-align: right;\">\n",
       "      <th></th>\n",
       "      <th>age</th>\n",
       "      <th>city</th>\n",
       "      <th>sex</th>\n",
       "      <th>score</th>\n",
       "    </tr>\n",
       "    <tr>\n",
       "      <th>name</th>\n",
       "      <th></th>\n",
       "      <th></th>\n",
       "      <th></th>\n",
       "      <th></th>\n",
       "    </tr>\n",
       "  </thead>\n",
       "  <tbody>\n",
       "    <tr>\n",
       "      <th>Bob</th>\n",
       "      <td>30</td>\n",
       "      <td>New York</td>\n",
       "      <td>Male</td>\n",
       "      <td>95</td>\n",
       "    </tr>\n",
       "    <tr>\n",
       "      <th>James</th>\n",
       "      <td>40</td>\n",
       "      <td>Miami</td>\n",
       "      <td>Male</td>\n",
       "      <td>83</td>\n",
       "    </tr>\n",
       "  </tbody>\n",
       "</table>\n",
       "</div>"
      ],
      "text/plain": [
       "       age      city   sex  score\n",
       "name                             \n",
       "Bob     30  New York  Male     95\n",
       "James   40     Miami  Male     83"
      ]
     },
     "execution_count": 35,
     "metadata": {},
     "output_type": "execute_result"
    }
   ],
   "source": [
    "user_info[user_info['age'] > 25]"
   ]
  },
  {
   "cell_type": "code",
   "execution_count": 36,
   "id": "c2b45d2e",
   "metadata": {},
   "outputs": [
    {
     "data": {
      "text/html": [
       "<div>\n",
       "<style scoped>\n",
       "    .dataframe tbody tr th:only-of-type {\n",
       "        vertical-align: middle;\n",
       "    }\n",
       "\n",
       "    .dataframe tbody tr th {\n",
       "        vertical-align: top;\n",
       "    }\n",
       "\n",
       "    .dataframe thead th {\n",
       "        text-align: right;\n",
       "    }\n",
       "</style>\n",
       "<table border=\"1\" class=\"dataframe\">\n",
       "  <thead>\n",
       "    <tr style=\"text-align: right;\">\n",
       "      <th></th>\n",
       "      <th>age</th>\n",
       "      <th>city</th>\n",
       "      <th>sex</th>\n",
       "      <th>score</th>\n",
       "    </tr>\n",
       "    <tr>\n",
       "      <th>name</th>\n",
       "      <th></th>\n",
       "      <th></th>\n",
       "      <th></th>\n",
       "      <th></th>\n",
       "    </tr>\n",
       "  </thead>\n",
       "  <tbody>\n",
       "    <tr>\n",
       "      <th>Tom</th>\n",
       "      <td>25</td>\n",
       "      <td>25</td>\n",
       "      <td>25</td>\n",
       "      <td>25</td>\n",
       "    </tr>\n",
       "    <tr>\n",
       "      <th>Bob</th>\n",
       "      <td>30</td>\n",
       "      <td>New York</td>\n",
       "      <td>Male</td>\n",
       "      <td>95</td>\n",
       "    </tr>\n",
       "    <tr>\n",
       "      <th>Mary</th>\n",
       "      <td>25</td>\n",
       "      <td>25</td>\n",
       "      <td>25</td>\n",
       "      <td>25</td>\n",
       "    </tr>\n",
       "    <tr>\n",
       "      <th>James</th>\n",
       "      <td>40</td>\n",
       "      <td>Miami</td>\n",
       "      <td>Male</td>\n",
       "      <td>83</td>\n",
       "    </tr>\n",
       "    <tr>\n",
       "      <th>Aria</th>\n",
       "      <td>25</td>\n",
       "      <td>25</td>\n",
       "      <td>25</td>\n",
       "      <td>25</td>\n",
       "    </tr>\n",
       "  </tbody>\n",
       "</table>\n",
       "</div>"
      ],
      "text/plain": [
       "       age      city   sex  score\n",
       "name                             \n",
       "Tom     25        25    25     25\n",
       "Bob     30  New York  Male     95\n",
       "Mary    25        25    25     25\n",
       "James   40     Miami  Male     83\n",
       "Aria    25        25    25     25"
      ]
     },
     "execution_count": 36,
     "metadata": {},
     "output_type": "execute_result"
    }
   ],
   "source": [
    "user_info.where(user_info['age'] > 25, 25) # set the age less than 25 to be 25"
   ]
  },
  {
   "cell_type": "code",
   "execution_count": 37,
   "id": "0d40efcc",
   "metadata": {},
   "outputs": [
    {
     "data": {
      "text/html": [
       "<div>\n",
       "<style scoped>\n",
       "    .dataframe tbody tr th:only-of-type {\n",
       "        vertical-align: middle;\n",
       "    }\n",
       "\n",
       "    .dataframe tbody tr th {\n",
       "        vertical-align: top;\n",
       "    }\n",
       "\n",
       "    .dataframe thead th {\n",
       "        text-align: right;\n",
       "    }\n",
       "</style>\n",
       "<table border=\"1\" class=\"dataframe\">\n",
       "  <thead>\n",
       "    <tr style=\"text-align: right;\">\n",
       "      <th></th>\n",
       "      <th>age</th>\n",
       "      <th>city</th>\n",
       "      <th>sex</th>\n",
       "      <th>score</th>\n",
       "    </tr>\n",
       "    <tr>\n",
       "      <th>name</th>\n",
       "      <th></th>\n",
       "      <th></th>\n",
       "      <th></th>\n",
       "      <th></th>\n",
       "    </tr>\n",
       "  </thead>\n",
       "  <tbody>\n",
       "    <tr>\n",
       "      <th>Tom</th>\n",
       "      <td>18</td>\n",
       "      <td>Los Angeles</td>\n",
       "      <td>Male</td>\n",
       "      <td>98</td>\n",
       "    </tr>\n",
       "    <tr>\n",
       "      <th>Bob</th>\n",
       "      <td>30</td>\n",
       "      <td>New York</td>\n",
       "      <td>Male</td>\n",
       "      <td>95</td>\n",
       "    </tr>\n",
       "    <tr>\n",
       "      <th>Mary</th>\n",
       "      <td>25</td>\n",
       "      <td>Chicago</td>\n",
       "      <td>Female</td>\n",
       "      <td>87</td>\n",
       "    </tr>\n",
       "    <tr>\n",
       "      <th>James</th>\n",
       "      <td>40</td>\n",
       "      <td>Miami</td>\n",
       "      <td>Male</td>\n",
       "      <td>83</td>\n",
       "    </tr>\n",
       "    <tr>\n",
       "      <th>Aria</th>\n",
       "      <td>22</td>\n",
       "      <td>Brambleton</td>\n",
       "      <td>Female</td>\n",
       "      <td>100</td>\n",
       "    </tr>\n",
       "  </tbody>\n",
       "</table>\n",
       "</div>"
      ],
      "text/plain": [
       "       age         city     sex  score\n",
       "name                                  \n",
       "Tom     18  Los Angeles    Male     98\n",
       "Bob     30     New York    Male     95\n",
       "Mary    25      Chicago  Female     87\n",
       "James   40        Miami    Male     83\n",
       "Aria    22   Brambleton  Female    100"
      ]
     },
     "execution_count": 37,
     "metadata": {},
     "output_type": "execute_result"
    }
   ],
   "source": [
    "user_info"
   ]
  },
  {
   "cell_type": "markdown",
   "id": "f1c53383",
   "metadata": {},
   "source": [
    "### query()\n",
    "```python\n",
    "query(self, expr, inplace = False, **kwargs)\n",
    "```"
   ]
  },
  {
   "cell_type": "code",
   "execution_count": 38,
   "id": "9e90a0fa",
   "metadata": {},
   "outputs": [
    {
     "data": {
      "text/html": [
       "<div>\n",
       "<style scoped>\n",
       "    .dataframe tbody tr th:only-of-type {\n",
       "        vertical-align: middle;\n",
       "    }\n",
       "\n",
       "    .dataframe tbody tr th {\n",
       "        vertical-align: top;\n",
       "    }\n",
       "\n",
       "    .dataframe thead th {\n",
       "        text-align: right;\n",
       "    }\n",
       "</style>\n",
       "<table border=\"1\" class=\"dataframe\">\n",
       "  <thead>\n",
       "    <tr style=\"text-align: right;\">\n",
       "      <th></th>\n",
       "      <th>age</th>\n",
       "      <th>city</th>\n",
       "      <th>sex</th>\n",
       "      <th>score</th>\n",
       "    </tr>\n",
       "    <tr>\n",
       "      <th>name</th>\n",
       "      <th></th>\n",
       "      <th></th>\n",
       "      <th></th>\n",
       "      <th></th>\n",
       "    </tr>\n",
       "  </thead>\n",
       "  <tbody>\n",
       "    <tr>\n",
       "      <th>Bob</th>\n",
       "      <td>30</td>\n",
       "      <td>New York</td>\n",
       "      <td>Male</td>\n",
       "      <td>95</td>\n",
       "    </tr>\n",
       "    <tr>\n",
       "      <th>James</th>\n",
       "      <td>40</td>\n",
       "      <td>Miami</td>\n",
       "      <td>Male</td>\n",
       "      <td>83</td>\n",
       "    </tr>\n",
       "  </tbody>\n",
       "</table>\n",
       "</div>"
      ],
      "text/plain": [
       "       age      city   sex  score\n",
       "name                             \n",
       "Bob     30  New York  Male     95\n",
       "James   40     Miami  Male     83"
      ]
     },
     "execution_count": 38,
     "metadata": {},
     "output_type": "execute_result"
    }
   ],
   "source": [
    "user_info.query('(age > 20) & (sex == \"Male\")')"
   ]
  },
  {
   "cell_type": "markdown",
   "id": "802e3ca6",
   "metadata": {},
   "source": [
    "## Dealing with duplicate elements\n",
    "### Duplicated method\n",
    "\n",
    "```python\n",
    "duplicated(subset, keep = 'first')\n",
    "```\n",
    "**subset**: The subset parameter in the context of handling duplicate elements refers to the columns that are used to identify duplicates. By default, it considers all columns in the DataFrame. For a single column, you can provide a string indicating the column name. For multiple columns, you can provide a *list* of column names.\n",
    "\n",
    "**keep**: The keep parameter determines how duplicate rows are labeled. It affects the resulting boolean Series or DataFrame where duplicates are marked as True. The available options are:\n",
    "\n",
    "* keep = 'first' (default): Marks the first occurrence of each duplicate row as True and the subsequent occurrences as False.\n",
    "* keep = 'last': Marks the last occurrence of each duplicate row as True and the preceding occurrences as False.\n",
    "* keep = False: Marks all occurrences of duplicate rows as True, considering all duplicate elements as True.\n"
   ]
  },
  {
   "cell_type": "code",
   "execution_count": 39,
   "id": "27c7157e",
   "metadata": {},
   "outputs": [
    {
     "data": {
      "text/plain": [
       "name\n",
       "Tom      False\n",
       "Bob       True\n",
       "Mary     False\n",
       "James     True\n",
       "Aria      True\n",
       "dtype: bool"
      ]
     },
     "execution_count": 39,
     "metadata": {},
     "output_type": "execute_result"
    }
   ],
   "source": [
    "user_info.duplicated(subset = 'sex')"
   ]
  },
  {
   "cell_type": "markdown",
   "id": "9308a3db",
   "metadata": {},
   "source": [
    "## drop_duplicates() method\n",
    "\n",
    "```python\n",
    "drop_duplicates(subset, keep = \"first\", inplace = False, ignore_index = False)\n",
    "```\n",
    "\n",
    "**subset**: Optional parameter that specifies the subset of columns to consider when identifying duplicates. By default, it is set to None, which means all columns are considered.\n",
    "\n",
    "**keep**: Specifies how to mark the duplicate rows. It can take the following values:\n",
    "\n",
    "* first (default): Keeps the first occurrence of each duplicate row and removes the subsequent duplicates.\n",
    "\n",
    "* last: Keeps the last occurrence of each duplicate row and removes the preceding duplicates.\n",
    "\n",
    "* False: Removes all occurrences of duplicate rows.\n",
    "\n",
    "**inplace**: Specifies whether to perform the operation in place or return a new DataFrame. By default, it is set to False, which returns a new DataFrame."
   ]
  },
  {
   "cell_type": "code",
   "execution_count": 40,
   "id": "fd24b6c0",
   "metadata": {},
   "outputs": [
    {
     "data": {
      "text/html": [
       "<div>\n",
       "<style scoped>\n",
       "    .dataframe tbody tr th:only-of-type {\n",
       "        vertical-align: middle;\n",
       "    }\n",
       "\n",
       "    .dataframe tbody tr th {\n",
       "        vertical-align: top;\n",
       "    }\n",
       "\n",
       "    .dataframe thead th {\n",
       "        text-align: right;\n",
       "    }\n",
       "</style>\n",
       "<table border=\"1\" class=\"dataframe\">\n",
       "  <thead>\n",
       "    <tr style=\"text-align: right;\">\n",
       "      <th></th>\n",
       "      <th>age</th>\n",
       "      <th>city</th>\n",
       "      <th>sex</th>\n",
       "      <th>score</th>\n",
       "    </tr>\n",
       "    <tr>\n",
       "      <th>name</th>\n",
       "      <th></th>\n",
       "      <th></th>\n",
       "      <th></th>\n",
       "      <th></th>\n",
       "    </tr>\n",
       "  </thead>\n",
       "  <tbody>\n",
       "    <tr>\n",
       "      <th>Tom</th>\n",
       "      <td>18</td>\n",
       "      <td>Los Angeles</td>\n",
       "      <td>Male</td>\n",
       "      <td>98</td>\n",
       "    </tr>\n",
       "    <tr>\n",
       "      <th>Mary</th>\n",
       "      <td>25</td>\n",
       "      <td>Chicago</td>\n",
       "      <td>Female</td>\n",
       "      <td>87</td>\n",
       "    </tr>\n",
       "  </tbody>\n",
       "</table>\n",
       "</div>"
      ],
      "text/plain": [
       "      age         city     sex  score\n",
       "name                                 \n",
       "Tom    18  Los Angeles    Male     98\n",
       "Mary   25      Chicago  Female     87"
      ]
     },
     "execution_count": 40,
     "metadata": {},
     "output_type": "execute_result"
    }
   ],
   "source": [
    "user_info.drop_duplicates(subset = ['sex'])"
   ]
  },
  {
   "cell_type": "markdown",
   "id": "6a70dc7c",
   "metadata": {},
   "source": [
    "## Customize function \n",
    "\n",
    "We can customize our own functions and apply them to a DataFrame or Series. The commonly used functions are `map`, `apply`, and `applymap`.\n",
    "\n",
    "`map` is a method specific to Series. It allows us to apply a transformation to each element in the Series.\n",
    "\n",
    "`apply` method is available for both Series and DataFrame. When applied to a Series, it operates on each value individually. When applied to a DataFrame, it operates on either all rows or all columns (controlled by the axis parameter).\n",
    "\n",
    "`applymap` method is specifically for DataFrame. It applies a function to each element in the DataFrame. The effect of applymap on a DataFrame is similar to that of apply on a Series.\n"
   ]
  },
  {
   "cell_type": "code",
   "execution_count": 41,
   "id": "54e489bc",
   "metadata": {},
   "outputs": [
    {
     "data": {
      "text/html": [
       "<div>\n",
       "<style scoped>\n",
       "    .dataframe tbody tr th:only-of-type {\n",
       "        vertical-align: middle;\n",
       "    }\n",
       "\n",
       "    .dataframe tbody tr th {\n",
       "        vertical-align: top;\n",
       "    }\n",
       "\n",
       "    .dataframe thead th {\n",
       "        text-align: right;\n",
       "    }\n",
       "</style>\n",
       "<table border=\"1\" class=\"dataframe\">\n",
       "  <thead>\n",
       "    <tr style=\"text-align: right;\">\n",
       "      <th></th>\n",
       "      <th>age</th>\n",
       "      <th>city</th>\n",
       "      <th>sex</th>\n",
       "      <th>score</th>\n",
       "    </tr>\n",
       "    <tr>\n",
       "      <th>name</th>\n",
       "      <th></th>\n",
       "      <th></th>\n",
       "      <th></th>\n",
       "      <th></th>\n",
       "    </tr>\n",
       "  </thead>\n",
       "  <tbody>\n",
       "    <tr>\n",
       "      <th>Tom</th>\n",
       "      <td>18</td>\n",
       "      <td>Los Angeles</td>\n",
       "      <td>Male</td>\n",
       "      <td>98</td>\n",
       "    </tr>\n",
       "    <tr>\n",
       "      <th>Bob</th>\n",
       "      <td>30</td>\n",
       "      <td>New York</td>\n",
       "      <td>Male</td>\n",
       "      <td>95</td>\n",
       "    </tr>\n",
       "    <tr>\n",
       "      <th>Mary</th>\n",
       "      <td>25</td>\n",
       "      <td>Chicago</td>\n",
       "      <td>Female</td>\n",
       "      <td>87</td>\n",
       "    </tr>\n",
       "    <tr>\n",
       "      <th>James</th>\n",
       "      <td>40</td>\n",
       "      <td>Miami</td>\n",
       "      <td>Male</td>\n",
       "      <td>83</td>\n",
       "    </tr>\n",
       "    <tr>\n",
       "      <th>Aria</th>\n",
       "      <td>22</td>\n",
       "      <td>Brambleton</td>\n",
       "      <td>Female</td>\n",
       "      <td>100</td>\n",
       "    </tr>\n",
       "  </tbody>\n",
       "</table>\n",
       "</div>"
      ],
      "text/plain": [
       "       age         city     sex  score\n",
       "name                                  \n",
       "Tom     18  Los Angeles    Male     98\n",
       "Bob     30     New York    Male     95\n",
       "Mary    25      Chicago  Female     87\n",
       "James   40        Miami    Male     83\n",
       "Aria    22   Brambleton  Female    100"
      ]
     },
     "execution_count": 41,
     "metadata": {},
     "output_type": "execute_result"
    }
   ],
   "source": [
    "user_info"
   ]
  },
  {
   "cell_type": "code",
   "execution_count": 42,
   "id": "7a102da2",
   "metadata": {},
   "outputs": [
    {
     "data": {
      "text/plain": [
       "name\n",
       "Tom       no\n",
       "Bob      yes\n",
       "Mary      no\n",
       "James    yes\n",
       "Aria      no\n",
       "Name: age, dtype: object"
      ]
     },
     "execution_count": 42,
     "metadata": {},
     "output_type": "execute_result"
    }
   ],
   "source": [
    "# To determine whether a user age greater than 30\n",
    "user_info['age'].map(lambda x: \"yes\" if x >= 30 else \"no\")"
   ]
  },
  {
   "cell_type": "code",
   "execution_count": 43,
   "id": "8a096cc5",
   "metadata": {},
   "outputs": [
    {
     "data": {
      "text/plain": [
       "age            40\n",
       "city     New York\n",
       "sex          Male\n",
       "score         100\n",
       "dtype: object"
      ]
     },
     "execution_count": 43,
     "metadata": {},
     "output_type": "execute_result"
    }
   ],
   "source": [
    "# Get the maximum value of each column\n",
    "user_info.apply(lambda x: x.max(), axis = 0)"
   ]
  },
  {
   "cell_type": "code",
   "execution_count": 44,
   "id": "3f3eddf1",
   "metadata": {},
   "outputs": [
    {
     "data": {
      "text/plain": [
       "name\n",
       "Tom      19\n",
       "Bob      31\n",
       "Mary     26\n",
       "James    41\n",
       "Aria     23\n",
       "dtype: int64"
      ]
     },
     "execution_count": 44,
     "metadata": {},
     "output_type": "execute_result"
    }
   ],
   "source": [
    "# Add 1 to the age\n",
    "user_info.apply(lambda x: x.age + 1, axis = 1)"
   ]
  },
  {
   "cell_type": "markdown",
   "id": "5d77dfbb",
   "metadata": {},
   "source": [
    "# The operations of adding, deleting, modifying, and querying a DataFrame\n",
    "\n",
    "\n",
    "\n",
    "## Index/Lookup\n",
    "\n",
    "From the perspective of lookup methods, there are three types:\n",
    "\n",
    "* Lookup by label/index/column name\n",
    "* Lookup by position/index\n",
    "* Lookup by boolean condition\n",
    "*Note: When using multiple boolean conditions, use parentheses with \"&\" (and), \"|\" (or), and \"~\" (not).\n",
    "\n",
    "Syntax-wise, there are five types:\n",
    "\n",
    "* `df.col`: Select column by column name (not recommended). It will raise an error if the column does not exist.\n",
    "\n",
    "* `df.get(col, default)`: Retrieve specified column data by column name. If it does not exist, it does not raise an error and can be given a default value.\n",
    "\n",
    "* `df[]`:\n",
    "\n",
    "    - [col]: Retrieve a single column by column name.\n",
    "    - [[col1, col2, ...]]: Retrieve multiple columns by column names.\n",
    "    - [start: end]: Retrieve rows by position using slicing.\n",
    "    - [boolean expression]: Retrieve rows based on boolean conditions.\n",
    "\n",
    "* `df.loc[row label, column label]` (recommended):\n",
    "\n",
    "    - Rows and columns can be row index names or column names, representing a single row or column.\n",
    "    - Rows and columns can be lists of row index names or column names, representing multiple rows or columns.\n",
    "    - Rows and columns can be boolean expressions, performing lookup based on the boolean conditions.\n",
    "\n",
    "* `df.iloc[row index, column index]`:\n",
    "\n",
    "    - Rows and columns can be row indices or column indices, representing a single row or column.\n",
    "    - Rows and columns can be lists of row indices or column indices, representing multiple rows or columns.\n",
    "    - Rows and columns can be row index slices or column index slices, representing a range of consecutive rows or columns.\n",
    "\n",
    "* `df.select_dtypes(include=None, exclude=None)`: Select specified columns by data types.\n",
    "\n",
    "These methods provide various ways to perform index-based and label-based lookup in a DataFrame, enabling you to retrieve single or multiple rows/columns based on labels, positions, or boolean conditions, as well as filtering columns based on data types."
   ]
  },
  {
   "cell_type": "code",
   "execution_count": 45,
   "id": "aa152c59",
   "metadata": {},
   "outputs": [
    {
     "data": {
      "text/html": [
       "<div>\n",
       "<style scoped>\n",
       "    .dataframe tbody tr th:only-of-type {\n",
       "        vertical-align: middle;\n",
       "    }\n",
       "\n",
       "    .dataframe tbody tr th {\n",
       "        vertical-align: top;\n",
       "    }\n",
       "\n",
       "    .dataframe thead th {\n",
       "        text-align: right;\n",
       "    }\n",
       "</style>\n",
       "<table border=\"1\" class=\"dataframe\">\n",
       "  <thead>\n",
       "    <tr style=\"text-align: right;\">\n",
       "      <th></th>\n",
       "      <th>age</th>\n",
       "      <th>city</th>\n",
       "      <th>sex</th>\n",
       "    </tr>\n",
       "    <tr>\n",
       "      <th>name</th>\n",
       "      <th></th>\n",
       "      <th></th>\n",
       "      <th></th>\n",
       "    </tr>\n",
       "  </thead>\n",
       "  <tbody>\n",
       "    <tr>\n",
       "      <th>Tom</th>\n",
       "      <td>18</td>\n",
       "      <td>Los Angeles</td>\n",
       "      <td>Male</td>\n",
       "    </tr>\n",
       "    <tr>\n",
       "      <th>Bob</th>\n",
       "      <td>30</td>\n",
       "      <td>New York</td>\n",
       "      <td>Male</td>\n",
       "    </tr>\n",
       "    <tr>\n",
       "      <th>Mary</th>\n",
       "      <td>25</td>\n",
       "      <td>Chicago</td>\n",
       "      <td>Female</td>\n",
       "    </tr>\n",
       "    <tr>\n",
       "      <th>James</th>\n",
       "      <td>40</td>\n",
       "      <td>Miami</td>\n",
       "      <td>Male</td>\n",
       "    </tr>\n",
       "    <tr>\n",
       "      <th>Aria</th>\n",
       "      <td>22</td>\n",
       "      <td>Brambleton</td>\n",
       "      <td>Female</td>\n",
       "    </tr>\n",
       "  </tbody>\n",
       "</table>\n",
       "</div>"
      ],
      "text/plain": [
       "       age         city     sex\n",
       "name                           \n",
       "Tom     18  Los Angeles    Male\n",
       "Bob     30     New York    Male\n",
       "Mary    25      Chicago  Female\n",
       "James   40        Miami    Male\n",
       "Aria    22   Brambleton  Female"
      ]
     },
     "execution_count": 45,
     "metadata": {},
     "output_type": "execute_result"
    }
   ],
   "source": [
    "data  = {\n",
    "    \"age\" : [18, 30, 25, 40, 22],\n",
    "    \"city\" : [\"Los Angeles\", \"New York\", \"Chicago\", \"Miami\", \"Brambleton\"],\n",
    "    'sex': ['Male', 'Male', 'Female', 'Male', 'Female']\n",
    "}\n",
    "index = pd.Index( [\"Tom\", \"Bob\", \"Mary\", \"James\", \"Aria\"], name = 'name')\n",
    "user_info = pd.DataFrame(data = data, index = index)\n",
    "user_info"
   ]
  },
  {
   "cell_type": "markdown",
   "id": "4443285c",
   "metadata": {},
   "source": [
    "######  Retrieve a single column by column name"
   ]
  },
  {
   "cell_type": "code",
   "execution_count": 46,
   "id": "2c896b87",
   "metadata": {},
   "outputs": [
    {
     "data": {
      "text/plain": [
       "name\n",
       "Tom      18\n",
       "Bob      30\n",
       "Mary     25\n",
       "James    40\n",
       "Aria     22\n",
       "Name: age, dtype: int64"
      ]
     },
     "execution_count": 46,
     "metadata": {},
     "output_type": "execute_result"
    }
   ],
   "source": [
    "user_info['age'] "
   ]
  },
  {
   "cell_type": "code",
   "execution_count": 47,
   "id": "8e128fbd",
   "metadata": {},
   "outputs": [
    {
     "data": {
      "text/plain": [
       "name\n",
       "Tom      18\n",
       "Bob      30\n",
       "Mary     25\n",
       "James    40\n",
       "Aria     22\n",
       "Name: age, dtype: int64"
      ]
     },
     "execution_count": 47,
     "metadata": {},
     "output_type": "execute_result"
    }
   ],
   "source": [
    "user_info.age"
   ]
  },
  {
   "cell_type": "markdown",
   "id": "6e43dcb7",
   "metadata": {},
   "source": [
    "######  the get() method is used to retrieve the column named 'age' from the DataFrame df. \n",
    "\n",
    "If the column exists, it will return the column data. \n",
    "\n",
    "If the column does not exist, it will return the specified default value 'N/A\n"
   ]
  },
  {
   "cell_type": "code",
   "execution_count": 48,
   "id": "2854396c",
   "metadata": {},
   "outputs": [
    {
     "data": {
      "text/plain": [
       "name\n",
       "Tom      18\n",
       "Bob      30\n",
       "Mary     25\n",
       "James    40\n",
       "Aria     22\n",
       "Name: age, dtype: int64"
      ]
     },
     "execution_count": 48,
     "metadata": {},
     "output_type": "execute_result"
    }
   ],
   "source": [
    "user_info.get('age') "
   ]
  },
  {
   "cell_type": "code",
   "execution_count": 49,
   "id": "b4109e38",
   "metadata": {},
   "outputs": [
    {
     "data": {
      "text/plain": [
       "22"
      ]
     },
     "execution_count": 49,
     "metadata": {},
     "output_type": "execute_result"
    }
   ],
   "source": [
    "user_info.get('age2',22) "
   ]
  },
  {
   "cell_type": "code",
   "execution_count": 50,
   "id": "df533335",
   "metadata": {},
   "outputs": [
    {
     "data": {
      "text/plain": [
       "name\n",
       "Tom      18\n",
       "Bob      30\n",
       "Mary     25\n",
       "James    40\n",
       "Aria     22\n",
       "Name: age, dtype: int64"
      ]
     },
     "execution_count": 50,
     "metadata": {},
     "output_type": "execute_result"
    }
   ],
   "source": [
    "user_info.loc[:, 'age']"
   ]
  },
  {
   "cell_type": "code",
   "execution_count": 51,
   "id": "af759cca",
   "metadata": {},
   "outputs": [
    {
     "data": {
      "text/html": [
       "<div>\n",
       "<style scoped>\n",
       "    .dataframe tbody tr th:only-of-type {\n",
       "        vertical-align: middle;\n",
       "    }\n",
       "\n",
       "    .dataframe tbody tr th {\n",
       "        vertical-align: top;\n",
       "    }\n",
       "\n",
       "    .dataframe thead th {\n",
       "        text-align: right;\n",
       "    }\n",
       "</style>\n",
       "<table border=\"1\" class=\"dataframe\">\n",
       "  <thead>\n",
       "    <tr style=\"text-align: right;\">\n",
       "      <th></th>\n",
       "      <th>age</th>\n",
       "      <th>city</th>\n",
       "    </tr>\n",
       "    <tr>\n",
       "      <th>name</th>\n",
       "      <th></th>\n",
       "      <th></th>\n",
       "    </tr>\n",
       "  </thead>\n",
       "  <tbody>\n",
       "    <tr>\n",
       "      <th>Tom</th>\n",
       "      <td>18</td>\n",
       "      <td>Los Angeles</td>\n",
       "    </tr>\n",
       "    <tr>\n",
       "      <th>Bob</th>\n",
       "      <td>30</td>\n",
       "      <td>New York</td>\n",
       "    </tr>\n",
       "    <tr>\n",
       "      <th>Mary</th>\n",
       "      <td>25</td>\n",
       "      <td>Chicago</td>\n",
       "    </tr>\n",
       "    <tr>\n",
       "      <th>James</th>\n",
       "      <td>40</td>\n",
       "      <td>Miami</td>\n",
       "    </tr>\n",
       "    <tr>\n",
       "      <th>Aria</th>\n",
       "      <td>22</td>\n",
       "      <td>Brambleton</td>\n",
       "    </tr>\n",
       "  </tbody>\n",
       "</table>\n",
       "</div>"
      ],
      "text/plain": [
       "       age         city\n",
       "name                   \n",
       "Tom     18  Los Angeles\n",
       "Bob     30     New York\n",
       "Mary    25      Chicago\n",
       "James   40        Miami\n",
       "Aria    22   Brambleton"
      ]
     },
     "execution_count": 51,
     "metadata": {},
     "output_type": "execute_result"
    }
   ],
   "source": [
    "user_info[['age', 'city']]"
   ]
  },
  {
   "cell_type": "markdown",
   "id": "a379ead1",
   "metadata": {},
   "source": [
    "###### To retrieve a single column by column index "
   ]
  },
  {
   "cell_type": "code",
   "execution_count": 52,
   "id": "8715999c",
   "metadata": {},
   "outputs": [
    {
     "data": {
      "text/plain": [
       "name\n",
       "Tom      Los Angeles\n",
       "Bob         New York\n",
       "Mary         Chicago\n",
       "James          Miami\n",
       "Aria      Brambleton\n",
       "Name: city, dtype: object"
      ]
     },
     "execution_count": 52,
     "metadata": {},
     "output_type": "execute_result"
    }
   ],
   "source": [
    "user_info.iloc[:, 1]"
   ]
  },
  {
   "cell_type": "code",
   "execution_count": 53,
   "id": "7b7ebc14",
   "metadata": {},
   "outputs": [
    {
     "data": {
      "text/html": [
       "<div>\n",
       "<style scoped>\n",
       "    .dataframe tbody tr th:only-of-type {\n",
       "        vertical-align: middle;\n",
       "    }\n",
       "\n",
       "    .dataframe tbody tr th {\n",
       "        vertical-align: top;\n",
       "    }\n",
       "\n",
       "    .dataframe thead th {\n",
       "        text-align: right;\n",
       "    }\n",
       "</style>\n",
       "<table border=\"1\" class=\"dataframe\">\n",
       "  <thead>\n",
       "    <tr style=\"text-align: right;\">\n",
       "      <th></th>\n",
       "      <th>age</th>\n",
       "      <th>city</th>\n",
       "    </tr>\n",
       "    <tr>\n",
       "      <th>name</th>\n",
       "      <th></th>\n",
       "      <th></th>\n",
       "    </tr>\n",
       "  </thead>\n",
       "  <tbody>\n",
       "    <tr>\n",
       "      <th>Tom</th>\n",
       "      <td>18</td>\n",
       "      <td>Los Angeles</td>\n",
       "    </tr>\n",
       "    <tr>\n",
       "      <th>Bob</th>\n",
       "      <td>30</td>\n",
       "      <td>New York</td>\n",
       "    </tr>\n",
       "    <tr>\n",
       "      <th>Mary</th>\n",
       "      <td>25</td>\n",
       "      <td>Chicago</td>\n",
       "    </tr>\n",
       "    <tr>\n",
       "      <th>James</th>\n",
       "      <td>40</td>\n",
       "      <td>Miami</td>\n",
       "    </tr>\n",
       "    <tr>\n",
       "      <th>Aria</th>\n",
       "      <td>22</td>\n",
       "      <td>Brambleton</td>\n",
       "    </tr>\n",
       "  </tbody>\n",
       "</table>\n",
       "</div>"
      ],
      "text/plain": [
       "       age         city\n",
       "name                   \n",
       "Tom     18  Los Angeles\n",
       "Bob     30     New York\n",
       "Mary    25      Chicago\n",
       "James   40        Miami\n",
       "Aria    22   Brambleton"
      ]
     },
     "execution_count": 53,
     "metadata": {},
     "output_type": "execute_result"
    }
   ],
   "source": [
    "user_info.iloc[:, [0, 1]]"
   ]
  },
  {
   "cell_type": "markdown",
   "id": "ad9af42d",
   "metadata": {},
   "source": [
    "###### To retrieve a single column by data type"
   ]
  },
  {
   "cell_type": "code",
   "execution_count": 54,
   "id": "5d706647",
   "metadata": {},
   "outputs": [
    {
     "data": {
      "text/html": [
       "<div>\n",
       "<style scoped>\n",
       "    .dataframe tbody tr th:only-of-type {\n",
       "        vertical-align: middle;\n",
       "    }\n",
       "\n",
       "    .dataframe tbody tr th {\n",
       "        vertical-align: top;\n",
       "    }\n",
       "\n",
       "    .dataframe thead th {\n",
       "        text-align: right;\n",
       "    }\n",
       "</style>\n",
       "<table border=\"1\" class=\"dataframe\">\n",
       "  <thead>\n",
       "    <tr style=\"text-align: right;\">\n",
       "      <th></th>\n",
       "      <th>age</th>\n",
       "    </tr>\n",
       "    <tr>\n",
       "      <th>name</th>\n",
       "      <th></th>\n",
       "    </tr>\n",
       "  </thead>\n",
       "  <tbody>\n",
       "    <tr>\n",
       "      <th>Tom</th>\n",
       "      <td>18</td>\n",
       "    </tr>\n",
       "    <tr>\n",
       "      <th>Bob</th>\n",
       "      <td>30</td>\n",
       "    </tr>\n",
       "    <tr>\n",
       "      <th>Mary</th>\n",
       "      <td>25</td>\n",
       "    </tr>\n",
       "    <tr>\n",
       "      <th>James</th>\n",
       "      <td>40</td>\n",
       "    </tr>\n",
       "    <tr>\n",
       "      <th>Aria</th>\n",
       "      <td>22</td>\n",
       "    </tr>\n",
       "  </tbody>\n",
       "</table>\n",
       "</div>"
      ],
      "text/plain": [
       "       age\n",
       "name      \n",
       "Tom     18\n",
       "Bob     30\n",
       "Mary    25\n",
       "James   40\n",
       "Aria    22"
      ]
     },
     "execution_count": 54,
     "metadata": {},
     "output_type": "execute_result"
    }
   ],
   "source": [
    "user_info.select_dtypes(include = 'int64')"
   ]
  },
  {
   "cell_type": "markdown",
   "id": "381d2be6",
   "metadata": {},
   "source": [
    "###### To retrieve specific rows of data from a DataFrame"
   ]
  },
  {
   "cell_type": "code",
   "execution_count": 55,
   "id": "fb4a2797",
   "metadata": {},
   "outputs": [
    {
     "data": {
      "text/plain": [
       "age              18\n",
       "city    Los Angeles\n",
       "sex            Male\n",
       "Name: Tom, dtype: object"
      ]
     },
     "execution_count": 55,
     "metadata": {},
     "output_type": "execute_result"
    }
   ],
   "source": [
    "user_info.loc['Tom']  # single row"
   ]
  },
  {
   "cell_type": "code",
   "execution_count": 56,
   "id": "eb53901e",
   "metadata": {},
   "outputs": [
    {
     "data": {
      "text/html": [
       "<div>\n",
       "<style scoped>\n",
       "    .dataframe tbody tr th:only-of-type {\n",
       "        vertical-align: middle;\n",
       "    }\n",
       "\n",
       "    .dataframe tbody tr th {\n",
       "        vertical-align: top;\n",
       "    }\n",
       "\n",
       "    .dataframe thead th {\n",
       "        text-align: right;\n",
       "    }\n",
       "</style>\n",
       "<table border=\"1\" class=\"dataframe\">\n",
       "  <thead>\n",
       "    <tr style=\"text-align: right;\">\n",
       "      <th></th>\n",
       "      <th>age</th>\n",
       "      <th>city</th>\n",
       "      <th>sex</th>\n",
       "    </tr>\n",
       "    <tr>\n",
       "      <th>name</th>\n",
       "      <th></th>\n",
       "      <th></th>\n",
       "      <th></th>\n",
       "    </tr>\n",
       "  </thead>\n",
       "  <tbody>\n",
       "    <tr>\n",
       "      <th>Tom</th>\n",
       "      <td>18</td>\n",
       "      <td>Los Angeles</td>\n",
       "      <td>Male</td>\n",
       "    </tr>\n",
       "    <tr>\n",
       "      <th>Bob</th>\n",
       "      <td>30</td>\n",
       "      <td>New York</td>\n",
       "      <td>Male</td>\n",
       "    </tr>\n",
       "  </tbody>\n",
       "</table>\n",
       "</div>"
      ],
      "text/plain": [
       "      age         city   sex\n",
       "name                        \n",
       "Tom    18  Los Angeles  Male\n",
       "Bob    30     New York  Male"
      ]
     },
     "execution_count": 56,
     "metadata": {},
     "output_type": "execute_result"
    }
   ],
   "source": [
    "user_info.loc[['Tom', 'Bob']]  # Multiple rows"
   ]
  },
  {
   "cell_type": "markdown",
   "id": "f94fa73e",
   "metadata": {},
   "source": [
    "###### To retrieve rows of data using index "
   ]
  },
  {
   "cell_type": "code",
   "execution_count": 57,
   "id": "2491248c",
   "metadata": {},
   "outputs": [
    {
     "data": {
      "text/plain": [
       "age              18\n",
       "city    Los Angeles\n",
       "sex            Male\n",
       "Name: Tom, dtype: object"
      ]
     },
     "execution_count": 57,
     "metadata": {},
     "output_type": "execute_result"
    }
   ],
   "source": [
    "user_info.iloc[0]  # The first row"
   ]
  },
  {
   "cell_type": "code",
   "execution_count": 58,
   "id": "66c1798e",
   "metadata": {},
   "outputs": [
    {
     "data": {
      "text/html": [
       "<div>\n",
       "<style scoped>\n",
       "    .dataframe tbody tr th:only-of-type {\n",
       "        vertical-align: middle;\n",
       "    }\n",
       "\n",
       "    .dataframe tbody tr th {\n",
       "        vertical-align: top;\n",
       "    }\n",
       "\n",
       "    .dataframe thead th {\n",
       "        text-align: right;\n",
       "    }\n",
       "</style>\n",
       "<table border=\"1\" class=\"dataframe\">\n",
       "  <thead>\n",
       "    <tr style=\"text-align: right;\">\n",
       "      <th></th>\n",
       "      <th>age</th>\n",
       "      <th>city</th>\n",
       "      <th>sex</th>\n",
       "    </tr>\n",
       "    <tr>\n",
       "      <th>name</th>\n",
       "      <th></th>\n",
       "      <th></th>\n",
       "      <th></th>\n",
       "    </tr>\n",
       "  </thead>\n",
       "  <tbody>\n",
       "    <tr>\n",
       "      <th>Tom</th>\n",
       "      <td>18</td>\n",
       "      <td>Los Angeles</td>\n",
       "      <td>Male</td>\n",
       "    </tr>\n",
       "    <tr>\n",
       "      <th>Bob</th>\n",
       "      <td>30</td>\n",
       "      <td>New York</td>\n",
       "      <td>Male</td>\n",
       "    </tr>\n",
       "  </tbody>\n",
       "</table>\n",
       "</div>"
      ],
      "text/plain": [
       "      age         city   sex\n",
       "name                        \n",
       "Tom    18  Los Angeles  Male\n",
       "Bob    30     New York  Male"
      ]
     },
     "execution_count": 58,
     "metadata": {},
     "output_type": "execute_result"
    }
   ],
   "source": [
    "user_info.iloc[[0,1]]  # First two rows"
   ]
  },
  {
   "cell_type": "code",
   "execution_count": 59,
   "id": "a7984da8",
   "metadata": {},
   "outputs": [
    {
     "data": {
      "text/html": [
       "<div>\n",
       "<style scoped>\n",
       "    .dataframe tbody tr th:only-of-type {\n",
       "        vertical-align: middle;\n",
       "    }\n",
       "\n",
       "    .dataframe tbody tr th {\n",
       "        vertical-align: top;\n",
       "    }\n",
       "\n",
       "    .dataframe thead th {\n",
       "        text-align: right;\n",
       "    }\n",
       "</style>\n",
       "<table border=\"1\" class=\"dataframe\">\n",
       "  <thead>\n",
       "    <tr style=\"text-align: right;\">\n",
       "      <th></th>\n",
       "      <th>age</th>\n",
       "      <th>city</th>\n",
       "      <th>sex</th>\n",
       "    </tr>\n",
       "    <tr>\n",
       "      <th>name</th>\n",
       "      <th></th>\n",
       "      <th></th>\n",
       "      <th></th>\n",
       "    </tr>\n",
       "  </thead>\n",
       "  <tbody>\n",
       "    <tr>\n",
       "      <th>Tom</th>\n",
       "      <td>18</td>\n",
       "      <td>Los Angeles</td>\n",
       "      <td>Male</td>\n",
       "    </tr>\n",
       "    <tr>\n",
       "      <th>Bob</th>\n",
       "      <td>30</td>\n",
       "      <td>New York</td>\n",
       "      <td>Male</td>\n",
       "    </tr>\n",
       "  </tbody>\n",
       "</table>\n",
       "</div>"
      ],
      "text/plain": [
       "      age         city   sex\n",
       "name                        \n",
       "Tom    18  Los Angeles  Male\n",
       "Bob    30     New York  Male"
      ]
     },
     "execution_count": 59,
     "metadata": {},
     "output_type": "execute_result"
    }
   ],
   "source": [
    "user_info.iloc[0:2]  #  Slicing first two rows"
   ]
  },
  {
   "cell_type": "markdown",
   "id": "a2d24f91",
   "metadata": {},
   "source": [
    "###### To retrieve the data by boolean index"
   ]
  },
  {
   "cell_type": "code",
   "execution_count": 60,
   "id": "cc719c33",
   "metadata": {},
   "outputs": [
    {
     "data": {
      "text/html": [
       "<div>\n",
       "<style scoped>\n",
       "    .dataframe tbody tr th:only-of-type {\n",
       "        vertical-align: middle;\n",
       "    }\n",
       "\n",
       "    .dataframe tbody tr th {\n",
       "        vertical-align: top;\n",
       "    }\n",
       "\n",
       "    .dataframe thead th {\n",
       "        text-align: right;\n",
       "    }\n",
       "</style>\n",
       "<table border=\"1\" class=\"dataframe\">\n",
       "  <thead>\n",
       "    <tr style=\"text-align: right;\">\n",
       "      <th></th>\n",
       "      <th>age</th>\n",
       "      <th>city</th>\n",
       "      <th>sex</th>\n",
       "    </tr>\n",
       "    <tr>\n",
       "      <th>name</th>\n",
       "      <th></th>\n",
       "      <th></th>\n",
       "      <th></th>\n",
       "    </tr>\n",
       "  </thead>\n",
       "  <tbody>\n",
       "    <tr>\n",
       "      <th>Bob</th>\n",
       "      <td>30</td>\n",
       "      <td>New York</td>\n",
       "      <td>Male</td>\n",
       "    </tr>\n",
       "    <tr>\n",
       "      <th>James</th>\n",
       "      <td>40</td>\n",
       "      <td>Miami</td>\n",
       "      <td>Male</td>\n",
       "    </tr>\n",
       "  </tbody>\n",
       "</table>\n",
       "</div>"
      ],
      "text/plain": [
       "       age      city   sex\n",
       "name                      \n",
       "Bob     30  New York  Male\n",
       "James   40     Miami  Male"
      ]
     },
     "execution_count": 60,
     "metadata": {},
     "output_type": "execute_result"
    }
   ],
   "source": [
    "user_info[user_info.age >= 30]"
   ]
  },
  {
   "cell_type": "code",
   "execution_count": 61,
   "id": "2db57cd6",
   "metadata": {},
   "outputs": [
    {
     "data": {
      "text/html": [
       "<div>\n",
       "<style scoped>\n",
       "    .dataframe tbody tr th:only-of-type {\n",
       "        vertical-align: middle;\n",
       "    }\n",
       "\n",
       "    .dataframe tbody tr th {\n",
       "        vertical-align: top;\n",
       "    }\n",
       "\n",
       "    .dataframe thead th {\n",
       "        text-align: right;\n",
       "    }\n",
       "</style>\n",
       "<table border=\"1\" class=\"dataframe\">\n",
       "  <thead>\n",
       "    <tr style=\"text-align: right;\">\n",
       "      <th></th>\n",
       "      <th>age</th>\n",
       "      <th>city</th>\n",
       "      <th>sex</th>\n",
       "    </tr>\n",
       "    <tr>\n",
       "      <th>name</th>\n",
       "      <th></th>\n",
       "      <th></th>\n",
       "      <th></th>\n",
       "    </tr>\n",
       "  </thead>\n",
       "  <tbody>\n",
       "    <tr>\n",
       "      <th>Bob</th>\n",
       "      <td>30</td>\n",
       "      <td>New York</td>\n",
       "      <td>Male</td>\n",
       "    </tr>\n",
       "  </tbody>\n",
       "</table>\n",
       "</div>"
      ],
      "text/plain": [
       "      age      city   sex\n",
       "name                     \n",
       "Bob    30  New York  Male"
      ]
     },
     "execution_count": 61,
     "metadata": {},
     "output_type": "execute_result"
    }
   ],
   "source": [
    "user_info[(user_info.age >= 30) & (user_info.city == 'New York')]"
   ]
  },
  {
   "cell_type": "markdown",
   "id": "2d6666eb",
   "metadata": {},
   "source": [
    "###### isin() method "
   ]
  },
  {
   "cell_type": "code",
   "execution_count": 62,
   "id": "989de132",
   "metadata": {},
   "outputs": [
    {
     "data": {
      "text/html": [
       "<div>\n",
       "<style scoped>\n",
       "    .dataframe tbody tr th:only-of-type {\n",
       "        vertical-align: middle;\n",
       "    }\n",
       "\n",
       "    .dataframe tbody tr th {\n",
       "        vertical-align: top;\n",
       "    }\n",
       "\n",
       "    .dataframe thead th {\n",
       "        text-align: right;\n",
       "    }\n",
       "</style>\n",
       "<table border=\"1\" class=\"dataframe\">\n",
       "  <thead>\n",
       "    <tr style=\"text-align: right;\">\n",
       "      <th></th>\n",
       "      <th>age</th>\n",
       "      <th>city</th>\n",
       "      <th>sex</th>\n",
       "    </tr>\n",
       "    <tr>\n",
       "      <th>name</th>\n",
       "      <th></th>\n",
       "      <th></th>\n",
       "      <th></th>\n",
       "    </tr>\n",
       "  </thead>\n",
       "  <tbody>\n",
       "    <tr>\n",
       "      <th>Bob</th>\n",
       "      <td>30</td>\n",
       "      <td>New York</td>\n",
       "      <td>Male</td>\n",
       "    </tr>\n",
       "  </tbody>\n",
       "</table>\n",
       "</div>"
      ],
      "text/plain": [
       "      age      city   sex\n",
       "name                     \n",
       "Bob    30  New York  Male"
      ]
     },
     "execution_count": 62,
     "metadata": {},
     "output_type": "execute_result"
    }
   ],
   "source": [
    "user_info[user_info.city.isin(['New York','Seatle'])]"
   ]
  },
  {
   "cell_type": "markdown",
   "id": "9c85826a",
   "metadata": {},
   "source": [
    "###### To retrieve data based on labels"
   ]
  },
  {
   "cell_type": "code",
   "execution_count": 63,
   "id": "98ef5806",
   "metadata": {},
   "outputs": [
    {
     "data": {
      "text/plain": [
       "18"
      ]
     },
     "execution_count": 63,
     "metadata": {},
     "output_type": "execute_result"
    }
   ],
   "source": [
    "user_info.loc['Tom', 'age']"
   ]
  },
  {
   "cell_type": "code",
   "execution_count": 64,
   "id": "5ce05786",
   "metadata": {},
   "outputs": [
    {
     "data": {
      "text/html": [
       "<div>\n",
       "<style scoped>\n",
       "    .dataframe tbody tr th:only-of-type {\n",
       "        vertical-align: middle;\n",
       "    }\n",
       "\n",
       "    .dataframe tbody tr th {\n",
       "        vertical-align: top;\n",
       "    }\n",
       "\n",
       "    .dataframe thead th {\n",
       "        text-align: right;\n",
       "    }\n",
       "</style>\n",
       "<table border=\"1\" class=\"dataframe\">\n",
       "  <thead>\n",
       "    <tr style=\"text-align: right;\">\n",
       "      <th></th>\n",
       "      <th>age</th>\n",
       "      <th>city</th>\n",
       "    </tr>\n",
       "    <tr>\n",
       "      <th>name</th>\n",
       "      <th></th>\n",
       "      <th></th>\n",
       "    </tr>\n",
       "  </thead>\n",
       "  <tbody>\n",
       "    <tr>\n",
       "      <th>Tom</th>\n",
       "      <td>18</td>\n",
       "      <td>Los Angeles</td>\n",
       "    </tr>\n",
       "    <tr>\n",
       "      <th>James</th>\n",
       "      <td>40</td>\n",
       "      <td>Miami</td>\n",
       "    </tr>\n",
       "  </tbody>\n",
       "</table>\n",
       "</div>"
      ],
      "text/plain": [
       "       age         city\n",
       "name                   \n",
       "Tom     18  Los Angeles\n",
       "James   40        Miami"
      ]
     },
     "execution_count": 64,
     "metadata": {},
     "output_type": "execute_result"
    }
   ],
   "source": [
    "user_info.loc[['Tom', 'James'], ['age', 'city']]"
   ]
  },
  {
   "cell_type": "markdown",
   "id": "74228d63",
   "metadata": {},
   "source": [
    "###### To retrieve data based on index"
   ]
  },
  {
   "cell_type": "code",
   "execution_count": 65,
   "id": "e5d4673b",
   "metadata": {},
   "outputs": [
    {
     "data": {
      "text/plain": [
       "18"
      ]
     },
     "execution_count": 65,
     "metadata": {},
     "output_type": "execute_result"
    }
   ],
   "source": [
    "user_info.iloc[0, 0]  # first row first column element"
   ]
  },
  {
   "cell_type": "code",
   "execution_count": 66,
   "id": "e9e49904",
   "metadata": {},
   "outputs": [
    {
     "data": {
      "text/html": [
       "<div>\n",
       "<style scoped>\n",
       "    .dataframe tbody tr th:only-of-type {\n",
       "        vertical-align: middle;\n",
       "    }\n",
       "\n",
       "    .dataframe tbody tr th {\n",
       "        vertical-align: top;\n",
       "    }\n",
       "\n",
       "    .dataframe thead th {\n",
       "        text-align: right;\n",
       "    }\n",
       "</style>\n",
       "<table border=\"1\" class=\"dataframe\">\n",
       "  <thead>\n",
       "    <tr style=\"text-align: right;\">\n",
       "      <th></th>\n",
       "      <th>age</th>\n",
       "      <th>city</th>\n",
       "    </tr>\n",
       "    <tr>\n",
       "      <th>name</th>\n",
       "      <th></th>\n",
       "      <th></th>\n",
       "    </tr>\n",
       "  </thead>\n",
       "  <tbody>\n",
       "    <tr>\n",
       "      <th>Tom</th>\n",
       "      <td>18</td>\n",
       "      <td>Los Angeles</td>\n",
       "    </tr>\n",
       "    <tr>\n",
       "      <th>James</th>\n",
       "      <td>40</td>\n",
       "      <td>Miami</td>\n",
       "    </tr>\n",
       "  </tbody>\n",
       "</table>\n",
       "</div>"
      ],
      "text/plain": [
       "       age         city\n",
       "name                   \n",
       "Tom     18  Los Angeles\n",
       "James   40        Miami"
      ]
     },
     "execution_count": 66,
     "metadata": {},
     "output_type": "execute_result"
    }
   ],
   "source": [
    "user_info.iloc[[0, 3], [0, 1]] # first row, fourth row, first column and second column "
   ]
  },
  {
   "cell_type": "markdown",
   "id": "7108fa63",
   "metadata": {},
   "source": [
    "## Adding elements\n",
    "`df[new_col] = data`: Adds a new column new_col to the DataFrame df with values from data, which can be a list-like object.\n",
    "\n",
    "`df.append(other)`: Appends rows from other to the end of the DataFrame df. The other can be a DataFrame, Series, dictionary-like object, or a list of these types. If other is a Series or dictionary-like object, it will be treated as a single row. If other is a DataFrame or a list of these types, it will be treated as multiple rows.\n",
    "\n",
    "`df.insert(loc, column, value)`: Inserts a new column column at the specified loc (position) in the DataFrame df, with values from value.\n",
    "\n",
    "\n",
    "`df.loc[index, col] = data` (recommended): Adds a new row or column to the DataFrame df using the loc accessor. This is the recommended method for adding rows or new "
   ]
  },
  {
   "cell_type": "code",
   "execution_count": 67,
   "id": "2ab7eb56",
   "metadata": {},
   "outputs": [
    {
     "data": {
      "text/html": [
       "<div>\n",
       "<style scoped>\n",
       "    .dataframe tbody tr th:only-of-type {\n",
       "        vertical-align: middle;\n",
       "    }\n",
       "\n",
       "    .dataframe tbody tr th {\n",
       "        vertical-align: top;\n",
       "    }\n",
       "\n",
       "    .dataframe thead th {\n",
       "        text-align: right;\n",
       "    }\n",
       "</style>\n",
       "<table border=\"1\" class=\"dataframe\">\n",
       "  <thead>\n",
       "    <tr style=\"text-align: right;\">\n",
       "      <th></th>\n",
       "      <th>age</th>\n",
       "      <th>city</th>\n",
       "    </tr>\n",
       "    <tr>\n",
       "      <th>name</th>\n",
       "      <th></th>\n",
       "      <th></th>\n",
       "    </tr>\n",
       "  </thead>\n",
       "  <tbody>\n",
       "    <tr>\n",
       "      <th>Tom</th>\n",
       "      <td>18</td>\n",
       "      <td>Los Angeles</td>\n",
       "    </tr>\n",
       "    <tr>\n",
       "      <th>Bob</th>\n",
       "      <td>30</td>\n",
       "      <td>New York</td>\n",
       "    </tr>\n",
       "    <tr>\n",
       "      <th>Mary</th>\n",
       "      <td>25</td>\n",
       "      <td>Chicago</td>\n",
       "    </tr>\n",
       "    <tr>\n",
       "      <th>James</th>\n",
       "      <td>40</td>\n",
       "      <td>Miami</td>\n",
       "    </tr>\n",
       "    <tr>\n",
       "      <th>Aria</th>\n",
       "      <td>22</td>\n",
       "      <td>Brambleton</td>\n",
       "    </tr>\n",
       "  </tbody>\n",
       "</table>\n",
       "</div>"
      ],
      "text/plain": [
       "       age         city\n",
       "name                   \n",
       "Tom     18  Los Angeles\n",
       "Bob     30     New York\n",
       "Mary    25      Chicago\n",
       "James   40        Miami\n",
       "Aria    22   Brambleton"
      ]
     },
     "execution_count": 67,
     "metadata": {},
     "output_type": "execute_result"
    }
   ],
   "source": [
    "data = {\n",
    "    \"age\" : [18, 30, 25, 40, 22],\n",
    "    \"city\" : [\"Los Angeles\", \"New York\", \"Chicago\", \"Miami\", \"Brambleton\"],\n",
    "}\n",
    "index = pd.Index( [\"Tom\", \"Bob\", \"Mary\", \"James\", \"Aria\"], name = 'name')\n",
    "user_info = pd.DataFrame(data, index = index)\n",
    "user_info"
   ]
  },
  {
   "cell_type": "markdown",
   "id": "dd525e1b",
   "metadata": {},
   "source": [
    "###### Adding new column"
   ]
  },
  {
   "cell_type": "code",
   "execution_count": 68,
   "id": "4e895023",
   "metadata": {},
   "outputs": [
    {
     "data": {
      "text/html": [
       "<div>\n",
       "<style scoped>\n",
       "    .dataframe tbody tr th:only-of-type {\n",
       "        vertical-align: middle;\n",
       "    }\n",
       "\n",
       "    .dataframe tbody tr th {\n",
       "        vertical-align: top;\n",
       "    }\n",
       "\n",
       "    .dataframe thead th {\n",
       "        text-align: right;\n",
       "    }\n",
       "</style>\n",
       "<table border=\"1\" class=\"dataframe\">\n",
       "  <thead>\n",
       "    <tr style=\"text-align: right;\">\n",
       "      <th></th>\n",
       "      <th>age</th>\n",
       "      <th>city</th>\n",
       "      <th>sex</th>\n",
       "    </tr>\n",
       "    <tr>\n",
       "      <th>name</th>\n",
       "      <th></th>\n",
       "      <th></th>\n",
       "      <th></th>\n",
       "    </tr>\n",
       "  </thead>\n",
       "  <tbody>\n",
       "    <tr>\n",
       "      <th>Tom</th>\n",
       "      <td>18</td>\n",
       "      <td>Los Angeles</td>\n",
       "      <td>Male</td>\n",
       "    </tr>\n",
       "    <tr>\n",
       "      <th>Bob</th>\n",
       "      <td>30</td>\n",
       "      <td>New York</td>\n",
       "      <td>Male</td>\n",
       "    </tr>\n",
       "    <tr>\n",
       "      <th>Mary</th>\n",
       "      <td>25</td>\n",
       "      <td>Chicago</td>\n",
       "      <td>Female</td>\n",
       "    </tr>\n",
       "    <tr>\n",
       "      <th>James</th>\n",
       "      <td>40</td>\n",
       "      <td>Miami</td>\n",
       "      <td>Male</td>\n",
       "    </tr>\n",
       "    <tr>\n",
       "      <th>Aria</th>\n",
       "      <td>22</td>\n",
       "      <td>Brambleton</td>\n",
       "      <td>Female</td>\n",
       "    </tr>\n",
       "  </tbody>\n",
       "</table>\n",
       "</div>"
      ],
      "text/plain": [
       "       age         city     sex\n",
       "name                           \n",
       "Tom     18  Los Angeles    Male\n",
       "Bob     30     New York    Male\n",
       "Mary    25      Chicago  Female\n",
       "James   40        Miami    Male\n",
       "Aria    22   Brambleton  Female"
      ]
     },
     "execution_count": 68,
     "metadata": {},
     "output_type": "execute_result"
    }
   ],
   "source": [
    "user_info['sex'] =  ['Male', 'Male', 'Female', 'Male', 'Female' ]\n",
    "user_info"
   ]
  },
  {
   "cell_type": "markdown",
   "id": "679f6ab1",
   "metadata": {},
   "source": [
    "##### To insert a new column at a specified position in a DataFrame"
   ]
  },
  {
   "cell_type": "code",
   "execution_count": 69,
   "id": "4030b156",
   "metadata": {},
   "outputs": [],
   "source": [
    "user_info.insert(1, \"hobby\", [\"Soccer\", \"Baseball\", \"Dance\", \"Reading\", \"Smile\"])"
   ]
  },
  {
   "cell_type": "code",
   "execution_count": 70,
   "id": "54868727",
   "metadata": {},
   "outputs": [
    {
     "data": {
      "text/html": [
       "<div>\n",
       "<style scoped>\n",
       "    .dataframe tbody tr th:only-of-type {\n",
       "        vertical-align: middle;\n",
       "    }\n",
       "\n",
       "    .dataframe tbody tr th {\n",
       "        vertical-align: top;\n",
       "    }\n",
       "\n",
       "    .dataframe thead th {\n",
       "        text-align: right;\n",
       "    }\n",
       "</style>\n",
       "<table border=\"1\" class=\"dataframe\">\n",
       "  <thead>\n",
       "    <tr style=\"text-align: right;\">\n",
       "      <th></th>\n",
       "      <th>age</th>\n",
       "      <th>hobby</th>\n",
       "      <th>city</th>\n",
       "      <th>sex</th>\n",
       "    </tr>\n",
       "    <tr>\n",
       "      <th>name</th>\n",
       "      <th></th>\n",
       "      <th></th>\n",
       "      <th></th>\n",
       "      <th></th>\n",
       "    </tr>\n",
       "  </thead>\n",
       "  <tbody>\n",
       "    <tr>\n",
       "      <th>Tom</th>\n",
       "      <td>18</td>\n",
       "      <td>Soccer</td>\n",
       "      <td>Los Angeles</td>\n",
       "      <td>Male</td>\n",
       "    </tr>\n",
       "    <tr>\n",
       "      <th>Bob</th>\n",
       "      <td>30</td>\n",
       "      <td>Baseball</td>\n",
       "      <td>New York</td>\n",
       "      <td>Male</td>\n",
       "    </tr>\n",
       "    <tr>\n",
       "      <th>Mary</th>\n",
       "      <td>25</td>\n",
       "      <td>Dance</td>\n",
       "      <td>Chicago</td>\n",
       "      <td>Female</td>\n",
       "    </tr>\n",
       "    <tr>\n",
       "      <th>James</th>\n",
       "      <td>40</td>\n",
       "      <td>Reading</td>\n",
       "      <td>Miami</td>\n",
       "      <td>Male</td>\n",
       "    </tr>\n",
       "    <tr>\n",
       "      <th>Aria</th>\n",
       "      <td>22</td>\n",
       "      <td>Smile</td>\n",
       "      <td>Brambleton</td>\n",
       "      <td>Female</td>\n",
       "    </tr>\n",
       "  </tbody>\n",
       "</table>\n",
       "</div>"
      ],
      "text/plain": [
       "       age     hobby         city     sex\n",
       "name                                     \n",
       "Tom     18    Soccer  Los Angeles    Male\n",
       "Bob     30  Baseball     New York    Male\n",
       "Mary    25     Dance      Chicago  Female\n",
       "James   40   Reading        Miami    Male\n",
       "Aria    22     Smile   Brambleton  Female"
      ]
     },
     "execution_count": 70,
     "metadata": {},
     "output_type": "execute_result"
    }
   ],
   "source": [
    "user_info"
   ]
  },
  {
   "cell_type": "markdown",
   "id": "9591c9ee",
   "metadata": {},
   "source": [
    "The `assign()` method in DataFrame allows you to create new columns based on existing columns. It returns a new DataFrame with the additional columns included."
   ]
  },
  {
   "cell_type": "code",
   "execution_count": 71,
   "id": "c9220946",
   "metadata": {},
   "outputs": [
    {
     "data": {
      "text/html": [
       "<div>\n",
       "<style scoped>\n",
       "    .dataframe tbody tr th:only-of-type {\n",
       "        vertical-align: middle;\n",
       "    }\n",
       "\n",
       "    .dataframe tbody tr th {\n",
       "        vertical-align: top;\n",
       "    }\n",
       "\n",
       "    .dataframe thead th {\n",
       "        text-align: right;\n",
       "    }\n",
       "</style>\n",
       "<table border=\"1\" class=\"dataframe\">\n",
       "  <thead>\n",
       "    <tr style=\"text-align: right;\">\n",
       "      <th></th>\n",
       "      <th>age</th>\n",
       "      <th>hobby</th>\n",
       "      <th>city</th>\n",
       "      <th>sex</th>\n",
       "      <th>description</th>\n",
       "    </tr>\n",
       "    <tr>\n",
       "      <th>name</th>\n",
       "      <th></th>\n",
       "      <th></th>\n",
       "      <th></th>\n",
       "      <th></th>\n",
       "      <th></th>\n",
       "    </tr>\n",
       "  </thead>\n",
       "  <tbody>\n",
       "    <tr>\n",
       "      <th>Tom</th>\n",
       "      <td>18</td>\n",
       "      <td>Soccer</td>\n",
       "      <td>Los Angeles</td>\n",
       "      <td>Male</td>\n",
       "      <td>Los Angeles- Male-Soccer</td>\n",
       "    </tr>\n",
       "    <tr>\n",
       "      <th>Bob</th>\n",
       "      <td>30</td>\n",
       "      <td>Baseball</td>\n",
       "      <td>New York</td>\n",
       "      <td>Male</td>\n",
       "      <td>New York- Male-Baseball</td>\n",
       "    </tr>\n",
       "    <tr>\n",
       "      <th>Mary</th>\n",
       "      <td>25</td>\n",
       "      <td>Dance</td>\n",
       "      <td>Chicago</td>\n",
       "      <td>Female</td>\n",
       "      <td>Chicago- Female-Dance</td>\n",
       "    </tr>\n",
       "    <tr>\n",
       "      <th>James</th>\n",
       "      <td>40</td>\n",
       "      <td>Reading</td>\n",
       "      <td>Miami</td>\n",
       "      <td>Male</td>\n",
       "      <td>Miami- Male-Reading</td>\n",
       "    </tr>\n",
       "    <tr>\n",
       "      <th>Aria</th>\n",
       "      <td>22</td>\n",
       "      <td>Smile</td>\n",
       "      <td>Brambleton</td>\n",
       "      <td>Female</td>\n",
       "      <td>Brambleton- Female-Smile</td>\n",
       "    </tr>\n",
       "  </tbody>\n",
       "</table>\n",
       "</div>"
      ],
      "text/plain": [
       "       age     hobby         city     sex               description\n",
       "name                                                               \n",
       "Tom     18    Soccer  Los Angeles    Male  Los Angeles- Male-Soccer\n",
       "Bob     30  Baseball     New York    Male   New York- Male-Baseball\n",
       "Mary    25     Dance      Chicago  Female     Chicago- Female-Dance\n",
       "James   40   Reading        Miami    Male       Miami- Male-Reading\n",
       "Aria    22     Smile   Brambleton  Female  Brambleton- Female-Smile"
      ]
     },
     "execution_count": 71,
     "metadata": {},
     "output_type": "execute_result"
    }
   ],
   "source": [
    "user_info.assign(description = user_info['city'] + '- '+ user_info['sex'] + '-' + user_info['hobby'])"
   ]
  },
  {
   "cell_type": "markdown",
   "id": "292d0d8f",
   "metadata": {},
   "source": [
    "###### Adding new row"
   ]
  },
  {
   "cell_type": "code",
   "execution_count": 72,
   "id": "7061eb61",
   "metadata": {},
   "outputs": [
    {
     "data": {
      "text/html": [
       "<div>\n",
       "<style scoped>\n",
       "    .dataframe tbody tr th:only-of-type {\n",
       "        vertical-align: middle;\n",
       "    }\n",
       "\n",
       "    .dataframe tbody tr th {\n",
       "        vertical-align: top;\n",
       "    }\n",
       "\n",
       "    .dataframe thead th {\n",
       "        text-align: right;\n",
       "    }\n",
       "</style>\n",
       "<table border=\"1\" class=\"dataframe\">\n",
       "  <thead>\n",
       "    <tr style=\"text-align: right;\">\n",
       "      <th></th>\n",
       "      <th>age</th>\n",
       "      <th>hobby</th>\n",
       "      <th>city</th>\n",
       "      <th>sex</th>\n",
       "    </tr>\n",
       "    <tr>\n",
       "      <th>name</th>\n",
       "      <th></th>\n",
       "      <th></th>\n",
       "      <th></th>\n",
       "      <th></th>\n",
       "    </tr>\n",
       "  </thead>\n",
       "  <tbody>\n",
       "    <tr>\n",
       "      <th>Tom</th>\n",
       "      <td>18</td>\n",
       "      <td>Soccer</td>\n",
       "      <td>Los Angeles</td>\n",
       "      <td>Male</td>\n",
       "    </tr>\n",
       "    <tr>\n",
       "      <th>Bob</th>\n",
       "      <td>30</td>\n",
       "      <td>Baseball</td>\n",
       "      <td>New York</td>\n",
       "      <td>Male</td>\n",
       "    </tr>\n",
       "    <tr>\n",
       "      <th>Mary</th>\n",
       "      <td>25</td>\n",
       "      <td>Dance</td>\n",
       "      <td>Chicago</td>\n",
       "      <td>Female</td>\n",
       "    </tr>\n",
       "    <tr>\n",
       "      <th>James</th>\n",
       "      <td>40</td>\n",
       "      <td>Reading</td>\n",
       "      <td>Miami</td>\n",
       "      <td>Male</td>\n",
       "    </tr>\n",
       "    <tr>\n",
       "      <th>Aria</th>\n",
       "      <td>22</td>\n",
       "      <td>Smile</td>\n",
       "      <td>Brambleton</td>\n",
       "      <td>Female</td>\n",
       "    </tr>\n",
       "    <tr>\n",
       "      <th>Linda</th>\n",
       "      <td>28</td>\n",
       "      <td>Singing</td>\n",
       "      <td>DC</td>\n",
       "      <td>Female</td>\n",
       "    </tr>\n",
       "  </tbody>\n",
       "</table>\n",
       "</div>"
      ],
      "text/plain": [
       "       age     hobby         city     sex\n",
       "name                                     \n",
       "Tom     18    Soccer  Los Angeles    Male\n",
       "Bob     30  Baseball     New York    Male\n",
       "Mary    25     Dance      Chicago  Female\n",
       "James   40   Reading        Miami    Male\n",
       "Aria    22     Smile   Brambleton  Female\n",
       "Linda   28   Singing           DC  Female"
      ]
     },
     "execution_count": 72,
     "metadata": {},
     "output_type": "execute_result"
    }
   ],
   "source": [
    "user_info.loc['Linda'] = [28, 'Singing', 'DC', 'Female']\n",
    "user_info"
   ]
  },
  {
   "cell_type": "code",
   "execution_count": 73,
   "id": "51251344",
   "metadata": {},
   "outputs": [],
   "source": [
    "# data = {\n",
    "#     \"age\" : [18, 30, 25, 40, 22],\n",
    "#     \"city\" : [\"Los Angeles\", \"New York\", \"Chicago\", \"Miami\", \"Seatle\"],\n",
    "# }\n",
    "# index = pd.Index( [\"Tom\", \"Bob\", \"Mary\", \"James\", \"Sun\"], name = 'name')\n",
    "# user_info = pd.DataFrame(data, index = index)\n",
    "\n",
    "# user1 = pd.Series(data=[23, 'Huston', 'Hiking', 'Female'], \n",
    "#                    index = ['age', 'city', 'hobby', 'sex'],name = 'Lisa')\n",
    "# concatenated_results = pd.concat([user_info, pd.DataFrame(user1).T])"
   ]
  },
  {
   "cell_type": "markdown",
   "id": "877b3f97",
   "metadata": {},
   "source": [
    "## Modifying a DataFrame\n",
    "\n",
    "The relevant methods for modifying a DataFrame are as follows:\n",
    "\n",
    "* `df.columns = columns`: Set new column names using a list.\n",
    "* `df.index = index`: Set new index values using a list.\n",
    "* `df.rename(index=None, columns=None, inplace=False)`: Modify the index using index parameter and modify the column names using columns parameter. The inplace parameter determines whether to modify the original DataFrame.\n",
    "* `df.loc[index, col]` = value: Modify specific data based on row or column labels.\n",
    "* `df.iloc[iindex, icol]` = value: Modify specific data based on row and column positions."
   ]
  },
  {
   "cell_type": "markdown",
   "id": "dedbc320",
   "metadata": {},
   "source": [
    "\n",
    "## Deletion methods in DataFrame:\n",
    "\n",
    "* `df.drop(index=None, columns=None, inplace=False)`: Delete rows based on index using the index parameter, or delete columns based on column names using the columns parameter. The inplace parameter determines whether to modify the original DataFrame. This method returns the deleted rows or columns.\n",
    "\n",
    "* `df.pop(col)`: Delete the specified column and return the deleted column.\n",
    "\n",
    "* `del df[col]`: Delete the specified column without returning any value."
   ]
  },
  {
   "cell_type": "markdown",
   "id": "f7267f7b",
   "metadata": {},
   "source": [
    "# Iterating over a DataFrame in pandas"
   ]
  },
  {
   "cell_type": "code",
   "execution_count": 74,
   "id": "8ebe0474",
   "metadata": {},
   "outputs": [
    {
     "name": "stdout",
     "output_type": "stream",
     "text": [
      "age\n",
      "hobby\n",
      "city\n",
      "sex\n"
     ]
    }
   ],
   "source": [
    "for col in user_info:\n",
    "    print(col)"
   ]
  },
  {
   "cell_type": "code",
   "execution_count": 75,
   "id": "25682877",
   "metadata": {},
   "outputs": [
    {
     "name": "stdout",
     "output_type": "stream",
     "text": [
      "age\n",
      "name\n",
      "Tom      18\n",
      "Bob      30\n",
      "Mary     25\n",
      "James    40\n",
      "Aria     22\n",
      "Linda    28\n",
      "Name: age, dtype: int64\n",
      "hobby\n",
      "name\n",
      "Tom        Soccer\n",
      "Bob      Baseball\n",
      "Mary        Dance\n",
      "James     Reading\n",
      "Aria        Smile\n",
      "Linda     Singing\n",
      "Name: hobby, dtype: object\n",
      "city\n",
      "name\n",
      "Tom      Los Angeles\n",
      "Bob         New York\n",
      "Mary         Chicago\n",
      "James          Miami\n",
      "Aria      Brambleton\n",
      "Linda             DC\n",
      "Name: city, dtype: object\n",
      "sex\n",
      "name\n",
      "Tom        Male\n",
      "Bob        Male\n",
      "Mary     Female\n",
      "James      Male\n",
      "Aria     Female\n",
      "Linda    Female\n",
      "Name: sex, dtype: object\n"
     ]
    }
   ],
   "source": [
    "for col in user_info:\n",
    "    print(col)\n",
    "    print(user_info[col])"
   ]
  },
  {
   "cell_type": "code",
   "execution_count": 76,
   "id": "30bd1722",
   "metadata": {},
   "outputs": [],
   "source": [
    "# Not finished"
   ]
  },
  {
   "cell_type": "code",
   "execution_count": null,
   "id": "fb40ef20",
   "metadata": {},
   "outputs": [],
   "source": []
  },
  {
   "cell_type": "code",
   "execution_count": null,
   "id": "13d9e785",
   "metadata": {},
   "outputs": [],
   "source": []
  },
  {
   "cell_type": "code",
   "execution_count": null,
   "id": "2fa3eee1",
   "metadata": {},
   "outputs": [],
   "source": []
  },
  {
   "cell_type": "code",
   "execution_count": null,
   "id": "2da98861",
   "metadata": {},
   "outputs": [],
   "source": []
  },
  {
   "cell_type": "code",
   "execution_count": null,
   "id": "b909a891",
   "metadata": {},
   "outputs": [],
   "source": []
  },
  {
   "cell_type": "code",
   "execution_count": null,
   "id": "3189da8e",
   "metadata": {},
   "outputs": [],
   "source": []
  },
  {
   "cell_type": "code",
   "execution_count": null,
   "id": "ee6f5b29",
   "metadata": {},
   "outputs": [],
   "source": []
  },
  {
   "cell_type": "code",
   "execution_count": null,
   "id": "3a581ea1",
   "metadata": {},
   "outputs": [],
   "source": []
  },
  {
   "cell_type": "code",
   "execution_count": null,
   "id": "4724ae76",
   "metadata": {},
   "outputs": [],
   "source": []
  },
  {
   "cell_type": "code",
   "execution_count": null,
   "id": "c5506114",
   "metadata": {},
   "outputs": [],
   "source": []
  },
  {
   "cell_type": "code",
   "execution_count": null,
   "id": "84369073",
   "metadata": {},
   "outputs": [],
   "source": []
  },
  {
   "cell_type": "code",
   "execution_count": null,
   "id": "4d4935f9",
   "metadata": {},
   "outputs": [],
   "source": []
  },
  {
   "cell_type": "code",
   "execution_count": null,
   "id": "96624271",
   "metadata": {},
   "outputs": [],
   "source": []
  },
  {
   "cell_type": "code",
   "execution_count": null,
   "id": "279d4683",
   "metadata": {},
   "outputs": [],
   "source": []
  },
  {
   "cell_type": "code",
   "execution_count": null,
   "id": "04dfbcff",
   "metadata": {},
   "outputs": [],
   "source": []
  }
 ],
 "metadata": {
  "kernelspec": {
   "display_name": "Python 3 (ipykernel)",
   "language": "python",
   "name": "python3"
  },
  "language_info": {
   "codemirror_mode": {
    "name": "ipython",
    "version": 3
   },
   "file_extension": ".py",
   "mimetype": "text/x-python",
   "name": "python",
   "nbconvert_exporter": "python",
   "pygments_lexer": "ipython3",
   "version": "3.10.7"
  },
  "toc": {
   "base_numbering": 1,
   "nav_menu": {},
   "number_sections": true,
   "sideBar": true,
   "skip_h1_title": false,
   "title_cell": "Table of Contents",
   "title_sidebar": "Contents",
   "toc_cell": false,
   "toc_position": {},
   "toc_section_display": true,
   "toc_window_display": false
  }
 },
 "nbformat": 4,
 "nbformat_minor": 5
}
