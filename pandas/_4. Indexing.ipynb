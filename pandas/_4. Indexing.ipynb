{
 "cells": [
  {
   "cell_type": "code",
   "execution_count": 1,
   "id": "1eaa10b6",
   "metadata": {},
   "outputs": [],
   "source": [
    "import pandas as pd \n",
    "import numpy as np"
   ]
  },
  {
   "cell_type": "code",
   "execution_count": 2,
   "id": "3442b901",
   "metadata": {},
   "outputs": [
    {
     "name": "stdout",
     "output_type": "stream",
     "text": [
      "2.0.2\n"
     ]
    }
   ],
   "source": [
    "print(pd.__version__)"
   ]
  },
  {
   "attachments": {
    "pandas%20data%20structure%20image.PNG": {
     "image/png": "[encoded data removed]"
    }
   },
   "cell_type": "markdown",
   "id": "95d74902",
   "metadata": {},
   "source": [
    "# Understanding Indexing\n",
    "\n",
    "In Pandas, the index plays a vital role in organizing and accessing data. It serves as a way to label and identify rows or columns in a DataFrame or Series. The index provides a ***unique*** identifier for each data point, allowing for efficient and intuitive data manipulation and retrieval.\n",
    "\n",
    "\n",
    "\n",
    "* **Unique Identifiers**: Each element in the index represents a unique identifier for a row or column in the data structure. This allows for efficient data retrieval and alignment.\n",
    "\n",
    "* **Labeling**: Indexing provides labels or names to rows or columns, enabling easy referencing and selection of specific data subsets.\n",
    "\n",
    "* **Customizable**: The index can be customized to suit the specific needs of the data. It can consist of various types such as integers, strings, dates, or even a combination of multiple levels.\n",
    "\n",
    "* **Alignment**: Indexing facilitates aligning multiple data structures based on their index, allowing for seamless operations and computations.\n",
    "\n",
    "* **Hierarchical Indexing**: Pandas supports hierarchical indexing, also known as multi-level indexing, where indexes can have multiple levels to represent complex hierarchical relationships in the data.\n",
    "\n",
    "![pandas%20data%20structure%20image.PNG](attachment:pandas%20data%20structure%20image.PNG)\n"
   ]
  },
  {
   "cell_type": "markdown",
   "id": "f37722a9",
   "metadata": {},
   "source": [
    "# Creating Index\n",
    "\n",
    "## Not Specifying Index When Creating a DataFrame"
   ]
  },
  {
   "cell_type": "code",
   "execution_count": 3,
   "id": "d64dbc00",
   "metadata": {},
   "outputs": [
    {
     "data": {
      "text/html": [
       "<div>\n",
       "<style scoped>\n",
       "    .dataframe tbody tr th:only-of-type {\n",
       "        vertical-align: middle;\n",
       "    }\n",
       "\n",
       "    .dataframe tbody tr th {\n",
       "        vertical-align: top;\n",
       "    }\n",
       "\n",
       "    .dataframe thead th {\n",
       "        text-align: right;\n",
       "    }\n",
       "</style>\n",
       "<table border=\"1\" class=\"dataframe\">\n",
       "  <thead>\n",
       "    <tr style=\"text-align: right;\">\n",
       "      <th></th>\n",
       "      <th>name</th>\n",
       "      <th>age</th>\n",
       "      <th>city</th>\n",
       "      <th>hobby</th>\n",
       "    </tr>\n",
       "  </thead>\n",
       "  <tbody>\n",
       "    <tr>\n",
       "      <th>0</th>\n",
       "      <td>Tom</td>\n",
       "      <td>18</td>\n",
       "      <td>Los Angeles</td>\n",
       "      <td>Basketball</td>\n",
       "    </tr>\n",
       "    <tr>\n",
       "      <th>1</th>\n",
       "      <td>Bob</td>\n",
       "      <td>30</td>\n",
       "      <td>New York</td>\n",
       "      <td>Football</td>\n",
       "    </tr>\n",
       "    <tr>\n",
       "      <th>2</th>\n",
       "      <td>Mary</td>\n",
       "      <td>25</td>\n",
       "      <td>Seattle</td>\n",
       "      <td>Dance</td>\n",
       "    </tr>\n",
       "    <tr>\n",
       "      <th>3</th>\n",
       "      <td>James</td>\n",
       "      <td>40</td>\n",
       "      <td>Houston</td>\n",
       "      <td>Reading</td>\n",
       "    </tr>\n",
       "    <tr>\n",
       "      <th>4</th>\n",
       "      <td>Aria</td>\n",
       "      <td>20</td>\n",
       "      <td>Brambleton</td>\n",
       "      <td>Smile</td>\n",
       "    </tr>\n",
       "  </tbody>\n",
       "</table>\n",
       "</div>"
      ],
      "text/plain": [
       "    name  age         city       hobby\n",
       "0    Tom   18  Los Angeles  Basketball\n",
       "1    Bob   30     New York    Football\n",
       "2   Mary   25      Seattle       Dance\n",
       "3  James   40      Houston     Reading\n",
       "4   Aria   20   Brambleton       Smile"
      ]
     },
     "execution_count": 3,
     "metadata": {},
     "output_type": "execute_result"
    }
   ],
   "source": [
    "data = {\n",
    "    \"name\": [\"Tom\", \"Bob\", \"Mary\", \"James\", \"Aria\"],\n",
    "    \"age\": [18, 30, 25, 40, 20],\n",
    "    \"city\": [\"Los Angeles\", \"New York\", \"Seattle\", \"Houston\", \"Brambleton\"],\n",
    "    \"hobby\": [\"Basketball\", \"Football\", \"Dance\", \"Reading\", \"Smile\"],\n",
    "}th\n",
    "user_info = pd.DataFrame(data)\n",
    "user_info"
   ]
  },
  {
   "cell_type": "markdown",
   "id": "b111c05d",
   "metadata": {},
   "source": [
    "## Specifying Index When Creating a DataFrame"
   ]
  },
  {
   "cell_type": "code",
   "execution_count": 4,
   "id": "842c2770",
   "metadata": {
    "scrolled": true
   },
   "outputs": [
    {
     "data": {
      "text/html": [
       "<div>\n",
       "<style scoped>\n",
       "    .dataframe tbody tr th:only-of-type {\n",
       "        vertical-align: middle;\n",
       "    }\n",
       "\n",
       "    .dataframe tbody tr th {\n",
       "        vertical-align: top;\n",
       "    }\n",
       "\n",
       "    .dataframe thead th {\n",
       "        text-align: right;\n",
       "    }\n",
       "</style>\n",
       "<table border=\"1\" class=\"dataframe\">\n",
       "  <thead>\n",
       "    <tr style=\"text-align: right;\">\n",
       "      <th></th>\n",
       "      <th>age</th>\n",
       "      <th>city</th>\n",
       "      <th>hobby</th>\n",
       "    </tr>\n",
       "    <tr>\n",
       "      <th>name</th>\n",
       "      <th></th>\n",
       "      <th></th>\n",
       "      <th></th>\n",
       "    </tr>\n",
       "  </thead>\n",
       "  <tbody>\n",
       "    <tr>\n",
       "      <th>Tom</th>\n",
       "      <td>18</td>\n",
       "      <td>Los Angeles</td>\n",
       "      <td>Basketball</td>\n",
       "    </tr>\n",
       "    <tr>\n",
       "      <th>Bob</th>\n",
       "      <td>30</td>\n",
       "      <td>New York</td>\n",
       "      <td>Football</td>\n",
       "    </tr>\n",
       "    <tr>\n",
       "      <th>Mary</th>\n",
       "      <td>25</td>\n",
       "      <td>Seattle</td>\n",
       "      <td>Dance</td>\n",
       "    </tr>\n",
       "    <tr>\n",
       "      <th>James</th>\n",
       "      <td>40</td>\n",
       "      <td>Houston</td>\n",
       "      <td>Reading</td>\n",
       "    </tr>\n",
       "    <tr>\n",
       "      <th>Aria</th>\n",
       "      <td>20</td>\n",
       "      <td>Brambleton</td>\n",
       "      <td>Smile</td>\n",
       "    </tr>\n",
       "  </tbody>\n",
       "</table>\n",
       "</div>"
      ],
      "text/plain": [
       "       age         city       hobby\n",
       "name                               \n",
       "Tom     18  Los Angeles  Basketball\n",
       "Bob     30     New York    Football\n",
       "Mary    25      Seattle       Dance\n",
       "James   40      Houston     Reading\n",
       "Aria    20   Brambleton       Smile"
      ]
     },
     "execution_count": 4,
     "metadata": {},
     "output_type": "execute_result"
    }
   ],
   "source": [
    "index = pd.Index([\"Tom\", \"Bob\", \"Mary\", \"James\", \"Aria\"], name = \"name\")\n",
    "data = {\n",
    "    \"age\": [18, 30, 25, 40, 20],\n",
    "    \"city\": [\"Los Angeles\", \"New York\", \"Seattle\", \"Houston\", \"Brambleton\"],\n",
    "    \"hobby\": [\"Basketball\", \"Football\", \"Dance\", \"Reading\", \"Smile\"],\n",
    "}\n",
    "user_info = pd.DataFrame(data = data, index = index)\n",
    "user_info"
   ]
  },
  {
   "cell_type": "markdown",
   "id": "8b3344a0",
   "metadata": {},
   "source": [
    "##### Specifying index when reading a file\n",
    "```python\n",
    "pd.read_csv(\".../user_info.csv\", index_col = \"name\")\n",
    "```"
   ]
  },
  {
   "cell_type": "markdown",
   "id": "6c473d56",
   "metadata": {},
   "source": [
    "## Using `set_index()` to set up index\n",
    "```python\n",
    "\n",
    "set_index(keys, drop = True, append = False, inplace = False, verify_integrity = False)\n",
    "\n",
    "```\n",
    "\n",
    "* **keys**: This parameter specifies the column(s) to be used as the new index. It can be a single column name (as a string) or a list of column names.\n",
    "* **drop**: This parameter determines whether the column(s) used as the new index should be dropped from the DataFrame. By default, it is set to True, meaning the column(s) will be removed. If set to False, the column(s) will be retained.\n",
    "\n",
    "* **append**: This parameter specifies whether to append the new index to the existing index. By default, it is set to False, which means the existing index will be replaced. If set to True, the new index will be added as an additional level to the existing index.\n",
    "\n",
    "* **inplace**: This parameter determines whether to modify the DataFrame in-place or return a new DataFrame with the updated index. By default, it is set to False, which means a new DataFrame will be returned. If set to True, the original DataFrame will be modified.\n",
    "\n",
    "* **verify_integrity**: This parameter checks whether the new index contains duplicates and raises an exception if duplicates are found. By default, it is set to False. If set to True, an exception will be raised if duplicates exist."
   ]
  },
  {
   "cell_type": "code",
   "execution_count": 5,
   "id": "8bed4c2a",
   "metadata": {},
   "outputs": [
    {
     "data": {
      "text/html": [
       "<div>\n",
       "<style scoped>\n",
       "    .dataframe tbody tr th:only-of-type {\n",
       "        vertical-align: middle;\n",
       "    }\n",
       "\n",
       "    .dataframe tbody tr th {\n",
       "        vertical-align: top;\n",
       "    }\n",
       "\n",
       "    .dataframe thead th {\n",
       "        text-align: right;\n",
       "    }\n",
       "</style>\n",
       "<table border=\"1\" class=\"dataframe\">\n",
       "  <thead>\n",
       "    <tr style=\"text-align: right;\">\n",
       "      <th></th>\n",
       "      <th>name</th>\n",
       "      <th>age</th>\n",
       "      <th>city</th>\n",
       "      <th>hobby</th>\n",
       "    </tr>\n",
       "  </thead>\n",
       "  <tbody>\n",
       "    <tr>\n",
       "      <th>0</th>\n",
       "      <td>Tom</td>\n",
       "      <td>18</td>\n",
       "      <td>Los Angeles</td>\n",
       "      <td>Basketball</td>\n",
       "    </tr>\n",
       "    <tr>\n",
       "      <th>1</th>\n",
       "      <td>Bob</td>\n",
       "      <td>30</td>\n",
       "      <td>New York</td>\n",
       "      <td>Football</td>\n",
       "    </tr>\n",
       "    <tr>\n",
       "      <th>2</th>\n",
       "      <td>Mary</td>\n",
       "      <td>25</td>\n",
       "      <td>Seattle</td>\n",
       "      <td>Dance</td>\n",
       "    </tr>\n",
       "    <tr>\n",
       "      <th>3</th>\n",
       "      <td>James</td>\n",
       "      <td>40</td>\n",
       "      <td>Houston</td>\n",
       "      <td>Reading</td>\n",
       "    </tr>\n",
       "    <tr>\n",
       "      <th>4</th>\n",
       "      <td>Aria</td>\n",
       "      <td>20</td>\n",
       "      <td>Brambleton</td>\n",
       "      <td>Smile</td>\n",
       "    </tr>\n",
       "  </tbody>\n",
       "</table>\n",
       "</div>"
      ],
      "text/plain": [
       "    name  age         city       hobby\n",
       "0    Tom   18  Los Angeles  Basketball\n",
       "1    Bob   30     New York    Football\n",
       "2   Mary   25      Seattle       Dance\n",
       "3  James   40      Houston     Reading\n",
       "4   Aria   20   Brambleton       Smile"
      ]
     },
     "execution_count": 5,
     "metadata": {},
     "output_type": "execute_result"
    }
   ],
   "source": [
    "data = {\n",
    "    \"name\": [\"Tom\", \"Bob\", \"Mary\", \"James\", \"Aria\"],\n",
    "    \"age\": [18, 30, 25, 40, 20],\n",
    "    \"city\": [\"Los Angeles\", \"New York\", \"Seattle\", \"Houston\", \"Brambleton\"],\n",
    "    \"hobby\": [\"Basketball\", \"Football\", \"Dance\", \"Reading\", \"Smile\"],\n",
    "}\n",
    "user_info = pd.DataFrame(data)\n",
    "user_info"
   ]
  },
  {
   "cell_type": "code",
   "execution_count": 6,
   "id": "7b0858f5",
   "metadata": {},
   "outputs": [
    {
     "data": {
      "text/html": [
       "<div>\n",
       "<style scoped>\n",
       "    .dataframe tbody tr th:only-of-type {\n",
       "        vertical-align: middle;\n",
       "    }\n",
       "\n",
       "    .dataframe tbody tr th {\n",
       "        vertical-align: top;\n",
       "    }\n",
       "\n",
       "    .dataframe thead th {\n",
       "        text-align: right;\n",
       "    }\n",
       "</style>\n",
       "<table border=\"1\" class=\"dataframe\">\n",
       "  <thead>\n",
       "    <tr style=\"text-align: right;\">\n",
       "      <th></th>\n",
       "      <th>age</th>\n",
       "      <th>city</th>\n",
       "      <th>hobby</th>\n",
       "    </tr>\n",
       "    <tr>\n",
       "      <th>name</th>\n",
       "      <th></th>\n",
       "      <th></th>\n",
       "      <th></th>\n",
       "    </tr>\n",
       "  </thead>\n",
       "  <tbody>\n",
       "    <tr>\n",
       "      <th>Tom</th>\n",
       "      <td>18</td>\n",
       "      <td>Los Angeles</td>\n",
       "      <td>Basketball</td>\n",
       "    </tr>\n",
       "    <tr>\n",
       "      <th>Bob</th>\n",
       "      <td>30</td>\n",
       "      <td>New York</td>\n",
       "      <td>Football</td>\n",
       "    </tr>\n",
       "    <tr>\n",
       "      <th>Mary</th>\n",
       "      <td>25</td>\n",
       "      <td>Seattle</td>\n",
       "      <td>Dance</td>\n",
       "    </tr>\n",
       "    <tr>\n",
       "      <th>James</th>\n",
       "      <td>40</td>\n",
       "      <td>Houston</td>\n",
       "      <td>Reading</td>\n",
       "    </tr>\n",
       "    <tr>\n",
       "      <th>Aria</th>\n",
       "      <td>20</td>\n",
       "      <td>Brambleton</td>\n",
       "      <td>Smile</td>\n",
       "    </tr>\n",
       "  </tbody>\n",
       "</table>\n",
       "</div>"
      ],
      "text/plain": [
       "       age         city       hobby\n",
       "name                               \n",
       "Tom     18  Los Angeles  Basketball\n",
       "Bob     30     New York    Football\n",
       "Mary    25      Seattle       Dance\n",
       "James   40      Houston     Reading\n",
       "Aria    20   Brambleton       Smile"
      ]
     },
     "execution_count": 6,
     "metadata": {},
     "output_type": "execute_result"
    }
   ],
   "source": [
    "user_info.set_index('name')"
   ]
  },
  {
   "cell_type": "markdown",
   "id": "71314291",
   "metadata": {},
   "source": [
    "###### `append`  parameter specifies whether to append the new index to the existing index."
   ]
  },
  {
   "cell_type": "code",
   "execution_count": 7,
   "id": "c116b727",
   "metadata": {},
   "outputs": [
    {
     "data": {
      "text/html": [
       "<div>\n",
       "<style scoped>\n",
       "    .dataframe tbody tr th:only-of-type {\n",
       "        vertical-align: middle;\n",
       "    }\n",
       "\n",
       "    .dataframe tbody tr th {\n",
       "        vertical-align: top;\n",
       "    }\n",
       "\n",
       "    .dataframe thead th {\n",
       "        text-align: right;\n",
       "    }\n",
       "</style>\n",
       "<table border=\"1\" class=\"dataframe\">\n",
       "  <thead>\n",
       "    <tr style=\"text-align: right;\">\n",
       "      <th></th>\n",
       "      <th></th>\n",
       "      <th>city</th>\n",
       "      <th>hobby</th>\n",
       "    </tr>\n",
       "    <tr>\n",
       "      <th>name</th>\n",
       "      <th>age</th>\n",
       "      <th></th>\n",
       "      <th></th>\n",
       "    </tr>\n",
       "  </thead>\n",
       "  <tbody>\n",
       "    <tr>\n",
       "      <th>Tom</th>\n",
       "      <th>18</th>\n",
       "      <td>Los Angeles</td>\n",
       "      <td>Basketball</td>\n",
       "    </tr>\n",
       "    <tr>\n",
       "      <th>Bob</th>\n",
       "      <th>30</th>\n",
       "      <td>New York</td>\n",
       "      <td>Football</td>\n",
       "    </tr>\n",
       "    <tr>\n",
       "      <th>Mary</th>\n",
       "      <th>25</th>\n",
       "      <td>Seattle</td>\n",
       "      <td>Dance</td>\n",
       "    </tr>\n",
       "    <tr>\n",
       "      <th>James</th>\n",
       "      <th>40</th>\n",
       "      <td>Houston</td>\n",
       "      <td>Reading</td>\n",
       "    </tr>\n",
       "    <tr>\n",
       "      <th>Aria</th>\n",
       "      <th>20</th>\n",
       "      <td>Brambleton</td>\n",
       "      <td>Smile</td>\n",
       "    </tr>\n",
       "  </tbody>\n",
       "</table>\n",
       "</div>"
      ],
      "text/plain": [
       "                  city       hobby\n",
       "name  age                         \n",
       "Tom   18   Los Angeles  Basketball\n",
       "Bob   30      New York    Football\n",
       "Mary  25       Seattle       Dance\n",
       "James 40       Houston     Reading\n",
       "Aria  20    Brambleton       Smile"
      ]
     },
     "execution_count": 7,
     "metadata": {},
     "output_type": "execute_result"
    }
   ],
   "source": [
    "user_info.set_index('name').set_index(['age'], append = True)"
   ]
  },
  {
   "cell_type": "markdown",
   "id": "9f3a36e8",
   "metadata": {},
   "source": [
    "###### Specifying multiple indices"
   ]
  },
  {
   "cell_type": "code",
   "execution_count": 8,
   "id": "262215c8",
   "metadata": {},
   "outputs": [
    {
     "data": {
      "text/html": [
       "<div>\n",
       "<style scoped>\n",
       "    .dataframe tbody tr th:only-of-type {\n",
       "        vertical-align: middle;\n",
       "    }\n",
       "\n",
       "    .dataframe tbody tr th {\n",
       "        vertical-align: top;\n",
       "    }\n",
       "\n",
       "    .dataframe thead th {\n",
       "        text-align: right;\n",
       "    }\n",
       "</style>\n",
       "<table border=\"1\" class=\"dataframe\">\n",
       "  <thead>\n",
       "    <tr style=\"text-align: right;\">\n",
       "      <th></th>\n",
       "      <th></th>\n",
       "      <th>city</th>\n",
       "      <th>hobby</th>\n",
       "    </tr>\n",
       "    <tr>\n",
       "      <th>name</th>\n",
       "      <th>age</th>\n",
       "      <th></th>\n",
       "      <th></th>\n",
       "    </tr>\n",
       "  </thead>\n",
       "  <tbody>\n",
       "    <tr>\n",
       "      <th>Tom</th>\n",
       "      <th>18</th>\n",
       "      <td>Los Angeles</td>\n",
       "      <td>Basketball</td>\n",
       "    </tr>\n",
       "    <tr>\n",
       "      <th>Bob</th>\n",
       "      <th>30</th>\n",
       "      <td>New York</td>\n",
       "      <td>Football</td>\n",
       "    </tr>\n",
       "    <tr>\n",
       "      <th>Mary</th>\n",
       "      <th>25</th>\n",
       "      <td>Seattle</td>\n",
       "      <td>Dance</td>\n",
       "    </tr>\n",
       "    <tr>\n",
       "      <th>James</th>\n",
       "      <th>40</th>\n",
       "      <td>Houston</td>\n",
       "      <td>Reading</td>\n",
       "    </tr>\n",
       "    <tr>\n",
       "      <th>Aria</th>\n",
       "      <th>20</th>\n",
       "      <td>Brambleton</td>\n",
       "      <td>Smile</td>\n",
       "    </tr>\n",
       "  </tbody>\n",
       "</table>\n",
       "</div>"
      ],
      "text/plain": [
       "                  city       hobby\n",
       "name  age                         \n",
       "Tom   18   Los Angeles  Basketball\n",
       "Bob   30      New York    Football\n",
       "Mary  25       Seattle       Dance\n",
       "James 40       Houston     Reading\n",
       "Aria  20    Brambleton       Smile"
      ]
     },
     "execution_count": 8,
     "metadata": {},
     "output_type": "execute_result"
    }
   ],
   "source": [
    "user_info.set_index(['name', 'age'])"
   ]
  },
  {
   "cell_type": "code",
   "execution_count": 9,
   "id": "1ecbddf8",
   "metadata": {},
   "outputs": [
    {
     "data": {
      "text/html": [
       "<div>\n",
       "<style scoped>\n",
       "    .dataframe tbody tr th:only-of-type {\n",
       "        vertical-align: middle;\n",
       "    }\n",
       "\n",
       "    .dataframe tbody tr th {\n",
       "        vertical-align: top;\n",
       "    }\n",
       "\n",
       "    .dataframe thead th {\n",
       "        text-align: right;\n",
       "    }\n",
       "</style>\n",
       "<table border=\"1\" class=\"dataframe\">\n",
       "  <thead>\n",
       "    <tr style=\"text-align: right;\">\n",
       "      <th></th>\n",
       "      <th>name</th>\n",
       "      <th>age</th>\n",
       "      <th>city</th>\n",
       "      <th>hobby</th>\n",
       "    </tr>\n",
       "    <tr>\n",
       "      <th>name</th>\n",
       "      <th></th>\n",
       "      <th></th>\n",
       "      <th></th>\n",
       "      <th></th>\n",
       "    </tr>\n",
       "  </thead>\n",
       "  <tbody>\n",
       "    <tr>\n",
       "      <th>Tom</th>\n",
       "      <td>Tom</td>\n",
       "      <td>18</td>\n",
       "      <td>Los Angeles</td>\n",
       "      <td>Basketball</td>\n",
       "    </tr>\n",
       "    <tr>\n",
       "      <th>Bob</th>\n",
       "      <td>Bob</td>\n",
       "      <td>30</td>\n",
       "      <td>New York</td>\n",
       "      <td>Football</td>\n",
       "    </tr>\n",
       "    <tr>\n",
       "      <th>Mary</th>\n",
       "      <td>Mary</td>\n",
       "      <td>25</td>\n",
       "      <td>Seattle</td>\n",
       "      <td>Dance</td>\n",
       "    </tr>\n",
       "    <tr>\n",
       "      <th>James</th>\n",
       "      <td>James</td>\n",
       "      <td>40</td>\n",
       "      <td>Houston</td>\n",
       "      <td>Reading</td>\n",
       "    </tr>\n",
       "    <tr>\n",
       "      <th>Aria</th>\n",
       "      <td>Aria</td>\n",
       "      <td>20</td>\n",
       "      <td>Brambleton</td>\n",
       "      <td>Smile</td>\n",
       "    </tr>\n",
       "  </tbody>\n",
       "</table>\n",
       "</div>"
      ],
      "text/plain": [
       "        name  age         city       hobby\n",
       "name                                      \n",
       "Tom      Tom   18  Los Angeles  Basketball\n",
       "Bob      Bob   30     New York    Football\n",
       "Mary    Mary   25      Seattle       Dance\n",
       "James  James   40      Houston     Reading\n",
       "Aria    Aria   20   Brambleton       Smile"
      ]
     },
     "execution_count": 9,
     "metadata": {},
     "output_type": "execute_result"
    }
   ],
   "source": [
    "user_info.set_index('name', drop = False) # Keep \"name\" as a column in dataframe"
   ]
  },
  {
   "cell_type": "code",
   "execution_count": 10,
   "id": "59d28b4a",
   "metadata": {},
   "outputs": [
    {
     "data": {
      "text/html": [
       "<div>\n",
       "<style scoped>\n",
       "    .dataframe tbody tr th:only-of-type {\n",
       "        vertical-align: middle;\n",
       "    }\n",
       "\n",
       "    .dataframe tbody tr th {\n",
       "        vertical-align: top;\n",
       "    }\n",
       "\n",
       "    .dataframe thead th {\n",
       "        text-align: right;\n",
       "    }\n",
       "</style>\n",
       "<table border=\"1\" class=\"dataframe\">\n",
       "  <thead>\n",
       "    <tr style=\"text-align: right;\">\n",
       "      <th></th>\n",
       "      <th></th>\n",
       "      <th>age</th>\n",
       "      <th>city</th>\n",
       "      <th>hobby</th>\n",
       "    </tr>\n",
       "    <tr>\n",
       "      <th></th>\n",
       "      <th>name</th>\n",
       "      <th></th>\n",
       "      <th></th>\n",
       "      <th></th>\n",
       "    </tr>\n",
       "  </thead>\n",
       "  <tbody>\n",
       "    <tr>\n",
       "      <th>0</th>\n",
       "      <th>Tom</th>\n",
       "      <td>18</td>\n",
       "      <td>Los Angeles</td>\n",
       "      <td>Basketball</td>\n",
       "    </tr>\n",
       "    <tr>\n",
       "      <th>1</th>\n",
       "      <th>Bob</th>\n",
       "      <td>30</td>\n",
       "      <td>New York</td>\n",
       "      <td>Football</td>\n",
       "    </tr>\n",
       "    <tr>\n",
       "      <th>2</th>\n",
       "      <th>Mary</th>\n",
       "      <td>25</td>\n",
       "      <td>Seattle</td>\n",
       "      <td>Dance</td>\n",
       "    </tr>\n",
       "    <tr>\n",
       "      <th>3</th>\n",
       "      <th>James</th>\n",
       "      <td>40</td>\n",
       "      <td>Houston</td>\n",
       "      <td>Reading</td>\n",
       "    </tr>\n",
       "    <tr>\n",
       "      <th>4</th>\n",
       "      <th>Aria</th>\n",
       "      <td>20</td>\n",
       "      <td>Brambleton</td>\n",
       "      <td>Smile</td>\n",
       "    </tr>\n",
       "  </tbody>\n",
       "</table>\n",
       "</div>"
      ],
      "text/plain": [
       "         age         city       hobby\n",
       "  name                               \n",
       "0 Tom     18  Los Angeles  Basketball\n",
       "1 Bob     30     New York    Football\n",
       "2 Mary    25      Seattle       Dance\n",
       "3 James   40      Houston     Reading\n",
       "4 Aria    20   Brambleton       Smile"
      ]
     },
     "execution_count": 10,
     "metadata": {},
     "output_type": "execute_result"
    }
   ],
   "source": [
    "user_info.set_index('name', append = True) # Keep the original index"
   ]
  },
  {
   "cell_type": "code",
   "execution_count": 11,
   "id": "ea7550d6",
   "metadata": {},
   "outputs": [
    {
     "data": {
      "text/html": [
       "<div>\n",
       "<style scoped>\n",
       "    .dataframe tbody tr th:only-of-type {\n",
       "        vertical-align: middle;\n",
       "    }\n",
       "\n",
       "    .dataframe tbody tr th {\n",
       "        vertical-align: top;\n",
       "    }\n",
       "\n",
       "    .dataframe thead th {\n",
       "        text-align: right;\n",
       "    }\n",
       "</style>\n",
       "<table border=\"1\" class=\"dataframe\">\n",
       "  <thead>\n",
       "    <tr style=\"text-align: right;\">\n",
       "      <th></th>\n",
       "      <th>age</th>\n",
       "      <th>city</th>\n",
       "      <th>hobby</th>\n",
       "    </tr>\n",
       "    <tr>\n",
       "      <th>name</th>\n",
       "      <th></th>\n",
       "      <th></th>\n",
       "      <th></th>\n",
       "    </tr>\n",
       "  </thead>\n",
       "  <tbody>\n",
       "    <tr>\n",
       "      <th>Tom</th>\n",
       "      <td>18</td>\n",
       "      <td>Los Angeles</td>\n",
       "      <td>Basketball</td>\n",
       "    </tr>\n",
       "    <tr>\n",
       "      <th>Bob</th>\n",
       "      <td>30</td>\n",
       "      <td>New York</td>\n",
       "      <td>Football</td>\n",
       "    </tr>\n",
       "    <tr>\n",
       "      <th>Mary</th>\n",
       "      <td>25</td>\n",
       "      <td>Seattle</td>\n",
       "      <td>Dance</td>\n",
       "    </tr>\n",
       "    <tr>\n",
       "      <th>James</th>\n",
       "      <td>40</td>\n",
       "      <td>Houston</td>\n",
       "      <td>Reading</td>\n",
       "    </tr>\n",
       "    <tr>\n",
       "      <th>Aria</th>\n",
       "      <td>20</td>\n",
       "      <td>Brambleton</td>\n",
       "      <td>Smile</td>\n",
       "    </tr>\n",
       "  </tbody>\n",
       "</table>\n",
       "</div>"
      ],
      "text/plain": [
       "       age         city       hobby\n",
       "name                               \n",
       "Tom     18  Los Angeles  Basketball\n",
       "Bob     30     New York    Football\n",
       "Mary    25      Seattle       Dance\n",
       "James   40      Houston     Reading\n",
       "Aria    20   Brambleton       Smile"
      ]
     },
     "execution_count": 11,
     "metadata": {},
     "output_type": "execute_result"
    }
   ],
   "source": [
    "user_info.set_index('name', inplace = True) # Set up the index and overwrite \n",
    "user_info"
   ]
  },
  {
   "cell_type": "markdown",
   "id": "13feed67",
   "metadata": {},
   "source": [
    "# Resetting the index\n",
    "\n",
    "Sometimes, we may want to reset the existing index and start fresh. To achieve this, we can use the `reset_index()` method in pandas.\n",
    "\n",
    "```python\n",
    "\n",
    "DataFrame.reset_index(level = None, *, drop = False, inplace = False, col_level = 0, \n",
    "                      col_fill = '', allow_duplicates = _NoDefault.no_default, names=None)\n",
    "\n",
    "```\n",
    "\n",
    "* **drop**: A Boolean value that determines whether to drop the current index or keep it as a column in the DataFrame. By default, it is set to False, which means the current index will be retained as a column. If set to True, the current index will be discarded.\n",
    "\n",
    "* **inplace**: A Boolean value that determines whether to modify the DataFrame in-place or return a new DataFrame with the reset index. By default, it is set to False, which means a new DataFrame will be returned with the reset index. If set to True, the original DataFrame will be modified, and the method will return None.\n",
    "\n",
    "* **level**: An integer or a label that specifies the level(s) of a multi-level index to be reset. By default, it is set to None, which means all levels of the index will be reset.\n",
    "\n",
    "* **col_level**: An integer or a label that specifies the level(s) of a multi-level column index to be reset. By default, it is set to 0, which means the first level of the column index will be reset.\n",
    "\n",
    "* **col_fill**: A value or a dictionary that specifies the value(s) to use for filling the reset column index. If a single value is provided, it will be used for all columns. If a dictionary is provided, it should map column names to their corresponding fill values.\n",
    "\n",
    "* **name**: A string or list of strings that specifies the name(s) to use for the reset index column(s). If a single string is provided, it will be used for all reset index columns. If a list is provided, the names should correspond to the number of reset index columns."
   ]
  },
  {
   "cell_type": "code",
   "execution_count": 12,
   "id": "7de700ad",
   "metadata": {},
   "outputs": [
    {
     "data": {
      "text/html": [
       "<div>\n",
       "<style scoped>\n",
       "    .dataframe tbody tr th:only-of-type {\n",
       "        vertical-align: middle;\n",
       "    }\n",
       "\n",
       "    .dataframe tbody tr th {\n",
       "        vertical-align: top;\n",
       "    }\n",
       "\n",
       "    .dataframe thead th {\n",
       "        text-align: right;\n",
       "    }\n",
       "</style>\n",
       "<table border=\"1\" class=\"dataframe\">\n",
       "  <thead>\n",
       "    <tr style=\"text-align: right;\">\n",
       "      <th></th>\n",
       "      <th>age</th>\n",
       "      <th>city</th>\n",
       "      <th>hobby</th>\n",
       "    </tr>\n",
       "    <tr>\n",
       "      <th>name</th>\n",
       "      <th></th>\n",
       "      <th></th>\n",
       "      <th></th>\n",
       "    </tr>\n",
       "  </thead>\n",
       "  <tbody>\n",
       "    <tr>\n",
       "      <th>Tom</th>\n",
       "      <td>18</td>\n",
       "      <td>Los Angeles</td>\n",
       "      <td>Basketball</td>\n",
       "    </tr>\n",
       "    <tr>\n",
       "      <th>Bob</th>\n",
       "      <td>30</td>\n",
       "      <td>New York</td>\n",
       "      <td>Football</td>\n",
       "    </tr>\n",
       "    <tr>\n",
       "      <th>Mary</th>\n",
       "      <td>25</td>\n",
       "      <td>Seattle</td>\n",
       "      <td>Dance</td>\n",
       "    </tr>\n",
       "    <tr>\n",
       "      <th>James</th>\n",
       "      <td>40</td>\n",
       "      <td>Houston</td>\n",
       "      <td>Reading</td>\n",
       "    </tr>\n",
       "    <tr>\n",
       "      <th>Aria</th>\n",
       "      <td>20</td>\n",
       "      <td>Brambleton</td>\n",
       "      <td>Smile</td>\n",
       "    </tr>\n",
       "  </tbody>\n",
       "</table>\n",
       "</div>"
      ],
      "text/plain": [
       "       age         city       hobby\n",
       "name                               \n",
       "Tom     18  Los Angeles  Basketball\n",
       "Bob     30     New York    Football\n",
       "Mary    25      Seattle       Dance\n",
       "James   40      Houston     Reading\n",
       "Aria    20   Brambleton       Smile"
      ]
     },
     "execution_count": 12,
     "metadata": {},
     "output_type": "execute_result"
    }
   ],
   "source": [
    "user_info"
   ]
  },
  {
   "cell_type": "code",
   "execution_count": 13,
   "id": "6cec6d9e",
   "metadata": {},
   "outputs": [
    {
     "data": {
      "text/html": [
       "<div>\n",
       "<style scoped>\n",
       "    .dataframe tbody tr th:only-of-type {\n",
       "        vertical-align: middle;\n",
       "    }\n",
       "\n",
       "    .dataframe tbody tr th {\n",
       "        vertical-align: top;\n",
       "    }\n",
       "\n",
       "    .dataframe thead th {\n",
       "        text-align: right;\n",
       "    }\n",
       "</style>\n",
       "<table border=\"1\" class=\"dataframe\">\n",
       "  <thead>\n",
       "    <tr style=\"text-align: right;\">\n",
       "      <th></th>\n",
       "      <th>name</th>\n",
       "      <th>age</th>\n",
       "      <th>city</th>\n",
       "      <th>hobby</th>\n",
       "    </tr>\n",
       "  </thead>\n",
       "  <tbody>\n",
       "    <tr>\n",
       "      <th>0</th>\n",
       "      <td>Tom</td>\n",
       "      <td>18</td>\n",
       "      <td>Los Angeles</td>\n",
       "      <td>Basketball</td>\n",
       "    </tr>\n",
       "    <tr>\n",
       "      <th>1</th>\n",
       "      <td>Bob</td>\n",
       "      <td>30</td>\n",
       "      <td>New York</td>\n",
       "      <td>Football</td>\n",
       "    </tr>\n",
       "    <tr>\n",
       "      <th>2</th>\n",
       "      <td>Mary</td>\n",
       "      <td>25</td>\n",
       "      <td>Seattle</td>\n",
       "      <td>Dance</td>\n",
       "    </tr>\n",
       "    <tr>\n",
       "      <th>3</th>\n",
       "      <td>James</td>\n",
       "      <td>40</td>\n",
       "      <td>Houston</td>\n",
       "      <td>Reading</td>\n",
       "    </tr>\n",
       "    <tr>\n",
       "      <th>4</th>\n",
       "      <td>Aria</td>\n",
       "      <td>20</td>\n",
       "      <td>Brambleton</td>\n",
       "      <td>Smile</td>\n",
       "    </tr>\n",
       "  </tbody>\n",
       "</table>\n",
       "</div>"
      ],
      "text/plain": [
       "    name  age         city       hobby\n",
       "0    Tom   18  Los Angeles  Basketball\n",
       "1    Bob   30     New York    Football\n",
       "2   Mary   25      Seattle       Dance\n",
       "3  James   40      Houston     Reading\n",
       "4   Aria   20   Brambleton       Smile"
      ]
     },
     "execution_count": 13,
     "metadata": {},
     "output_type": "execute_result"
    }
   ],
   "source": [
    "user_info.reset_index()  # Clear up the index"
   ]
  },
  {
   "cell_type": "code",
   "execution_count": 14,
   "id": "935dd47e",
   "metadata": {},
   "outputs": [
    {
     "data": {
      "text/html": [
       "<div>\n",
       "<style scoped>\n",
       "    .dataframe tbody tr th:only-of-type {\n",
       "        vertical-align: middle;\n",
       "    }\n",
       "\n",
       "    .dataframe tbody tr th {\n",
       "        vertical-align: top;\n",
       "    }\n",
       "\n",
       "    .dataframe thead th {\n",
       "        text-align: right;\n",
       "    }\n",
       "</style>\n",
       "<table border=\"1\" class=\"dataframe\">\n",
       "  <thead>\n",
       "    <tr style=\"text-align: right;\">\n",
       "      <th></th>\n",
       "      <th>age</th>\n",
       "      <th>city</th>\n",
       "      <th>hobby</th>\n",
       "    </tr>\n",
       "  </thead>\n",
       "  <tbody>\n",
       "    <tr>\n",
       "      <th>0</th>\n",
       "      <td>18</td>\n",
       "      <td>Los Angeles</td>\n",
       "      <td>Basketball</td>\n",
       "    </tr>\n",
       "    <tr>\n",
       "      <th>1</th>\n",
       "      <td>30</td>\n",
       "      <td>New York</td>\n",
       "      <td>Football</td>\n",
       "    </tr>\n",
       "    <tr>\n",
       "      <th>2</th>\n",
       "      <td>25</td>\n",
       "      <td>Seattle</td>\n",
       "      <td>Dance</td>\n",
       "    </tr>\n",
       "    <tr>\n",
       "      <th>3</th>\n",
       "      <td>40</td>\n",
       "      <td>Houston</td>\n",
       "      <td>Reading</td>\n",
       "    </tr>\n",
       "    <tr>\n",
       "      <th>4</th>\n",
       "      <td>20</td>\n",
       "      <td>Brambleton</td>\n",
       "      <td>Smile</td>\n",
       "    </tr>\n",
       "  </tbody>\n",
       "</table>\n",
       "</div>"
      ],
      "text/plain": [
       "   age         city       hobby\n",
       "0   18  Los Angeles  Basketball\n",
       "1   30     New York    Football\n",
       "2   25      Seattle       Dance\n",
       "3   40      Houston     Reading\n",
       "4   20   Brambleton       Smile"
      ]
     },
     "execution_count": 14,
     "metadata": {},
     "output_type": "execute_result"
    }
   ],
   "source": [
    "user_info.reset_index().set_index('name').reset_index(drop = True) # name column has been dropped"
   ]
  },
  {
   "cell_type": "markdown",
   "id": "ecaf6435",
   "metadata": {},
   "source": [
    "###### Multi-level indexing"
   ]
  },
  {
   "cell_type": "code",
   "execution_count": 15,
   "id": "90d3ff3d",
   "metadata": {},
   "outputs": [
    {
     "data": {
      "text/html": [
       "<div>\n",
       "<style scoped>\n",
       "    .dataframe tbody tr th:only-of-type {\n",
       "        vertical-align: middle;\n",
       "    }\n",
       "\n",
       "    .dataframe tbody tr th {\n",
       "        vertical-align: top;\n",
       "    }\n",
       "\n",
       "    .dataframe thead th {\n",
       "        text-align: right;\n",
       "    }\n",
       "</style>\n",
       "<table border=\"1\" class=\"dataframe\">\n",
       "  <thead>\n",
       "    <tr style=\"text-align: right;\">\n",
       "      <th></th>\n",
       "      <th>age</th>\n",
       "      <th>city</th>\n",
       "      <th>hobby</th>\n",
       "    </tr>\n",
       "    <tr>\n",
       "      <th>name</th>\n",
       "      <th></th>\n",
       "      <th></th>\n",
       "      <th></th>\n",
       "    </tr>\n",
       "  </thead>\n",
       "  <tbody>\n",
       "    <tr>\n",
       "      <th>Tom</th>\n",
       "      <td>18</td>\n",
       "      <td>Los Angeles</td>\n",
       "      <td>Basketball</td>\n",
       "    </tr>\n",
       "    <tr>\n",
       "      <th>Bob</th>\n",
       "      <td>30</td>\n",
       "      <td>New York</td>\n",
       "      <td>Football</td>\n",
       "    </tr>\n",
       "    <tr>\n",
       "      <th>Mary</th>\n",
       "      <td>25</td>\n",
       "      <td>Seattle</td>\n",
       "      <td>Dance</td>\n",
       "    </tr>\n",
       "    <tr>\n",
       "      <th>James</th>\n",
       "      <td>40</td>\n",
       "      <td>Houston</td>\n",
       "      <td>Reading</td>\n",
       "    </tr>\n",
       "    <tr>\n",
       "      <th>Aria</th>\n",
       "      <td>20</td>\n",
       "      <td>Brambleton</td>\n",
       "      <td>Smile</td>\n",
       "    </tr>\n",
       "  </tbody>\n",
       "</table>\n",
       "</div>"
      ],
      "text/plain": [
       "       age         city       hobby\n",
       "name                               \n",
       "Tom     18  Los Angeles  Basketball\n",
       "Bob     30     New York    Football\n",
       "Mary    25      Seattle       Dance\n",
       "James   40      Houston     Reading\n",
       "Aria    20   Brambleton       Smile"
      ]
     },
     "execution_count": 15,
     "metadata": {},
     "output_type": "execute_result"
    }
   ],
   "source": [
    "user_info"
   ]
  },
  {
   "cell_type": "code",
   "execution_count": 16,
   "id": "070ee25e",
   "metadata": {},
   "outputs": [
    {
     "data": {
      "text/html": [
       "<div>\n",
       "<style scoped>\n",
       "    .dataframe tbody tr th:only-of-type {\n",
       "        vertical-align: middle;\n",
       "    }\n",
       "\n",
       "    .dataframe tbody tr th {\n",
       "        vertical-align: top;\n",
       "    }\n",
       "\n",
       "    .dataframe thead th {\n",
       "        text-align: right;\n",
       "    }\n",
       "</style>\n",
       "<table border=\"1\" class=\"dataframe\">\n",
       "  <thead>\n",
       "    <tr style=\"text-align: right;\">\n",
       "      <th></th>\n",
       "      <th></th>\n",
       "      <th>city</th>\n",
       "      <th>hobby</th>\n",
       "    </tr>\n",
       "    <tr>\n",
       "      <th>name</th>\n",
       "      <th>age</th>\n",
       "      <th></th>\n",
       "      <th></th>\n",
       "    </tr>\n",
       "  </thead>\n",
       "  <tbody>\n",
       "    <tr>\n",
       "      <th>Tom</th>\n",
       "      <th>18</th>\n",
       "      <td>Los Angeles</td>\n",
       "      <td>Basketball</td>\n",
       "    </tr>\n",
       "    <tr>\n",
       "      <th>Bob</th>\n",
       "      <th>30</th>\n",
       "      <td>New York</td>\n",
       "      <td>Football</td>\n",
       "    </tr>\n",
       "    <tr>\n",
       "      <th>Mary</th>\n",
       "      <th>25</th>\n",
       "      <td>Seattle</td>\n",
       "      <td>Dance</td>\n",
       "    </tr>\n",
       "    <tr>\n",
       "      <th>James</th>\n",
       "      <th>40</th>\n",
       "      <td>Houston</td>\n",
       "      <td>Reading</td>\n",
       "    </tr>\n",
       "    <tr>\n",
       "      <th>Aria</th>\n",
       "      <th>20</th>\n",
       "      <td>Brambleton</td>\n",
       "      <td>Smile</td>\n",
       "    </tr>\n",
       "  </tbody>\n",
       "</table>\n",
       "</div>"
      ],
      "text/plain": [
       "                  city       hobby\n",
       "name  age                         \n",
       "Tom   18   Los Angeles  Basketball\n",
       "Bob   30      New York    Football\n",
       "Mary  25       Seattle       Dance\n",
       "James 40       Houston     Reading\n",
       "Aria  20    Brambleton       Smile"
      ]
     },
     "execution_count": 16,
     "metadata": {},
     "output_type": "execute_result"
    }
   ],
   "source": [
    "user_info.set_index('age', append = True, inplace = True)\n",
    "user_info"
   ]
  },
  {
   "cell_type": "code",
   "execution_count": 17,
   "id": "cc9d5079",
   "metadata": {},
   "outputs": [
    {
     "data": {
      "text/html": [
       "<div>\n",
       "<style scoped>\n",
       "    .dataframe tbody tr th:only-of-type {\n",
       "        vertical-align: middle;\n",
       "    }\n",
       "\n",
       "    .dataframe tbody tr th {\n",
       "        vertical-align: top;\n",
       "    }\n",
       "\n",
       "    .dataframe thead th {\n",
       "        text-align: right;\n",
       "    }\n",
       "</style>\n",
       "<table border=\"1\" class=\"dataframe\">\n",
       "  <thead>\n",
       "    <tr style=\"text-align: right;\">\n",
       "      <th></th>\n",
       "      <th>name</th>\n",
       "      <th>age</th>\n",
       "      <th>city</th>\n",
       "      <th>hobby</th>\n",
       "    </tr>\n",
       "  </thead>\n",
       "  <tbody>\n",
       "    <tr>\n",
       "      <th>0</th>\n",
       "      <td>Tom</td>\n",
       "      <td>18</td>\n",
       "      <td>Los Angeles</td>\n",
       "      <td>Basketball</td>\n",
       "    </tr>\n",
       "    <tr>\n",
       "      <th>1</th>\n",
       "      <td>Bob</td>\n",
       "      <td>30</td>\n",
       "      <td>New York</td>\n",
       "      <td>Football</td>\n",
       "    </tr>\n",
       "    <tr>\n",
       "      <th>2</th>\n",
       "      <td>Mary</td>\n",
       "      <td>25</td>\n",
       "      <td>Seattle</td>\n",
       "      <td>Dance</td>\n",
       "    </tr>\n",
       "    <tr>\n",
       "      <th>3</th>\n",
       "      <td>James</td>\n",
       "      <td>40</td>\n",
       "      <td>Houston</td>\n",
       "      <td>Reading</td>\n",
       "    </tr>\n",
       "    <tr>\n",
       "      <th>4</th>\n",
       "      <td>Aria</td>\n",
       "      <td>20</td>\n",
       "      <td>Brambleton</td>\n",
       "      <td>Smile</td>\n",
       "    </tr>\n",
       "  </tbody>\n",
       "</table>\n",
       "</div>"
      ],
      "text/plain": [
       "    name  age         city       hobby\n",
       "0    Tom   18  Los Angeles  Basketball\n",
       "1    Bob   30     New York    Football\n",
       "2   Mary   25      Seattle       Dance\n",
       "3  James   40      Houston     Reading\n",
       "4   Aria   20   Brambleton       Smile"
      ]
     },
     "execution_count": 17,
     "metadata": {},
     "output_type": "execute_result"
    }
   ],
   "source": [
    "user_info.reset_index()"
   ]
  },
  {
   "cell_type": "code",
   "execution_count": 18,
   "id": "1c6a5517",
   "metadata": {},
   "outputs": [
    {
     "data": {
      "text/html": [
       "<div>\n",
       "<style scoped>\n",
       "    .dataframe tbody tr th:only-of-type {\n",
       "        vertical-align: middle;\n",
       "    }\n",
       "\n",
       "    .dataframe tbody tr th {\n",
       "        vertical-align: top;\n",
       "    }\n",
       "\n",
       "    .dataframe thead th {\n",
       "        text-align: right;\n",
       "    }\n",
       "</style>\n",
       "<table border=\"1\" class=\"dataframe\">\n",
       "  <thead>\n",
       "    <tr style=\"text-align: right;\">\n",
       "      <th></th>\n",
       "      <th>age</th>\n",
       "      <th>city</th>\n",
       "      <th>hobby</th>\n",
       "    </tr>\n",
       "    <tr>\n",
       "      <th>name</th>\n",
       "      <th></th>\n",
       "      <th></th>\n",
       "      <th></th>\n",
       "    </tr>\n",
       "  </thead>\n",
       "  <tbody>\n",
       "    <tr>\n",
       "      <th>Tom</th>\n",
       "      <td>18</td>\n",
       "      <td>Los Angeles</td>\n",
       "      <td>Basketball</td>\n",
       "    </tr>\n",
       "    <tr>\n",
       "      <th>Bob</th>\n",
       "      <td>30</td>\n",
       "      <td>New York</td>\n",
       "      <td>Football</td>\n",
       "    </tr>\n",
       "    <tr>\n",
       "      <th>Mary</th>\n",
       "      <td>25</td>\n",
       "      <td>Seattle</td>\n",
       "      <td>Dance</td>\n",
       "    </tr>\n",
       "    <tr>\n",
       "      <th>James</th>\n",
       "      <td>40</td>\n",
       "      <td>Houston</td>\n",
       "      <td>Reading</td>\n",
       "    </tr>\n",
       "    <tr>\n",
       "      <th>Aria</th>\n",
       "      <td>20</td>\n",
       "      <td>Brambleton</td>\n",
       "      <td>Smile</td>\n",
       "    </tr>\n",
       "  </tbody>\n",
       "</table>\n",
       "</div>"
      ],
      "text/plain": [
       "       age         city       hobby\n",
       "name                               \n",
       "Tom     18  Los Angeles  Basketball\n",
       "Bob     30     New York    Football\n",
       "Mary    25      Seattle       Dance\n",
       "James   40      Houston     Reading\n",
       "Aria    20   Brambleton       Smile"
      ]
     },
     "execution_count": 18,
     "metadata": {},
     "output_type": "execute_result"
    }
   ],
   "source": [
    "user_info.reset_index(level = 1)  # Using the index position of a multi-level index"
   ]
  },
  {
   "cell_type": "code",
   "execution_count": 19,
   "id": "b7c34c98",
   "metadata": {},
   "outputs": [
    {
     "data": {
      "text/html": [
       "<div>\n",
       "<style scoped>\n",
       "    .dataframe tbody tr th:only-of-type {\n",
       "        vertical-align: middle;\n",
       "    }\n",
       "\n",
       "    .dataframe tbody tr th {\n",
       "        vertical-align: top;\n",
       "    }\n",
       "\n",
       "    .dataframe thead th {\n",
       "        text-align: right;\n",
       "    }\n",
       "</style>\n",
       "<table border=\"1\" class=\"dataframe\">\n",
       "  <thead>\n",
       "    <tr style=\"text-align: right;\">\n",
       "      <th></th>\n",
       "      <th>name</th>\n",
       "      <th>city</th>\n",
       "      <th>hobby</th>\n",
       "    </tr>\n",
       "    <tr>\n",
       "      <th>age</th>\n",
       "      <th></th>\n",
       "      <th></th>\n",
       "      <th></th>\n",
       "    </tr>\n",
       "  </thead>\n",
       "  <tbody>\n",
       "    <tr>\n",
       "      <th>18</th>\n",
       "      <td>Tom</td>\n",
       "      <td>Los Angeles</td>\n",
       "      <td>Basketball</td>\n",
       "    </tr>\n",
       "    <tr>\n",
       "      <th>30</th>\n",
       "      <td>Bob</td>\n",
       "      <td>New York</td>\n",
       "      <td>Football</td>\n",
       "    </tr>\n",
       "    <tr>\n",
       "      <th>25</th>\n",
       "      <td>Mary</td>\n",
       "      <td>Seattle</td>\n",
       "      <td>Dance</td>\n",
       "    </tr>\n",
       "    <tr>\n",
       "      <th>40</th>\n",
       "      <td>James</td>\n",
       "      <td>Houston</td>\n",
       "      <td>Reading</td>\n",
       "    </tr>\n",
       "    <tr>\n",
       "      <th>20</th>\n",
       "      <td>Aria</td>\n",
       "      <td>Brambleton</td>\n",
       "      <td>Smile</td>\n",
       "    </tr>\n",
       "  </tbody>\n",
       "</table>\n",
       "</div>"
      ],
      "text/plain": [
       "      name         city       hobby\n",
       "age                                \n",
       "18     Tom  Los Angeles  Basketball\n",
       "30     Bob     New York    Football\n",
       "25    Mary      Seattle       Dance\n",
       "40   James      Houston     Reading\n",
       "20    Aria   Brambleton       Smile"
      ]
     },
     "execution_count": 19,
     "metadata": {},
     "output_type": "execute_result"
    }
   ],
   "source": [
    "user_info.reset_index(level ='name') # Using the index name of a multi-level index"
   ]
  },
  {
   "cell_type": "markdown",
   "id": "5962ecec",
   "metadata": {},
   "source": [
    "#  Modifying the index \n",
    "\n",
    "## Modifying index names \n",
    "\n",
    "The `rename_axis()` method in Pandas is used to modify the names of the index levels in a multi-level index. It allows you to change the name of a specific level of the index, rather than modifying the index labels themselves."
   ]
  },
  {
   "cell_type": "code",
   "execution_count": 20,
   "id": "48b96860",
   "metadata": {},
   "outputs": [
    {
     "data": {
      "text/html": [
       "<div>\n",
       "<style scoped>\n",
       "    .dataframe tbody tr th:only-of-type {\n",
       "        vertical-align: middle;\n",
       "    }\n",
       "\n",
       "    .dataframe tbody tr th {\n",
       "        vertical-align: top;\n",
       "    }\n",
       "\n",
       "    .dataframe thead th {\n",
       "        text-align: right;\n",
       "    }\n",
       "</style>\n",
       "<table border=\"1\" class=\"dataframe\">\n",
       "  <thead>\n",
       "    <tr style=\"text-align: right;\">\n",
       "      <th></th>\n",
       "      <th></th>\n",
       "      <th>city</th>\n",
       "      <th>hobby</th>\n",
       "    </tr>\n",
       "    <tr>\n",
       "      <th>NAME</th>\n",
       "      <th>AGE</th>\n",
       "      <th></th>\n",
       "      <th></th>\n",
       "    </tr>\n",
       "  </thead>\n",
       "  <tbody>\n",
       "    <tr>\n",
       "      <th>Tom</th>\n",
       "      <th>18</th>\n",
       "      <td>Los Angeles</td>\n",
       "      <td>Basketball</td>\n",
       "    </tr>\n",
       "    <tr>\n",
       "      <th>Bob</th>\n",
       "      <th>30</th>\n",
       "      <td>New York</td>\n",
       "      <td>Football</td>\n",
       "    </tr>\n",
       "    <tr>\n",
       "      <th>Mary</th>\n",
       "      <th>25</th>\n",
       "      <td>Seattle</td>\n",
       "      <td>Dance</td>\n",
       "    </tr>\n",
       "    <tr>\n",
       "      <th>James</th>\n",
       "      <th>40</th>\n",
       "      <td>Houston</td>\n",
       "      <td>Reading</td>\n",
       "    </tr>\n",
       "    <tr>\n",
       "      <th>Aria</th>\n",
       "      <th>20</th>\n",
       "      <td>Brambleton</td>\n",
       "      <td>Smile</td>\n",
       "    </tr>\n",
       "  </tbody>\n",
       "</table>\n",
       "</div>"
      ],
      "text/plain": [
       "                  city       hobby\n",
       "NAME  AGE                         \n",
       "Tom   18   Los Angeles  Basketball\n",
       "Bob   30      New York    Football\n",
       "Mary  25       Seattle       Dance\n",
       "James 40       Houston     Reading\n",
       "Aria  20    Brambleton       Smile"
      ]
     },
     "execution_count": 20,
     "metadata": {},
     "output_type": "execute_result"
    }
   ],
   "source": [
    "user_info.rename_axis(index = {'name': 'NAME', 'age': 'AGE'})"
   ]
  },
  {
   "cell_type": "markdown",
   "id": "ebbb60d9",
   "metadata": {},
   "source": [
    "The `rename()` method in pandas is used to modify the labels of the row or column index, rather than the index names."
   ]
  },
  {
   "cell_type": "code",
   "execution_count": 21,
   "id": "c0828fe8",
   "metadata": {},
   "outputs": [
    {
     "data": {
      "text/html": [
       "<div>\n",
       "<style scoped>\n",
       "    .dataframe tbody tr th:only-of-type {\n",
       "        vertical-align: middle;\n",
       "    }\n",
       "\n",
       "    .dataframe tbody tr th {\n",
       "        vertical-align: top;\n",
       "    }\n",
       "\n",
       "    .dataframe thead th {\n",
       "        text-align: right;\n",
       "    }\n",
       "</style>\n",
       "<table border=\"1\" class=\"dataframe\">\n",
       "  <thead>\n",
       "    <tr style=\"text-align: right;\">\n",
       "      <th></th>\n",
       "      <th></th>\n",
       "      <th>CITY</th>\n",
       "      <th>hobby</th>\n",
       "    </tr>\n",
       "    <tr>\n",
       "      <th>name</th>\n",
       "      <th>age</th>\n",
       "      <th></th>\n",
       "      <th></th>\n",
       "    </tr>\n",
       "  </thead>\n",
       "  <tbody>\n",
       "    <tr>\n",
       "      <th>TOM</th>\n",
       "      <th>18</th>\n",
       "      <td>Los Angeles</td>\n",
       "      <td>Basketball</td>\n",
       "    </tr>\n",
       "    <tr>\n",
       "      <th>Bob</th>\n",
       "      <th>30</th>\n",
       "      <td>New York</td>\n",
       "      <td>Football</td>\n",
       "    </tr>\n",
       "    <tr>\n",
       "      <th>Mary</th>\n",
       "      <th>25</th>\n",
       "      <td>Seattle</td>\n",
       "      <td>Dance</td>\n",
       "    </tr>\n",
       "    <tr>\n",
       "      <th>James</th>\n",
       "      <th>40</th>\n",
       "      <td>Houston</td>\n",
       "      <td>Reading</td>\n",
       "    </tr>\n",
       "    <tr>\n",
       "      <th>Aria</th>\n",
       "      <th>20</th>\n",
       "      <td>Brambleton</td>\n",
       "      <td>Smile</td>\n",
       "    </tr>\n",
       "  </tbody>\n",
       "</table>\n",
       "</div>"
      ],
      "text/plain": [
       "                  CITY       hobby\n",
       "name  age                         \n",
       "TOM   18   Los Angeles  Basketball\n",
       "Bob   30      New York    Football\n",
       "Mary  25       Seattle       Dance\n",
       "James 40       Houston     Reading\n",
       "Aria  20    Brambleton       Smile"
      ]
     },
     "execution_count": 21,
     "metadata": {},
     "output_type": "execute_result"
    }
   ],
   "source": [
    "user_info.rename(index = {'Tom': 'TOM'}, columns = {'city': 'CITY'})"
   ]
  },
  {
   "cell_type": "markdown",
   "id": "d2d224e7",
   "metadata": {},
   "source": [
    "# Type of index\n",
    "\n",
    "## Numeric Index\n",
    "\n",
    "\n",
    "Numeric Index in Pandas refers to the use of numerical values as the index labels for rows or columns in a DataFrame or Series. There are several types of Numeric Index available in Pandas:\n",
    "\n",
    "`RangeIndex`: It represents a range of integers as the index labels. It is an immutable index that is commonly used when no specific index labels are provided.\n",
    "\n",
    "*Note*: `Int64Index`, `UInt64Index` & `Float64Index` were deprecated in pandas version 1.4 and have now been removed. Instead Index should be used directly, and can it now take all numpy numeric `dtypes`."
   ]
  },
  {
   "cell_type": "code",
   "execution_count": 22,
   "id": "e3423de1",
   "metadata": {},
   "outputs": [
    {
     "data": {
      "text/plain": [
       "RangeIndex(start=1, stop=100, step=2)"
      ]
     },
     "execution_count": 22,
     "metadata": {},
     "output_type": "execute_result"
    }
   ],
   "source": [
    "pd.RangeIndex(1,100,2)"
   ]
  },
  {
   "cell_type": "markdown",
   "id": "af62545e",
   "metadata": {},
   "source": [
    "## Categorical Index\n",
    "\n",
    "A categorical index in Pandas refers to an index that can only contain a limited number of (typically fixed) possible values or categories. Categorical indexes are created using the `CategoricalIndex` class in Pandas and are useful when dealing with data that has a fixed set of distinct values or categories."
   ]
  },
  {
   "cell_type": "code",
   "execution_count": 23,
   "id": "ed0c6965",
   "metadata": {},
   "outputs": [
    {
     "data": {
      "text/plain": [
       "CategoricalIndex(['a', 'b', 'a', 'b'], categories=['a', 'b'], ordered=False, dtype='category')"
      ]
     },
     "execution_count": 23,
     "metadata": {},
     "output_type": "execute_result"
    }
   ],
   "source": [
    "pd.CategoricalIndex(['a', 'b', 'a', 'b'])"
   ]
  },
  {
   "cell_type": "markdown",
   "id": "b0ec8f3d",
   "metadata": {},
   "source": [
    "##  Interval Index\n",
    "\n",
    "An interval index in Pandas represents a type of index where each element corresponds to an interval or range of values. It is useful when working with data that involves intervals, such as time intervals, price ranges, or any other continuous range of values."
   ]
  },
  {
   "cell_type": "code",
   "execution_count": 24,
   "id": "aa7175a4",
   "metadata": {},
   "outputs": [
    {
     "data": {
      "text/plain": [
       "IntervalIndex([(0, 1], (1, 2], (2, 3], (3, 4], (4, 5]], dtype='interval[int64, right]')"
      ]
     },
     "execution_count": 24,
     "metadata": {},
     "output_type": "execute_result"
    }
   ],
   "source": [
    "pd.interval_range(start = 0, end = 5)"
   ]
  },
  {
   "cell_type": "code",
   "execution_count": 25,
   "id": "9e9f9163",
   "metadata": {},
   "outputs": [
    {
     "data": {
      "text/plain": [
       "IntervalIndex([(0, 10], (10, 20], (20, 30], (30, 40]], dtype='interval[int64, right]')"
      ]
     },
     "execution_count": 25,
     "metadata": {},
     "output_type": "execute_result"
    }
   ],
   "source": [
    "pd.IntervalIndex.from_breaks([0, 10, 20, 30, 40])"
   ]
  },
  {
   "cell_type": "markdown",
   "id": "129fd6b8",
   "metadata": {},
   "source": [
    "## Multi-level Index"
   ]
  },
  {
   "cell_type": "code",
   "execution_count": 26,
   "id": "91201d30",
   "metadata": {},
   "outputs": [
    {
     "data": {
      "text/plain": [
       "MultiIndex([(1,  'red'),\n",
       "            (1, 'blue'),\n",
       "            (2,  'red'),\n",
       "            (2, 'blue')],\n",
       "           names=['number', 'color'])"
      ]
     },
     "execution_count": 26,
     "metadata": {},
     "output_type": "execute_result"
    }
   ],
   "source": [
    "arrays = [[1, 1, 2, 2], ['red', 'blue', 'red', 'blue']]\n",
    "pd.MultiIndex.from_arrays(arrays, names = ('number', 'color'))"
   ]
  },
  {
   "cell_type": "markdown",
   "id": "10e0c05f",
   "metadata": {},
   "source": [
    " ## Datetime Index\n",
    " \n",
    " A `Datetime` index in Pandas is a type of index that represents dates or timestamps. It is specifically designed to handle time series data and provides various functionalities for time-based indexing and analysis.\n",
    "\n",
    "A `Datetime` index is created using the `to_datetime()` function or by specifying the column as the index when reading data from a file. It allows for efficient slicing, grouping, resampling, and other time-related operations on the data."
   ]
  },
  {
   "cell_type": "code",
   "execution_count": 27,
   "id": "5a642c14",
   "metadata": {},
   "outputs": [
    {
     "data": {
      "text/html": [
       "<div>\n",
       "<style scoped>\n",
       "    .dataframe tbody tr th:only-of-type {\n",
       "        vertical-align: middle;\n",
       "    }\n",
       "\n",
       "    .dataframe tbody tr th {\n",
       "        vertical-align: top;\n",
       "    }\n",
       "\n",
       "    .dataframe thead th {\n",
       "        text-align: right;\n",
       "    }\n",
       "</style>\n",
       "<table border=\"1\" class=\"dataframe\">\n",
       "  <thead>\n",
       "    <tr style=\"text-align: right;\">\n",
       "      <th></th>\n",
       "      <th>value</th>\n",
       "    </tr>\n",
       "  </thead>\n",
       "  <tbody>\n",
       "    <tr>\n",
       "      <th>2023-06-01</th>\n",
       "      <td>10</td>\n",
       "    </tr>\n",
       "    <tr>\n",
       "      <th>2023-06-02</th>\n",
       "      <td>20</td>\n",
       "    </tr>\n",
       "    <tr>\n",
       "      <th>2023-06-03</th>\n",
       "      <td>30</td>\n",
       "    </tr>\n",
       "    <tr>\n",
       "      <th>2023-06-04</th>\n",
       "      <td>40</td>\n",
       "    </tr>\n",
       "  </tbody>\n",
       "</table>\n",
       "</div>"
      ],
      "text/plain": [
       "            value\n",
       "2023-06-01     10\n",
       "2023-06-02     20\n",
       "2023-06-03     30\n",
       "2023-06-04     40"
      ]
     },
     "execution_count": 27,
     "metadata": {},
     "output_type": "execute_result"
    }
   ],
   "source": [
    "data = {'value': [10, 20, 30, 40]}\n",
    "dates = pd.to_datetime(['2023-06-01', '2023-06-02', '2023-06-03', '2023-06-04'])\n",
    "df = pd.DataFrame(data, index = dates)\n",
    "df"
   ]
  },
  {
   "cell_type": "markdown",
   "id": "3897b0e9",
   "metadata": {},
   "source": [
    "## Fixed-frequency time index\n",
    "\n",
    "`period_range` and `date_range` are both functions in Pandas that are used to generate ranges of dates or periods. They are similar in functionality but differ in the type of index they generate.\n",
    "\n",
    "`period_range` generates a `PeriodIndex`, which represents a range of fixed-frequency periods. The periods can be specified with start and end values, along with the desired frequency.\n",
    "\n",
    "`date_range` generates a `DatetimeIndex`, which represents a range of dates or timestamps. The dates can be specified with start and end values, along with the desired frequency."
   ]
  },
  {
   "cell_type": "code",
   "execution_count": 28,
   "id": "a2b0e833",
   "metadata": {},
   "outputs": [
    {
     "data": {
      "text/plain": [
       "DatetimeIndex(['2023-01-01', '2023-01-02', '2023-01-03', '2023-01-04',\n",
       "               '2023-01-05', '2023-01-06', '2023-01-07', '2023-01-08'],\n",
       "              dtype='datetime64[ns]', freq='D')"
      ]
     },
     "execution_count": 28,
     "metadata": {},
     "output_type": "execute_result"
    }
   ],
   "source": [
    "pd.date_range(start = '1/1/2023', end = '1/08/2023')"
   ]
  },
  {
   "cell_type": "code",
   "execution_count": 29,
   "id": "5b877dba",
   "metadata": {},
   "outputs": [
    {
     "data": {
      "text/plain": [
       "DatetimeIndex(['2023-01-01', '2023-01-02', '2023-01-03', '2023-01-04',\n",
       "               '2023-01-05', '2023-01-06', '2023-01-07', '2023-01-08'],\n",
       "              dtype='datetime64[ns]', freq='D')"
      ]
     },
     "execution_count": 29,
     "metadata": {},
     "output_type": "execute_result"
    }
   ],
   "source": [
    "pd.date_range(start = '1/1/2023', periods = 8)"
   ]
  },
  {
   "cell_type": "code",
   "execution_count": 30,
   "id": "5db0f22f",
   "metadata": {},
   "outputs": [
    {
     "data": {
      "text/plain": [
       "PeriodIndex(['2023-01', '2023-02', '2023-03', '2023-04', '2023-05', '2023-06',\n",
       "             '2023-07', '2023-08', '2023-09', '2023-10', '2023-11', '2023-12'],\n",
       "            dtype='period[M]')"
      ]
     },
     "execution_count": 30,
     "metadata": {},
     "output_type": "execute_result"
    }
   ],
   "source": [
    "pd.period_range(start ='2023-01-01', end= '2023-12-01', freq = 'M')"
   ]
  },
  {
   "cell_type": "code",
   "execution_count": 31,
   "id": "be56444e",
   "metadata": {},
   "outputs": [
    {
     "data": {
      "text/plain": [
       "PeriodIndex(['2023-03', '2023-04', '2023-05', '2023-06', '2023-07', '2023-08',\n",
       "             '2023-09', '2023-10', '2023-11', '2023-12'],\n",
       "            dtype='period[M]')"
      ]
     },
     "execution_count": 31,
     "metadata": {},
     "output_type": "execute_result"
    }
   ],
   "source": [
    "pd.period_range(start = pd.Period('2023Q1', freq ='Q'),\n",
    "                end = pd.Period('2023Q4', freq ='Q'), freq = 'M')"
   ]
  },
  {
   "cell_type": "markdown",
   "id": "f6f36a1e",
   "metadata": {},
   "source": [
    "## Time delta Index\n",
    "`TimedeltaIndex` is a type of index in Pandas that represents a sequence of `timedeltas`. `Timedeltas` are differences or durations between two points in time, such as the difference between two dates or timestamps.\n",
    "\n",
    "A `TimedeltaIndex` can be created using the `timedelta_range` function in Pandas. This function allows you to generate a range of `timedeltas` with a specified start, end, and frequency."
   ]
  },
  {
   "cell_type": "code",
   "execution_count": 32,
   "id": "3a5566d6",
   "metadata": {},
   "outputs": [
    {
     "data": {
      "text/plain": [
       "TimedeltaIndex(['1 days 00:00:00', '1 days 01:00:00', '1 days 02:00:00',\n",
       "                '1 days 03:00:00', '1 days 04:00:00', '1 days 05:00:00',\n",
       "                '1 days 06:00:00', '1 days 07:00:00', '1 days 08:00:00',\n",
       "                '1 days 09:00:00', '1 days 10:00:00', '1 days 11:00:00',\n",
       "                '1 days 12:00:00', '1 days 13:00:00', '1 days 14:00:00',\n",
       "                '1 days 15:00:00', '1 days 16:00:00', '1 days 17:00:00',\n",
       "                '1 days 18:00:00', '1 days 19:00:00', '1 days 20:00:00',\n",
       "                '1 days 21:00:00', '1 days 22:00:00', '1 days 23:00:00',\n",
       "                '2 days 00:00:00', '2 days 01:00:00', '2 days 02:00:00',\n",
       "                '2 days 03:00:00', '2 days 04:00:00', '2 days 05:00:00',\n",
       "                '2 days 06:00:00', '2 days 07:00:00', '2 days 08:00:00',\n",
       "                '2 days 09:00:00', '2 days 10:00:00', '2 days 11:00:00',\n",
       "                '2 days 12:00:00', '2 days 13:00:00', '2 days 14:00:00',\n",
       "                '2 days 15:00:00', '2 days 16:00:00', '2 days 17:00:00',\n",
       "                '2 days 18:00:00', '2 days 19:00:00', '2 days 20:00:00',\n",
       "                '2 days 21:00:00', '2 days 22:00:00', '2 days 23:00:00',\n",
       "                '3 days 00:00:00'],\n",
       "               dtype='timedelta64[ns]', freq='H')"
      ]
     },
     "execution_count": 32,
     "metadata": {},
     "output_type": "execute_result"
    }
   ],
   "source": [
    "pd.timedelta_range(start = '1 day', end = '3 days', freq = 'H')"
   ]
  },
  {
   "cell_type": "markdown",
   "id": "187016ec",
   "metadata": {},
   "source": [
    "# Index object\n",
    "\n",
    "In Pandas, both row and column indexes are represented by an Index object."
   ]
  },
  {
   "cell_type": "markdown",
   "id": "c0f34555",
   "metadata": {},
   "source": [
    "## Create the object"
   ]
  },
  {
   "cell_type": "code",
   "execution_count": 33,
   "id": "b054f279",
   "metadata": {},
   "outputs": [
    {
     "data": {
      "text/plain": [
       "Index([1, 2, 3], dtype='int64')"
      ]
     },
     "execution_count": 33,
     "metadata": {},
     "output_type": "execute_result"
    }
   ],
   "source": [
    "# Create the object using the list\n",
    "pd.Index([1, 2, 3])"
   ]
  },
  {
   "cell_type": "code",
   "execution_count": 34,
   "id": "b81fef6e",
   "metadata": {},
   "outputs": [
    {
     "data": {
      "text/plain": [
       "Index(['a', 'b', 'c'], dtype='object')"
      ]
     },
     "execution_count": 34,
     "metadata": {},
     "output_type": "execute_result"
    }
   ],
   "source": [
    "pd.Index(list('abc'))"
   ]
  },
  {
   "cell_type": "code",
   "execution_count": 35,
   "id": "cc2f5717",
   "metadata": {},
   "outputs": [
    {
     "data": {
      "text/plain": [
       "Index(['e', 'd', 'a', 'b'], dtype='object', name='something')"
      ]
     },
     "execution_count": 35,
     "metadata": {},
     "output_type": "execute_result"
    }
   ],
   "source": [
    "# Name the index\n",
    "pd.Index(['e', 'd', 'a', 'b'], name = 'something')"
   ]
  },
  {
   "cell_type": "markdown",
   "id": "8403e089",
   "metadata": {},
   "source": [
    "## Look up the index"
   ]
  },
  {
   "cell_type": "code",
   "execution_count": 36,
   "id": "25f26b48",
   "metadata": {},
   "outputs": [
    {
     "data": {
      "text/html": [
       "<div>\n",
       "<style scoped>\n",
       "    .dataframe tbody tr th:only-of-type {\n",
       "        vertical-align: middle;\n",
       "    }\n",
       "\n",
       "    .dataframe tbody tr th {\n",
       "        vertical-align: top;\n",
       "    }\n",
       "\n",
       "    .dataframe thead th {\n",
       "        text-align: right;\n",
       "    }\n",
       "</style>\n",
       "<table border=\"1\" class=\"dataframe\">\n",
       "  <thead>\n",
       "    <tr style=\"text-align: right;\">\n",
       "      <th></th>\n",
       "      <th></th>\n",
       "      <th>city</th>\n",
       "      <th>hobby</th>\n",
       "    </tr>\n",
       "    <tr>\n",
       "      <th>name</th>\n",
       "      <th>age</th>\n",
       "      <th></th>\n",
       "      <th></th>\n",
       "    </tr>\n",
       "  </thead>\n",
       "  <tbody>\n",
       "    <tr>\n",
       "      <th>Tom</th>\n",
       "      <th>18</th>\n",
       "      <td>Los Angeles</td>\n",
       "      <td>Basketball</td>\n",
       "    </tr>\n",
       "    <tr>\n",
       "      <th>Bob</th>\n",
       "      <th>30</th>\n",
       "      <td>New York</td>\n",
       "      <td>Football</td>\n",
       "    </tr>\n",
       "    <tr>\n",
       "      <th>Mary</th>\n",
       "      <th>25</th>\n",
       "      <td>Seattle</td>\n",
       "      <td>Dance</td>\n",
       "    </tr>\n",
       "    <tr>\n",
       "      <th>James</th>\n",
       "      <th>40</th>\n",
       "      <td>Houston</td>\n",
       "      <td>Reading</td>\n",
       "    </tr>\n",
       "    <tr>\n",
       "      <th>Aria</th>\n",
       "      <th>20</th>\n",
       "      <td>Brambleton</td>\n",
       "      <td>Smile</td>\n",
       "    </tr>\n",
       "  </tbody>\n",
       "</table>\n",
       "</div>"
      ],
      "text/plain": [
       "                  city       hobby\n",
       "name  age                         \n",
       "Tom   18   Los Angeles  Basketball\n",
       "Bob   30      New York    Football\n",
       "Mary  25       Seattle       Dance\n",
       "James 40       Houston     Reading\n",
       "Aria  20    Brambleton       Smile"
      ]
     },
     "execution_count": 36,
     "metadata": {},
     "output_type": "execute_result"
    }
   ],
   "source": [
    "df = user_info\n",
    "df"
   ]
  },
  {
   "cell_type": "code",
   "execution_count": 37,
   "id": "5a970c2e",
   "metadata": {},
   "outputs": [
    {
     "data": {
      "text/plain": [
       "MultiIndex([(  'Tom', 18),\n",
       "            (  'Bob', 30),\n",
       "            ( 'Mary', 25),\n",
       "            ('James', 40),\n",
       "            ( 'Aria', 20)],\n",
       "           names=['name', 'age'])"
      ]
     },
     "execution_count": 37,
     "metadata": {},
     "output_type": "execute_result"
    }
   ],
   "source": [
    "df.index   # Look up the index "
   ]
  },
  {
   "cell_type": "code",
   "execution_count": 38,
   "id": "02340482",
   "metadata": {},
   "outputs": [
    {
     "data": {
      "text/plain": [
       "Index(['city', 'hobby'], dtype='object')"
      ]
     },
     "execution_count": 38,
     "metadata": {},
     "output_type": "execute_result"
    }
   ],
   "source": [
    "df.columns # Look up the columns"
   ]
  },
  {
   "cell_type": "markdown",
   "id": "cac627f2",
   "metadata": {},
   "source": [
    "## Index and columns properties\n",
    "\n",
    "* `df.index.name`: Name of the index.\n",
    "\n",
    "* `df.index.array`: Array representation of the index.\n",
    "\n",
    "* `df.index.dtype`: Data type of the index.\n",
    "\n",
    "* `df.index.shape`: Shape of the index.\n",
    "\n",
    "* `df.index.size`: Number of elements in the index.\n",
    "\n",
    "* `df.index.values`: Array representation of the index values.\n",
    "\n",
    "* `df.index.empty`: Returns True if the index is empty, False otherwise.\n",
    "\n",
    "* `df.index.is_unique`: Returns True if the index does not have duplicate values, False otherwise.\n",
    "\n",
    "* `df.index.names`: List of names of the index levels.\n",
    "\n",
    "* `df.index.is_all_dates`: Returns True if all the values in the index are dates or times, False otherwise.\n",
    "\n",
    "* `df.index.has_duplicates`: Returns True if the index has duplicate values, False otherwise.\n",
    "\n",
    "* `df.index.values`: Array representation of the index values."
   ]
  },
  {
   "cell_type": "markdown",
   "id": "0974df6b",
   "metadata": {},
   "source": [
    "## Operations\n",
    "### Basic Methods\n",
    "\n",
    "* `df.index.astype('int64')`: Convert the index to the 'int64' data type.\n",
    "\n",
    "* `df.index.isin()`: Check if values exist in the index. See the example below.\n",
    "\n",
    "* `df.index.rename('number')`: Rename the index.\n",
    "\n",
    "* `df.index.nunique()`: Get the number of unique values in the index.\n",
    "\n",
    "* `df.index.sort_values(ascending=False)`: Sort the index in descending order.\n",
    "\n",
    "* `df.index.map(lambda x: x+'_')`: Apply a function to each value in the index.\n",
    "\n",
    "* `df.index.str.replace('_', '')`: Replace a substring in the index with another substring.\n",
    "\n",
    "* `df.index.str.split('_')`: Split the index values based on a delimiter.\n",
    "\n",
    "* `df.index.to_list()`: Convert the index to a list.\n",
    "\n",
    "* `df.index.to_frame(index=False, name='a')`: Convert the index to a DataFrame with a specified column name.\n",
    "\n",
    "* `df.index.to_series()`: Convert the index to a Series.\n",
    "\n",
    "* `df.index.to_numpy()`: Convert the index to a NumPy array.\n",
    "\n",
    "* `df.index.unique()`: Get the unique values in the index.\n",
    "\n",
    "* `df.index.value_counts()`: Get the unique values in the index and their counts.\n",
    "\n",
    "* `df.index.where(df.index == 'a')`: Filter the index based on a condition.\n",
    "\n",
    "* `df.index.rename('grade', inplace=False)`: Rename the index with a new name.\n",
    "\n",
    "* `df.index.rename(['species', 'year'])`: Rename the levels of a multi-level index.\n",
    "\n",
    "* `df.index.max()`: Get the maximum value in the index.\n",
    "\n",
    "* `df.index.argmax()`: Get the index of the maximum value in the index.\n",
    "\n",
    "* `df.index.any()`: Check if any value in the index is true.\n",
    "\n",
    "* `df.index.all()`: Check if all values in the index are true.\n",
    "\n",
    "* `df.index.T`: Transpose the index. Useful for multi-level indexes."
   ]
  },
  {
   "cell_type": "markdown",
   "id": "42e23bc5",
   "metadata": {},
   "source": [
    "### Compare the differences\n",
    "\n",
    "* `df.index.difference(pd.Index([1, 2, 4]), sort=False)`: Get the difference between the index and another index, ignoring the sorting.\n",
    "\n",
    "* `df.index.drop('a', errors='ignore')`: Drop a specific label from the index, ignoring errors if the label doesn't exist.\n",
    "\n",
    "* `df.index.drop_duplicates(keep='first')`: Drop duplicate values from the index, keeping the first occurrence.\n",
    "\n",
    "* `df.index.droplevel(0)`: Drop a level from a multi-level index.\n",
    "\n",
    "* `df.index.dropna(how='all')`: Drop NaN values from the index, keeping the rows with at least one non-NaN value.\n",
    "\n",
    "* `df.index.duplicated(keep='first')`: Check for duplicate values in the index, marking duplicates as True in the resulting array.\n",
    "\n",
    "* `df.index.equals(-df.index)`: Check if the index is equal to another index.\n",
    "\n",
    "* `df.index.factorize()`: Factorize the index into an array of unique labels and an index object.\n",
    "\n",
    "* `df.index.fillna(0, {0:'nan'})`: Fill NaN values in the index with a specified value, using a dictionary to map specific values to the NaN value."
   ]
  },
  {
   "cell_type": "markdown",
   "id": "330e26d6",
   "metadata": {},
   "source": [
    "# Duplicate indexes \n",
    "\n",
    "It refer to the situation where one or more rows in a DataFrame or Series have the same index value. This can occur due to various reasons, such as incorrect data merging or appending operations.\n",
    "\n",
    "Handling duplicate indexes is important to ensure data integrity and avoid issues in data analysis. Pandas provides several methods to deal with duplicate indexes:\n",
    "\n",
    "* `df.index.duplicated()`: Returns a boolean array indicating which index values are duplicated.\n",
    "* `df.index.drop_duplicates()`: Removes duplicate index values, keeping the first occurrence.\n",
    "* `df.index.is_unique`: Checks if the index has unique values.\n",
    "* `df.index.get_duplicates()`: Returns a list of duplicated index values.\n",
    "* `df.index.unique()`: Returns an array of unique index values."
   ]
  },
  {
   "cell_type": "code",
   "execution_count": 39,
   "id": "660092d0",
   "metadata": {},
   "outputs": [
    {
     "data": {
      "text/html": [
       "<div>\n",
       "<style scoped>\n",
       "    .dataframe tbody tr th:only-of-type {\n",
       "        vertical-align: middle;\n",
       "    }\n",
       "\n",
       "    .dataframe tbody tr th {\n",
       "        vertical-align: top;\n",
       "    }\n",
       "\n",
       "    .dataframe thead th {\n",
       "        text-align: right;\n",
       "    }\n",
       "</style>\n",
       "<table border=\"1\" class=\"dataframe\">\n",
       "  <thead>\n",
       "    <tr style=\"text-align: right;\">\n",
       "      <th></th>\n",
       "      <th>A</th>\n",
       "    </tr>\n",
       "  </thead>\n",
       "  <tbody>\n",
       "    <tr>\n",
       "      <th>a</th>\n",
       "      <td>1</td>\n",
       "    </tr>\n",
       "    <tr>\n",
       "      <th>a</th>\n",
       "      <td>2</td>\n",
       "    </tr>\n",
       "  </tbody>\n",
       "</table>\n",
       "</div>"
      ],
      "text/plain": [
       "   A\n",
       "a  1\n",
       "a  2"
      ]
     },
     "execution_count": 39,
     "metadata": {},
     "output_type": "execute_result"
    }
   ],
   "source": [
    "df = pd.DataFrame({\"A\": [1, 2]}, index = ['a', 'a'])\n",
    "df"
   ]
  },
  {
   "cell_type": "code",
   "execution_count": 40,
   "id": "650b5b8e",
   "metadata": {},
   "outputs": [
    {
     "data": {
      "text/plain": [
       "True"
      ]
     },
     "execution_count": 40,
     "metadata": {},
     "output_type": "execute_result"
    }
   ],
   "source": [
    "df.flags[\"allows_duplicate_labels\"] "
   ]
  },
  {
   "cell_type": "code",
   "execution_count": 41,
   "id": "9c23439d",
   "metadata": {},
   "outputs": [
    {
     "data": {
      "text/plain": [
       "a    1\n",
       "b    2\n",
       "dtype: int64"
      ]
     },
     "execution_count": 41,
     "metadata": {},
     "output_type": "execute_result"
    }
   ],
   "source": [
    "s = pd.Series([1, 2], index = ['a', 'b']).set_flags(allows_duplicate_labels = False)\n",
    "s"
   ]
  },
  {
   "cell_type": "markdown",
   "id": "a15588a0",
   "metadata": {},
   "source": [
    "# MultiIndex\n",
    "MultiIndex is an important feature in Pandas that allows us to have two or more levels of indexing on Series and DataFrame objects. It enables us to represent and handle complex data structures with multiple dimensions.\n",
    "\n",
    "In MultiIndex, each level of the index corresponds to a label, which can be used to select and manipulate data. By using multi-level indexing, we can represent multiple dimensions of information on a single axis, similar to using multiple columns to define an index in a database table.\n",
    "\n",
    "MultiIndex can be applied to the row index or column index of Series and DataFrame objects. With multi-level indexing, we can perform higher-dimensional data aggregation, slicing, filtering, and analysis operations."
   ]
  },
  {
   "cell_type": "markdown",
   "id": "00431646",
   "metadata": {},
   "source": [
    "## MultiIndex on series\n",
    "### Create MultiIndex"
   ]
  },
  {
   "cell_type": "code",
   "execution_count": 42,
   "id": "77ec7424",
   "metadata": {},
   "outputs": [
    {
     "data": {
      "text/plain": [
       "a  1    0.872031\n",
       "   2    0.452025\n",
       "b  1   -1.473243\n",
       "   2    0.357248\n",
       "dtype: float64"
      ]
     },
     "execution_count": 42,
     "metadata": {},
     "output_type": "execute_result"
    }
   ],
   "source": [
    "se1=pd.Series(np.random.randn(4),index = [list(\"aabb\"),[1,2,1,2]])\n",
    "se1"
   ]
  },
  {
   "cell_type": "markdown",
   "id": "401fdf03",
   "metadata": {},
   "source": [
    "### Select the subset"
   ]
  },
  {
   "cell_type": "code",
   "execution_count": 43,
   "id": "d38122f9",
   "metadata": {},
   "outputs": [
    {
     "data": {
      "text/plain": [
       "1    0.872031\n",
       "2    0.452025\n",
       "dtype: float64"
      ]
     },
     "execution_count": 43,
     "metadata": {},
     "output_type": "execute_result"
    }
   ],
   "source": [
    "se1['a']"
   ]
  },
  {
   "cell_type": "code",
   "execution_count": 44,
   "id": "c805240b",
   "metadata": {},
   "outputs": [
    {
     "data": {
      "text/plain": [
       "a  1    0.872031\n",
       "   2    0.452025\n",
       "b  1   -1.473243\n",
       "   2    0.357248\n",
       "dtype: float64"
      ]
     },
     "execution_count": 44,
     "metadata": {},
     "output_type": "execute_result"
    }
   ],
   "source": [
    "se1['a': 'b']"
   ]
  },
  {
   "cell_type": "markdown",
   "id": "d0c8fb3c",
   "metadata": {},
   "source": [
    "###  Inner level of a multi-level indexed Series"
   ]
  },
  {
   "cell_type": "code",
   "execution_count": 45,
   "id": "a85109f1",
   "metadata": {},
   "outputs": [
    {
     "data": {
      "text/plain": [
       "a    0.872031\n",
       "b   -1.473243\n",
       "dtype: float64"
      ]
     },
     "execution_count": 45,
     "metadata": {},
     "output_type": "execute_result"
    }
   ],
   "source": [
    "# access the values corresponding to the second level index 1 \n",
    "se1[:, 1]"
   ]
  },
  {
   "cell_type": "code",
   "execution_count": 46,
   "id": "09fb7a14",
   "metadata": {},
   "outputs": [
    {
     "data": {
      "text/plain": [
       "a    0.452025\n",
       "b    0.357248\n",
       "dtype: float64"
      ]
     },
     "execution_count": 46,
     "metadata": {},
     "output_type": "execute_result"
    }
   ],
   "source": [
    "# access the values corresponding to the second level index 1 \n",
    "se1[:, 2]"
   ]
  },
  {
   "cell_type": "markdown",
   "id": "e19bed96",
   "metadata": {},
   "source": [
    "## MultiIndex on DataFrame\n",
    "### Create a multi-level row index\n",
    "##### Implicit method with a list of lists"
   ]
  },
  {
   "cell_type": "code",
   "execution_count": 47,
   "id": "19207059",
   "metadata": {},
   "outputs": [
    {
     "data": {
      "text/html": [
       "<div>\n",
       "<style scoped>\n",
       "    .dataframe tbody tr th:only-of-type {\n",
       "        vertical-align: middle;\n",
       "    }\n",
       "\n",
       "    .dataframe tbody tr th {\n",
       "        vertical-align: top;\n",
       "    }\n",
       "\n",
       "    .dataframe thead th {\n",
       "        text-align: right;\n",
       "    }\n",
       "</style>\n",
       "<table border=\"1\" class=\"dataframe\">\n",
       "  <thead>\n",
       "    <tr style=\"text-align: right;\">\n",
       "      <th></th>\n",
       "      <th></th>\n",
       "      <th>Math</th>\n",
       "      <th>Verbal</th>\n",
       "      <th>Python</th>\n",
       "    </tr>\n",
       "  </thead>\n",
       "  <tbody>\n",
       "    <tr>\n",
       "      <th rowspan=\"2\" valign=\"top\">Michal</th>\n",
       "      <th>Mid</th>\n",
       "      <td>68</td>\n",
       "      <td>97</td>\n",
       "      <td>147</td>\n",
       "    </tr>\n",
       "    <tr>\n",
       "      <th>Final</th>\n",
       "      <td>117</td>\n",
       "      <td>114</td>\n",
       "      <td>11</td>\n",
       "    </tr>\n",
       "    <tr>\n",
       "      <th rowspan=\"2\" valign=\"top\">Kobe</th>\n",
       "      <th>Mid</th>\n",
       "      <td>38</td>\n",
       "      <td>107</td>\n",
       "      <td>74</td>\n",
       "    </tr>\n",
       "    <tr>\n",
       "      <th>Final</th>\n",
       "      <td>140</td>\n",
       "      <td>136</td>\n",
       "      <td>23</td>\n",
       "    </tr>\n",
       "    <tr>\n",
       "      <th rowspan=\"2\" valign=\"top\">James</th>\n",
       "      <th>Mid</th>\n",
       "      <td>69</td>\n",
       "      <td>14</td>\n",
       "      <td>136</td>\n",
       "    </tr>\n",
       "    <tr>\n",
       "      <th>Final</th>\n",
       "      <td>26</td>\n",
       "      <td>17</td>\n",
       "      <td>7</td>\n",
       "    </tr>\n",
       "  </tbody>\n",
       "</table>\n",
       "</div>"
      ],
      "text/plain": [
       "              Math  Verbal  Python\n",
       "Michal Mid      68      97     147\n",
       "       Final   117     114      11\n",
       "Kobe   Mid      38     107      74\n",
       "       Final   140     136      23\n",
       "James  Mid      69      14     136\n",
       "       Final    26      17       7"
      ]
     },
     "execution_count": 47,
     "metadata": {},
     "output_type": "execute_result"
    }
   ],
   "source": [
    "df = pd.DataFrame(np.random.randint(0, 150, size=(6,3)), \n",
    "                  columns=['Math', 'Verbal', 'Python'], \n",
    "                  index=[['Michal', 'Michal', 'Kobe','Kobe', 'James', 'James'],\n",
    "                         ['Mid','Final', 'Mid', 'Final','Mid', 'Final']])\n",
    "df"
   ]
  },
  {
   "cell_type": "markdown",
   "id": "87995023",
   "metadata": {},
   "source": [
    "#### explicit method\n",
    "##### `from_arrays`"
   ]
  },
  {
   "cell_type": "code",
   "execution_count": 48,
   "id": "de57f544",
   "metadata": {},
   "outputs": [
    {
     "data": {
      "text/html": [
       "<div>\n",
       "<style scoped>\n",
       "    .dataframe tbody tr th:only-of-type {\n",
       "        vertical-align: middle;\n",
       "    }\n",
       "\n",
       "    .dataframe tbody tr th {\n",
       "        vertical-align: top;\n",
       "    }\n",
       "\n",
       "    .dataframe thead th {\n",
       "        text-align: right;\n",
       "    }\n",
       "</style>\n",
       "<table border=\"1\" class=\"dataframe\">\n",
       "  <thead>\n",
       "    <tr style=\"text-align: right;\">\n",
       "      <th></th>\n",
       "      <th></th>\n",
       "      <th>Verbal</th>\n",
       "      <th>Math</th>\n",
       "      <th>Python</th>\n",
       "    </tr>\n",
       "  </thead>\n",
       "  <tbody>\n",
       "    <tr>\n",
       "      <th rowspan=\"2\" valign=\"top\">Michael</th>\n",
       "      <th>Midterm</th>\n",
       "      <td>105</td>\n",
       "      <td>65</td>\n",
       "      <td>82</td>\n",
       "    </tr>\n",
       "    <tr>\n",
       "      <th>Final</th>\n",
       "      <td>44</td>\n",
       "      <td>66</td>\n",
       "      <td>25</td>\n",
       "    </tr>\n",
       "    <tr>\n",
       "      <th rowspan=\"2\" valign=\"top\">Kobe</th>\n",
       "      <th>Midterm</th>\n",
       "      <td>57</td>\n",
       "      <td>143</td>\n",
       "      <td>104</td>\n",
       "    </tr>\n",
       "    <tr>\n",
       "      <th>Final</th>\n",
       "      <td>54</td>\n",
       "      <td>23</td>\n",
       "      <td>45</td>\n",
       "    </tr>\n",
       "    <tr>\n",
       "      <th rowspan=\"2\" valign=\"top\">James</th>\n",
       "      <th>Midterm</th>\n",
       "      <td>137</td>\n",
       "      <td>126</td>\n",
       "      <td>92</td>\n",
       "    </tr>\n",
       "    <tr>\n",
       "      <th>Final</th>\n",
       "      <td>125</td>\n",
       "      <td>34</td>\n",
       "      <td>3</td>\n",
       "    </tr>\n",
       "  </tbody>\n",
       "</table>\n",
       "</div>"
      ],
      "text/plain": [
       "                 Verbal  Math  Python\n",
       "Michael Midterm     105    65      82\n",
       "        Final        44    66      25\n",
       "Kobe    Midterm      57   143     104\n",
       "        Final        54    23      45\n",
       "James   Midterm     137   126      92\n",
       "        Final       125    34       3"
      ]
     },
     "execution_count": 48,
     "metadata": {},
     "output_type": "execute_result"
    }
   ],
   "source": [
    "df = pd.DataFrame(np.random.randint(0, 150, size = (6,3)), \n",
    "                  columns = ['Verbal', 'Math', 'Python'], \n",
    "                  index = pd.MultiIndex.from_arrays([['Michael', 'Michael', 'Kobe','Kobe', 'James', 'James'],\n",
    "                                                     ['Midterm','Final', 'Midterm', 'Final','Midterm', 'Final']]))\n",
    "df"
   ]
  },
  {
   "cell_type": "markdown",
   "id": "a47044a2",
   "metadata": {},
   "source": [
    "##### ```from_tuples```"
   ]
  },
  {
   "cell_type": "code",
   "execution_count": 49,
   "id": "d04eaf13",
   "metadata": {},
   "outputs": [
    {
     "data": {
      "text/html": [
       "<div>\n",
       "<style scoped>\n",
       "    .dataframe tbody tr th:only-of-type {\n",
       "        vertical-align: middle;\n",
       "    }\n",
       "\n",
       "    .dataframe tbody tr th {\n",
       "        vertical-align: top;\n",
       "    }\n",
       "\n",
       "    .dataframe thead th {\n",
       "        text-align: right;\n",
       "    }\n",
       "</style>\n",
       "<table border=\"1\" class=\"dataframe\">\n",
       "  <thead>\n",
       "    <tr style=\"text-align: right;\">\n",
       "      <th></th>\n",
       "      <th></th>\n",
       "      <th>Verbal</th>\n",
       "      <th>Math</th>\n",
       "      <th>Python</th>\n",
       "    </tr>\n",
       "  </thead>\n",
       "  <tbody>\n",
       "    <tr>\n",
       "      <th rowspan=\"2\" valign=\"top\">Michal</th>\n",
       "      <th>Mid</th>\n",
       "      <td>143</td>\n",
       "      <td>69</td>\n",
       "      <td>11</td>\n",
       "    </tr>\n",
       "    <tr>\n",
       "      <th>Final</th>\n",
       "      <td>97</td>\n",
       "      <td>64</td>\n",
       "      <td>22</td>\n",
       "    </tr>\n",
       "    <tr>\n",
       "      <th rowspan=\"2\" valign=\"top\">Kobe</th>\n",
       "      <th>Mid</th>\n",
       "      <td>95</td>\n",
       "      <td>146</td>\n",
       "      <td>55</td>\n",
       "    </tr>\n",
       "    <tr>\n",
       "      <th>Final</th>\n",
       "      <td>92</td>\n",
       "      <td>105</td>\n",
       "      <td>136</td>\n",
       "    </tr>\n",
       "    <tr>\n",
       "      <th rowspan=\"2\" valign=\"top\">James</th>\n",
       "      <th>Mid</th>\n",
       "      <td>81</td>\n",
       "      <td>95</td>\n",
       "      <td>92</td>\n",
       "    </tr>\n",
       "    <tr>\n",
       "      <th>Final</th>\n",
       "      <td>19</td>\n",
       "      <td>25</td>\n",
       "      <td>93</td>\n",
       "    </tr>\n",
       "  </tbody>\n",
       "</table>\n",
       "</div>"
      ],
      "text/plain": [
       "              Verbal  Math  Python\n",
       "Michal Mid       143    69      11\n",
       "       Final      97    64      22\n",
       "Kobe   Mid        95   146      55\n",
       "       Final      92   105     136\n",
       "James  Mid        81    95      92\n",
       "       Final      19    25      93"
      ]
     },
     "execution_count": 49,
     "metadata": {},
     "output_type": "execute_result"
    }
   ],
   "source": [
    "df = pd.DataFrame(np.random.randint(0, 150, size=(6,3)), \n",
    "                  columns = ['Verbal', 'Math', 'Python'], \n",
    "                  index = pd.MultiIndex.from_tuples([('Michal','Mid'), ('Michal','Final'), ('Kobe','Mid'), ('Kobe','Final'), ('James','Mid'), ('James','Final')]))\n",
    "df"
   ]
  },
  {
   "cell_type": "markdown",
   "id": "97d3076a",
   "metadata": {},
   "source": [
    "##### ```from_product```"
   ]
  },
  {
   "cell_type": "code",
   "execution_count": 50,
   "id": "6639dc3e",
   "metadata": {},
   "outputs": [
    {
     "data": {
      "text/html": [
       "<div>\n",
       "<style scoped>\n",
       "    .dataframe tbody tr th:only-of-type {\n",
       "        vertical-align: middle;\n",
       "    }\n",
       "\n",
       "    .dataframe tbody tr th {\n",
       "        vertical-align: top;\n",
       "    }\n",
       "\n",
       "    .dataframe thead th {\n",
       "        text-align: right;\n",
       "    }\n",
       "</style>\n",
       "<table border=\"1\" class=\"dataframe\">\n",
       "  <thead>\n",
       "    <tr style=\"text-align: right;\">\n",
       "      <th></th>\n",
       "      <th></th>\n",
       "      <th>Verbal</th>\n",
       "      <th>Math</th>\n",
       "      <th>Python</th>\n",
       "    </tr>\n",
       "  </thead>\n",
       "  <tbody>\n",
       "    <tr>\n",
       "      <th rowspan=\"2\" valign=\"top\">Michal</th>\n",
       "      <th>Mid</th>\n",
       "      <td>112</td>\n",
       "      <td>114</td>\n",
       "      <td>25</td>\n",
       "    </tr>\n",
       "    <tr>\n",
       "      <th>Final</th>\n",
       "      <td>103</td>\n",
       "      <td>31</td>\n",
       "      <td>35</td>\n",
       "    </tr>\n",
       "    <tr>\n",
       "      <th rowspan=\"2\" valign=\"top\">Kobe</th>\n",
       "      <th>Mid</th>\n",
       "      <td>71</td>\n",
       "      <td>84</td>\n",
       "      <td>52</td>\n",
       "    </tr>\n",
       "    <tr>\n",
       "      <th>Final</th>\n",
       "      <td>10</td>\n",
       "      <td>67</td>\n",
       "      <td>40</td>\n",
       "    </tr>\n",
       "    <tr>\n",
       "      <th rowspan=\"2\" valign=\"top\">James</th>\n",
       "      <th>Mid</th>\n",
       "      <td>113</td>\n",
       "      <td>101</td>\n",
       "      <td>146</td>\n",
       "    </tr>\n",
       "    <tr>\n",
       "      <th>Final</th>\n",
       "      <td>24</td>\n",
       "      <td>39</td>\n",
       "      <td>141</td>\n",
       "    </tr>\n",
       "  </tbody>\n",
       "</table>\n",
       "</div>"
      ],
      "text/plain": [
       "              Verbal  Math  Python\n",
       "Michal Mid       112   114      25\n",
       "       Final     103    31      35\n",
       "Kobe   Mid        71    84      52\n",
       "       Final      10    67      40\n",
       "James  Mid       113   101     146\n",
       "       Final      24    39     141"
      ]
     },
     "execution_count": 50,
     "metadata": {},
     "output_type": "execute_result"
    }
   ],
   "source": [
    "df = pd.DataFrame(np.random.randint(0, 150, size=(6,3)), \n",
    "                  columns=['Verbal', 'Math', 'Python'], \n",
    "                  index = pd.MultiIndex.from_product([['Michal','Kobe','James'],['Mid','Final']]))\n",
    "df"
   ]
  },
  {
   "cell_type": "markdown",
   "id": "c33d9bec",
   "metadata": {},
   "source": [
    "### Create a multi-level row index using columns in DataFrame"
   ]
  },
  {
   "cell_type": "code",
   "execution_count": 51,
   "id": "fa8bbf65",
   "metadata": {},
   "outputs": [
    {
     "data": {
      "text/html": [
       "<div>\n",
       "<style scoped>\n",
       "    .dataframe tbody tr th:only-of-type {\n",
       "        vertical-align: middle;\n",
       "    }\n",
       "\n",
       "    .dataframe tbody tr th {\n",
       "        vertical-align: top;\n",
       "    }\n",
       "\n",
       "    .dataframe thead th {\n",
       "        text-align: right;\n",
       "    }\n",
       "</style>\n",
       "<table border=\"1\" class=\"dataframe\">\n",
       "  <thead>\n",
       "    <tr style=\"text-align: right;\">\n",
       "      <th></th>\n",
       "      <th></th>\n",
       "      <th>Verbal</th>\n",
       "      <th>Math</th>\n",
       "      <th>Python</th>\n",
       "    </tr>\n",
       "  </thead>\n",
       "  <tbody>\n",
       "    <tr>\n",
       "      <th rowspan=\"2\" valign=\"top\">Michal</th>\n",
       "      <th>Mid</th>\n",
       "      <td>112</td>\n",
       "      <td>114</td>\n",
       "      <td>25</td>\n",
       "    </tr>\n",
       "    <tr>\n",
       "      <th>Final</th>\n",
       "      <td>103</td>\n",
       "      <td>31</td>\n",
       "      <td>35</td>\n",
       "    </tr>\n",
       "    <tr>\n",
       "      <th rowspan=\"2\" valign=\"top\">Kobe</th>\n",
       "      <th>Mid</th>\n",
       "      <td>71</td>\n",
       "      <td>84</td>\n",
       "      <td>52</td>\n",
       "    </tr>\n",
       "    <tr>\n",
       "      <th>Final</th>\n",
       "      <td>10</td>\n",
       "      <td>67</td>\n",
       "      <td>40</td>\n",
       "    </tr>\n",
       "    <tr>\n",
       "      <th rowspan=\"2\" valign=\"top\">James</th>\n",
       "      <th>Mid</th>\n",
       "      <td>113</td>\n",
       "      <td>101</td>\n",
       "      <td>146</td>\n",
       "    </tr>\n",
       "    <tr>\n",
       "      <th>Final</th>\n",
       "      <td>24</td>\n",
       "      <td>39</td>\n",
       "      <td>141</td>\n",
       "    </tr>\n",
       "  </tbody>\n",
       "</table>\n",
       "</div>"
      ],
      "text/plain": [
       "              Verbal  Math  Python\n",
       "Michal Mid       112   114      25\n",
       "       Final     103    31      35\n",
       "Kobe   Mid        71    84      52\n",
       "       Final      10    67      40\n",
       "James  Mid       113   101     146\n",
       "       Final      24    39     141"
      ]
     },
     "execution_count": 51,
     "metadata": {},
     "output_type": "execute_result"
    }
   ],
   "source": [
    "df"
   ]
  },
  {
   "cell_type": "code",
   "execution_count": 52,
   "id": "a5f34a97",
   "metadata": {},
   "outputs": [
    {
     "data": {
      "text/html": [
       "<div>\n",
       "<style scoped>\n",
       "    .dataframe tbody tr th:only-of-type {\n",
       "        vertical-align: middle;\n",
       "    }\n",
       "\n",
       "    .dataframe tbody tr th {\n",
       "        vertical-align: top;\n",
       "    }\n",
       "\n",
       "    .dataframe thead th {\n",
       "        text-align: right;\n",
       "    }\n",
       "</style>\n",
       "<table border=\"1\" class=\"dataframe\">\n",
       "  <thead>\n",
       "    <tr style=\"text-align: right;\">\n",
       "      <th></th>\n",
       "      <th>Name</th>\n",
       "      <th>Term</th>\n",
       "      <th>Verbal</th>\n",
       "      <th>Math</th>\n",
       "      <th>Python</th>\n",
       "    </tr>\n",
       "  </thead>\n",
       "  <tbody>\n",
       "    <tr>\n",
       "      <th>0</th>\n",
       "      <td>Michal</td>\n",
       "      <td>Mid</td>\n",
       "      <td>112</td>\n",
       "      <td>114</td>\n",
       "      <td>25</td>\n",
       "    </tr>\n",
       "    <tr>\n",
       "      <th>1</th>\n",
       "      <td>Michal</td>\n",
       "      <td>Final</td>\n",
       "      <td>103</td>\n",
       "      <td>31</td>\n",
       "      <td>35</td>\n",
       "    </tr>\n",
       "    <tr>\n",
       "      <th>2</th>\n",
       "      <td>Kobe</td>\n",
       "      <td>Mid</td>\n",
       "      <td>71</td>\n",
       "      <td>84</td>\n",
       "      <td>52</td>\n",
       "    </tr>\n",
       "    <tr>\n",
       "      <th>3</th>\n",
       "      <td>Kobe</td>\n",
       "      <td>Final</td>\n",
       "      <td>10</td>\n",
       "      <td>67</td>\n",
       "      <td>40</td>\n",
       "    </tr>\n",
       "    <tr>\n",
       "      <th>4</th>\n",
       "      <td>James</td>\n",
       "      <td>Mid</td>\n",
       "      <td>113</td>\n",
       "      <td>101</td>\n",
       "      <td>146</td>\n",
       "    </tr>\n",
       "    <tr>\n",
       "      <th>5</th>\n",
       "      <td>James</td>\n",
       "      <td>Final</td>\n",
       "      <td>24</td>\n",
       "      <td>39</td>\n",
       "      <td>141</td>\n",
       "    </tr>\n",
       "  </tbody>\n",
       "</table>\n",
       "</div>"
      ],
      "text/plain": [
       "     Name   Term  Verbal  Math  Python\n",
       "0  Michal    Mid     112   114      25\n",
       "1  Michal  Final     103    31      35\n",
       "2    Kobe    Mid      71    84      52\n",
       "3    Kobe  Final      10    67      40\n",
       "4   James    Mid     113   101     146\n",
       "5   James  Final      24    39     141"
      ]
     },
     "execution_count": 52,
     "metadata": {},
     "output_type": "execute_result"
    }
   ],
   "source": [
    "df.reset_index(inplace = True)\n",
    "\n",
    "# Revise the first column to name, second column to term \n",
    "df.rename(columns={'level_0': 'Name', 'level_1': 'Term'}, inplace = True)\n",
    "df"
   ]
  },
  {
   "cell_type": "code",
   "execution_count": 53,
   "id": "5012b1a7",
   "metadata": {},
   "outputs": [
    {
     "data": {
      "text/html": [
       "<div>\n",
       "<style scoped>\n",
       "    .dataframe tbody tr th:only-of-type {\n",
       "        vertical-align: middle;\n",
       "    }\n",
       "\n",
       "    .dataframe tbody tr th {\n",
       "        vertical-align: top;\n",
       "    }\n",
       "\n",
       "    .dataframe thead th {\n",
       "        text-align: right;\n",
       "    }\n",
       "</style>\n",
       "<table border=\"1\" class=\"dataframe\">\n",
       "  <thead>\n",
       "    <tr style=\"text-align: right;\">\n",
       "      <th></th>\n",
       "      <th></th>\n",
       "      <th>Verbal</th>\n",
       "      <th>Math</th>\n",
       "      <th>Python</th>\n",
       "    </tr>\n",
       "    <tr>\n",
       "      <th>Name</th>\n",
       "      <th>Term</th>\n",
       "      <th></th>\n",
       "      <th></th>\n",
       "      <th></th>\n",
       "    </tr>\n",
       "  </thead>\n",
       "  <tbody>\n",
       "    <tr>\n",
       "      <th rowspan=\"2\" valign=\"top\">Michal</th>\n",
       "      <th>Mid</th>\n",
       "      <td>112</td>\n",
       "      <td>114</td>\n",
       "      <td>25</td>\n",
       "    </tr>\n",
       "    <tr>\n",
       "      <th>Final</th>\n",
       "      <td>103</td>\n",
       "      <td>31</td>\n",
       "      <td>35</td>\n",
       "    </tr>\n",
       "    <tr>\n",
       "      <th rowspan=\"2\" valign=\"top\">Kobe</th>\n",
       "      <th>Mid</th>\n",
       "      <td>71</td>\n",
       "      <td>84</td>\n",
       "      <td>52</td>\n",
       "    </tr>\n",
       "    <tr>\n",
       "      <th>Final</th>\n",
       "      <td>10</td>\n",
       "      <td>67</td>\n",
       "      <td>40</td>\n",
       "    </tr>\n",
       "    <tr>\n",
       "      <th rowspan=\"2\" valign=\"top\">James</th>\n",
       "      <th>Mid</th>\n",
       "      <td>113</td>\n",
       "      <td>101</td>\n",
       "      <td>146</td>\n",
       "    </tr>\n",
       "    <tr>\n",
       "      <th>Final</th>\n",
       "      <td>24</td>\n",
       "      <td>39</td>\n",
       "      <td>141</td>\n",
       "    </tr>\n",
       "  </tbody>\n",
       "</table>\n",
       "</div>"
      ],
      "text/plain": [
       "              Verbal  Math  Python\n",
       "Name   Term                       \n",
       "Michal Mid       112   114      25\n",
       "       Final     103    31      35\n",
       "Kobe   Mid        71    84      52\n",
       "       Final      10    67      40\n",
       "James  Mid       113   101     146\n",
       "       Final      24    39     141"
      ]
     },
     "execution_count": 53,
     "metadata": {},
     "output_type": "execute_result"
    }
   ],
   "source": [
    "# Set up the MultiIndex \n",
    "df.set_index(['Name', 'Term'])"
   ]
  },
  {
   "cell_type": "markdown",
   "id": "d6fc13bc",
   "metadata": {},
   "source": [
    "### Create a multi-level column index"
   ]
  },
  {
   "cell_type": "code",
   "execution_count": 54,
   "id": "bbd86a95",
   "metadata": {},
   "outputs": [
    {
     "data": {
      "text/html": [
       "<div>\n",
       "<style scoped>\n",
       "    .dataframe tbody tr th:only-of-type {\n",
       "        vertical-align: middle;\n",
       "    }\n",
       "\n",
       "    .dataframe tbody tr th {\n",
       "        vertical-align: top;\n",
       "    }\n",
       "\n",
       "    .dataframe thead tr th {\n",
       "        text-align: left;\n",
       "    }\n",
       "</style>\n",
       "<table border=\"1\" class=\"dataframe\">\n",
       "  <thead>\n",
       "    <tr>\n",
       "      <th></th>\n",
       "      <th colspan=\"2\" halign=\"left\">Michael</th>\n",
       "      <th colspan=\"2\" halign=\"left\">Kobe</th>\n",
       "      <th colspan=\"2\" halign=\"left\">James</th>\n",
       "    </tr>\n",
       "    <tr>\n",
       "      <th></th>\n",
       "      <th>Mid</th>\n",
       "      <th>Final</th>\n",
       "      <th>Mid</th>\n",
       "      <th>Final</th>\n",
       "      <th>Mid</th>\n",
       "      <th>Final</th>\n",
       "    </tr>\n",
       "  </thead>\n",
       "  <tbody>\n",
       "    <tr>\n",
       "      <th>Verbal</th>\n",
       "      <td>29</td>\n",
       "      <td>19</td>\n",
       "      <td>110</td>\n",
       "      <td>0</td>\n",
       "      <td>95</td>\n",
       "      <td>21</td>\n",
       "    </tr>\n",
       "    <tr>\n",
       "      <th>Math</th>\n",
       "      <td>91</td>\n",
       "      <td>51</td>\n",
       "      <td>13</td>\n",
       "      <td>59</td>\n",
       "      <td>39</td>\n",
       "      <td>75</td>\n",
       "    </tr>\n",
       "    <tr>\n",
       "      <th>Python</th>\n",
       "      <td>143</td>\n",
       "      <td>72</td>\n",
       "      <td>141</td>\n",
       "      <td>3</td>\n",
       "      <td>103</td>\n",
       "      <td>77</td>\n",
       "    </tr>\n",
       "  </tbody>\n",
       "</table>\n",
       "</div>"
      ],
      "text/plain": [
       "       Michael       Kobe       James      \n",
       "           Mid Final  Mid Final   Mid Final\n",
       "Verbal      29    19  110     0    95    21\n",
       "Math        91    51   13    59    39    75\n",
       "Python     143    72  141     3   103    77"
      ]
     },
     "execution_count": 54,
     "metadata": {},
     "output_type": "execute_result"
    }
   ],
   "source": [
    "df = pd.DataFrame(np.random.randint(0, 150, size = (3,6)), \n",
    "                  index = ['Verbal', 'Math', 'Python'], \n",
    "                  columns = pd.MultiIndex.from_product([['Michael','Kobe','James'],['Mid','Final']]))\n",
    "df"
   ]
  },
  {
   "cell_type": "markdown",
   "id": "b43bd0bb",
   "metadata": {},
   "source": [
    "### Indexing and Swapping Index\n",
    "##### Prepare the data"
   ]
  },
  {
   "cell_type": "code",
   "execution_count": 55,
   "id": "b5d09241",
   "metadata": {},
   "outputs": [
    {
     "data": {
      "text/html": [
       "<div>\n",
       "<style scoped>\n",
       "    .dataframe tbody tr th:only-of-type {\n",
       "        vertical-align: middle;\n",
       "    }\n",
       "\n",
       "    .dataframe tbody tr th {\n",
       "        vertical-align: top;\n",
       "    }\n",
       "\n",
       "    .dataframe thead tr th {\n",
       "        text-align: left;\n",
       "    }\n",
       "</style>\n",
       "<table border=\"1\" class=\"dataframe\">\n",
       "  <thead>\n",
       "    <tr>\n",
       "      <th></th>\n",
       "      <th></th>\n",
       "      <th colspan=\"2\" halign=\"left\">X</th>\n",
       "      <th>Y</th>\n",
       "    </tr>\n",
       "    <tr>\n",
       "      <th></th>\n",
       "      <th></th>\n",
       "      <th>10</th>\n",
       "      <th>11</th>\n",
       "      <th>10</th>\n",
       "    </tr>\n",
       "  </thead>\n",
       "  <tbody>\n",
       "    <tr>\n",
       "      <th rowspan=\"2\" valign=\"top\">A</th>\n",
       "      <th>1</th>\n",
       "      <td>0</td>\n",
       "      <td>1</td>\n",
       "      <td>2</td>\n",
       "    </tr>\n",
       "    <tr>\n",
       "      <th>2</th>\n",
       "      <td>3</td>\n",
       "      <td>4</td>\n",
       "      <td>5</td>\n",
       "    </tr>\n",
       "    <tr>\n",
       "      <th rowspan=\"2\" valign=\"top\">B</th>\n",
       "      <th>1</th>\n",
       "      <td>6</td>\n",
       "      <td>7</td>\n",
       "      <td>8</td>\n",
       "    </tr>\n",
       "    <tr>\n",
       "      <th>2</th>\n",
       "      <td>9</td>\n",
       "      <td>10</td>\n",
       "      <td>11</td>\n",
       "    </tr>\n",
       "  </tbody>\n",
       "</table>\n",
       "</div>"
      ],
      "text/plain": [
       "     X       Y\n",
       "    10  11  10\n",
       "A 1  0   1   2\n",
       "  2  3   4   5\n",
       "B 1  6   7   8\n",
       "  2  9  10  11"
      ]
     },
     "execution_count": 55,
     "metadata": {},
     "output_type": "execute_result"
    }
   ],
   "source": [
    "df1 = pd.DataFrame(np.arange(12).reshape(4,3), index = [list(\"AABB\"), [1,2,1,2]],  # two indices\n",
    "                  columns = [list(\"XXY\"),[10, 11, 10]]) # two columns\n",
    "df1"
   ]
  },
  {
   "cell_type": "markdown",
   "id": "0204b082",
   "metadata": {},
   "source": [
    "##### Change index names"
   ]
  },
  {
   "cell_type": "code",
   "execution_count": 56,
   "id": "a416357d",
   "metadata": {},
   "outputs": [
    {
     "data": {
      "text/html": [
       "<div>\n",
       "<style scoped>\n",
       "    .dataframe tbody tr th:only-of-type {\n",
       "        vertical-align: middle;\n",
       "    }\n",
       "\n",
       "    .dataframe tbody tr th {\n",
       "        vertical-align: top;\n",
       "    }\n",
       "\n",
       "    .dataframe thead tr th {\n",
       "        text-align: left;\n",
       "    }\n",
       "\n",
       "    .dataframe thead tr:last-of-type th {\n",
       "        text-align: right;\n",
       "    }\n",
       "</style>\n",
       "<table border=\"1\" class=\"dataframe\">\n",
       "  <thead>\n",
       "    <tr>\n",
       "      <th></th>\n",
       "      <th>XY</th>\n",
       "      <th colspan=\"2\" halign=\"left\">X</th>\n",
       "      <th>Y</th>\n",
       "    </tr>\n",
       "    <tr>\n",
       "      <th></th>\n",
       "      <th>sum</th>\n",
       "      <th>10</th>\n",
       "      <th>11</th>\n",
       "      <th>10</th>\n",
       "    </tr>\n",
       "    <tr>\n",
       "      <th>AB</th>\n",
       "      <th>num</th>\n",
       "      <th></th>\n",
       "      <th></th>\n",
       "      <th></th>\n",
       "    </tr>\n",
       "  </thead>\n",
       "  <tbody>\n",
       "    <tr>\n",
       "      <th rowspan=\"2\" valign=\"top\">A</th>\n",
       "      <th>1</th>\n",
       "      <td>0</td>\n",
       "      <td>1</td>\n",
       "      <td>2</td>\n",
       "    </tr>\n",
       "    <tr>\n",
       "      <th>2</th>\n",
       "      <td>3</td>\n",
       "      <td>4</td>\n",
       "      <td>5</td>\n",
       "    </tr>\n",
       "    <tr>\n",
       "      <th rowspan=\"2\" valign=\"top\">B</th>\n",
       "      <th>1</th>\n",
       "      <td>6</td>\n",
       "      <td>7</td>\n",
       "      <td>8</td>\n",
       "    </tr>\n",
       "    <tr>\n",
       "      <th>2</th>\n",
       "      <td>9</td>\n",
       "      <td>10</td>\n",
       "      <td>11</td>\n",
       "    </tr>\n",
       "  </tbody>\n",
       "</table>\n",
       "</div>"
      ],
      "text/plain": [
       "XY      X       Y\n",
       "sum    10  11  10\n",
       "AB num           \n",
       "A  1    0   1   2\n",
       "   2    3   4   5\n",
       "B  1    6   7   8\n",
       "   2    9  10  11"
      ]
     },
     "execution_count": 56,
     "metadata": {},
     "output_type": "execute_result"
    }
   ],
   "source": [
    "# change columns names to  \"XY\" and \"sum\",column index names are XY and sum\n",
    "# change the indices name to \"AB\" and \"num\"\n",
    "df1.columns.names = ['XY','sum']\n",
    "df1.index.names = ['AB','num']\n",
    "df1"
   ]
  },
  {
   "cell_type": "markdown",
   "id": "14f08eb5",
   "metadata": {},
   "source": [
    "##### Creating a MultiIndex Object as an Index"
   ]
  },
  {
   "cell_type": "code",
   "execution_count": 57,
   "id": "029b2138",
   "metadata": {},
   "outputs": [
    {
     "data": {
      "text/html": [
       "<div>\n",
       "<style scoped>\n",
       "    .dataframe tbody tr th:only-of-type {\n",
       "        vertical-align: middle;\n",
       "    }\n",
       "\n",
       "    .dataframe tbody tr th {\n",
       "        vertical-align: top;\n",
       "    }\n",
       "\n",
       "    .dataframe thead tr th {\n",
       "        text-align: left;\n",
       "    }\n",
       "\n",
       "    .dataframe thead tr:last-of-type th {\n",
       "        text-align: right;\n",
       "    }\n",
       "</style>\n",
       "<table border=\"1\" class=\"dataframe\">\n",
       "  <thead>\n",
       "    <tr>\n",
       "      <th></th>\n",
       "      <th>XY</th>\n",
       "      <th colspan=\"2\" halign=\"left\">X</th>\n",
       "      <th>Y</th>\n",
       "    </tr>\n",
       "    <tr>\n",
       "      <th></th>\n",
       "      <th>sum</th>\n",
       "      <th>10</th>\n",
       "      <th>11</th>\n",
       "      <th>10</th>\n",
       "    </tr>\n",
       "    <tr>\n",
       "      <th>AB</th>\n",
       "      <th>num</th>\n",
       "      <th></th>\n",
       "      <th></th>\n",
       "      <th></th>\n",
       "    </tr>\n",
       "  </thead>\n",
       "  <tbody>\n",
       "    <tr>\n",
       "      <th rowspan=\"2\" valign=\"top\">A</th>\n",
       "      <th>1</th>\n",
       "      <td>0</td>\n",
       "      <td>1</td>\n",
       "      <td>2</td>\n",
       "    </tr>\n",
       "    <tr>\n",
       "      <th>2</th>\n",
       "      <td>3</td>\n",
       "      <td>4</td>\n",
       "      <td>5</td>\n",
       "    </tr>\n",
       "    <tr>\n",
       "      <th rowspan=\"2\" valign=\"top\">B</th>\n",
       "      <th>1</th>\n",
       "      <td>6</td>\n",
       "      <td>7</td>\n",
       "      <td>8</td>\n",
       "    </tr>\n",
       "    <tr>\n",
       "      <th>2</th>\n",
       "      <td>9</td>\n",
       "      <td>10</td>\n",
       "      <td>11</td>\n",
       "    </tr>\n",
       "  </tbody>\n",
       "</table>\n",
       "</div>"
      ],
      "text/plain": [
       "XY      X       Y\n",
       "sum    10  11  10\n",
       "AB num           \n",
       "A  1    0   1   2\n",
       "   2    3   4   5\n",
       "B  1    6   7   8\n",
       "   2    9  10  11"
      ]
     },
     "execution_count": 57,
     "metadata": {},
     "output_type": "execute_result"
    }
   ],
   "source": [
    "df1"
   ]
  },
  {
   "cell_type": "code",
   "execution_count": 58,
   "id": "5c685d1e",
   "metadata": {},
   "outputs": [
    {
     "data": {
      "text/html": [
       "<div>\n",
       "<style scoped>\n",
       "    .dataframe tbody tr th:only-of-type {\n",
       "        vertical-align: middle;\n",
       "    }\n",
       "\n",
       "    .dataframe tbody tr th {\n",
       "        vertical-align: top;\n",
       "    }\n",
       "\n",
       "    .dataframe thead tr th {\n",
       "        text-align: left;\n",
       "    }\n",
       "\n",
       "    .dataframe thead tr:last-of-type th {\n",
       "        text-align: right;\n",
       "    }\n",
       "</style>\n",
       "<table border=\"1\" class=\"dataframe\">\n",
       "  <thead>\n",
       "    <tr>\n",
       "      <th></th>\n",
       "      <th>XY</th>\n",
       "      <th colspan=\"2\" halign=\"left\">X</th>\n",
       "      <th>Y</th>\n",
       "    </tr>\n",
       "    <tr>\n",
       "      <th></th>\n",
       "      <th>sum</th>\n",
       "      <th>10</th>\n",
       "      <th>11</th>\n",
       "      <th>10</th>\n",
       "    </tr>\n",
       "    <tr>\n",
       "      <th>AB</th>\n",
       "      <th>new_num</th>\n",
       "      <th></th>\n",
       "      <th></th>\n",
       "      <th></th>\n",
       "    </tr>\n",
       "  </thead>\n",
       "  <tbody>\n",
       "    <tr>\n",
       "      <th rowspan=\"2\" valign=\"top\">A</th>\n",
       "      <th>3</th>\n",
       "      <td>0</td>\n",
       "      <td>1</td>\n",
       "      <td>2</td>\n",
       "    </tr>\n",
       "    <tr>\n",
       "      <th>4</th>\n",
       "      <td>3</td>\n",
       "      <td>4</td>\n",
       "      <td>5</td>\n",
       "    </tr>\n",
       "    <tr>\n",
       "      <th rowspan=\"2\" valign=\"top\">B</th>\n",
       "      <th>3</th>\n",
       "      <td>6</td>\n",
       "      <td>7</td>\n",
       "      <td>8</td>\n",
       "    </tr>\n",
       "    <tr>\n",
       "      <th>4</th>\n",
       "      <td>9</td>\n",
       "      <td>10</td>\n",
       "      <td>11</td>\n",
       "    </tr>\n",
       "  </tbody>\n",
       "</table>\n",
       "</div>"
      ],
      "text/plain": [
       "XY          X       Y\n",
       "sum        10  11  10\n",
       "AB new_num           \n",
       "A  3        0   1   2\n",
       "   4        3   4   5\n",
       "B  3        6   7   8\n",
       "   4        9  10  11"
      ]
     },
     "execution_count": 58,
     "metadata": {},
     "output_type": "execute_result"
    }
   ],
   "source": [
    "df1.index = pd.MultiIndex.from_arrays([list(\"AABB\"),[3,4,3,4]],names = [\"AB\",\"new_num\"])\n",
    "df1"
   ]
  },
  {
   "cell_type": "markdown",
   "id": "5266d134",
   "metadata": {},
   "source": [
    "##### Swap the index"
   ]
  },
  {
   "cell_type": "code",
   "execution_count": 59,
   "id": "d6f72e23",
   "metadata": {},
   "outputs": [
    {
     "data": {
      "text/html": [
       "<div>\n",
       "<style scoped>\n",
       "    .dataframe tbody tr th:only-of-type {\n",
       "        vertical-align: middle;\n",
       "    }\n",
       "\n",
       "    .dataframe tbody tr th {\n",
       "        vertical-align: top;\n",
       "    }\n",
       "\n",
       "    .dataframe thead tr th {\n",
       "        text-align: left;\n",
       "    }\n",
       "\n",
       "    .dataframe thead tr:last-of-type th {\n",
       "        text-align: right;\n",
       "    }\n",
       "</style>\n",
       "<table border=\"1\" class=\"dataframe\">\n",
       "  <thead>\n",
       "    <tr>\n",
       "      <th></th>\n",
       "      <th>XY</th>\n",
       "      <th colspan=\"2\" halign=\"left\">X</th>\n",
       "      <th>Y</th>\n",
       "    </tr>\n",
       "    <tr>\n",
       "      <th></th>\n",
       "      <th>sum</th>\n",
       "      <th>10</th>\n",
       "      <th>11</th>\n",
       "      <th>10</th>\n",
       "    </tr>\n",
       "    <tr>\n",
       "      <th>AB</th>\n",
       "      <th>new_num</th>\n",
       "      <th></th>\n",
       "      <th></th>\n",
       "      <th></th>\n",
       "    </tr>\n",
       "  </thead>\n",
       "  <tbody>\n",
       "    <tr>\n",
       "      <th rowspan=\"2\" valign=\"top\">A</th>\n",
       "      <th>3</th>\n",
       "      <td>0</td>\n",
       "      <td>1</td>\n",
       "      <td>2</td>\n",
       "    </tr>\n",
       "    <tr>\n",
       "      <th>4</th>\n",
       "      <td>3</td>\n",
       "      <td>4</td>\n",
       "      <td>5</td>\n",
       "    </tr>\n",
       "    <tr>\n",
       "      <th rowspan=\"2\" valign=\"top\">B</th>\n",
       "      <th>3</th>\n",
       "      <td>6</td>\n",
       "      <td>7</td>\n",
       "      <td>8</td>\n",
       "    </tr>\n",
       "    <tr>\n",
       "      <th>4</th>\n",
       "      <td>9</td>\n",
       "      <td>10</td>\n",
       "      <td>11</td>\n",
       "    </tr>\n",
       "  </tbody>\n",
       "</table>\n",
       "</div>"
      ],
      "text/plain": [
       "XY          X       Y\n",
       "sum        10  11  10\n",
       "AB new_num           \n",
       "A  3        0   1   2\n",
       "   4        3   4   5\n",
       "B  3        6   7   8\n",
       "   4        9  10  11"
      ]
     },
     "execution_count": 59,
     "metadata": {},
     "output_type": "execute_result"
    }
   ],
   "source": [
    "df1"
   ]
  },
  {
   "cell_type": "code",
   "execution_count": 60,
   "id": "682216bc",
   "metadata": {},
   "outputs": [
    {
     "data": {
      "text/html": [
       "<div>\n",
       "<style scoped>\n",
       "    .dataframe tbody tr th:only-of-type {\n",
       "        vertical-align: middle;\n",
       "    }\n",
       "\n",
       "    .dataframe tbody tr th {\n",
       "        vertical-align: top;\n",
       "    }\n",
       "\n",
       "    .dataframe thead tr th {\n",
       "        text-align: left;\n",
       "    }\n",
       "\n",
       "    .dataframe thead tr:last-of-type th {\n",
       "        text-align: right;\n",
       "    }\n",
       "</style>\n",
       "<table border=\"1\" class=\"dataframe\">\n",
       "  <thead>\n",
       "    <tr>\n",
       "      <th></th>\n",
       "      <th>XY</th>\n",
       "      <th colspan=\"2\" halign=\"left\">X</th>\n",
       "      <th>Y</th>\n",
       "    </tr>\n",
       "    <tr>\n",
       "      <th></th>\n",
       "      <th>sum</th>\n",
       "      <th>10</th>\n",
       "      <th>11</th>\n",
       "      <th>10</th>\n",
       "    </tr>\n",
       "    <tr>\n",
       "      <th>new_num</th>\n",
       "      <th>AB</th>\n",
       "      <th></th>\n",
       "      <th></th>\n",
       "      <th></th>\n",
       "    </tr>\n",
       "  </thead>\n",
       "  <tbody>\n",
       "    <tr>\n",
       "      <th>3</th>\n",
       "      <th>A</th>\n",
       "      <td>0</td>\n",
       "      <td>1</td>\n",
       "      <td>2</td>\n",
       "    </tr>\n",
       "    <tr>\n",
       "      <th>4</th>\n",
       "      <th>A</th>\n",
       "      <td>3</td>\n",
       "      <td>4</td>\n",
       "      <td>5</td>\n",
       "    </tr>\n",
       "    <tr>\n",
       "      <th>3</th>\n",
       "      <th>B</th>\n",
       "      <td>6</td>\n",
       "      <td>7</td>\n",
       "      <td>8</td>\n",
       "    </tr>\n",
       "    <tr>\n",
       "      <th>4</th>\n",
       "      <th>B</th>\n",
       "      <td>9</td>\n",
       "      <td>10</td>\n",
       "      <td>11</td>\n",
       "    </tr>\n",
       "  </tbody>\n",
       "</table>\n",
       "</div>"
      ],
      "text/plain": [
       "XY          X       Y\n",
       "sum        10  11  10\n",
       "new_num AB           \n",
       "3       A   0   1   2\n",
       "4       A   3   4   5\n",
       "3       B   6   7   8\n",
       "4       B   9  10  11"
      ]
     },
     "execution_count": 60,
     "metadata": {},
     "output_type": "execute_result"
    }
   ],
   "source": [
    "df1.swaplevel('AB','new_num')"
   ]
  },
  {
   "cell_type": "code",
   "execution_count": 61,
   "id": "c4b324f3",
   "metadata": {},
   "outputs": [
    {
     "data": {
      "text/html": [
       "<div>\n",
       "<style scoped>\n",
       "    .dataframe tbody tr th:only-of-type {\n",
       "        vertical-align: middle;\n",
       "    }\n",
       "\n",
       "    .dataframe tbody tr th {\n",
       "        vertical-align: top;\n",
       "    }\n",
       "\n",
       "    .dataframe thead tr th {\n",
       "        text-align: left;\n",
       "    }\n",
       "\n",
       "    .dataframe thead tr:last-of-type th {\n",
       "        text-align: right;\n",
       "    }\n",
       "</style>\n",
       "<table border=\"1\" class=\"dataframe\">\n",
       "  <thead>\n",
       "    <tr>\n",
       "      <th></th>\n",
       "      <th>XY</th>\n",
       "      <th colspan=\"2\" halign=\"left\">X</th>\n",
       "      <th>Y</th>\n",
       "    </tr>\n",
       "    <tr>\n",
       "      <th></th>\n",
       "      <th>sum</th>\n",
       "      <th>10</th>\n",
       "      <th>11</th>\n",
       "      <th>10</th>\n",
       "    </tr>\n",
       "    <tr>\n",
       "      <th>AB</th>\n",
       "      <th>new_num</th>\n",
       "      <th></th>\n",
       "      <th></th>\n",
       "      <th></th>\n",
       "    </tr>\n",
       "  </thead>\n",
       "  <tbody>\n",
       "    <tr>\n",
       "      <th rowspan=\"2\" valign=\"top\">A</th>\n",
       "      <th>3</th>\n",
       "      <td>0</td>\n",
       "      <td>1</td>\n",
       "      <td>2</td>\n",
       "    </tr>\n",
       "    <tr>\n",
       "      <th>4</th>\n",
       "      <td>3</td>\n",
       "      <td>4</td>\n",
       "      <td>5</td>\n",
       "    </tr>\n",
       "    <tr>\n",
       "      <th rowspan=\"2\" valign=\"top\">B</th>\n",
       "      <th>3</th>\n",
       "      <td>6</td>\n",
       "      <td>7</td>\n",
       "      <td>8</td>\n",
       "    </tr>\n",
       "    <tr>\n",
       "      <th>4</th>\n",
       "      <td>9</td>\n",
       "      <td>10</td>\n",
       "      <td>11</td>\n",
       "    </tr>\n",
       "  </tbody>\n",
       "</table>\n",
       "</div>"
      ],
      "text/plain": [
       "XY          X       Y\n",
       "sum        10  11  10\n",
       "AB new_num           \n",
       "A  3        0   1   2\n",
       "   4        3   4   5\n",
       "B  3        6   7   8\n",
       "   4        9  10  11"
      ]
     },
     "execution_count": 61,
     "metadata": {},
     "output_type": "execute_result"
    }
   ],
   "source": [
    "# Reordering the Index to AB, new_num\n",
    "df1.reorder_levels(['AB','new_num'],axis = 0).sort_index().head()"
   ]
  },
  {
   "cell_type": "markdown",
   "id": "c46e3607",
   "metadata": {},
   "source": [
    "### Retrieving the index values"
   ]
  },
  {
   "cell_type": "code",
   "execution_count": 62,
   "id": "97863cbe",
   "metadata": {},
   "outputs": [
    {
     "data": {
      "text/html": [
       "<div>\n",
       "<style scoped>\n",
       "    .dataframe tbody tr th:only-of-type {\n",
       "        vertical-align: middle;\n",
       "    }\n",
       "\n",
       "    .dataframe tbody tr th {\n",
       "        vertical-align: top;\n",
       "    }\n",
       "\n",
       "    .dataframe thead th {\n",
       "        text-align: right;\n",
       "    }\n",
       "</style>\n",
       "<table border=\"1\" class=\"dataframe\">\n",
       "  <thead>\n",
       "    <tr style=\"text-align: right;\">\n",
       "      <th></th>\n",
       "      <th></th>\n",
       "      <th>Verbal</th>\n",
       "      <th>Math</th>\n",
       "      <th>Python</th>\n",
       "    </tr>\n",
       "  </thead>\n",
       "  <tbody>\n",
       "    <tr>\n",
       "      <th rowspan=\"2\" valign=\"top\">Michael</th>\n",
       "      <th>Midterm</th>\n",
       "      <td>56</td>\n",
       "      <td>40</td>\n",
       "      <td>50</td>\n",
       "    </tr>\n",
       "    <tr>\n",
       "      <th>Final</th>\n",
       "      <td>128</td>\n",
       "      <td>43</td>\n",
       "      <td>84</td>\n",
       "    </tr>\n",
       "    <tr>\n",
       "      <th rowspan=\"2\" valign=\"top\">Kobe</th>\n",
       "      <th>Midterm</th>\n",
       "      <td>91</td>\n",
       "      <td>72</td>\n",
       "      <td>33</td>\n",
       "    </tr>\n",
       "    <tr>\n",
       "      <th>Final</th>\n",
       "      <td>39</td>\n",
       "      <td>22</td>\n",
       "      <td>120</td>\n",
       "    </tr>\n",
       "    <tr>\n",
       "      <th rowspan=\"2\" valign=\"top\">James</th>\n",
       "      <th>Midterm</th>\n",
       "      <td>67</td>\n",
       "      <td>84</td>\n",
       "      <td>126</td>\n",
       "    </tr>\n",
       "    <tr>\n",
       "      <th>Final</th>\n",
       "      <td>52</td>\n",
       "      <td>60</td>\n",
       "      <td>80</td>\n",
       "    </tr>\n",
       "  </tbody>\n",
       "</table>\n",
       "</div>"
      ],
      "text/plain": [
       "                 Verbal  Math  Python\n",
       "Michael Midterm      56    40      50\n",
       "        Final       128    43      84\n",
       "Kobe    Midterm      91    72      33\n",
       "        Final        39    22     120\n",
       "James   Midterm      67    84     126\n",
       "        Final        52    60      80"
      ]
     },
     "execution_count": 62,
     "metadata": {},
     "output_type": "execute_result"
    }
   ],
   "source": [
    "# Prepare the data\n",
    "df = pd.DataFrame(np.random.randint(0, 150, size = (6,3)), \n",
    "                  columns = ['Verbal', 'Math', 'Python'], \n",
    "                  index = pd.MultiIndex.from_product([['Michael','Kobe','James'],['Midterm','Final']]))\n",
    "df"
   ]
  },
  {
   "cell_type": "code",
   "execution_count": 63,
   "id": "a3b2cc2c",
   "metadata": {},
   "outputs": [
    {
     "data": {
      "text/plain": [
       "MultiIndex([('Michael', 'Midterm'),\n",
       "            ('Michael',   'Final'),\n",
       "            (   'Kobe', 'Midterm'),\n",
       "            (   'Kobe',   'Final'),\n",
       "            (  'James', 'Midterm'),\n",
       "            (  'James',   'Final')],\n",
       "           )"
      ]
     },
     "execution_count": 63,
     "metadata": {},
     "output_type": "execute_result"
    }
   ],
   "source": [
    "df.index"
   ]
  },
  {
   "cell_type": "code",
   "execution_count": 64,
   "id": "3417810c",
   "metadata": {},
   "outputs": [
    {
     "data": {
      "text/plain": [
       "Index(['Michael', 'Michael', 'Kobe', 'Kobe', 'James', 'James'], dtype='object')"
      ]
     },
     "execution_count": 64,
     "metadata": {},
     "output_type": "execute_result"
    }
   ],
   "source": [
    "# Get the first-level index values\n",
    "df.index.get_level_values(0)"
   ]
  },
  {
   "cell_type": "code",
   "execution_count": 65,
   "id": "5949ba6b",
   "metadata": {},
   "outputs": [
    {
     "data": {
      "text/plain": [
       "Index(['Midterm', 'Final', 'Midterm', 'Final', 'Midterm', 'Final'], dtype='object')"
      ]
     },
     "execution_count": 65,
     "metadata": {},
     "output_type": "execute_result"
    }
   ],
   "source": [
    "# Get the second-level index values\n",
    "df.index.get_level_values(1)"
   ]
  },
  {
   "cell_type": "code",
   "execution_count": 66,
   "id": "0d593bf5",
   "metadata": {},
   "outputs": [
    {
     "data": {
      "text/html": [
       "<div>\n",
       "<style scoped>\n",
       "    .dataframe tbody tr th:only-of-type {\n",
       "        vertical-align: middle;\n",
       "    }\n",
       "\n",
       "    .dataframe tbody tr th {\n",
       "        vertical-align: top;\n",
       "    }\n",
       "\n",
       "    .dataframe thead th {\n",
       "        text-align: right;\n",
       "    }\n",
       "</style>\n",
       "<table border=\"1\" class=\"dataframe\">\n",
       "  <thead>\n",
       "    <tr style=\"text-align: right;\">\n",
       "      <th></th>\n",
       "      <th>Verbal</th>\n",
       "      <th>Math</th>\n",
       "      <th>Python</th>\n",
       "    </tr>\n",
       "  </thead>\n",
       "  <tbody>\n",
       "    <tr>\n",
       "      <th>Midterm</th>\n",
       "      <td>67</td>\n",
       "      <td>84</td>\n",
       "      <td>126</td>\n",
       "    </tr>\n",
       "    <tr>\n",
       "      <th>Final</th>\n",
       "      <td>52</td>\n",
       "      <td>60</td>\n",
       "      <td>80</td>\n",
       "    </tr>\n",
       "  </tbody>\n",
       "</table>\n",
       "</div>"
      ],
      "text/plain": [
       "         Verbal  Math  Python\n",
       "Midterm      67    84     126\n",
       "Final        52    60      80"
      ]
     },
     "execution_count": 66,
     "metadata": {},
     "output_type": "execute_result"
    }
   ],
   "source": [
    "df.loc['James',:]"
   ]
  },
  {
   "cell_type": "code",
   "execution_count": 67,
   "id": "1022985e",
   "metadata": {},
   "outputs": [
    {
     "data": {
      "text/plain": [
       "array([ True,  True, False, False, False, False])"
      ]
     },
     "execution_count": 67,
     "metadata": {},
     "output_type": "execute_result"
    }
   ],
   "source": [
    "df.index.get_level_values(0) == \"Michael\" # return True and False"
   ]
  },
  {
   "cell_type": "code",
   "execution_count": 68,
   "id": "27cc71e8",
   "metadata": {},
   "outputs": [
    {
     "data": {
      "text/html": [
       "<div>\n",
       "<style scoped>\n",
       "    .dataframe tbody tr th:only-of-type {\n",
       "        vertical-align: middle;\n",
       "    }\n",
       "\n",
       "    .dataframe tbody tr th {\n",
       "        vertical-align: top;\n",
       "    }\n",
       "\n",
       "    .dataframe thead th {\n",
       "        text-align: right;\n",
       "    }\n",
       "</style>\n",
       "<table border=\"1\" class=\"dataframe\">\n",
       "  <thead>\n",
       "    <tr style=\"text-align: right;\">\n",
       "      <th></th>\n",
       "      <th></th>\n",
       "      <th>Verbal</th>\n",
       "      <th>Math</th>\n",
       "      <th>Python</th>\n",
       "    </tr>\n",
       "  </thead>\n",
       "  <tbody>\n",
       "    <tr>\n",
       "      <th rowspan=\"2\" valign=\"top\">Michael</th>\n",
       "      <th>Midterm</th>\n",
       "      <td>56</td>\n",
       "      <td>40</td>\n",
       "      <td>50</td>\n",
       "    </tr>\n",
       "    <tr>\n",
       "      <th>Final</th>\n",
       "      <td>128</td>\n",
       "      <td>43</td>\n",
       "      <td>84</td>\n",
       "    </tr>\n",
       "  </tbody>\n",
       "</table>\n",
       "</div>"
      ],
      "text/plain": [
       "                 Verbal  Math  Python\n",
       "Michael Midterm      56    40      50\n",
       "        Final       128    43      84"
      ]
     },
     "execution_count": 68,
     "metadata": {},
     "output_type": "execute_result"
    }
   ],
   "source": [
    "df[df.index.get_level_values(0) == 'Michael']"
   ]
  },
  {
   "cell_type": "code",
   "execution_count": 69,
   "id": "459ea549",
   "metadata": {},
   "outputs": [
    {
     "data": {
      "text/html": [
       "<div>\n",
       "<style scoped>\n",
       "    .dataframe tbody tr th:only-of-type {\n",
       "        vertical-align: middle;\n",
       "    }\n",
       "\n",
       "    .dataframe tbody tr th {\n",
       "        vertical-align: top;\n",
       "    }\n",
       "\n",
       "    .dataframe thead th {\n",
       "        text-align: right;\n",
       "    }\n",
       "</style>\n",
       "<table border=\"1\" class=\"dataframe\">\n",
       "  <thead>\n",
       "    <tr style=\"text-align: right;\">\n",
       "      <th></th>\n",
       "      <th></th>\n",
       "      <th>Verbal</th>\n",
       "      <th>Math</th>\n",
       "      <th>Python</th>\n",
       "    </tr>\n",
       "  </thead>\n",
       "  <tbody>\n",
       "    <tr>\n",
       "      <th>Michael</th>\n",
       "      <th>Midterm</th>\n",
       "      <td>56</td>\n",
       "      <td>40</td>\n",
       "      <td>50</td>\n",
       "    </tr>\n",
       "    <tr>\n",
       "      <th>Kobe</th>\n",
       "      <th>Midterm</th>\n",
       "      <td>91</td>\n",
       "      <td>72</td>\n",
       "      <td>33</td>\n",
       "    </tr>\n",
       "    <tr>\n",
       "      <th>James</th>\n",
       "      <th>Midterm</th>\n",
       "      <td>67</td>\n",
       "      <td>84</td>\n",
       "      <td>126</td>\n",
       "    </tr>\n",
       "  </tbody>\n",
       "</table>\n",
       "</div>"
      ],
      "text/plain": [
       "                 Verbal  Math  Python\n",
       "Michael Midterm      56    40      50\n",
       "Kobe    Midterm      91    72      33\n",
       "James   Midterm      67    84     126"
      ]
     },
     "execution_count": 69,
     "metadata": {},
     "output_type": "execute_result"
    }
   ],
   "source": [
    "df[df.index.get_level_values(1) == 'Midterm']"
   ]
  },
  {
   "cell_type": "code",
   "execution_count": 70,
   "id": "753582dd",
   "metadata": {},
   "outputs": [
    {
     "data": {
      "text/plain": [
       "Verbal     67\n",
       "Math       84\n",
       "Python    126\n",
       "Name: (James, Midterm), dtype: int32"
      ]
     },
     "execution_count": 70,
     "metadata": {},
     "output_type": "execute_result"
    }
   ],
   "source": [
    "df.loc[(\"James\",\"Midterm\"),:]"
   ]
  }
 ],
 "metadata": {
  "kernelspec": {
   "display_name": "Python 3 (ipykernel)",
   "language": "python",
   "name": "python3"
  },
  "language_info": {
   "codemirror_mode": {
    "name": "ipython",
    "version": 3
   },
   "file_extension": ".py",
   "mimetype": "text/x-python",
   "name": "python",
   "nbconvert_exporter": "python",
   "pygments_lexer": "ipython3",
   "version": "3.10.7"
  },
  "toc": {
   "base_numbering": 1,
   "nav_menu": {},
   "number_sections": true,
   "sideBar": true,
   "skip_h1_title": false,
   "title_cell": "Table of Contents",
   "title_sidebar": "Contents",
   "toc_cell": false,
   "toc_position": {
    "height": "calc(100% - 180px)",
    "left": "10px",
    "top": "150px",
    "width": "406.875px"
   },
   "toc_section_display": true,
   "toc_window_display": true
  }
 },
 "nbformat": 4,
 "nbformat_minor": 5
}
