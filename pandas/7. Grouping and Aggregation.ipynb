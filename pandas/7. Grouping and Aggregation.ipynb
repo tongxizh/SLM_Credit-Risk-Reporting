{
 "cells": [
  {
   "cell_type": "code",
   "execution_count": 1,
   "id": "bee15521",
   "metadata": {},
   "outputs": [
    {
     "name": "stdout",
     "output_type": "stream",
     "text": [
      "2.0.2\n"
     ]
    }
   ],
   "source": [
    "import numpy as np\n",
    "import pandas as pd\n",
    "print(pd.__version__)"
   ]
  },
  {
   "cell_type": "markdown",
   "id": "f1179bc0",
   "metadata": {},
   "source": [
    "Grouping and Aggregation\n",
    "==============\n",
    "\n",
    "Grouping and aggregation are powerful techniques in data analysis that allow us to summarize and analyze data based on different categories or groups. By grouping data, we can apply various statistical functions to obtain meaningful insights and summaries.\n",
    "\n",
    "Pandas provides efficient methods for grouping and aggregating data. We can group data based on one or more columns and perform operations such as counting, summing, averaging, and more on the grouped data."
   ]
  },
  {
   "cell_type": "markdown",
   "id": "58e9e26c",
   "metadata": {},
   "source": [
    "# Grouping Steps and applications\n",
    "\n",
    "## Grouping steps\n",
    "\n",
    "The grouping function in pandas is `groupby`, which is essentially a split-apply-combine process, commonly abbreviated as SAC. Grouping refers to a process that involves one or more of the following steps.\n",
    "\n",
    "* Splitting: Dividing the data into groups based on specific criteria or columns.\n",
    "* Applying: Performing computations or transformations on each group independently.\n",
    "* Combining: Combining the results of the computations into a consolidated output."
   ]
  },
  {
   "cell_type": "markdown",
   "id": "28a39efe",
   "metadata": {},
   "source": [
    "## Grouping applications\n",
    "\n",
    "* **Aggregation**: Compute summary statistics for each group. For example:\n",
    "\n",
    "    - Calculate the sum or mean within each group.\n",
    "\n",
    "    - Determine the count or size of each group.\n",
    "\n",
    "* **Transformation**: Perform calculations specific to each group and return an object with a similar index. For example:\n",
    "\n",
    "    - Standardize data within each group using z-scores.\n",
    "\n",
    "    - Fill missing values within each group using derived values from the group.\n",
    "\n",
    "* **Filtration**: Drop certain groups based on an evaluation that results in True or False. For example:\n",
    "\n",
    "    - Discard data belonging to groups with only a few members.\n",
    "\n",
    "    - Filter data based on the sum or mean of each group.\n",
    "\n",
    "\n",
    "A combination of the above: `GroupBy` examines the result of the apply step and attempts to return a sensible combination result when it doesn't fit into the aforementioned categories.\n",
    "\n",
    "These various applications of `groupby` provide flexibility in data analysis, allowing us to compute group-specific statistics, apply transformations within groups, and filter data based on group characteristics. The `GroupBy` functionality in pandas offers a powerful toolset for handling and analyzing grouped data effectively."
   ]
  },
  {
   "cell_type": "markdown",
   "id": "713dfb1e",
   "metadata": {},
   "source": [
    "# Grouping Functions\n",
    "## `groupby`\n",
    "\n",
    "```python\n",
    "\n",
    "groupby(by = None, axis = 0, level = None, as_index = True, sort = True, group_keys = True, observed = False, dropna = True)\n",
    "```\n",
    "\n",
    "* `by`: Specifies the column name(s) or other criteria to group the DataFrame. It can be a single column name, a list of column names, a function, or a dictionary mapping column names to group values.\n",
    "\n",
    "* `axis`: Specifies the axis along which the grouping is performed. axis=0 groups the DataFrame by rows (along the index), and axis=1 groups by columns.\n",
    "\n",
    "* `level`: Specifies the level(s) (if the DataFrame has a hierarchical index) on which to group the DataFrame.\n",
    "\n",
    "* `as_index`: Specifies whether to use the grouped columns as the index of the resulting DataFrame. The default value is True.\n",
    "\n",
    "* `sort`: Specifies whether to sort the resulting groups by the group keys. The default value is True.\n",
    "\n",
    "* `group_keys`: Specifies whether to include the group keys in the resulting DataFrame index. The default value is True.\n",
    "\n",
    "* `squeeze`: Specifies whether to squeeze a grouped DataFrame into a Series if possible. The default value is False.\n",
    "\n",
    "* `observed`: Specifies whether to include only observed values when dealing with categorical data. The default value is False."
   ]
  },
  {
   "cell_type": "code",
   "execution_count": 2,
   "id": "ed4914c1",
   "metadata": {},
   "outputs": [
    {
     "data": {
      "text/html": [
       "<div>\n",
       "<style scoped>\n",
       "    .dataframe tbody tr th:only-of-type {\n",
       "        vertical-align: middle;\n",
       "    }\n",
       "\n",
       "    .dataframe tbody tr th {\n",
       "        vertical-align: top;\n",
       "    }\n",
       "\n",
       "    .dataframe thead th {\n",
       "        text-align: right;\n",
       "    }\n",
       "</style>\n",
       "<table border=\"1\" class=\"dataframe\">\n",
       "  <thead>\n",
       "    <tr style=\"text-align: right;\">\n",
       "      <th></th>\n",
       "      <th>age</th>\n",
       "      <th>city</th>\n",
       "      <th>sex</th>\n",
       "      <th>income</th>\n",
       "    </tr>\n",
       "    <tr>\n",
       "      <th>name</th>\n",
       "      <th></th>\n",
       "      <th></th>\n",
       "      <th></th>\n",
       "      <th></th>\n",
       "    </tr>\n",
       "  </thead>\n",
       "  <tbody>\n",
       "    <tr>\n",
       "      <th>A</th>\n",
       "      <td>18.0</td>\n",
       "      <td>New York</td>\n",
       "      <td>male</td>\n",
       "      <td>3000</td>\n",
       "    </tr>\n",
       "    <tr>\n",
       "      <th>B</th>\n",
       "      <td>30.0</td>\n",
       "      <td>Los Angeles</td>\n",
       "      <td>male</td>\n",
       "      <td>8000</td>\n",
       "    </tr>\n",
       "    <tr>\n",
       "      <th>C</th>\n",
       "      <td>35.0</td>\n",
       "      <td>Huston</td>\n",
       "      <td>female</td>\n",
       "      <td>8000</td>\n",
       "    </tr>\n",
       "    <tr>\n",
       "      <th>D</th>\n",
       "      <td>18.0</td>\n",
       "      <td>Orlando</td>\n",
       "      <td>male</td>\n",
       "      <td>4000</td>\n",
       "    </tr>\n",
       "    <tr>\n",
       "      <th>E</th>\n",
       "      <td>NaN</td>\n",
       "      <td>NaN</td>\n",
       "      <td>female</td>\n",
       "      <td>6000</td>\n",
       "    </tr>\n",
       "    <tr>\n",
       "      <th>F</th>\n",
       "      <td>30.0</td>\n",
       "      <td></td>\n",
       "      <td>female</td>\n",
       "      <td>7000</td>\n",
       "    </tr>\n",
       "    <tr>\n",
       "      <th>G</th>\n",
       "      <td>37.0</td>\n",
       "      <td>Miami</td>\n",
       "      <td>male</td>\n",
       "      <td>10000</td>\n",
       "    </tr>\n",
       "    <tr>\n",
       "      <th>H</th>\n",
       "      <td>25.0</td>\n",
       "      <td>Chicago</td>\n",
       "      <td>male</td>\n",
       "      <td>70000</td>\n",
       "    </tr>\n",
       "  </tbody>\n",
       "</table>\n",
       "</div>"
      ],
      "text/plain": [
       "       age         city     sex  income\n",
       "name                                   \n",
       "A     18.0     New York    male    3000\n",
       "B     30.0  Los Angeles    male    8000\n",
       "C     35.0       Huston  female    8000\n",
       "D     18.0      Orlando    male    4000\n",
       "E      NaN          NaN  female    6000\n",
       "F     30.0               female    7000\n",
       "G     37.0        Miami    male   10000\n",
       "H     25.0      Chicago    male   70000"
      ]
     },
     "execution_count": 2,
     "metadata": {},
     "output_type": "execute_result"
    }
   ],
   "source": [
    "index = pd.Index(data = [\"A\", \"B\", \"C\", \"D\", \"E\", \"F\", \"G\",'H'], name=\"name\")\n",
    "data = {\n",
    "    \"age\": [18, 30, 35, 18, np.nan, 30, 37, 25],\n",
    "    \"city\": [\"New York\", \"Los Angeles\", \"Huston\", \"Orlando\", np.nan, \" \", \"Miami\", \"Chicago\"],\n",
    "    \"sex\": [\"male\", \"male\", \"female\", \"male\", \"female\", \"female\", \"male\", \"male\"],\n",
    "    \"income\": [3000, 8000, 8000, 4000, 6000, 7000, 10000, 70000]\n",
    "}\n",
    "user_info = pd.DataFrame(data = data, index = index)\n",
    "user_info"
   ]
  },
  {
   "cell_type": "code",
   "execution_count": 4,
   "id": "dd033562",
   "metadata": {},
   "outputs": [
    {
     "data": {
      "text/plain": [
       "<pandas.core.groupby.generic.DataFrameGroupBy object at 0x0000028093C81540>"
      ]
     },
     "execution_count": 4,
     "metadata": {},
     "output_type": "execute_result"
    }
   ],
   "source": [
    "# Groupby sex\n",
    "user_info_sex_group = user_info.groupby(\"sex\")\n",
    "user_info_sex_group"
   ]
  },
  {
   "cell_type": "code",
   "execution_count": 5,
   "id": "733691a4",
   "metadata": {},
   "outputs": [
    {
     "data": {
      "text/plain": [
       "{'female': ['C', 'E', 'F'], 'male': ['A', 'B', 'D', 'G', 'H']}"
      ]
     },
     "execution_count": 5,
     "metadata": {},
     "output_type": "execute_result"
    }
   ],
   "source": [
    "# Look up the grouping infomation\n",
    "user_info_sex_group.groups"
   ]
  },
  {
   "cell_type": "code",
   "execution_count": 6,
   "id": "1eb6fe29",
   "metadata": {},
   "outputs": [
    {
     "data": {
      "text/html": [
       "<div>\n",
       "<style scoped>\n",
       "    .dataframe tbody tr th:only-of-type {\n",
       "        vertical-align: middle;\n",
       "    }\n",
       "\n",
       "    .dataframe tbody tr th {\n",
       "        vertical-align: top;\n",
       "    }\n",
       "\n",
       "    .dataframe thead th {\n",
       "        text-align: right;\n",
       "    }\n",
       "</style>\n",
       "<table border=\"1\" class=\"dataframe\">\n",
       "  <thead>\n",
       "    <tr style=\"text-align: right;\">\n",
       "      <th></th>\n",
       "      <th>age</th>\n",
       "      <th>city</th>\n",
       "      <th>sex</th>\n",
       "      <th>income</th>\n",
       "    </tr>\n",
       "    <tr>\n",
       "      <th>name</th>\n",
       "      <th></th>\n",
       "      <th></th>\n",
       "      <th></th>\n",
       "      <th></th>\n",
       "    </tr>\n",
       "  </thead>\n",
       "  <tbody>\n",
       "    <tr>\n",
       "      <th>A</th>\n",
       "      <td>18.0</td>\n",
       "      <td>New York</td>\n",
       "      <td>male</td>\n",
       "      <td>3000</td>\n",
       "    </tr>\n",
       "    <tr>\n",
       "      <th>B</th>\n",
       "      <td>30.0</td>\n",
       "      <td>Los Angeles</td>\n",
       "      <td>male</td>\n",
       "      <td>8000</td>\n",
       "    </tr>\n",
       "    <tr>\n",
       "      <th>D</th>\n",
       "      <td>18.0</td>\n",
       "      <td>Orlando</td>\n",
       "      <td>male</td>\n",
       "      <td>4000</td>\n",
       "    </tr>\n",
       "    <tr>\n",
       "      <th>G</th>\n",
       "      <td>37.0</td>\n",
       "      <td>Miami</td>\n",
       "      <td>male</td>\n",
       "      <td>10000</td>\n",
       "    </tr>\n",
       "    <tr>\n",
       "      <th>H</th>\n",
       "      <td>25.0</td>\n",
       "      <td>Chicago</td>\n",
       "      <td>male</td>\n",
       "      <td>70000</td>\n",
       "    </tr>\n",
       "  </tbody>\n",
       "</table>\n",
       "</div>"
      ],
      "text/plain": [
       "       age         city   sex  income\n",
       "name                                 \n",
       "A     18.0     New York  male    3000\n",
       "B     30.0  Los Angeles  male    8000\n",
       "D     18.0      Orlando  male    4000\n",
       "G     37.0        Miami  male   10000\n",
       "H     25.0      Chicago  male   70000"
      ]
     },
     "execution_count": 6,
     "metadata": {},
     "output_type": "execute_result"
    }
   ],
   "source": [
    "# Look up the male info\n",
    "user_info_sex_group.get_group('male')"
   ]
  },
  {
   "cell_type": "code",
   "execution_count": 7,
   "id": "82ad8c50",
   "metadata": {},
   "outputs": [
    {
     "data": {
      "text/html": [
       "<div>\n",
       "<style scoped>\n",
       "    .dataframe tbody tr th:only-of-type {\n",
       "        vertical-align: middle;\n",
       "    }\n",
       "\n",
       "    .dataframe tbody tr th {\n",
       "        vertical-align: top;\n",
       "    }\n",
       "\n",
       "    .dataframe thead th {\n",
       "        text-align: right;\n",
       "    }\n",
       "</style>\n",
       "<table border=\"1\" class=\"dataframe\">\n",
       "  <thead>\n",
       "    <tr style=\"text-align: right;\">\n",
       "      <th></th>\n",
       "      <th>age</th>\n",
       "      <th>city</th>\n",
       "      <th>sex</th>\n",
       "      <th>income</th>\n",
       "    </tr>\n",
       "    <tr>\n",
       "      <th>name</th>\n",
       "      <th></th>\n",
       "      <th></th>\n",
       "      <th></th>\n",
       "      <th></th>\n",
       "    </tr>\n",
       "  </thead>\n",
       "  <tbody>\n",
       "    <tr>\n",
       "      <th>C</th>\n",
       "      <td>35.0</td>\n",
       "      <td>Huston</td>\n",
       "      <td>female</td>\n",
       "      <td>8000</td>\n",
       "    </tr>\n",
       "    <tr>\n",
       "      <th>E</th>\n",
       "      <td>NaN</td>\n",
       "      <td>NaN</td>\n",
       "      <td>female</td>\n",
       "      <td>6000</td>\n",
       "    </tr>\n",
       "    <tr>\n",
       "      <th>F</th>\n",
       "      <td>30.0</td>\n",
       "      <td></td>\n",
       "      <td>female</td>\n",
       "      <td>7000</td>\n",
       "    </tr>\n",
       "  </tbody>\n",
       "</table>\n",
       "</div>"
      ],
      "text/plain": [
       "       age    city     sex  income\n",
       "name                              \n",
       "C     35.0  Huston  female    8000\n",
       "E      NaN     NaN  female    6000\n",
       "F     30.0          female    7000"
      ]
     },
     "execution_count": 7,
     "metadata": {},
     "output_type": "execute_result"
    }
   ],
   "source": [
    "# Look up the femail info\n",
    "user_info_sex_group.get_group('female')"
   ]
  },
  {
   "cell_type": "code",
   "execution_count": null,
   "id": "1dcfeb55",
   "metadata": {},
   "outputs": [],
   "source": []
  },
  {
   "cell_type": "code",
   "execution_count": null,
   "id": "260a95a9",
   "metadata": {},
   "outputs": [],
   "source": []
  },
  {
   "cell_type": "code",
   "execution_count": null,
   "id": "8631d432",
   "metadata": {},
   "outputs": [],
   "source": []
  },
  {
   "cell_type": "code",
   "execution_count": null,
   "id": "b93da1ac",
   "metadata": {},
   "outputs": [],
   "source": []
  },
  {
   "cell_type": "code",
   "execution_count": null,
   "id": "d32a3720",
   "metadata": {},
   "outputs": [],
   "source": []
  },
  {
   "cell_type": "code",
   "execution_count": null,
   "id": "2e1ee90f",
   "metadata": {},
   "outputs": [],
   "source": []
  },
  {
   "cell_type": "code",
   "execution_count": null,
   "id": "77da6619",
   "metadata": {},
   "outputs": [],
   "source": []
  },
  {
   "cell_type": "code",
   "execution_count": null,
   "id": "5a4b9009",
   "metadata": {},
   "outputs": [],
   "source": []
  },
  {
   "cell_type": "code",
   "execution_count": null,
   "id": "3a19277b",
   "metadata": {},
   "outputs": [],
   "source": []
  },
  {
   "cell_type": "code",
   "execution_count": null,
   "id": "2b712449",
   "metadata": {},
   "outputs": [],
   "source": []
  },
  {
   "cell_type": "code",
   "execution_count": null,
   "id": "c995fa23",
   "metadata": {},
   "outputs": [],
   "source": []
  },
  {
   "cell_type": "code",
   "execution_count": null,
   "id": "c0fdf6c5",
   "metadata": {},
   "outputs": [],
   "source": []
  },
  {
   "cell_type": "code",
   "execution_count": null,
   "id": "ee36bd32",
   "metadata": {},
   "outputs": [],
   "source": []
  },
  {
   "cell_type": "code",
   "execution_count": null,
   "id": "037df2f4",
   "metadata": {},
   "outputs": [],
   "source": []
  },
  {
   "cell_type": "code",
   "execution_count": null,
   "id": "66065d1d",
   "metadata": {},
   "outputs": [],
   "source": []
  },
  {
   "cell_type": "code",
   "execution_count": null,
   "id": "0215c2f1",
   "metadata": {},
   "outputs": [],
   "source": []
  },
  {
   "cell_type": "code",
   "execution_count": null,
   "id": "f76e3a18",
   "metadata": {},
   "outputs": [],
   "source": []
  },
  {
   "cell_type": "code",
   "execution_count": null,
   "id": "cca2ac9b",
   "metadata": {},
   "outputs": [],
   "source": []
  },
  {
   "cell_type": "code",
   "execution_count": null,
   "id": "7c28aaa9",
   "metadata": {},
   "outputs": [],
   "source": []
  },
  {
   "cell_type": "code",
   "execution_count": null,
   "id": "5baa6e21",
   "metadata": {},
   "outputs": [],
   "source": []
  }
 ],
 "metadata": {
  "kernelspec": {
   "display_name": "Python 3 (ipykernel)",
   "language": "python",
   "name": "python3"
  },
  "language_info": {
   "codemirror_mode": {
    "name": "ipython",
    "version": 3
   },
   "file_extension": ".py",
   "mimetype": "text/x-python",
   "name": "python",
   "nbconvert_exporter": "python",
   "pygments_lexer": "ipython3",
   "version": "3.10.7"
  },
  "toc": {
   "base_numbering": 1,
   "nav_menu": {},
   "number_sections": true,
   "sideBar": true,
   "skip_h1_title": false,
   "title_cell": "Table of Contents",
   "title_sidebar": "Contents",
   "toc_cell": false,
   "toc_position": {},
   "toc_section_display": true,
   "toc_window_display": false
  }
 },
 "nbformat": 4,
 "nbformat_minor": 5
}
