{
 "cells": [
  {
   "cell_type": "code",
   "execution_count": 1,
   "id": "bee15521",
   "metadata": {},
   "outputs": [
    {
     "name": "stdout",
     "output_type": "stream",
     "text": [
      "2.0.2\n"
     ]
    }
   ],
   "source": [
    "import numpy as np\n",
    "import pandas as pd\n",
    "print(pd.__version__)"
   ]
  },
  {
   "cell_type": "markdown",
   "id": "f1179bc0",
   "metadata": {},
   "source": [
    "Grouping and Aggregation\n",
    "==============\n",
    "\n",
    "Grouping and aggregation are powerful techniques in data analysis that allow us to summarize and analyze data based on different categories or groups. By grouping data, we can apply various statistical functions to obtain meaningful insights and summaries.\n",
    "\n",
    "Pandas provides efficient methods for grouping and aggregating data. We can group data based on one or more columns and perform operations such as counting, summing, averaging, and more on the grouped data."
   ]
  },
  {
   "cell_type": "markdown",
   "id": "58e9e26c",
   "metadata": {},
   "source": [
    "# Grouping Steps and applications\n",
    "\n",
    "## Grouping steps\n",
    "\n",
    "The grouping function in pandas is `groupby`, which is essentially a split-apply-combine process, commonly abbreviated as **SAC**. Grouping refers to a process that involves one or more of the following steps.\n",
    "\n",
    "* Splitting: Dividing the data into groups based on specific criteria or columns.\n",
    "* Applying: Performing computations or transformations on each group independently.\n",
    "* Combining: Combining the results of the computations into a consolidated output."
   ]
  },
  {
   "cell_type": "markdown",
   "id": "28a39efe",
   "metadata": {},
   "source": [
    "## Grouping applications\n",
    "\n",
    "* **Aggregation**: Compute summary statistics for each group. For example:\n",
    "\n",
    "    - Calculate the sum or mean within each group.\n",
    "\n",
    "    - Determine the count or size of each group.\n",
    "\n",
    "* **Transformation**: Perform calculations specific to each group and return an object with a similar index. For example:\n",
    "\n",
    "    - Standardize data within each group using z-scores.\n",
    "\n",
    "    - Fill missing values within each group using derived values from the group.\n",
    "\n",
    "* **Filtration**: Drop certain groups based on an evaluation that results in True or False. For example:\n",
    "\n",
    "    - Discard data belonging to groups with only a few members.\n",
    "\n",
    "    - Filter data based on the sum or mean of each group.\n",
    "\n",
    "\n",
    "A combination of the above: `GroupBy` examines the result of the apply step and attempts to return a sensible combination result when it doesn't fit into the aforementioned categories.\n",
    "\n",
    "These various applications of `groupby` provide flexibility in data analysis, allowing us to compute group-specific statistics, apply transformations within groups, and filter data based on group characteristics. The `GroupBy` functionality in pandas offers a powerful toolset for handling and analyzing grouped data effectively."
   ]
  },
  {
   "cell_type": "markdown",
   "id": "713dfb1e",
   "metadata": {},
   "source": [
    "# Grouping Functions\n",
    "## `groupby`\n",
    "\n",
    "```python\n",
    "\n",
    "groupby(by = None, axis = 0, level = None, as_index = True, sort = True, group_keys = True, observed = False, dropna = True)\n",
    "```\n",
    "\n",
    "* `by`: Specifies the column name(s) or other criteria to group the DataFrame. It can be a single column name, a list of column names, a function, or a dictionary mapping column names to group values.\n",
    "\n",
    "* `axis`: Specifies the axis along which the grouping is performed. axis=0 groups the DataFrame by rows (along the index), and axis=1 groups by columns.\n",
    "\n",
    "* `level`: Specifies the level(s) (if the DataFrame has a hierarchical index) on which to group the DataFrame.\n",
    "\n",
    "* `as_index`: Specifies whether to use the grouped columns as the index of the resulting DataFrame. The default value is True.\n",
    "\n",
    "* `sort`: Specifies whether to sort the resulting groups by the group keys. The default value is True.\n",
    "\n",
    "* `group_keys`: Specifies whether to include the group keys in the resulting DataFrame index. The default value is True.\n",
    "\n",
    "* `squeeze`: Specifies whether to squeeze a grouped DataFrame into a Series if possible. The default value is False.\n",
    "\n",
    "* `observed`: Specifies whether to include only observed values when dealing with categorical data. The default value is False."
   ]
  },
  {
   "cell_type": "code",
   "execution_count": 2,
   "id": "ed4914c1",
   "metadata": {},
   "outputs": [
    {
     "data": {
      "text/html": [
       "<div>\n",
       "<style scoped>\n",
       "    .dataframe tbody tr th:only-of-type {\n",
       "        vertical-align: middle;\n",
       "    }\n",
       "\n",
       "    .dataframe tbody tr th {\n",
       "        vertical-align: top;\n",
       "    }\n",
       "\n",
       "    .dataframe thead th {\n",
       "        text-align: right;\n",
       "    }\n",
       "</style>\n",
       "<table border=\"1\" class=\"dataframe\">\n",
       "  <thead>\n",
       "    <tr style=\"text-align: right;\">\n",
       "      <th></th>\n",
       "      <th>age</th>\n",
       "      <th>city</th>\n",
       "      <th>gender</th>\n",
       "      <th>income</th>\n",
       "    </tr>\n",
       "    <tr>\n",
       "      <th>name</th>\n",
       "      <th></th>\n",
       "      <th></th>\n",
       "      <th></th>\n",
       "      <th></th>\n",
       "    </tr>\n",
       "  </thead>\n",
       "  <tbody>\n",
       "    <tr>\n",
       "      <th>A</th>\n",
       "      <td>18.0</td>\n",
       "      <td>New York</td>\n",
       "      <td>male</td>\n",
       "      <td>3000</td>\n",
       "    </tr>\n",
       "    <tr>\n",
       "      <th>B</th>\n",
       "      <td>30.0</td>\n",
       "      <td>Los Angeles</td>\n",
       "      <td>male</td>\n",
       "      <td>8000</td>\n",
       "    </tr>\n",
       "    <tr>\n",
       "      <th>C</th>\n",
       "      <td>35.0</td>\n",
       "      <td>Huston</td>\n",
       "      <td>female</td>\n",
       "      <td>8000</td>\n",
       "    </tr>\n",
       "    <tr>\n",
       "      <th>D</th>\n",
       "      <td>18.0</td>\n",
       "      <td>Orlando</td>\n",
       "      <td>male</td>\n",
       "      <td>4000</td>\n",
       "    </tr>\n",
       "    <tr>\n",
       "      <th>E</th>\n",
       "      <td>NaN</td>\n",
       "      <td>NaN</td>\n",
       "      <td>female</td>\n",
       "      <td>6000</td>\n",
       "    </tr>\n",
       "    <tr>\n",
       "      <th>F</th>\n",
       "      <td>30.0</td>\n",
       "      <td></td>\n",
       "      <td>female</td>\n",
       "      <td>7000</td>\n",
       "    </tr>\n",
       "    <tr>\n",
       "      <th>G</th>\n",
       "      <td>37.0</td>\n",
       "      <td>Miami</td>\n",
       "      <td>male</td>\n",
       "      <td>10000</td>\n",
       "    </tr>\n",
       "    <tr>\n",
       "      <th>H</th>\n",
       "      <td>25.0</td>\n",
       "      <td>Chicago</td>\n",
       "      <td>male</td>\n",
       "      <td>70000</td>\n",
       "    </tr>\n",
       "  </tbody>\n",
       "</table>\n",
       "</div>"
      ],
      "text/plain": [
       "       age         city  gender  income\n",
       "name                                   \n",
       "A     18.0     New York    male    3000\n",
       "B     30.0  Los Angeles    male    8000\n",
       "C     35.0       Huston  female    8000\n",
       "D     18.0      Orlando    male    4000\n",
       "E      NaN          NaN  female    6000\n",
       "F     30.0               female    7000\n",
       "G     37.0        Miami    male   10000\n",
       "H     25.0      Chicago    male   70000"
      ]
     },
     "execution_count": 2,
     "metadata": {},
     "output_type": "execute_result"
    }
   ],
   "source": [
    "index = pd.Index(data = [\"A\", \"B\", \"C\", \"D\", \"E\", \"F\", \"G\",'H'], name=\"name\")\n",
    "data = {\n",
    "    \"age\": [18, 30, 35, 18, np.nan, 30, 37, 25],\n",
    "    \"city\": [\"New York\", \"Los Angeles\", \"Huston\", \"Orlando\", np.nan, \" \", \"Miami\", \"Chicago\"],\n",
    "    \"gender\": [\"male\", \"male\", \"female\", \"male\", \"female\", \"female\", \"male\", \"male\"],\n",
    "    \"income\": [3000, 8000, 8000, 4000, 6000, 7000, 10000, 70000]\n",
    "}\n",
    "user_info = pd.DataFrame(data = data, index = index)\n",
    "user_info"
   ]
  },
  {
   "cell_type": "code",
   "execution_count": 3,
   "id": "dd033562",
   "metadata": {},
   "outputs": [
    {
     "data": {
      "text/plain": [
       "<pandas.core.groupby.generic.DataFrameGroupBy object at 0x0000019716EBB790>"
      ]
     },
     "execution_count": 3,
     "metadata": {},
     "output_type": "execute_result"
    }
   ],
   "source": [
    "# Groupby sex\n",
    "user_info_gender_group = user_info.groupby(\"gender\")\n",
    "user_info_gender_group"
   ]
  },
  {
   "cell_type": "code",
   "execution_count": 4,
   "id": "733691a4",
   "metadata": {},
   "outputs": [
    {
     "data": {
      "text/plain": [
       "{'female': ['C', 'E', 'F'], 'male': ['A', 'B', 'D', 'G', 'H']}"
      ]
     },
     "execution_count": 4,
     "metadata": {},
     "output_type": "execute_result"
    }
   ],
   "source": [
    "# Look up the grouping infomation\n",
    "user_info_gender_group.groups"
   ]
  },
  {
   "cell_type": "code",
   "execution_count": 5,
   "id": "1eb6fe29",
   "metadata": {},
   "outputs": [
    {
     "data": {
      "text/html": [
       "<div>\n",
       "<style scoped>\n",
       "    .dataframe tbody tr th:only-of-type {\n",
       "        vertical-align: middle;\n",
       "    }\n",
       "\n",
       "    .dataframe tbody tr th {\n",
       "        vertical-align: top;\n",
       "    }\n",
       "\n",
       "    .dataframe thead th {\n",
       "        text-align: right;\n",
       "    }\n",
       "</style>\n",
       "<table border=\"1\" class=\"dataframe\">\n",
       "  <thead>\n",
       "    <tr style=\"text-align: right;\">\n",
       "      <th></th>\n",
       "      <th>age</th>\n",
       "      <th>city</th>\n",
       "      <th>gender</th>\n",
       "      <th>income</th>\n",
       "    </tr>\n",
       "    <tr>\n",
       "      <th>name</th>\n",
       "      <th></th>\n",
       "      <th></th>\n",
       "      <th></th>\n",
       "      <th></th>\n",
       "    </tr>\n",
       "  </thead>\n",
       "  <tbody>\n",
       "    <tr>\n",
       "      <th>A</th>\n",
       "      <td>18.0</td>\n",
       "      <td>New York</td>\n",
       "      <td>male</td>\n",
       "      <td>3000</td>\n",
       "    </tr>\n",
       "    <tr>\n",
       "      <th>B</th>\n",
       "      <td>30.0</td>\n",
       "      <td>Los Angeles</td>\n",
       "      <td>male</td>\n",
       "      <td>8000</td>\n",
       "    </tr>\n",
       "    <tr>\n",
       "      <th>D</th>\n",
       "      <td>18.0</td>\n",
       "      <td>Orlando</td>\n",
       "      <td>male</td>\n",
       "      <td>4000</td>\n",
       "    </tr>\n",
       "    <tr>\n",
       "      <th>G</th>\n",
       "      <td>37.0</td>\n",
       "      <td>Miami</td>\n",
       "      <td>male</td>\n",
       "      <td>10000</td>\n",
       "    </tr>\n",
       "    <tr>\n",
       "      <th>H</th>\n",
       "      <td>25.0</td>\n",
       "      <td>Chicago</td>\n",
       "      <td>male</td>\n",
       "      <td>70000</td>\n",
       "    </tr>\n",
       "  </tbody>\n",
       "</table>\n",
       "</div>"
      ],
      "text/plain": [
       "       age         city gender  income\n",
       "name                                  \n",
       "A     18.0     New York   male    3000\n",
       "B     30.0  Los Angeles   male    8000\n",
       "D     18.0      Orlando   male    4000\n",
       "G     37.0        Miami   male   10000\n",
       "H     25.0      Chicago   male   70000"
      ]
     },
     "execution_count": 5,
     "metadata": {},
     "output_type": "execute_result"
    }
   ],
   "source": [
    "# Look up the male info\n",
    "user_info_gender_group.get_group('male')"
   ]
  },
  {
   "cell_type": "code",
   "execution_count": 6,
   "id": "82ad8c50",
   "metadata": {},
   "outputs": [
    {
     "data": {
      "text/html": [
       "<div>\n",
       "<style scoped>\n",
       "    .dataframe tbody tr th:only-of-type {\n",
       "        vertical-align: middle;\n",
       "    }\n",
       "\n",
       "    .dataframe tbody tr th {\n",
       "        vertical-align: top;\n",
       "    }\n",
       "\n",
       "    .dataframe thead th {\n",
       "        text-align: right;\n",
       "    }\n",
       "</style>\n",
       "<table border=\"1\" class=\"dataframe\">\n",
       "  <thead>\n",
       "    <tr style=\"text-align: right;\">\n",
       "      <th></th>\n",
       "      <th>age</th>\n",
       "      <th>city</th>\n",
       "      <th>gender</th>\n",
       "      <th>income</th>\n",
       "    </tr>\n",
       "    <tr>\n",
       "      <th>name</th>\n",
       "      <th></th>\n",
       "      <th></th>\n",
       "      <th></th>\n",
       "      <th></th>\n",
       "    </tr>\n",
       "  </thead>\n",
       "  <tbody>\n",
       "    <tr>\n",
       "      <th>C</th>\n",
       "      <td>35.0</td>\n",
       "      <td>Huston</td>\n",
       "      <td>female</td>\n",
       "      <td>8000</td>\n",
       "    </tr>\n",
       "    <tr>\n",
       "      <th>E</th>\n",
       "      <td>NaN</td>\n",
       "      <td>NaN</td>\n",
       "      <td>female</td>\n",
       "      <td>6000</td>\n",
       "    </tr>\n",
       "    <tr>\n",
       "      <th>F</th>\n",
       "      <td>30.0</td>\n",
       "      <td></td>\n",
       "      <td>female</td>\n",
       "      <td>7000</td>\n",
       "    </tr>\n",
       "  </tbody>\n",
       "</table>\n",
       "</div>"
      ],
      "text/plain": [
       "       age    city  gender  income\n",
       "name                              \n",
       "C     35.0  Huston  female    8000\n",
       "E      NaN     NaN  female    6000\n",
       "F     30.0          female    7000"
      ]
     },
     "execution_count": 6,
     "metadata": {},
     "output_type": "execute_result"
    }
   ],
   "source": [
    "# Look up the femail info\n",
    "user_info_gender_group.get_group('female')"
   ]
  },
  {
   "cell_type": "code",
   "execution_count": 7,
   "id": "1dcfeb55",
   "metadata": {},
   "outputs": [],
   "source": [
    "# To group the user_info DataFrame by both gender and age\n",
    "age_gender_group = user_info.groupby(['age', 'gender'])"
   ]
  },
  {
   "cell_type": "code",
   "execution_count": 8,
   "id": "260a95a9",
   "metadata": {},
   "outputs": [
    {
     "data": {
      "text/plain": [
       "{(18.0, 'male'): ['A', 'D'], (30.0, 'male'): ['B'], (35.0, 'female'): ['C'], (nan, 'female'): ['E'], (25.0, 'male'): ['H'], (30.0, 'female'): ['F'], (37.0, 'male'): ['G']}"
      ]
     },
     "execution_count": 8,
     "metadata": {},
     "output_type": "execute_result"
    }
   ],
   "source": [
    "age_gender_group.groups"
   ]
  },
  {
   "cell_type": "code",
   "execution_count": 9,
   "id": "8631d432",
   "metadata": {
    "scrolled": true
   },
   "outputs": [
    {
     "data": {
      "text/html": [
       "<div>\n",
       "<style scoped>\n",
       "    .dataframe tbody tr th:only-of-type {\n",
       "        vertical-align: middle;\n",
       "    }\n",
       "\n",
       "    .dataframe tbody tr th {\n",
       "        vertical-align: top;\n",
       "    }\n",
       "\n",
       "    .dataframe thead th {\n",
       "        text-align: right;\n",
       "    }\n",
       "</style>\n",
       "<table border=\"1\" class=\"dataframe\">\n",
       "  <thead>\n",
       "    <tr style=\"text-align: right;\">\n",
       "      <th></th>\n",
       "      <th>age</th>\n",
       "      <th>city</th>\n",
       "      <th>gender</th>\n",
       "      <th>income</th>\n",
       "    </tr>\n",
       "    <tr>\n",
       "      <th>name</th>\n",
       "      <th></th>\n",
       "      <th></th>\n",
       "      <th></th>\n",
       "      <th></th>\n",
       "    </tr>\n",
       "  </thead>\n",
       "  <tbody>\n",
       "    <tr>\n",
       "      <th>A</th>\n",
       "      <td>18.0</td>\n",
       "      <td>New York</td>\n",
       "      <td>male</td>\n",
       "      <td>3000</td>\n",
       "    </tr>\n",
       "    <tr>\n",
       "      <th>D</th>\n",
       "      <td>18.0</td>\n",
       "      <td>Orlando</td>\n",
       "      <td>male</td>\n",
       "      <td>4000</td>\n",
       "    </tr>\n",
       "  </tbody>\n",
       "</table>\n",
       "</div>"
      ],
      "text/plain": [
       "       age      city gender  income\n",
       "name                               \n",
       "A     18.0  New York   male    3000\n",
       "D     18.0   Orlando   male    4000"
      ]
     },
     "execution_count": 9,
     "metadata": {},
     "output_type": "execute_result"
    }
   ],
   "source": [
    "age_gender_group.get_group((18,\"male\")) # the tuple element order should be consitent with groupby"
   ]
  },
  {
   "cell_type": "markdown",
   "id": "5d09cf3a",
   "metadata": {},
   "source": [
    "##### By default, `groupby` sorts the data during the operation. To achieve better performance, we can set `sort = False`."
   ]
  },
  {
   "cell_type": "code",
   "execution_count": 10,
   "id": "d32a3720",
   "metadata": {},
   "outputs": [
    {
     "data": {
      "text/plain": [
       "{('female', 35.0): ['C'], ('female', nan): ['E'], ('female', 30.0): ['F'], ('male', 18.0): ['A', 'D'], ('male', 25.0): ['H'], ('male', 30.0): ['B'], ('male', 37.0): ['G']}"
      ]
     },
     "execution_count": 10,
     "metadata": {},
     "output_type": "execute_result"
    }
   ],
   "source": [
    "user_info_group = user_info.groupby(['gender', 'age'], sort = False)\n",
    "user_info_group.groups"
   ]
  },
  {
   "cell_type": "markdown",
   "id": "45a4e069",
   "metadata": {},
   "source": [
    "## Object property\n",
    "### `head() ` \n",
    "The returned result is the **first few rows of each group**, rather than the first few rows of the entire dataset."
   ]
  },
  {
   "cell_type": "code",
   "execution_count": 11,
   "id": "77da6619",
   "metadata": {},
   "outputs": [
    {
     "data": {
      "text/html": [
       "<div>\n",
       "<style scoped>\n",
       "    .dataframe tbody tr th:only-of-type {\n",
       "        vertical-align: middle;\n",
       "    }\n",
       "\n",
       "    .dataframe tbody tr th {\n",
       "        vertical-align: top;\n",
       "    }\n",
       "\n",
       "    .dataframe thead th {\n",
       "        text-align: right;\n",
       "    }\n",
       "</style>\n",
       "<table border=\"1\" class=\"dataframe\">\n",
       "  <thead>\n",
       "    <tr style=\"text-align: right;\">\n",
       "      <th></th>\n",
       "      <th>age</th>\n",
       "      <th>city</th>\n",
       "      <th>gender</th>\n",
       "      <th>income</th>\n",
       "    </tr>\n",
       "    <tr>\n",
       "      <th>name</th>\n",
       "      <th></th>\n",
       "      <th></th>\n",
       "      <th></th>\n",
       "      <th></th>\n",
       "    </tr>\n",
       "  </thead>\n",
       "  <tbody>\n",
       "    <tr>\n",
       "      <th>A</th>\n",
       "      <td>18.0</td>\n",
       "      <td>New York</td>\n",
       "      <td>male</td>\n",
       "      <td>3000</td>\n",
       "    </tr>\n",
       "    <tr>\n",
       "      <th>B</th>\n",
       "      <td>30.0</td>\n",
       "      <td>Los Angeles</td>\n",
       "      <td>male</td>\n",
       "      <td>8000</td>\n",
       "    </tr>\n",
       "    <tr>\n",
       "      <th>C</th>\n",
       "      <td>35.0</td>\n",
       "      <td>Huston</td>\n",
       "      <td>female</td>\n",
       "      <td>8000</td>\n",
       "    </tr>\n",
       "    <tr>\n",
       "      <th>E</th>\n",
       "      <td>NaN</td>\n",
       "      <td>NaN</td>\n",
       "      <td>female</td>\n",
       "      <td>6000</td>\n",
       "    </tr>\n",
       "  </tbody>\n",
       "</table>\n",
       "</div>"
      ],
      "text/plain": [
       "       age         city  gender  income\n",
       "name                                   \n",
       "A     18.0     New York    male    3000\n",
       "B     30.0  Los Angeles    male    8000\n",
       "C     35.0       Huston  female    8000\n",
       "E      NaN          NaN  female    6000"
      ]
     },
     "execution_count": 11,
     "metadata": {},
     "output_type": "execute_result"
    }
   ],
   "source": [
    "user_info_gender_group.head(2)  "
   ]
  },
  {
   "cell_type": "markdown",
   "id": "a95cb046",
   "metadata": {},
   "source": [
    "### `first()`\n",
    "To view the first row of each group in a grouped DataFramem and The `first` function displays the first group information of each group indexed by the groups."
   ]
  },
  {
   "cell_type": "code",
   "execution_count": 12,
   "id": "3a19277b",
   "metadata": {},
   "outputs": [
    {
     "data": {
      "text/html": [
       "<div>\n",
       "<style scoped>\n",
       "    .dataframe tbody tr th:only-of-type {\n",
       "        vertical-align: middle;\n",
       "    }\n",
       "\n",
       "    .dataframe tbody tr th {\n",
       "        vertical-align: top;\n",
       "    }\n",
       "\n",
       "    .dataframe thead th {\n",
       "        text-align: right;\n",
       "    }\n",
       "</style>\n",
       "<table border=\"1\" class=\"dataframe\">\n",
       "  <thead>\n",
       "    <tr style=\"text-align: right;\">\n",
       "      <th></th>\n",
       "      <th>age</th>\n",
       "      <th>city</th>\n",
       "      <th>income</th>\n",
       "    </tr>\n",
       "    <tr>\n",
       "      <th>gender</th>\n",
       "      <th></th>\n",
       "      <th></th>\n",
       "      <th></th>\n",
       "    </tr>\n",
       "  </thead>\n",
       "  <tbody>\n",
       "    <tr>\n",
       "      <th>female</th>\n",
       "      <td>35.0</td>\n",
       "      <td>Huston</td>\n",
       "      <td>8000</td>\n",
       "    </tr>\n",
       "    <tr>\n",
       "      <th>male</th>\n",
       "      <td>18.0</td>\n",
       "      <td>New York</td>\n",
       "      <td>3000</td>\n",
       "    </tr>\n",
       "  </tbody>\n",
       "</table>\n",
       "</div>"
      ],
      "text/plain": [
       "         age      city  income\n",
       "gender                        \n",
       "female  35.0    Huston    8000\n",
       "male    18.0  New York    3000"
      ]
     },
     "execution_count": 12,
     "metadata": {},
     "output_type": "execute_result"
    }
   ],
   "source": [
    "user_info_gender_group.first()  # index is gender "
   ]
  },
  {
   "cell_type": "markdown",
   "id": "1fc4f1fe",
   "metadata": {},
   "source": [
    "### To view specific columns in a DataFrame\n",
    "\n",
    "After grouping with `groupby`, we can use the dot notation or slicing [...] to select a specific column from the grouped DataFrame."
   ]
  },
  {
   "cell_type": "code",
   "execution_count": 13,
   "id": "c995fa23",
   "metadata": {},
   "outputs": [
    {
     "data": {
      "text/html": [
       "<div>\n",
       "<style scoped>\n",
       "    .dataframe tbody tr th:only-of-type {\n",
       "        vertical-align: middle;\n",
       "    }\n",
       "\n",
       "    .dataframe tbody tr th {\n",
       "        vertical-align: top;\n",
       "    }\n",
       "\n",
       "    .dataframe thead th {\n",
       "        text-align: right;\n",
       "    }\n",
       "</style>\n",
       "<table border=\"1\" class=\"dataframe\">\n",
       "  <thead>\n",
       "    <tr style=\"text-align: right;\">\n",
       "      <th></th>\n",
       "      <th>age</th>\n",
       "      <th>city</th>\n",
       "      <th>gender</th>\n",
       "      <th>income</th>\n",
       "    </tr>\n",
       "    <tr>\n",
       "      <th>name</th>\n",
       "      <th></th>\n",
       "      <th></th>\n",
       "      <th></th>\n",
       "      <th></th>\n",
       "    </tr>\n",
       "  </thead>\n",
       "  <tbody>\n",
       "    <tr>\n",
       "      <th>A</th>\n",
       "      <td>18.0</td>\n",
       "      <td>New York</td>\n",
       "      <td>male</td>\n",
       "      <td>3000</td>\n",
       "    </tr>\n",
       "    <tr>\n",
       "      <th>B</th>\n",
       "      <td>30.0</td>\n",
       "      <td>Los Angeles</td>\n",
       "      <td>male</td>\n",
       "      <td>8000</td>\n",
       "    </tr>\n",
       "    <tr>\n",
       "      <th>C</th>\n",
       "      <td>35.0</td>\n",
       "      <td>Huston</td>\n",
       "      <td>female</td>\n",
       "      <td>8000</td>\n",
       "    </tr>\n",
       "    <tr>\n",
       "      <th>D</th>\n",
       "      <td>18.0</td>\n",
       "      <td>Orlando</td>\n",
       "      <td>male</td>\n",
       "      <td>4000</td>\n",
       "    </tr>\n",
       "    <tr>\n",
       "      <th>E</th>\n",
       "      <td>NaN</td>\n",
       "      <td>NaN</td>\n",
       "      <td>female</td>\n",
       "      <td>6000</td>\n",
       "    </tr>\n",
       "    <tr>\n",
       "      <th>F</th>\n",
       "      <td>30.0</td>\n",
       "      <td></td>\n",
       "      <td>female</td>\n",
       "      <td>7000</td>\n",
       "    </tr>\n",
       "    <tr>\n",
       "      <th>G</th>\n",
       "      <td>37.0</td>\n",
       "      <td>Miami</td>\n",
       "      <td>male</td>\n",
       "      <td>10000</td>\n",
       "    </tr>\n",
       "    <tr>\n",
       "      <th>H</th>\n",
       "      <td>25.0</td>\n",
       "      <td>Chicago</td>\n",
       "      <td>male</td>\n",
       "      <td>70000</td>\n",
       "    </tr>\n",
       "  </tbody>\n",
       "</table>\n",
       "</div>"
      ],
      "text/plain": [
       "       age         city  gender  income\n",
       "name                                   \n",
       "A     18.0     New York    male    3000\n",
       "B     30.0  Los Angeles    male    8000\n",
       "C     35.0       Huston  female    8000\n",
       "D     18.0      Orlando    male    4000\n",
       "E      NaN          NaN  female    6000\n",
       "F     30.0               female    7000\n",
       "G     37.0        Miami    male   10000\n",
       "H     25.0      Chicago    male   70000"
      ]
     },
     "execution_count": 13,
     "metadata": {},
     "output_type": "execute_result"
    }
   ],
   "source": [
    "user_info_gender_group.head()"
   ]
  },
  {
   "cell_type": "code",
   "execution_count": 14,
   "id": "c0fdf6c5",
   "metadata": {},
   "outputs": [
    {
     "data": {
      "text/plain": [
       "name\n",
       "A       New York\n",
       "B    Los Angeles\n",
       "C         Huston\n",
       "D        Orlando\n",
       "E            NaN\n",
       "F               \n",
       "G          Miami\n",
       "H        Chicago\n",
       "Name: city, dtype: object"
      ]
     },
     "execution_count": 14,
     "metadata": {},
     "output_type": "execute_result"
    }
   ],
   "source": [
    "user_info_gender_group.city.head() # .+ column name"
   ]
  },
  {
   "cell_type": "code",
   "execution_count": 15,
   "id": "ee36bd32",
   "metadata": {},
   "outputs": [
    {
     "data": {
      "text/plain": [
       "name\n",
       "A       New York\n",
       "B    Los Angeles\n",
       "C         Huston\n",
       "D        Orlando\n",
       "E            NaN\n",
       "F               \n",
       "G          Miami\n",
       "H        Chicago\n",
       "Name: city, dtype: object"
      ]
     },
     "execution_count": 15,
     "metadata": {},
     "output_type": "execute_result"
    }
   ],
   "source": [
    "user_info_gender_group['city'].head()    # column selection"
   ]
  },
  {
   "cell_type": "markdown",
   "id": "b6aaf835",
   "metadata": {},
   "source": [
    "##### To view simple statistical information for a specific column in a DataFrame"
   ]
  },
  {
   "cell_type": "code",
   "execution_count": 16,
   "id": "66065d1d",
   "metadata": {},
   "outputs": [
    {
     "data": {
      "text/html": [
       "<div>\n",
       "<style scoped>\n",
       "    .dataframe tbody tr th:only-of-type {\n",
       "        vertical-align: middle;\n",
       "    }\n",
       "\n",
       "    .dataframe tbody tr th {\n",
       "        vertical-align: top;\n",
       "    }\n",
       "\n",
       "    .dataframe thead th {\n",
       "        text-align: right;\n",
       "    }\n",
       "</style>\n",
       "<table border=\"1\" class=\"dataframe\">\n",
       "  <thead>\n",
       "    <tr style=\"text-align: right;\">\n",
       "      <th></th>\n",
       "      <th>age</th>\n",
       "    </tr>\n",
       "    <tr>\n",
       "      <th>gender</th>\n",
       "      <th></th>\n",
       "    </tr>\n",
       "  </thead>\n",
       "  <tbody>\n",
       "    <tr>\n",
       "      <th>female</th>\n",
       "      <td>32.5</td>\n",
       "    </tr>\n",
       "    <tr>\n",
       "      <th>male</th>\n",
       "      <td>25.6</td>\n",
       "    </tr>\n",
       "  </tbody>\n",
       "</table>\n",
       "</div>"
      ],
      "text/plain": [
       "         age\n",
       "gender      \n",
       "female  32.5\n",
       "male    25.6"
      ]
     },
     "execution_count": 16,
     "metadata": {},
     "output_type": "execute_result"
    }
   ],
   "source": [
    "user_info_gender_group[['age']].mean()"
   ]
  },
  {
   "cell_type": "code",
   "execution_count": 17,
   "id": "0215c2f1",
   "metadata": {},
   "outputs": [
    {
     "data": {
      "text/plain": [
       "gender\n",
       "female     65.0\n",
       "male      128.0\n",
       "Name: age, dtype: float64"
      ]
     },
     "execution_count": 17,
     "metadata": {},
     "output_type": "execute_result"
    }
   ],
   "source": [
    "user_info_gender_group.age.sum()"
   ]
  },
  {
   "cell_type": "code",
   "execution_count": 18,
   "id": "f76e3a18",
   "metadata": {},
   "outputs": [
    {
     "data": {
      "text/plain": [
       "2"
      ]
     },
     "execution_count": 18,
     "metadata": {},
     "output_type": "execute_result"
    }
   ],
   "source": [
    "user_info_gender_group.ngroups  # count of groups"
   ]
  },
  {
   "cell_type": "code",
   "execution_count": 19,
   "id": "cca2ac9b",
   "metadata": {},
   "outputs": [
    {
     "data": {
      "text/plain": [
       "gender\n",
       "female    3\n",
       "male      5\n",
       "dtype: int64"
      ]
     },
     "execution_count": 19,
     "metadata": {},
     "output_type": "execute_result"
    }
   ],
   "source": [
    "user_info_gender_group.size()  # size of the group"
   ]
  },
  {
   "cell_type": "code",
   "execution_count": 20,
   "id": "7c28aaa9",
   "metadata": {},
   "outputs": [
    {
     "data": {
      "text/plain": [
       "{'female': ['C', 'E', 'F'], 'male': ['A', 'B', 'D', 'G', 'H']}"
      ]
     },
     "execution_count": 20,
     "metadata": {},
     "output_type": "execute_result"
    }
   ],
   "source": [
    "# Group indexing\n",
    "user_info_gender_group.groups  # return a dict"
   ]
  },
  {
   "cell_type": "markdown",
   "id": "4987098d",
   "metadata": {},
   "source": [
    "## Iterate over groups"
   ]
  },
  {
   "cell_type": "code",
   "execution_count": 21,
   "id": "6c0ebe95",
   "metadata": {},
   "outputs": [
    {
     "name": "stdout",
     "output_type": "stream",
     "text": [
      "Group name: female\n"
     ]
    },
    {
     "data": {
      "text/html": [
       "<div>\n",
       "<style scoped>\n",
       "    .dataframe tbody tr th:only-of-type {\n",
       "        vertical-align: middle;\n",
       "    }\n",
       "\n",
       "    .dataframe tbody tr th {\n",
       "        vertical-align: top;\n",
       "    }\n",
       "\n",
       "    .dataframe thead th {\n",
       "        text-align: right;\n",
       "    }\n",
       "</style>\n",
       "<table border=\"1\" class=\"dataframe\">\n",
       "  <thead>\n",
       "    <tr style=\"text-align: right;\">\n",
       "      <th></th>\n",
       "      <th>age</th>\n",
       "      <th>city</th>\n",
       "      <th>gender</th>\n",
       "      <th>income</th>\n",
       "    </tr>\n",
       "    <tr>\n",
       "      <th>name</th>\n",
       "      <th></th>\n",
       "      <th></th>\n",
       "      <th></th>\n",
       "      <th></th>\n",
       "    </tr>\n",
       "  </thead>\n",
       "  <tbody>\n",
       "    <tr>\n",
       "      <th>C</th>\n",
       "      <td>35.0</td>\n",
       "      <td>Huston</td>\n",
       "      <td>female</td>\n",
       "      <td>8000</td>\n",
       "    </tr>\n",
       "    <tr>\n",
       "      <th>E</th>\n",
       "      <td>NaN</td>\n",
       "      <td>NaN</td>\n",
       "      <td>female</td>\n",
       "      <td>6000</td>\n",
       "    </tr>\n",
       "    <tr>\n",
       "      <th>F</th>\n",
       "      <td>30.0</td>\n",
       "      <td></td>\n",
       "      <td>female</td>\n",
       "      <td>7000</td>\n",
       "    </tr>\n",
       "  </tbody>\n",
       "</table>\n",
       "</div>"
      ],
      "text/plain": [
       "       age    city  gender  income\n",
       "name                              \n",
       "C     35.0  Huston  female    8000\n",
       "E      NaN     NaN  female    6000\n",
       "F     30.0          female    7000"
      ]
     },
     "metadata": {},
     "output_type": "display_data"
    },
    {
     "name": "stdout",
     "output_type": "stream",
     "text": [
      "Group name: male\n"
     ]
    },
    {
     "data": {
      "text/html": [
       "<div>\n",
       "<style scoped>\n",
       "    .dataframe tbody tr th:only-of-type {\n",
       "        vertical-align: middle;\n",
       "    }\n",
       "\n",
       "    .dataframe tbody tr th {\n",
       "        vertical-align: top;\n",
       "    }\n",
       "\n",
       "    .dataframe thead th {\n",
       "        text-align: right;\n",
       "    }\n",
       "</style>\n",
       "<table border=\"1\" class=\"dataframe\">\n",
       "  <thead>\n",
       "    <tr style=\"text-align: right;\">\n",
       "      <th></th>\n",
       "      <th>age</th>\n",
       "      <th>city</th>\n",
       "      <th>gender</th>\n",
       "      <th>income</th>\n",
       "    </tr>\n",
       "    <tr>\n",
       "      <th>name</th>\n",
       "      <th></th>\n",
       "      <th></th>\n",
       "      <th></th>\n",
       "      <th></th>\n",
       "    </tr>\n",
       "  </thead>\n",
       "  <tbody>\n",
       "    <tr>\n",
       "      <th>A</th>\n",
       "      <td>18.0</td>\n",
       "      <td>New York</td>\n",
       "      <td>male</td>\n",
       "      <td>3000</td>\n",
       "    </tr>\n",
       "    <tr>\n",
       "      <th>B</th>\n",
       "      <td>30.0</td>\n",
       "      <td>Los Angeles</td>\n",
       "      <td>male</td>\n",
       "      <td>8000</td>\n",
       "    </tr>\n",
       "    <tr>\n",
       "      <th>D</th>\n",
       "      <td>18.0</td>\n",
       "      <td>Orlando</td>\n",
       "      <td>male</td>\n",
       "      <td>4000</td>\n",
       "    </tr>\n",
       "    <tr>\n",
       "      <th>G</th>\n",
       "      <td>37.0</td>\n",
       "      <td>Miami</td>\n",
       "      <td>male</td>\n",
       "      <td>10000</td>\n",
       "    </tr>\n",
       "    <tr>\n",
       "      <th>H</th>\n",
       "      <td>25.0</td>\n",
       "      <td>Chicago</td>\n",
       "      <td>male</td>\n",
       "      <td>70000</td>\n",
       "    </tr>\n",
       "  </tbody>\n",
       "</table>\n",
       "</div>"
      ],
      "text/plain": [
       "       age         city gender  income\n",
       "name                                  \n",
       "A     18.0     New York   male    3000\n",
       "B     30.0  Los Angeles   male    8000\n",
       "D     18.0      Orlando   male    4000\n",
       "G     37.0        Miami   male   10000\n",
       "H     25.0      Chicago   male   70000"
      ]
     },
     "metadata": {},
     "output_type": "display_data"
    }
   ],
   "source": [
    "for group_name, group_data in user_info_gender_group:\n",
    "    print(\"Group name:\", group_name)\n",
    "    display(group_data)"
   ]
  },
  {
   "cell_type": "code",
   "execution_count": 22,
   "id": "9b2d127d",
   "metadata": {},
   "outputs": [
    {
     "name": "stdout",
     "output_type": "stream",
     "text": [
      "('male', 18.0)\n"
     ]
    },
    {
     "data": {
      "text/html": [
       "<div>\n",
       "<style scoped>\n",
       "    .dataframe tbody tr th:only-of-type {\n",
       "        vertical-align: middle;\n",
       "    }\n",
       "\n",
       "    .dataframe tbody tr th {\n",
       "        vertical-align: top;\n",
       "    }\n",
       "\n",
       "    .dataframe thead th {\n",
       "        text-align: right;\n",
       "    }\n",
       "</style>\n",
       "<table border=\"1\" class=\"dataframe\">\n",
       "  <thead>\n",
       "    <tr style=\"text-align: right;\">\n",
       "      <th></th>\n",
       "      <th>age</th>\n",
       "      <th>city</th>\n",
       "      <th>gender</th>\n",
       "      <th>income</th>\n",
       "    </tr>\n",
       "    <tr>\n",
       "      <th>name</th>\n",
       "      <th></th>\n",
       "      <th></th>\n",
       "      <th></th>\n",
       "      <th></th>\n",
       "    </tr>\n",
       "  </thead>\n",
       "  <tbody>\n",
       "    <tr>\n",
       "      <th>A</th>\n",
       "      <td>18.0</td>\n",
       "      <td>New York</td>\n",
       "      <td>male</td>\n",
       "      <td>3000</td>\n",
       "    </tr>\n",
       "    <tr>\n",
       "      <th>D</th>\n",
       "      <td>18.0</td>\n",
       "      <td>Orlando</td>\n",
       "      <td>male</td>\n",
       "      <td>4000</td>\n",
       "    </tr>\n",
       "  </tbody>\n",
       "</table>\n",
       "</div>"
      ],
      "text/plain": [
       "       age      city gender  income\n",
       "name                               \n",
       "A     18.0  New York   male    3000\n",
       "D     18.0   Orlando   male    4000"
      ]
     },
     "metadata": {},
     "output_type": "display_data"
    },
    {
     "name": "stdout",
     "output_type": "stream",
     "text": [
      "('male', 30.0)\n"
     ]
    },
    {
     "data": {
      "text/html": [
       "<div>\n",
       "<style scoped>\n",
       "    .dataframe tbody tr th:only-of-type {\n",
       "        vertical-align: middle;\n",
       "    }\n",
       "\n",
       "    .dataframe tbody tr th {\n",
       "        vertical-align: top;\n",
       "    }\n",
       "\n",
       "    .dataframe thead th {\n",
       "        text-align: right;\n",
       "    }\n",
       "</style>\n",
       "<table border=\"1\" class=\"dataframe\">\n",
       "  <thead>\n",
       "    <tr style=\"text-align: right;\">\n",
       "      <th></th>\n",
       "      <th>age</th>\n",
       "      <th>city</th>\n",
       "      <th>gender</th>\n",
       "      <th>income</th>\n",
       "    </tr>\n",
       "    <tr>\n",
       "      <th>name</th>\n",
       "      <th></th>\n",
       "      <th></th>\n",
       "      <th></th>\n",
       "      <th></th>\n",
       "    </tr>\n",
       "  </thead>\n",
       "  <tbody>\n",
       "    <tr>\n",
       "      <th>B</th>\n",
       "      <td>30.0</td>\n",
       "      <td>Los Angeles</td>\n",
       "      <td>male</td>\n",
       "      <td>8000</td>\n",
       "    </tr>\n",
       "  </tbody>\n",
       "</table>\n",
       "</div>"
      ],
      "text/plain": [
       "       age         city gender  income\n",
       "name                                  \n",
       "B     30.0  Los Angeles   male    8000"
      ]
     },
     "metadata": {},
     "output_type": "display_data"
    },
    {
     "name": "stdout",
     "output_type": "stream",
     "text": [
      "('female', 35.0)\n"
     ]
    },
    {
     "data": {
      "text/html": [
       "<div>\n",
       "<style scoped>\n",
       "    .dataframe tbody tr th:only-of-type {\n",
       "        vertical-align: middle;\n",
       "    }\n",
       "\n",
       "    .dataframe tbody tr th {\n",
       "        vertical-align: top;\n",
       "    }\n",
       "\n",
       "    .dataframe thead th {\n",
       "        text-align: right;\n",
       "    }\n",
       "</style>\n",
       "<table border=\"1\" class=\"dataframe\">\n",
       "  <thead>\n",
       "    <tr style=\"text-align: right;\">\n",
       "      <th></th>\n",
       "      <th>age</th>\n",
       "      <th>city</th>\n",
       "      <th>gender</th>\n",
       "      <th>income</th>\n",
       "    </tr>\n",
       "    <tr>\n",
       "      <th>name</th>\n",
       "      <th></th>\n",
       "      <th></th>\n",
       "      <th></th>\n",
       "      <th></th>\n",
       "    </tr>\n",
       "  </thead>\n",
       "  <tbody>\n",
       "    <tr>\n",
       "      <th>C</th>\n",
       "      <td>35.0</td>\n",
       "      <td>Huston</td>\n",
       "      <td>female</td>\n",
       "      <td>8000</td>\n",
       "    </tr>\n",
       "  </tbody>\n",
       "</table>\n",
       "</div>"
      ],
      "text/plain": [
       "       age    city  gender  income\n",
       "name                              \n",
       "C     35.0  Huston  female    8000"
      ]
     },
     "metadata": {},
     "output_type": "display_data"
    },
    {
     "name": "stdout",
     "output_type": "stream",
     "text": [
      "('female', 30.0)\n"
     ]
    },
    {
     "data": {
      "text/html": [
       "<div>\n",
       "<style scoped>\n",
       "    .dataframe tbody tr th:only-of-type {\n",
       "        vertical-align: middle;\n",
       "    }\n",
       "\n",
       "    .dataframe tbody tr th {\n",
       "        vertical-align: top;\n",
       "    }\n",
       "\n",
       "    .dataframe thead th {\n",
       "        text-align: right;\n",
       "    }\n",
       "</style>\n",
       "<table border=\"1\" class=\"dataframe\">\n",
       "  <thead>\n",
       "    <tr style=\"text-align: right;\">\n",
       "      <th></th>\n",
       "      <th>age</th>\n",
       "      <th>city</th>\n",
       "      <th>gender</th>\n",
       "      <th>income</th>\n",
       "    </tr>\n",
       "    <tr>\n",
       "      <th>name</th>\n",
       "      <th></th>\n",
       "      <th></th>\n",
       "      <th></th>\n",
       "      <th></th>\n",
       "    </tr>\n",
       "  </thead>\n",
       "  <tbody>\n",
       "    <tr>\n",
       "      <th>F</th>\n",
       "      <td>30.0</td>\n",
       "      <td></td>\n",
       "      <td>female</td>\n",
       "      <td>7000</td>\n",
       "    </tr>\n",
       "  </tbody>\n",
       "</table>\n",
       "</div>"
      ],
      "text/plain": [
       "       age city  gender  income\n",
       "name                           \n",
       "F     30.0       female    7000"
      ]
     },
     "metadata": {},
     "output_type": "display_data"
    },
    {
     "name": "stdout",
     "output_type": "stream",
     "text": [
      "('male', 37.0)\n"
     ]
    },
    {
     "data": {
      "text/html": [
       "<div>\n",
       "<style scoped>\n",
       "    .dataframe tbody tr th:only-of-type {\n",
       "        vertical-align: middle;\n",
       "    }\n",
       "\n",
       "    .dataframe tbody tr th {\n",
       "        vertical-align: top;\n",
       "    }\n",
       "\n",
       "    .dataframe thead th {\n",
       "        text-align: right;\n",
       "    }\n",
       "</style>\n",
       "<table border=\"1\" class=\"dataframe\">\n",
       "  <thead>\n",
       "    <tr style=\"text-align: right;\">\n",
       "      <th></th>\n",
       "      <th>age</th>\n",
       "      <th>city</th>\n",
       "      <th>gender</th>\n",
       "      <th>income</th>\n",
       "    </tr>\n",
       "    <tr>\n",
       "      <th>name</th>\n",
       "      <th></th>\n",
       "      <th></th>\n",
       "      <th></th>\n",
       "      <th></th>\n",
       "    </tr>\n",
       "  </thead>\n",
       "  <tbody>\n",
       "    <tr>\n",
       "      <th>G</th>\n",
       "      <td>37.0</td>\n",
       "      <td>Miami</td>\n",
       "      <td>male</td>\n",
       "      <td>10000</td>\n",
       "    </tr>\n",
       "  </tbody>\n",
       "</table>\n",
       "</div>"
      ],
      "text/plain": [
       "       age   city gender  income\n",
       "name                            \n",
       "G     37.0  Miami   male   10000"
      ]
     },
     "metadata": {},
     "output_type": "display_data"
    },
    {
     "name": "stdout",
     "output_type": "stream",
     "text": [
      "('male', 25.0)\n"
     ]
    },
    {
     "data": {
      "text/html": [
       "<div>\n",
       "<style scoped>\n",
       "    .dataframe tbody tr th:only-of-type {\n",
       "        vertical-align: middle;\n",
       "    }\n",
       "\n",
       "    .dataframe tbody tr th {\n",
       "        vertical-align: top;\n",
       "    }\n",
       "\n",
       "    .dataframe thead th {\n",
       "        text-align: right;\n",
       "    }\n",
       "</style>\n",
       "<table border=\"1\" class=\"dataframe\">\n",
       "  <thead>\n",
       "    <tr style=\"text-align: right;\">\n",
       "      <th></th>\n",
       "      <th>age</th>\n",
       "      <th>city</th>\n",
       "      <th>gender</th>\n",
       "      <th>income</th>\n",
       "    </tr>\n",
       "    <tr>\n",
       "      <th>name</th>\n",
       "      <th></th>\n",
       "      <th></th>\n",
       "      <th></th>\n",
       "      <th></th>\n",
       "    </tr>\n",
       "  </thead>\n",
       "  <tbody>\n",
       "    <tr>\n",
       "      <th>H</th>\n",
       "      <td>25.0</td>\n",
       "      <td>Chicago</td>\n",
       "      <td>male</td>\n",
       "      <td>70000</td>\n",
       "    </tr>\n",
       "  </tbody>\n",
       "</table>\n",
       "</div>"
      ],
      "text/plain": [
       "       age     city gender  income\n",
       "name                              \n",
       "H     25.0  Chicago   male   70000"
      ]
     },
     "metadata": {},
     "output_type": "display_data"
    }
   ],
   "source": [
    "for group_name, group_data in user_info_group:\n",
    "    print(group_name)\n",
    "    display(group_data)"
   ]
  },
  {
   "cell_type": "markdown",
   "id": "09d18653",
   "metadata": {},
   "source": [
    "## Methods of `GroupBy` Function"
   ]
  },
  {
   "cell_type": "code",
   "execution_count": 23,
   "id": "2f8ac620",
   "metadata": {},
   "outputs": [
    {
     "name": "stdout",
     "output_type": "stream",
     "text": [
      "['age', 'agg', 'aggregate', 'all', 'any', 'apply', 'bfill', 'boxplot', 'city', 'corr', 'corrwith', 'count', 'cov', 'cumcount', 'cummax', 'cummin', 'cumprod', 'cumsum', 'describe', 'diff', 'dtypes', 'ewm', 'expanding', 'ffill', 'fillna', 'filter', 'first', 'gender', 'get_group', 'groups', 'head', 'hist', 'idxmax', 'idxmin', 'income', 'indices', 'last', 'max', 'mean', 'median', 'min', 'ndim', 'ngroup', 'ngroups', 'nth', 'nunique', 'ohlc', 'pct_change', 'pipe', 'plot', 'prod', 'quantile', 'rank', 'resample', 'rolling', 'sample', 'sem', 'shift', 'size', 'skew', 'std', 'sum', 'tail', 'take', 'transform', 'value_counts', 'var']\n"
     ]
    }
   ],
   "source": [
    "print([attr for attr in dir(user_info_group) if not attr.startswith('_')])"
   ]
  },
  {
   "cell_type": "markdown",
   "id": "a77a71af",
   "metadata": {},
   "source": [
    "## Grouping Continuous Variables \n",
    "\n",
    "When working with continuous variables, one common approach is to group the data into discrete categories or bins. This can be useful for analyzing the relationship between the continuous variable and other categorical variables or for creating summary statistics.\n",
    "\n",
    "\n",
    "* **Define the bins**: Determine the ranges or intervals for grouping the continuous variable. We can use methods like `pd.cut()` or `pd.qcut()` to define the bins.\n",
    "\n",
    "* **Assign bin labels**: Optionally, you can assign labels to the bins to provide meaningful names to the groups.\n",
    "\n",
    "* **Group the data**: Use the `groupby()` function to group the data based on the defined bins.\n"
   ]
  },
  {
   "cell_type": "code",
   "execution_count": 24,
   "id": "ba7d8448",
   "metadata": {},
   "outputs": [
    {
     "data": {
      "text/html": [
       "<div>\n",
       "<style scoped>\n",
       "    .dataframe tbody tr th:only-of-type {\n",
       "        vertical-align: middle;\n",
       "    }\n",
       "\n",
       "    .dataframe tbody tr th {\n",
       "        vertical-align: top;\n",
       "    }\n",
       "\n",
       "    .dataframe thead th {\n",
       "        text-align: right;\n",
       "    }\n",
       "</style>\n",
       "<table border=\"1\" class=\"dataframe\">\n",
       "  <thead>\n",
       "    <tr style=\"text-align: right;\">\n",
       "      <th></th>\n",
       "      <th>age</th>\n",
       "      <th>city</th>\n",
       "      <th>gender</th>\n",
       "      <th>income</th>\n",
       "      <th>Age bins</th>\n",
       "    </tr>\n",
       "    <tr>\n",
       "      <th>name</th>\n",
       "      <th></th>\n",
       "      <th></th>\n",
       "      <th></th>\n",
       "      <th></th>\n",
       "      <th></th>\n",
       "    </tr>\n",
       "  </thead>\n",
       "  <tbody>\n",
       "    <tr>\n",
       "      <th>A</th>\n",
       "      <td>18.0</td>\n",
       "      <td>New York</td>\n",
       "      <td>male</td>\n",
       "      <td>3000</td>\n",
       "      <td>Below 20</td>\n",
       "    </tr>\n",
       "    <tr>\n",
       "      <th>B</th>\n",
       "      <td>30.0</td>\n",
       "      <td>Los Angeles</td>\n",
       "      <td>male</td>\n",
       "      <td>8000</td>\n",
       "      <td>Between 21 and 30</td>\n",
       "    </tr>\n",
       "    <tr>\n",
       "      <th>C</th>\n",
       "      <td>35.0</td>\n",
       "      <td>Huston</td>\n",
       "      <td>female</td>\n",
       "      <td>8000</td>\n",
       "      <td>Between 31 and 40</td>\n",
       "    </tr>\n",
       "    <tr>\n",
       "      <th>D</th>\n",
       "      <td>18.0</td>\n",
       "      <td>Orlando</td>\n",
       "      <td>male</td>\n",
       "      <td>4000</td>\n",
       "      <td>Below 20</td>\n",
       "    </tr>\n",
       "    <tr>\n",
       "      <th>E</th>\n",
       "      <td>NaN</td>\n",
       "      <td>NaN</td>\n",
       "      <td>female</td>\n",
       "      <td>6000</td>\n",
       "      <td>NaN</td>\n",
       "    </tr>\n",
       "    <tr>\n",
       "      <th>F</th>\n",
       "      <td>30.0</td>\n",
       "      <td></td>\n",
       "      <td>female</td>\n",
       "      <td>7000</td>\n",
       "      <td>Between 21 and 30</td>\n",
       "    </tr>\n",
       "    <tr>\n",
       "      <th>G</th>\n",
       "      <td>37.0</td>\n",
       "      <td>Miami</td>\n",
       "      <td>male</td>\n",
       "      <td>10000</td>\n",
       "      <td>Between 31 and 40</td>\n",
       "    </tr>\n",
       "    <tr>\n",
       "      <th>H</th>\n",
       "      <td>25.0</td>\n",
       "      <td>Chicago</td>\n",
       "      <td>male</td>\n",
       "      <td>70000</td>\n",
       "      <td>Between 21 and 30</td>\n",
       "    </tr>\n",
       "  </tbody>\n",
       "</table>\n",
       "</div>"
      ],
      "text/plain": [
       "       age         city  gender  income           Age bins\n",
       "name                                                      \n",
       "A     18.0     New York    male    3000           Below 20\n",
       "B     30.0  Los Angeles    male    8000  Between 21 and 30\n",
       "C     35.0       Huston  female    8000  Between 31 and 40\n",
       "D     18.0      Orlando    male    4000           Below 20\n",
       "E      NaN          NaN  female    6000                NaN\n",
       "F     30.0               female    7000  Between 21 and 30\n",
       "G     37.0        Miami    male   10000  Between 31 and 40\n",
       "H     25.0      Chicago    male   70000  Between 21 and 30"
      ]
     },
     "execution_count": 24,
     "metadata": {},
     "output_type": "execute_result"
    }
   ],
   "source": [
    "bins = [0, 20, 30, 40, 100]\n",
    "labels = [\"Below 20\", \"Between 21 and 30\", \"Between 31 and 40\", \"Above 41\"]\n",
    "user_info[\"Age bins\"] = pd.cut(user_info['age'], bins = bins, labels = labels)\n",
    "user_info"
   ]
  },
  {
   "cell_type": "code",
   "execution_count": 25,
   "id": "c261d4b1",
   "metadata": {},
   "outputs": [
    {
     "data": {
      "text/html": [
       "<div>\n",
       "<style scoped>\n",
       "    .dataframe tbody tr th:only-of-type {\n",
       "        vertical-align: middle;\n",
       "    }\n",
       "\n",
       "    .dataframe tbody tr th {\n",
       "        vertical-align: top;\n",
       "    }\n",
       "\n",
       "    .dataframe thead th {\n",
       "        text-align: right;\n",
       "    }\n",
       "</style>\n",
       "<table border=\"1\" class=\"dataframe\">\n",
       "  <thead>\n",
       "    <tr style=\"text-align: right;\">\n",
       "      <th></th>\n",
       "      <th>age</th>\n",
       "      <th>city</th>\n",
       "      <th>gender</th>\n",
       "      <th>income</th>\n",
       "    </tr>\n",
       "    <tr>\n",
       "      <th>Age bins</th>\n",
       "      <th></th>\n",
       "      <th></th>\n",
       "      <th></th>\n",
       "      <th></th>\n",
       "    </tr>\n",
       "  </thead>\n",
       "  <tbody>\n",
       "    <tr>\n",
       "      <th>Below 20</th>\n",
       "      <td>2</td>\n",
       "      <td>2</td>\n",
       "      <td>2</td>\n",
       "      <td>2</td>\n",
       "    </tr>\n",
       "    <tr>\n",
       "      <th>Between 21 and 30</th>\n",
       "      <td>3</td>\n",
       "      <td>3</td>\n",
       "      <td>3</td>\n",
       "      <td>3</td>\n",
       "    </tr>\n",
       "    <tr>\n",
       "      <th>Between 31 and 40</th>\n",
       "      <td>2</td>\n",
       "      <td>2</td>\n",
       "      <td>2</td>\n",
       "      <td>2</td>\n",
       "    </tr>\n",
       "    <tr>\n",
       "      <th>Above 41</th>\n",
       "      <td>0</td>\n",
       "      <td>0</td>\n",
       "      <td>0</td>\n",
       "      <td>0</td>\n",
       "    </tr>\n",
       "  </tbody>\n",
       "</table>\n",
       "</div>"
      ],
      "text/plain": [
       "                   age  city  gender  income\n",
       "Age bins                                    \n",
       "Below 20             2     2       2       2\n",
       "Between 21 and 30    3     3       3       3\n",
       "Between 31 and 40    2     2       2       2\n",
       "Above 41             0     0       0       0"
      ]
     },
     "execution_count": 25,
     "metadata": {},
     "output_type": "execute_result"
    }
   ],
   "source": [
    "user_info.groupby('Age bins').count()"
   ]
  },
  {
   "cell_type": "markdown",
   "id": "7b7b6864",
   "metadata": {},
   "source": [
    "# Aggregation, Transformation and Filteration\n",
    "## Aggregation \n",
    "\n",
    "###  Commonly used aggregation functions\n",
    "The purpose of grouping is often for the purpose of aggregation and statistical analysis. To perform aggregation after grouping, we can use the agg method. There are several commonly used aggregation functions available in pandas for performing various calculations. Some of the commonly used aggregation functions include:\n",
    "\n",
    "* `mean()`: Compute the mean of the values in each group.\n",
    "* `sum()`: Compute the sum of the values in each group.\n",
    "* `size()`: Count the number of values in each group.\n",
    "* `count()`: Count the non-null values in each group.\n",
    "* `std()`: Compute the standard deviation of the values in each group.\n",
    "* `var()`: Compute the variance of the values in each group.\n",
    "* `sem()`: Compute the standard error of the mean of the values in each group.\n",
    "* `describe()`: Generate descriptive statistics of the values in each group (e.g., count, mean, min, max, etc.).\n",
    "* `first()`: Return the first value in each group.\n",
    "* `last()`: Return the last value in each group.\n",
    "* `nth()`: Return the nth value in each group.\n",
    "* `min()`: Find the minimum value in each group.\n",
    "* `max()`: Find the maximum value in each group."
   ]
  },
  {
   "cell_type": "code",
   "execution_count": 26,
   "id": "88adeb58",
   "metadata": {},
   "outputs": [
    {
     "data": {
      "text/html": [
       "<div>\n",
       "<style scoped>\n",
       "    .dataframe tbody tr th:only-of-type {\n",
       "        vertical-align: middle;\n",
       "    }\n",
       "\n",
       "    .dataframe tbody tr th {\n",
       "        vertical-align: top;\n",
       "    }\n",
       "\n",
       "    .dataframe thead th {\n",
       "        text-align: right;\n",
       "    }\n",
       "</style>\n",
       "<table border=\"1\" class=\"dataframe\">\n",
       "  <thead>\n",
       "    <tr style=\"text-align: right;\">\n",
       "      <th></th>\n",
       "      <th>age</th>\n",
       "      <th>city</th>\n",
       "      <th>gender</th>\n",
       "      <th>income</th>\n",
       "      <th>Age bins</th>\n",
       "    </tr>\n",
       "    <tr>\n",
       "      <th>name</th>\n",
       "      <th></th>\n",
       "      <th></th>\n",
       "      <th></th>\n",
       "      <th></th>\n",
       "      <th></th>\n",
       "    </tr>\n",
       "  </thead>\n",
       "  <tbody>\n",
       "    <tr>\n",
       "      <th>A</th>\n",
       "      <td>18.0</td>\n",
       "      <td>New York</td>\n",
       "      <td>male</td>\n",
       "      <td>3000</td>\n",
       "      <td>Below 20</td>\n",
       "    </tr>\n",
       "    <tr>\n",
       "      <th>B</th>\n",
       "      <td>30.0</td>\n",
       "      <td>Los Angeles</td>\n",
       "      <td>male</td>\n",
       "      <td>8000</td>\n",
       "      <td>Between 21 and 30</td>\n",
       "    </tr>\n",
       "    <tr>\n",
       "      <th>C</th>\n",
       "      <td>35.0</td>\n",
       "      <td>Huston</td>\n",
       "      <td>female</td>\n",
       "      <td>8000</td>\n",
       "      <td>Between 31 and 40</td>\n",
       "    </tr>\n",
       "    <tr>\n",
       "      <th>D</th>\n",
       "      <td>18.0</td>\n",
       "      <td>Orlando</td>\n",
       "      <td>male</td>\n",
       "      <td>4000</td>\n",
       "      <td>Below 20</td>\n",
       "    </tr>\n",
       "    <tr>\n",
       "      <th>E</th>\n",
       "      <td>NaN</td>\n",
       "      <td>NaN</td>\n",
       "      <td>female</td>\n",
       "      <td>6000</td>\n",
       "      <td>NaN</td>\n",
       "    </tr>\n",
       "    <tr>\n",
       "      <th>F</th>\n",
       "      <td>30.0</td>\n",
       "      <td></td>\n",
       "      <td>female</td>\n",
       "      <td>7000</td>\n",
       "      <td>Between 21 and 30</td>\n",
       "    </tr>\n",
       "    <tr>\n",
       "      <th>G</th>\n",
       "      <td>37.0</td>\n",
       "      <td>Miami</td>\n",
       "      <td>male</td>\n",
       "      <td>10000</td>\n",
       "      <td>Between 31 and 40</td>\n",
       "    </tr>\n",
       "    <tr>\n",
       "      <th>H</th>\n",
       "      <td>25.0</td>\n",
       "      <td>Chicago</td>\n",
       "      <td>male</td>\n",
       "      <td>70000</td>\n",
       "      <td>Between 21 and 30</td>\n",
       "    </tr>\n",
       "  </tbody>\n",
       "</table>\n",
       "</div>"
      ],
      "text/plain": [
       "       age         city  gender  income           Age bins\n",
       "name                                                      \n",
       "A     18.0     New York    male    3000           Below 20\n",
       "B     30.0  Los Angeles    male    8000  Between 21 and 30\n",
       "C     35.0       Huston  female    8000  Between 31 and 40\n",
       "D     18.0      Orlando    male    4000           Below 20\n",
       "E      NaN          NaN  female    6000                NaN\n",
       "F     30.0               female    7000  Between 21 and 30\n",
       "G     37.0        Miami    male   10000  Between 31 and 40\n",
       "H     25.0      Chicago    male   70000  Between 21 and 30"
      ]
     },
     "execution_count": 26,
     "metadata": {},
     "output_type": "execute_result"
    }
   ],
   "source": [
    "user_info"
   ]
  },
  {
   "cell_type": "code",
   "execution_count": 27,
   "id": "17041b98",
   "metadata": {},
   "outputs": [],
   "source": [
    "# group by gender\n",
    "user_info_gender_group = user_info.groupby('gender')"
   ]
  },
  {
   "cell_type": "code",
   "execution_count": 28,
   "id": "bf116f91",
   "metadata": {},
   "outputs": [
    {
     "data": {
      "text/html": [
       "<div>\n",
       "<style scoped>\n",
       "    .dataframe tbody tr th:only-of-type {\n",
       "        vertical-align: middle;\n",
       "    }\n",
       "\n",
       "    .dataframe tbody tr th {\n",
       "        vertical-align: top;\n",
       "    }\n",
       "\n",
       "    .dataframe thead th {\n",
       "        text-align: right;\n",
       "    }\n",
       "</style>\n",
       "<table border=\"1\" class=\"dataframe\">\n",
       "  <thead>\n",
       "    <tr style=\"text-align: right;\">\n",
       "      <th></th>\n",
       "      <th>age</th>\n",
       "      <th>city</th>\n",
       "      <th>gender</th>\n",
       "      <th>income</th>\n",
       "      <th>Age bins</th>\n",
       "    </tr>\n",
       "    <tr>\n",
       "      <th>name</th>\n",
       "      <th></th>\n",
       "      <th></th>\n",
       "      <th></th>\n",
       "      <th></th>\n",
       "      <th></th>\n",
       "    </tr>\n",
       "  </thead>\n",
       "  <tbody>\n",
       "    <tr>\n",
       "      <th>A</th>\n",
       "      <td>18.0</td>\n",
       "      <td>New York</td>\n",
       "      <td>male</td>\n",
       "      <td>3000</td>\n",
       "      <td>Below 20</td>\n",
       "    </tr>\n",
       "    <tr>\n",
       "      <th>B</th>\n",
       "      <td>30.0</td>\n",
       "      <td>Los Angeles</td>\n",
       "      <td>male</td>\n",
       "      <td>8000</td>\n",
       "      <td>Between 21 and 30</td>\n",
       "    </tr>\n",
       "    <tr>\n",
       "      <th>C</th>\n",
       "      <td>35.0</td>\n",
       "      <td>Huston</td>\n",
       "      <td>female</td>\n",
       "      <td>8000</td>\n",
       "      <td>Between 31 and 40</td>\n",
       "    </tr>\n",
       "    <tr>\n",
       "      <th>D</th>\n",
       "      <td>18.0</td>\n",
       "      <td>Orlando</td>\n",
       "      <td>male</td>\n",
       "      <td>4000</td>\n",
       "      <td>Below 20</td>\n",
       "    </tr>\n",
       "    <tr>\n",
       "      <th>E</th>\n",
       "      <td>NaN</td>\n",
       "      <td>NaN</td>\n",
       "      <td>female</td>\n",
       "      <td>6000</td>\n",
       "      <td>NaN</td>\n",
       "    </tr>\n",
       "    <tr>\n",
       "      <th>F</th>\n",
       "      <td>30.0</td>\n",
       "      <td></td>\n",
       "      <td>female</td>\n",
       "      <td>7000</td>\n",
       "      <td>Between 21 and 30</td>\n",
       "    </tr>\n",
       "    <tr>\n",
       "      <th>G</th>\n",
       "      <td>37.0</td>\n",
       "      <td>Miami</td>\n",
       "      <td>male</td>\n",
       "      <td>10000</td>\n",
       "      <td>Between 31 and 40</td>\n",
       "    </tr>\n",
       "    <tr>\n",
       "      <th>H</th>\n",
       "      <td>25.0</td>\n",
       "      <td>Chicago</td>\n",
       "      <td>male</td>\n",
       "      <td>70000</td>\n",
       "      <td>Between 21 and 30</td>\n",
       "    </tr>\n",
       "  </tbody>\n",
       "</table>\n",
       "</div>"
      ],
      "text/plain": [
       "       age         city  gender  income           Age bins\n",
       "name                                                      \n",
       "A     18.0     New York    male    3000           Below 20\n",
       "B     30.0  Los Angeles    male    8000  Between 21 and 30\n",
       "C     35.0       Huston  female    8000  Between 31 and 40\n",
       "D     18.0      Orlando    male    4000           Below 20\n",
       "E      NaN          NaN  female    6000                NaN\n",
       "F     30.0               female    7000  Between 21 and 30\n",
       "G     37.0        Miami    male   10000  Between 31 and 40\n",
       "H     25.0      Chicago    male   70000  Between 21 and 30"
      ]
     },
     "execution_count": 28,
     "metadata": {},
     "output_type": "execute_result"
    }
   ],
   "source": [
    "user_info_gender_group.head()"
   ]
  },
  {
   "cell_type": "code",
   "execution_count": 29,
   "id": "158fa8c3",
   "metadata": {},
   "outputs": [
    {
     "data": {
      "text/plain": [
       "gender\n",
       "female    3\n",
       "male      5\n",
       "Name: age, dtype: int64"
      ]
     },
     "execution_count": 29,
     "metadata": {},
     "output_type": "execute_result"
    }
   ],
   "source": [
    "user_info_gender_group['age'].agg(len) # including null values"
   ]
  },
  {
   "cell_type": "code",
   "execution_count": 30,
   "id": "7abb60ce",
   "metadata": {},
   "outputs": [
    {
     "data": {
      "text/plain": [
       "gender\n",
       "female    2\n",
       "male      5\n",
       "Name: age, dtype: int64"
      ]
     },
     "execution_count": 30,
     "metadata": {},
     "output_type": "execute_result"
    }
   ],
   "source": [
    "user_info_gender_group.age.count() # not including null values"
   ]
  },
  {
   "cell_type": "code",
   "execution_count": 31,
   "id": "e93849f6",
   "metadata": {},
   "outputs": [
    {
     "data": {
      "text/plain": [
       "gender\n",
       "female    3\n",
       "male      5\n",
       "Name: age, dtype: int64"
      ]
     },
     "execution_count": 31,
     "metadata": {},
     "output_type": "execute_result"
    }
   ],
   "source": [
    "user_info_gender_group.age.size() # inlcuding null values"
   ]
  },
  {
   "cell_type": "code",
   "execution_count": 32,
   "id": "00352861",
   "metadata": {},
   "outputs": [
    {
     "data": {
      "text/html": [
       "<div>\n",
       "<style scoped>\n",
       "    .dataframe tbody tr th:only-of-type {\n",
       "        vertical-align: middle;\n",
       "    }\n",
       "\n",
       "    .dataframe tbody tr th {\n",
       "        vertical-align: top;\n",
       "    }\n",
       "\n",
       "    .dataframe thead th {\n",
       "        text-align: right;\n",
       "    }\n",
       "</style>\n",
       "<table border=\"1\" class=\"dataframe\">\n",
       "  <thead>\n",
       "    <tr style=\"text-align: right;\">\n",
       "      <th></th>\n",
       "      <th></th>\n",
       "      <th>city</th>\n",
       "      <th>income</th>\n",
       "      <th>Age bins</th>\n",
       "    </tr>\n",
       "    <tr>\n",
       "      <th>gender</th>\n",
       "      <th>age</th>\n",
       "      <th></th>\n",
       "      <th></th>\n",
       "      <th></th>\n",
       "    </tr>\n",
       "  </thead>\n",
       "  <tbody>\n",
       "    <tr>\n",
       "      <th rowspan=\"2\" valign=\"top\">female</th>\n",
       "      <th>30.0</th>\n",
       "      <td>1</td>\n",
       "      <td>1</td>\n",
       "      <td>1</td>\n",
       "    </tr>\n",
       "    <tr>\n",
       "      <th>35.0</th>\n",
       "      <td>1</td>\n",
       "      <td>1</td>\n",
       "      <td>1</td>\n",
       "    </tr>\n",
       "    <tr>\n",
       "      <th rowspan=\"4\" valign=\"top\">male</th>\n",
       "      <th>18.0</th>\n",
       "      <td>2</td>\n",
       "      <td>2</td>\n",
       "      <td>2</td>\n",
       "    </tr>\n",
       "    <tr>\n",
       "      <th>25.0</th>\n",
       "      <td>1</td>\n",
       "      <td>1</td>\n",
       "      <td>1</td>\n",
       "    </tr>\n",
       "    <tr>\n",
       "      <th>30.0</th>\n",
       "      <td>1</td>\n",
       "      <td>1</td>\n",
       "      <td>1</td>\n",
       "    </tr>\n",
       "    <tr>\n",
       "      <th>37.0</th>\n",
       "      <td>1</td>\n",
       "      <td>1</td>\n",
       "      <td>1</td>\n",
       "    </tr>\n",
       "  </tbody>\n",
       "</table>\n",
       "</div>"
      ],
      "text/plain": [
       "             city  income  Age bins\n",
       "gender age                         \n",
       "female 30.0     1       1         1\n",
       "       35.0     1       1         1\n",
       "male   18.0     2       2         2\n",
       "       25.0     1       1         1\n",
       "       30.0     1       1         1\n",
       "       37.0     1       1         1"
      ]
     },
     "execution_count": 32,
     "metadata": {},
     "output_type": "execute_result"
    }
   ],
   "source": [
    "# Group by age and gender\n",
    "user_info_age_gender_group = user_info.groupby(['gender','age'])\n",
    "user_info_age_gender_group.agg(len)"
   ]
  },
  {
   "cell_type": "code",
   "execution_count": 33,
   "id": "809cd690",
   "metadata": {},
   "outputs": [
    {
     "data": {
      "text/html": [
       "<div>\n",
       "<style scoped>\n",
       "    .dataframe tbody tr th:only-of-type {\n",
       "        vertical-align: middle;\n",
       "    }\n",
       "\n",
       "    .dataframe tbody tr th {\n",
       "        vertical-align: top;\n",
       "    }\n",
       "\n",
       "    .dataframe thead th {\n",
       "        text-align: right;\n",
       "    }\n",
       "</style>\n",
       "<table border=\"1\" class=\"dataframe\">\n",
       "  <thead>\n",
       "    <tr style=\"text-align: right;\">\n",
       "      <th></th>\n",
       "      <th></th>\n",
       "      <th>city</th>\n",
       "      <th>income</th>\n",
       "      <th>Age bins</th>\n",
       "    </tr>\n",
       "    <tr>\n",
       "      <th>gender</th>\n",
       "      <th>age</th>\n",
       "      <th></th>\n",
       "      <th></th>\n",
       "      <th></th>\n",
       "    </tr>\n",
       "  </thead>\n",
       "  <tbody>\n",
       "    <tr>\n",
       "      <th rowspan=\"2\" valign=\"top\">female</th>\n",
       "      <th>30.0</th>\n",
       "      <td>1</td>\n",
       "      <td>1</td>\n",
       "      <td>1</td>\n",
       "    </tr>\n",
       "    <tr>\n",
       "      <th>35.0</th>\n",
       "      <td>1</td>\n",
       "      <td>1</td>\n",
       "      <td>1</td>\n",
       "    </tr>\n",
       "    <tr>\n",
       "      <th rowspan=\"4\" valign=\"top\">male</th>\n",
       "      <th>18.0</th>\n",
       "      <td>2</td>\n",
       "      <td>2</td>\n",
       "      <td>2</td>\n",
       "    </tr>\n",
       "    <tr>\n",
       "      <th>25.0</th>\n",
       "      <td>1</td>\n",
       "      <td>1</td>\n",
       "      <td>1</td>\n",
       "    </tr>\n",
       "    <tr>\n",
       "      <th>30.0</th>\n",
       "      <td>1</td>\n",
       "      <td>1</td>\n",
       "      <td>1</td>\n",
       "    </tr>\n",
       "    <tr>\n",
       "      <th>37.0</th>\n",
       "      <td>1</td>\n",
       "      <td>1</td>\n",
       "      <td>1</td>\n",
       "    </tr>\n",
       "  </tbody>\n",
       "</table>\n",
       "</div>"
      ],
      "text/plain": [
       "             city  income  Age bins\n",
       "gender age                         \n",
       "female 30.0     1       1         1\n",
       "       35.0     1       1         1\n",
       "male   18.0     2       2         2\n",
       "       25.0     1       1         1\n",
       "       30.0     1       1         1\n",
       "       37.0     1       1         1"
      ]
     },
     "execution_count": 33,
     "metadata": {},
     "output_type": "execute_result"
    }
   ],
   "source": [
    "user_info_age_gender_group.count()"
   ]
  },
  {
   "cell_type": "code",
   "execution_count": 34,
   "id": "961b4dff",
   "metadata": {},
   "outputs": [
    {
     "data": {
      "text/plain": [
       "gender  age \n",
       "female  30.0    1\n",
       "        35.0    1\n",
       "male    18.0    2\n",
       "        25.0    1\n",
       "        30.0    1\n",
       "        37.0    1\n",
       "dtype: int64"
      ]
     },
     "execution_count": 34,
     "metadata": {},
     "output_type": "execute_result"
    }
   ],
   "source": [
    "user_info_age_gender_group.size()  # only show one column"
   ]
  },
  {
   "cell_type": "code",
   "execution_count": 35,
   "id": "f6654418",
   "metadata": {},
   "outputs": [
    {
     "data": {
      "text/plain": [
       "gender\n",
       "female    35.0\n",
       "male      37.0\n",
       "Name: age, dtype: float64"
      ]
     },
     "execution_count": 35,
     "metadata": {},
     "output_type": "execute_result"
    }
   ],
   "source": [
    "# Get the largest age values for gender group\n",
    "user_info_gender_group.age.agg(max)\n",
    "user_info_gender_group.age.agg(np.max)\n",
    "user_info_gender_group.age.max()"
   ]
  },
  {
   "cell_type": "markdown",
   "id": "8c76202f",
   "metadata": {},
   "source": [
    "Both Series and DataFrame objects in pandas have the describe method, which provides a summary of the data's distribution. Even after grouping the data, we can still use the describe method to examine the data within each group."
   ]
  },
  {
   "cell_type": "code",
   "execution_count": 36,
   "id": "21b32d7c",
   "metadata": {},
   "outputs": [
    {
     "data": {
      "text/html": [
       "<div>\n",
       "<style scoped>\n",
       "    .dataframe tbody tr th:only-of-type {\n",
       "        vertical-align: middle;\n",
       "    }\n",
       "\n",
       "    .dataframe tbody tr th {\n",
       "        vertical-align: top;\n",
       "    }\n",
       "\n",
       "    .dataframe thead tr th {\n",
       "        text-align: left;\n",
       "    }\n",
       "\n",
       "    .dataframe thead tr:last-of-type th {\n",
       "        text-align: right;\n",
       "    }\n",
       "</style>\n",
       "<table border=\"1\" class=\"dataframe\">\n",
       "  <thead>\n",
       "    <tr>\n",
       "      <th></th>\n",
       "      <th colspan=\"8\" halign=\"left\">age</th>\n",
       "      <th colspan=\"8\" halign=\"left\">income</th>\n",
       "    </tr>\n",
       "    <tr>\n",
       "      <th></th>\n",
       "      <th>count</th>\n",
       "      <th>mean</th>\n",
       "      <th>std</th>\n",
       "      <th>min</th>\n",
       "      <th>25%</th>\n",
       "      <th>50%</th>\n",
       "      <th>75%</th>\n",
       "      <th>max</th>\n",
       "      <th>count</th>\n",
       "      <th>mean</th>\n",
       "      <th>std</th>\n",
       "      <th>min</th>\n",
       "      <th>25%</th>\n",
       "      <th>50%</th>\n",
       "      <th>75%</th>\n",
       "      <th>max</th>\n",
       "    </tr>\n",
       "    <tr>\n",
       "      <th>gender</th>\n",
       "      <th></th>\n",
       "      <th></th>\n",
       "      <th></th>\n",
       "      <th></th>\n",
       "      <th></th>\n",
       "      <th></th>\n",
       "      <th></th>\n",
       "      <th></th>\n",
       "      <th></th>\n",
       "      <th></th>\n",
       "      <th></th>\n",
       "      <th></th>\n",
       "      <th></th>\n",
       "      <th></th>\n",
       "      <th></th>\n",
       "      <th></th>\n",
       "    </tr>\n",
       "  </thead>\n",
       "  <tbody>\n",
       "    <tr>\n",
       "      <th>female</th>\n",
       "      <td>2.0</td>\n",
       "      <td>32.5</td>\n",
       "      <td>3.535534</td>\n",
       "      <td>30.0</td>\n",
       "      <td>31.25</td>\n",
       "      <td>32.5</td>\n",
       "      <td>33.75</td>\n",
       "      <td>35.0</td>\n",
       "      <td>3.0</td>\n",
       "      <td>7000.0</td>\n",
       "      <td>1000.000000</td>\n",
       "      <td>6000.0</td>\n",
       "      <td>6500.0</td>\n",
       "      <td>7000.0</td>\n",
       "      <td>7500.0</td>\n",
       "      <td>8000.0</td>\n",
       "    </tr>\n",
       "    <tr>\n",
       "      <th>male</th>\n",
       "      <td>5.0</td>\n",
       "      <td>25.6</td>\n",
       "      <td>8.142481</td>\n",
       "      <td>18.0</td>\n",
       "      <td>18.00</td>\n",
       "      <td>25.0</td>\n",
       "      <td>30.00</td>\n",
       "      <td>37.0</td>\n",
       "      <td>5.0</td>\n",
       "      <td>19000.0</td>\n",
       "      <td>28653.097564</td>\n",
       "      <td>3000.0</td>\n",
       "      <td>4000.0</td>\n",
       "      <td>8000.0</td>\n",
       "      <td>10000.0</td>\n",
       "      <td>70000.0</td>\n",
       "    </tr>\n",
       "  </tbody>\n",
       "</table>\n",
       "</div>"
      ],
      "text/plain": [
       "         age                                                 income           \\\n",
       "       count  mean       std   min    25%   50%    75%   max  count     mean   \n",
       "gender                                                                         \n",
       "female   2.0  32.5  3.535534  30.0  31.25  32.5  33.75  35.0    3.0   7000.0   \n",
       "male     5.0  25.6  8.142481  18.0  18.00  25.0  30.00  37.0    5.0  19000.0   \n",
       "\n",
       "                                                                \n",
       "                 std     min     25%     50%      75%      max  \n",
       "gender                                                          \n",
       "female   1000.000000  6000.0  6500.0  7000.0   7500.0   8000.0  \n",
       "male    28653.097564  3000.0  4000.0  8000.0  10000.0  70000.0  "
      ]
     },
     "execution_count": 36,
     "metadata": {},
     "output_type": "execute_result"
    }
   ],
   "source": [
    "user_info_gender_group.describe()"
   ]
  },
  {
   "cell_type": "code",
   "execution_count": 37,
   "id": "ec7d475e",
   "metadata": {},
   "outputs": [
    {
     "data": {
      "text/html": [
       "<div>\n",
       "<style scoped>\n",
       "    .dataframe tbody tr th:only-of-type {\n",
       "        vertical-align: middle;\n",
       "    }\n",
       "\n",
       "    .dataframe tbody tr th {\n",
       "        vertical-align: top;\n",
       "    }\n",
       "\n",
       "    .dataframe thead tr th {\n",
       "        text-align: left;\n",
       "    }\n",
       "\n",
       "    .dataframe thead tr:last-of-type th {\n",
       "        text-align: right;\n",
       "    }\n",
       "</style>\n",
       "<table border=\"1\" class=\"dataframe\">\n",
       "  <thead>\n",
       "    <tr>\n",
       "      <th></th>\n",
       "      <th></th>\n",
       "      <th colspan=\"8\" halign=\"left\">income</th>\n",
       "    </tr>\n",
       "    <tr>\n",
       "      <th></th>\n",
       "      <th></th>\n",
       "      <th>count</th>\n",
       "      <th>mean</th>\n",
       "      <th>std</th>\n",
       "      <th>min</th>\n",
       "      <th>25%</th>\n",
       "      <th>50%</th>\n",
       "      <th>75%</th>\n",
       "      <th>max</th>\n",
       "    </tr>\n",
       "    <tr>\n",
       "      <th>gender</th>\n",
       "      <th>age</th>\n",
       "      <th></th>\n",
       "      <th></th>\n",
       "      <th></th>\n",
       "      <th></th>\n",
       "      <th></th>\n",
       "      <th></th>\n",
       "      <th></th>\n",
       "      <th></th>\n",
       "    </tr>\n",
       "  </thead>\n",
       "  <tbody>\n",
       "    <tr>\n",
       "      <th rowspan=\"4\" valign=\"top\">male</th>\n",
       "      <th>18.0</th>\n",
       "      <td>2.0</td>\n",
       "      <td>3500.0</td>\n",
       "      <td>707.106781</td>\n",
       "      <td>3000.0</td>\n",
       "      <td>3250.0</td>\n",
       "      <td>3500.0</td>\n",
       "      <td>3750.0</td>\n",
       "      <td>4000.0</td>\n",
       "    </tr>\n",
       "    <tr>\n",
       "      <th>30.0</th>\n",
       "      <td>1.0</td>\n",
       "      <td>8000.0</td>\n",
       "      <td>NaN</td>\n",
       "      <td>8000.0</td>\n",
       "      <td>8000.0</td>\n",
       "      <td>8000.0</td>\n",
       "      <td>8000.0</td>\n",
       "      <td>8000.0</td>\n",
       "    </tr>\n",
       "    <tr>\n",
       "      <th>37.0</th>\n",
       "      <td>1.0</td>\n",
       "      <td>10000.0</td>\n",
       "      <td>NaN</td>\n",
       "      <td>10000.0</td>\n",
       "      <td>10000.0</td>\n",
       "      <td>10000.0</td>\n",
       "      <td>10000.0</td>\n",
       "      <td>10000.0</td>\n",
       "    </tr>\n",
       "    <tr>\n",
       "      <th>25.0</th>\n",
       "      <td>1.0</td>\n",
       "      <td>70000.0</td>\n",
       "      <td>NaN</td>\n",
       "      <td>70000.0</td>\n",
       "      <td>70000.0</td>\n",
       "      <td>70000.0</td>\n",
       "      <td>70000.0</td>\n",
       "      <td>70000.0</td>\n",
       "    </tr>\n",
       "    <tr>\n",
       "      <th rowspan=\"2\" valign=\"top\">female</th>\n",
       "      <th>30.0</th>\n",
       "      <td>1.0</td>\n",
       "      <td>7000.0</td>\n",
       "      <td>NaN</td>\n",
       "      <td>7000.0</td>\n",
       "      <td>7000.0</td>\n",
       "      <td>7000.0</td>\n",
       "      <td>7000.0</td>\n",
       "      <td>7000.0</td>\n",
       "    </tr>\n",
       "    <tr>\n",
       "      <th>35.0</th>\n",
       "      <td>1.0</td>\n",
       "      <td>8000.0</td>\n",
       "      <td>NaN</td>\n",
       "      <td>8000.0</td>\n",
       "      <td>8000.0</td>\n",
       "      <td>8000.0</td>\n",
       "      <td>8000.0</td>\n",
       "      <td>8000.0</td>\n",
       "    </tr>\n",
       "  </tbody>\n",
       "</table>\n",
       "</div>"
      ],
      "text/plain": [
       "            income                                                           \\\n",
       "             count     mean         std      min      25%      50%      75%   \n",
       "gender age                                                                    \n",
       "male   18.0    2.0   3500.0  707.106781   3000.0   3250.0   3500.0   3750.0   \n",
       "       30.0    1.0   8000.0         NaN   8000.0   8000.0   8000.0   8000.0   \n",
       "       37.0    1.0  10000.0         NaN  10000.0  10000.0  10000.0  10000.0   \n",
       "       25.0    1.0  70000.0         NaN  70000.0  70000.0  70000.0  70000.0   \n",
       "female 30.0    1.0   7000.0         NaN   7000.0   7000.0   7000.0   7000.0   \n",
       "       35.0    1.0   8000.0         NaN   8000.0   8000.0   8000.0   8000.0   \n",
       "\n",
       "                      \n",
       "                 max  \n",
       "gender age            \n",
       "male   18.0   4000.0  \n",
       "       30.0   8000.0  \n",
       "       37.0  10000.0  \n",
       "       25.0  70000.0  \n",
       "female 30.0   7000.0  \n",
       "       35.0   8000.0  "
      ]
     },
     "execution_count": 37,
     "metadata": {},
     "output_type": "execute_result"
    }
   ],
   "source": [
    "user_info_group.describe()"
   ]
  },
  {
   "cell_type": "markdown",
   "id": "f03bbea0",
   "metadata": {},
   "source": [
    "### Avoid multi-indexing\n",
    "If we are aggregating based on multiple keys, by default, the result will have a multi-level index structure. There are two ways to avoid having a multi-level index.\n",
    "##### 1 `reset_index`"
   ]
  },
  {
   "cell_type": "code",
   "execution_count": 38,
   "id": "6bb52eb7",
   "metadata": {},
   "outputs": [
    {
     "data": {
      "text/html": [
       "<div>\n",
       "<style scoped>\n",
       "    .dataframe tbody tr th:only-of-type {\n",
       "        vertical-align: middle;\n",
       "    }\n",
       "\n",
       "    .dataframe tbody tr th {\n",
       "        vertical-align: top;\n",
       "    }\n",
       "\n",
       "    .dataframe thead th {\n",
       "        text-align: right;\n",
       "    }\n",
       "</style>\n",
       "<table border=\"1\" class=\"dataframe\">\n",
       "  <thead>\n",
       "    <tr style=\"text-align: right;\">\n",
       "      <th></th>\n",
       "      <th></th>\n",
       "      <th>city</th>\n",
       "      <th>income</th>\n",
       "      <th>Age bins</th>\n",
       "    </tr>\n",
       "    <tr>\n",
       "      <th>gender</th>\n",
       "      <th>age</th>\n",
       "      <th></th>\n",
       "      <th></th>\n",
       "      <th></th>\n",
       "    </tr>\n",
       "  </thead>\n",
       "  <tbody>\n",
       "    <tr>\n",
       "      <th rowspan=\"2\" valign=\"top\">male</th>\n",
       "      <th>18.0</th>\n",
       "      <td>2</td>\n",
       "      <td>2</td>\n",
       "      <td>2</td>\n",
       "    </tr>\n",
       "    <tr>\n",
       "      <th>30.0</th>\n",
       "      <td>1</td>\n",
       "      <td>1</td>\n",
       "      <td>1</td>\n",
       "    </tr>\n",
       "    <tr>\n",
       "      <th rowspan=\"2\" valign=\"top\">female</th>\n",
       "      <th>35.0</th>\n",
       "      <td>1</td>\n",
       "      <td>1</td>\n",
       "      <td>1</td>\n",
       "    </tr>\n",
       "    <tr>\n",
       "      <th>30.0</th>\n",
       "      <td>1</td>\n",
       "      <td>1</td>\n",
       "      <td>1</td>\n",
       "    </tr>\n",
       "    <tr>\n",
       "      <th rowspan=\"2\" valign=\"top\">male</th>\n",
       "      <th>37.0</th>\n",
       "      <td>1</td>\n",
       "      <td>1</td>\n",
       "      <td>1</td>\n",
       "    </tr>\n",
       "    <tr>\n",
       "      <th>25.0</th>\n",
       "      <td>1</td>\n",
       "      <td>1</td>\n",
       "      <td>1</td>\n",
       "    </tr>\n",
       "  </tbody>\n",
       "</table>\n",
       "</div>"
      ],
      "text/plain": [
       "             city  income  Age bins\n",
       "gender age                         \n",
       "male   18.0     2       2         2\n",
       "       30.0     1       1         1\n",
       "female 35.0     1       1         1\n",
       "       30.0     1       1         1\n",
       "male   37.0     1       1         1\n",
       "       25.0     1       1         1"
      ]
     },
     "execution_count": 38,
     "metadata": {},
     "output_type": "execute_result"
    }
   ],
   "source": [
    "user_info_group.agg(len)"
   ]
  },
  {
   "cell_type": "code",
   "execution_count": 39,
   "id": "7cf82638",
   "metadata": {},
   "outputs": [
    {
     "data": {
      "text/html": [
       "<div>\n",
       "<style scoped>\n",
       "    .dataframe tbody tr th:only-of-type {\n",
       "        vertical-align: middle;\n",
       "    }\n",
       "\n",
       "    .dataframe tbody tr th {\n",
       "        vertical-align: top;\n",
       "    }\n",
       "\n",
       "    .dataframe thead th {\n",
       "        text-align: right;\n",
       "    }\n",
       "</style>\n",
       "<table border=\"1\" class=\"dataframe\">\n",
       "  <thead>\n",
       "    <tr style=\"text-align: right;\">\n",
       "      <th></th>\n",
       "      <th>gender</th>\n",
       "      <th>age</th>\n",
       "      <th>city</th>\n",
       "      <th>income</th>\n",
       "      <th>Age bins</th>\n",
       "    </tr>\n",
       "  </thead>\n",
       "  <tbody>\n",
       "    <tr>\n",
       "      <th>0</th>\n",
       "      <td>male</td>\n",
       "      <td>18.0</td>\n",
       "      <td>2</td>\n",
       "      <td>2</td>\n",
       "      <td>2</td>\n",
       "    </tr>\n",
       "    <tr>\n",
       "      <th>1</th>\n",
       "      <td>male</td>\n",
       "      <td>30.0</td>\n",
       "      <td>1</td>\n",
       "      <td>1</td>\n",
       "      <td>1</td>\n",
       "    </tr>\n",
       "    <tr>\n",
       "      <th>2</th>\n",
       "      <td>female</td>\n",
       "      <td>35.0</td>\n",
       "      <td>1</td>\n",
       "      <td>1</td>\n",
       "      <td>1</td>\n",
       "    </tr>\n",
       "    <tr>\n",
       "      <th>3</th>\n",
       "      <td>female</td>\n",
       "      <td>30.0</td>\n",
       "      <td>1</td>\n",
       "      <td>1</td>\n",
       "      <td>1</td>\n",
       "    </tr>\n",
       "    <tr>\n",
       "      <th>4</th>\n",
       "      <td>male</td>\n",
       "      <td>37.0</td>\n",
       "      <td>1</td>\n",
       "      <td>1</td>\n",
       "      <td>1</td>\n",
       "    </tr>\n",
       "    <tr>\n",
       "      <th>5</th>\n",
       "      <td>male</td>\n",
       "      <td>25.0</td>\n",
       "      <td>1</td>\n",
       "      <td>1</td>\n",
       "      <td>1</td>\n",
       "    </tr>\n",
       "  </tbody>\n",
       "</table>\n",
       "</div>"
      ],
      "text/plain": [
       "   gender   age  city  income  Age bins\n",
       "0    male  18.0     2       2         2\n",
       "1    male  30.0     1       1         1\n",
       "2  female  35.0     1       1         1\n",
       "3  female  30.0     1       1         1\n",
       "4    male  37.0     1       1         1\n",
       "5    male  25.0     1       1         1"
      ]
     },
     "execution_count": 39,
     "metadata": {},
     "output_type": "execute_result"
    }
   ],
   "source": [
    "user_info_group.agg(len).reset_index()"
   ]
  },
  {
   "cell_type": "markdown",
   "id": "685fe863",
   "metadata": {},
   "source": [
    "##### 2.  `as_index = False ` when grouping"
   ]
  },
  {
   "cell_type": "code",
   "execution_count": 40,
   "id": "6d216f72",
   "metadata": {},
   "outputs": [
    {
     "data": {
      "text/html": [
       "<div>\n",
       "<style scoped>\n",
       "    .dataframe tbody tr th:only-of-type {\n",
       "        vertical-align: middle;\n",
       "    }\n",
       "\n",
       "    .dataframe tbody tr th {\n",
       "        vertical-align: top;\n",
       "    }\n",
       "\n",
       "    .dataframe thead th {\n",
       "        text-align: right;\n",
       "    }\n",
       "</style>\n",
       "<table border=\"1\" class=\"dataframe\">\n",
       "  <thead>\n",
       "    <tr style=\"text-align: right;\">\n",
       "      <th></th>\n",
       "      <th>gender</th>\n",
       "      <th>age</th>\n",
       "      <th>city</th>\n",
       "      <th>income</th>\n",
       "      <th>Age bins</th>\n",
       "    </tr>\n",
       "  </thead>\n",
       "  <tbody>\n",
       "    <tr>\n",
       "      <th>0</th>\n",
       "      <td>female</td>\n",
       "      <td>30.0</td>\n",
       "      <td>1</td>\n",
       "      <td>1</td>\n",
       "      <td>1</td>\n",
       "    </tr>\n",
       "    <tr>\n",
       "      <th>1</th>\n",
       "      <td>female</td>\n",
       "      <td>35.0</td>\n",
       "      <td>1</td>\n",
       "      <td>1</td>\n",
       "      <td>1</td>\n",
       "    </tr>\n",
       "    <tr>\n",
       "      <th>2</th>\n",
       "      <td>male</td>\n",
       "      <td>18.0</td>\n",
       "      <td>2</td>\n",
       "      <td>2</td>\n",
       "      <td>2</td>\n",
       "    </tr>\n",
       "    <tr>\n",
       "      <th>3</th>\n",
       "      <td>male</td>\n",
       "      <td>25.0</td>\n",
       "      <td>1</td>\n",
       "      <td>1</td>\n",
       "      <td>1</td>\n",
       "    </tr>\n",
       "    <tr>\n",
       "      <th>4</th>\n",
       "      <td>male</td>\n",
       "      <td>30.0</td>\n",
       "      <td>1</td>\n",
       "      <td>1</td>\n",
       "      <td>1</td>\n",
       "    </tr>\n",
       "    <tr>\n",
       "      <th>5</th>\n",
       "      <td>male</td>\n",
       "      <td>37.0</td>\n",
       "      <td>1</td>\n",
       "      <td>1</td>\n",
       "      <td>1</td>\n",
       "    </tr>\n",
       "  </tbody>\n",
       "</table>\n",
       "</div>"
      ],
      "text/plain": [
       "   gender   age  city  income  Age bins\n",
       "0  female  30.0     1       1         1\n",
       "1  female  35.0     1       1         1\n",
       "2    male  18.0     2       2         2\n",
       "3    male  25.0     1       1         1\n",
       "4    male  30.0     1       1         1\n",
       "5    male  37.0     1       1         1"
      ]
     },
     "execution_count": 40,
     "metadata": {},
     "output_type": "execute_result"
    }
   ],
   "source": [
    "user_info.groupby([\"gender\", \"age\"], as_index = False).agg(len)"
   ]
  },
  {
   "cell_type": "markdown",
   "id": "3fa2fa46",
   "metadata": {},
   "source": [
    "### Multiple aggregate results"
   ]
  },
  {
   "cell_type": "code",
   "execution_count": 41,
   "id": "9baab2d4",
   "metadata": {},
   "outputs": [
    {
     "name": "stdout",
     "output_type": "stream",
     "text": [
      "Group: female\n"
     ]
    },
    {
     "data": {
      "text/html": [
       "<div>\n",
       "<style scoped>\n",
       "    .dataframe tbody tr th:only-of-type {\n",
       "        vertical-align: middle;\n",
       "    }\n",
       "\n",
       "    .dataframe tbody tr th {\n",
       "        vertical-align: top;\n",
       "    }\n",
       "\n",
       "    .dataframe thead th {\n",
       "        text-align: right;\n",
       "    }\n",
       "</style>\n",
       "<table border=\"1\" class=\"dataframe\">\n",
       "  <thead>\n",
       "    <tr style=\"text-align: right;\">\n",
       "      <th></th>\n",
       "      <th>age</th>\n",
       "      <th>city</th>\n",
       "      <th>gender</th>\n",
       "      <th>income</th>\n",
       "      <th>Age bins</th>\n",
       "    </tr>\n",
       "    <tr>\n",
       "      <th>name</th>\n",
       "      <th></th>\n",
       "      <th></th>\n",
       "      <th></th>\n",
       "      <th></th>\n",
       "      <th></th>\n",
       "    </tr>\n",
       "  </thead>\n",
       "  <tbody>\n",
       "    <tr>\n",
       "      <th>C</th>\n",
       "      <td>35.0</td>\n",
       "      <td>Huston</td>\n",
       "      <td>female</td>\n",
       "      <td>8000</td>\n",
       "      <td>Between 31 and 40</td>\n",
       "    </tr>\n",
       "    <tr>\n",
       "      <th>E</th>\n",
       "      <td>NaN</td>\n",
       "      <td>NaN</td>\n",
       "      <td>female</td>\n",
       "      <td>6000</td>\n",
       "      <td>NaN</td>\n",
       "    </tr>\n",
       "    <tr>\n",
       "      <th>F</th>\n",
       "      <td>30.0</td>\n",
       "      <td></td>\n",
       "      <td>female</td>\n",
       "      <td>7000</td>\n",
       "      <td>Between 21 and 30</td>\n",
       "    </tr>\n",
       "  </tbody>\n",
       "</table>\n",
       "</div>"
      ],
      "text/plain": [
       "       age    city  gender  income           Age bins\n",
       "name                                                 \n",
       "C     35.0  Huston  female    8000  Between 31 and 40\n",
       "E      NaN     NaN  female    6000                NaN\n",
       "F     30.0          female    7000  Between 21 and 30"
      ]
     },
     "metadata": {},
     "output_type": "display_data"
    },
    {
     "name": "stdout",
     "output_type": "stream",
     "text": [
      "---------------------\n",
      "Group: male\n"
     ]
    },
    {
     "data": {
      "text/html": [
       "<div>\n",
       "<style scoped>\n",
       "    .dataframe tbody tr th:only-of-type {\n",
       "        vertical-align: middle;\n",
       "    }\n",
       "\n",
       "    .dataframe tbody tr th {\n",
       "        vertical-align: top;\n",
       "    }\n",
       "\n",
       "    .dataframe thead th {\n",
       "        text-align: right;\n",
       "    }\n",
       "</style>\n",
       "<table border=\"1\" class=\"dataframe\">\n",
       "  <thead>\n",
       "    <tr style=\"text-align: right;\">\n",
       "      <th></th>\n",
       "      <th>age</th>\n",
       "      <th>city</th>\n",
       "      <th>gender</th>\n",
       "      <th>income</th>\n",
       "      <th>Age bins</th>\n",
       "    </tr>\n",
       "    <tr>\n",
       "      <th>name</th>\n",
       "      <th></th>\n",
       "      <th></th>\n",
       "      <th></th>\n",
       "      <th></th>\n",
       "      <th></th>\n",
       "    </tr>\n",
       "  </thead>\n",
       "  <tbody>\n",
       "    <tr>\n",
       "      <th>A</th>\n",
       "      <td>18.0</td>\n",
       "      <td>New York</td>\n",
       "      <td>male</td>\n",
       "      <td>3000</td>\n",
       "      <td>Below 20</td>\n",
       "    </tr>\n",
       "    <tr>\n",
       "      <th>B</th>\n",
       "      <td>30.0</td>\n",
       "      <td>Los Angeles</td>\n",
       "      <td>male</td>\n",
       "      <td>8000</td>\n",
       "      <td>Between 21 and 30</td>\n",
       "    </tr>\n",
       "    <tr>\n",
       "      <th>D</th>\n",
       "      <td>18.0</td>\n",
       "      <td>Orlando</td>\n",
       "      <td>male</td>\n",
       "      <td>4000</td>\n",
       "      <td>Below 20</td>\n",
       "    </tr>\n",
       "    <tr>\n",
       "      <th>G</th>\n",
       "      <td>37.0</td>\n",
       "      <td>Miami</td>\n",
       "      <td>male</td>\n",
       "      <td>10000</td>\n",
       "      <td>Between 31 and 40</td>\n",
       "    </tr>\n",
       "    <tr>\n",
       "      <th>H</th>\n",
       "      <td>25.0</td>\n",
       "      <td>Chicago</td>\n",
       "      <td>male</td>\n",
       "      <td>70000</td>\n",
       "      <td>Between 21 and 30</td>\n",
       "    </tr>\n",
       "  </tbody>\n",
       "</table>\n",
       "</div>"
      ],
      "text/plain": [
       "       age         city gender  income           Age bins\n",
       "name                                                     \n",
       "A     18.0     New York   male    3000           Below 20\n",
       "B     30.0  Los Angeles   male    8000  Between 21 and 30\n",
       "D     18.0      Orlando   male    4000           Below 20\n",
       "G     37.0        Miami   male   10000  Between 31 and 40\n",
       "H     25.0      Chicago   male   70000  Between 21 and 30"
      ]
     },
     "metadata": {},
     "output_type": "display_data"
    },
    {
     "name": "stdout",
     "output_type": "stream",
     "text": [
      "---------------------\n"
     ]
    }
   ],
   "source": [
    "for group_name, group_data in user_info_gender_group:\n",
    "    print(\"Group:\", group_name)\n",
    "    display(group_data)\n",
    "    print(\"---------------------\")"
   ]
  },
  {
   "cell_type": "code",
   "execution_count": 42,
   "id": "9c79ba0a",
   "metadata": {},
   "outputs": [
    {
     "data": {
      "text/html": [
       "<div>\n",
       "<style scoped>\n",
       "    .dataframe tbody tr th:only-of-type {\n",
       "        vertical-align: middle;\n",
       "    }\n",
       "\n",
       "    .dataframe tbody tr th {\n",
       "        vertical-align: top;\n",
       "    }\n",
       "\n",
       "    .dataframe thead th {\n",
       "        text-align: right;\n",
       "    }\n",
       "</style>\n",
       "<table border=\"1\" class=\"dataframe\">\n",
       "  <thead>\n",
       "    <tr style=\"text-align: right;\">\n",
       "      <th></th>\n",
       "      <th>sum</th>\n",
       "      <th>mean</th>\n",
       "    </tr>\n",
       "    <tr>\n",
       "      <th>gender</th>\n",
       "      <th></th>\n",
       "      <th></th>\n",
       "    </tr>\n",
       "  </thead>\n",
       "  <tbody>\n",
       "    <tr>\n",
       "      <th>female</th>\n",
       "      <td>21000</td>\n",
       "      <td>7000.0</td>\n",
       "    </tr>\n",
       "    <tr>\n",
       "      <th>male</th>\n",
       "      <td>95000</td>\n",
       "      <td>19000.0</td>\n",
       "    </tr>\n",
       "  </tbody>\n",
       "</table>\n",
       "</div>"
      ],
      "text/plain": [
       "          sum     mean\n",
       "gender                \n",
       "female  21000   7000.0\n",
       "male    95000  19000.0"
      ]
     },
     "execution_count": 42,
     "metadata": {},
     "output_type": "execute_result"
    }
   ],
   "source": [
    "user_info_gender_group['income'].agg([np.sum, np.mean])"
   ]
  },
  {
   "cell_type": "markdown",
   "id": "86277402",
   "metadata": {},
   "source": [
    "### Use tuple to rename the results"
   ]
  },
  {
   "cell_type": "code",
   "execution_count": 43,
   "id": "5981f0c2",
   "metadata": {},
   "outputs": [
    {
     "data": {
      "text/html": [
       "<div>\n",
       "<style scoped>\n",
       "    .dataframe tbody tr th:only-of-type {\n",
       "        vertical-align: middle;\n",
       "    }\n",
       "\n",
       "    .dataframe tbody tr th {\n",
       "        vertical-align: top;\n",
       "    }\n",
       "\n",
       "    .dataframe thead th {\n",
       "        text-align: right;\n",
       "    }\n",
       "</style>\n",
       "<table border=\"1\" class=\"dataframe\">\n",
       "  <thead>\n",
       "    <tr style=\"text-align: right;\">\n",
       "      <th></th>\n",
       "      <th>Total</th>\n",
       "      <th>Average</th>\n",
       "    </tr>\n",
       "    <tr>\n",
       "      <th>gender</th>\n",
       "      <th></th>\n",
       "      <th></th>\n",
       "    </tr>\n",
       "  </thead>\n",
       "  <tbody>\n",
       "    <tr>\n",
       "      <th>female</th>\n",
       "      <td>21000</td>\n",
       "      <td>7000.0</td>\n",
       "    </tr>\n",
       "    <tr>\n",
       "      <th>male</th>\n",
       "      <td>95000</td>\n",
       "      <td>19000.0</td>\n",
       "    </tr>\n",
       "  </tbody>\n",
       "</table>\n",
       "</div>"
      ],
      "text/plain": [
       "        Total  Average\n",
       "gender                \n",
       "female  21000   7000.0\n",
       "male    95000  19000.0"
      ]
     },
     "execution_count": 43,
     "metadata": {},
     "output_type": "execute_result"
    }
   ],
   "source": [
    "user_info_gender_group['income'].agg([('Total', np.sum), ('Average', np.mean)])"
   ]
  },
  {
   "cell_type": "markdown",
   "id": "a164d0ce",
   "metadata": {},
   "source": [
    "##### To apply different aggregation operations to different columns in a DataFrame, we can use the agg method with a dictionary to specify the aggregation functions for each column."
   ]
  },
  {
   "cell_type": "code",
   "execution_count": 44,
   "id": "9d8a154b",
   "metadata": {},
   "outputs": [
    {
     "data": {
      "text/html": [
       "<div>\n",
       "<style scoped>\n",
       "    .dataframe tbody tr th:only-of-type {\n",
       "        vertical-align: middle;\n",
       "    }\n",
       "\n",
       "    .dataframe tbody tr th {\n",
       "        vertical-align: top;\n",
       "    }\n",
       "\n",
       "    .dataframe thead th {\n",
       "        text-align: right;\n",
       "    }\n",
       "</style>\n",
       "<table border=\"1\" class=\"dataframe\">\n",
       "  <thead>\n",
       "    <tr style=\"text-align: right;\">\n",
       "      <th></th>\n",
       "      <th>age_mean</th>\n",
       "      <th>income_sum</th>\n",
       "    </tr>\n",
       "    <tr>\n",
       "      <th>gender</th>\n",
       "      <th></th>\n",
       "      <th></th>\n",
       "    </tr>\n",
       "  </thead>\n",
       "  <tbody>\n",
       "    <tr>\n",
       "      <th>female</th>\n",
       "      <td>32.5</td>\n",
       "      <td>21000</td>\n",
       "    </tr>\n",
       "    <tr>\n",
       "      <th>male</th>\n",
       "      <td>25.6</td>\n",
       "      <td>95000</td>\n",
       "    </tr>\n",
       "  </tbody>\n",
       "</table>\n",
       "</div>"
      ],
      "text/plain": [
       "        age_mean  income_sum\n",
       "gender                      \n",
       "female      32.5       21000\n",
       "male        25.6       95000"
      ]
     },
     "execution_count": 44,
     "metadata": {},
     "output_type": "execute_result"
    }
   ],
   "source": [
    "# Get the mean of age and total income by gender\n",
    "user_info_gender_group.agg({'age': np.mean, \"income\": np.sum}).rename(columns = {\"age\": \"age_mean\", \"income\": \"income_sum\"})"
   ]
  },
  {
   "cell_type": "markdown",
   "id": "fabcba56",
   "metadata": {},
   "source": [
    "### Custom functions"
   ]
  },
  {
   "cell_type": "code",
   "execution_count": 45,
   "id": "90971ed5",
   "metadata": {},
   "outputs": [
    {
     "data": {
      "text/plain": [
       "gender\n",
       "female    33.5\n",
       "male      26.6\n",
       "Name: age, dtype: float64"
      ]
     },
     "execution_count": 45,
     "metadata": {},
     "output_type": "execute_result"
    }
   ],
   "source": [
    "# Calcualte the mean age after one year by gender\n",
    "user_info_gender_group.age.agg(lambda x: x.mean() + 1)"
   ]
  },
  {
   "cell_type": "code",
   "execution_count": 46,
   "id": "186458ec",
   "metadata": {},
   "outputs": [
    {
     "data": {
      "text/plain": [
       "gender\n",
       "female     5.0\n",
       "male      19.0\n",
       "Name: age, dtype: float64"
      ]
     },
     "execution_count": 46,
     "metadata": {},
     "output_type": "execute_result"
    }
   ],
   "source": [
    "# Calculate the the difference between maximum age and minimum age\n",
    "user_info_gender_group.age.agg(lambda x: x.max() - x.min())"
   ]
  },
  {
   "cell_type": "markdown",
   "id": "7accec68",
   "metadata": {},
   "source": [
    "### `NameAgg`\n",
    "The `NamedAgg` feature in pandas allows us to apply multiple aggregation operations to different columns in a DataFrame while providing custom names for the resulting aggregated columns.\n",
    "\n",
    "`NameAgg` does not support `lambda` function, but it supports `def` function"
   ]
  },
  {
   "cell_type": "code",
   "execution_count": 47,
   "id": "224fa024",
   "metadata": {},
   "outputs": [],
   "source": [
    "def R1(x):\n",
    "    return x.max() - x.min()\n",
    "def R2(x):\n",
    "    return x.max()- x.median()"
   ]
  },
  {
   "cell_type": "code",
   "execution_count": 48,
   "id": "283884fe",
   "metadata": {},
   "outputs": [
    {
     "data": {
      "text/html": [
       "<div>\n",
       "<style scoped>\n",
       "    .dataframe tbody tr th:only-of-type {\n",
       "        vertical-align: middle;\n",
       "    }\n",
       "\n",
       "    .dataframe tbody tr th {\n",
       "        vertical-align: top;\n",
       "    }\n",
       "\n",
       "    .dataframe thead th {\n",
       "        text-align: right;\n",
       "    }\n",
       "</style>\n",
       "<table border=\"1\" class=\"dataframe\">\n",
       "  <thead>\n",
       "    <tr style=\"text-align: right;\">\n",
       "      <th></th>\n",
       "      <th>Min_income</th>\n",
       "      <th>Max_income</th>\n",
       "      <th>income_diff</th>\n",
       "      <th>range_income</th>\n",
       "    </tr>\n",
       "    <tr>\n",
       "      <th>gender</th>\n",
       "      <th></th>\n",
       "      <th></th>\n",
       "      <th></th>\n",
       "      <th></th>\n",
       "    </tr>\n",
       "  </thead>\n",
       "  <tbody>\n",
       "    <tr>\n",
       "      <th>female</th>\n",
       "      <td>6000</td>\n",
       "      <td>8000</td>\n",
       "      <td>2000</td>\n",
       "      <td>1000.0</td>\n",
       "    </tr>\n",
       "    <tr>\n",
       "      <th>male</th>\n",
       "      <td>3000</td>\n",
       "      <td>70000</td>\n",
       "      <td>67000</td>\n",
       "      <td>62000.0</td>\n",
       "    </tr>\n",
       "  </tbody>\n",
       "</table>\n",
       "</div>"
      ],
      "text/plain": [
       "        Min_income  Max_income  income_diff  range_income\n",
       "gender                                                   \n",
       "female        6000        8000         2000        1000.0\n",
       "male          3000       70000        67000       62000.0"
      ]
     },
     "execution_count": 48,
     "metadata": {},
     "output_type": "execute_result"
    }
   ],
   "source": [
    "\n",
    "# By gender, to show the minimum income, maximum income, differece betwee min and max,\n",
    "# and difference between max and median income\n",
    "user_info_gender_group.agg(Min_income = pd.NamedAgg(column = 'income', aggfunc = 'min'),\n",
    "                        Max_income = pd.NamedAgg(column = 'income', aggfunc = 'max' ),\n",
    "                           income_diff = pd.NamedAgg(column = 'income', aggfunc = R1),\n",
    "                          range_income = pd.NamedAgg(column = 'income', aggfunc = R2)\n",
    "                          )"
   ]
  },
  {
   "cell_type": "markdown",
   "id": "ee9fceeb",
   "metadata": {},
   "source": [
    "### Aggregate function with parameters \n",
    "\n",
    "For examples:\n",
    "* `quantile(q)`: Calculate the qth quantile of the data. The q parameter specifies the desired quantile value (e.g., 0.25 for the first quartile, 0.5 for the median).\n",
    "\n",
    "* `agg(func, *args, **kwargs)`: Apply a custom aggregation function with additional arguments. You can pass any custom function as func along with any required positional (`*args`) or keyword (`**kwargs`) arguments.\n",
    "\n",
    "* `apply(func, *args, **kwargs)`: Apply a custom function to each group. Similar to `agg()`, you can provide additional arguments to the func function as positional or keyword arguments."
   ]
  },
  {
   "cell_type": "code",
   "execution_count": 49,
   "id": "8fdea791",
   "metadata": {},
   "outputs": [
    {
     "data": {
      "text/plain": [
       "gender\n",
       "female    True\n",
       "male      True\n",
       "Name: age, dtype: bool"
      ]
     },
     "execution_count": 49,
     "metadata": {},
     "output_type": "execute_result"
    }
   ],
   "source": [
    "#  determine if there is at least one record for individuals aged \n",
    "# between 30 and 40 in each gender group.\n",
    "def f(s,low,high):\n",
    "    return s.between(low,high).max()\n",
    "user_info_gender_group.age.agg(f,30,40)"
   ]
  },
  {
   "cell_type": "markdown",
   "id": "04e95ec9",
   "metadata": {},
   "source": [
    "## Filteration\n",
    "\n",
    "The `filter` function is used to filter certain groups (remember that the result is the entire group). Therefore, the value passed should be a boolean scalar."
   ]
  },
  {
   "cell_type": "code",
   "execution_count": 50,
   "id": "943ea197",
   "metadata": {},
   "outputs": [
    {
     "data": {
      "text/html": [
       "<div>\n",
       "<style scoped>\n",
       "    .dataframe tbody tr th:only-of-type {\n",
       "        vertical-align: middle;\n",
       "    }\n",
       "\n",
       "    .dataframe tbody tr th {\n",
       "        vertical-align: top;\n",
       "    }\n",
       "\n",
       "    .dataframe thead th {\n",
       "        text-align: right;\n",
       "    }\n",
       "</style>\n",
       "<table border=\"1\" class=\"dataframe\">\n",
       "  <thead>\n",
       "    <tr style=\"text-align: right;\">\n",
       "      <th></th>\n",
       "      <th>age</th>\n",
       "      <th>city</th>\n",
       "      <th>gender</th>\n",
       "      <th>income</th>\n",
       "      <th>Age bins</th>\n",
       "    </tr>\n",
       "    <tr>\n",
       "      <th>name</th>\n",
       "      <th></th>\n",
       "      <th></th>\n",
       "      <th></th>\n",
       "      <th></th>\n",
       "      <th></th>\n",
       "    </tr>\n",
       "  </thead>\n",
       "  <tbody>\n",
       "    <tr>\n",
       "      <th>C</th>\n",
       "      <td>35.0</td>\n",
       "      <td>Huston</td>\n",
       "      <td>female</td>\n",
       "      <td>8000</td>\n",
       "      <td>Between 31 and 40</td>\n",
       "    </tr>\n",
       "    <tr>\n",
       "      <th>E</th>\n",
       "      <td>NaN</td>\n",
       "      <td>NaN</td>\n",
       "      <td>female</td>\n",
       "      <td>6000</td>\n",
       "      <td>NaN</td>\n",
       "    </tr>\n",
       "    <tr>\n",
       "      <th>F</th>\n",
       "      <td>30.0</td>\n",
       "      <td></td>\n",
       "      <td>female</td>\n",
       "      <td>7000</td>\n",
       "      <td>Between 21 and 30</td>\n",
       "    </tr>\n",
       "  </tbody>\n",
       "</table>\n",
       "</div>"
      ],
      "text/plain": [
       "       age    city  gender  income           Age bins\n",
       "name                                                 \n",
       "C     35.0  Huston  female    8000  Between 31 and 40\n",
       "E      NaN     NaN  female    6000                NaN\n",
       "F     30.0          female    7000  Between 21 and 30"
      ]
     },
     "execution_count": 50,
     "metadata": {},
     "output_type": "execute_result"
    }
   ],
   "source": [
    "user_info_gender_group.filter(lambda x: (x['income'] > 3200).all()).head()"
   ]
  },
  {
   "cell_type": "markdown",
   "id": "c0ebcb71",
   "metadata": {},
   "source": [
    "## Transformation\n",
    "\n",
    "When performing aggregation operations, the result is often an object with the group names as indices. Although you can specify `as_index = False` to disable this behavior, the resulting index may still not match the original index of the data. If we want to use the original index of the array, we can use the transform method, which simplifies this process. It applies the func parameter to each group and places the results back onto the original array's index (broadcasting if the result is a scalar)."
   ]
  },
  {
   "cell_type": "markdown",
   "id": "54b8057c",
   "metadata": {},
   "source": [
    "### Group-wise element transformation\n",
    "In the transform function, the object passed in is a column within each group, and the return value should have the exact same length as the column.\n",
    "\n",
    "When using `transform`, the function or operation is applied to each group individually, operating on a column within that group. The result should be a transformed version of that column, where each element is modified based on the specific group it belongs to."
   ]
  },
  {
   "cell_type": "code",
   "execution_count": 51,
   "id": "d5a7991b",
   "metadata": {},
   "outputs": [
    {
     "data": {
      "text/plain": [
       "gender\n",
       "female     7000.0\n",
       "male      19000.0\n",
       "Name: income, dtype: float64"
      ]
     },
     "execution_count": 51,
     "metadata": {},
     "output_type": "execute_result"
    }
   ],
   "source": [
    "# income by gender group\n",
    "user_info_gender_group.income.agg(np.mean)"
   ]
  },
  {
   "cell_type": "code",
   "execution_count": 52,
   "id": "98817667",
   "metadata": {},
   "outputs": [
    {
     "data": {
      "text/plain": [
       "name\n",
       "A    19000.0\n",
       "B    19000.0\n",
       "C     7000.0\n",
       "D    19000.0\n",
       "E     7000.0\n",
       "F     7000.0\n",
       "G    19000.0\n",
       "H    19000.0\n",
       "Name: income, dtype: float64"
      ]
     },
     "execution_count": 52,
     "metadata": {},
     "output_type": "execute_result"
    }
   ],
   "source": [
    "# By gender group, show each member's group average income\n",
    "user_info_gender_group.income.transform(np.mean)"
   ]
  },
  {
   "cell_type": "code",
   "execution_count": 53,
   "id": "fe2c50a4",
   "metadata": {},
   "outputs": [
    {
     "data": {
      "text/html": [
       "<div>\n",
       "<style scoped>\n",
       "    .dataframe tbody tr th:only-of-type {\n",
       "        vertical-align: middle;\n",
       "    }\n",
       "\n",
       "    .dataframe tbody tr th {\n",
       "        vertical-align: top;\n",
       "    }\n",
       "\n",
       "    .dataframe thead th {\n",
       "        text-align: right;\n",
       "    }\n",
       "</style>\n",
       "<table border=\"1\" class=\"dataframe\">\n",
       "  <thead>\n",
       "    <tr style=\"text-align: right;\">\n",
       "      <th></th>\n",
       "      <th>age</th>\n",
       "      <th>income</th>\n",
       "    </tr>\n",
       "    <tr>\n",
       "      <th>name</th>\n",
       "      <th></th>\n",
       "      <th></th>\n",
       "    </tr>\n",
       "  </thead>\n",
       "  <tbody>\n",
       "    <tr>\n",
       "      <th>A</th>\n",
       "      <td>25.6</td>\n",
       "      <td>19000.0</td>\n",
       "    </tr>\n",
       "    <tr>\n",
       "      <th>B</th>\n",
       "      <td>25.6</td>\n",
       "      <td>19000.0</td>\n",
       "    </tr>\n",
       "    <tr>\n",
       "      <th>C</th>\n",
       "      <td>32.5</td>\n",
       "      <td>7000.0</td>\n",
       "    </tr>\n",
       "    <tr>\n",
       "      <th>D</th>\n",
       "      <td>25.6</td>\n",
       "      <td>19000.0</td>\n",
       "    </tr>\n",
       "    <tr>\n",
       "      <th>E</th>\n",
       "      <td>32.5</td>\n",
       "      <td>7000.0</td>\n",
       "    </tr>\n",
       "    <tr>\n",
       "      <th>F</th>\n",
       "      <td>32.5</td>\n",
       "      <td>7000.0</td>\n",
       "    </tr>\n",
       "    <tr>\n",
       "      <th>G</th>\n",
       "      <td>25.6</td>\n",
       "      <td>19000.0</td>\n",
       "    </tr>\n",
       "    <tr>\n",
       "      <th>H</th>\n",
       "      <td>25.6</td>\n",
       "      <td>19000.0</td>\n",
       "    </tr>\n",
       "  </tbody>\n",
       "</table>\n",
       "</div>"
      ],
      "text/plain": [
       "       age   income\n",
       "name               \n",
       "A     25.6  19000.0\n",
       "B     25.6  19000.0\n",
       "C     32.5   7000.0\n",
       "D     25.6  19000.0\n",
       "E     32.5   7000.0\n",
       "F     32.5   7000.0\n",
       "G     25.6  19000.0\n",
       "H     25.6  19000.0"
      ]
     },
     "execution_count": 53,
     "metadata": {},
     "output_type": "execute_result"
    }
   ],
   "source": [
    "user_info_gender_group[['age','income']].transform(np.mean)"
   ]
  },
  {
   "cell_type": "markdown",
   "id": "26b725b9",
   "metadata": {},
   "source": [
    "###  Group-wise standardization \n",
    "Performing group-wise standardization using a transformation method is a common operation. Z-score standardization (also known as zero-mean normalization) is a technique that transforms the data to have a mean of zero and a standard deviation of one, resulting in a distribution that follows the standard normal distribution.\n",
    "\n",
    "Equation: $z = \\frac{x - \\mu}{\\sigma}$"
   ]
  },
  {
   "cell_type": "code",
   "execution_count": 54,
   "id": "7119d31a",
   "metadata": {},
   "outputs": [
    {
     "data": {
      "text/plain": [
       "name\n",
       "A   -0.624314\n",
       "B   -0.429216\n",
       "C    1.224745\n",
       "D   -0.585295\n",
       "E   -1.224745\n",
       "F    0.000000\n",
       "G   -0.351177\n",
       "H    1.990002\n",
       "Name: income, dtype: float64"
      ]
     },
     "execution_count": 54,
     "metadata": {},
     "output_type": "execute_result"
    }
   ],
   "source": [
    "user_info_gender_group.income.transform(lambda x: (x - np.mean(x))/np.std(x))"
   ]
  },
  {
   "cell_type": "markdown",
   "id": "8f3b73e5",
   "metadata": {},
   "source": [
    "### Filling missing values with group-wise mean using a transformation method"
   ]
  },
  {
   "cell_type": "code",
   "execution_count": 55,
   "id": "ca6c3408",
   "metadata": {},
   "outputs": [
    {
     "data": {
      "text/plain": [
       "gender\n",
       "female    32.5\n",
       "male      25.6\n",
       "Name: age, dtype: float64"
      ]
     },
     "execution_count": 55,
     "metadata": {},
     "output_type": "execute_result"
    }
   ],
   "source": [
    "user_info_gender_group.age.mean()"
   ]
  },
  {
   "cell_type": "code",
   "execution_count": 56,
   "id": "7e413d3c",
   "metadata": {},
   "outputs": [
    {
     "data": {
      "text/html": [
       "<div>\n",
       "<style scoped>\n",
       "    .dataframe tbody tr th:only-of-type {\n",
       "        vertical-align: middle;\n",
       "    }\n",
       "\n",
       "    .dataframe tbody tr th {\n",
       "        vertical-align: top;\n",
       "    }\n",
       "\n",
       "    .dataframe thead th {\n",
       "        text-align: right;\n",
       "    }\n",
       "</style>\n",
       "<table border=\"1\" class=\"dataframe\">\n",
       "  <thead>\n",
       "    <tr style=\"text-align: right;\">\n",
       "      <th></th>\n",
       "      <th>age</th>\n",
       "      <th>city</th>\n",
       "      <th>gender</th>\n",
       "      <th>income</th>\n",
       "      <th>Age bins</th>\n",
       "    </tr>\n",
       "    <tr>\n",
       "      <th>name</th>\n",
       "      <th></th>\n",
       "      <th></th>\n",
       "      <th></th>\n",
       "      <th></th>\n",
       "      <th></th>\n",
       "    </tr>\n",
       "  </thead>\n",
       "  <tbody>\n",
       "    <tr>\n",
       "      <th>A</th>\n",
       "      <td>18.0</td>\n",
       "      <td>New York</td>\n",
       "      <td>male</td>\n",
       "      <td>3000</td>\n",
       "      <td>Below 20</td>\n",
       "    </tr>\n",
       "    <tr>\n",
       "      <th>B</th>\n",
       "      <td>30.0</td>\n",
       "      <td>Los Angeles</td>\n",
       "      <td>male</td>\n",
       "      <td>8000</td>\n",
       "      <td>Between 21 and 30</td>\n",
       "    </tr>\n",
       "    <tr>\n",
       "      <th>C</th>\n",
       "      <td>35.0</td>\n",
       "      <td>Huston</td>\n",
       "      <td>female</td>\n",
       "      <td>8000</td>\n",
       "      <td>Between 31 and 40</td>\n",
       "    </tr>\n",
       "    <tr>\n",
       "      <th>D</th>\n",
       "      <td>18.0</td>\n",
       "      <td>Orlando</td>\n",
       "      <td>male</td>\n",
       "      <td>4000</td>\n",
       "      <td>Below 20</td>\n",
       "    </tr>\n",
       "    <tr>\n",
       "      <th>E</th>\n",
       "      <td>NaN</td>\n",
       "      <td>NaN</td>\n",
       "      <td>female</td>\n",
       "      <td>6000</td>\n",
       "      <td>NaN</td>\n",
       "    </tr>\n",
       "    <tr>\n",
       "      <th>F</th>\n",
       "      <td>30.0</td>\n",
       "      <td></td>\n",
       "      <td>female</td>\n",
       "      <td>7000</td>\n",
       "      <td>Between 21 and 30</td>\n",
       "    </tr>\n",
       "    <tr>\n",
       "      <th>G</th>\n",
       "      <td>37.0</td>\n",
       "      <td>Miami</td>\n",
       "      <td>male</td>\n",
       "      <td>10000</td>\n",
       "      <td>Between 31 and 40</td>\n",
       "    </tr>\n",
       "    <tr>\n",
       "      <th>H</th>\n",
       "      <td>25.0</td>\n",
       "      <td>Chicago</td>\n",
       "      <td>male</td>\n",
       "      <td>70000</td>\n",
       "      <td>Between 21 and 30</td>\n",
       "    </tr>\n",
       "  </tbody>\n",
       "</table>\n",
       "</div>"
      ],
      "text/plain": [
       "       age         city  gender  income           Age bins\n",
       "name                                                      \n",
       "A     18.0     New York    male    3000           Below 20\n",
       "B     30.0  Los Angeles    male    8000  Between 21 and 30\n",
       "C     35.0       Huston  female    8000  Between 31 and 40\n",
       "D     18.0      Orlando    male    4000           Below 20\n",
       "E      NaN          NaN  female    6000                NaN\n",
       "F     30.0               female    7000  Between 21 and 30\n",
       "G     37.0        Miami    male   10000  Between 31 and 40\n",
       "H     25.0      Chicago    male   70000  Between 21 and 30"
      ]
     },
     "execution_count": 56,
     "metadata": {},
     "output_type": "execute_result"
    }
   ],
   "source": [
    "user_info"
   ]
  },
  {
   "cell_type": "code",
   "execution_count": 57,
   "id": "3c9687c6",
   "metadata": {},
   "outputs": [
    {
     "data": {
      "text/plain": [
       "name\n",
       "A    18.0\n",
       "B    30.0\n",
       "C    35.0\n",
       "D    18.0\n",
       "E    32.5\n",
       "F    30.0\n",
       "G    37.0\n",
       "H    25.0\n",
       "Name: age, dtype: float64"
      ]
     },
     "execution_count": 57,
     "metadata": {},
     "output_type": "execute_result"
    }
   ],
   "source": [
    "user_info_gender_group.age.transform(lambda x: x.fillna(x.mean()))"
   ]
  },
  {
   "cell_type": "markdown",
   "id": "136a4388",
   "metadata": {},
   "source": [
    "# Apply function\n",
    "## Difference between `apply` and `transform`\n",
    "\n",
    "**Similarities**:\n",
    "\n",
    "Both `apply()` and `transform()` can be used to perform calculations on a DataFrame and are often used in conjunction with the `groupby()` method.\n",
    "\n",
    "**Differences**:\n",
    "\n",
    "* `apply()` can accept custom functions, including simple aggregation functions (e.g., sum) and complex feature interaction functions.\n",
    "\n",
    "* `transform()` cannot directly accept custom feature interaction functions because it operates on each element (column) individually. When using transform(), it's important to remember the following:\n",
    "\n",
    "    1. It can only perform calculations on each column, so you need to specify the column(s) to be operated on before the `groupby()` operation. This is a significant difference compared to `apply()`.\n",
    "\n",
    "    2. Due to the column-wise operation, `transform()` has limitations in terms of functionality compared to `apply()`. It can only perform operations such as calculating column-wise maximum/minimum/mean/variance, or creating bins.\n",
    "\n",
    "    3. One common use of transform() is to assign the results of a function back to the original DataFrame. This means the shape of the returned result will be `(len(df), 1)`. Note that when using it in conjunction with `groupby()`, we may need to remove duplicate values."
   ]
  },
  {
   "cell_type": "markdown",
   "id": "c90c61f9",
   "metadata": {},
   "source": [
    "## The flexibility of the `apply()`\n",
    "\n",
    "The flexibility of the `apply()` function lies in its ability to return diverse types of results, making it widely used among all group functions.\n",
    "\n",
    "### Return scalar"
   ]
  },
  {
   "cell_type": "code",
   "execution_count": 58,
   "id": "1893cd3f",
   "metadata": {},
   "outputs": [
    {
     "data": {
      "text/html": [
       "<div>\n",
       "<style scoped>\n",
       "    .dataframe tbody tr th:only-of-type {\n",
       "        vertical-align: middle;\n",
       "    }\n",
       "\n",
       "    .dataframe tbody tr th {\n",
       "        vertical-align: top;\n",
       "    }\n",
       "\n",
       "    .dataframe thead th {\n",
       "        text-align: right;\n",
       "    }\n",
       "</style>\n",
       "<table border=\"1\" class=\"dataframe\">\n",
       "  <thead>\n",
       "    <tr style=\"text-align: right;\">\n",
       "      <th></th>\n",
       "      <th>age</th>\n",
       "      <th>income</th>\n",
       "    </tr>\n",
       "    <tr>\n",
       "      <th>gender</th>\n",
       "      <th></th>\n",
       "      <th></th>\n",
       "    </tr>\n",
       "  </thead>\n",
       "  <tbody>\n",
       "    <tr>\n",
       "      <th>female</th>\n",
       "      <td>32.5</td>\n",
       "      <td>7000.0</td>\n",
       "    </tr>\n",
       "    <tr>\n",
       "      <th>male</th>\n",
       "      <td>25.6</td>\n",
       "      <td>19000.0</td>\n",
       "    </tr>\n",
       "  </tbody>\n",
       "</table>\n",
       "</div>"
      ],
      "text/plain": [
       "         age   income\n",
       "gender               \n",
       "female  32.5   7000.0\n",
       "male    25.6  19000.0"
      ]
     },
     "execution_count": 58,
     "metadata": {},
     "output_type": "execute_result"
    }
   ],
   "source": [
    "# Group by gender, and show the average values of age and income\n",
    "def custom_mean(x):\n",
    "    return x.mean()\n",
    "user_info_gender_group[['age','income']].apply(custom_mean)"
   ]
  },
  {
   "cell_type": "code",
   "execution_count": 59,
   "id": "c9b09cf5",
   "metadata": {},
   "outputs": [
    {
     "data": {
      "text/html": [
       "<div>\n",
       "<style scoped>\n",
       "    .dataframe tbody tr th:only-of-type {\n",
       "        vertical-align: middle;\n",
       "    }\n",
       "\n",
       "    .dataframe tbody tr th {\n",
       "        vertical-align: top;\n",
       "    }\n",
       "\n",
       "    .dataframe thead th {\n",
       "        text-align: right;\n",
       "    }\n",
       "</style>\n",
       "<table border=\"1\" class=\"dataframe\">\n",
       "  <thead>\n",
       "    <tr style=\"text-align: right;\">\n",
       "      <th></th>\n",
       "      <th>age</th>\n",
       "      <th>income</th>\n",
       "    </tr>\n",
       "    <tr>\n",
       "      <th>gender</th>\n",
       "      <th></th>\n",
       "      <th></th>\n",
       "    </tr>\n",
       "  </thead>\n",
       "  <tbody>\n",
       "    <tr>\n",
       "      <th>female</th>\n",
       "      <td>32.5</td>\n",
       "      <td>7000.0</td>\n",
       "    </tr>\n",
       "    <tr>\n",
       "      <th>male</th>\n",
       "      <td>25.6</td>\n",
       "      <td>19000.0</td>\n",
       "    </tr>\n",
       "  </tbody>\n",
       "</table>\n",
       "</div>"
      ],
      "text/plain": [
       "         age   income\n",
       "gender               \n",
       "female  32.5   7000.0\n",
       "male    25.6  19000.0"
      ]
     },
     "execution_count": 59,
     "metadata": {},
     "output_type": "execute_result"
    }
   ],
   "source": [
    "user_info_gender_group[['age','income']].apply(lambda x: x.mean())"
   ]
  },
  {
   "cell_type": "code",
   "execution_count": 60,
   "id": "f5f744f1",
   "metadata": {},
   "outputs": [],
   "source": [
    "# Find the highest n values by gender group\n",
    "def find_highest_n(data, num):\n",
    "    \n",
    "    \"\"\"\n",
    "    data: Dataframe\n",
    "    \n",
    "    \"\"\"\n",
    "    return data.nlargest(num)"
   ]
  },
  {
   "cell_type": "code",
   "execution_count": 61,
   "id": "220f0a44",
   "metadata": {},
   "outputs": [
    {
     "data": {
      "text/plain": [
       "gender  name\n",
       "female  C        8000\n",
       "        F        7000\n",
       "        E        6000\n",
       "male    H       70000\n",
       "        G       10000\n",
       "        B        8000\n",
       "Name: income, dtype: int64"
      ]
     },
     "execution_count": 61,
     "metadata": {},
     "output_type": "execute_result"
    }
   ],
   "source": [
    "user_info_gender_group.income.apply(find_highest_n, 3)"
   ]
  },
  {
   "cell_type": "code",
   "execution_count": 62,
   "id": "8437f87d",
   "metadata": {},
   "outputs": [
    {
     "data": {
      "text/plain": [
       "gender\n",
       "female    32.5\n",
       "male      25.6\n",
       "Name: age, dtype: float64"
      ]
     },
     "execution_count": 62,
     "metadata": {},
     "output_type": "execute_result"
    }
   ],
   "source": [
    "# By gender group, display average age\n",
    "user_info_gender_group.age.apply(np.mean)"
   ]
  },
  {
   "cell_type": "code",
   "execution_count": 63,
   "id": "3c48712c",
   "metadata": {},
   "outputs": [
    {
     "data": {
      "text/plain": [
       "gender\n",
       "female    6000\n",
       "male      3000\n",
       "Name: income, dtype: int64"
      ]
     },
     "execution_count": 63,
     "metadata": {},
     "output_type": "execute_result"
    }
   ],
   "source": [
    "user_info_gender_group.income.apply(lambda x: x.min())"
   ]
  },
  {
   "cell_type": "markdown",
   "id": "86a37e3b",
   "metadata": {},
   "source": [
    "### Return a list"
   ]
  },
  {
   "cell_type": "code",
   "execution_count": 64,
   "id": "b78a1dc7",
   "metadata": {},
   "outputs": [
    {
     "data": {
      "text/plain": [
       "gender  name\n",
       "female  C        2000\n",
       "        E           0\n",
       "        F        1000\n",
       "male    A           0\n",
       "        B        5000\n",
       "        D        1000\n",
       "        G        7000\n",
       "        H       67000\n",
       "Name: income, dtype: int64"
      ]
     },
     "execution_count": 64,
     "metadata": {},
     "output_type": "execute_result"
    }
   ],
   "source": [
    "user_info_gender_group['income'].apply(lambda x: x - x.min())"
   ]
  },
  {
   "cell_type": "code",
   "execution_count": 65,
   "id": "5758d662",
   "metadata": {},
   "outputs": [
    {
     "data": {
      "text/html": [
       "<div>\n",
       "<style scoped>\n",
       "    .dataframe tbody tr th:only-of-type {\n",
       "        vertical-align: middle;\n",
       "    }\n",
       "\n",
       "    .dataframe tbody tr th {\n",
       "        vertical-align: top;\n",
       "    }\n",
       "\n",
       "    .dataframe thead th {\n",
       "        text-align: right;\n",
       "    }\n",
       "</style>\n",
       "<table border=\"1\" class=\"dataframe\">\n",
       "  <thead>\n",
       "    <tr style=\"text-align: right;\">\n",
       "      <th></th>\n",
       "      <th></th>\n",
       "      <th>income</th>\n",
       "      <th>age</th>\n",
       "    </tr>\n",
       "    <tr>\n",
       "      <th>gender</th>\n",
       "      <th>name</th>\n",
       "      <th></th>\n",
       "      <th></th>\n",
       "    </tr>\n",
       "  </thead>\n",
       "  <tbody>\n",
       "    <tr>\n",
       "      <th rowspan=\"3\" valign=\"top\">female</th>\n",
       "      <th>C</th>\n",
       "      <td>2000.0</td>\n",
       "      <td>5.0</td>\n",
       "    </tr>\n",
       "    <tr>\n",
       "      <th>E</th>\n",
       "      <td>0.0</td>\n",
       "      <td>NaN</td>\n",
       "    </tr>\n",
       "    <tr>\n",
       "      <th>F</th>\n",
       "      <td>1000.0</td>\n",
       "      <td>0.0</td>\n",
       "    </tr>\n",
       "    <tr>\n",
       "      <th rowspan=\"5\" valign=\"top\">male</th>\n",
       "      <th>A</th>\n",
       "      <td>0.0</td>\n",
       "      <td>0.0</td>\n",
       "    </tr>\n",
       "    <tr>\n",
       "      <th>B</th>\n",
       "      <td>5000.0</td>\n",
       "      <td>12.0</td>\n",
       "    </tr>\n",
       "    <tr>\n",
       "      <th>D</th>\n",
       "      <td>1000.0</td>\n",
       "      <td>0.0</td>\n",
       "    </tr>\n",
       "    <tr>\n",
       "      <th>G</th>\n",
       "      <td>7000.0</td>\n",
       "      <td>19.0</td>\n",
       "    </tr>\n",
       "    <tr>\n",
       "      <th>H</th>\n",
       "      <td>67000.0</td>\n",
       "      <td>7.0</td>\n",
       "    </tr>\n",
       "  </tbody>\n",
       "</table>\n",
       "</div>"
      ],
      "text/plain": [
       "              income   age\n",
       "gender name               \n",
       "female C      2000.0   5.0\n",
       "       E         0.0   NaN\n",
       "       F      1000.0   0.0\n",
       "male   A         0.0   0.0\n",
       "       B      5000.0  12.0\n",
       "       D      1000.0   0.0\n",
       "       G      7000.0  19.0\n",
       "       H     67000.0   7.0"
      ]
     },
     "execution_count": 65,
     "metadata": {},
     "output_type": "execute_result"
    }
   ],
   "source": [
    "user_info_gender_group[['income','age']].apply(lambda x: x - x.min())"
   ]
  },
  {
   "cell_type": "markdown",
   "id": "7a763fc9",
   "metadata": {},
   "source": [
    "### Return a DataFrame"
   ]
  },
  {
   "cell_type": "code",
   "execution_count": 66,
   "id": "36a4f4f9",
   "metadata": {},
   "outputs": [
    {
     "data": {
      "text/html": [
       "<div>\n",
       "<style scoped>\n",
       "    .dataframe tbody tr th:only-of-type {\n",
       "        vertical-align: middle;\n",
       "    }\n",
       "\n",
       "    .dataframe tbody tr th {\n",
       "        vertical-align: top;\n",
       "    }\n",
       "\n",
       "    .dataframe thead th {\n",
       "        text-align: right;\n",
       "    }\n",
       "</style>\n",
       "<table border=\"1\" class=\"dataframe\">\n",
       "  <thead>\n",
       "    <tr style=\"text-align: right;\">\n",
       "      <th></th>\n",
       "      <th></th>\n",
       "      <th>age_diff_max</th>\n",
       "      <th>age_diff_min</th>\n",
       "      <th>income_diff_max</th>\n",
       "      <th>income_diff_min</th>\n",
       "    </tr>\n",
       "    <tr>\n",
       "      <th>gender</th>\n",
       "      <th>name</th>\n",
       "      <th></th>\n",
       "      <th></th>\n",
       "      <th></th>\n",
       "      <th></th>\n",
       "    </tr>\n",
       "  </thead>\n",
       "  <tbody>\n",
       "    <tr>\n",
       "      <th rowspan=\"3\" valign=\"top\">female</th>\n",
       "      <th>C</th>\n",
       "      <td>0.0</td>\n",
       "      <td>5.0</td>\n",
       "      <td>0</td>\n",
       "      <td>2000</td>\n",
       "    </tr>\n",
       "    <tr>\n",
       "      <th>E</th>\n",
       "      <td>NaN</td>\n",
       "      <td>NaN</td>\n",
       "      <td>-2000</td>\n",
       "      <td>0</td>\n",
       "    </tr>\n",
       "    <tr>\n",
       "      <th>F</th>\n",
       "      <td>-5.0</td>\n",
       "      <td>0.0</td>\n",
       "      <td>-1000</td>\n",
       "      <td>1000</td>\n",
       "    </tr>\n",
       "    <tr>\n",
       "      <th rowspan=\"2\" valign=\"top\">male</th>\n",
       "      <th>A</th>\n",
       "      <td>-19.0</td>\n",
       "      <td>0.0</td>\n",
       "      <td>-67000</td>\n",
       "      <td>0</td>\n",
       "    </tr>\n",
       "    <tr>\n",
       "      <th>B</th>\n",
       "      <td>-7.0</td>\n",
       "      <td>12.0</td>\n",
       "      <td>-62000</td>\n",
       "      <td>5000</td>\n",
       "    </tr>\n",
       "  </tbody>\n",
       "</table>\n",
       "</div>"
      ],
      "text/plain": [
       "             age_diff_max  age_diff_min  income_diff_max  income_diff_min\n",
       "gender name                                                              \n",
       "female C              0.0           5.0                0             2000\n",
       "       E              NaN           NaN            -2000                0\n",
       "       F             -5.0           0.0            -1000             1000\n",
       "male   A            -19.0           0.0           -67000                0\n",
       "       B             -7.0          12.0           -62000             5000"
      ]
     },
     "execution_count": 66,
     "metadata": {},
     "output_type": "execute_result"
    }
   ],
   "source": [
    "user_info_gender_group.apply(lambda x: pd.DataFrame({'age_diff_max':x['age']-x['age'].max(),\n",
    "                                  'age_diff_min':x['age']-x['age'].min(),\n",
    "                                  'income_diff_max':x['income']-x['income'].max(),\n",
    "                                  'income_diff_min':x['income']-x['income'].min()})).head()"
   ]
  },
  {
   "cell_type": "markdown",
   "id": "25a581ee",
   "metadata": {},
   "source": [
    "### To calculate multiple statistics "
   ]
  },
  {
   "cell_type": "code",
   "execution_count": 67,
   "id": "46ce32d9",
   "metadata": {},
   "outputs": [
    {
     "data": {
      "text/html": [
       "<div>\n",
       "<style scoped>\n",
       "    .dataframe tbody tr th:only-of-type {\n",
       "        vertical-align: middle;\n",
       "    }\n",
       "\n",
       "    .dataframe tbody tr th {\n",
       "        vertical-align: top;\n",
       "    }\n",
       "\n",
       "    .dataframe thead th {\n",
       "        text-align: right;\n",
       "    }\n",
       "</style>\n",
       "<table border=\"1\" class=\"dataframe\">\n",
       "  <thead>\n",
       "    <tr style=\"text-align: right;\">\n",
       "      <th></th>\n",
       "      <th>income_sum</th>\n",
       "      <th>income_var</th>\n",
       "      <th>income_mean</th>\n",
       "    </tr>\n",
       "    <tr>\n",
       "      <th>gender</th>\n",
       "      <th></th>\n",
       "      <th></th>\n",
       "      <th></th>\n",
       "    </tr>\n",
       "  </thead>\n",
       "  <tbody>\n",
       "    <tr>\n",
       "      <th>female</th>\n",
       "      <td>21000.0</td>\n",
       "      <td>1000000.0</td>\n",
       "      <td>7000.0</td>\n",
       "    </tr>\n",
       "    <tr>\n",
       "      <th>male</th>\n",
       "      <td>95000.0</td>\n",
       "      <td>821000000.0</td>\n",
       "      <td>19000.0</td>\n",
       "    </tr>\n",
       "  </tbody>\n",
       "</table>\n",
       "</div>"
      ],
      "text/plain": [
       "        income_sum   income_var  income_mean\n",
       "gender                                      \n",
       "female     21000.0    1000000.0       7000.0\n",
       "male       95000.0  821000000.0      19000.0"
      ]
     },
     "execution_count": 67,
     "metadata": {},
     "output_type": "execute_result"
    }
   ],
   "source": [
    "#To calculate the sum, variance, and mean of the 'income' column within each gender group, \n",
    "def f(df):\n",
    "    data = {}\n",
    "    data['income_sum'] = df['income'].sum()\n",
    "    data['income_var'] = df['income'].var()\n",
    "    data['income_mean'] = df['income'].mean()\n",
    "    return pd.Series(data)\n",
    "\n",
    "user_info_gender_group.apply(f)"
   ]
  },
  {
   "cell_type": "markdown",
   "id": "acfd947d",
   "metadata": {},
   "source": [
    "## `agg`, `transform` and `apply` comparison"
   ]
  },
  {
   "cell_type": "markdown",
   "id": "8e4eca10",
   "metadata": {},
   "source": [
    "`agg`, `transform`, and `apply` are three methods in pandas for performing calculations on grouped data. \n",
    "The comparison was conducted for the following combinations:\n",
    "\n",
    "* `transform()` method with a custom function\n",
    "* `transform()` method with a built-in Python function\n",
    "* `apply()` method with a custom function\n",
    "* `agg()` method with a custom function\n",
    "* `agg()` method with a built-in Python function\n",
    "Based on the results, the conclusions were as follows:\n",
    "\n",
    "`agg()` with a built-in Python function > `transform()` with a built-in Python function > `agg()` with a custom function >= `apply()` with a custom function > `transform()` with a custom function."
   ]
  }
 ],
 "metadata": {
  "kernelspec": {
   "display_name": "Python 3 (ipykernel)",
   "language": "python",
   "name": "python3"
  },
  "language_info": {
   "codemirror_mode": {
    "name": "ipython",
    "version": 3
   },
   "file_extension": ".py",
   "mimetype": "text/x-python",
   "name": "python",
   "nbconvert_exporter": "python",
   "pygments_lexer": "ipython3",
   "version": "3.10.7"
  },
  "toc": {
   "base_numbering": 1,
   "nav_menu": {},
   "number_sections": true,
   "sideBar": true,
   "skip_h1_title": false,
   "title_cell": "Table of Contents",
   "title_sidebar": "Contents",
   "toc_cell": false,
   "toc_position": {},
   "toc_section_display": true,
   "toc_window_display": true
  }
 },
 "nbformat": 4,
 "nbformat_minor": 5
}
