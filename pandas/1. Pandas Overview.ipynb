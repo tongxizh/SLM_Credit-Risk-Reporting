{
 "cells": [
  {
   "cell_type": "code",
   "execution_count": 1,
   "id": "5aa998f3",
   "metadata": {},
   "outputs": [],
   "source": [
    "import numpy as np\n",
    "import pandas as pd "
   ]
  },
  {
   "cell_type": "markdown",
   "id": "244b22ad",
   "metadata": {},
   "source": [
    "# Overview of pandas\n",
    "\n",
    "**Pandas is suitable for handling the following types of data:**\n",
    "\n",
    "* Tabular data with heterogeneous columns, similar to SQL or Excel tables.\n",
    "\n",
    "* Time series data.\n",
    "\n",
    "* Matrix data with labeled rows and columns.\n",
    "\n",
    "* The main data structures in pandas are `Series` (one-dimensional data) and `DataFrame` (two-dimensional data). These two data structures are capable of handling the majority of typical use cases in fields such as finance, statistics, social sciences, engineering. Pandas is developed based on `NumPy` and seamlessly integrates with other third-party scientific computing libraries."
   ]
  },
  {
   "cell_type": "markdown",
   "id": "626a671e",
   "metadata": {},
   "source": [
    "## Data Structure\n",
    "\n",
    "Pandas two core Data Structures ：**Series** & **DataFrame**。 \n",
    "\n",
    "|Dimension\t  |  Name      |             Description       |  Data Table |\n",
    "| :--:  |  :---:     |       :-------:          | :---:  |\n",
    "|  1   |  Series    |    A labeled one-dimensional homogeneous array      |   a single column or row of data |\n",
    "|  2   |\tDataFrame|\tA labeled and size-mutable two-dimensional heterogeneous table|  a sheet in Excel or a table in a database.|\n",
    "\n",
    "\n",
    "- **Series**: Each element in the Series is associated with a label or index, allowing for easy and efficient access to the data. The Series can hold data of any type, such as numbers, strings, or dates.\n",
    "\n",
    "- **DataFrame**:The DataFrame allows for flexible data manipulation and analysis, providing a tabular structure with labeled rows and columns. It is commonly used for storing and working with structured data, supporting operations such as indexing, filtering, merging, and statistical computations\n"
   ]
  },
  {
   "cell_type": "markdown",
   "id": "885273dc",
   "metadata": {},
   "source": [
    "## Check the version of Pandas"
   ]
  },
  {
   "cell_type": "code",
   "execution_count": 2,
   "id": "2a69df99",
   "metadata": {},
   "outputs": [
    {
     "data": {
      "text/plain": [
       "'2.0.2'"
      ]
     },
     "execution_count": 2,
     "metadata": {},
     "output_type": "execute_result"
    }
   ],
   "source": [
    "pd.__version__"
   ]
  },
  {
   "cell_type": "markdown",
   "id": "4838a69b",
   "metadata": {},
   "source": [
    "# Data Type\n",
    "## Main data type\n",
    "\n",
    "- float\n",
    "- int\n",
    "- bool\n",
    "- datetime64[ns]\n",
    "- datetime64[ns, tz]\n",
    "- timedelta64[ns]\n",
    "- timedelta[ns]\n",
    "- category\n",
    "- object\n",
    "- string \n",
    "\n",
    "Here is a mapping of the default data types in Pandas to their corresponding types in Python and NumPy:\n",
    "\n",
    "| Pandas         | Python       | NumPy                                                          | \n",
    "| -------------- | ------------ | ------------------------------------------------------------   | \n",
    "| object         | str or mixed | string_, unicode_, mixed types                                 | \n",
    "| int64          | int          | int, int8, int16, int32, int64, uint8, uint16, uint32, uint64 | \n",
    "| float64        | float        | float, float16, float32, float64                              | \n",
    "| bool           | bool         | bool                                                          | \n",
    "| datetime64[ns] | nan          | datetime64[ns]                                                 | \n",
    "| timedelta[ns]  | nan          | nan                                                            | \n",
    "| category       | nan          | nan                                                            | \n"
   ]
  },
  {
   "cell_type": "markdown",
   "id": "d6851198",
   "metadata": {},
   "source": [
    "# Series \n",
    "\n",
    "Series is a one-dimensional array with a name and an index. Unlike traditional arrays where all elements must have the same data type, Series allows elements of different data types. The data types that can be included in a Series can be integers, floats, strings, Python objects, and more. In this aspect, Series is similar to Python lists. However, unlike lists that can only be accessed using numerical indexing, Series allows values to be accessed using custom indexes. From this perspective, Series is similar to dictionaries.\n",
    "\n",
    "## Generate series\n",
    "```python\n",
    "pandas.Series(data=None, index = None, dtype = None, name = None, copy = False)\n",
    "```\n",
    "**The explanation of the parameters:**\n",
    "\n",
    "**data**: Supports various data types:\n",
    "\n",
    "    - Python dictionary\n",
    "    - Multi-dimensional array\n",
    "    - Scalar value (e.g., 5)\n",
    "\n",
    "**index**: The index, similar to an array or list. The values must be hashable and have the same length as \"data\". Non-unique index values are allowed. By default, it will be a RangeIndex (0, 1, 2, ..., n) if not provided. If both \"index\" and a dictionary are provided, the \"index\" will override the keys of the dictionary.\n",
    "\n",
    "**dtype**: str, numpy.dtype, or ExtensionType, optional. The desired data type for the output Series. If not specified, it will be inferred from the \"data\".\n",
    "\n",
    "**name**: The name of the Series.\n",
    "\n",
    "**copy**: bool, default False. Specifies whether to make a copy of the input data or not.\n",
    "\n",
    "### Generate a series using a list or a array"
   ]
  },
  {
   "cell_type": "code",
   "execution_count": 3,
   "id": "2bd6fbd5",
   "metadata": {},
   "outputs": [
    {
     "name": "stdout",
     "output_type": "stream",
     "text": [
      "Series ojbect: \n",
      " 0    0.638583\n",
      "1    0.576698\n",
      "2    0.180556\n",
      "3    0.977612\n",
      "4    0.454322\n",
      "dtype: float64\n",
      "Type of Series object: <class 'pandas.core.series.Series'>\n"
     ]
    }
   ],
   "source": [
    "# Define a Series object\n",
    "s = pd.Series(np.random.rand(5))\n",
    "print(\"Series ojbect: \\n\", s)\n",
    "print(\"Type of Series object:\", type(s))"
   ]
  },
  {
   "cell_type": "code",
   "execution_count": 4,
   "id": "854b5949",
   "metadata": {},
   "outputs": [
    {
     "name": "stdout",
     "output_type": "stream",
     "text": [
      "Series index: RangeIndex(start=0, stop=5, step=1) \n",
      " type: <class 'pandas.core.indexes.range.RangeIndex'>\n",
      "Series values: [0.63858306 0.57669815 0.1805559  0.97761203 0.45432195] \n",
      " type: <class 'numpy.ndarray'>\n"
     ]
    }
   ],
   "source": [
    "# Check the Series object index and values\n",
    "print(\"Series index:\", s.index, \"\\n type:\", type(s.index))\n",
    "print(\"Series values:\", s.values, \"\\n type:\", type(s.values))  # type is ndarray"
   ]
  },
  {
   "cell_type": "markdown",
   "id": "298e8b99",
   "metadata": {},
   "source": [
    "Generate a Series using a `ndarray`, Pandas automatically generates integer indexes by default."
   ]
  },
  {
   "cell_type": "code",
   "execution_count": 5,
   "id": "46a97949",
   "metadata": {},
   "outputs": [
    {
     "data": {
      "text/plain": [
       "0    0.153039\n",
       "1    0.471209\n",
       "2    0.757999\n",
       "3    0.293920\n",
       "4    0.517502\n",
       "dtype: float64"
      ]
     },
     "execution_count": 5,
     "metadata": {},
     "output_type": "execute_result"
    }
   ],
   "source": [
    "arr = np.random.rand(5)\n",
    "# Generate series object through ndarray\n",
    "s1 = pd.Series(arr)  # Default index is 0, step is 1\n",
    "s1"
   ]
  },
  {
   "cell_type": "code",
   "execution_count": 6,
   "id": "fc6d16cf",
   "metadata": {},
   "outputs": [
    {
     "data": {
      "text/plain": [
       "a    0.153039\n",
       "b    0.471209\n",
       "c    0.757999\n",
       "d    0.293920\n",
       "e    0.517502\n",
       "dtype: float32"
      ]
     },
     "execution_count": 6,
     "metadata": {},
     "output_type": "execute_result"
    }
   ],
   "source": [
    "# Generate series object via ndarry, set up the index by a list ['a', 'b', 'c', 'd', 'e']\n",
    "s2 = pd.Series(arr, index = ['a', 'b', 'c', 'd', 'e'], dtype = np.float32) # dtype to set the data type\n",
    "s2"
   ]
  },
  {
   "cell_type": "code",
   "execution_count": 7,
   "id": "edcd9364",
   "metadata": {},
   "outputs": [
    {
     "data": {
      "text/plain": [
       "Index\n",
       "a    0.153039\n",
       "b    0.471209\n",
       "c    0.757999\n",
       "d    0.293920\n",
       "e    0.517502\n",
       "Name: Random Numbers, dtype: float32"
      ]
     },
     "execution_count": 7,
     "metadata": {},
     "output_type": "execute_result"
    }
   ],
   "source": [
    "s2.index.name = \"Index\"  # Add a name to index\n",
    "s2.name = \"Random Numbers\" # Add a name to series\n",
    "s2"
   ]
  },
  {
   "cell_type": "markdown",
   "id": "4e8b1599",
   "metadata": {},
   "source": [
    "### Generate a series using dictionary\n",
    "\n",
    "The key of dictionary will be the index, the values of dictionary will be the values."
   ]
  },
  {
   "cell_type": "code",
   "execution_count": 8,
   "id": "c84e9b9c",
   "metadata": {},
   "outputs": [
    {
     "data": {
      "text/plain": [
       "a    1\n",
       "b    2\n",
       "c    3\n",
       "d    4\n",
       "e    5\n",
       "dtype: int64"
      ]
     },
     "execution_count": 8,
     "metadata": {},
     "output_type": "execute_result"
    }
   ],
   "source": [
    "dic = {\"a\": 1, \"b\":2, \"c\":3, \"d\":4, \"e\": 5}\n",
    "s3 = pd.Series(dic)\n",
    "s3"
   ]
  },
  {
   "cell_type": "code",
   "execution_count": 9,
   "id": "40a0ddec",
   "metadata": {},
   "outputs": [
    {
     "data": {
      "text/plain": [
       "a                        1\n",
       "b    Credit Risk Reporting\n",
       "c                      3.5\n",
       "d                        4\n",
       "e                        5\n",
       "dtype: object"
      ]
     },
     "execution_count": 9,
     "metadata": {},
     "output_type": "execute_result"
    }
   ],
   "source": [
    "# Key must be the string, but if the values are string or other type?\n",
    "dic1 = {\"a\": 1, \"b\": \"Credit Risk Reporting\", \"c\": 3.5, \"d\":4, \"e\": 5}\n",
    "s4 = pd.Series(dic1)\n",
    "s4    # date type has been changed to object"
   ]
  },
  {
   "cell_type": "markdown",
   "id": "ee06e260",
   "metadata": {},
   "source": [
    "### Generate a series using a scalar value"
   ]
  },
  {
   "cell_type": "code",
   "execution_count": 10,
   "id": "1b908382",
   "metadata": {},
   "outputs": [
    {
     "data": {
      "text/plain": [
       "0    888\n",
       "1    888\n",
       "2    888\n",
       "3    888\n",
       "4    888\n",
       "dtype: int64"
      ]
     },
     "execution_count": 10,
     "metadata": {},
     "output_type": "execute_result"
    }
   ],
   "source": [
    "pd.Series(888, index = np.arange(5))"
   ]
  },
  {
   "cell_type": "markdown",
   "id": "98710823",
   "metadata": {},
   "source": [
    "## Properties of series\n",
    "Common attributes of a Series include:\n",
    "- shape: Series shape\n",
    "- index: Series index\n",
    "- values: Series values, ndarray type\n",
    "- name: Series name\n",
    "- dtype: Series data type"
   ]
  },
  {
   "cell_type": "markdown",
   "id": "7e0a6b21",
   "metadata": {},
   "source": [
    "## Methods of series"
   ]
  },
  {
   "cell_type": "markdown",
   "id": "f7f1c0cc",
   "metadata": {},
   "source": [
    "### Basic methods\n",
    "* head(n): View the first n elements of the Series. By default, n is 5.\n",
    "* tail(n): View the last n elements of the Series. By default, n is 5.\n",
    "* unique(): Return the unique elements in the Series.\n",
    "* nunique(dropna=False): Return the number of unique elements in the Series. If dropna is False, it includes missing values.\n",
    "* isna(): Check if the elements are missing values.\n",
    "* isnull(): Same as isna().\n",
    "* dropna(inplace=False): Remove missing values from the Series.\n",
    "* isin(values): Check for membership, where values can be a set or list-like object. It checks if each element in the Series is a member of values.\n",
    "* sort_index(ascending=False, inplace=False): Sort the index in ascending or descending order.\n",
    "* sort_values(ascending=False, inplace=False): Sort the values in ascending or descending order.\n",
    "* idxmax(): Return the index of the maximum value.\n",
    "* idxmin(): Return the index of the minimum value.\n",
    "* nlargest(n): Return the n largest values.\n",
    "* nsmallest(n): Return the n smallest values.\n",
    "* count(): Return the number of non-missing values.\n",
    "* value_counts(ascending=False, dropna=True): Count the frequency of each value in the Series.\n",
    "* clip(lower, upper, inplace=False): Truncate the Series values to be within the lower-upper range. Values below lower are replaced with lower, and values above upper are replaced with upper.\n",
    "* replace(to_replace, value=None, inplace=False): Replace specified values in the Series.\n",
    "* where(cond, other=np.nan, inplace=False): Replace elements in the Series that do not satisfy the condition with other.\n",
    "* add_prefix(prefix): Add a prefix to the Series.\n",
    "* add_suffix(suffix): Add a suffix to the Series.\n",
    "* reset_index(drop=False, name=None, inplace=False): Reset the index. When drop is False, it returns a DataFrame.\n",
    "* to_frame(name=None): Convert the Series to a DataFrame.\n",
    "* append(to_append, ignore_index=False, verify_integrity=False): Concatenate two Series together.\n"
   ]
  },
  {
   "cell_type": "markdown",
   "id": "ebf6b795",
   "metadata": {},
   "source": [
    "## The operations for adding, deleting, modifying, and querying a Series:"
   ]
  },
  {
   "cell_type": "markdown",
   "id": "c1bd207d",
   "metadata": {},
   "source": [
    "### Access data elements:\n",
    "\n",
    "There are three ways to access data elements in a Series:\n",
    "\n",
    "* Indexing: Accessing elements by their index labels.\n",
    "* Positional indexing: Accessing elements by their numerical position or index.\n",
    "* Boolean indexing: Accessing elements based on a Boolean condition."
   ]
  },
  {
   "cell_type": "code",
   "execution_count": 11,
   "id": "926fa1e9",
   "metadata": {},
   "outputs": [
    {
     "data": {
      "text/plain": [
       "name\n",
       "Tom      18\n",
       "Bob      30\n",
       "Mary     25\n",
       "James    40\n",
       "Name: user_age_info, dtype: int64"
      ]
     },
     "execution_count": 11,
     "metadata": {},
     "output_type": "execute_result"
    }
   ],
   "source": [
    "name = pd.Index([\"Tom\", \"Bob\", \"Mary\", \"James\"], name = \"name\")\n",
    "user_age = pd.Series(data = [18, 30, 25, 40], index = name, name = \"user_age_info\")\n",
    "user_age"
   ]
  },
  {
   "cell_type": "markdown",
   "id": "e9d1cd17",
   "metadata": {},
   "source": [
    "### Access by index\n",
    "Access for a specific element by index."
   ]
  },
  {
   "cell_type": "code",
   "execution_count": 12,
   "id": "177149ff",
   "metadata": {},
   "outputs": [
    {
     "data": {
      "text/plain": [
       "18"
      ]
     },
     "execution_count": 12,
     "metadata": {},
     "output_type": "execute_result"
    }
   ],
   "source": [
    "# Get Tom's age\n",
    "user_age.Tom  # Access the property"
   ]
  },
  {
   "cell_type": "code",
   "execution_count": 13,
   "id": "4d870081",
   "metadata": {},
   "outputs": [
    {
     "data": {
      "text/plain": [
       "18"
      ]
     },
     "execution_count": 13,
     "metadata": {},
     "output_type": "execute_result"
    }
   ],
   "source": [
    "user_age['Tom'] # Access using the dictionary"
   ]
  },
  {
   "cell_type": "code",
   "execution_count": 14,
   "id": "5d681002",
   "metadata": {},
   "outputs": [
    {
     "data": {
      "text/plain": [
       "18"
      ]
     },
     "execution_count": 14,
     "metadata": {},
     "output_type": "execute_result"
    }
   ],
   "source": [
    "user_age.get('Tom')"
   ]
  },
  {
   "cell_type": "code",
   "execution_count": 15,
   "id": "1c9778bc",
   "metadata": {},
   "outputs": [],
   "source": [
    "# user_age['Kobe']  # Error\n",
    "user_age.get('Kobe')  # get method without error"
   ]
  },
  {
   "cell_type": "code",
   "execution_count": 16,
   "id": "5f442d5b",
   "metadata": {},
   "outputs": [
    {
     "data": {
      "text/plain": [
       "30"
      ]
     },
     "execution_count": 16,
     "metadata": {},
     "output_type": "execute_result"
    }
   ],
   "source": [
    "user_age.get('Kobe', default=30)  # Setting a default value for a non-existent key."
   ]
  },
  {
   "cell_type": "markdown",
   "id": "8da2136c",
   "metadata": {},
   "source": [
    "Access multiple elements using an array of indexes."
   ]
  },
  {
   "cell_type": "code",
   "execution_count": 17,
   "id": "9977ac3e",
   "metadata": {},
   "outputs": [
    {
     "data": {
      "text/plain": [
       "name\n",
       "Tom      18\n",
       "James    40\n",
       "Name: user_age_info, dtype: int64"
      ]
     },
     "execution_count": 17,
     "metadata": {},
     "output_type": "execute_result"
    }
   ],
   "source": [
    "user_age[['Tom', 'James']]"
   ]
  },
  {
   "cell_type": "markdown",
   "id": "836d66dd",
   "metadata": {},
   "source": [
    "### Accessing by position.\n",
    "\n",
    "Access a specific element by position."
   ]
  },
  {
   "cell_type": "code",
   "execution_count": 18,
   "id": "084f46f2",
   "metadata": {},
   "outputs": [
    {
     "data": {
      "text/plain": [
       "18"
      ]
     },
     "execution_count": 18,
     "metadata": {},
     "output_type": "execute_result"
    }
   ],
   "source": [
    "user_age[0]  # The first element"
   ]
  },
  {
   "cell_type": "markdown",
   "id": "cd35143b",
   "metadata": {},
   "source": [
    "Access multiple elements using an array of positions."
   ]
  },
  {
   "cell_type": "code",
   "execution_count": 19,
   "id": "9ab19d74",
   "metadata": {},
   "outputs": [
    {
     "data": {
      "text/plain": [
       "name\n",
       "Bob      30\n",
       "James    40\n",
       "Name: user_age_info, dtype: int64"
      ]
     },
     "execution_count": 19,
     "metadata": {},
     "output_type": "execute_result"
    }
   ],
   "source": [
    "user_age[[1,3]]  #  Retrieving data elements with positions 1 and 3."
   ]
  },
  {
   "cell_type": "markdown",
   "id": "e10c139a",
   "metadata": {},
   "source": [
    "Access multiple elements using positional slicing"
   ]
  },
  {
   "cell_type": "code",
   "execution_count": 20,
   "id": "ac0c6efa",
   "metadata": {},
   "outputs": [
    {
     "data": {
      "text/plain": [
       "name\n",
       "Tom     18\n",
       "Bob     30\n",
       "Mary    25\n",
       "Name: user_age_info, dtype: int64"
      ]
     },
     "execution_count": 20,
     "metadata": {},
     "output_type": "execute_result"
    }
   ],
   "source": [
    "user_age[:3]  # Retrieving the first three elements, i.e., the elements with positions 0, 1, and 2."
   ]
  },
  {
   "cell_type": "markdown",
   "id": "c9707395",
   "metadata": {},
   "source": [
    "Boolean indexing"
   ]
  },
  {
   "cell_type": "code",
   "execution_count": 21,
   "id": "dd07ac35",
   "metadata": {},
   "outputs": [
    {
     "data": {
      "text/plain": [
       "name\n",
       "James    40\n",
       "Name: user_age_info, dtype: int64"
      ]
     },
     "execution_count": 21,
     "metadata": {},
     "output_type": "execute_result"
    }
   ],
   "source": [
    "user_age[user_age > 30]  # Finding all elements with an age greater than 30."
   ]
  },
  {
   "cell_type": "markdown",
   "id": "fe5b7eaa",
   "metadata": {},
   "source": [
    "### Adding data elements\n",
    "\n",
    "In pandas, adding data elements is similar to working with dictionaries. We can directly use the syntax [index] = value to add a single element. If we want to add multiple elements, you can convert them into a Series and use the append method mentioned earlier to merge them together."
   ]
  },
  {
   "cell_type": "code",
   "execution_count": 22,
   "id": "c952f7be",
   "metadata": {},
   "outputs": [
    {
     "name": "stdout",
     "output_type": "stream",
     "text": [
      "Before adding the elements: name\n",
      "Tom      18\n",
      "Bob      30\n",
      "Mary     25\n",
      "James    40\n",
      "Name: user_age_info, dtype: int64 \n",
      " ------------------------------\n",
      "After adding the elements: name\n",
      "Tom        18\n",
      "Bob        30\n",
      "Mary       25\n",
      "James      40\n",
      "Wade       39\n",
      "Michael    50\n",
      "Name: user_age_info, dtype: int64\n"
     ]
    }
   ],
   "source": [
    "print(\"Before adding the elements:\", user_age, '\\n', '-'*30)\n",
    "user_age['Wade'] = 39\n",
    "user_age['Michael'] = 50\n",
    "print(\"After adding the elements:\", user_age)"
   ]
  },
  {
   "cell_type": "markdown",
   "id": "3530db91",
   "metadata": {},
   "source": [
    "### Modifying data elements\n",
    "\n",
    "In pandas, to modify data elements in a Series, you can directly use the syntax Series[index/position] = new_value."
   ]
  },
  {
   "cell_type": "code",
   "execution_count": 23,
   "id": "ab623c6f",
   "metadata": {},
   "outputs": [],
   "source": [
    "user_age['Wade'] = 38  # Modify by index"
   ]
  },
  {
   "cell_type": "code",
   "execution_count": 24,
   "id": "39d94d6c",
   "metadata": {},
   "outputs": [
    {
     "data": {
      "text/plain": [
       "name\n",
       "Tom        18\n",
       "Bob        30\n",
       "Mary       25\n",
       "James      40\n",
       "Wade       38\n",
       "Michael    50\n",
       "Name: user_age_info, dtype: int64"
      ]
     },
     "execution_count": 24,
     "metadata": {},
     "output_type": "execute_result"
    }
   ],
   "source": [
    "user_age"
   ]
  },
  {
   "cell_type": "code",
   "execution_count": 25,
   "id": "b4d8ed0b",
   "metadata": {},
   "outputs": [
    {
     "data": {
      "text/plain": [
       "30"
      ]
     },
     "execution_count": 25,
     "metadata": {},
     "output_type": "execute_result"
    }
   ],
   "source": [
    "user_age[1] "
   ]
  },
  {
   "cell_type": "code",
   "execution_count": 26,
   "id": "3330efc3",
   "metadata": {},
   "outputs": [
    {
     "data": {
      "text/plain": [
       "name\n",
       "Tom        18\n",
       "Bob        35\n",
       "Mary       25\n",
       "James      40\n",
       "Wade       38\n",
       "Michael    50\n",
       "Name: user_age_info, dtype: int64"
      ]
     },
     "execution_count": 26,
     "metadata": {},
     "output_type": "execute_result"
    }
   ],
   "source": [
    "user_age[1] = 35  # Modify by positional index\n",
    "user_age"
   ]
  },
  {
   "cell_type": "markdown",
   "id": "abc73dc9",
   "metadata": {},
   "source": [
    "### Deleting data elements\n",
    "\n",
    "In pandas, to delete a data element from a Series, we can use the method del Series[index]. Alternatively, you can also use the built-in drop method to delete elements from the Series."
   ]
  },
  {
   "cell_type": "code",
   "execution_count": 27,
   "id": "19aa1649",
   "metadata": {},
   "outputs": [],
   "source": [
    "del user_age['Wade']"
   ]
  },
  {
   "cell_type": "code",
   "execution_count": 28,
   "id": "3956b64c",
   "metadata": {},
   "outputs": [
    {
     "data": {
      "text/plain": [
       "name\n",
       "Tom        18\n",
       "Bob        35\n",
       "Mary       25\n",
       "James      40\n",
       "Michael    50\n",
       "Name: user_age_info, dtype: int64"
      ]
     },
     "execution_count": 28,
     "metadata": {},
     "output_type": "execute_result"
    }
   ],
   "source": [
    "user_age"
   ]
  },
  {
   "cell_type": "code",
   "execution_count": 29,
   "id": "3ac3412d",
   "metadata": {},
   "outputs": [
    {
     "data": {
      "text/plain": [
       "name\n",
       "Tom      18\n",
       "Bob      35\n",
       "Mary     25\n",
       "James    40\n",
       "Name: user_age_info, dtype: int64"
      ]
     },
     "execution_count": 29,
     "metadata": {},
     "output_type": "execute_result"
    }
   ],
   "source": [
    "user_age.drop('Michael')   #  Will not change the original data."
   ]
  },
  {
   "cell_type": "code",
   "execution_count": 30,
   "id": "fd9e988c",
   "metadata": {},
   "outputs": [
    {
     "data": {
      "text/plain": [
       "name\n",
       "Tom        18\n",
       "Bob        35\n",
       "Mary       25\n",
       "James      40\n",
       "Michael    50\n",
       "Name: user_age_info, dtype: int64"
      ]
     },
     "execution_count": 30,
     "metadata": {},
     "output_type": "execute_result"
    }
   ],
   "source": [
    "user_age"
   ]
  },
  {
   "cell_type": "code",
   "execution_count": 31,
   "id": "274d3fd8",
   "metadata": {},
   "outputs": [],
   "source": [
    "user_age.drop('Michael', inplace = True)   # Change the original data."
   ]
  },
  {
   "cell_type": "code",
   "execution_count": 32,
   "id": "2b3fedd2",
   "metadata": {},
   "outputs": [
    {
     "data": {
      "text/plain": [
       "name\n",
       "Tom      18\n",
       "Bob      35\n",
       "Mary     25\n",
       "James    40\n",
       "Name: user_age_info, dtype: int64"
      ]
     },
     "execution_count": 32,
     "metadata": {},
     "output_type": "execute_result"
    }
   ],
   "source": [
    "user_age"
   ]
  },
  {
   "cell_type": "code",
   "execution_count": 33,
   "id": "90b8bff7",
   "metadata": {},
   "outputs": [
    {
     "data": {
      "text/plain": [
       "name\n",
       "Mary     25\n",
       "James    40\n",
       "Name: user_age_info, dtype: int64"
      ]
     },
     "execution_count": 33,
     "metadata": {},
     "output_type": "execute_result"
    }
   ],
   "source": [
    "user_age.drop(['Tom', 'Bob'], inplace = True)   # Drop multiple elements in one time\n",
    "user_age"
   ]
  }
 ],
 "metadata": {
  "kernelspec": {
   "display_name": "Python 3 (ipykernel)",
   "language": "python",
   "name": "python3"
  },
  "language_info": {
   "codemirror_mode": {
    "name": "ipython",
    "version": 3
   },
   "file_extension": ".py",
   "mimetype": "text/x-python",
   "name": "python",
   "nbconvert_exporter": "python",
   "pygments_lexer": "ipython3",
   "version": "3.10.7"
  },
  "toc": {
   "base_numbering": 1,
   "nav_menu": {},
   "number_sections": true,
   "sideBar": true,
   "skip_h1_title": false,
   "title_cell": "Table of Contents",
   "title_sidebar": "Contents",
   "toc_cell": false,
   "toc_position": {},
   "toc_section_display": true,
   "toc_window_display": true
  }
 },
 "nbformat": 4,
 "nbformat_minor": 5
}
