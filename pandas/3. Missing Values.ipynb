{
 "cells": [
  {
   "cell_type": "code",
   "execution_count": 1,
   "id": "911616ed",
   "metadata": {},
   "outputs": [],
   "source": [
    "import numpy as np\n",
    "import pandas as pd"
   ]
  },
  {
   "cell_type": "code",
   "execution_count": 2,
   "id": "73db61ff",
   "metadata": {},
   "outputs": [
    {
     "name": "stdout",
     "output_type": "stream",
     "text": [
      "2.0.2\n"
     ]
    }
   ],
   "source": [
    "print( pd.__version__)"
   ]
  },
  {
   "cell_type": "markdown",
   "id": "c9405cee",
   "metadata": {},
   "source": [
    "# What are missing values?\n",
    "\n",
    "In pandas, missing values refer to the absence or undefined values in a dataset. Missing values can occur when data is not available, not recorded, or when there are data entry errors. Pandas provides specific representations for missing values in different data types to facilitate data analysis and handling.\n",
    "\n",
    "The common representations for missing values in Pandas are as follows:\n",
    "\n",
    "`NaN` (Not a Number): It is the default representation for missing ***numerical*** values and is of the float data type.\n",
    "\n",
    "`None`: It is the default representation for missing ***non-numeric*** (e.g., object) values. It is a Python object and is typically used when the data type of a column is explicitly set as `object`.\n",
    "\n",
    "`NaT` (Not-a-Time): It is used to represent missing values in ***datetime-like*** columns. `NaT` is specific to datetime data types and is treated as a special value.\n",
    "\n",
    "Pandas provides various methods and functions to detect, handle, and manipulate missing values, including functions like `isna()`, `notna()`, `dropna()`, `fillna()`, and more. These functions allow for identifying missing values, removing or replacing them, and performing calculations and analysis while accounting for missing values.\n",
    "\n",
    "It is essential to consider missing values during data analysis and handle them appropriately to ensure accurate and meaningful results.\n",
    "\n",
    "\n",
    "###### Generate a DataFrame with missing values:"
   ]
  },
  {
   "cell_type": "code",
   "execution_count": 3,
   "id": "22fcd920",
   "metadata": {},
   "outputs": [
    {
     "data": {
      "text/html": [
       "<div>\n",
       "<style scoped>\n",
       "    .dataframe tbody tr th:only-of-type {\n",
       "        vertical-align: middle;\n",
       "    }\n",
       "\n",
       "    .dataframe tbody tr th {\n",
       "        vertical-align: top;\n",
       "    }\n",
       "\n",
       "    .dataframe thead th {\n",
       "        text-align: right;\n",
       "    }\n",
       "</style>\n",
       "<table border=\"1\" class=\"dataframe\">\n",
       "  <thead>\n",
       "    <tr style=\"text-align: right;\">\n",
       "      <th></th>\n",
       "      <th>age</th>\n",
       "      <th>city</th>\n",
       "      <th>sex</th>\n",
       "      <th>birth</th>\n",
       "    </tr>\n",
       "    <tr>\n",
       "      <th>name</th>\n",
       "      <th></th>\n",
       "      <th></th>\n",
       "      <th></th>\n",
       "      <th></th>\n",
       "    </tr>\n",
       "  </thead>\n",
       "  <tbody>\n",
       "    <tr>\n",
       "      <th>Tom</th>\n",
       "      <td>18.0</td>\n",
       "      <td>New Yok</td>\n",
       "      <td>None</td>\n",
       "      <td>2000-02-10</td>\n",
       "    </tr>\n",
       "    <tr>\n",
       "      <th>Bob</th>\n",
       "      <td>30.0</td>\n",
       "      <td>Los Angeles</td>\n",
       "      <td>male</td>\n",
       "      <td>2001-12-12</td>\n",
       "    </tr>\n",
       "    <tr>\n",
       "      <th>Mary</th>\n",
       "      <td>NaN</td>\n",
       "      <td>&lt;NA&gt;</td>\n",
       "      <td>female</td>\n",
       "      <td>None</td>\n",
       "    </tr>\n",
       "    <tr>\n",
       "      <th>James</th>\n",
       "      <td>40.0</td>\n",
       "      <td>Seattle</td>\n",
       "      <td>male</td>\n",
       "      <td>1978-08-08</td>\n",
       "    </tr>\n",
       "    <tr>\n",
       "      <th>Andy</th>\n",
       "      <td>NaN</td>\n",
       "      <td>Chicago</td>\n",
       "      <td>NaN</td>\n",
       "      <td>NaT</td>\n",
       "    </tr>\n",
       "    <tr>\n",
       "      <th>Alice</th>\n",
       "      <td>30.0</td>\n",
       "      <td>Huston</td>\n",
       "      <td>unknown</td>\n",
       "      <td>1988-10-17</td>\n",
       "    </tr>\n",
       "  </tbody>\n",
       "</table>\n",
       "</div>"
      ],
      "text/plain": [
       "        age         city      sex       birth\n",
       "name                                         \n",
       "Tom    18.0      New Yok     None  2000-02-10\n",
       "Bob    30.0  Los Angeles     male  2001-12-12\n",
       "Mary    NaN         <NA>   female        None\n",
       "James  40.0      Seattle     male  1978-08-08\n",
       "Andy    NaN      Chicago      NaN         NaT\n",
       "Alice  30.0       Huston  unknown  1988-10-17"
      ]
     },
     "execution_count": 3,
     "metadata": {},
     "output_type": "execute_result"
    }
   ],
   "source": [
    "index = pd.Series(data = [\"Tom\", \"Bob\", \"Mary\", \"James\", \"Andy\", \"Alice\"], name = \"name\")\n",
    "data = {\n",
    "    \"age\": [18, 30, None, 40, np.nan, 30],\n",
    "    \"city\": [\"New Yok\", \"Los Angeles\", pd.NA, \"Seattle\", \"Chicago\", \"Huston\"],\n",
    "    \"sex\": [None, \"male\", \"female\", \"male\", np.nan, \"unknown\"],\n",
    "    \"birth\": [\"2000-02-10\", \"2001-12-12\", None, \"1978-08-08\", pd.NaT, \"1988-10-17\"]\n",
    "}\n",
    "user_info = pd.DataFrame(data = data, index = index)\n",
    "user_info"
   ]
  },
  {
   "cell_type": "code",
   "execution_count": 4,
   "id": "21797a60",
   "metadata": {},
   "outputs": [
    {
     "data": {
      "text/plain": [
       "age      float64\n",
       "city      object\n",
       "sex       object\n",
       "birth     object\n",
       "dtype: object"
      ]
     },
     "execution_count": 4,
     "metadata": {},
     "output_type": "execute_result"
    }
   ],
   "source": [
    "user_info.dtypes"
   ]
  },
  {
   "cell_type": "markdown",
   "id": "f03737d1",
   "metadata": {},
   "source": [
    "## Check for missing values\n",
    "\n",
    "###### check for missing values in a DataFrame or Series, there are two common methods available:\n",
    "\n",
    "* `isna()` and `notna()`: These methods return a Boolean mask indicating which elements are missing (`NaN`) and which are not. The `isna()` method returns `True` for missing values and `False` for non-missing values, while `notna()` does the opposite.\n",
    "\n",
    "* `isnull()` and `notnull()`: These methods are aliases for `isna()` and `notna()`, respectively. They provide the same functionality to check for missing values in a DataFrame or Series."
   ]
  },
  {
   "cell_type": "code",
   "execution_count": 5,
   "id": "e87c9e85",
   "metadata": {},
   "outputs": [
    {
     "data": {
      "text/html": [
       "<div>\n",
       "<style scoped>\n",
       "    .dataframe tbody tr th:only-of-type {\n",
       "        vertical-align: middle;\n",
       "    }\n",
       "\n",
       "    .dataframe tbody tr th {\n",
       "        vertical-align: top;\n",
       "    }\n",
       "\n",
       "    .dataframe thead th {\n",
       "        text-align: right;\n",
       "    }\n",
       "</style>\n",
       "<table border=\"1\" class=\"dataframe\">\n",
       "  <thead>\n",
       "    <tr style=\"text-align: right;\">\n",
       "      <th></th>\n",
       "      <th>age</th>\n",
       "      <th>city</th>\n",
       "      <th>sex</th>\n",
       "      <th>birth</th>\n",
       "    </tr>\n",
       "    <tr>\n",
       "      <th>name</th>\n",
       "      <th></th>\n",
       "      <th></th>\n",
       "      <th></th>\n",
       "      <th></th>\n",
       "    </tr>\n",
       "  </thead>\n",
       "  <tbody>\n",
       "    <tr>\n",
       "      <th>Tom</th>\n",
       "      <td>False</td>\n",
       "      <td>False</td>\n",
       "      <td>True</td>\n",
       "      <td>False</td>\n",
       "    </tr>\n",
       "    <tr>\n",
       "      <th>Bob</th>\n",
       "      <td>False</td>\n",
       "      <td>False</td>\n",
       "      <td>False</td>\n",
       "      <td>False</td>\n",
       "    </tr>\n",
       "    <tr>\n",
       "      <th>Mary</th>\n",
       "      <td>True</td>\n",
       "      <td>True</td>\n",
       "      <td>False</td>\n",
       "      <td>True</td>\n",
       "    </tr>\n",
       "    <tr>\n",
       "      <th>James</th>\n",
       "      <td>False</td>\n",
       "      <td>False</td>\n",
       "      <td>False</td>\n",
       "      <td>False</td>\n",
       "    </tr>\n",
       "    <tr>\n",
       "      <th>Andy</th>\n",
       "      <td>True</td>\n",
       "      <td>False</td>\n",
       "      <td>True</td>\n",
       "      <td>True</td>\n",
       "    </tr>\n",
       "    <tr>\n",
       "      <th>Alice</th>\n",
       "      <td>False</td>\n",
       "      <td>False</td>\n",
       "      <td>False</td>\n",
       "      <td>False</td>\n",
       "    </tr>\n",
       "  </tbody>\n",
       "</table>\n",
       "</div>"
      ],
      "text/plain": [
       "         age   city    sex  birth\n",
       "name                             \n",
       "Tom    False  False   True  False\n",
       "Bob    False  False  False  False\n",
       "Mary    True   True  False   True\n",
       "James  False  False  False  False\n",
       "Andy    True  False   True   True\n",
       "Alice  False  False  False  False"
      ]
     },
     "execution_count": 5,
     "metadata": {},
     "output_type": "execute_result"
    }
   ],
   "source": [
    "user_info.isna()"
   ]
  },
  {
   "cell_type": "code",
   "execution_count": 6,
   "id": "aace494e",
   "metadata": {},
   "outputs": [
    {
     "data": {
      "text/html": [
       "<div>\n",
       "<style scoped>\n",
       "    .dataframe tbody tr th:only-of-type {\n",
       "        vertical-align: middle;\n",
       "    }\n",
       "\n",
       "    .dataframe tbody tr th {\n",
       "        vertical-align: top;\n",
       "    }\n",
       "\n",
       "    .dataframe thead th {\n",
       "        text-align: right;\n",
       "    }\n",
       "</style>\n",
       "<table border=\"1\" class=\"dataframe\">\n",
       "  <thead>\n",
       "    <tr style=\"text-align: right;\">\n",
       "      <th></th>\n",
       "      <th>age</th>\n",
       "      <th>city</th>\n",
       "      <th>sex</th>\n",
       "      <th>birth</th>\n",
       "    </tr>\n",
       "    <tr>\n",
       "      <th>name</th>\n",
       "      <th></th>\n",
       "      <th></th>\n",
       "      <th></th>\n",
       "      <th></th>\n",
       "    </tr>\n",
       "  </thead>\n",
       "  <tbody>\n",
       "    <tr>\n",
       "      <th>Tom</th>\n",
       "      <td>False</td>\n",
       "      <td>False</td>\n",
       "      <td>True</td>\n",
       "      <td>False</td>\n",
       "    </tr>\n",
       "    <tr>\n",
       "      <th>Bob</th>\n",
       "      <td>False</td>\n",
       "      <td>False</td>\n",
       "      <td>False</td>\n",
       "      <td>False</td>\n",
       "    </tr>\n",
       "    <tr>\n",
       "      <th>Mary</th>\n",
       "      <td>True</td>\n",
       "      <td>True</td>\n",
       "      <td>False</td>\n",
       "      <td>True</td>\n",
       "    </tr>\n",
       "    <tr>\n",
       "      <th>James</th>\n",
       "      <td>False</td>\n",
       "      <td>False</td>\n",
       "      <td>False</td>\n",
       "      <td>False</td>\n",
       "    </tr>\n",
       "    <tr>\n",
       "      <th>Andy</th>\n",
       "      <td>True</td>\n",
       "      <td>False</td>\n",
       "      <td>True</td>\n",
       "      <td>True</td>\n",
       "    </tr>\n",
       "    <tr>\n",
       "      <th>Alice</th>\n",
       "      <td>False</td>\n",
       "      <td>False</td>\n",
       "      <td>False</td>\n",
       "      <td>False</td>\n",
       "    </tr>\n",
       "  </tbody>\n",
       "</table>\n",
       "</div>"
      ],
      "text/plain": [
       "         age   city    sex  birth\n",
       "name                             \n",
       "Tom    False  False   True  False\n",
       "Bob    False  False  False  False\n",
       "Mary    True   True  False   True\n",
       "James  False  False  False  False\n",
       "Andy    True  False   True   True\n",
       "Alice  False  False  False  False"
      ]
     },
     "execution_count": 6,
     "metadata": {},
     "output_type": "execute_result"
    }
   ],
   "source": [
    "user_info.isnull()"
   ]
  },
  {
   "cell_type": "code",
   "execution_count": 7,
   "id": "393aad1e",
   "metadata": {},
   "outputs": [
    {
     "data": {
      "text/plain": [
       "(<function pandas.core.dtypes.missing.isna(obj: 'object') -> 'bool | npt.NDArray[np.bool_] | NDFrame'>,\n",
       " <function pandas.core.dtypes.missing.isna(obj: 'object') -> 'bool | npt.NDArray[np.bool_] | NDFrame'>)"
      ]
     },
     "execution_count": 7,
     "metadata": {},
     "output_type": "execute_result"
    }
   ],
   "source": [
    "pd.isna, pd.isnull"
   ]
  },
  {
   "cell_type": "markdown",
   "id": "2435105b",
   "metadata": {},
   "source": [
    "From the printed results above, it can be observed that except for empty strings, `None`, `np.nan`, `pd.NA`, and `pd.NAT` are all considered as missing values. What are the differences between these types of missing values?\n",
    "\n",
    "In pandas, there are several common ways to represent missing values:\n",
    "\n",
    "`None`: None is a special object in Python used to represent missing values. In pandas, None is automatically converted to NaN (Not a Number).\n",
    "\n",
    "`np.nan`: np.nan is a special value in the NumPy library and is also used to represent missing values. It is a floating-point value that can be used to represent missing values of any data type.\n",
    "\n",
    "`pd.NA`: `pd.NA` is a newer addition to pandas and stands for missing values at the object level. It is a scalar value that represents missing values for object-dtype columns. `pd.NA` is designed to provide better compatibility with nullable integer and boolean data types.\n",
    "\n",
    "`pd.NAT`: `pd.NAT` is another addition to pandas and represents missing values at the datetime-like level. It is used to represent missing values in datetime-like columns, such as datetime or timedelta."
   ]
  },
  {
   "cell_type": "markdown",
   "id": "138140cb",
   "metadata": {},
   "source": [
    "## Types of missing values\n",
    "\n",
    "### None\n",
    "In pandas, `None` can be used as a missing value label. It is a Python object that represents missing values. However, it cannot be used as a missing value for `Numpy` or `pandas` array types. Instead, it can only be used for arrays of `object` dtype, which are arrays composed of Python objects."
   ]
  },
  {
   "cell_type": "code",
   "execution_count": 8,
   "id": "e9aa1dc6",
   "metadata": {},
   "outputs": [
    {
     "data": {
      "text/plain": [
       "True"
      ]
     },
     "execution_count": 8,
     "metadata": {},
     "output_type": "execute_result"
    }
   ],
   "source": [
    "None == None"
   ]
  },
  {
   "cell_type": "code",
   "execution_count": 9,
   "id": "dae0f319",
   "metadata": {},
   "outputs": [
    {
     "data": {
      "text/plain": [
       "0    False\n",
       "dtype: bool"
      ]
     },
     "execution_count": 9,
     "metadata": {},
     "output_type": "execute_result"
    }
   ],
   "source": [
    "pd.Series([None], dtype = 'bool')  # None in Bool is False"
   ]
  },
  {
   "cell_type": "code",
   "execution_count": 10,
   "id": "bbcba5b5",
   "metadata": {},
   "outputs": [
    {
     "data": {
      "text/plain": [
       "0     True\n",
       "1    False\n",
       "dtype: bool"
      ]
     },
     "execution_count": 10,
     "metadata": {},
     "output_type": "execute_result"
    }
   ],
   "source": [
    "pd.Series([True, None], dtype = 'bool') # The data type of None in Bool typle is Bool. "
   ]
  },
  {
   "cell_type": "code",
   "execution_count": 11,
   "id": "d34e5573",
   "metadata": {},
   "outputs": [
    {
     "data": {
      "text/plain": [
       "0    1.0\n",
       "1    NaN\n",
       "dtype: float64"
      ]
     },
     "execution_count": 11,
     "metadata": {},
     "output_type": "execute_result"
    }
   ],
   "source": [
    "pd.Series([1, None]) # when None is with scalars, it automatically converts into a float64"
   ]
  },
  {
   "cell_type": "code",
   "execution_count": 12,
   "id": "cb6a6759",
   "metadata": {},
   "outputs": [
    {
     "data": {
      "text/plain": [
       "0       1\n",
       "1    None\n",
       "dtype: object"
      ]
     },
     "execution_count": 12,
     "metadata": {},
     "output_type": "execute_result"
    }
   ],
   "source": [
    "pd.Series([1, None], dtype = 'O') # Unless setting up the data type to object "
   ]
  },
  {
   "cell_type": "markdown",
   "id": "812f0044",
   "metadata": {},
   "source": [
    "None represents missing values in Python data types. In pandas, `None` is only considered as `None` when the Series data type is `object`. For other data types, `None` will be automatically converted to the corresponding data type. For example, in a boolean Series, `None` will be converted to `False`, and in an integer Series, `None` will be converted to `pd.nan`.\n",
    "\n",
    "It's important to note that the type of `None` may vary depending on the data type and context in which it is used. It is generally recommended to use `NaN` (Not a Number) as the standard representation for missing numerical values in pandas to ensure consistent handling of missing values across different data types."
   ]
  },
  {
   "cell_type": "markdown",
   "id": "01ea5c3a",
   "metadata": {},
   "source": [
    "### NaN (Not a Number)\n",
    "\n",
    "`NaN` is a specific representation used in pandas and other numerical libraries to indicate missing or undefined values in numeric data types. It is primarily used for numeric or floating-point data types."
   ]
  },
  {
   "cell_type": "code",
   "execution_count": 13,
   "id": "9bc5dc84",
   "metadata": {},
   "outputs": [
    {
     "data": {
      "text/plain": [
       "False"
      ]
     },
     "execution_count": 13,
     "metadata": {},
     "output_type": "execute_result"
    }
   ],
   "source": [
    "np.nan == np.nan "
   ]
  },
  {
   "cell_type": "code",
   "execution_count": 14,
   "id": "daf3ece7",
   "metadata": {},
   "outputs": [
    {
     "data": {
      "text/plain": [
       "False"
      ]
     },
     "execution_count": 14,
     "metadata": {},
     "output_type": "execute_result"
    }
   ],
   "source": [
    "np.nan == 0"
   ]
  },
  {
   "cell_type": "code",
   "execution_count": 15,
   "id": "de5a5951",
   "metadata": {},
   "outputs": [
    {
     "data": {
      "text/plain": [
       "False"
      ]
     },
     "execution_count": 15,
     "metadata": {},
     "output_type": "execute_result"
    }
   ],
   "source": [
    "np.nan == None"
   ]
  },
  {
   "cell_type": "code",
   "execution_count": 16,
   "id": "bfd73962",
   "metadata": {},
   "outputs": [
    {
     "data": {
      "text/plain": [
       "float"
      ]
     },
     "execution_count": 16,
     "metadata": {},
     "output_type": "execute_result"
    }
   ],
   "source": [
    "type(np.nan) "
   ]
  },
  {
   "cell_type": "markdown",
   "id": "37645066",
   "metadata": {},
   "source": [
    "The data type of `np.nan` is floating-point. In NumPy and Pandas, when columns contains integers and have missing values in other rows, integers will be automatically converted to floating-point data type."
   ]
  },
  {
   "cell_type": "code",
   "execution_count": 17,
   "id": "8e76f577",
   "metadata": {},
   "outputs": [
    {
     "data": {
      "text/plain": [
       "0    1\n",
       "1    2\n",
       "2    3\n",
       "dtype: int64"
      ]
     },
     "execution_count": 17,
     "metadata": {},
     "output_type": "execute_result"
    }
   ],
   "source": [
    "pd.Series([1, 2, 3])"
   ]
  },
  {
   "cell_type": "code",
   "execution_count": 18,
   "id": "ebfb9553",
   "metadata": {},
   "outputs": [
    {
     "data": {
      "text/plain": [
       "0    1.0\n",
       "1    NaN\n",
       "2    3.0\n",
       "dtype: float64"
      ]
     },
     "execution_count": 18,
     "metadata": {},
     "output_type": "execute_result"
    }
   ],
   "source": [
    "pd.Series([1, np.nan, 3])"
   ]
  },
  {
   "cell_type": "markdown",
   "id": "0249f7ae",
   "metadata": {},
   "source": [
    "When a Series contains a mix of boolean values and `NaN`, the data type of the Series will be automatically converted to `object`. This is because `object` is a flexible data type that can accommodate both boolean values and `NaN`."
   ]
  },
  {
   "cell_type": "code",
   "execution_count": 19,
   "id": "42c7ed7e",
   "metadata": {},
   "outputs": [
    {
     "data": {
      "text/plain": [
       "0     True\n",
       "1    False\n",
       "dtype: bool"
      ]
     },
     "execution_count": 19,
     "metadata": {},
     "output_type": "execute_result"
    }
   ],
   "source": [
    "pd.Series([True, False])"
   ]
  },
  {
   "cell_type": "code",
   "execution_count": 20,
   "id": "752be851",
   "metadata": {},
   "outputs": [
    {
     "data": {
      "text/plain": [
       "0     True\n",
       "1      NaN\n",
       "2    False\n",
       "dtype: object"
      ]
     },
     "execution_count": 20,
     "metadata": {},
     "output_type": "execute_result"
    }
   ],
   "source": [
    "pd.Series([True, np.nan, False])"
   ]
  },
  {
   "cell_type": "markdown",
   "id": "c08b1e83",
   "metadata": {},
   "source": [
    "If `np.nan` is used to fill missing values in a boolean Series, the values will automatically be changed to `True` instead of `False`."
   ]
  },
  {
   "cell_type": "code",
   "execution_count": 21,
   "id": "01b32aad",
   "metadata": {},
   "outputs": [
    {
     "data": {
      "text/plain": [
       "0     True\n",
       "1     True\n",
       "2    False\n",
       "dtype: bool"
      ]
     },
     "execution_count": 21,
     "metadata": {},
     "output_type": "execute_result"
    }
   ],
   "source": [
    "pd.Series([True, np.nan, False], dtype = 'bool')"
   ]
  },
  {
   "cell_type": "markdown",
   "id": "dc71f138",
   "metadata": {},
   "source": [
    "`np.nan` is the representation for missing values in both NumPy and Pandas, and its data type is float. However, it differs from empty values in that it evaluates to `True` when converted to a boolean value. When a Series contains both boolean values and `np.nan`, the resulting data type is converted to `object`. Similarly, when a Series contains both integer values and np.nan, the resulting data type is converted to float64. It's important to note that two `np.nan` values are not equal."
   ]
  },
  {
   "cell_type": "markdown",
   "id": "7576d6c9",
   "metadata": {},
   "source": [
    "### pd.NaT\n",
    "\n",
    "`pd.NaT` (Not-a-Time) is the representation for missing values in time series data in pandas. It is a built-in type in pandas specifically designed for representing missing values in datetime-like columns. Similar to `np.nan`, `pd.NaT` is treated as a special value and is not equal to any other value, including itself.\n",
    "\n",
    "When working with datetime-like columns, if a value is missing or undefined, it will be represented as `pd.NaT`. This allows for consistent handling and manipulation of missing values in time series data.\n",
    "\n",
    "It's important to note that `pd.NaT` is specific to datetime-like data types and should not be used as a representation for missing values in other types of data."
   ]
  },
  {
   "cell_type": "code",
   "execution_count": 22,
   "id": "4fc72442",
   "metadata": {},
   "outputs": [
    {
     "data": {
      "text/plain": [
       "0   2023-06-06\n",
       "dtype: datetime64[ns]"
      ]
     },
     "execution_count": 22,
     "metadata": {},
     "output_type": "execute_result"
    }
   ],
   "source": [
    "s_time = pd.Series([pd.Timestamp('20230606')])\n",
    "s_time"
   ]
  },
  {
   "cell_type": "code",
   "execution_count": 23,
   "id": "12b7fbbd",
   "metadata": {},
   "outputs": [
    {
     "data": {
      "text/plain": [
       "0   2023-06-06\n",
       "1          NaT\n",
       "dtype: datetime64[ns]"
      ]
     },
     "execution_count": 23,
     "metadata": {},
     "output_type": "execute_result"
    }
   ],
   "source": [
    "s_time[1] = None\n",
    "s_time"
   ]
  },
  {
   "cell_type": "code",
   "execution_count": 24,
   "id": "587c098c",
   "metadata": {},
   "outputs": [
    {
     "data": {
      "text/plain": [
       "0   2023-06-06\n",
       "1          NaT\n",
       "2          NaT\n",
       "dtype: datetime64[ns]"
      ]
     },
     "execution_count": 24,
     "metadata": {},
     "output_type": "execute_result"
    }
   ],
   "source": [
    "s_time[2] = np.nan\n",
    "s_time"
   ]
  },
  {
   "cell_type": "code",
   "execution_count": 25,
   "id": "75fe3c97",
   "metadata": {},
   "outputs": [
    {
     "data": {
      "text/plain": [
       "0   2023-06-06\n",
       "1          NaT\n",
       "2          NaT\n",
       "3          NaT\n",
       "dtype: datetime64[ns]"
      ]
     },
     "execution_count": 25,
     "metadata": {},
     "output_type": "execute_result"
    }
   ],
   "source": [
    "s_time[3] = pd.NaT\n",
    "s_time"
   ]
  },
  {
   "cell_type": "code",
   "execution_count": 26,
   "id": "4c02bb48",
   "metadata": {},
   "outputs": [
    {
     "data": {
      "text/plain": [
       "False"
      ]
     },
     "execution_count": 26,
     "metadata": {},
     "output_type": "execute_result"
    }
   ],
   "source": [
    "pd.NaT == pd.NaT"
   ]
  },
  {
   "cell_type": "code",
   "execution_count": 27,
   "id": "5372583e",
   "metadata": {},
   "outputs": [
    {
     "data": {
      "text/plain": [
       "0     True\n",
       "1    False\n",
       "dtype: bool"
      ]
     },
     "execution_count": 27,
     "metadata": {},
     "output_type": "execute_result"
    }
   ],
   "source": [
    "pd.Series([True, False])"
   ]
  },
  {
   "cell_type": "code",
   "execution_count": 28,
   "id": "72c0e786",
   "metadata": {},
   "outputs": [
    {
     "data": {
      "text/plain": [
       "0     True\n",
       "1      NaT\n",
       "2    False\n",
       "dtype: object"
      ]
     },
     "execution_count": 28,
     "metadata": {},
     "output_type": "execute_result"
    }
   ],
   "source": [
    "pd.Series([True, pd.NaT, False])"
   ]
  },
  {
   "cell_type": "code",
   "execution_count": 29,
   "id": "15530ad8",
   "metadata": {},
   "outputs": [
    {
     "data": {
      "text/plain": [
       "0     True\n",
       "1     True\n",
       "2    False\n",
       "dtype: bool"
      ]
     },
     "execution_count": 29,
     "metadata": {},
     "output_type": "execute_result"
    }
   ],
   "source": [
    "pd.Series([True, pd.NaT, False], dtype = 'bool')"
   ]
  },
  {
   "cell_type": "markdown",
   "id": "aac86650",
   "metadata": {},
   "source": [
    "## Nullable type & NA scalar"
   ]
  },
  {
   "cell_type": "markdown",
   "id": "38375863",
   "metadata": {},
   "source": [
    "Experimental NA scalar to denote missing values\n",
    "\n",
    "Starting from pandas 1.0, an experimental `pd.NA` value (singleton) is available to represent scalar missing values. At this moment, it is used in the nullable integer, boolean and dedicated string data types as the missing value indicator.\n",
    "\n",
    "The goal of `pd.NA` is provide a “missing” indicator that can be used consistently across data types (instead of `np.nan`, `None` or `pd.NaT` depending on the data type).\n",
    "\n",
    "For example, when having missing values in a Series with the nullable integer dtype, it will use `pd.NA`.\n",
    "\"\n",
    "### Nullable Interger\n",
    "https://pandas.pydata.org/pandas-docs/stable/user_guide/integer_na.html"
   ]
  },
  {
   "cell_type": "code",
   "execution_count": 30,
   "id": "bc6f33f8",
   "metadata": {},
   "outputs": [
    {
     "data": {
      "text/plain": [
       "0       1\n",
       "1       2\n",
       "2    <NA>\n",
       "3    <NA>\n",
       "4    <NA>\n",
       "dtype: Int64"
      ]
     },
     "execution_count": 30,
     "metadata": {},
     "output_type": "execute_result"
    }
   ],
   "source": [
    "# the string alias \"Int64\" (note the capital \"I\", to differentiate from NumPy’s 'int64' dtype:\n",
    "pd.Series([1, 2, np.nan, None, pd.NA], dtype =\"Int64\")"
   ]
  },
  {
   "cell_type": "markdown",
   "id": "80962719",
   "metadata": {},
   "source": [
    "### Nullable Boolean"
   ]
  },
  {
   "cell_type": "code",
   "execution_count": 31,
   "id": "efa16c4d",
   "metadata": {},
   "outputs": [
    {
     "data": {
      "text/plain": [
       "0     True\n",
       "1    False\n",
       "2     <NA>\n",
       "3     <NA>\n",
       "dtype: boolean"
      ]
     },
     "execution_count": 31,
     "metadata": {},
     "output_type": "execute_result"
    }
   ],
   "source": [
    "pd.Series([True, False, np.nan, None], dtype = \"boolean\") # type error if put numerical or pd.NaT in the list"
   ]
  },
  {
   "cell_type": "markdown",
   "id": "f9f810b7",
   "metadata": {},
   "source": [
    "### String  \n",
    "\n",
    "This type, introduced in version 1.0, is a major innovation with the aim of distinguishing itself from the previously ambiguous 'object' type. It is important to briefly mention the string type here, as it is the main topic of later chapter. The string type is essentially a Nullable type as well, meaning that it does not change its type due to the presence of missing values.\n",
    "\n",
    "The introduction of the string type in pandas provides a more precise and explicit representation of string data, including the ability to handle missing or undefined values. It allows for more consistent handling of string data and facilitates operations and computations involving string columns with missing values.\n",
    "\n",
    "By introducing the string type, pandas enhances the overall data handling capabilities and ensures a more accurate representation of missing values in string columns.\n",
    "\n",
    "https://pandas.pydata.org/pandas-docs/stable/user_guide/text.html"
   ]
  },
  {
   "cell_type": "code",
   "execution_count": 32,
   "id": "4585be18",
   "metadata": {},
   "outputs": [
    {
     "data": {
      "text/plain": [
       "0    a\n",
       "1    b\n",
       "2    c\n",
       "dtype: object"
      ]
     },
     "execution_count": 32,
     "metadata": {},
     "output_type": "execute_result"
    }
   ],
   "source": [
    "pd.Series([\"a\", \"b\", \"c\"])"
   ]
  },
  {
   "cell_type": "code",
   "execution_count": 33,
   "id": "ed14b7e4",
   "metadata": {},
   "outputs": [
    {
     "data": {
      "text/plain": [
       "0    a\n",
       "1    b\n",
       "2    c\n",
       "dtype: string"
      ]
     },
     "execution_count": 33,
     "metadata": {},
     "output_type": "execute_result"
    }
   ],
   "source": [
    "pd.Series([\"a\", \"b\", \"c\"], dtype = 'string')"
   ]
  },
  {
   "cell_type": "code",
   "execution_count": 34,
   "id": "00fc5eb1",
   "metadata": {},
   "outputs": [
    {
     "data": {
      "text/plain": [
       "0       a\n",
       "1       b\n",
       "2       c\n",
       "3    <NA>\n",
       "4    <NA>\n",
       "5    <NA>\n",
       "dtype: string"
      ]
     },
     "execution_count": 34,
     "metadata": {},
     "output_type": "execute_result"
    }
   ],
   "source": [
    "pd.Series([\"a\", \"b\", \"c\", np.nan, None, pd.NaT], dtype = 'string')"
   ]
  },
  {
   "cell_type": "code",
   "execution_count": 35,
   "id": "6412bff9",
   "metadata": {},
   "outputs": [
    {
     "data": {
      "text/plain": [
       "0    a\n",
       "1    b\n",
       "2    c\n",
       "dtype: string"
      ]
     },
     "execution_count": 35,
     "metadata": {},
     "output_type": "execute_result"
    }
   ],
   "source": [
    "s = pd.Series([\"a\", \"b\", \"c\"])\n",
    "s.astype(\"string\")"
   ]
  },
  {
   "cell_type": "markdown",
   "id": "6c2cda34",
   "metadata": {},
   "source": [
    "## Calculations with missing data"
   ]
  },
  {
   "cell_type": "markdown",
   "id": "78ef3745",
   "metadata": {},
   "source": [
    "* When summing data, `NA` (missing) values will be treated as zero.\n",
    "\n",
    "* When multiplicating data, `NA` (missing) values will be treated as one.\n",
    "\n",
    "* If the data are all `NA`, the result will be 0.\n",
    "\n",
    "* Cumulative methods like `cumsum()` and `cumprod()` ignore `NA` values by default, but preserve them in the resulting arrays. To override this behaviour and include `NA` values, use `skipna = False`."
   ]
  },
  {
   "cell_type": "code",
   "execution_count": 36,
   "id": "11695ee5",
   "metadata": {},
   "outputs": [],
   "source": [
    "s = pd.Series([1, 2, 4, np.nan])"
   ]
  },
  {
   "cell_type": "code",
   "execution_count": 37,
   "id": "1e1a208f",
   "metadata": {},
   "outputs": [
    {
     "data": {
      "text/plain": [
       "7.0"
      ]
     },
     "execution_count": 37,
     "metadata": {},
     "output_type": "execute_result"
    }
   ],
   "source": [
    "s.sum()"
   ]
  },
  {
   "cell_type": "code",
   "execution_count": 38,
   "id": "db526246",
   "metadata": {},
   "outputs": [
    {
     "data": {
      "text/plain": [
       "8.0"
      ]
     },
     "execution_count": 38,
     "metadata": {},
     "output_type": "execute_result"
    }
   ],
   "source": [
    "s.prod()"
   ]
  },
  {
   "cell_type": "code",
   "execution_count": 39,
   "id": "7c13a91d",
   "metadata": {},
   "outputs": [
    {
     "data": {
      "text/plain": [
       "0    1.0\n",
       "1    3.0\n",
       "2    7.0\n",
       "3    NaN\n",
       "dtype: float64"
      ]
     },
     "execution_count": 39,
     "metadata": {},
     "output_type": "execute_result"
    }
   ],
   "source": [
    "s.cumsum()"
   ]
  },
  {
   "cell_type": "code",
   "execution_count": 40,
   "id": "fa06addb",
   "metadata": {},
   "outputs": [
    {
     "data": {
      "text/plain": [
       "0    1.0\n",
       "1    2.0\n",
       "2    8.0\n",
       "3    NaN\n",
       "dtype: float64"
      ]
     },
     "execution_count": 40,
     "metadata": {},
     "output_type": "execute_result"
    }
   ],
   "source": [
    "s.cumprod()"
   ]
  },
  {
   "cell_type": "markdown",
   "id": "a877f10d",
   "metadata": {},
   "source": [
    "Computes the percentage change from the immediately previous row by default. This is useful in comparing the percentage of change in a time series of elements."
   ]
  },
  {
   "cell_type": "code",
   "execution_count": 41,
   "id": "d48fe854",
   "metadata": {},
   "outputs": [
    {
     "data": {
      "text/plain": [
       "0    NaN\n",
       "1    1.0\n",
       "2    1.0\n",
       "3    0.0\n",
       "dtype: float64"
      ]
     },
     "execution_count": 41,
     "metadata": {},
     "output_type": "execute_result"
    }
   ],
   "source": [
    "s.pct_change()"
   ]
  },
  {
   "cell_type": "code",
   "execution_count": 42,
   "id": "86627466",
   "metadata": {},
   "outputs": [
    {
     "data": {
      "text/plain": [
       "0          NaN\n",
       "1     2.181818\n",
       "2    21.857143\n",
       "3     0.241250\n",
       "4     0.000000\n",
       "dtype: float64"
      ]
     },
     "execution_count": 42,
     "metadata": {},
     "output_type": "execute_result"
    }
   ],
   "source": [
    "s1 = pd.Series([1.1, 3.5, 80, 99.3, np.nan])\n",
    "s1.pct_change()"
   ]
  },
  {
   "cell_type": "markdown",
   "id": "8763c0da",
   "metadata": {},
   "source": [
    "## Sum/prod of empties/nans"
   ]
  },
  {
   "cell_type": "markdown",
   "id": "5d49ae6a",
   "metadata": {},
   "source": [
    "The sum of an empty or all-NA Series or column of a DataFrame is 0."
   ]
  },
  {
   "cell_type": "code",
   "execution_count": 43,
   "id": "2b0dec9a",
   "metadata": {},
   "outputs": [
    {
     "data": {
      "text/plain": [
       "0.0"
      ]
     },
     "execution_count": 43,
     "metadata": {},
     "output_type": "execute_result"
    }
   ],
   "source": [
    "pd.Series([], dtype = \"float64\").sum()"
   ]
  },
  {
   "cell_type": "code",
   "execution_count": 44,
   "id": "f7631741",
   "metadata": {},
   "outputs": [
    {
     "data": {
      "text/plain": [
       "0.0"
      ]
     },
     "execution_count": 44,
     "metadata": {},
     "output_type": "execute_result"
    }
   ],
   "source": [
    "pd.Series([np.nan]).sum()"
   ]
  },
  {
   "cell_type": "markdown",
   "id": "17b0688a",
   "metadata": {},
   "source": [
    "The product of an empty or all-NA Series or column of a DataFrame is 1."
   ]
  },
  {
   "cell_type": "code",
   "execution_count": 45,
   "id": "842861c8",
   "metadata": {},
   "outputs": [
    {
     "data": {
      "text/plain": [
       "1.0"
      ]
     },
     "execution_count": 45,
     "metadata": {},
     "output_type": "execute_result"
    }
   ],
   "source": [
    "pd.Series([np.nan]).prod()"
   ]
  },
  {
   "cell_type": "code",
   "execution_count": 46,
   "id": "17ec3390",
   "metadata": {},
   "outputs": [
    {
     "data": {
      "text/plain": [
       "1.0"
      ]
     },
     "execution_count": 46,
     "metadata": {},
     "output_type": "execute_result"
    }
   ],
   "source": [
    "pd.Series([], dtype=\"float64\").prod()"
   ]
  },
  {
   "cell_type": "markdown",
   "id": "e2733924",
   "metadata": {},
   "source": [
    "## NA values in GroupBy\n",
    "\n",
    "NA groups in GroupBy are automatically excluded."
   ]
  },
  {
   "cell_type": "code",
   "execution_count": 47,
   "id": "f1452c9b",
   "metadata": {},
   "outputs": [
    {
     "data": {
      "text/html": [
       "<div>\n",
       "<style scoped>\n",
       "    .dataframe tbody tr th:only-of-type {\n",
       "        vertical-align: middle;\n",
       "    }\n",
       "\n",
       "    .dataframe tbody tr th {\n",
       "        vertical-align: top;\n",
       "    }\n",
       "\n",
       "    .dataframe thead th {\n",
       "        text-align: right;\n",
       "    }\n",
       "</style>\n",
       "<table border=\"1\" class=\"dataframe\">\n",
       "  <thead>\n",
       "    <tr style=\"text-align: right;\">\n",
       "      <th></th>\n",
       "      <th>one</th>\n",
       "      <th>two</th>\n",
       "      <th>three</th>\n",
       "    </tr>\n",
       "  </thead>\n",
       "  <tbody>\n",
       "    <tr>\n",
       "      <th>a</th>\n",
       "      <td>NaN</td>\n",
       "      <td>0.668623</td>\n",
       "      <td>0.238556</td>\n",
       "    </tr>\n",
       "    <tr>\n",
       "      <th>b</th>\n",
       "      <td>NaN</td>\n",
       "      <td>0.515973</td>\n",
       "      <td>0.614538</td>\n",
       "    </tr>\n",
       "    <tr>\n",
       "      <th>c</th>\n",
       "      <td>0.119</td>\n",
       "      <td>0.020951</td>\n",
       "      <td>0.224919</td>\n",
       "    </tr>\n",
       "    <tr>\n",
       "      <th>d</th>\n",
       "      <td>-2.104</td>\n",
       "      <td>0.185790</td>\n",
       "      <td>0.124396</td>\n",
       "    </tr>\n",
       "    <tr>\n",
       "      <th>e</th>\n",
       "      <td>NaN</td>\n",
       "      <td>0.710795</td>\n",
       "      <td>0.765670</td>\n",
       "    </tr>\n",
       "  </tbody>\n",
       "</table>\n",
       "</div>"
      ],
      "text/plain": [
       "     one       two     three\n",
       "a    NaN  0.668623  0.238556\n",
       "b    NaN  0.515973  0.614538\n",
       "c  0.119  0.020951  0.224919\n",
       "d -2.104  0.185790  0.124396\n",
       "e    NaN  0.710795  0.765670"
      ]
     },
     "execution_count": 47,
     "metadata": {},
     "output_type": "execute_result"
    }
   ],
   "source": [
    "data = {\n",
    "    \"one\": [np.nan, np.nan, 0.119, -2.104, np.nan],\n",
    "    \"two\": np.random.uniform(0, 1, 5),\n",
    "    \"three\": np.random.uniform(0, 1, 5)    \n",
    "}\n",
    "index = pd.Index([\"a\", \"b\", \"c\",\"d\",\"e\"])\n",
    "df = pd.DataFrame(data = data, index = index)\n",
    "df"
   ]
  },
  {
   "cell_type": "code",
   "execution_count": 48,
   "id": "cbcd6c03",
   "metadata": {},
   "outputs": [
    {
     "data": {
      "text/html": [
       "<div>\n",
       "<style scoped>\n",
       "    .dataframe tbody tr th:only-of-type {\n",
       "        vertical-align: middle;\n",
       "    }\n",
       "\n",
       "    .dataframe tbody tr th {\n",
       "        vertical-align: top;\n",
       "    }\n",
       "\n",
       "    .dataframe thead th {\n",
       "        text-align: right;\n",
       "    }\n",
       "</style>\n",
       "<table border=\"1\" class=\"dataframe\">\n",
       "  <thead>\n",
       "    <tr style=\"text-align: right;\">\n",
       "      <th></th>\n",
       "      <th>two</th>\n",
       "      <th>three</th>\n",
       "    </tr>\n",
       "    <tr>\n",
       "      <th>one</th>\n",
       "      <th></th>\n",
       "      <th></th>\n",
       "    </tr>\n",
       "  </thead>\n",
       "  <tbody>\n",
       "    <tr>\n",
       "      <th>-2.104</th>\n",
       "      <td>0.185790</td>\n",
       "      <td>0.124396</td>\n",
       "    </tr>\n",
       "    <tr>\n",
       "      <th>0.119</th>\n",
       "      <td>0.020951</td>\n",
       "      <td>0.224919</td>\n",
       "    </tr>\n",
       "  </tbody>\n",
       "</table>\n",
       "</div>"
      ],
      "text/plain": [
       "             two     three\n",
       "one                       \n",
       "-2.104  0.185790  0.124396\n",
       " 0.119  0.020951  0.224919"
      ]
     },
     "execution_count": 48,
     "metadata": {},
     "output_type": "execute_result"
    }
   ],
   "source": [
    "df.groupby(\"one\").mean()"
   ]
  },
  {
   "cell_type": "markdown",
   "id": "16ab783b",
   "metadata": {},
   "source": [
    "# Handling missing data\n",
    "\n",
    "## Drop the missing values\n",
    "\n",
    "The `dropna()` function in Pandas is simpler to use for a Series, but it offers more parameters for a DataFrame.\n",
    "\n",
    "```python\n",
    "DataFrame.dropna(*, axis = 0, how = _ NoDefault.no_default, thresh = _NoDefault.no_default, subset = None, inplace = False, ignore_index = False)\n",
    "```\n",
    "\n",
    "* `axis`: Controls whether the operation is performed on rows or columns. The default value is `axis = 0` (rows), and `axis = 1` represents columns.\n",
    "\n",
    "* `how`: Determines the condition for dropping rows or columns. It can take two values: 'any' (default) and 'all'. 'any' means that a row/column will be dropped if any of its elements are missing. 'all' means that a row/column will be dropped only if all of its elements are missing.\n",
    "\n",
    "* `thresh`: Specifies the threshold as an integer. For example, if thresh = 3, it means that a row/column should have at least 3 non-null values to be kept.\n",
    "\n",
    "* `subset`: Specifies the subset of indexes or column names to consider when dropping rows/columns.\n",
    "\n",
    "The `dropna()` function allows you to drop rows or columns with missing values based on your desired conditions. We can choose whether to drop rows or columns, define the threshold for non-null values, and specify a subset of indexes or column names for the operation."
   ]
  },
  {
   "cell_type": "code",
   "execution_count": 49,
   "id": "fc210439",
   "metadata": {},
   "outputs": [
    {
     "data": {
      "text/html": [
       "<div>\n",
       "<style scoped>\n",
       "    .dataframe tbody tr th:only-of-type {\n",
       "        vertical-align: middle;\n",
       "    }\n",
       "\n",
       "    .dataframe tbody tr th {\n",
       "        vertical-align: top;\n",
       "    }\n",
       "\n",
       "    .dataframe thead th {\n",
       "        text-align: right;\n",
       "    }\n",
       "</style>\n",
       "<table border=\"1\" class=\"dataframe\">\n",
       "  <thead>\n",
       "    <tr style=\"text-align: right;\">\n",
       "      <th></th>\n",
       "      <th>name</th>\n",
       "      <th>toy</th>\n",
       "      <th>born</th>\n",
       "    </tr>\n",
       "  </thead>\n",
       "  <tbody>\n",
       "    <tr>\n",
       "      <th>0</th>\n",
       "      <td>Alfred</td>\n",
       "      <td>NaN</td>\n",
       "      <td>NaT</td>\n",
       "    </tr>\n",
       "    <tr>\n",
       "      <th>1</th>\n",
       "      <td>Batman</td>\n",
       "      <td>Batmobile</td>\n",
       "      <td>1940-04-25</td>\n",
       "    </tr>\n",
       "    <tr>\n",
       "      <th>2</th>\n",
       "      <td>Catwoman</td>\n",
       "      <td>Bullwhip</td>\n",
       "      <td>NaT</td>\n",
       "    </tr>\n",
       "  </tbody>\n",
       "</table>\n",
       "</div>"
      ],
      "text/plain": [
       "       name        toy       born\n",
       "0    Alfred        NaN        NaT\n",
       "1    Batman  Batmobile 1940-04-25\n",
       "2  Catwoman   Bullwhip        NaT"
      ]
     },
     "execution_count": 49,
     "metadata": {},
     "output_type": "execute_result"
    }
   ],
   "source": [
    "df = pd.DataFrame({\"name\": ['Alfred', 'Batman', 'Catwoman'],\n",
    "                   \"toy\": [np.nan, 'Batmobile', 'Bullwhip'],\n",
    "                   \"born\": [pd.NaT, pd.Timestamp(\"1940-04-25\"),pd.NaT]})\n",
    "df"
   ]
  },
  {
   "cell_type": "code",
   "execution_count": 50,
   "id": "b69c7c53",
   "metadata": {},
   "outputs": [
    {
     "data": {
      "text/html": [
       "<div>\n",
       "<style scoped>\n",
       "    .dataframe tbody tr th:only-of-type {\n",
       "        vertical-align: middle;\n",
       "    }\n",
       "\n",
       "    .dataframe tbody tr th {\n",
       "        vertical-align: top;\n",
       "    }\n",
       "\n",
       "    .dataframe thead th {\n",
       "        text-align: right;\n",
       "    }\n",
       "</style>\n",
       "<table border=\"1\" class=\"dataframe\">\n",
       "  <thead>\n",
       "    <tr style=\"text-align: right;\">\n",
       "      <th></th>\n",
       "      <th>name</th>\n",
       "      <th>toy</th>\n",
       "      <th>born</th>\n",
       "    </tr>\n",
       "  </thead>\n",
       "  <tbody>\n",
       "    <tr>\n",
       "      <th>1</th>\n",
       "      <td>Batman</td>\n",
       "      <td>Batmobile</td>\n",
       "      <td>1940-04-25</td>\n",
       "    </tr>\n",
       "  </tbody>\n",
       "</table>\n",
       "</div>"
      ],
      "text/plain": [
       "     name        toy       born\n",
       "1  Batman  Batmobile 1940-04-25"
      ]
     },
     "execution_count": 50,
     "metadata": {},
     "output_type": "execute_result"
    }
   ],
   "source": [
    "df.dropna()"
   ]
  },
  {
   "cell_type": "code",
   "execution_count": 51,
   "id": "b760cb58",
   "metadata": {},
   "outputs": [
    {
     "data": {
      "text/html": [
       "<div>\n",
       "<style scoped>\n",
       "    .dataframe tbody tr th:only-of-type {\n",
       "        vertical-align: middle;\n",
       "    }\n",
       "\n",
       "    .dataframe tbody tr th {\n",
       "        vertical-align: top;\n",
       "    }\n",
       "\n",
       "    .dataframe thead th {\n",
       "        text-align: right;\n",
       "    }\n",
       "</style>\n",
       "<table border=\"1\" class=\"dataframe\">\n",
       "  <thead>\n",
       "    <tr style=\"text-align: right;\">\n",
       "      <th></th>\n",
       "      <th>name</th>\n",
       "    </tr>\n",
       "  </thead>\n",
       "  <tbody>\n",
       "    <tr>\n",
       "      <th>0</th>\n",
       "      <td>Alfred</td>\n",
       "    </tr>\n",
       "    <tr>\n",
       "      <th>1</th>\n",
       "      <td>Batman</td>\n",
       "    </tr>\n",
       "    <tr>\n",
       "      <th>2</th>\n",
       "      <td>Catwoman</td>\n",
       "    </tr>\n",
       "  </tbody>\n",
       "</table>\n",
       "</div>"
      ],
      "text/plain": [
       "       name\n",
       "0    Alfred\n",
       "1    Batman\n",
       "2  Catwoman"
      ]
     },
     "execution_count": 51,
     "metadata": {},
     "output_type": "execute_result"
    }
   ],
   "source": [
    "df.dropna(axis = 1)"
   ]
  },
  {
   "cell_type": "code",
   "execution_count": 52,
   "id": "426b8a97",
   "metadata": {},
   "outputs": [
    {
     "data": {
      "text/html": [
       "<div>\n",
       "<style scoped>\n",
       "    .dataframe tbody tr th:only-of-type {\n",
       "        vertical-align: middle;\n",
       "    }\n",
       "\n",
       "    .dataframe tbody tr th {\n",
       "        vertical-align: top;\n",
       "    }\n",
       "\n",
       "    .dataframe thead th {\n",
       "        text-align: right;\n",
       "    }\n",
       "</style>\n",
       "<table border=\"1\" class=\"dataframe\">\n",
       "  <thead>\n",
       "    <tr style=\"text-align: right;\">\n",
       "      <th></th>\n",
       "      <th>name</th>\n",
       "      <th>toy</th>\n",
       "      <th>born</th>\n",
       "    </tr>\n",
       "  </thead>\n",
       "  <tbody>\n",
       "    <tr>\n",
       "      <th>0</th>\n",
       "      <td>Alfred</td>\n",
       "      <td>NaN</td>\n",
       "      <td>NaT</td>\n",
       "    </tr>\n",
       "    <tr>\n",
       "      <th>1</th>\n",
       "      <td>Batman</td>\n",
       "      <td>Batmobile</td>\n",
       "      <td>1940-04-25</td>\n",
       "    </tr>\n",
       "    <tr>\n",
       "      <th>2</th>\n",
       "      <td>Catwoman</td>\n",
       "      <td>Bullwhip</td>\n",
       "      <td>NaT</td>\n",
       "    </tr>\n",
       "  </tbody>\n",
       "</table>\n",
       "</div>"
      ],
      "text/plain": [
       "       name        toy       born\n",
       "0    Alfred        NaN        NaT\n",
       "1    Batman  Batmobile 1940-04-25\n",
       "2  Catwoman   Bullwhip        NaT"
      ]
     },
     "execution_count": 52,
     "metadata": {},
     "output_type": "execute_result"
    }
   ],
   "source": [
    "df.dropna(how = \"all\") # Drop the rows where all elements are missing."
   ]
  },
  {
   "cell_type": "code",
   "execution_count": 53,
   "id": "002e2b90",
   "metadata": {},
   "outputs": [
    {
     "data": {
      "text/html": [
       "<div>\n",
       "<style scoped>\n",
       "    .dataframe tbody tr th:only-of-type {\n",
       "        vertical-align: middle;\n",
       "    }\n",
       "\n",
       "    .dataframe tbody tr th {\n",
       "        vertical-align: top;\n",
       "    }\n",
       "\n",
       "    .dataframe thead th {\n",
       "        text-align: right;\n",
       "    }\n",
       "</style>\n",
       "<table border=\"1\" class=\"dataframe\">\n",
       "  <thead>\n",
       "    <tr style=\"text-align: right;\">\n",
       "      <th></th>\n",
       "      <th>name</th>\n",
       "      <th>toy</th>\n",
       "      <th>born</th>\n",
       "    </tr>\n",
       "  </thead>\n",
       "  <tbody>\n",
       "    <tr>\n",
       "      <th>1</th>\n",
       "      <td>Batman</td>\n",
       "      <td>Batmobile</td>\n",
       "      <td>1940-04-25</td>\n",
       "    </tr>\n",
       "    <tr>\n",
       "      <th>2</th>\n",
       "      <td>Catwoman</td>\n",
       "      <td>Bullwhip</td>\n",
       "      <td>NaT</td>\n",
       "    </tr>\n",
       "  </tbody>\n",
       "</table>\n",
       "</div>"
      ],
      "text/plain": [
       "       name        toy       born\n",
       "1    Batman  Batmobile 1940-04-25\n",
       "2  Catwoman   Bullwhip        NaT"
      ]
     },
     "execution_count": 53,
     "metadata": {},
     "output_type": "execute_result"
    }
   ],
   "source": [
    "df.dropna(thresh = 2) # Keep only the rows with at least 2 non-NA values."
   ]
  },
  {
   "cell_type": "code",
   "execution_count": 54,
   "id": "02e08ff5",
   "metadata": {},
   "outputs": [
    {
     "data": {
      "text/html": [
       "<div>\n",
       "<style scoped>\n",
       "    .dataframe tbody tr th:only-of-type {\n",
       "        vertical-align: middle;\n",
       "    }\n",
       "\n",
       "    .dataframe tbody tr th {\n",
       "        vertical-align: top;\n",
       "    }\n",
       "\n",
       "    .dataframe thead th {\n",
       "        text-align: right;\n",
       "    }\n",
       "</style>\n",
       "<table border=\"1\" class=\"dataframe\">\n",
       "  <thead>\n",
       "    <tr style=\"text-align: right;\">\n",
       "      <th></th>\n",
       "      <th>name</th>\n",
       "      <th>toy</th>\n",
       "      <th>born</th>\n",
       "    </tr>\n",
       "  </thead>\n",
       "  <tbody>\n",
       "    <tr>\n",
       "      <th>1</th>\n",
       "      <td>Batman</td>\n",
       "      <td>Batmobile</td>\n",
       "      <td>1940-04-25</td>\n",
       "    </tr>\n",
       "    <tr>\n",
       "      <th>2</th>\n",
       "      <td>Catwoman</td>\n",
       "      <td>Bullwhip</td>\n",
       "      <td>NaT</td>\n",
       "    </tr>\n",
       "  </tbody>\n",
       "</table>\n",
       "</div>"
      ],
      "text/plain": [
       "       name        toy       born\n",
       "1    Batman  Batmobile 1940-04-25\n",
       "2  Catwoman   Bullwhip        NaT"
      ]
     },
     "execution_count": 54,
     "metadata": {},
     "output_type": "execute_result"
    }
   ],
   "source": [
    "# Define in which columns to look for missing values.\n",
    "df.dropna(subset=['name', 'toy'])"
   ]
  },
  {
   "cell_type": "markdown",
   "id": "6e3415bb",
   "metadata": {},
   "source": [
    "## Filling NA/NaN values\n",
    "\n",
    "In addition to dropping missing values, another common approach to handle missing values is to fill them using the `fillna()` function.\n",
    "\n",
    "```python\n",
    "DataFrame.fillna(value = None, *, method = None, axis = None, inplace = False, limit = None, downcast = None)\n",
    "```\n",
    "\n",
    "* `value`: Specifies the value to use for filling missing values. It can be a scalar value or a dictionary mapping column names to values.\n",
    "\n",
    "* `method`: Determines the method to use for filling missing values. It can take values like `pad` or `ffill` to fill with the previous valid value, and `bfill` or `backfill` to fill with the next valid value.\n",
    "\n",
    "* `axis`: Specifies the axis along which to fill missing values. The default is `axis = None`, which fills values along both rows and columns.\n",
    "\n",
    "* `inplace`: Determines whether to modify the DataFrame in place or return a new DataFrame with the filled values. The default is `inplace = False`.\n",
    "\n",
    "* `limit`: Sets the maximum number of consecutive `NaN` values to `fill` when using the `pad` or `backfill` method.\n",
    "\n",
    "* `downcast`: Specifies a data type for downcasting after filling missing values.\n",
    "\n",
    "By using the fillna() function, we can fill missing values with a scalar value, fill using the previous or next valid value, or even fill values based on specific conditions. This provides flexibility in handling missing values according to your needs."
   ]
  },
  {
   "cell_type": "code",
   "execution_count": 55,
   "id": "b1b195aa",
   "metadata": {},
   "outputs": [
    {
     "data": {
      "text/html": [
       "<div>\n",
       "<style scoped>\n",
       "    .dataframe tbody tr th:only-of-type {\n",
       "        vertical-align: middle;\n",
       "    }\n",
       "\n",
       "    .dataframe tbody tr th {\n",
       "        vertical-align: top;\n",
       "    }\n",
       "\n",
       "    .dataframe thead th {\n",
       "        text-align: right;\n",
       "    }\n",
       "</style>\n",
       "<table border=\"1\" class=\"dataframe\">\n",
       "  <thead>\n",
       "    <tr style=\"text-align: right;\">\n",
       "      <th></th>\n",
       "      <th>A</th>\n",
       "      <th>B</th>\n",
       "      <th>C</th>\n",
       "      <th>D</th>\n",
       "    </tr>\n",
       "  </thead>\n",
       "  <tbody>\n",
       "    <tr>\n",
       "      <th>0</th>\n",
       "      <td>NaN</td>\n",
       "      <td>2.0</td>\n",
       "      <td>NaN</td>\n",
       "      <td>0.0</td>\n",
       "    </tr>\n",
       "    <tr>\n",
       "      <th>1</th>\n",
       "      <td>3.0</td>\n",
       "      <td>4.0</td>\n",
       "      <td>NaN</td>\n",
       "      <td>1.0</td>\n",
       "    </tr>\n",
       "    <tr>\n",
       "      <th>2</th>\n",
       "      <td>NaN</td>\n",
       "      <td>NaN</td>\n",
       "      <td>NaN</td>\n",
       "      <td>NaN</td>\n",
       "    </tr>\n",
       "    <tr>\n",
       "      <th>3</th>\n",
       "      <td>NaN</td>\n",
       "      <td>3.0</td>\n",
       "      <td>NaN</td>\n",
       "      <td>4.0</td>\n",
       "    </tr>\n",
       "  </tbody>\n",
       "</table>\n",
       "</div>"
      ],
      "text/plain": [
       "     A    B   C    D\n",
       "0  NaN  2.0 NaN  0.0\n",
       "1  3.0  4.0 NaN  1.0\n",
       "2  NaN  NaN NaN  NaN\n",
       "3  NaN  3.0 NaN  4.0"
      ]
     },
     "execution_count": 55,
     "metadata": {},
     "output_type": "execute_result"
    }
   ],
   "source": [
    "df = pd.DataFrame([[np.nan, 2, np.nan, 0],\n",
    "                   [3, 4, np.nan, 1],\n",
    "                   [np.nan, np.nan, np.nan, np.nan],\n",
    "                   [np.nan, 3, np.nan, 4]],\n",
    "                    columns=list(\"ABCD\"))\n",
    "df"
   ]
  },
  {
   "cell_type": "code",
   "execution_count": 56,
   "id": "b1871c5e",
   "metadata": {},
   "outputs": [
    {
     "data": {
      "text/html": [
       "<div>\n",
       "<style scoped>\n",
       "    .dataframe tbody tr th:only-of-type {\n",
       "        vertical-align: middle;\n",
       "    }\n",
       "\n",
       "    .dataframe tbody tr th {\n",
       "        vertical-align: top;\n",
       "    }\n",
       "\n",
       "    .dataframe thead th {\n",
       "        text-align: right;\n",
       "    }\n",
       "</style>\n",
       "<table border=\"1\" class=\"dataframe\">\n",
       "  <thead>\n",
       "    <tr style=\"text-align: right;\">\n",
       "      <th></th>\n",
       "      <th>A</th>\n",
       "      <th>B</th>\n",
       "      <th>C</th>\n",
       "      <th>D</th>\n",
       "    </tr>\n",
       "  </thead>\n",
       "  <tbody>\n",
       "    <tr>\n",
       "      <th>0</th>\n",
       "      <td>0.0</td>\n",
       "      <td>2.0</td>\n",
       "      <td>0.0</td>\n",
       "      <td>0.0</td>\n",
       "    </tr>\n",
       "    <tr>\n",
       "      <th>1</th>\n",
       "      <td>3.0</td>\n",
       "      <td>4.0</td>\n",
       "      <td>0.0</td>\n",
       "      <td>1.0</td>\n",
       "    </tr>\n",
       "    <tr>\n",
       "      <th>2</th>\n",
       "      <td>0.0</td>\n",
       "      <td>0.0</td>\n",
       "      <td>0.0</td>\n",
       "      <td>0.0</td>\n",
       "    </tr>\n",
       "    <tr>\n",
       "      <th>3</th>\n",
       "      <td>0.0</td>\n",
       "      <td>3.0</td>\n",
       "      <td>0.0</td>\n",
       "      <td>4.0</td>\n",
       "    </tr>\n",
       "  </tbody>\n",
       "</table>\n",
       "</div>"
      ],
      "text/plain": [
       "     A    B    C    D\n",
       "0  0.0  2.0  0.0  0.0\n",
       "1  3.0  4.0  0.0  1.0\n",
       "2  0.0  0.0  0.0  0.0\n",
       "3  0.0  3.0  0.0  4.0"
      ]
     },
     "execution_count": 56,
     "metadata": {},
     "output_type": "execute_result"
    }
   ],
   "source": [
    "# Replace all NaN elements with 0s.\n",
    "df.fillna(0)"
   ]
  },
  {
   "cell_type": "code",
   "execution_count": 57,
   "id": "c035603a",
   "metadata": {},
   "outputs": [
    {
     "data": {
      "text/html": [
       "<div>\n",
       "<style scoped>\n",
       "    .dataframe tbody tr th:only-of-type {\n",
       "        vertical-align: middle;\n",
       "    }\n",
       "\n",
       "    .dataframe tbody tr th {\n",
       "        vertical-align: top;\n",
       "    }\n",
       "\n",
       "    .dataframe thead th {\n",
       "        text-align: right;\n",
       "    }\n",
       "</style>\n",
       "<table border=\"1\" class=\"dataframe\">\n",
       "  <thead>\n",
       "    <tr style=\"text-align: right;\">\n",
       "      <th></th>\n",
       "      <th>A</th>\n",
       "      <th>B</th>\n",
       "      <th>C</th>\n",
       "      <th>D</th>\n",
       "    </tr>\n",
       "  </thead>\n",
       "  <tbody>\n",
       "    <tr>\n",
       "      <th>0</th>\n",
       "      <td>3.0</td>\n",
       "      <td>2.0</td>\n",
       "      <td>NaN</td>\n",
       "      <td>0.0</td>\n",
       "    </tr>\n",
       "    <tr>\n",
       "      <th>1</th>\n",
       "      <td>3.0</td>\n",
       "      <td>4.0</td>\n",
       "      <td>NaN</td>\n",
       "      <td>1.0</td>\n",
       "    </tr>\n",
       "    <tr>\n",
       "      <th>2</th>\n",
       "      <td>NaN</td>\n",
       "      <td>3.0</td>\n",
       "      <td>NaN</td>\n",
       "      <td>4.0</td>\n",
       "    </tr>\n",
       "    <tr>\n",
       "      <th>3</th>\n",
       "      <td>NaN</td>\n",
       "      <td>3.0</td>\n",
       "      <td>NaN</td>\n",
       "      <td>4.0</td>\n",
       "    </tr>\n",
       "  </tbody>\n",
       "</table>\n",
       "</div>"
      ],
      "text/plain": [
       "     A    B   C    D\n",
       "0  3.0  2.0 NaN  0.0\n",
       "1  3.0  4.0 NaN  1.0\n",
       "2  NaN  3.0 NaN  4.0\n",
       "3  NaN  3.0 NaN  4.0"
      ]
     },
     "execution_count": 57,
     "metadata": {},
     "output_type": "execute_result"
    }
   ],
   "source": [
    "df.fillna(method = \"bfill\") # propagate non-null values backward"
   ]
  },
  {
   "cell_type": "code",
   "execution_count": 58,
   "id": "09dd36b2",
   "metadata": {},
   "outputs": [
    {
     "data": {
      "text/html": [
       "<div>\n",
       "<style scoped>\n",
       "    .dataframe tbody tr th:only-of-type {\n",
       "        vertical-align: middle;\n",
       "    }\n",
       "\n",
       "    .dataframe tbody tr th {\n",
       "        vertical-align: top;\n",
       "    }\n",
       "\n",
       "    .dataframe thead th {\n",
       "        text-align: right;\n",
       "    }\n",
       "</style>\n",
       "<table border=\"1\" class=\"dataframe\">\n",
       "  <thead>\n",
       "    <tr style=\"text-align: right;\">\n",
       "      <th></th>\n",
       "      <th>A</th>\n",
       "      <th>B</th>\n",
       "      <th>C</th>\n",
       "      <th>D</th>\n",
       "    </tr>\n",
       "  </thead>\n",
       "  <tbody>\n",
       "    <tr>\n",
       "      <th>0</th>\n",
       "      <td>NaN</td>\n",
       "      <td>2.0</td>\n",
       "      <td>NaN</td>\n",
       "      <td>0.0</td>\n",
       "    </tr>\n",
       "    <tr>\n",
       "      <th>1</th>\n",
       "      <td>3.0</td>\n",
       "      <td>4.0</td>\n",
       "      <td>NaN</td>\n",
       "      <td>1.0</td>\n",
       "    </tr>\n",
       "    <tr>\n",
       "      <th>2</th>\n",
       "      <td>3.0</td>\n",
       "      <td>4.0</td>\n",
       "      <td>NaN</td>\n",
       "      <td>1.0</td>\n",
       "    </tr>\n",
       "    <tr>\n",
       "      <th>3</th>\n",
       "      <td>3.0</td>\n",
       "      <td>3.0</td>\n",
       "      <td>NaN</td>\n",
       "      <td>4.0</td>\n",
       "    </tr>\n",
       "  </tbody>\n",
       "</table>\n",
       "</div>"
      ],
      "text/plain": [
       "     A    B   C    D\n",
       "0  NaN  2.0 NaN  0.0\n",
       "1  3.0  4.0 NaN  1.0\n",
       "2  3.0  4.0 NaN  1.0\n",
       "3  3.0  3.0 NaN  4.0"
      ]
     },
     "execution_count": 58,
     "metadata": {},
     "output_type": "execute_result"
    }
   ],
   "source": [
    "df.fillna(method = 'ffill') # propagate non-null values forward"
   ]
  },
  {
   "cell_type": "markdown",
   "id": "eaeb1e22",
   "metadata": {},
   "source": [
    "###### Replace all NaN elements in column ‘A’, ‘B’, ‘C’, and ‘D’, with 0, 1, 2, and 3 respectively."
   ]
  },
  {
   "cell_type": "code",
   "execution_count": 59,
   "id": "2b32d3ef",
   "metadata": {},
   "outputs": [
    {
     "data": {
      "text/html": [
       "<div>\n",
       "<style scoped>\n",
       "    .dataframe tbody tr th:only-of-type {\n",
       "        vertical-align: middle;\n",
       "    }\n",
       "\n",
       "    .dataframe tbody tr th {\n",
       "        vertical-align: top;\n",
       "    }\n",
       "\n",
       "    .dataframe thead th {\n",
       "        text-align: right;\n",
       "    }\n",
       "</style>\n",
       "<table border=\"1\" class=\"dataframe\">\n",
       "  <thead>\n",
       "    <tr style=\"text-align: right;\">\n",
       "      <th></th>\n",
       "      <th>A</th>\n",
       "      <th>B</th>\n",
       "      <th>C</th>\n",
       "      <th>D</th>\n",
       "    </tr>\n",
       "  </thead>\n",
       "  <tbody>\n",
       "    <tr>\n",
       "      <th>0</th>\n",
       "      <td>0.0</td>\n",
       "      <td>2.0</td>\n",
       "      <td>2.0</td>\n",
       "      <td>0.0</td>\n",
       "    </tr>\n",
       "    <tr>\n",
       "      <th>1</th>\n",
       "      <td>3.0</td>\n",
       "      <td>4.0</td>\n",
       "      <td>2.0</td>\n",
       "      <td>1.0</td>\n",
       "    </tr>\n",
       "    <tr>\n",
       "      <th>2</th>\n",
       "      <td>0.0</td>\n",
       "      <td>1.0</td>\n",
       "      <td>2.0</td>\n",
       "      <td>3.0</td>\n",
       "    </tr>\n",
       "    <tr>\n",
       "      <th>3</th>\n",
       "      <td>0.0</td>\n",
       "      <td>3.0</td>\n",
       "      <td>2.0</td>\n",
       "      <td>4.0</td>\n",
       "    </tr>\n",
       "  </tbody>\n",
       "</table>\n",
       "</div>"
      ],
      "text/plain": [
       "     A    B    C    D\n",
       "0  0.0  2.0  2.0  0.0\n",
       "1  3.0  4.0  2.0  1.0\n",
       "2  0.0  1.0  2.0  3.0\n",
       "3  0.0  3.0  2.0  4.0"
      ]
     },
     "execution_count": 59,
     "metadata": {},
     "output_type": "execute_result"
    }
   ],
   "source": [
    "values = {\"A\": 0, \"B\": 1, \"C\": 2, \"D\": 3}\n",
    "df.fillna(value = values)"
   ]
  },
  {
   "cell_type": "markdown",
   "id": "9c57a4b1",
   "metadata": {},
   "source": [
    "###### Only replace the first NaN element."
   ]
  },
  {
   "cell_type": "code",
   "execution_count": 60,
   "id": "4e2d26bd",
   "metadata": {},
   "outputs": [
    {
     "data": {
      "text/html": [
       "<div>\n",
       "<style scoped>\n",
       "    .dataframe tbody tr th:only-of-type {\n",
       "        vertical-align: middle;\n",
       "    }\n",
       "\n",
       "    .dataframe tbody tr th {\n",
       "        vertical-align: top;\n",
       "    }\n",
       "\n",
       "    .dataframe thead th {\n",
       "        text-align: right;\n",
       "    }\n",
       "</style>\n",
       "<table border=\"1\" class=\"dataframe\">\n",
       "  <thead>\n",
       "    <tr style=\"text-align: right;\">\n",
       "      <th></th>\n",
       "      <th>A</th>\n",
       "      <th>B</th>\n",
       "      <th>C</th>\n",
       "      <th>D</th>\n",
       "    </tr>\n",
       "  </thead>\n",
       "  <tbody>\n",
       "    <tr>\n",
       "      <th>0</th>\n",
       "      <td>0.0</td>\n",
       "      <td>2.0</td>\n",
       "      <td>2.0</td>\n",
       "      <td>0.0</td>\n",
       "    </tr>\n",
       "    <tr>\n",
       "      <th>1</th>\n",
       "      <td>3.0</td>\n",
       "      <td>4.0</td>\n",
       "      <td>NaN</td>\n",
       "      <td>1.0</td>\n",
       "    </tr>\n",
       "    <tr>\n",
       "      <th>2</th>\n",
       "      <td>NaN</td>\n",
       "      <td>1.0</td>\n",
       "      <td>NaN</td>\n",
       "      <td>3.0</td>\n",
       "    </tr>\n",
       "    <tr>\n",
       "      <th>3</th>\n",
       "      <td>NaN</td>\n",
       "      <td>3.0</td>\n",
       "      <td>NaN</td>\n",
       "      <td>4.0</td>\n",
       "    </tr>\n",
       "  </tbody>\n",
       "</table>\n",
       "</div>"
      ],
      "text/plain": [
       "     A    B    C    D\n",
       "0  0.0  2.0  2.0  0.0\n",
       "1  3.0  4.0  NaN  1.0\n",
       "2  NaN  1.0  NaN  3.0\n",
       "3  NaN  3.0  NaN  4.0"
      ]
     },
     "execution_count": 60,
     "metadata": {},
     "output_type": "execute_result"
    }
   ],
   "source": [
    "df.fillna(value = values, limit = 1)"
   ]
  },
  {
   "cell_type": "markdown",
   "id": "04cf1a9c",
   "metadata": {},
   "source": [
    "###### When filling using a DataFrame, replacement happens along the same column names and same indices"
   ]
  },
  {
   "cell_type": "code",
   "execution_count": 61,
   "id": "990177d5",
   "metadata": {},
   "outputs": [
    {
     "data": {
      "text/html": [
       "<div>\n",
       "<style scoped>\n",
       "    .dataframe tbody tr th:only-of-type {\n",
       "        vertical-align: middle;\n",
       "    }\n",
       "\n",
       "    .dataframe tbody tr th {\n",
       "        vertical-align: top;\n",
       "    }\n",
       "\n",
       "    .dataframe thead th {\n",
       "        text-align: right;\n",
       "    }\n",
       "</style>\n",
       "<table border=\"1\" class=\"dataframe\">\n",
       "  <thead>\n",
       "    <tr style=\"text-align: right;\">\n",
       "      <th></th>\n",
       "      <th>A</th>\n",
       "      <th>B</th>\n",
       "      <th>C</th>\n",
       "      <th>D</th>\n",
       "    </tr>\n",
       "  </thead>\n",
       "  <tbody>\n",
       "    <tr>\n",
       "      <th>0</th>\n",
       "      <td>0.0</td>\n",
       "      <td>2.0</td>\n",
       "      <td>0.0</td>\n",
       "      <td>0.0</td>\n",
       "    </tr>\n",
       "    <tr>\n",
       "      <th>1</th>\n",
       "      <td>3.0</td>\n",
       "      <td>4.0</td>\n",
       "      <td>0.0</td>\n",
       "      <td>1.0</td>\n",
       "    </tr>\n",
       "    <tr>\n",
       "      <th>2</th>\n",
       "      <td>0.0</td>\n",
       "      <td>0.0</td>\n",
       "      <td>0.0</td>\n",
       "      <td>NaN</td>\n",
       "    </tr>\n",
       "    <tr>\n",
       "      <th>3</th>\n",
       "      <td>0.0</td>\n",
       "      <td>3.0</td>\n",
       "      <td>0.0</td>\n",
       "      <td>4.0</td>\n",
       "    </tr>\n",
       "  </tbody>\n",
       "</table>\n",
       "</div>"
      ],
      "text/plain": [
       "     A    B    C    D\n",
       "0  0.0  2.0  0.0  0.0\n",
       "1  3.0  4.0  0.0  1.0\n",
       "2  0.0  0.0  0.0  NaN\n",
       "3  0.0  3.0  0.0  4.0"
      ]
     },
     "execution_count": 61,
     "metadata": {},
     "output_type": "execute_result"
    }
   ],
   "source": [
    "df2 = pd.DataFrame(np.zeros((4, 4)), columns = list(\"ABCE\"))\n",
    "df.fillna(df2)"
   ]
  },
  {
   "cell_type": "markdown",
   "id": "492f7375",
   "metadata": {},
   "source": [
    "## interpolate()\n",
    "\n",
    "In addition to using the `fillna()` method to fill missing values, you can also use the `interpolate()` method to perform interpolation. By default, it uses linear interpolation, but you can specify the interpolation method by setting the method parameter.\n",
    "\n",
    "```python\n",
    "DataFrame.interpolate(method = 'linear', *, axis = 0, limit = None, inplace = False, limit_direction = None, limit_area = None, downcast = None, **kwargs)\n",
    "\n",
    "```\n",
    "\n",
    "* `method`: Specifies the interpolation method to use. It can take values like 'linear', 'quadratic', 'cubic', and more.\n",
    "\n",
    "* `axis`: Specifies the axis along which to perform interpolation. The default is `axis=0`, which performs interpolation along the rows.\n",
    "\n",
    "* `limit`: Limits the number of consecutive `NaN` values to be filled. If specified, only a maximum of limit `NaN` values will be filled in a sequence.\n",
    "\n",
    "* `inplace`: Determines whether to modify the DataFrame in place or return a new DataFrame with interpolated values. The default is `inplace=False`.\n",
    "\n",
    "* `limit_direction`: Controls the direction of filling when limit is specified. It can take values like 'forward', 'backward', or 'both'.\n",
    "\n",
    "* `limit_area`: Specifies the area of the DataFrame to limit the interpolation. It can take values like 'inside', 'outside', or 'nearest'.\n",
    "\n",
    "* `downcast`: Specifies a data type for downcasting after interpolation.\n",
    "\n",
    "By using the interpolate() method, we can fill missing values with interpolated values, which can provide a more accurate estimation compared to simple filling methods"
   ]
  },
  {
   "cell_type": "markdown",
   "id": "c324ef5d",
   "metadata": {},
   "source": [
    "### Linear interpolation\n",
    "\n",
    "##### 1. By default, the interpolate() function performs linear interpolation for missing values, regardless of the index.\n"
   ]
  },
  {
   "cell_type": "code",
   "execution_count": 62,
   "id": "c6e2cb2d",
   "metadata": {},
   "outputs": [
    {
     "data": {
      "text/plain": [
       "0     1.0\n",
       "1    10.0\n",
       "2    15.0\n",
       "3    -5.0\n",
       "4    -2.0\n",
       "5     NaN\n",
       "6     NaN\n",
       "7    28.0\n",
       "dtype: float64"
      ]
     },
     "execution_count": 62,
     "metadata": {},
     "output_type": "execute_result"
    }
   ],
   "source": [
    "s = pd.Series([1,10,15,-5,-2,np.nan,np.nan,28])\n",
    "s"
   ]
  },
  {
   "cell_type": "code",
   "execution_count": 63,
   "id": "7aeab3d1",
   "metadata": {},
   "outputs": [
    {
     "data": {
      "text/plain": [
       "0     1.0\n",
       "1    10.0\n",
       "2    15.0\n",
       "3    -5.0\n",
       "4    -2.0\n",
       "5     8.0\n",
       "6    18.0\n",
       "7    28.0\n",
       "dtype: float64"
      ]
     },
     "execution_count": 63,
     "metadata": {},
     "output_type": "execute_result"
    }
   ],
   "source": [
    "s.interpolate()"
   ]
  },
  {
   "cell_type": "code",
   "execution_count": 64,
   "id": "4189b557",
   "metadata": {},
   "outputs": [
    {
     "data": {
      "text/plain": [
       "<AxesSubplot: >"
      ]
     },
     "execution_count": 64,
     "metadata": {},
     "output_type": "execute_result"
    },
    {
     "data": {
      "image/png": "[encoded data removed]",
      "text/plain": [
       "<Figure size 640x480 with 1 Axes>"
      ]
     },
     "metadata": {},
     "output_type": "display_data"
    }
   ],
   "source": [
    "s.interpolate().plot()"
   ]
  },
  {
   "cell_type": "markdown",
   "id": "61119e42",
   "metadata": {},
   "source": [
    "###### The linear interpolation applies to missing values, regardless of the index."
   ]
  },
  {
   "cell_type": "code",
   "execution_count": 65,
   "id": "d82c11e8",
   "metadata": {},
   "outputs": [
    {
     "data": {
      "text/plain": [
       "88      1.0\n",
       "97     10.0\n",
       "103    15.0\n",
       "166    -5.0\n",
       "202    -2.0\n",
       "254     8.0\n",
       "261    18.0\n",
       "299    28.0\n",
       "dtype: float64"
      ]
     },
     "execution_count": 65,
     "metadata": {},
     "output_type": "execute_result"
    }
   ],
   "source": [
    "np.random.seed(1234)\n",
    "s.index = np.sort(np.random.randint(50,300,8))\n",
    "s.interpolate()"
   ]
  },
  {
   "cell_type": "code",
   "execution_count": 66,
   "id": "f4e2ae34",
   "metadata": {},
   "outputs": [
    {
     "data": {
      "text/plain": [
       "<AxesSubplot: >"
      ]
     },
     "execution_count": 66,
     "metadata": {},
     "output_type": "execute_result"
    },
    {
     "data": {
      "image/png": "[encoded data removed]",
      "text/plain": [
       "<Figure size 640x480 with 1 Axes>"
      ]
     },
     "metadata": {},
     "output_type": "display_data"
    }
   ],
   "source": [
    "s.interpolate().plot()"
   ]
  },
  {
   "cell_type": "markdown",
   "id": "29017be1",
   "metadata": {},
   "source": [
    "##### 2. Interpolation related to the index: The index and time options in the method parameter allow interpolation to depend linearly on the index. This means that the interpolation will be a linear function of the index."
   ]
  },
  {
   "cell_type": "code",
   "execution_count": 67,
   "id": "8715b7e0",
   "metadata": {},
   "outputs": [
    {
     "data": {
      "text/plain": [
       "<AxesSubplot: >"
      ]
     },
     "execution_count": 67,
     "metadata": {},
     "output_type": "execute_result"
    },
    {
     "data": {
      "image/png": "[encoded data removed]",
      "text/plain": [
       "<Figure size 640x480 with 1 Axes>"
      ]
     },
     "metadata": {},
     "output_type": "display_data"
    }
   ],
   "source": [
    "s.interpolate(method = 'index').plot()"
   ]
  },
  {
   "cell_type": "code",
   "execution_count": 68,
   "id": "8ab30d80",
   "metadata": {},
   "outputs": [
    {
     "data": {
      "text/plain": [
       "2023-06-06     0.0\n",
       "2023-06-19     NaN\n",
       "2023-06-29    10.0\n",
       "dtype: float64"
      ]
     },
     "execution_count": 68,
     "metadata": {},
     "output_type": "execute_result"
    }
   ],
   "source": [
    "s_t = pd.Series([0, np.nan, 10],\n",
    "                index = [pd.Timestamp('2023-06-06'), pd.Timestamp('2023-06-19'), pd.Timestamp('2023-06-29')])\n",
    "s_t"
   ]
  },
  {
   "cell_type": "code",
   "execution_count": 69,
   "id": "fb0681d0",
   "metadata": {},
   "outputs": [
    {
     "data": {
      "text/plain": [
       "<AxesSubplot: >"
      ]
     },
     "execution_count": 69,
     "metadata": {},
     "output_type": "execute_result"
    },
    {
     "data": {
      "image/png": "[encoded data removed]",
      "text/plain": [
       "<Figure size 640x480 with 1 Axes>"
      ]
     },
     "metadata": {},
     "output_type": "display_data"
    }
   ],
   "source": [
    "s_t.interpolate().plot()"
   ]
  },
  {
   "cell_type": "code",
   "execution_count": 70,
   "id": "866ff612",
   "metadata": {},
   "outputs": [
    {
     "data": {
      "text/plain": [
       "<AxesSubplot: >"
      ]
     },
     "execution_count": 70,
     "metadata": {},
     "output_type": "execute_result"
    },
    {
     "data": {
      "image/png": "[encoded data removed]",
      "text/plain": [
       "<Figure size 640x480 with 1 Axes>"
      ]
     },
     "metadata": {},
     "output_type": "display_data"
    }
   ],
   "source": [
    "s_t.interpolate(method = \"time\").plot()"
   ]
  },
  {
   "cell_type": "markdown",
   "id": "79d408b4",
   "metadata": {},
   "source": [
    "### Advanced interpolation methods \n",
    "\n",
    "\n",
    "Advanced interpolation methods refer to interpolation techniques that go beyond linear interpolation. These methods include spline interpolation, polynomial interpolation, Akima interpolation, and more. To use these advanced interpolation methods in Pandas, we would need to install the `SciPy` library, which provides implementations of these techniques.\n"
   ]
  },
  {
   "cell_type": "code",
   "execution_count": 71,
   "id": "baf005f2",
   "metadata": {},
   "outputs": [
    {
     "data": {
      "text/plain": [
       "<AxesSubplot: >"
      ]
     },
     "execution_count": 71,
     "metadata": {},
     "output_type": "execute_result"
    },
    {
     "data": {
      "image/png": "[encoded data removed]",
      "text/plain": [
       "<Figure size 640x480 with 1 Axes>"
      ]
     },
     "metadata": {},
     "output_type": "display_data"
    }
   ],
   "source": [
    "np.random.seed(123)\n",
    "series = pd.Series(np.arange(1, 10.1, .25) ** 2 + np.random.randn(37))\n",
    "missing = np.array([4, 13, 14, 15, 16, 17, 18, 20, 29])\n",
    "series[missing] = np.nan\n",
    "methods = ['linear', 'quadratic', 'cubic']\n",
    "df = pd.DataFrame({m: series.interpolate(method = m) for m in methods})\n",
    "df.plot()"
   ]
  },
  {
   "cell_type": "markdown",
   "id": "55632307",
   "metadata": {},
   "source": [
    "### Limits the number of missing values when using `interpolate()` method\n",
    "\n",
    "The limit parameter in the interpolate() function specifies the maximum number of consecutive `NaN` values to be filled. It limits the number of consecutive missing values that can be interpolated.\n",
    "\n",
    "By setting the limit parameter, we can control the extent to which interpolation is applied. Only a maximum of limit consecutive `NaN` values will be filled in a sequence, and any subsequent consecutive `NaN` values will remain as `NaN`."
   ]
  },
  {
   "cell_type": "code",
   "execution_count": 72,
   "id": "fbb54eb7",
   "metadata": {},
   "outputs": [
    {
     "data": {
      "text/plain": [
       "0    1.0\n",
       "1    2.0\n",
       "2    3.0\n",
       "3    NaN\n",
       "4    5.0\n",
       "dtype: float64"
      ]
     },
     "execution_count": 72,
     "metadata": {},
     "output_type": "execute_result"
    }
   ],
   "source": [
    "s = pd.Series([1, np.nan, np.nan, np.nan, 5])\n",
    "s.interpolate(limit = 2)"
   ]
  },
  {
   "cell_type": "markdown",
   "id": "d4d0d8c5",
   "metadata": {},
   "source": [
    "### `limit_direction` represents the direction of interpolate (forward,backward,both)"
   ]
  },
  {
   "cell_type": "code",
   "execution_count": 73,
   "id": "c4048282",
   "metadata": {},
   "outputs": [
    {
     "data": {
      "text/plain": [
       "0    1.0\n",
       "1    1.0\n",
       "2    1.0\n",
       "3    2.0\n",
       "4    3.0\n",
       "5    4.0\n",
       "6    5.0\n",
       "7    NaN\n",
       "8    NaN\n",
       "dtype: float64"
      ]
     },
     "execution_count": 73,
     "metadata": {},
     "output_type": "execute_result"
    }
   ],
   "source": [
    "s = pd.Series([np.nan, np.nan, 1, np.nan , np.nan, np.nan, 5, np.nan, np.nan])\n",
    "s.interpolate(limit_direction = 'backward')"
   ]
  },
  {
   "cell_type": "markdown",
   "id": "e5e3aa89",
   "metadata": {},
   "source": [
    "### `limit_area` \n",
    "\n",
    "The `limit_area` parameter in the `interpolate()` function represents the interpolation area. It specifies the area of the DataFrame where interpolation should be performed. The limit_area parameter can take the following values:\n",
    "\n",
    "* `inside`: Only perform interpolation within the existing data range.\n",
    "* `outside`: Perform extrapolation outside the existing data range.\n",
    "* `None (default)`: Perform interpolation without restricting to a specific area."
   ]
  },
  {
   "cell_type": "code",
   "execution_count": 74,
   "id": "e764e541",
   "metadata": {},
   "outputs": [
    {
     "data": {
      "text/plain": [
       "0    NaN\n",
       "1    NaN\n",
       "2    1.0\n",
       "3    NaN\n",
       "4    NaN\n",
       "5    NaN\n",
       "6    5.0\n",
       "7    NaN\n",
       "8    NaN\n",
       "dtype: float64"
      ]
     },
     "execution_count": 74,
     "metadata": {},
     "output_type": "execute_result"
    }
   ],
   "source": [
    "s = pd.Series([np.nan, np.nan, 1, np.nan, np.nan, np.nan, 5, np.nan, np.nan])\n",
    "s"
   ]
  },
  {
   "cell_type": "code",
   "execution_count": 75,
   "id": "e5880d05",
   "metadata": {},
   "outputs": [
    {
     "data": {
      "text/plain": [
       "0    NaN\n",
       "1    NaN\n",
       "2    1.0\n",
       "3    2.0\n",
       "4    3.0\n",
       "5    4.0\n",
       "6    5.0\n",
       "7    NaN\n",
       "8    NaN\n",
       "dtype: float64"
      ]
     },
     "execution_count": 75,
     "metadata": {},
     "output_type": "execute_result"
    }
   ],
   "source": [
    "s.interpolate(limit_area = 'inside')"
   ]
  },
  {
   "cell_type": "code",
   "execution_count": 76,
   "id": "2f7ae695",
   "metadata": {},
   "outputs": [
    {
     "data": {
      "text/plain": [
       "0    NaN\n",
       "1    NaN\n",
       "2    1.0\n",
       "3    NaN\n",
       "4    NaN\n",
       "5    NaN\n",
       "6    5.0\n",
       "7    5.0\n",
       "8    5.0\n",
       "dtype: float64"
      ]
     },
     "execution_count": 76,
     "metadata": {},
     "output_type": "execute_result"
    }
   ],
   "source": [
    "s.interpolate(limit_area = 'outside')"
   ]
  },
  {
   "cell_type": "markdown",
   "id": "6557be93",
   "metadata": {},
   "source": [
    "## Replacing the missing values"
   ]
  },
  {
   "cell_type": "code",
   "execution_count": 77,
   "id": "3e522ed7",
   "metadata": {},
   "outputs": [
    {
     "data": {
      "text/html": [
       "<div>\n",
       "<style scoped>\n",
       "    .dataframe tbody tr th:only-of-type {\n",
       "        vertical-align: middle;\n",
       "    }\n",
       "\n",
       "    .dataframe tbody tr th {\n",
       "        vertical-align: top;\n",
       "    }\n",
       "\n",
       "    .dataframe thead th {\n",
       "        text-align: right;\n",
       "    }\n",
       "</style>\n",
       "<table border=\"1\" class=\"dataframe\">\n",
       "  <thead>\n",
       "    <tr style=\"text-align: right;\">\n",
       "      <th></th>\n",
       "      <th>age</th>\n",
       "      <th>city</th>\n",
       "      <th>sex</th>\n",
       "      <th>birth</th>\n",
       "    </tr>\n",
       "    <tr>\n",
       "      <th>name</th>\n",
       "      <th></th>\n",
       "      <th></th>\n",
       "      <th></th>\n",
       "      <th></th>\n",
       "    </tr>\n",
       "  </thead>\n",
       "  <tbody>\n",
       "    <tr>\n",
       "      <th>Tom</th>\n",
       "      <td>18.0</td>\n",
       "      <td>Los Angeles</td>\n",
       "      <td>None</td>\n",
       "      <td>2000-02-10</td>\n",
       "    </tr>\n",
       "    <tr>\n",
       "      <th>Bob</th>\n",
       "      <td>30.0</td>\n",
       "      <td>New York</td>\n",
       "      <td>male</td>\n",
       "      <td>2001-12-12</td>\n",
       "    </tr>\n",
       "    <tr>\n",
       "      <th>Mary</th>\n",
       "      <td>NaN</td>\n",
       "      <td>&lt;NA&gt;</td>\n",
       "      <td>female</td>\n",
       "      <td>NaT</td>\n",
       "    </tr>\n",
       "    <tr>\n",
       "      <th>James</th>\n",
       "      <td>40.0</td>\n",
       "      <td>DC</td>\n",
       "      <td>male</td>\n",
       "      <td>1978-08-08</td>\n",
       "    </tr>\n",
       "    <tr>\n",
       "      <th>Andy</th>\n",
       "      <td>NaN</td>\n",
       "      <td></td>\n",
       "      <td>NaN</td>\n",
       "      <td>NaT</td>\n",
       "    </tr>\n",
       "    <tr>\n",
       "      <th>Alice</th>\n",
       "      <td>30.0</td>\n",
       "      <td>Seattle</td>\n",
       "      <td>unknown</td>\n",
       "      <td>1988-10-17</td>\n",
       "    </tr>\n",
       "  </tbody>\n",
       "</table>\n",
       "</div>"
      ],
      "text/plain": [
       "        age         city      sex      birth\n",
       "name                                        \n",
       "Tom    18.0  Los Angeles     None 2000-02-10\n",
       "Bob    30.0     New York     male 2001-12-12\n",
       "Mary    NaN         <NA>   female        NaT\n",
       "James  40.0           DC     male 1978-08-08\n",
       "Andy    NaN                   NaN        NaT\n",
       "Alice  30.0      Seattle  unknown 1988-10-17"
      ]
     },
     "execution_count": 77,
     "metadata": {},
     "output_type": "execute_result"
    }
   ],
   "source": [
    "index = pd.Series(data=[\"Tom\", \"Bob\", \"Mary\", \"James\", \"Andy\", \"Alice\"], name=\"name\")\n",
    "data = {\n",
    "    \"age\": [18, 30, None, 40, np.nan, 30],\n",
    "    \"city\": [\"Los Angeles\", \"New York\", pd.NA, \"DC\", \" \", \"Seattle\"],\n",
    "    \"sex\": [None, \"male\", \"female\", \"male\", np.nan, \"unknown\"],\n",
    "    \"birth\": [pd.Timestamp(\"2000-02-10\"), pd.Timestamp(\"2001-12-12\"), pd.NaT, pd.Timestamp(\"1978-08-08\"), np.nan, pd.Timestamp(\"1988-10-17\")]\n",
    "}\n",
    "user_info = pd.DataFrame(data, index=index)\n",
    "user_info"
   ]
  },
  {
   "cell_type": "code",
   "execution_count": 78,
   "id": "ef72ce2f",
   "metadata": {},
   "outputs": [
    {
     "data": {
      "text/plain": [
       "name\n",
       "Tom      18.0\n",
       "Bob      30.0\n",
       "Mary      NaN\n",
       "James     NaN\n",
       "Andy      NaN\n",
       "Alice    30.0\n",
       "Name: age, dtype: float64"
      ]
     },
     "execution_count": 78,
     "metadata": {},
     "output_type": "execute_result"
    }
   ],
   "source": [
    "# Replace the age 40 with np.nan\n",
    "user_info.age.replace(40, np.nan)"
   ]
  },
  {
   "cell_type": "code",
   "execution_count": 79,
   "id": "e7e43cb8",
   "metadata": {},
   "outputs": [
    {
     "data": {
      "text/plain": [
       "name\n",
       "Tom      18.0\n",
       "Bob      30.0\n",
       "Mary      NaN\n",
       "James     NaN\n",
       "Andy      NaN\n",
       "Alice    30.0\n",
       "Name: age, dtype: float64"
      ]
     },
     "execution_count": 79,
     "metadata": {},
     "output_type": "execute_result"
    }
   ],
   "source": [
    "user_info.age.replace({40: np.nan}) # replace the age 40 with np.nan using a dictionary"
   ]
  },
  {
   "cell_type": "code",
   "execution_count": 80,
   "id": "3df3c268",
   "metadata": {},
   "outputs": [
    {
     "data": {
      "text/html": [
       "<div>\n",
       "<style scoped>\n",
       "    .dataframe tbody tr th:only-of-type {\n",
       "        vertical-align: middle;\n",
       "    }\n",
       "\n",
       "    .dataframe tbody tr th {\n",
       "        vertical-align: top;\n",
       "    }\n",
       "\n",
       "    .dataframe thead th {\n",
       "        text-align: right;\n",
       "    }\n",
       "</style>\n",
       "<table border=\"1\" class=\"dataframe\">\n",
       "  <thead>\n",
       "    <tr style=\"text-align: right;\">\n",
       "      <th></th>\n",
       "      <th>age</th>\n",
       "      <th>city</th>\n",
       "      <th>sex</th>\n",
       "      <th>birth</th>\n",
       "    </tr>\n",
       "    <tr>\n",
       "      <th>name</th>\n",
       "      <th></th>\n",
       "      <th></th>\n",
       "      <th></th>\n",
       "      <th></th>\n",
       "    </tr>\n",
       "  </thead>\n",
       "  <tbody>\n",
       "    <tr>\n",
       "      <th>Tom</th>\n",
       "      <td>18.0</td>\n",
       "      <td>Los Angeles</td>\n",
       "      <td>None</td>\n",
       "      <td>2000-02-10</td>\n",
       "    </tr>\n",
       "    <tr>\n",
       "      <th>Bob</th>\n",
       "      <td>30.0</td>\n",
       "      <td>New York</td>\n",
       "      <td>male</td>\n",
       "      <td>2001-12-12</td>\n",
       "    </tr>\n",
       "    <tr>\n",
       "      <th>Mary</th>\n",
       "      <td>NaN</td>\n",
       "      <td>&lt;NA&gt;</td>\n",
       "      <td>female</td>\n",
       "      <td>NaT</td>\n",
       "    </tr>\n",
       "    <tr>\n",
       "      <th>James</th>\n",
       "      <td>NaN</td>\n",
       "      <td>DC</td>\n",
       "      <td>male</td>\n",
       "      <td>NaT</td>\n",
       "    </tr>\n",
       "    <tr>\n",
       "      <th>Andy</th>\n",
       "      <td>NaN</td>\n",
       "      <td></td>\n",
       "      <td>NaN</td>\n",
       "      <td>NaT</td>\n",
       "    </tr>\n",
       "    <tr>\n",
       "      <th>Alice</th>\n",
       "      <td>30.0</td>\n",
       "      <td>Seattle</td>\n",
       "      <td>unknown</td>\n",
       "      <td>1988-10-17</td>\n",
       "    </tr>\n",
       "  </tbody>\n",
       "</table>\n",
       "</div>"
      ],
      "text/plain": [
       "        age         city      sex      birth\n",
       "name                                        \n",
       "Tom    18.0  Los Angeles     None 2000-02-10\n",
       "Bob    30.0     New York     male 2001-12-12\n",
       "Mary    NaN         <NA>   female        NaT\n",
       "James   NaN           DC     male        NaT\n",
       "Andy    NaN                   NaN        NaT\n",
       "Alice  30.0      Seattle  unknown 1988-10-17"
      ]
     },
     "execution_count": 80,
     "metadata": {},
     "output_type": "execute_result"
    }
   ],
   "source": [
    "user_info.replace({\"age\": 40, \"birth\": pd.Timestamp(\"1978-08-08\")}, np.nan) # Multiple conditions with dictionary"
   ]
  },
  {
   "cell_type": "code",
   "execution_count": 81,
   "id": "85af5b0a",
   "metadata": {},
   "outputs": [
    {
     "data": {
      "text/plain": [
       "name\n",
       "Tom        None\n",
       "Bob        male\n",
       "Mary     female\n",
       "James      male\n",
       "Andy        NaN\n",
       "Alice       NaN\n",
       "Name: sex, dtype: object"
      ]
     },
     "execution_count": 81,
     "metadata": {},
     "output_type": "execute_result"
    }
   ],
   "source": [
    "user_info.sex.replace(\"unknown\", np.nan)"
   ]
  },
  {
   "cell_type": "code",
   "execution_count": 82,
   "id": "0d9628a5",
   "metadata": {},
   "outputs": [
    {
     "data": {
      "text/plain": [
       "name\n",
       "Tom          NaN\n",
       "Bob          NaN\n",
       "Mary        <NA>\n",
       "James         DC\n",
       "Andy         NaN\n",
       "Alice    Seattle\n",
       "Name: city, dtype: object"
      ]
     },
     "execution_count": 82,
     "metadata": {},
     "output_type": "execute_result"
    }
   ],
   "source": [
    "user_info.city.replace(r'\\s+', np.nan, regex = True)"
   ]
  },
  {
   "cell_type": "markdown",
   "id": "b1feed9e",
   "metadata": {},
   "source": [
    "# Summary\n",
    "\n",
    "Due to the complexity and uncertainty of data sources, it is common to encounter missing values or incomplete fields in data. This notebook introduces how pandas handles missing values, including `None`, `np.nan`, `pd.NaT`, and `pd.NA`, which are all recognized as missing values. Specifically, `None` refers to missing values in *Python* object data type, `np.nan` represents missing values in numpy, and `pd.NaT` represents missing values in time data type. In Pandas 1.0 and later versions, an experimental scalar `pd.NA` is introduced to unify the representation and handling of missing values. The notebook also explains various methods to detect and handle missing values in pandas."
   ]
  }
 ],
 "metadata": {
  "kernelspec": {
   "display_name": "Python 3 (ipykernel)",
   "language": "python",
   "name": "python3"
  },
  "language_info": {
   "codemirror_mode": {
    "name": "ipython",
    "version": 3
   },
   "file_extension": ".py",
   "mimetype": "text/x-python",
   "name": "python",
   "nbconvert_exporter": "python",
   "pygments_lexer": "ipython3",
   "version": "3.10.7"
  },
  "toc": {
   "base_numbering": 1,
   "nav_menu": {},
   "number_sections": true,
   "sideBar": true,
   "skip_h1_title": false,
   "title_cell": "Table of Contents",
   "title_sidebar": "Contents",
   "toc_cell": false,
   "toc_position": {},
   "toc_section_display": true,
   "toc_window_display": false
  }
 },
 "nbformat": 4,
 "nbformat_minor": 5
}
