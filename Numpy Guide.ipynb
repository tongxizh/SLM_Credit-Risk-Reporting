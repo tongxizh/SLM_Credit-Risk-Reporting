{
 "cells": [
  {
   "cell_type": "markdown",
   "id": "ace41dd7",
   "metadata": {},
   "source": [
    "# Numpy Basics"
   ]
  },
  {
   "cell_type": "markdown",
   "id": "383bb8a1",
   "metadata": {},
   "source": [
    "## Import Numpy package"
   ]
  },
  {
   "cell_type": "code",
   "execution_count": 1,
   "id": "36026362",
   "metadata": {},
   "outputs": [],
   "source": [
    "import numpy as np"
   ]
  },
  {
   "cell_type": "markdown",
   "id": "708f9b9f",
   "metadata": {},
   "source": [
    "## Define a numpy ndarray"
   ]
  },
  {
   "cell_type": "code",
   "execution_count": 2,
   "id": "7dd1045e",
   "metadata": {},
   "outputs": [],
   "source": [
    "arr  = np.arange(1,6)"
   ]
  },
  {
   "cell_type": "markdown",
   "id": "7c900063",
   "metadata": {},
   "source": [
    "## Numpy Array Output"
   ]
  },
  {
   "cell_type": "code",
   "execution_count": 3,
   "id": "f1361b38",
   "metadata": {},
   "outputs": [
    {
     "data": {
      "text/plain": [
       "array([1, 2, 3, 4, 5])"
      ]
     },
     "execution_count": 3,
     "metadata": {},
     "output_type": "execute_result"
    }
   ],
   "source": [
    "arr"
   ]
  },
  {
   "cell_type": "code",
   "execution_count": 4,
   "id": "0774bf0f",
   "metadata": {},
   "outputs": [
    {
     "name": "stdout",
     "output_type": "stream",
     "text": [
      "[1 2 3 4 5]\n"
     ]
    }
   ],
   "source": [
    "print(arr)"
   ]
  },
  {
   "cell_type": "markdown",
   "id": "acef0876",
   "metadata": {},
   "source": [
    "## Ndarray Operation \n",
    "for exmaple， list [1,2,3,4,5] for each element to add 1 \n",
    "- Use python list to add one for each element "
   ]
  },
  {
   "cell_type": "code",
   "execution_count": 5,
   "id": "37b36031",
   "metadata": {},
   "outputs": [
    {
     "name": "stdout",
     "output_type": "stream",
     "text": [
      "[2, 3, 4, 5, 6]\n"
     ]
    }
   ],
   "source": [
    "# Method 1: Loop\n",
    "lst = [1,2,3,4,5]\n",
    "for i in range(len(lst)):\n",
    "    lst[i] = lst[i] + 1\n",
    "print(lst)"
   ]
  },
  {
   "cell_type": "code",
   "execution_count": 6,
   "id": "4d656b23",
   "metadata": {},
   "outputs": [
    {
     "name": "stdout",
     "output_type": "stream",
     "text": [
      "[2, 3, 4, 5, 6]\n"
     ]
    }
   ],
   "source": [
    "# Python Expression\n",
    "lst1 = [1,2,3,4,5]\n",
    "lst1 = [i + 1 for i in lst1 ]\n",
    "print(lst1)"
   ]
  },
  {
   "cell_type": "markdown",
   "id": "9db95841",
   "metadata": {},
   "source": [
    "- Use numpy ndarray"
   ]
  },
  {
   "cell_type": "code",
   "execution_count": 7,
   "id": "47688ce8",
   "metadata": {},
   "outputs": [
    {
     "data": {
      "text/plain": [
       "array([1, 2, 3, 4, 5])"
      ]
     },
     "execution_count": 7,
     "metadata": {},
     "output_type": "execute_result"
    }
   ],
   "source": [
    "arr = np.arange(1,6)\n",
    "arr + 1\n",
    "arr"
   ]
  },
  {
   "cell_type": "markdown",
   "id": "3ff7c8e9",
   "metadata": {},
   "source": [
    "The reason we use Numpy for calculation is that Numpy is written by C programming language, the array operation will be more time efficient and optimized. \n",
    "For example, we calculate the sum of intergers up to 10000\n",
    "- Use Python and magic function \"%timeit\" to see the average time of 7 runs of calculating the sum of intergers up to 10000"
   ]
  },
  {
   "cell_type": "code",
   "execution_count": 8,
   "id": "bde27705",
   "metadata": {},
   "outputs": [
    {
     "name": "stdout",
     "output_type": "stream",
     "text": [
      "57.3 µs ± 204 ns per loop (mean ± std. dev. of 7 runs, 10,000 loops each)\n"
     ]
    }
   ],
   "source": [
    "a = list(range(10000))\n",
    "%timeit sum(a)"
   ]
  },
  {
   "cell_type": "markdown",
   "id": "877b6409",
   "metadata": {},
   "source": [
    "-Use Numpy to Calculate the sum of intergers up to 10000"
   ]
  },
  {
   "cell_type": "code",
   "execution_count": 9,
   "id": "5aaab206",
   "metadata": {},
   "outputs": [
    {
     "name": "stdout",
     "output_type": "stream",
     "text": [
      "5.27 µs ± 92.3 ns per loop (mean ± std. dev. of 7 runs, 100,000 loops each)\n"
     ]
    }
   ],
   "source": [
    "b = np.array(a)\n",
    "%timeit np.sum(b)"
   ]
  },
  {
   "cell_type": "markdown",
   "id": "e2d8cfdc",
   "metadata": {},
   "source": [
    "# Ndarry object\n",
    "ndarray = n dimensional array. \n",
    "\n",
    "The ndarray object is a multi-dimensional array used to store elements of the same type. Each element in the ndarray has a memory area with the same storage size.\n",
    "\n",
    "One dimensional array：[1,2,3,4,5]        (Vector)\n",
    "\n",
    "Two dimensional array：[[1,2,3],\n",
    "                        [4,5,6]]          （Matrix）\n",
    "\n",
    "Three dimensioanl array：[ [[1,2,3],\n",
    "                            [4,5,6]],\n",
    "                           [[7,8,9],\n",
    "                            [10,11,12]]\n",
    "                                ]       (Tensor)"
   ]
  },
  {
   "cell_type": "markdown",
   "id": "8effaa62",
   "metadata": {},
   "source": [
    "## Generate ndarray\n",
    "### Generate a one-dimensional array"
   ]
  },
  {
   "cell_type": "code",
   "execution_count": 10,
   "id": "71c1e415",
   "metadata": {},
   "outputs": [
    {
     "data": {
      "text/plain": [
       "array([1, 2, 3, 4, 5])"
      ]
     },
     "execution_count": 10,
     "metadata": {},
     "output_type": "execute_result"
    }
   ],
   "source": [
    "import numpy as np\n",
    "a1 = [1,2,3,4,5]\n",
    "arr1 = np.array(a1)\n",
    "arr1"
   ]
  },
  {
   "cell_type": "markdown",
   "id": "fc493adc",
   "metadata": {},
   "source": [
    "### Generate a two-dimensional array (A matrix)"
   ]
  },
  {
   "cell_type": "code",
   "execution_count": 11,
   "id": "bf1478c3",
   "metadata": {},
   "outputs": [
    {
     "data": {
      "text/plain": [
       "array([[1, 2, 3],\n",
       "       [4, 5, 6]])"
      ]
     },
     "execution_count": 11,
     "metadata": {},
     "output_type": "execute_result"
    }
   ],
   "source": [
    "a2 = [ [1,2,3],\n",
    "    [4,5,6]\n",
    "     ]\n",
    "arr2 = np.array(a2)\n",
    "arr2"
   ]
  },
  {
   "cell_type": "markdown",
   "id": "985c76e5",
   "metadata": {},
   "source": [
    "### Generate a three-dimensional array (A tensor)"
   ]
  },
  {
   "cell_type": "code",
   "execution_count": 12,
   "id": "ff5ef682",
   "metadata": {},
   "outputs": [
    {
     "data": {
      "text/plain": [
       "array([[[ 1,  2,  3],\n",
       "        [ 4,  5,  6]],\n",
       "\n",
       "       [[ 7,  8,  9],\n",
       "        [10, 11, 12]]])"
      ]
     },
     "execution_count": 12,
     "metadata": {},
     "output_type": "execute_result"
    }
   ],
   "source": [
    "a3 = [\n",
    "    [[1,2,3],\n",
    "    [4,5,6]],\n",
    "      [[7,8,9],\n",
    "       [10,11,12]]    \n",
    "]\n",
    "arr3 = np.array(a3)\n",
    "arr3"
   ]
  },
  {
   "cell_type": "markdown",
   "id": "766d4b9e",
   "metadata": {},
   "source": [
    "## Property of ndarray\n",
    "\n",
    "| Property Name    | Explanation                        |\n",
    "| :--------------- | :----------------------------------------- |\n",
    "| ndarray.shape    | the shape of a ndarray                     |\n",
    "| ndarray.ndim     | the dimension of a ndarray                 |\n",
    "| ndarray.size     | the number of elements in a ndarray        |\n",
    "| ndarray.itemsize | ndarray the size of each element, the unit is Byte |\n",
    "| ndarray.dtype    | the type of each element                   |\n"
   ]
  },
  {
   "cell_type": "markdown",
   "id": "f388cc50",
   "metadata": {},
   "source": [
    "### Look at the shape of a ndarray"
   ]
  },
  {
   "cell_type": "code",
   "execution_count": 13,
   "id": "7f52beb5",
   "metadata": {},
   "outputs": [
    {
     "data": {
      "text/plain": [
       "(2, 3)"
      ]
     },
     "execution_count": 13,
     "metadata": {},
     "output_type": "execute_result"
    }
   ],
   "source": [
    "arr2.shape"
   ]
  },
  {
   "cell_type": "code",
   "execution_count": 14,
   "id": "8633566f",
   "metadata": {},
   "outputs": [
    {
     "data": {
      "text/plain": [
       "(2, 2, 3)"
      ]
     },
     "execution_count": 14,
     "metadata": {},
     "output_type": "execute_result"
    }
   ],
   "source": [
    "arr3.shape"
   ]
  },
  {
   "cell_type": "markdown",
   "id": "a860ca30",
   "metadata": {},
   "source": [
    "### Look at the dimension of a ndarray"
   ]
  },
  {
   "cell_type": "code",
   "execution_count": 15,
   "id": "8bc76301",
   "metadata": {},
   "outputs": [
    {
     "data": {
      "text/plain": [
       "2"
      ]
     },
     "execution_count": 15,
     "metadata": {},
     "output_type": "execute_result"
    }
   ],
   "source": [
    "arr2.ndim"
   ]
  },
  {
   "cell_type": "code",
   "execution_count": 16,
   "id": "f864c61d",
   "metadata": {},
   "outputs": [
    {
     "data": {
      "text/plain": [
       "3"
      ]
     },
     "execution_count": 16,
     "metadata": {},
     "output_type": "execute_result"
    }
   ],
   "source": [
    "arr3.ndim"
   ]
  },
  {
   "cell_type": "markdown",
   "id": "a46ffe69",
   "metadata": {},
   "source": [
    "### Look at the number of elements in a ndarray"
   ]
  },
  {
   "cell_type": "code",
   "execution_count": 17,
   "id": "689666ee",
   "metadata": {},
   "outputs": [
    {
     "data": {
      "text/plain": [
       "6"
      ]
     },
     "execution_count": 17,
     "metadata": {},
     "output_type": "execute_result"
    }
   ],
   "source": [
    "arr2.size"
   ]
  },
  {
   "cell_type": "code",
   "execution_count": 18,
   "id": "44cb13b9",
   "metadata": {},
   "outputs": [
    {
     "data": {
      "text/plain": [
       "12"
      ]
     },
     "execution_count": 18,
     "metadata": {},
     "output_type": "execute_result"
    }
   ],
   "source": [
    "arr3.size"
   ]
  },
  {
   "cell_type": "markdown",
   "id": "069a06d4",
   "metadata": {},
   "source": [
    "### Look at the size of each element"
   ]
  },
  {
   "cell_type": "code",
   "execution_count": 19,
   "id": "8373057a",
   "metadata": {},
   "outputs": [
    {
     "data": {
      "text/plain": [
       "4"
      ]
     },
     "execution_count": 19,
     "metadata": {},
     "output_type": "execute_result"
    }
   ],
   "source": [
    "arr2.itemsize"
   ]
  },
  {
   "cell_type": "code",
   "execution_count": 20,
   "id": "382a3b9d",
   "metadata": {},
   "outputs": [
    {
     "data": {
      "text/plain": [
       "4"
      ]
     },
     "execution_count": 20,
     "metadata": {},
     "output_type": "execute_result"
    }
   ],
   "source": [
    "arr3.itemsize"
   ]
  },
  {
   "cell_type": "markdown",
   "id": "9f48b40c",
   "metadata": {},
   "source": [
    "### Look at the type of each element"
   ]
  },
  {
   "cell_type": "code",
   "execution_count": 21,
   "id": "e286205b",
   "metadata": {},
   "outputs": [
    {
     "data": {
      "text/plain": [
       "dtype('int32')"
      ]
     },
     "execution_count": 21,
     "metadata": {},
     "output_type": "execute_result"
    }
   ],
   "source": [
    "arr2.dtype"
   ]
  },
  {
   "cell_type": "markdown",
   "id": "c99335bf",
   "metadata": {},
   "source": [
    "## Ndarry element type\n",
    "\n",
    "| Type Name          | Description                                 | Abbreviation     |\n",
    "| ------------------ | ------------------------------------------- | ---------------- | \n",
    "| np.bool            | Bool Type  (1 Byte)                         | “b”              | \n",
    "| np.int8\\16\\32\\64   | Signed 8\\16\\32\\64-bit Integers              | “i1、i2、i4、i8” |\n",
    "| np.uint 8\\16\\32\\64 | Unsigned 8\\16\\32\\64-bit Intergers           | “u1、u2、u4、u8” |\n",
    "| np.float16         | Half-precision floating 16-bit             | ‘f2’             |\n",
    "| np.float32         | Single-precision floating 32-bit           | ‘f4’             |\n",
    "| np.float64         | Double-precision floating 64-bit               | ‘f8’             |\n",
    "| np.complex64\\128   | Complex number，32/64-bit floating for real/imaginary part | ‘C8、C16’        |\n",
    "| np.string_         | String                                     | ‘S’              |\n",
    "| np.unicode         | Unicode type                                | ‘U’              |"
   ]
  },
  {
   "cell_type": "markdown",
   "id": "0b6e7b37",
   "metadata": {},
   "source": [
    "## Data Type"
   ]
  },
  {
   "cell_type": "markdown",
   "id": "143875d7",
   "metadata": {},
   "source": [
    "### Compare types and size"
   ]
  },
  {
   "cell_type": "code",
   "execution_count": 22,
   "id": "f6bfb19a",
   "metadata": {},
   "outputs": [
    {
     "data": {
      "text/plain": [
       "array([1, 2, 3, 4, 5], dtype=int8)"
      ]
     },
     "execution_count": 22,
     "metadata": {},
     "output_type": "execute_result"
    }
   ],
   "source": [
    "# Set the ndarray data type as int8 (1 byte)\n",
    "a4 = np.array([1, 2, 3, 4, 5], dtype = np.int8)\n",
    "a4"
   ]
  },
  {
   "cell_type": "code",
   "execution_count": 23,
   "id": "626341ee",
   "metadata": {},
   "outputs": [
    {
     "data": {
      "text/plain": [
       "1"
      ]
     },
     "execution_count": 23,
     "metadata": {},
     "output_type": "execute_result"
    }
   ],
   "source": [
    "# Look at the size the element: 1 byte\n",
    "a4.itemsize"
   ]
  },
  {
   "cell_type": "code",
   "execution_count": 24,
   "id": "650490a8",
   "metadata": {},
   "outputs": [
    {
     "data": {
      "text/plain": [
       "array([1., 2., 3., 4., 5.])"
      ]
     },
     "execution_count": 24,
     "metadata": {},
     "output_type": "execute_result"
    }
   ],
   "source": [
    "# Set the ndarry data type as float64 (8 bytes)\n",
    "a5 = np.array([1,2,3,4,5], dtype = np.float64)\n",
    "a5"
   ]
  },
  {
   "cell_type": "code",
   "execution_count": 25,
   "id": "ed72afa1",
   "metadata": {},
   "outputs": [
    {
     "data": {
      "text/plain": [
       "8"
      ]
     },
     "execution_count": 25,
     "metadata": {},
     "output_type": "execute_result"
    }
   ],
   "source": [
    "a5.itemsize"
   ]
  },
  {
   "cell_type": "code",
   "execution_count": 26,
   "id": "09ab5f53",
   "metadata": {},
   "outputs": [
    {
     "name": "stdout",
     "output_type": "stream",
     "text": [
      "<U1 4\n"
     ]
    }
   ],
   "source": [
    "lst = list(\"abcd\")\n",
    "a6 = np.array(lst)  # Unicode configration should be U type\n",
    "print(a6.dtype, a6.itemsize)"
   ]
  },
  {
   "cell_type": "code",
   "execution_count": 27,
   "id": "fa386377",
   "metadata": {},
   "outputs": [
    {
     "name": "stdout",
     "output_type": "stream",
     "text": [
      "|S1 1\n"
     ]
    }
   ],
   "source": [
    "lst2 = list(\"abcd\")           # np.string configration should be S type, 1 string in the list 1 byte\n",
    "a7 = np.array(lst, dtype = np.string_)\n",
    "print(a7.dtype, a7.itemsize)"
   ]
  },
  {
   "cell_type": "code",
   "execution_count": 28,
   "id": "cda41e2c",
   "metadata": {},
   "outputs": [
    {
     "name": "stdout",
     "output_type": "stream",
     "text": [
      "|S11 11\n"
     ]
    }
   ],
   "source": [
    "a8 = np.array([\"SLM\", \"JPM\", \"BOA\",\"CITI\", \"CAPITAL ONE\"], dtype = np.string_) # string 11 byte because of len(Capital one) = 11 \n",
    "print(a8.dtype, a8.itemsize)"
   ]
  },
  {
   "cell_type": "markdown",
   "id": "f1db5526",
   "metadata": {},
   "source": [
    "### Revise the type"
   ]
  },
  {
   "cell_type": "code",
   "execution_count": 29,
   "id": "c3009ba9",
   "metadata": {},
   "outputs": [
    {
     "data": {
      "text/plain": [
       "(dtype('float64'), 8)"
      ]
     },
     "execution_count": 29,
     "metadata": {},
     "output_type": "execute_result"
    }
   ],
   "source": [
    "a9 = np.array([1.5, 2, 3], dtype = np.float64)\n",
    "a9.dtype, a9.itemsize"
   ]
  },
  {
   "cell_type": "markdown",
   "id": "4694f684",
   "metadata": {},
   "source": [
    "Now revise it to int32, using numpy function \"astype\""
   ]
  },
  {
   "cell_type": "code",
   "execution_count": 30,
   "id": "6c7bed31",
   "metadata": {},
   "outputs": [
    {
     "data": {
      "text/plain": [
       "(array([1, 2, 3]), dtype('int32'), 4)"
      ]
     },
     "execution_count": 30,
     "metadata": {},
     "output_type": "execute_result"
    }
   ],
   "source": [
    "a10 = a9.astype(np.int32)\n",
    "a10, a10.dtype, a10.itemsize"
   ]
  },
  {
   "cell_type": "markdown",
   "id": "55ae30ba",
   "metadata": {},
   "source": [
    "- astype(type)  \n",
    "type: provide specific data types that you would like me to modify.\n",
    "> int32 --> float64:   Space is sufficient, no problem\n",
    ">\n",
    "> float64 --> int32: The space is not sufficient, the decimal part will be truncated.\n",
    ">\n",
    "> string_ --> float64:  If the string array represents only numbers, it is also possible to use astype to convert it to a numerical data type."
   ]
  },
  {
   "cell_type": "markdown",
   "id": "c4eaf44d",
   "metadata": {},
   "source": [
    "### tolist() Covert the ndarray to Python list"
   ]
  },
  {
   "cell_type": "code",
   "execution_count": 31,
   "id": "d101fd24",
   "metadata": {},
   "outputs": [
    {
     "data": {
      "text/plain": [
       "([[1, 2, 3], [4, 5, 6]], list)"
      ]
     },
     "execution_count": 31,
     "metadata": {},
     "output_type": "execute_result"
    }
   ],
   "source": [
    "a11 = np.array([[1,2,3], [4,5,6]])\n",
    "lst4 = a11.tolist()\n",
    "lst4, type(lst4)  # See the type of a Python list"
   ]
  },
  {
   "cell_type": "markdown",
   "id": "131adb3f",
   "metadata": {},
   "source": [
    "### The data type is propagated downstream."
   ]
  },
  {
   "cell_type": "markdown",
   "id": "b9e0f3a2",
   "metadata": {},
   "source": [
    "For ndarray, all elements inside must be of the same data type. If not, it will automaticly downward propagation, in the order int $\\rightarrow$ float $\\rightarrow$ str "
   ]
  },
  {
   "cell_type": "code",
   "execution_count": 32,
   "id": "c7757bd0",
   "metadata": {},
   "outputs": [
    {
     "data": {
      "text/plain": [
       "dtype('int32')"
      ]
     },
     "execution_count": 32,
     "metadata": {},
     "output_type": "execute_result"
    }
   ],
   "source": [
    "a12 = np.array([1,2,3,4,5])\n",
    "a12.dtype   # all intergers, data type should be intergers for all"
   ]
  },
  {
   "cell_type": "code",
   "execution_count": 33,
   "id": "94acccc8",
   "metadata": {},
   "outputs": [
    {
     "data": {
      "text/plain": [
       "dtype('float64')"
      ]
     },
     "execution_count": 33,
     "metadata": {},
     "output_type": "execute_result"
    }
   ],
   "source": [
    "a13 = np.array([1, 2.5, 3, 4, 5])\n",
    "a13.dtype  # One element changed to 2.5 the float, all data type should be changed to float "
   ]
  },
  {
   "cell_type": "code",
   "execution_count": 34,
   "id": "086f4a1a",
   "metadata": {},
   "outputs": [
    {
     "data": {
      "text/plain": [
       "dtype('<U32')"
      ]
     },
     "execution_count": 34,
     "metadata": {},
     "output_type": "execute_result"
    }
   ],
   "source": [
    "a14 = np.array([1, 2.5, 3, 4, 5, 'SLM'])\n",
    "a14.dtype    # add one more element string, all data type converted into unicode."
   ]
  },
  {
   "cell_type": "markdown",
   "id": "e53d9298",
   "metadata": {},
   "source": [
    "a14*2  # UFuncTypeError, but if we converted a14 into np.object_, it can be multiplied and the data type is python object."
   ]
  },
  {
   "cell_type": "code",
   "execution_count": 35,
   "id": "f9c0c015",
   "metadata": {},
   "outputs": [
    {
     "data": {
      "text/plain": [
       "(array([1, 2.5, 3, 4, 5, 'SLM'], dtype=object), dtype('O'))"
      ]
     },
     "execution_count": 35,
     "metadata": {},
     "output_type": "execute_result"
    }
   ],
   "source": [
    "a15 = np.array([1, 2.5, 3, 4, 5, 'SLM'], dtype = np.object_)\n",
    "a15*2\n",
    "a15, a15.dtype"
   ]
  },
  {
   "cell_type": "markdown",
   "id": "1bbc0508",
   "metadata": {},
   "source": [
    "# Create Numpy Ndarray\n",
    "## Create numpy ndarray based on existing data\n",
    "### array\n",
    "$\\textbf{Syntax:}$ array(object, dtype=None, copy=True, order='K', subok=False, ndmin=0)"
   ]
  },
  {
   "cell_type": "code",
   "execution_count": 36,
   "id": "5a717928",
   "metadata": {},
   "outputs": [],
   "source": [
    "a16 = [1,2,3,4,5]\n",
    "a17 = [[1,2,3]\n",
    "      ,[4,5,6]]"
   ]
  },
  {
   "cell_type": "code",
   "execution_count": 37,
   "id": "6702222a",
   "metadata": {},
   "outputs": [
    {
     "name": "stdout",
     "output_type": "stream",
     "text": [
      "arr4: [1 2 3 4 5]\n",
      "arr5: [[1 2 3]\n",
      " [4 5 6]]\n"
     ]
    }
   ],
   "source": [
    "arr4 = np.array(a16)\n",
    "arr5 = np.array(a17)\n",
    "print(\"arr4:\", arr4)\n",
    "print(\"arr5:\", arr5)"
   ]
  },
  {
   "cell_type": "markdown",
   "id": "8e8b1669",
   "metadata": {},
   "source": [
    "Through list, tuple and the mix of list tuple to create a ndarray "
   ]
  },
  {
   "cell_type": "code",
   "execution_count": 38,
   "id": "13d89fab",
   "metadata": {},
   "outputs": [
    {
     "name": "stdout",
     "output_type": "stream",
     "text": [
      "[[1 2 3]\n",
      " [4 5 6]] <class 'numpy.ndarray'>\n"
     ]
    }
   ],
   "source": [
    "x =  [1,2,3,4]   # List\n",
    "x =  (1,2,3,4)   # Tuple\n",
    "x =  [(1,2,3),(4,5,6)] # Mix of list and tuple\n",
    "a = np. array(x)\n",
    "print (a,type(a))"
   ]
  },
  {
   "cell_type": "markdown",
   "id": "0cd95bff",
   "metadata": {},
   "source": [
    "### asarray\n",
    "$\\textbf{Syntax:}$ asarray(a, dtype=None, order=None)"
   ]
  },
  {
   "cell_type": "code",
   "execution_count": 39,
   "id": "0b648865",
   "metadata": {},
   "outputs": [
    {
     "data": {
      "text/plain": [
       "array([[1, 2, 3],\n",
       "       [4, 5, 6]])"
      ]
     },
     "execution_count": 39,
     "metadata": {},
     "output_type": "execute_result"
    }
   ],
   "source": [
    "a = np. array([[1,2,3],[4,5,6]])\n",
    "a1 = np. array(a)    # To generate a new array from an existing array   \n",
    "a2 = np. asarray(a)  # It does not actually create a new array, but rather acts as an index to the original a.\"\n",
    "a2"
   ]
  },
  {
   "cell_type": "markdown",
   "id": "a9b0d097",
   "metadata": {},
   "source": [
    "- Difference between array and asarray\n",
    "Both array and asarray can convert structured data into an ndarray, but the main difference is that when the data source is already an ndarray, array will still make a copy and occupy new memory, whereas asarray will not."
   ]
  },
  {
   "cell_type": "code",
   "execution_count": 40,
   "id": "d571594c",
   "metadata": {},
   "outputs": [
    {
     "name": "stdout",
     "output_type": "stream",
     "text": [
      "a1 is a? False\n",
      "a2 is a? True\n"
     ]
    }
   ],
   "source": [
    "print('a1 is a?', a1 is a)\n",
    "print('a2 is a?', a2 is a)"
   ]
  },
  {
   "cell_type": "markdown",
   "id": "c13a97bb",
   "metadata": {},
   "source": [
    "## Create arrays based on their shape or values.\n",
    "| Function Name    | Description                                              |\n",
    "| ------------- | ---------------------------------------------------- |\n",
    "| np.ones          | To generate an array filled with ones                   |\n",
    "| np.ones_like     | To generate an array filled with ones that has the same shape as a given array |\n",
    "| np.zeros         | To generate an array filled with zeros                     |\n",
    "| np.zeros_like    | To generate an array filled with zeros that has the same shape as a given array              |\n",
    "| np.empty         | To generate an empty array of a given shape without initializing its values           |\n",
    "| np.empty_like    | To generate an empty array of the same shape as a given array without initializing its values |\n",
    "| np.full          | To generate an array of a specified shape, data type, and with a specific value           |\n",
    "| np.full_like     | To generate an array of the same shape as a given array, but filled with a specific value |\n",
    "| np.eye, np.identity | To generate an N x N identity matrix (i.e., a feature matrix with ones on the diagonal and zeros elsewhere)  |"
   ]
  },
  {
   "cell_type": "markdown",
   "id": "00962c9a",
   "metadata": {},
   "source": [
    "### Generate an array filled with ones\n",
    "**Syntax：**\n",
    "- ones(shape, dtype=None, order='C')\n",
    "- ones_like(a, dtype=None, order='K', subok=True, shape=None)"
   ]
  },
  {
   "cell_type": "code",
   "execution_count": 41,
   "id": "d4b837f4",
   "metadata": {},
   "outputs": [
    {
     "data": {
      "text/plain": [
       "array([[1, 1, 1, 1],\n",
       "       [1, 1, 1, 1],\n",
       "       [1, 1, 1, 1]])"
      ]
     },
     "execution_count": 41,
     "metadata": {},
     "output_type": "execute_result"
    }
   ],
   "source": [
    "a = np.ones((3, 4),dtype = int)\n",
    "a"
   ]
  },
  {
   "cell_type": "code",
   "execution_count": 42,
   "id": "7eb93874",
   "metadata": {},
   "outputs": [
    {
     "data": {
      "text/plain": [
       "array([[1, 1, 1],\n",
       "       [1, 1, 1]])"
      ]
     },
     "execution_count": 42,
     "metadata": {},
     "output_type": "execute_result"
    }
   ],
   "source": [
    "x = [[1, 2, 3], [4, 5, 6]]\n",
    "b = np.ones_like(x)\n",
    "b"
   ]
  },
  {
   "cell_type": "markdown",
   "id": "c264d924",
   "metadata": {},
   "source": [
    "### Generate an array filled with zeros\n",
    "**Syntax：**\n",
    "- zeros(shape, dtype=float, order=‘C’)\n",
    "- zeros_like(a, dtype=None, order='K', subok=True, shape=None)"
   ]
  },
  {
   "cell_type": "code",
   "execution_count": 43,
   "id": "185bc0c7",
   "metadata": {},
   "outputs": [
    {
     "data": {
      "text/plain": [
       "array([[0., 0., 0., 0.],\n",
       "       [0., 0., 0., 0.],\n",
       "       [0., 0., 0., 0.]])"
      ]
     },
     "execution_count": 43,
     "metadata": {},
     "output_type": "execute_result"
    }
   ],
   "source": [
    "a = np.zeros((3,4), dtype = np.float64)\n",
    "a"
   ]
  },
  {
   "cell_type": "code",
   "execution_count": 44,
   "id": "62386a02",
   "metadata": {},
   "outputs": [
    {
     "data": {
      "text/plain": [
       "array([[0, 0, 0],\n",
       "       [0, 0, 0]])"
      ]
     },
     "execution_count": 44,
     "metadata": {},
     "output_type": "execute_result"
    }
   ],
   "source": [
    "x =  [[1, 2, 3], [4, 5, 6]]\n",
    "b = np.zeros_like(x)\n",
    "b"
   ]
  },
  {
   "cell_type": "markdown",
   "id": "67fb9fb9",
   "metadata": {},
   "source": [
    "### Generate an array of a specified shape, data type, and with a specific value\n",
    "**Syntax：**\n",
    "- full(shape, fill_value, dtype=None, order='C')\n",
    "- full_like(a, fill_value, dtype=None, order='K', subok=True)"
   ]
  },
  {
   "cell_type": "code",
   "execution_count": 45,
   "id": "04ce7516",
   "metadata": {},
   "outputs": [
    {
     "data": {
      "text/plain": [
       "array([[7, 7, 7],\n",
       "       [7, 7, 7]])"
      ]
     },
     "execution_count": 45,
     "metadata": {},
     "output_type": "execute_result"
    }
   ],
   "source": [
    "a = np. full((3,4),7)\n",
    "a\n",
    "x = [[1,2,3],[4,5,6]] \n",
    "a = np. full_like(x,7)\n",
    "a"
   ]
  },
  {
   "cell_type": "markdown",
   "id": "921f1d00",
   "metadata": {},
   "source": [
    "### Generate an empty array of a given shape without initializing its values\n",
    "**Syntax：**\n",
    "- empty(shape, dtype=float, order=‘C’)\n",
    "- empty_like(prototype, dtype=None, order='K', subok=True, shape=None)"
   ]
  },
  {
   "cell_type": "code",
   "execution_count": 46,
   "id": "9b3ac0d0",
   "metadata": {},
   "outputs": [
    {
     "name": "stdout",
     "output_type": "stream",
     "text": [
      "[[0. 0. 0. 0.]\n",
      " [0. 0. 0. 0.]\n",
      " [0. 0. 0. 0.]] 8\n"
     ]
    }
   ],
   "source": [
    "a = np. empty((3,4))\n",
    "print(a, a.itemsize)"
   ]
  },
  {
   "cell_type": "code",
   "execution_count": 47,
   "id": "68d2e4ff",
   "metadata": {},
   "outputs": [
    {
     "data": {
      "text/plain": [
       "array([[-1714418096,         622,           0],\n",
       "       [          0,      131074,   174418036]])"
      ]
     },
     "execution_count": 47,
     "metadata": {},
     "output_type": "execute_result"
    }
   ],
   "source": [
    "x = [[1,2,3],[4,5,6]] \n",
    "b = np. empty_like(x)\n",
    "b #Note that the values in the array are not guaranteed to be 0 or any other specific value; \n",
    "  # they are whatever happened to be in the memory locations that were allocated for the array."
   ]
  },
  {
   "cell_type": "markdown",
   "id": "e88db6bc",
   "metadata": {},
   "source": [
    "### Generate an identity matrix \n",
    "**np.eye() and np.identity() difference**\n",
    "\n",
    "**np.identity syntax：** np.identity(n, dtype=None)\n",
    "\n",
    "**np.eye syntax：** np.eye(N, M=None, k=0, dtype=<type ‘float'>)\n",
    "\n",
    "- np.identity can only create square matrices.\n",
    "- np.eye can create rectangular matrices, and the k parameter can be adjusted to shift the position of the diagonal of 1's. A k value of 0 places the diagonal in the center of the matrix, a k value of 1 shifts the diagonal one position up, a k value of 2 shifts the diagonal two positions up, and so on. Similarly, a k value of -1 shifts the diagonal one position down. If the absolute value of k is too large, the diagonal will shift completely out of the matrix, resulting in a matrix full of zeros."
   ]
  },
  {
   "cell_type": "code",
   "execution_count": 48,
   "id": "e0636f6e",
   "metadata": {},
   "outputs": [
    {
     "data": {
      "text/plain": [
       "array([[1., 0., 0., 0.],\n",
       "       [0., 1., 0., 0.],\n",
       "       [0., 0., 1., 0.],\n",
       "       [0., 0., 0., 1.]])"
      ]
     },
     "execution_count": 48,
     "metadata": {},
     "output_type": "execute_result"
    }
   ],
   "source": [
    "a = np.identity(4)\n",
    "a"
   ]
  },
  {
   "cell_type": "code",
   "execution_count": 49,
   "id": "c6950483",
   "metadata": {},
   "outputs": [
    {
     "data": {
      "text/plain": [
       "array([[1., 0., 0., 0.],\n",
       "       [0., 1., 0., 0.],\n",
       "       [0., 0., 1., 0.]])"
      ]
     },
     "execution_count": 49,
     "metadata": {},
     "output_type": "execute_result"
    }
   ],
   "source": [
    "b = np.eye(3,4)\n",
    "b"
   ]
  },
  {
   "cell_type": "code",
   "execution_count": 50,
   "id": "73c545a8",
   "metadata": {},
   "outputs": [
    {
     "name": "stdout",
     "output_type": "stream",
     "text": [
      "No shift：\n",
      " [[1. 0. 0.]\n",
      " [0. 1. 0.]\n",
      " [0. 0. 1.]]\n",
      "One shift to the right：\n",
      " [[0. 1. 0.]\n",
      " [0. 0. 1.]\n",
      " [0. 0. 0.]]\n"
     ]
    }
   ],
   "source": [
    "a = np.eye(3)\n",
    "b = np.eye(3, k = 1)\n",
    "print('No shift：\\n', a)\n",
    "print('One shift to the right：\\n', b)"
   ]
  },
  {
   "cell_type": "code",
   "execution_count": 51,
   "id": "25447dd9",
   "metadata": {},
   "outputs": [
    {
     "data": {
      "text/plain": [
       "array([[0., 0., 0., 0., 0., 0.],\n",
       "       [0., 0., 0., 0., 0., 0.],\n",
       "       [1., 0., 0., 0., 0., 0.],\n",
       "       [0., 1., 0., 0., 0., 0.],\n",
       "       [0., 0., 1., 0., 0., 0.]])"
      ]
     },
     "execution_count": 51,
     "metadata": {},
     "output_type": "execute_result"
    }
   ],
   "source": [
    "c = np.eye(5,6, k = -2)\n",
    "c"
   ]
  },
  {
   "cell_type": "markdown",
   "id": "dda1df38",
   "metadata": {},
   "source": [
    "### Generate or extract a diagonal array\n",
    "**Syntax:** diag(v, k=0)\n",
    "\n",
    "If the input v is a one-dimensional array, the diag function returns a matrix with the input array as its diagonal elements.\n",
    "\n",
    "If the input v is a two-dimensional matrix, the diag function returns a one-dimensional array containing the diagonal elements of the input matrix.\n"
   ]
  },
  {
   "cell_type": "code",
   "execution_count": 52,
   "id": "9f90bf98",
   "metadata": {},
   "outputs": [
    {
     "name": "stdout",
     "output_type": "stream",
     "text": [
      "a: \n",
      " [1 2 3]\n",
      "np.diag(a): \n",
      " [[1 0 0]\n",
      " [0 2 0]\n",
      " [0 0 3]]\n",
      "b: \n",
      " [[1 2 3]\n",
      " [4 5 6]\n",
      " [7 8 9]]\n",
      "np.diag(b): \n",
      " [1 5 9]\n"
     ]
    }
   ],
   "source": [
    "a = np.arange(1, 4)\n",
    "b = np.arange(1, 10).reshape(3, 3)\n",
    "print('a: \\n', a)\n",
    "print('np.diag(a): \\n', np.diag(a))\n",
    "print('b: \\n', b)\n",
    "print('np.diag(b): \\n', np.diag(b))"
   ]
  },
  {
   "cell_type": "markdown",
   "id": "c9533ba2",
   "metadata": {},
   "source": [
    "## Create an array based on a numerical range\n",
    "### Generate a sequence of numbers within a specified range.\n",
    "**Syntax：**np.arange(start, stop, step, dtype = None)"
   ]
  },
  {
   "cell_type": "code",
   "execution_count": 53,
   "id": "bc5eabce",
   "metadata": {},
   "outputs": [
    {
     "data": {
      "text/plain": [
       "array([10, 12, 14, 16, 18, 20])"
      ]
     },
     "execution_count": 53,
     "metadata": {},
     "output_type": "execute_result"
    }
   ],
   "source": [
    "# Defining an arithmetic sequence with a starting value of 10, ending value of 20, and a step size of 2.\n",
    "a = np. arange(10,21,2) # Left closed right open\n",
    "a"
   ]
  },
  {
   "cell_type": "markdown",
   "id": "b1ffda5f",
   "metadata": {},
   "source": [
    "### Generate a arithmetic sequence.\n",
    "**Syntax：** np.linspace(start, stop, num = 50, endpoint = True, retstep = False, dtype = None)"
   ]
  },
  {
   "cell_type": "code",
   "execution_count": 54,
   "id": "9cea0d7f",
   "metadata": {},
   "outputs": [
    {
     "data": {
      "text/plain": [
       "array([  0.,  10.,  20.,  30.,  40.,  50.,  60.,  70.,  80.,  90., 100.])"
      ]
     },
     "execution_count": 54,
     "metadata": {},
     "output_type": "execute_result"
    }
   ],
   "source": [
    "a= np.linspace(0, 100, 11)\n",
    "a"
   ]
  },
  {
   "cell_type": "markdown",
   "id": "9b6fa44a",
   "metadata": {},
   "source": [
    "### Generate a geometric sequence.\n",
    "**Syntax：** np.logspace(start, stop, num = 50, endpoint = True, base = 10.0, dtype = None)"
   ]
  },
  {
   "cell_type": "code",
   "execution_count": 55,
   "id": "7cfb9af6",
   "metadata": {},
   "outputs": [
    {
     "data": {
      "text/plain": [
       "array([  1.,  10., 100.])"
      ]
     },
     "execution_count": 55,
     "metadata": {},
     "output_type": "execute_result"
    }
   ],
   "source": [
    "# Defining a geometric sequence based 10 (10^0, 10^1, 10^2)\n",
    "a = np. logspace(0, 2, 3)\n",
    "a"
   ]
  },
  {
   "cell_type": "code",
   "execution_count": 56,
   "id": "23d5ec90",
   "metadata": {},
   "outputs": [
    {
     "data": {
      "text/plain": [
       "array([  1.,   2.,   4.,   8.,  16.,  32.,  64., 128., 256., 512.])"
      ]
     },
     "execution_count": 56,
     "metadata": {},
     "output_type": "execute_result"
    }
   ],
   "source": [
    "# efining a geometric sequence based 2\n",
    "a = np.logspace(0, 9, 10, base = 2)\n",
    "a "
   ]
  },
  {
   "cell_type": "code",
   "execution_count": null,
   "id": "eed0a2b1",
   "metadata": {},
   "outputs": [],
   "source": []
  }
 ],
 "metadata": {
  "kernelspec": {
   "display_name": "Python 3 (ipykernel)",
   "language": "python",
   "name": "python3"
  },
  "language_info": {
   "codemirror_mode": {
    "name": "ipython",
    "version": 3
   },
   "file_extension": ".py",
   "mimetype": "text/x-python",
   "name": "python",
   "nbconvert_exporter": "python",
   "pygments_lexer": "ipython3",
   "version": "3.10.7"
  },
  "toc": {
   "base_numbering": 1,
   "nav_menu": {},
   "number_sections": true,
   "sideBar": true,
   "skip_h1_title": false,
   "title_cell": "Table of Contents",
   "title_sidebar": "Contents",
   "toc_cell": false,
   "toc_position": {
    "height": "calc(100% - 180px)",
    "left": "10px",
    "top": "150px",
    "width": "290.042px"
   },
   "toc_section_display": true,
   "toc_window_display": true
  }
 },
 "nbformat": 4,
 "nbformat_minor": 5
}
