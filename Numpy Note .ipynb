{
 "cells": [
  {
   "cell_type": "markdown",
   "id": "ace41dd7",
   "metadata": {},
   "source": [
    "\n",
    "# Numpy Basics"
   ]
  },
  {
   "cell_type": "markdown",
   "id": "383bb8a1",
   "metadata": {},
   "source": [
    "## Import Numpy package"
   ]
  },
  {
   "cell_type": "code",
   "execution_count": 1,
   "id": "36026362",
   "metadata": {},
   "outputs": [],
   "source": [
    "import numpy as np"
   ]
  },
  {
   "cell_type": "markdown",
   "id": "708f9b9f",
   "metadata": {},
   "source": [
    "## Define a numpy ndarray"
   ]
  },
  {
   "cell_type": "code",
   "execution_count": 2,
   "id": "7dd1045e",
   "metadata": {},
   "outputs": [],
   "source": [
    "arr  = np.arange(1,6)"
   ]
  },
  {
   "cell_type": "markdown",
   "id": "7c900063",
   "metadata": {},
   "source": [
    "## Numpy Array Output"
   ]
  },
  {
   "cell_type": "code",
   "execution_count": 3,
   "id": "f1361b38",
   "metadata": {},
   "outputs": [
    {
     "data": {
      "text/plain": [
       "array([1, 2, 3, 4, 5])"
      ]
     },
     "execution_count": 3,
     "metadata": {},
     "output_type": "execute_result"
    }
   ],
   "source": [
    "arr"
   ]
  },
  {
   "cell_type": "code",
   "execution_count": 4,
   "id": "0774bf0f",
   "metadata": {},
   "outputs": [
    {
     "name": "stdout",
     "output_type": "stream",
     "text": [
      "[1 2 3 4 5]\n"
     ]
    }
   ],
   "source": [
    "print(arr)"
   ]
  },
  {
   "cell_type": "markdown",
   "id": "acef0876",
   "metadata": {},
   "source": [
    "## Ndarray Operation \n",
    "for exmaple， list [1,2,3,4,5] for each element to add 1 \n",
    "- Use python list to add one for each element "
   ]
  },
  {
   "cell_type": "code",
   "execution_count": 5,
   "id": "37b36031",
   "metadata": {},
   "outputs": [
    {
     "name": "stdout",
     "output_type": "stream",
     "text": [
      "[2, 3, 4, 5, 6]\n"
     ]
    }
   ],
   "source": [
    "# Method 1: Loop\n",
    "lst = [1,2,3,4,5]\n",
    "for i in range(len(lst)):\n",
    "    lst[i] = lst[i] + 1\n",
    "print(lst)"
   ]
  },
  {
   "cell_type": "code",
   "execution_count": 6,
   "id": "4d656b23",
   "metadata": {},
   "outputs": [
    {
     "name": "stdout",
     "output_type": "stream",
     "text": [
      "[2, 3, 4, 5, 6]\n"
     ]
    }
   ],
   "source": [
    "# Python Expression\n",
    "lst1 = [1,2,3,4,5]\n",
    "lst1 = [i + 1 for i in lst1 ]\n",
    "print(lst1)"
   ]
  },
  {
   "cell_type": "markdown",
   "id": "9db95841",
   "metadata": {},
   "source": [
    "- Use numpy ndarray"
   ]
  },
  {
   "cell_type": "code",
   "execution_count": 7,
   "id": "47688ce8",
   "metadata": {},
   "outputs": [
    {
     "data": {
      "text/plain": [
       "array([1, 2, 3, 4, 5])"
      ]
     },
     "execution_count": 7,
     "metadata": {},
     "output_type": "execute_result"
    }
   ],
   "source": [
    "arr = np.arange(1,6)\n",
    "arr + 1\n",
    "arr"
   ]
  },
  {
   "cell_type": "markdown",
   "id": "3ff7c8e9",
   "metadata": {},
   "source": [
    "The reason we use Numpy for calculation is that Numpy is written by C programming language, the array operation will be more time efficient and optimized. \n",
    "For example, we calculate the sum of intergers up to 10000\n",
    "- Use Python and magic function \"%timeit\" to see the average time of 7 runs of calculating the sum of intergers up to 10000"
   ]
  },
  {
   "cell_type": "code",
   "execution_count": 8,
   "id": "bde27705",
   "metadata": {},
   "outputs": [
    {
     "name": "stdout",
     "output_type": "stream",
     "text": [
      "56.6 µs ± 368 ns per loop (mean ± std. dev. of 7 runs, 10,000 loops each)\n"
     ]
    }
   ],
   "source": [
    "a = list(range(10000))\n",
    "%timeit sum(a)"
   ]
  },
  {
   "cell_type": "markdown",
   "id": "877b6409",
   "metadata": {},
   "source": [
    "-Use Numpy to Calculate the sum of intergers up to 10000"
   ]
  },
  {
   "cell_type": "code",
   "execution_count": 9,
   "id": "5aaab206",
   "metadata": {},
   "outputs": [
    {
     "name": "stdout",
     "output_type": "stream",
     "text": [
      "5.15 µs ± 52.5 ns per loop (mean ± std. dev. of 7 runs, 100,000 loops each)\n"
     ]
    }
   ],
   "source": [
    "b = np.array(a)\n",
    "%timeit np.sum(b)"
   ]
  },
  {
   "cell_type": "markdown",
   "id": "e2d8cfdc",
   "metadata": {},
   "source": [
    "# Ndarry object\n",
    "ndarray = n dimensional array. \n",
    "\n",
    "The ndarray object is a multi-dimensional array used to store elements of the same type. Each element in the ndarray has a memory area with the same storage size.\n",
    "\n",
    "One dimensional array：[1,2,3,4,5]        (Vector)\n",
    "\n",
    "Two dimensional array：[[1,2,3],\n",
    "                        [4,5,6]]          （Matrix）\n",
    "\n",
    "Three dimensioanl array：[ [[1,2,3],\n",
    "                            [4,5,6]],\n",
    "                           [[7,8,9],\n",
    "                            [10,11,12]]\n",
    "                                ]       (Tensor)"
   ]
  },
  {
   "cell_type": "markdown",
   "id": "8effaa62",
   "metadata": {},
   "source": [
    "## Generate ndarray\n",
    "### Generate a one-dimensional array"
   ]
  },
  {
   "cell_type": "code",
   "execution_count": 10,
   "id": "71c1e415",
   "metadata": {},
   "outputs": [
    {
     "data": {
      "text/plain": [
       "array([1, 2, 3, 4, 5])"
      ]
     },
     "execution_count": 10,
     "metadata": {},
     "output_type": "execute_result"
    }
   ],
   "source": [
    "import numpy as np\n",
    "a1 = [1,2,3,4,5]\n",
    "arr1 = np.array(a1)\n",
    "arr1"
   ]
  },
  {
   "cell_type": "markdown",
   "id": "fc493adc",
   "metadata": {},
   "source": [
    "### Generate a two-dimensional array (A matrix)"
   ]
  },
  {
   "cell_type": "code",
   "execution_count": 11,
   "id": "bf1478c3",
   "metadata": {},
   "outputs": [
    {
     "data": {
      "text/plain": [
       "array([[1, 2, 3],\n",
       "       [4, 5, 6]])"
      ]
     },
     "execution_count": 11,
     "metadata": {},
     "output_type": "execute_result"
    }
   ],
   "source": [
    "a2 = [ [1,2,3],\n",
    "    [4,5,6]\n",
    "     ]\n",
    "arr2 = np.array(a2)\n",
    "arr2"
   ]
  },
  {
   "cell_type": "markdown",
   "id": "985c76e5",
   "metadata": {},
   "source": [
    "### Generate a three-dimensional array (A tensor)"
   ]
  },
  {
   "cell_type": "code",
   "execution_count": 12,
   "id": "ff5ef682",
   "metadata": {},
   "outputs": [
    {
     "data": {
      "text/plain": [
       "array([[[ 1,  2,  3],\n",
       "        [ 4,  5,  6]],\n",
       "\n",
       "       [[ 7,  8,  9],\n",
       "        [10, 11, 12]]])"
      ]
     },
     "execution_count": 12,
     "metadata": {},
     "output_type": "execute_result"
    }
   ],
   "source": [
    "a3 = [\n",
    "    [[1,2,3],\n",
    "    [4,5,6]],\n",
    "      [[7,8,9],\n",
    "       [10,11,12]]    \n",
    "]\n",
    "arr3 = np.array(a3)\n",
    "arr3"
   ]
  },
  {
   "cell_type": "markdown",
   "id": "766d4b9e",
   "metadata": {},
   "source": [
    "## Property of ndarray\n",
    "\n",
    "| Property Name    | Explanation                        |\n",
    "| :--------------- | :----------------------------------------- |\n",
    "| ndarray.shape    | the shape of a ndarray                     |\n",
    "| ndarray.ndim     | the dimension of a ndarray                 |\n",
    "| ndarray.size     | the number of elements in a ndarray        |\n",
    "| ndarray.itemsize | ndarray the size of each element, the unit is Byte |\n",
    "| ndarray.dtype    | the type of each element                   |\n"
   ]
  },
  {
   "cell_type": "markdown",
   "id": "f388cc50",
   "metadata": {},
   "source": [
    "### Look at the shape of a ndarray"
   ]
  },
  {
   "cell_type": "code",
   "execution_count": 13,
   "id": "7f52beb5",
   "metadata": {},
   "outputs": [
    {
     "data": {
      "text/plain": [
       "(2, 3)"
      ]
     },
     "execution_count": 13,
     "metadata": {},
     "output_type": "execute_result"
    }
   ],
   "source": [
    "arr2.shape"
   ]
  },
  {
   "cell_type": "code",
   "execution_count": 14,
   "id": "8633566f",
   "metadata": {},
   "outputs": [
    {
     "data": {
      "text/plain": [
       "(2, 2, 3)"
      ]
     },
     "execution_count": 14,
     "metadata": {},
     "output_type": "execute_result"
    }
   ],
   "source": [
    "arr3.shape"
   ]
  },
  {
   "cell_type": "markdown",
   "id": "a860ca30",
   "metadata": {},
   "source": [
    "### Look at the dimension of a ndarray"
   ]
  },
  {
   "cell_type": "code",
   "execution_count": 15,
   "id": "8bc76301",
   "metadata": {},
   "outputs": [
    {
     "data": {
      "text/plain": [
       "2"
      ]
     },
     "execution_count": 15,
     "metadata": {},
     "output_type": "execute_result"
    }
   ],
   "source": [
    "arr2.ndim"
   ]
  },
  {
   "cell_type": "code",
   "execution_count": 16,
   "id": "f864c61d",
   "metadata": {},
   "outputs": [
    {
     "data": {
      "text/plain": [
       "3"
      ]
     },
     "execution_count": 16,
     "metadata": {},
     "output_type": "execute_result"
    }
   ],
   "source": [
    "arr3.ndim"
   ]
  },
  {
   "cell_type": "markdown",
   "id": "a46ffe69",
   "metadata": {},
   "source": [
    "### Look at the number of elements in a ndarray"
   ]
  },
  {
   "cell_type": "code",
   "execution_count": 17,
   "id": "689666ee",
   "metadata": {},
   "outputs": [
    {
     "data": {
      "text/plain": [
       "6"
      ]
     },
     "execution_count": 17,
     "metadata": {},
     "output_type": "execute_result"
    }
   ],
   "source": [
    "arr2.size"
   ]
  },
  {
   "cell_type": "code",
   "execution_count": 18,
   "id": "44cb13b9",
   "metadata": {},
   "outputs": [
    {
     "data": {
      "text/plain": [
       "12"
      ]
     },
     "execution_count": 18,
     "metadata": {},
     "output_type": "execute_result"
    }
   ],
   "source": [
    "arr3.size"
   ]
  },
  {
   "cell_type": "markdown",
   "id": "069a06d4",
   "metadata": {},
   "source": [
    "### Look at the size of each element"
   ]
  },
  {
   "cell_type": "code",
   "execution_count": 19,
   "id": "8373057a",
   "metadata": {},
   "outputs": [
    {
     "data": {
      "text/plain": [
       "4"
      ]
     },
     "execution_count": 19,
     "metadata": {},
     "output_type": "execute_result"
    }
   ],
   "source": [
    "arr2.itemsize"
   ]
  },
  {
   "cell_type": "code",
   "execution_count": 20,
   "id": "382a3b9d",
   "metadata": {},
   "outputs": [
    {
     "data": {
      "text/plain": [
       "4"
      ]
     },
     "execution_count": 20,
     "metadata": {},
     "output_type": "execute_result"
    }
   ],
   "source": [
    "arr3.itemsize"
   ]
  },
  {
   "cell_type": "markdown",
   "id": "9f48b40c",
   "metadata": {},
   "source": [
    "### Look at the type of each element"
   ]
  },
  {
   "cell_type": "code",
   "execution_count": 21,
   "id": "e286205b",
   "metadata": {},
   "outputs": [
    {
     "data": {
      "text/plain": [
       "dtype('int32')"
      ]
     },
     "execution_count": 21,
     "metadata": {},
     "output_type": "execute_result"
    }
   ],
   "source": [
    "arr2.dtype"
   ]
  },
  {
   "cell_type": "markdown",
   "id": "c99335bf",
   "metadata": {},
   "source": [
    "## Ndarry element type\n",
    "\n",
    "| Type Name          | Description                                 | Abbreviation     |\n",
    "| ------------------ | ------------------------------------------- | ---------------- | \n",
    "| np.bool            | Bool Type  (1 Byte)                         | “b”              | \n",
    "| np.int8\\16\\32\\64   | Signed 8\\16\\32\\64-bit Integers              | “i1、i2、i4、i8” |\n",
    "| np.uint 8\\16\\32\\64 | Unsigned 8\\16\\32\\64-bit Intergers           | “u1、u2、u4、u8” |\n",
    "| np.float16         | Half-precision floating 16-bit             | ‘f2’             |\n",
    "| np.float32         | Single-precision floating 32-bit           | ‘f4’             |\n",
    "| np.float64         | Double-precision floating 64-bit               | ‘f8’             |\n",
    "| np.complex64\\128   | Complex number，32/64-bit floating for real/imaginary part | ‘C8、C16’        |\n",
    "| np.string_         | String                                     | ‘S’              |\n",
    "| np.unicode         | Unicode type                                | ‘U’              |"
   ]
  },
  {
   "cell_type": "markdown",
   "id": "0b6e7b37",
   "metadata": {},
   "source": [
    "## Data Type"
   ]
  },
  {
   "cell_type": "markdown",
   "id": "143875d7",
   "metadata": {},
   "source": [
    "### Compare types and size"
   ]
  },
  {
   "cell_type": "code",
   "execution_count": 22,
   "id": "f6bfb19a",
   "metadata": {},
   "outputs": [
    {
     "data": {
      "text/plain": [
       "array([1, 2, 3, 4, 5], dtype=int8)"
      ]
     },
     "execution_count": 22,
     "metadata": {},
     "output_type": "execute_result"
    }
   ],
   "source": [
    "# Set the ndarray data type as int8 (1 byte)\n",
    "a4 = np.array([1, 2, 3, 4, 5], dtype = np.int8)\n",
    "a4"
   ]
  },
  {
   "cell_type": "code",
   "execution_count": 23,
   "id": "626341ee",
   "metadata": {},
   "outputs": [
    {
     "data": {
      "text/plain": [
       "1"
      ]
     },
     "execution_count": 23,
     "metadata": {},
     "output_type": "execute_result"
    }
   ],
   "source": [
    "# Look at the size the element: 1 byte\n",
    "a4.itemsize"
   ]
  },
  {
   "cell_type": "code",
   "execution_count": 24,
   "id": "650490a8",
   "metadata": {},
   "outputs": [
    {
     "data": {
      "text/plain": [
       "array([1., 2., 3., 4., 5.])"
      ]
     },
     "execution_count": 24,
     "metadata": {},
     "output_type": "execute_result"
    }
   ],
   "source": [
    "# Set the ndarry data type as float64 (8 bytes)\n",
    "a5 = np.array([1,2,3,4,5], dtype = np.float64)\n",
    "a5"
   ]
  },
  {
   "cell_type": "code",
   "execution_count": 25,
   "id": "ed72afa1",
   "metadata": {},
   "outputs": [
    {
     "data": {
      "text/plain": [
       "8"
      ]
     },
     "execution_count": 25,
     "metadata": {},
     "output_type": "execute_result"
    }
   ],
   "source": [
    "a5.itemsize"
   ]
  },
  {
   "cell_type": "code",
   "execution_count": 26,
   "id": "09ab5f53",
   "metadata": {},
   "outputs": [
    {
     "name": "stdout",
     "output_type": "stream",
     "text": [
      "<U1 4\n"
     ]
    }
   ],
   "source": [
    "lst = list(\"abcd\")\n",
    "a6 = np.array(lst)  # Unicode configration should be U type\n",
    "print(a6.dtype, a6.itemsize)"
   ]
  },
  {
   "cell_type": "code",
   "execution_count": 27,
   "id": "fa386377",
   "metadata": {},
   "outputs": [
    {
     "name": "stdout",
     "output_type": "stream",
     "text": [
      "|S1 1\n"
     ]
    }
   ],
   "source": [
    "lst2 = list(\"abcd\")           # np.string configration should be S type, 1 string in the list 1 byte\n",
    "a7 = np.array(lst, dtype = np.string_)\n",
    "print(a7.dtype, a7.itemsize)"
   ]
  },
  {
   "cell_type": "code",
   "execution_count": 28,
   "id": "cda41e2c",
   "metadata": {},
   "outputs": [
    {
     "name": "stdout",
     "output_type": "stream",
     "text": [
      "|S11 11\n"
     ]
    }
   ],
   "source": [
    "a8 = np.array([\"SLM\", \"JPM\", \"BOA\",\"CITI\", \"CAPITAL ONE\"], dtype = np.string_) # string 11 byte because of len(Capital one) = 11 \n",
    "print(a8.dtype, a8.itemsize)"
   ]
  },
  {
   "cell_type": "markdown",
   "id": "f1db5526",
   "metadata": {},
   "source": [
    "### Revise the type"
   ]
  },
  {
   "cell_type": "code",
   "execution_count": 29,
   "id": "c3009ba9",
   "metadata": {},
   "outputs": [
    {
     "data": {
      "text/plain": [
       "(dtype('float64'), 8)"
      ]
     },
     "execution_count": 29,
     "metadata": {},
     "output_type": "execute_result"
    }
   ],
   "source": [
    "a9 = np.array([1.5, 2, 3], dtype = np.float64)\n",
    "a9.dtype, a9.itemsize"
   ]
  },
  {
   "cell_type": "markdown",
   "id": "4694f684",
   "metadata": {},
   "source": [
    "Now revise it to int32, using numpy function \"astype\""
   ]
  },
  {
   "cell_type": "code",
   "execution_count": 30,
   "id": "6c7bed31",
   "metadata": {},
   "outputs": [
    {
     "data": {
      "text/plain": [
       "(array([1, 2, 3]), dtype('int32'), 4)"
      ]
     },
     "execution_count": 30,
     "metadata": {},
     "output_type": "execute_result"
    }
   ],
   "source": [
    "a10 = a9.astype(np.int32)\n",
    "a10, a10.dtype, a10.itemsize"
   ]
  },
  {
   "cell_type": "markdown",
   "id": "55ae30ba",
   "metadata": {},
   "source": [
    "- astype(type)  \n",
    "type: provide specific data types that you would like me to modify.\n",
    "> int32 --> float64:   Space is sufficient, no problem\n",
    ">\n",
    "> float64 --> int32: The space is not sufficient, the decimal part will be truncated.\n",
    ">\n",
    "> string_ --> float64:  If the string array represents only numbers, it is also possible to use astype to convert it to a numerical data type."
   ]
  },
  {
   "cell_type": "markdown",
   "id": "c4eaf44d",
   "metadata": {},
   "source": [
    "### tolist() Covert the ndarray to Python list"
   ]
  },
  {
   "cell_type": "code",
   "execution_count": 31,
   "id": "d101fd24",
   "metadata": {},
   "outputs": [
    {
     "data": {
      "text/plain": [
       "([[1, 2, 3], [4, 5, 6]], list)"
      ]
     },
     "execution_count": 31,
     "metadata": {},
     "output_type": "execute_result"
    }
   ],
   "source": [
    "a11 = np.array([[1,2,3], [4,5,6]])\n",
    "lst4 = a11.tolist()\n",
    "lst4, type(lst4)  # See the type of a Python list"
   ]
  },
  {
   "cell_type": "markdown",
   "id": "131adb3f",
   "metadata": {},
   "source": [
    "### The data type is propagated downstream."
   ]
  },
  {
   "cell_type": "markdown",
   "id": "b9e0f3a2",
   "metadata": {},
   "source": [
    "For ndarray, all elements inside must be of the same data type. If not, it will automaticly downward propagation, in the order int $\\rightarrow$ float $\\rightarrow$ str "
   ]
  },
  {
   "cell_type": "code",
   "execution_count": 32,
   "id": "c7757bd0",
   "metadata": {},
   "outputs": [
    {
     "data": {
      "text/plain": [
       "dtype('int32')"
      ]
     },
     "execution_count": 32,
     "metadata": {},
     "output_type": "execute_result"
    }
   ],
   "source": [
    "a12 = np.array([1,2,3,4,5])\n",
    "a12.dtype   # all intergers, data type should be intergers for all"
   ]
  },
  {
   "cell_type": "code",
   "execution_count": 33,
   "id": "94acccc8",
   "metadata": {},
   "outputs": [
    {
     "data": {
      "text/plain": [
       "dtype('float64')"
      ]
     },
     "execution_count": 33,
     "metadata": {},
     "output_type": "execute_result"
    }
   ],
   "source": [
    "a13 = np.array([1, 2.5, 3, 4, 5])\n",
    "a13.dtype  # One element changed to 2.5 the float, all data type should be changed to float "
   ]
  },
  {
   "cell_type": "code",
   "execution_count": 34,
   "id": "086f4a1a",
   "metadata": {},
   "outputs": [
    {
     "data": {
      "text/plain": [
       "dtype('<U32')"
      ]
     },
     "execution_count": 34,
     "metadata": {},
     "output_type": "execute_result"
    }
   ],
   "source": [
    "a14 = np.array([1, 2.5, 3, 4, 5, 'SLM'])\n",
    "a14.dtype    # add one more element string, all data type converted into unicode."
   ]
  },
  {
   "cell_type": "markdown",
   "id": "e53d9298",
   "metadata": {},
   "source": [
    "a14*2  # UFuncTypeError, but if we converted a14 into np.object_, it can be multiplied and the data type is python object."
   ]
  },
  {
   "cell_type": "code",
   "execution_count": 35,
   "id": "f9c0c015",
   "metadata": {},
   "outputs": [
    {
     "data": {
      "text/plain": [
       "(array([1, 2.5, 3, 4, 5, 'SLM'], dtype=object), dtype('O'))"
      ]
     },
     "execution_count": 35,
     "metadata": {},
     "output_type": "execute_result"
    }
   ],
   "source": [
    "a15 = np.array([1, 2.5, 3, 4, 5, 'SLM'], dtype = np.object_)\n",
    "a15*2\n",
    "a15, a15.dtype"
   ]
  },
  {
   "cell_type": "markdown",
   "id": "1bbc0508",
   "metadata": {},
   "source": [
    "# Create Numpy Ndarray\n",
    "## Create numpy ndarray based on existing data\n",
    "### array\n",
    "$\\textbf{Syntax:}$ array(object, dtype=None, copy=True, order='K', subok=False, ndmin=0)"
   ]
  },
  {
   "cell_type": "code",
   "execution_count": 36,
   "id": "5a717928",
   "metadata": {},
   "outputs": [],
   "source": [
    "a16 = [1,2,3,4,5]\n",
    "a17 = [[1,2,3]\n",
    "      ,[4,5,6]]"
   ]
  },
  {
   "cell_type": "code",
   "execution_count": 37,
   "id": "6702222a",
   "metadata": {},
   "outputs": [
    {
     "name": "stdout",
     "output_type": "stream",
     "text": [
      "arr4: [1 2 3 4 5]\n",
      "arr5: [[1 2 3]\n",
      " [4 5 6]]\n"
     ]
    }
   ],
   "source": [
    "arr4 = np.array(a16)\n",
    "arr5 = np.array(a17)\n",
    "print(\"arr4:\", arr4)\n",
    "print(\"arr5:\", arr5)"
   ]
  },
  {
   "cell_type": "markdown",
   "id": "8e8b1669",
   "metadata": {},
   "source": [
    "Through list, tuple and the mix of list tuple to create a ndarray "
   ]
  },
  {
   "cell_type": "code",
   "execution_count": 38,
   "id": "13d89fab",
   "metadata": {},
   "outputs": [
    {
     "name": "stdout",
     "output_type": "stream",
     "text": [
      "[[1 2 3]\n",
      " [4 5 6]] <class 'numpy.ndarray'>\n"
     ]
    }
   ],
   "source": [
    "x =  [1,2,3,4]   # List\n",
    "x =  (1,2,3,4)   # Tuple\n",
    "x =  [(1,2,3),(4,5,6)] # Mix of list and tuple\n",
    "a = np. array(x)\n",
    "print (a,type(a))"
   ]
  },
  {
   "cell_type": "markdown",
   "id": "0cd95bff",
   "metadata": {},
   "source": [
    "### asarray\n",
    "$\\textbf{Syntax:}$ asarray(a, dtype=None, order=None)"
   ]
  },
  {
   "cell_type": "code",
   "execution_count": 39,
   "id": "0b648865",
   "metadata": {},
   "outputs": [
    {
     "data": {
      "text/plain": [
       "array([[1, 2, 3],\n",
       "       [4, 5, 6]])"
      ]
     },
     "execution_count": 39,
     "metadata": {},
     "output_type": "execute_result"
    }
   ],
   "source": [
    "a = np. array([[1,2,3],[4,5,6]])\n",
    "a1 = np. array(a)    # To generate a new array from an existing array   \n",
    "a2 = np. asarray(a)  # It does not actually create a new array, but rather acts as an index to the original a.\"\n",
    "a2"
   ]
  },
  {
   "cell_type": "markdown",
   "id": "a9b0d097",
   "metadata": {},
   "source": [
    "- Difference between array and asarray\n",
    "Both array and asarray can convert structured data into an ndarray, but the main difference is that when the data source is already an ndarray, array will still make a copy and occupy new memory, whereas asarray will not."
   ]
  },
  {
   "cell_type": "code",
   "execution_count": 40,
   "id": "d571594c",
   "metadata": {},
   "outputs": [
    {
     "name": "stdout",
     "output_type": "stream",
     "text": [
      "a1 is a? False\n",
      "a2 is a? True\n"
     ]
    }
   ],
   "source": [
    "print('a1 is a?', a1 is a)\n",
    "print('a2 is a?', a2 is a)"
   ]
  },
  {
   "cell_type": "markdown",
   "id": "c13a97bb",
   "metadata": {},
   "source": [
    "## Create arrays based on their shape or values.\n",
    "| Function Name    | Description                                              |\n",
    "| ------------- | ---------------------------------------------------- |\n",
    "| np.ones          | To generate an array filled with ones                   |\n",
    "| np.ones_like     | To generate an array filled with ones that has the same shape as a given array |\n",
    "| np.zeros         | To generate an array filled with zeros                     |\n",
    "| np.zeros_like    | To generate an array filled with zeros that has the same shape as a given array              |\n",
    "| np.empty         | To generate an empty array of a given shape without initializing its values           |\n",
    "| np.empty_like    | To generate an empty array of the same shape as a given array without initializing its values |\n",
    "| np.full          | To generate an array of a specified shape, data type, and with a specific value           |\n",
    "| np.full_like     | To generate an array of the same shape as a given array, but filled with a specific value |\n",
    "| np.eye, np.identity | To generate an N x N identity matrix (i.e., a feature matrix with ones on the diagonal and zeros elsewhere)  |"
   ]
  },
  {
   "cell_type": "markdown",
   "id": "00962c9a",
   "metadata": {},
   "source": [
    "### Generate an array filled with ones\n",
    "**Syntax：**\n",
    "- ones(shape, dtype=None, order='C')\n",
    "- ones_like(a, dtype=None, order='K', subok=True, shape=None)"
   ]
  },
  {
   "cell_type": "code",
   "execution_count": 41,
   "id": "d4b837f4",
   "metadata": {},
   "outputs": [
    {
     "data": {
      "text/plain": [
       "array([[1, 1, 1, 1],\n",
       "       [1, 1, 1, 1],\n",
       "       [1, 1, 1, 1]])"
      ]
     },
     "execution_count": 41,
     "metadata": {},
     "output_type": "execute_result"
    }
   ],
   "source": [
    "a = np.ones((3, 4),dtype = int)\n",
    "a"
   ]
  },
  {
   "cell_type": "code",
   "execution_count": 42,
   "id": "7eb93874",
   "metadata": {},
   "outputs": [
    {
     "data": {
      "text/plain": [
       "array([[1, 1, 1],\n",
       "       [1, 1, 1]])"
      ]
     },
     "execution_count": 42,
     "metadata": {},
     "output_type": "execute_result"
    }
   ],
   "source": [
    "x = [[1, 2, 3], [4, 5, 6]]\n",
    "b = np.ones_like(x)\n",
    "b"
   ]
  },
  {
   "cell_type": "markdown",
   "id": "c264d924",
   "metadata": {},
   "source": [
    "### Generate an array filled with zeros\n",
    "**Syntax：**\n",
    "- zeros(shape, dtype=float, order=‘C’)\n",
    "- zeros_like(a, dtype=None, order='K', subok=True, shape=None)"
   ]
  },
  {
   "cell_type": "code",
   "execution_count": 43,
   "id": "185bc0c7",
   "metadata": {},
   "outputs": [
    {
     "data": {
      "text/plain": [
       "array([[0., 0., 0., 0.],\n",
       "       [0., 0., 0., 0.],\n",
       "       [0., 0., 0., 0.]])"
      ]
     },
     "execution_count": 43,
     "metadata": {},
     "output_type": "execute_result"
    }
   ],
   "source": [
    "a = np.zeros((3,4), dtype = np.float64)\n",
    "a"
   ]
  },
  {
   "cell_type": "code",
   "execution_count": 44,
   "id": "62386a02",
   "metadata": {},
   "outputs": [
    {
     "data": {
      "text/plain": [
       "array([[0, 0, 0],\n",
       "       [0, 0, 0]])"
      ]
     },
     "execution_count": 44,
     "metadata": {},
     "output_type": "execute_result"
    }
   ],
   "source": [
    "x =  [[1, 2, 3], [4, 5, 6]]\n",
    "b = np.zeros_like(x)\n",
    "b"
   ]
  },
  {
   "cell_type": "markdown",
   "id": "67fb9fb9",
   "metadata": {},
   "source": [
    "### Generate an array of a specified shape, data type, and with a specific value\n",
    "**Syntax：**\n",
    "- full(shape, fill_value, dtype=None, order='C')\n",
    "- full_like(a, fill_value, dtype=None, order='K', subok=True)"
   ]
  },
  {
   "cell_type": "code",
   "execution_count": 45,
   "id": "04ce7516",
   "metadata": {},
   "outputs": [
    {
     "data": {
      "text/plain": [
       "array([[7, 7, 7],\n",
       "       [7, 7, 7]])"
      ]
     },
     "execution_count": 45,
     "metadata": {},
     "output_type": "execute_result"
    }
   ],
   "source": [
    "a = np. full((3,4),7)\n",
    "a\n",
    "x = [[1,2,3],[4,5,6]] \n",
    "a = np. full_like(x,7)\n",
    "a"
   ]
  },
  {
   "cell_type": "markdown",
   "id": "921f1d00",
   "metadata": {},
   "source": [
    "### Generate an empty array of a given shape without initializing its values\n",
    "**Syntax：**\n",
    "- empty(shape, dtype=float, order=‘C’)\n",
    "- empty_like(prototype, dtype=None, order='K', subok=True, shape=None)"
   ]
  },
  {
   "cell_type": "code",
   "execution_count": 46,
   "id": "9b3ac0d0",
   "metadata": {},
   "outputs": [
    {
     "name": "stdout",
     "output_type": "stream",
     "text": [
      "[[0. 0. 0. 0.]\n",
      " [0. 0. 0. 0.]\n",
      " [0. 0. 0. 0.]] 8\n"
     ]
    }
   ],
   "source": [
    "a = np. empty((3,4))\n",
    "print(a, a.itemsize)"
   ]
  },
  {
   "cell_type": "code",
   "execution_count": 47,
   "id": "68d2e4ff",
   "metadata": {},
   "outputs": [
    {
     "data": {
      "text/plain": [
       "array([[-1686753424,         705,   923192876],\n",
       "       [-2147481151,           0,           1]])"
      ]
     },
     "execution_count": 47,
     "metadata": {},
     "output_type": "execute_result"
    }
   ],
   "source": [
    "x = [[1,2,3],[4,5,6]] \n",
    "b = np. empty_like(x)\n",
    "b #Note that the values in the array are not guaranteed to be 0 or any other specific value; \n",
    "  # they are whatever happened to be in the memory locations that were allocated for the array."
   ]
  },
  {
   "cell_type": "markdown",
   "id": "e88db6bc",
   "metadata": {},
   "source": [
    "### Generate an identity matrix \n",
    "**np.eye() and np.identity() difference**\n",
    "\n",
    "**np.identity syntax：** np.identity(n, dtype=None)\n",
    "\n",
    "**np.eye syntax：** np.eye(N, M=None, k=0, dtype=<type ‘float'>)\n",
    "\n",
    "- np.identity can only create square matrices.\n",
    "- np.eye can create rectangular matrices, and the k parameter can be adjusted to shift the position of the diagonal of 1's. A k value of 0 places the diagonal in the center of the matrix, a k value of 1 shifts the diagonal one position up, a k value of 2 shifts the diagonal two positions up, and so on. Similarly, a k value of -1 shifts the diagonal one position down. If the absolute value of k is too large, the diagonal will shift completely out of the matrix, resulting in a matrix full of zeros."
   ]
  },
  {
   "cell_type": "code",
   "execution_count": 48,
   "id": "e0636f6e",
   "metadata": {},
   "outputs": [
    {
     "data": {
      "text/plain": [
       "array([[1., 0., 0., 0.],\n",
       "       [0., 1., 0., 0.],\n",
       "       [0., 0., 1., 0.],\n",
       "       [0., 0., 0., 1.]])"
      ]
     },
     "execution_count": 48,
     "metadata": {},
     "output_type": "execute_result"
    }
   ],
   "source": [
    "a = np.identity(4)\n",
    "a"
   ]
  },
  {
   "cell_type": "code",
   "execution_count": 49,
   "id": "c6950483",
   "metadata": {},
   "outputs": [
    {
     "data": {
      "text/plain": [
       "array([[1., 0., 0., 0.],\n",
       "       [0., 1., 0., 0.],\n",
       "       [0., 0., 1., 0.]])"
      ]
     },
     "execution_count": 49,
     "metadata": {},
     "output_type": "execute_result"
    }
   ],
   "source": [
    "b = np.eye(3,4)\n",
    "b"
   ]
  },
  {
   "cell_type": "code",
   "execution_count": 50,
   "id": "73c545a8",
   "metadata": {},
   "outputs": [
    {
     "name": "stdout",
     "output_type": "stream",
     "text": [
      "No shift：\n",
      " [[1. 0. 0.]\n",
      " [0. 1. 0.]\n",
      " [0. 0. 1.]]\n",
      "One shift to the right：\n",
      " [[0. 1. 0.]\n",
      " [0. 0. 1.]\n",
      " [0. 0. 0.]]\n"
     ]
    }
   ],
   "source": [
    "a = np.eye(3)\n",
    "b = np.eye(3, k = 1)\n",
    "print('No shift：\\n', a)\n",
    "print('One shift to the right：\\n', b)"
   ]
  },
  {
   "cell_type": "code",
   "execution_count": 51,
   "id": "25447dd9",
   "metadata": {},
   "outputs": [
    {
     "data": {
      "text/plain": [
       "array([[0., 0., 0., 0., 0., 0.],\n",
       "       [0., 0., 0., 0., 0., 0.],\n",
       "       [1., 0., 0., 0., 0., 0.],\n",
       "       [0., 1., 0., 0., 0., 0.],\n",
       "       [0., 0., 1., 0., 0., 0.]])"
      ]
     },
     "execution_count": 51,
     "metadata": {},
     "output_type": "execute_result"
    }
   ],
   "source": [
    "c = np.eye(5,6, k = -2)\n",
    "c"
   ]
  },
  {
   "cell_type": "markdown",
   "id": "dda1df38",
   "metadata": {},
   "source": [
    "### Generate or extract a diagonal array\n",
    "**Syntax:** diag(v, k=0)\n",
    "\n",
    "If the input v is a one-dimensional array, the diag function returns a matrix with the input array as its diagonal elements.\n",
    "\n",
    "If the input v is a two-dimensional matrix, the diag function returns a one-dimensional array containing the diagonal elements of the input matrix.\n"
   ]
  },
  {
   "cell_type": "code",
   "execution_count": 52,
   "id": "9f90bf98",
   "metadata": {},
   "outputs": [
    {
     "name": "stdout",
     "output_type": "stream",
     "text": [
      "a: \n",
      " [1 2 3]\n",
      "np.diag(a): \n",
      " [[1 0 0]\n",
      " [0 2 0]\n",
      " [0 0 3]]\n",
      "b: \n",
      " [[1 2 3]\n",
      " [4 5 6]\n",
      " [7 8 9]]\n",
      "np.diag(b): \n",
      " [1 5 9]\n"
     ]
    }
   ],
   "source": [
    "a = np.arange(1, 4)\n",
    "b = np.arange(1, 10).reshape(3, 3)\n",
    "print('a: \\n', a)\n",
    "print('np.diag(a): \\n', np.diag(a))\n",
    "print('b: \\n', b)\n",
    "print('np.diag(b): \\n', np.diag(b))"
   ]
  },
  {
   "cell_type": "markdown",
   "id": "c9533ba2",
   "metadata": {},
   "source": [
    "## Create an array based on a numerical range\n",
    "### Generate a sequence of numbers within a specified range.\n",
    "**Syntax：**np.arange(start, stop, step, dtype = None)"
   ]
  },
  {
   "cell_type": "code",
   "execution_count": 53,
   "id": "bc5eabce",
   "metadata": {},
   "outputs": [
    {
     "data": {
      "text/plain": [
       "array([10, 12, 14, 16, 18, 20])"
      ]
     },
     "execution_count": 53,
     "metadata": {},
     "output_type": "execute_result"
    }
   ],
   "source": [
    "# Defining an arithmetic sequence with a starting value of 10, ending value of 20, and a step size of 2.\n",
    "a = np. arange(10,21,2) # Left closed right open\n",
    "a"
   ]
  },
  {
   "cell_type": "markdown",
   "id": "b1ffda5f",
   "metadata": {},
   "source": [
    "### Generate a arithmetic sequence.\n",
    "**Syntax：** np.linspace(start, stop, num = 50, endpoint = True, retstep = False, dtype = None)"
   ]
  },
  {
   "cell_type": "code",
   "execution_count": 54,
   "id": "9cea0d7f",
   "metadata": {},
   "outputs": [
    {
     "data": {
      "text/plain": [
       "array([  0.,  10.,  20.,  30.,  40.,  50.,  60.,  70.,  80.,  90., 100.])"
      ]
     },
     "execution_count": 54,
     "metadata": {},
     "output_type": "execute_result"
    }
   ],
   "source": [
    "a= np.linspace(0, 100, 11)\n",
    "a"
   ]
  },
  {
   "cell_type": "markdown",
   "id": "9b6fa44a",
   "metadata": {},
   "source": [
    "### Generate a geometric sequence.\n",
    "**Syntax：** np.logspace(start, stop, num = 50, endpoint = True, base = 10.0, dtype = None)"
   ]
  },
  {
   "cell_type": "code",
   "execution_count": 55,
   "id": "7cfb9af6",
   "metadata": {},
   "outputs": [
    {
     "data": {
      "text/plain": [
       "array([  1.,  10., 100.])"
      ]
     },
     "execution_count": 55,
     "metadata": {},
     "output_type": "execute_result"
    }
   ],
   "source": [
    "# Defining a geometric sequence based 10 (10^0, 10^1, 10^2)\n",
    "a = np. logspace(0, 2, 3)\n",
    "a"
   ]
  },
  {
   "cell_type": "code",
   "execution_count": 56,
   "id": "23d5ec90",
   "metadata": {},
   "outputs": [
    {
     "data": {
      "text/plain": [
       "array([  1.,   2.,   4.,   8.,  16.,  32.,  64., 128., 256., 512.])"
      ]
     },
     "execution_count": 56,
     "metadata": {},
     "output_type": "execute_result"
    }
   ],
   "source": [
    "# efining a geometric sequence based 2\n",
    "a = np.logspace(0, 9, 10, base = 2)\n",
    "a "
   ]
  },
  {
   "cell_type": "markdown",
   "id": "245ee5bf",
   "metadata": {},
   "source": [
    "#  Accessing array elements:\n",
    "\n",
    "Use indexing or slicing.\n",
    "\n",
    "For slicing, use the syntax obj[:, :], where the first colon represents the rows and the second colon represents the columns.\n",
    "\n",
    "Both indexing and slicing start counting from zero.\n",
    "\n",
    "## Accessing Array Elements by Indexing\n",
    "### Numerical Indexing"
   ]
  },
  {
   "cell_type": "code",
   "execution_count": 57,
   "id": "7bd39a64",
   "metadata": {},
   "outputs": [
    {
     "name": "stdout",
     "output_type": "stream",
     "text": [
      "[1 2 3 4 5]\n"
     ]
    },
    {
     "data": {
      "text/plain": [
       "2"
      ]
     },
     "execution_count": 57,
     "metadata": {},
     "output_type": "execute_result"
    }
   ],
   "source": [
    "import numpy as np\n",
    "arr = np.arange(1,6) \n",
    "print(arr)\n",
    "# Print the second element\n",
    "arr[1]"
   ]
  },
  {
   "cell_type": "markdown",
   "id": "93376fc2",
   "metadata": {},
   "source": [
    "- Three-dimensional array indexing:\n",
    "\n",
    "To index a specific element of a three-dimensional array, use the following syntax: arr[i, j, k], where i, j, and k are the indices of the first, second, and third dimensions, respectively."
   ]
  },
  {
   "cell_type": "code",
   "execution_count": 58,
   "id": "12579d1f",
   "metadata": {},
   "outputs": [
    {
     "name": "stdout",
     "output_type": "stream",
     "text": [
      "[[[ 1  2  3]\n",
      "  [ 4  5  6]]\n",
      "\n",
      " [[12  3 34]\n",
      "  [ 5  6  7]]]\n"
     ]
    },
    {
     "data": {
      "text/plain": [
       "2"
      ]
     },
     "execution_count": 58,
     "metadata": {},
     "output_type": "execute_result"
    }
   ],
   "source": [
    "a1 = np.array([ [[1,2,3],[4,5,6]], [[12,3,34],[5,6,7]]])\n",
    "print(a1) \n",
    "# Get the element with first dimension, first row, second column element.\n",
    "a1[0, 0, 1]"
   ]
  },
  {
   "cell_type": "markdown",
   "id": "34819fca",
   "metadata": {},
   "source": [
    "### Boolean indexing \n",
    "It refers to the practice of selecting elements from an array based on a set of Boolean conditions. This is done by passing a Boolean array of the same shape as the original array to index it. Only the elements corresponding to True values in the Boolean array are selected."
   ]
  },
  {
   "cell_type": "code",
   "execution_count": 59,
   "id": "b53ca520",
   "metadata": {},
   "outputs": [
    {
     "name": "stdout",
     "output_type": "stream",
     "text": [
      "[0 1 2 3 4 5 6]\n"
     ]
    },
    {
     "data": {
      "text/plain": [
       "array([0, 3, 4])"
      ]
     },
     "execution_count": 59,
     "metadata": {},
     "output_type": "execute_result"
    }
   ],
   "source": [
    "# 1-dimensionl array\n",
    "arr = np.arange(7)\n",
    "print(arr)\n",
    "booling1 = np.array([True, False, False, True, True, False, False])\n",
    "# extract the elements in the target array \"arr\" that correspond \n",
    "#to the positions of a boolean array \"booling1\" using boolean indexing.\n",
    "# Get the element which in boolings equals to True\n",
    "arr[booling1]"
   ]
  },
  {
   "cell_type": "code",
   "execution_count": 60,
   "id": "f2282619",
   "metadata": {},
   "outputs": [
    {
     "data": {
      "text/plain": [
       "array([[ 1,  2,  3,  4],\n",
       "       [ 5,  6,  7,  8],\n",
       "       [ 9, 10, 11, 12],\n",
       "       [13, 14, 15, 16],\n",
       "       [17, 18, 19, 20],\n",
       "       [21, 22, 23, 24],\n",
       "       [25, 26, 27, 28]])"
      ]
     },
     "execution_count": 60,
     "metadata": {},
     "output_type": "execute_result"
    }
   ],
   "source": [
    "arr = np.arange(1,29).reshape((7,4))\n",
    "arr"
   ]
  },
  {
   "cell_type": "code",
   "execution_count": 61,
   "id": "d50fb02f",
   "metadata": {},
   "outputs": [
    {
     "data": {
      "text/plain": [
       "array([[ 1,  2,  3,  4],\n",
       "       [13, 14, 15, 16],\n",
       "       [17, 18, 19, 20]])"
      ]
     },
     "execution_count": 61,
     "metadata": {},
     "output_type": "execute_result"
    }
   ],
   "source": [
    "# define a boolean array booling1 with True at indices 0, 3, and 4, and False elsewhere, \n",
    "# and use it to extract corresponding rows from the target array.\n",
    "booling1 = np.array([True, False, False, True, True, False, False])\n",
    "arr[booling1]"
   ]
  },
  {
   "cell_type": "code",
   "execution_count": 62,
   "id": "9d851a85",
   "metadata": {},
   "outputs": [
    {
     "data": {
      "text/plain": [
       "array([[ 1,  2,  3,  4],\n",
       "       [ 5,  6,  7,  8],\n",
       "       [ 9, 10, 11, 12],\n",
       "       [13, 14, 15, 16],\n",
       "       [17, 18, 19, 20],\n",
       "       [21, 22, 23, 24],\n",
       "       [25, 26, 27, 28]])"
      ]
     },
     "execution_count": 62,
     "metadata": {},
     "output_type": "execute_result"
    }
   ],
   "source": [
    "arr = np.arange(1,29).reshape((7,4))\n",
    "arr"
   ]
  },
  {
   "cell_type": "code",
   "execution_count": 63,
   "id": "069831d6",
   "metadata": {},
   "outputs": [
    {
     "data": {
      "text/plain": [
       "array([ True, False,  True, False, False, False,  True])"
      ]
     },
     "execution_count": 63,
     "metadata": {},
     "output_type": "execute_result"
    }
   ],
   "source": [
    "names = np.array(['A','B','A','C','D','E','A'])  \n",
    "names == \"A\""
   ]
  },
  {
   "cell_type": "code",
   "execution_count": 64,
   "id": "19ef81cf",
   "metadata": {},
   "outputs": [
    {
     "data": {
      "text/plain": [
       "array([[ 1,  2,  3,  4],\n",
       "       [ 9, 10, 11, 12],\n",
       "       [25, 26, 27, 28]])"
      ]
     },
     "execution_count": 64,
     "metadata": {},
     "output_type": "execute_result"
    }
   ],
   "source": [
    "arr[names == \"A\"]"
   ]
  },
  {
   "cell_type": "code",
   "execution_count": 65,
   "id": "d35a4a81",
   "metadata": {},
   "outputs": [
    {
     "data": {
      "text/plain": [
       "array([[ 5,  6,  7,  8],\n",
       "       [13, 14, 15, 16],\n",
       "       [17, 18, 19, 20],\n",
       "       [21, 22, 23, 24]])"
      ]
     },
     "execution_count": 65,
     "metadata": {},
     "output_type": "execute_result"
    }
   ],
   "source": [
    "arr[names != \"A\"]"
   ]
  },
  {
   "cell_type": "code",
   "execution_count": 66,
   "id": "c335bfa4",
   "metadata": {},
   "outputs": [
    {
     "data": {
      "text/plain": [
       "array([16, 17, 18, 19, 20, 21, 22, 23, 24, 25, 26, 27, 28])"
      ]
     },
     "execution_count": 66,
     "metadata": {},
     "output_type": "execute_result"
    }
   ],
   "source": [
    "# Find the element greater than 15\n",
    "# Method 1 \n",
    "arr[arr>15]"
   ]
  },
  {
   "cell_type": "code",
   "execution_count": 67,
   "id": "e27543d7",
   "metadata": {},
   "outputs": [
    {
     "data": {
      "text/plain": [
       "array([16, 17, 18, 19, 20, 21, 22, 23, 24, 25, 26, 27, 28])"
      ]
     },
     "execution_count": 67,
     "metadata": {},
     "output_type": "execute_result"
    }
   ],
   "source": [
    "# Method 2 \n",
    "arr[np.where(arr>15)]"
   ]
  },
  {
   "cell_type": "markdown",
   "id": "5f36557c",
   "metadata": {},
   "source": [
    "## Fancy indexing \n",
    "Fancy indexing is a term used in NumPy to describe using integer arrays as indices, which means taking values from the target array based on the values of the index array as the index of a certain axis of the target array.\n",
    "\n",
    "For using a one-dimensional integer array as an index, if the target is a one-dimensional array, the result of indexing is the corresponding element at the position; if the target is a two-dimensional array, then it is the row corresponding to the index."
   ]
  },
  {
   "cell_type": "code",
   "execution_count": 68,
   "id": "4ba8ba05",
   "metadata": {},
   "outputs": [
    {
     "data": {
      "text/plain": [
       "array(['one', 'four'], dtype='<U5')"
      ]
     },
     "execution_count": 68,
     "metadata": {},
     "output_type": "execute_result"
    }
   ],
   "source": [
    "# 1D ndarray\n",
    "arr = np.array(['zero','one','two','three','four'])\n",
    "index = [1, 4]  # Define a list of indices.\n",
    "\n",
    "# Extract corresponding elements from an array based on a list of indices\n",
    "arr[index]"
   ]
  },
  {
   "cell_type": "code",
   "execution_count": 69,
   "id": "5df9e0df",
   "metadata": {},
   "outputs": [
    {
     "name": "stdout",
     "output_type": "stream",
     "text": [
      "[[0 0 0 0]\n",
      " [1 1 1 1]\n",
      " [2 2 2 2]\n",
      " [3 3 3 3]\n",
      " [4 4 4 4]\n",
      " [5 5 5 5]\n",
      " [6 6 6 6]\n",
      " [7 7 7 7]]\n"
     ]
    },
    {
     "data": {
      "text/plain": [
       "array([[4, 4, 4, 4],\n",
       "       [3, 3, 3, 3],\n",
       "       [0, 0, 0, 0],\n",
       "       [6, 6, 6, 6]])"
      ]
     },
     "execution_count": 69,
     "metadata": {},
     "output_type": "execute_result"
    }
   ],
   "source": [
    "# 2D ndarray\n",
    "arr = np.empty((8,4), dtype = np.int32)\n",
    "for i in range(8):\n",
    "    arr[i] = i\n",
    "print(arr) \n",
    "\n",
    "# Extract the elements from the 5th, 4th, 1st, and 7th rows\n",
    "row = [4, 3, 0, 6]\n",
    "arr[row]"
   ]
  },
  {
   "cell_type": "code",
   "execution_count": 70,
   "id": "c4632ca2",
   "metadata": {},
   "outputs": [
    {
     "data": {
      "text/plain": [
       "array([[5, 5, 5, 5],\n",
       "       [4, 4, 4, 4],\n",
       "       [1, 1, 1, 1]])"
      ]
     },
     "execution_count": 70,
     "metadata": {},
     "output_type": "execute_result"
    }
   ],
   "source": [
    "# Extract the elements from the 6th, 4th, and 2nd rows\n",
    "# Same meaning of extract the 3rd, 4th, 7th in reverse order, so index can be negative numbers \n",
    "arr[[-3,-4,-7]]"
   ]
  },
  {
   "cell_type": "markdown",
   "id": "b075f708",
   "metadata": {},
   "source": [
    "When two integer arrays are used as indices, the result is to retrieve the values of the corresponding indices along the corresponding axis in order. It is important to note that these two integer arrays should have the same shape or one of them should be a one-dimensional array of length 1 (related to NumPy's Broadcasting mechanism). For example, using [1,3,5] and [2,4,6] as integer arrays for indexing, for a two-dimensional array, the elements corresponding to the coordinates (1,2), (3,4), and (5,6) will be retrieved."
   ]
  },
  {
   "cell_type": "code",
   "execution_count": 71,
   "id": "3187efe5",
   "metadata": {},
   "outputs": [
    {
     "name": "stdout",
     "output_type": "stream",
     "text": [
      "[[ 0  1  2  3  4  5  6]\n",
      " [ 7  8  9 10 11 12 13]\n",
      " [14 15 16 17 18 19 20]\n",
      " [21 22 23 24 25 26 27]\n",
      " [28 29 30 31 32 33 34]\n",
      " [35 36 37 38 39 40 41]]\n"
     ]
    },
    {
     "data": {
      "text/plain": [
       "array([ 9, 25, 41])"
      ]
     },
     "execution_count": 71,
     "metadata": {},
     "output_type": "execute_result"
    }
   ],
   "source": [
    "arr = np.arange(42).reshape(6,7)\n",
    "print(arr)\n",
    "arr[[1,3,5],[2,4,6]]"
   ]
  },
  {
   "cell_type": "markdown",
   "id": "6edfe32d",
   "metadata": {},
   "source": [
    "## Slicing\n",
    "Slicing in ndarray objects works similar to slicing in Python lists. The ndarray array can be indexed based on 0 to n, and the slice object can be created using the built-in slice function by setting the start, stop, and step parameters to extract a new array from the original array.\n",
    "### 1D ndarray slicing"
   ]
  },
  {
   "cell_type": "code",
   "execution_count": 72,
   "id": "e70e0596",
   "metadata": {},
   "outputs": [
    {
     "name": "stdout",
     "output_type": "stream",
     "text": [
      "[1 2 3 4 5]\n"
     ]
    },
    {
     "data": {
      "text/plain": [
       "array([3, 4])"
      ]
     },
     "execution_count": 72,
     "metadata": {},
     "output_type": "execute_result"
    }
   ],
   "source": [
    "arr = np.arange(1,6)\n",
    "print(arr)\n",
    "# Get the 3rd to 5th elements.\n",
    "arr[2:4]"
   ]
  },
  {
   "cell_type": "code",
   "execution_count": 73,
   "id": "b3d0e12c",
   "metadata": {},
   "outputs": [
    {
     "data": {
      "text/plain": [
       "array([4, 5])"
      ]
     },
     "execution_count": 73,
     "metadata": {},
     "output_type": "execute_result"
    }
   ],
   "source": [
    "# To get the last two elements \n",
    "arr[-2:] \n",
    "# A colon before the index represents the starting position, \n",
    "# while a colon after represents the ending index. \n",
    "# When no specific value is given, it represents all elements."
   ]
  },
  {
   "cell_type": "markdown",
   "id": "fd96ee7b",
   "metadata": {},
   "source": [
    "### 2D ndarray slicing"
   ]
  },
  {
   "cell_type": "code",
   "execution_count": 74,
   "id": "5c303d26",
   "metadata": {},
   "outputs": [
    {
     "name": "stdout",
     "output_type": "stream",
     "text": [
      "[[ 1  2  3  4  5]\n",
      " [ 6  7  8  9 10]\n",
      " [11 12 13 14 15]\n",
      " [16 17 18 19 20]]\n"
     ]
    },
    {
     "data": {
      "text/plain": [
       "array([11, 12, 13, 14, 15])"
      ]
     },
     "execution_count": 74,
     "metadata": {},
     "output_type": "execute_result"
    }
   ],
   "source": [
    "arr = np.arange(1,21).reshape(4,5)\n",
    "print(arr)\n",
    "\n",
    "# Get all the elments on the third row\n",
    "arr[2,:]"
   ]
  },
  {
   "cell_type": "code",
   "execution_count": 75,
   "id": "45848f4d",
   "metadata": {},
   "outputs": [
    {
     "data": {
      "text/plain": [
       "array([ 1,  6, 11, 16])"
      ]
     },
     "execution_count": 75,
     "metadata": {},
     "output_type": "execute_result"
    }
   ],
   "source": [
    "# Get all the element for the 1st column\n",
    "arr[:, 0]"
   ]
  },
  {
   "cell_type": "code",
   "execution_count": 76,
   "id": "cabc313c",
   "metadata": {},
   "outputs": [
    {
     "data": {
      "text/plain": [
       "array([2, 3, 4])"
      ]
     },
     "execution_count": 76,
     "metadata": {},
     "output_type": "execute_result"
    }
   ],
   "source": [
    "#First row, the 2nd column to the 4th column\n",
    "arr[0, 1:4]"
   ]
  },
  {
   "cell_type": "markdown",
   "id": "cf5d2c53",
   "metadata": {},
   "source": [
    "- Replace the elements in x with the elements from y at corresponding positions.\n"
   ]
  },
  {
   "cell_type": "code",
   "execution_count": 77,
   "id": "87ad0b23",
   "metadata": {},
   "outputs": [
    {
     "data": {
      "text/plain": [
       "(array([1, 2, 3, 4, 5]), array([6, 7, 8]))"
      ]
     },
     "execution_count": 77,
     "metadata": {},
     "output_type": "execute_result"
    }
   ],
   "source": [
    "x = np.array([1, 2, 3, 4, 5])\n",
    "y = np.array([6, 7, 8])\n",
    "x, y  # output should be like [6,7,8,4,5]"
   ]
  },
  {
   "cell_type": "code",
   "execution_count": 78,
   "id": "4ba12064",
   "metadata": {},
   "outputs": [
    {
     "data": {
      "text/plain": [
       "array([6, 7, 8, 4, 5])"
      ]
     },
     "execution_count": 78,
     "metadata": {},
     "output_type": "execute_result"
    }
   ],
   "source": [
    "x[0 :len(y)] = y\n",
    "x"
   ]
  },
  {
   "cell_type": "markdown",
   "id": "2c3a3bef",
   "metadata": {},
   "source": [
    "## Iterate an array"
   ]
  },
  {
   "cell_type": "code",
   "execution_count": 79,
   "id": "5d659ce0",
   "metadata": {},
   "outputs": [
    {
     "data": {
      "text/plain": [
       "array([[ 0,  1,  2,  3],\n",
       "       [ 4,  5,  6,  7],\n",
       "       [ 8,  9, 10, 11]])"
      ]
     },
     "execution_count": 79,
     "metadata": {},
     "output_type": "execute_result"
    }
   ],
   "source": [
    "import numpy as np\n",
    "a = np.arange(12).reshape(3,4)\n",
    "a"
   ]
  },
  {
   "cell_type": "markdown",
   "id": "1a260344",
   "metadata": {},
   "source": [
    "### Iterate the rows"
   ]
  },
  {
   "cell_type": "code",
   "execution_count": 80,
   "id": "71b0f753",
   "metadata": {},
   "outputs": [
    {
     "name": "stdout",
     "output_type": "stream",
     "text": [
      "Rows are like： [0 1 2 3]\n",
      "Rows are like： [4 5 6 7]\n",
      "Rows are like： [ 8  9 10 11]\n"
     ]
    }
   ],
   "source": [
    "for row in a:\n",
    "    print(\"Rows are like：\", row)"
   ]
  },
  {
   "cell_type": "markdown",
   "id": "3786786f",
   "metadata": {},
   "source": [
    "### Iterate the columns"
   ]
  },
  {
   "cell_type": "code",
   "execution_count": 81,
   "id": "0b7f7f76",
   "metadata": {},
   "outputs": [
    {
     "name": "stdout",
     "output_type": "stream",
     "text": [
      "Columns are like [0 4 8]\n",
      "Columns are like [1 5 9]\n",
      "Columns are like [ 2  6 10]\n",
      "Columns are like [ 3  7 11]\n"
     ]
    }
   ],
   "source": [
    "b = a.transpose()\n",
    "b\n",
    "for column in b:\n",
    "    print(\"Columns are like\", column)"
   ]
  },
  {
   "cell_type": "markdown",
   "id": "f26bca07",
   "metadata": {},
   "source": [
    "### Iterate each element\n",
    "#### Use flat property\n",
    "The flat property is an element iterator for arrays, which can be used to iterate over all the elements of a multi-dimensional array as if it were a one-dimensional array. However, it can only be iterated over once."
   ]
  },
  {
   "cell_type": "code",
   "execution_count": 82,
   "id": "3e826904",
   "metadata": {},
   "outputs": [
    {
     "name": "stdout",
     "output_type": "stream",
     "text": [
      "[[ 0  1  2  3]\n",
      " [ 4  5  6  7]\n",
      " [ 8  9 10 11]] <numpy.flatiter object at 0x000002C1AE746350>\n",
      "0,1,2,3,4,5,6,7,8,9,10,11,\n"
     ]
    }
   ],
   "source": [
    "a = np.arange(12).reshape(3,4)\n",
    "b = a.flat  #flat is a property, iterator can only be looped once \n",
    "print(a,b)\n",
    "\n",
    "for item in b:\n",
    "    print(item, end = \",\")\n",
    "print()"
   ]
  },
  {
   "cell_type": "code",
   "execution_count": 83,
   "id": "69aaac91",
   "metadata": {},
   "outputs": [
    {
     "name": "stdout",
     "output_type": "stream",
     "text": [
      "After revise: \n",
      " [[100   1   2   3]\n",
      " [  4   5   6   7]\n",
      " [  8   9  10  11]] <numpy.flatiter object at 0x000002C1AE746350>\n"
     ]
    }
   ],
   "source": [
    "a[0][0] = 100  # Revise the element in a \n",
    "print(\"After revise: \\n\", a, b) \n",
    "# After iterating through b once, \n",
    "#it won't display again because b is an iterator and can only be iterated once. \n",
    "#If you want to see the values of b again, you need to get b again by using b = a.flat.\n",
    "for item in b:\n",
    "    print(item)  # No results from this loop, because b is a iterator from flat property"
   ]
  },
  {
   "cell_type": "markdown",
   "id": "1704bc48",
   "metadata": {},
   "source": [
    "#### Use flatten() function\n",
    "\n",
    "The main difference between them is that flatten() creates a new flattened copy of the original array, while flat returns an iterator that can be used to iterate the original array in a flattened manner without creating a new array.\n",
    "\n",
    "Flatten() returns a new flattened array, while flat returns a flattened view of the original array. Additionally, flat can only be used to iterate the array once, while flatten() creates a new array that can be used multiple times."
   ]
  },
  {
   "cell_type": "code",
   "execution_count": 84,
   "id": "24b51ff0",
   "metadata": {},
   "outputs": [
    {
     "name": "stdout",
     "output_type": "stream",
     "text": [
      "0,1,2,3,4,5,6,7,8,9,10,11,"
     ]
    }
   ],
   "source": [
    "a = np.arange(12).reshape(3,4)\n",
    "for item in a.flatten():\n",
    "    print(item, end = \",\")"
   ]
  },
  {
   "cell_type": "code",
   "execution_count": 85,
   "id": "0079827e",
   "metadata": {},
   "outputs": [
    {
     "name": "stdout",
     "output_type": "stream",
     "text": [
      "100,1,2,3,4,5,6,7,8,9,10,11,"
     ]
    }
   ],
   "source": [
    "a[0][0] = 100  # Revise the element in a \n",
    "for item in a.flatten():\n",
    "    print(item, end = \",\")"
   ]
  },
  {
   "cell_type": "markdown",
   "id": "900acd29",
   "metadata": {},
   "source": [
    "####  Use nditer() function\n",
    "**Syntax**：nditer(op, flags=None, op_flags=None, op_dtypes=None, order='K', casting='safe', op_axes=None, itershape=None, buffersize=0)\n",
    "\n",
    "The nditer function provides a flexible way to iterate over one or more arrays and access their elements."
   ]
  },
  {
   "cell_type": "code",
   "execution_count": 86,
   "id": "b19b7d6f",
   "metadata": {},
   "outputs": [
    {
     "name": "stdout",
     "output_type": "stream",
     "text": [
      "100,1,2,3,4,5,6,7,8,9,10,11,"
     ]
    }
   ],
   "source": [
    "for item in np.nditer(a):\n",
    "    print(item, end = \",\")"
   ]
  },
  {
   "cell_type": "markdown",
   "id": "c25b0a88",
   "metadata": {},
   "source": [
    "If two arrays are broadcastable, nditer() can iterate over them simultaneously."
   ]
  },
  {
   "cell_type": "code",
   "execution_count": 87,
   "id": "92267cf2",
   "metadata": {},
   "outputs": [
    {
     "name": "stdout",
     "output_type": "stream",
     "text": [
      "[[ 0  1  2  3]\n",
      " [ 4  5  6  7]\n",
      " [ 8  9 10 11]\n",
      " [12 13 14 15]]\n",
      "[1 2 3 4]\n",
      "0:1,1:2,2:3,3:4,4:1,5:2,6:3,7:4,8:1,9:2,10:3,11:4,12:1,13:2,14:3,15:4,"
     ]
    }
   ],
   "source": [
    "x = np.arange(16).reshape(4,4)\n",
    "print(x)\n",
    "y = np.arange(1,5)\n",
    "print(y)\n",
    "for x, y in np.nditer([x,y]):\n",
    "    print(f\"{x}:{y}\", end = \",\")\n"
   ]
  },
  {
   "cell_type": "markdown",
   "id": "04611642",
   "metadata": {},
   "source": [
    "#### Use ndenumerate() function\n",
    "**syntax**：ndenumerate(arr)\n",
    "\n",
    "Multidimensional index iterator. Returns an iterator yielding pairs of array coordinates and values.\n"
   ]
  },
  {
   "cell_type": "code",
   "execution_count": 88,
   "id": "81c3a234",
   "metadata": {},
   "outputs": [
    {
     "name": "stdout",
     "output_type": "stream",
     "text": [
      "[[0 1 2]\n",
      " [3 4 5]\n",
      " [6 7 8]]\n",
      "(0, 0) 0\n",
      "(0, 1) 1\n",
      "(0, 2) 2\n",
      "(1, 0) 3\n",
      "(1, 1) 4\n",
      "(1, 2) 5\n",
      "(2, 0) 6\n",
      "(2, 1) 7\n",
      "(2, 2) 8\n"
     ]
    }
   ],
   "source": [
    "z = np.arange(9).reshape(3,3)\n",
    "print(z)\n",
    "for index, value in np.ndenumerate(z):\n",
    "    print(index, value)"
   ]
  },
  {
   "cell_type": "markdown",
   "id": "b1093c49",
   "metadata": {},
   "source": [
    "# Numpy Operation/Manipulation"
   ]
  },
  {
   "cell_type": "markdown",
   "id": "928f7314",
   "metadata": {},
   "source": [
    "## Change the shape of a ndarray\n",
    "### reshape function\n"
   ]
  },
  {
   "cell_type": "markdown",
   "id": "150e1cdc",
   "metadata": {},
   "source": [
    "### resize function "
   ]
  },
  {
   "cell_type": "markdown",
   "id": "14c20ea5",
   "metadata": {},
   "source": [
    "### shape property"
   ]
  },
  {
   "cell_type": "markdown",
   "id": "aa21fd26",
   "metadata": {},
   "source": [
    "## Flat the ndarray\n",
    "### ravel function\n",
    "### flatten function\n",
    "### Difference between flatten and ravel \n"
   ]
  },
  {
   "cell_type": "markdown",
   "id": "fa63f788",
   "metadata": {},
   "source": [
    "## Change the dimension \n",
    "### Increase the dimension\n",
    "```python\n",
    "[:, np.newaxis] # vertical direction to add a dimension\n",
    "[np.newaxis, :] # horizontal direction to increase a dimension\n",
    "```\n"
   ]
  },
  {
   "cell_type": "markdown",
   "id": "5363d181",
   "metadata": {},
   "source": [
    "### Reduce the dimension\n",
    "```python\n",
    "np.squeese(a, axis = None)\n",
    "```"
   ]
  },
  {
   "cell_type": "markdown",
   "id": "91a03046",
   "metadata": {},
   "source": [
    "## Transpose of a ndarray \n",
    "```python\n",
    "transpose(a, axes = None)\n",
    "```"
   ]
  },
  {
   "cell_type": "code",
   "execution_count": 89,
   "id": "97da4ea5",
   "metadata": {
    "code_folding": []
   },
   "outputs": [
    {
     "name": "stdout",
     "output_type": "stream",
     "text": [
      "Before transpose:\n",
      " [[1 2 3 4]\n",
      " [5 6 7 8]]\n",
      "After transpose:\n",
      " [[1 5]\n",
      " [2 6]\n",
      " [3 7]\n",
      " [4 8]]\n"
     ]
    }
   ],
   "source": [
    "import numpy as np\n",
    "a = [[1,2,3,4],\n",
    "    [5,6,7,8]]\n",
    "arr = np.array(a)\n",
    "print('Before transpose:\\n',arr)\n",
    "# print('After transpose:\\n',arr.transpose())\n",
    "print('After transpose:\\n',arr.T)"
   ]
  },
  {
   "cell_type": "markdown",
   "id": "fdc0ce25",
   "metadata": {},
   "source": [
    "## Remove the duplicated in a ndarray\n",
    "**Syntax：**\n",
    "```python\n",
    "unique(ndarray, return_index = False, return_inverse = False, return_counts = False, axis = None)\n",
    "```\n",
    "- the indices of the input array that give the unique values\n",
    "\n",
    "- the indices of the unique array that reconstruct the input array\n",
    "\n",
    "- the number of times each unique value comes up in the input array\n"
   ]
  },
  {
   "cell_type": "code",
   "execution_count": 90,
   "id": "b9076c08",
   "metadata": {},
   "outputs": [
    {
     "data": {
      "text/plain": [
       "array([1, 2, 3, 4, 5])"
      ]
     },
     "execution_count": 90,
     "metadata": {},
     "output_type": "execute_result"
    }
   ],
   "source": [
    "# One dimensional\n",
    "arr1 = np.array([1,2,3,3,3,4,5])\n",
    "np.unique(arr1)"
   ]
  },
  {
   "cell_type": "code",
   "execution_count": 91,
   "id": "0298febd",
   "metadata": {},
   "outputs": [
    {
     "data": {
      "text/plain": [
       "array([1, 2, 3, 4, 5, 6])"
      ]
     },
     "execution_count": 91,
     "metadata": {},
     "output_type": "execute_result"
    }
   ],
   "source": [
    "# Two dimensional\n",
    "arr2 = np.array([[1, 2, 3, 4],[3, 4, 5, 6]])\n",
    "np.unique(arr2)  # return a one dimensional array"
   ]
  },
  {
   "cell_type": "code",
   "execution_count": 92,
   "id": "53c560e9",
   "metadata": {},
   "outputs": [
    {
     "name": "stdout",
     "output_type": "stream",
     "text": [
      "[1 2 3 4 6]\n",
      "[1 3 1 1 1]\n"
     ]
    },
    {
     "data": {
      "text/plain": [
       "array([1, 2, 2, 2, 3, 4, 6])"
      ]
     },
     "execution_count": 92,
     "metadata": {},
     "output_type": "execute_result"
    }
   ],
   "source": [
    "a = np.array([1, 2, 6, 4, 2, 3, 2])\n",
    "values, counts = np.unique(a, return_counts = True)\n",
    "print(values)\n",
    "print(counts)\n",
    "np.repeat(values, counts)  # original order not preserved"
   ]
  },
  {
   "cell_type": "markdown",
   "id": "08a5308c",
   "metadata": {},
   "source": [
    "## Concatenate the arrays\n",
    "https://numpy.org/doc/stable/reference/generated/numpy.vstack.html#numpy-vstack "
   ]
  },
  {
   "cell_type": "markdown",
   "id": "96d9fb6f",
   "metadata": {},
   "source": [
    "## Split the arrays\n",
    "https://numpy.org/doc/stable/reference/generated/numpy.split.html "
   ]
  },
  {
   "cell_type": "markdown",
   "id": "aa466710",
   "metadata": {},
   "source": [
    "## Manipulate the elements of ndarray\n",
    "### Revise values in 1-D ndarray"
   ]
  },
  {
   "cell_type": "code",
   "execution_count": 93,
   "id": "ec7c0fdf",
   "metadata": {},
   "outputs": [
    {
     "name": "stdout",
     "output_type": "stream",
     "text": [
      "[1 2 3 4 5]\n",
      "After revise：\n",
      " [  1 100   0   0   5]\n"
     ]
    }
   ],
   "source": [
    "arr = np.arange(1,6)\n",
    "print(arr)\n",
    "\n",
    "#  Assigne the value 100 to the index position 1.\n",
    "arr[1] = 100\n",
    "\n",
    "# Slicing to revise values\n",
    "arr[2:4] = 0    \n",
    "print('After revise：\\n',arr)"
   ]
  },
  {
   "cell_type": "markdown",
   "id": "693ad786",
   "metadata": {},
   "source": [
    "### Revise values in 2-D ndarray"
   ]
  },
  {
   "cell_type": "code",
   "execution_count": 94,
   "id": "be6c160b",
   "metadata": {},
   "outputs": [
    {
     "name": "stdout",
     "output_type": "stream",
     "text": [
      "Before revise: \n",
      " [[1 2 3]\n",
      " [4 5 6]\n",
      " [7 8 9]]\n",
      "After revise: \n",
      " [[  1   2   3]\n",
      " [100 100 100]\n",
      " [  7   8   9]]\n"
     ]
    },
    {
     "data": {
      "text/plain": [
       "array([[  1, 100,   3],\n",
       "       [100, 100, 100],\n",
       "       [  7, 100,   9]])"
      ]
     },
     "execution_count": 94,
     "metadata": {},
     "output_type": "execute_result"
    }
   ],
   "source": [
    "a = np.array([[1,2,3],\n",
    "              [4,5,6],\n",
    "              [7,8,9]])\n",
    "print('Before revise: \\n',a)\n",
    "\n",
    "# Revise the entire line\n",
    "a[1] = 100 # Revise all the elements in the second line to 100.\n",
    "print('After revise: \\n',a)\n",
    "# Revise the entire column\n",
    "a[:,1] = 100 # Revise all the element in the second column to 100.\n",
    "a"
   ]
  },
  {
   "attachments": {
    "np.insert.png": {
     "image/png": "[encoded data removed]"
    }
   },
   "cell_type": "markdown",
   "id": "8ff1b052",
   "metadata": {},
   "source": [
    "### Insert elements\n",
    "**Syntax**\n",
    "```python\n",
    "numpy.insert(arr, obj, values, axis = None)\n",
    "```\n",
    "![np.insert.png](attachment:np.insert.png)"
   ]
  },
  {
   "attachments": {
    "np_delete.png": {
     "image/png": "[encoded data removed]"
    }
   },
   "cell_type": "markdown",
   "id": "2f9b3d58",
   "metadata": {},
   "source": [
    "### Delete elements\n",
    "**Syntax**\n",
    "```python\n",
    "numpy.delete(arr, obj, axis = None)\n",
    "```\n",
    "![np_delete.png](attachment:np_delete.png)"
   ]
  },
  {
   "attachments": {
    "np_append.png": {
     "image/png": "[encoded data removed]"
    }
   },
   "cell_type": "markdown",
   "id": "14c2cbb4",
   "metadata": {},
   "source": [
    "### Append elements\n",
    "**Syntax**\n",
    "```python\n",
    "numpy.append(arr, values, axis = None)\n",
    "```\n",
    "![np_append.png](attachment:np_append.png)"
   ]
  },
  {
   "attachments": {
    "np_pad.png": {
     "image/png": "[encoded data removed]"
    }
   },
   "cell_type": "markdown",
   "id": "cf4cb514",
   "metadata": {},
   "source": [
    "### Pad an array\n",
    "**Syntax**\n",
    "```python\n",
    "numpy.pad(array, pad_width, mode ='constant', **kwargs)\n",
    "```\n",
    "![np_pad.png](attachment:np_pad.png)\n",
    "https://numpy.org/doc/stable/reference/generated/numpy.pad.html#numpy.pad "
   ]
  },
  {
   "cell_type": "markdown",
   "id": "478c72e9",
   "metadata": {},
   "source": [
    "# Numpy random module\n",
    "Very frequently used in data analysis for the initiation of parameters, split the dataset, sampling for statistical analysis."
   ]
  },
  {
   "cell_type": "markdown",
   "id": "cec147d9",
   "metadata": {},
   "source": [
    "## Basic random numbers\n",
    "### Generate random floats\n",
    "#### random.rand\n",
    "**Syntax**\n",
    "```python\n",
    "random.rand(d0, d1, ..., dn)\n",
    "```\n",
    "Create an array of the given shape and populate it with random samples from a uniform distribution over [0, 1)."
   ]
  },
  {
   "cell_type": "code",
   "execution_count": 95,
   "id": "f1f92457",
   "metadata": {},
   "outputs": [
    {
     "data": {
      "text/plain": [
       "array([[0.32063791, 0.0578348 ],\n",
       "       [0.41875906, 0.98370444],\n",
       "       [0.17956525, 0.38298839]])"
      ]
     },
     "execution_count": 95,
     "metadata": {},
     "output_type": "execute_result"
    }
   ],
   "source": [
    "np.random.rand(3,2)"
   ]
  },
  {
   "cell_type": "markdown",
   "id": "bf2d5bb4",
   "metadata": {},
   "source": [
    "#### random_sample\n",
    "**Syntax**\n",
    "```python\n",
    "random.random_sample(size = None)\n",
    "```\n",
    "Return random floats in the half-open interval [0.0, 1.0)."
   ]
  },
  {
   "cell_type": "code",
   "execution_count": 96,
   "id": "01e70cff",
   "metadata": {},
   "outputs": [
    {
     "name": "stdout",
     "output_type": "stream",
     "text": [
      "0.9356446384740765\n",
      "<class 'float'>\n"
     ]
    }
   ],
   "source": [
    "print(np.random.random_sample())\n",
    "print(type(np.random.random_sample())) # type is float"
   ]
  },
  {
   "cell_type": "code",
   "execution_count": 97,
   "id": "355dcc4c",
   "metadata": {},
   "outputs": [
    {
     "data": {
      "text/plain": [
       "array([[-3.44797115, -4.25507564],\n",
       "       [-0.68198836, -3.31844429],\n",
       "       [-4.77222953, -3.4435931 ]])"
      ]
     },
     "execution_count": 97,
     "metadata": {},
     "output_type": "execute_result"
    }
   ],
   "source": [
    "# Generate a 3X2 array of random numbers from [-5, 0):\n",
    "5 * np.random.random_sample((3, 2)) - 5"
   ]
  },
  {
   "cell_type": "markdown",
   "id": "f42d0dae",
   "metadata": {},
   "source": [
    "#### random.random\n",
    "**Syntax**\n",
    "```python\n",
    "random.random(size = None)\n",
    "```\n",
    "Return random floats in the half-open interval [0.0, 1.0)"
   ]
  },
  {
   "cell_type": "markdown",
   "id": "8facbfa7",
   "metadata": {},
   "source": [
    "### Generate random integers\n",
    "**random.randint**\n",
    "**Syntax**\n",
    "```python\n",
    "random.randint(low, high = None, size = None, dtype = int)\n",
    "```\n",
    "Return random integers from low (inclusive) to high (exclusive).\n",
    "\n",
    "Return random integers from the “discrete uniform” distribution of the specified dtype in the “half-open” interval [low, high). If high is None (the default), then results are from [0, low)."
   ]
  },
  {
   "cell_type": "code",
   "execution_count": 98,
   "id": "a7621d52",
   "metadata": {},
   "outputs": [
    {
     "data": {
      "text/plain": [
       "array([[16, 49],\n",
       "       [39, 18],\n",
       "       [29, 30]])"
      ]
     },
     "execution_count": 98,
     "metadata": {},
     "output_type": "execute_result"
    }
   ],
   "source": [
    "a = np.random.randint(10,50,size = (3,2))  # random integers between [10, 50), 3 by 2 matrix\n",
    "a"
   ]
  },
  {
   "cell_type": "markdown",
   "id": "9f6ec469",
   "metadata": {},
   "source": [
    "### Random sampling\n",
    "**random.choice**\n",
    "\n",
    "**Syntax**\n",
    "```python\n",
    "random.choice(a, size = None, replace = True, p = None)\n",
    "```\n",
    "Generates a random sample from a given 1-D array."
   ]
  },
  {
   "cell_type": "code",
   "execution_count": 99,
   "id": "5f11ef9e",
   "metadata": {},
   "outputs": [
    {
     "data": {
      "text/plain": [
       "array([[4, 7, 1],\n",
       "       [4, 2, 1],\n",
       "       [5, 0, 6]])"
      ]
     },
     "execution_count": 99,
     "metadata": {},
     "output_type": "execute_result"
    }
   ],
   "source": [
    "data = np.arange(10)\n",
    "np.random.choice(data, (3,3))  #first argument represent the given 1-D array, second tuple indicates the size of random sample"
   ]
  },
  {
   "cell_type": "code",
   "execution_count": 100,
   "id": "62022622",
   "metadata": {},
   "outputs": [
    {
     "data": {
      "text/plain": [
       "array([[7, 2, 5],\n",
       "       [5, 5, 5],\n",
       "       [9, 2, 1]])"
      ]
     },
     "execution_count": 100,
     "metadata": {},
     "output_type": "execute_result"
    }
   ],
   "source": [
    "np.random.choice(10, (3,3)) # we can just use 10 to represent np.arange(10)"
   ]
  },
  {
   "cell_type": "code",
   "execution_count": 101,
   "id": "b1be911f",
   "metadata": {},
   "outputs": [
    {
     "data": {
      "text/plain": [
       "array([[8, 7, 4],\n",
       "       [1, 0, 3],\n",
       "       [5, 9, 6]])"
      ]
     },
     "execution_count": 101,
     "metadata": {},
     "output_type": "execute_result"
    }
   ],
   "source": [
    "# Set the elements to be non-duplicated\n",
    "np.random.choice(data, (3,3), replace = False)"
   ]
  },
  {
   "cell_type": "markdown",
   "id": "1bb276a7",
   "metadata": {},
   "source": [
    "The probabilities associated with each entry in a. If not given, the sample assumes a uniform distribution over all entries in a."
   ]
  },
  {
   "cell_type": "code",
   "execution_count": 102,
   "id": "9028fcec",
   "metadata": {},
   "outputs": [
    {
     "data": {
      "text/plain": [
       "array([0, 2, 2, 1, 2, 1, 2, 1, 1, 2])"
      ]
     },
     "execution_count": 102,
     "metadata": {},
     "output_type": "execute_result"
    }
   ],
   "source": [
    "np.random.choice(3, 10, p = [0.3, 0.2, 0.5]) # p is the probablity for each element to be chosen in np.arange(3)"
   ]
  },
  {
   "cell_type": "code",
   "execution_count": 103,
   "id": "7ad6d6d6",
   "metadata": {},
   "outputs": [
    {
     "data": {
      "text/plain": [
       "array(['pooh', 'rabbit', 'pooh', 'pooh', 'Christopher'], dtype='<U11')"
      ]
     },
     "execution_count": 103,
     "metadata": {},
     "output_type": "execute_result"
    }
   ],
   "source": [
    "aa_milne_arr = ['pooh', 'rabbit', 'piglet', 'Christopher']\n",
    "np.random.choice(aa_milne_arr, 5, p = [0.5, 0.1, 0.1, 0.3])"
   ]
  },
  {
   "cell_type": "markdown",
   "id": "d5943cce",
   "metadata": {},
   "source": [
    "## Distribution random numbers\n",
    "### Normal distribution\n",
    "#### random.randn\n",
    "**Syntax**\n",
    "```python\n",
    "random.randn(d0, d1, ..., dn)\n",
    "```\n",
    "Return a sample (or samples) from the “standard normal” distribution."
   ]
  },
  {
   "cell_type": "code",
   "execution_count": 104,
   "id": "a1094374",
   "metadata": {},
   "outputs": [
    {
     "data": {
      "text/plain": [
       "array([[ 0.63902525,  0.6956892 , -0.30469091],\n",
       "       [ 0.75911813,  0.28144317,  2.99302878]])"
      ]
     },
     "execution_count": 104,
     "metadata": {},
     "output_type": "execute_result"
    }
   ],
   "source": [
    "a = np.random.randn(2, 3)\n",
    "a"
   ]
  },
  {
   "cell_type": "markdown",
   "id": "d867dafe",
   "metadata": {},
   "source": [
    "#### standard_normal\n",
    "**Syntax**\n",
    "```python\n",
    "random.standard_normal(size = None)\n",
    "```\n",
    "Draw samples from a standard Normal distribution (mean=0, stdev=1)."
   ]
  },
  {
   "cell_type": "code",
   "execution_count": 105,
   "id": "638186e7",
   "metadata": {},
   "outputs": [
    {
     "data": {
      "text/plain": [
       "array([[ 6.65877064, -2.29735772, -3.33286083,  2.12467372],\n",
       "       [ 2.03799283, -3.17244283,  2.65564999,  1.79798669]])"
      ]
     },
     "execution_count": 105,
     "metadata": {},
     "output_type": "execute_result"
    }
   ],
   "source": [
    "# Two-by-four array of samples from the normal distribution with mean 3 and standard deviation 2.5:\n",
    "3 + 2.5 * np.random.standard_normal(size = (2, 4))"
   ]
  },
  {
   "cell_type": "markdown",
   "id": "35c533ea",
   "metadata": {},
   "source": [
    "#### Normal Distribution\n",
    "**Syntax**\n",
    "```python\n",
    "random.normal(loc = 0.0, scale = 1.0, size = None)\n",
    "```\n",
    "Draw random samples from a normal (Gaussian) distribution."
   ]
  },
  {
   "cell_type": "code",
   "execution_count": 106,
   "id": "f0b254db",
   "metadata": {},
   "outputs": [
    {
     "data": {
      "image/png": "[encoded data removed]",
      "text/plain": [
       "<Figure size 800x500 with 1 Axes>"
      ]
     },
     "metadata": {},
     "output_type": "display_data"
    }
   ],
   "source": [
    "%matplotlib inline\n",
    "from matplotlib import pyplot as plt\n",
    "\n",
    "x = np.random.normal(1.75, 1, 100000) # mu = 1.75，sigma = 1 Gaussian\n",
    "\n",
    "plt.figure(figsize = (8, 5), dpi = 100)\n",
    "plt.hist(x, bins = 1000)\n",
    "plt.show()"
   ]
  },
  {
   "cell_type": "markdown",
   "id": "97c818be",
   "metadata": {},
   "source": [
    "#### Uniform Distribution\n",
    "**Syntax**\n",
    "```python\n",
    "random.uniform(low = 0.0, high = 1.0, size = None)\n",
    "```\n",
    "Draw samples from a uniform distribution.\n",
    "\n",
    "Samples are uniformly distributed over the half-open interval [low, high) (includes low, but excludes high). In other words, any value within the given interval is equally likely to be drawn by uniform."
   ]
  },
  {
   "cell_type": "code",
   "execution_count": 107,
   "id": "bac58e16",
   "metadata": {},
   "outputs": [
    {
     "data": {
      "text/plain": [
       "<function matplotlib.pyplot.show(close=None, block=None)>"
      ]
     },
     "execution_count": 107,
     "metadata": {},
     "output_type": "execute_result"
    },
    {
     "data": {
      "image/png": "[encoded data removed]",
      "text/plain": [
       "<Figure size 800x500 with 1 Axes>"
      ]
     },
     "metadata": {},
     "output_type": "display_data"
    }
   ],
   "source": [
    "x1 = np.random.uniform(-1, 1, 8000)\n",
    "plt.figure(figsize = (8,5), dpi = 100)\n",
    "plt.hist(x1, bins = 100)\n",
    "plt.show"
   ]
  },
  {
   "attachments": {
    "one_dimension_random_summary.png": {
     "image/png": "[encoded data removed]"
    }
   },
   "cell_type": "markdown",
   "id": "8bda0de9",
   "metadata": {},
   "source": [
    "#### Summary\n",
    "- One dimensional \n",
    "\n",
    "![one_dimension_random_summary.png](attachment:one_dimension_random_summary.png)"
   ]
  },
  {
   "attachments": {
    "two_dimension_random_summary.png": {
     "image/png": "[encoded data removed]"
    }
   },
   "cell_type": "markdown",
   "id": "457337b5",
   "metadata": {},
   "source": [
    "- Two dimensional\n",
    "\n",
    "![two_dimension_random_summary.png](attachment:two_dimension_random_summary.png)"
   ]
  },
  {
   "cell_type": "markdown",
   "id": "14362182",
   "metadata": {},
   "source": [
    "## Random sequences of array\n",
    "### random.shuffle(x)\n",
    "### random.permutation(x)"
   ]
  },
  {
   "cell_type": "markdown",
   "id": "9e184ce2",
   "metadata": {},
   "source": [
    "### random.seed\n",
    "To generate the same random numbers"
   ]
  },
  {
   "cell_type": "markdown",
   "id": "28795000",
   "metadata": {},
   "source": [
    "# Numpy Date "
   ]
  },
  {
   "cell_type": "code",
   "execution_count": 108,
   "id": "f8dba8e7",
   "metadata": {},
   "outputs": [
    {
     "data": {
      "text/plain": [
       "numpy.datetime64('2023-05-10T03:13:10')"
      ]
     },
     "execution_count": 108,
     "metadata": {},
     "output_type": "execute_result"
    }
   ],
   "source": [
    "# create datetime64 objective\n",
    "date64 = np.datetime64('2023-05-10 03:13:10')\n",
    "date64"
   ]
  },
  {
   "cell_type": "code",
   "execution_count": 109,
   "id": "d9917f68",
   "metadata": {},
   "outputs": [
    {
     "data": {
      "text/plain": [
       "numpy.datetime64('2023-05-10')"
      ]
     },
     "execution_count": 109,
     "metadata": {},
     "output_type": "execute_result"
    }
   ],
   "source": [
    "# seperate time from datatime64 date\n",
    "dt64 = np.datetime64(date64, 'D')\n",
    "dt64"
   ]
  },
  {
   "cell_type": "code",
   "execution_count": 110,
   "id": "44afe203",
   "metadata": {},
   "outputs": [
    {
     "name": "stdout",
     "output_type": "stream",
     "text": [
      "Add 10 days:  2023-05-20\n",
      "Add 10 minutes:  2023-05-10T00:10\n",
      "Add 10 seconds:  2023-05-10T00:00:10\n",
      "Add 10 nanoseconds:  2023-05-10T00:00:00.000000010\n"
     ]
    }
   ],
   "source": [
    "# Add any times in terms of seconds, mins by using np.timedelta\n",
    "\n",
    "tenminutes = np.timedelta64(10, 'm')  # 10 mins\n",
    "tenseconds = np.timedelta64(10, 's')  # 10 seconds\n",
    "tennanoseconds = np.timedelta64(10, 'ns')  # 10 ns\n",
    "\n",
    "print('Add 10 days: ', dt64 + 10)  # add 10 days\n",
    "print('Add 10 minutes: ', dt64 + tenminutes)  # add 10 mins\n",
    "print('Add 10 seconds: ', dt64 + tenseconds)\t# add 10 seconds\n",
    "print('Add 10 nanoseconds: ', dt64 + tennanoseconds)  # add 10 ns"
   ]
  },
  {
   "cell_type": "code",
   "execution_count": 111,
   "id": "96b4ea89",
   "metadata": {},
   "outputs": [
    {
     "name": "stdout",
     "output_type": "stream",
     "text": [
      "2023-05-10\n"
     ]
    }
   ],
   "source": [
    "# TO get yesterday dates, today dates and tomorrow\n",
    "yesterday = np.datetime64('today','D') - np.timedelta64(1,'D')\n",
    "today = np.datetime64('today','D')\n",
    "tommorow = np.datetime64('today','D') + np.timedelta64(1,'D')\n",
    "print(today)"
   ]
  },
  {
   "cell_type": "code",
   "execution_count": 112,
   "id": "e24d864c",
   "metadata": {},
   "outputs": [
    {
     "name": "stdout",
     "output_type": "stream",
     "text": [
      "['2023-05-01' '2023-05-02' '2023-05-03' '2023-05-04' '2023-05-05'\n",
      " '2023-05-06' '2023-05-07' '2023-05-08' '2023-05-09' '2023-05-10'\n",
      " '2023-05-11' '2023-05-12' '2023-05-13' '2023-05-14' '2023-05-15'\n",
      " '2023-05-16' '2023-05-17' '2023-05-18' '2023-05-19' '2023-05-20'\n",
      " '2023-05-21' '2023-05-22' '2023-05-23' '2023-05-24' '2023-05-25'\n",
      " '2023-05-26' '2023-05-27' '2023-05-28' '2023-05-29' '2023-05-30']\n"
     ]
    }
   ],
   "source": [
    "dates = np.arange(np.datetime64('2023-05-01'), np.datetime64('2023-05-31'))\n",
    "print(dates)"
   ]
  },
  {
   "cell_type": "code",
   "execution_count": 113,
   "id": "19019740",
   "metadata": {},
   "outputs": [
    {
     "name": "stdout",
     "output_type": "stream",
     "text": [
      "['2020-01' '2020-02' '2020-03' '2020-04' '2020-05' '2020-06' '2020-07'\n",
      " '2020-08' '2020-09' '2020-10' '2020-11' '2020-12' '2021-01' '2021-02'\n",
      " '2021-03' '2021-04' '2021-05' '2021-06' '2021-07' '2021-08' '2021-09'\n",
      " '2021-10' '2021-11' '2021-12' '2022-01' '2022-02' '2022-03' '2022-04'\n",
      " '2022-05' '2022-06' '2022-07' '2022-08' '2022-09' '2022-10' '2022-11'\n",
      " '2022-12' '2023-01' '2023-02' '2023-03' '2023-04' '2023-05' '2023-06'\n",
      " '2023-07' '2023-08' '2023-09' '2023-10' '2023-11']\n"
     ]
    }
   ],
   "source": [
    "dates = np.arange(np.datetime64('2020-01'), np.datetime64('2023-12'))\n",
    "print(dates)"
   ]
  },
  {
   "cell_type": "code",
   "execution_count": 114,
   "id": "019cf77b",
   "metadata": {},
   "outputs": [
    {
     "name": "stdout",
     "output_type": "stream",
     "text": [
      "date is 2023-05-10, type is <class 'numpy.str_'>\n"
     ]
    }
   ],
   "source": [
    "# Convert the date format to string using np.datetime_as_string()\n",
    "a = np.datetime_as_string(dt64)\n",
    "print(f\"date is {a}, type is {type(a)}\")"
   ]
  },
  {
   "cell_type": "code",
   "execution_count": 115,
   "id": "cc278121",
   "metadata": {},
   "outputs": [
    {
     "name": "stdout",
     "output_type": "stream",
     "text": [
      "Before： <class 'numpy.datetime64'>\n",
      "After： <class 'datetime.date'>\n"
     ]
    }
   ],
   "source": [
    "# np.datetime64 converted into datetime.date\n",
    "import datetime\n",
    "print('Before：',type(dt64))\n",
    "dt = dt64.tolist()\n",
    "print('After：',type(dt))"
   ]
  },
  {
   "cell_type": "code",
   "execution_count": 116,
   "id": "4eaea6c2",
   "metadata": {},
   "outputs": [
    {
     "name": "stdout",
     "output_type": "stream",
     "text": [
      "Year:  2023\n",
      "Day of month:  10\n",
      "Month of year:  5\n",
      "Day of Week:  2\n"
     ]
    }
   ],
   "source": [
    "# To get datatime object day, month, year that is very convinient\n",
    "print('Year: ', dt.year)  \n",
    "print('Day of month: ', dt.day)\n",
    "print('Month of year: ', dt.month)  \n",
    "print('Day of Week: ', dt.weekday()) "
   ]
  },
  {
   "cell_type": "markdown",
   "id": "c3c489f4",
   "metadata": {},
   "source": [
    "# Numpy Mathematic Operation\n",
    "\n",
    "| function                   |        Description   |\n",
    "| ---------------------- | ------------------------ |\n",
    "| sqrt()                 | square root              |\n",
    "| sin()、cos()           |   Trigonometric Identities  |\n",
    "| abs()                  | Absolute Values          |\n",
    "| dot()                  | Dot product              |\n",
    "| log()、logl()、log2()  | logarithmic              |\n",
    "| exp()                  | Exponential              |\n",
    "| cumsum()、cumproduct() | Cum sum and cum product  |\n",
    "| sum()                  | Sum |\n",
    "| mean()                 | Mean                 |\n",
    "| median()               | Median               |\n",
    "| std()                  | Std               |\n",
    "| var()                  | Variance                 |\n",
    "| corrcoef()             | Person linear coefficient|"
   ]
  },
  {
   "cell_type": "markdown",
   "id": "35f55a25",
   "metadata": {},
   "source": [
    "## np.floor(), np.ceil(), np.round()"
   ]
  },
  {
   "cell_type": "markdown",
   "id": "e3c457b7",
   "metadata": {},
   "source": [
    "## Solve(a,b)\n",
    "Calculate the linear system equation.\n",
    "\n",
    "$x + y + z = 6$\n",
    "\n",
    "$2y + 5z = -4$\n",
    "\n",
    "$2x + 5y - z = 27$\n",
    "\n"
   ]
  },
  {
   "cell_type": "code",
   "execution_count": 117,
   "id": "65b27b49",
   "metadata": {},
   "outputs": [
    {
     "name": "stdout",
     "output_type": "stream",
     "text": [
      "[ 5.  3. -2.]\n"
     ]
    }
   ],
   "source": [
    "a = [[1,1,1],[0,2,5],[2,5,-1]]\n",
    "b = [6,-4,27]\n",
    "print (np.linalg.solve(a,b))"
   ]
  },
  {
   "cell_type": "markdown",
   "id": "ab4a550d",
   "metadata": {},
   "source": [
    "## Inverse of a matrix"
   ]
  },
  {
   "cell_type": "markdown",
   "id": "0643f2a6",
   "metadata": {},
   "source": [
    "## Logic Operation : all(), any(), where()"
   ]
  },
  {
   "cell_type": "markdown",
   "id": "5af5a8ce",
   "metadata": {},
   "source": [
    "# Statistical Related"
   ]
  },
  {
   "cell_type": "code",
   "execution_count": null,
   "id": "a62a4651",
   "metadata": {},
   "outputs": [],
   "source": []
  }
 ],
 "metadata": {
  "kernelspec": {
   "display_name": "Python 3 (ipykernel)",
   "language": "python",
   "name": "python3"
  },
  "language_info": {
   "codemirror_mode": {
    "name": "ipython",
    "version": 3
   },
   "file_extension": ".py",
   "mimetype": "text/x-python",
   "name": "python",
   "nbconvert_exporter": "python",
   "pygments_lexer": "ipython3",
   "version": "3.10.7"
  },
  "toc": {
   "base_numbering": 1,
   "nav_menu": {},
   "number_sections": true,
   "sideBar": true,
   "skip_h1_title": false,
   "title_cell": "Table of Contents",
   "title_sidebar": "Contents",
   "toc_cell": false,
   "toc_position": {
    "height": "calc(100% - 180px)",
    "left": "10px",
    "top": "150px",
    "width": "402.042px"
   },
   "toc_section_display": true,
   "toc_window_display": true
  }
 },
 "nbformat": 4,
 "nbformat_minor": 5
}
